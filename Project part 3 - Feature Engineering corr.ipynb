{
 "cells": [
  {
   "cell_type": "markdown",
   "id": "95797a47",
   "metadata": {},
   "source": [
    "# Part 3 - Feature Engineering"
   ]
  },
  {
   "cell_type": "code",
   "execution_count": 1,
   "id": "e2e9d103",
   "metadata": {},
   "outputs": [],
   "source": [
    "# Load Packages\n",
    "\n",
    "import numpy as np\n",
    "import pandas as pd\n",
    "import seaborn as sns\n",
    "import matplotlib.pyplot as plt\n",
    "from scipy import stats"
   ]
  },
  {
   "cell_type": "code",
   "execution_count": 2,
   "id": "de608142",
   "metadata": {},
   "outputs": [
    {
     "data": {
      "text/html": [
       "<div>\n",
       "<style scoped>\n",
       "    .dataframe tbody tr th:only-of-type {\n",
       "        vertical-align: middle;\n",
       "    }\n",
       "\n",
       "    .dataframe tbody tr th {\n",
       "        vertical-align: top;\n",
       "    }\n",
       "\n",
       "    .dataframe thead th {\n",
       "        text-align: right;\n",
       "    }\n",
       "</style>\n",
       "<table border=\"1\" class=\"dataframe\">\n",
       "  <thead>\n",
       "    <tr style=\"text-align: right;\">\n",
       "      <th></th>\n",
       "      <th>loan_status</th>\n",
       "      <th>loan_amnt</th>\n",
       "      <th>term</th>\n",
       "      <th>int_rate</th>\n",
       "      <th>installment</th>\n",
       "      <th>sub_grade</th>\n",
       "      <th>emp_length</th>\n",
       "      <th>home_ownership</th>\n",
       "      <th>annual_inc</th>\n",
       "      <th>verification_status</th>\n",
       "      <th>...</th>\n",
       "      <th>earliest_cr_line</th>\n",
       "      <th>fico_range_low</th>\n",
       "      <th>fico_range_high</th>\n",
       "      <th>inq_last_6mths</th>\n",
       "      <th>open_acc</th>\n",
       "      <th>pub_rec</th>\n",
       "      <th>revol_bal</th>\n",
       "      <th>revol_util</th>\n",
       "      <th>total_acc</th>\n",
       "      <th>pub_rec_bankruptcies</th>\n",
       "    </tr>\n",
       "  </thead>\n",
       "  <tbody>\n",
       "    <tr>\n",
       "      <th>0</th>\n",
       "      <td>1</td>\n",
       "      <td>5000.0</td>\n",
       "      <td>36</td>\n",
       "      <td>10.65</td>\n",
       "      <td>162.87</td>\n",
       "      <td>B2</td>\n",
       "      <td>10.0</td>\n",
       "      <td>RENT</td>\n",
       "      <td>24000.0</td>\n",
       "      <td>Verified</td>\n",
       "      <td>...</td>\n",
       "      <td>1985-01-01</td>\n",
       "      <td>735.0</td>\n",
       "      <td>739.0</td>\n",
       "      <td>1.0</td>\n",
       "      <td>3.0</td>\n",
       "      <td>0.0</td>\n",
       "      <td>13648.0</td>\n",
       "      <td>83.7</td>\n",
       "      <td>9.0</td>\n",
       "      <td>0.0</td>\n",
       "    </tr>\n",
       "    <tr>\n",
       "      <th>1</th>\n",
       "      <td>0</td>\n",
       "      <td>2500.0</td>\n",
       "      <td>60</td>\n",
       "      <td>15.27</td>\n",
       "      <td>59.83</td>\n",
       "      <td>C4</td>\n",
       "      <td>0.0</td>\n",
       "      <td>RENT</td>\n",
       "      <td>30000.0</td>\n",
       "      <td>Source Verified</td>\n",
       "      <td>...</td>\n",
       "      <td>1999-04-01</td>\n",
       "      <td>740.0</td>\n",
       "      <td>744.0</td>\n",
       "      <td>5.0</td>\n",
       "      <td>3.0</td>\n",
       "      <td>0.0</td>\n",
       "      <td>1687.0</td>\n",
       "      <td>9.4</td>\n",
       "      <td>4.0</td>\n",
       "      <td>0.0</td>\n",
       "    </tr>\n",
       "    <tr>\n",
       "      <th>2</th>\n",
       "      <td>1</td>\n",
       "      <td>2400.0</td>\n",
       "      <td>36</td>\n",
       "      <td>15.96</td>\n",
       "      <td>84.33</td>\n",
       "      <td>C5</td>\n",
       "      <td>10.0</td>\n",
       "      <td>RENT</td>\n",
       "      <td>12252.0</td>\n",
       "      <td>Not Verified</td>\n",
       "      <td>...</td>\n",
       "      <td>2001-11-01</td>\n",
       "      <td>735.0</td>\n",
       "      <td>739.0</td>\n",
       "      <td>2.0</td>\n",
       "      <td>2.0</td>\n",
       "      <td>0.0</td>\n",
       "      <td>2956.0</td>\n",
       "      <td>98.5</td>\n",
       "      <td>10.0</td>\n",
       "      <td>0.0</td>\n",
       "    </tr>\n",
       "    <tr>\n",
       "      <th>3</th>\n",
       "      <td>1</td>\n",
       "      <td>10000.0</td>\n",
       "      <td>36</td>\n",
       "      <td>13.49</td>\n",
       "      <td>339.31</td>\n",
       "      <td>C1</td>\n",
       "      <td>10.0</td>\n",
       "      <td>RENT</td>\n",
       "      <td>49200.0</td>\n",
       "      <td>Source Verified</td>\n",
       "      <td>...</td>\n",
       "      <td>1996-02-01</td>\n",
       "      <td>690.0</td>\n",
       "      <td>694.0</td>\n",
       "      <td>1.0</td>\n",
       "      <td>10.0</td>\n",
       "      <td>0.0</td>\n",
       "      <td>5598.0</td>\n",
       "      <td>21.0</td>\n",
       "      <td>37.0</td>\n",
       "      <td>0.0</td>\n",
       "    </tr>\n",
       "    <tr>\n",
       "      <th>4</th>\n",
       "      <td>1</td>\n",
       "      <td>3000.0</td>\n",
       "      <td>60</td>\n",
       "      <td>12.69</td>\n",
       "      <td>67.79</td>\n",
       "      <td>B5</td>\n",
       "      <td>1.0</td>\n",
       "      <td>RENT</td>\n",
       "      <td>80000.0</td>\n",
       "      <td>Source Verified</td>\n",
       "      <td>...</td>\n",
       "      <td>1996-01-01</td>\n",
       "      <td>695.0</td>\n",
       "      <td>699.0</td>\n",
       "      <td>0.0</td>\n",
       "      <td>15.0</td>\n",
       "      <td>0.0</td>\n",
       "      <td>27783.0</td>\n",
       "      <td>53.9</td>\n",
       "      <td>38.0</td>\n",
       "      <td>0.0</td>\n",
       "    </tr>\n",
       "  </tbody>\n",
       "</table>\n",
       "<p>5 rows × 25 columns</p>\n",
       "</div>"
      ],
      "text/plain": [
       "   loan_status  loan_amnt  term  int_rate  installment sub_grade  emp_length  \\\n",
       "0            1     5000.0    36     10.65       162.87        B2        10.0   \n",
       "1            0     2500.0    60     15.27        59.83        C4         0.0   \n",
       "2            1     2400.0    36     15.96        84.33        C5        10.0   \n",
       "3            1    10000.0    36     13.49       339.31        C1        10.0   \n",
       "4            1     3000.0    60     12.69        67.79        B5         1.0   \n",
       "\n",
       "  home_ownership  annual_inc verification_status  ... earliest_cr_line  \\\n",
       "0           RENT     24000.0            Verified  ...       1985-01-01   \n",
       "1           RENT     30000.0     Source Verified  ...       1999-04-01   \n",
       "2           RENT     12252.0        Not Verified  ...       2001-11-01   \n",
       "3           RENT     49200.0     Source Verified  ...       1996-02-01   \n",
       "4           RENT     80000.0     Source Verified  ...       1996-01-01   \n",
       "\n",
       "  fico_range_low fico_range_high  inq_last_6mths  open_acc pub_rec  revol_bal  \\\n",
       "0          735.0           739.0             1.0       3.0     0.0    13648.0   \n",
       "1          740.0           744.0             5.0       3.0     0.0     1687.0   \n",
       "2          735.0           739.0             2.0       2.0     0.0     2956.0   \n",
       "3          690.0           694.0             1.0      10.0     0.0     5598.0   \n",
       "4          695.0           699.0             0.0      15.0     0.0    27783.0   \n",
       "\n",
       "   revol_util  total_acc  pub_rec_bankruptcies  \n",
       "0        83.7        9.0                   0.0  \n",
       "1         9.4        4.0                   0.0  \n",
       "2        98.5       10.0                   0.0  \n",
       "3        21.0       37.0                   0.0  \n",
       "4        53.9       38.0                   0.0  \n",
       "\n",
       "[5 rows x 25 columns]"
      ]
     },
     "metadata": {},
     "output_type": "display_data"
    }
   ],
   "source": [
    "# Load dataset\n",
    "\n",
    "df = pd.read_csv('Part_2.csv')\n",
    "\n",
    "display(df.head())"
   ]
  },
  {
   "cell_type": "code",
   "execution_count": 3,
   "id": "442b192f",
   "metadata": {},
   "outputs": [
    {
     "data": {
      "text/plain": [
       "(39786, 25)"
      ]
     },
     "execution_count": 3,
     "metadata": {},
     "output_type": "execute_result"
    }
   ],
   "source": [
    "df.shape"
   ]
  },
  {
   "cell_type": "code",
   "execution_count": 4,
   "id": "60a5038d",
   "metadata": {},
   "outputs": [
    {
     "name": "stdout",
     "output_type": "stream",
     "text": [
      "<class 'pandas.core.frame.DataFrame'>\n",
      "RangeIndex: 39786 entries, 0 to 39785\n",
      "Data columns (total 25 columns):\n",
      " #   Column                Non-Null Count  Dtype  \n",
      "---  ------                --------------  -----  \n",
      " 0   loan_status           39786 non-null  int64  \n",
      " 1   loan_amnt             39786 non-null  float64\n",
      " 2   term                  39786 non-null  int64  \n",
      " 3   int_rate              39786 non-null  float64\n",
      " 4   installment           39786 non-null  float64\n",
      " 5   sub_grade             39786 non-null  object \n",
      " 6   emp_length            39786 non-null  float64\n",
      " 7   home_ownership        39786 non-null  object \n",
      " 8   annual_inc            39786 non-null  float64\n",
      " 9   verification_status   39786 non-null  object \n",
      " 10  issue_d               39786 non-null  object \n",
      " 11  purpose               39786 non-null  object \n",
      " 12  addr_state            39786 non-null  object \n",
      " 13  dti                   39786 non-null  float64\n",
      " 14  delinq_2yrs           39786 non-null  float64\n",
      " 15  earliest_cr_line      39786 non-null  object \n",
      " 16  fico_range_low        39786 non-null  float64\n",
      " 17  fico_range_high       39786 non-null  float64\n",
      " 18  inq_last_6mths        39786 non-null  float64\n",
      " 19  open_acc              39786 non-null  float64\n",
      " 20  pub_rec               39786 non-null  float64\n",
      " 21  revol_bal             39786 non-null  float64\n",
      " 22  revol_util            39786 non-null  float64\n",
      " 23  total_acc             39786 non-null  float64\n",
      " 24  pub_rec_bankruptcies  39786 non-null  float64\n",
      "dtypes: float64(16), int64(2), object(7)\n",
      "memory usage: 7.6+ MB\n"
     ]
    }
   ],
   "source": [
    "df.info()"
   ]
  },
  {
   "cell_type": "markdown",
   "id": "d58dfb39",
   "metadata": {},
   "source": [
    "## Categorization of the 'fico_range_low', and 'fico_range_high' factors."
   ]
  },
  {
   "cell_type": "code",
   "execution_count": 5,
   "id": "896f93f2",
   "metadata": {},
   "outputs": [
    {
     "data": {
      "text/html": [
       "<div>\n",
       "<style scoped>\n",
       "    .dataframe tbody tr th:only-of-type {\n",
       "        vertical-align: middle;\n",
       "    }\n",
       "\n",
       "    .dataframe tbody tr th {\n",
       "        vertical-align: top;\n",
       "    }\n",
       "\n",
       "    .dataframe thead th {\n",
       "        text-align: right;\n",
       "    }\n",
       "</style>\n",
       "<table border=\"1\" class=\"dataframe\">\n",
       "  <thead>\n",
       "    <tr style=\"text-align: right;\">\n",
       "      <th></th>\n",
       "      <th>fico_range_low</th>\n",
       "      <th>fico_range_high</th>\n",
       "    </tr>\n",
       "  </thead>\n",
       "  <tbody>\n",
       "    <tr>\n",
       "      <th>count</th>\n",
       "      <td>39786.000000</td>\n",
       "      <td>39786.000000</td>\n",
       "    </tr>\n",
       "    <tr>\n",
       "      <th>mean</th>\n",
       "      <td>714.997989</td>\n",
       "      <td>718.997989</td>\n",
       "    </tr>\n",
       "    <tr>\n",
       "      <th>std</th>\n",
       "      <td>35.840682</td>\n",
       "      <td>35.840682</td>\n",
       "    </tr>\n",
       "    <tr>\n",
       "      <th>min</th>\n",
       "      <td>625.000000</td>\n",
       "      <td>629.000000</td>\n",
       "    </tr>\n",
       "    <tr>\n",
       "      <th>25%</th>\n",
       "      <td>685.000000</td>\n",
       "      <td>689.000000</td>\n",
       "    </tr>\n",
       "    <tr>\n",
       "      <th>50%</th>\n",
       "      <td>710.000000</td>\n",
       "      <td>714.000000</td>\n",
       "    </tr>\n",
       "    <tr>\n",
       "      <th>75%</th>\n",
       "      <td>740.000000</td>\n",
       "      <td>744.000000</td>\n",
       "    </tr>\n",
       "    <tr>\n",
       "      <th>max</th>\n",
       "      <td>825.000000</td>\n",
       "      <td>829.000000</td>\n",
       "    </tr>\n",
       "  </tbody>\n",
       "</table>\n",
       "</div>"
      ],
      "text/plain": [
       "       fico_range_low  fico_range_high\n",
       "count    39786.000000     39786.000000\n",
       "mean       714.997989       718.997989\n",
       "std         35.840682        35.840682\n",
       "min        625.000000       629.000000\n",
       "25%        685.000000       689.000000\n",
       "50%        710.000000       714.000000\n",
       "75%        740.000000       744.000000\n",
       "max        825.000000       829.000000"
      ]
     },
     "execution_count": 5,
     "metadata": {},
     "output_type": "execute_result"
    }
   ],
   "source": [
    "df[['fico_range_low', 'fico_range_high']].describe()"
   ]
  },
  {
   "cell_type": "code",
   "execution_count": 6,
   "id": "f5176a06",
   "metadata": {},
   "outputs": [
    {
     "data": {
      "text/html": [
       "<div>\n",
       "<style scoped>\n",
       "    .dataframe tbody tr th:only-of-type {\n",
       "        vertical-align: middle;\n",
       "    }\n",
       "\n",
       "    .dataframe tbody tr th {\n",
       "        vertical-align: top;\n",
       "    }\n",
       "\n",
       "    .dataframe thead th {\n",
       "        text-align: right;\n",
       "    }\n",
       "</style>\n",
       "<table border=\"1\" class=\"dataframe\">\n",
       "  <thead>\n",
       "    <tr style=\"text-align: right;\">\n",
       "      <th></th>\n",
       "      <th>fico_range_low</th>\n",
       "      <th>fico_range_high</th>\n",
       "    </tr>\n",
       "  </thead>\n",
       "  <tbody>\n",
       "    <tr>\n",
       "      <th>fico_range_low</th>\n",
       "      <td>1.0</td>\n",
       "      <td>1.0</td>\n",
       "    </tr>\n",
       "    <tr>\n",
       "      <th>fico_range_high</th>\n",
       "      <td>1.0</td>\n",
       "      <td>1.0</td>\n",
       "    </tr>\n",
       "  </tbody>\n",
       "</table>\n",
       "</div>"
      ],
      "text/plain": [
       "                 fico_range_low  fico_range_high\n",
       "fico_range_low              1.0              1.0\n",
       "fico_range_high             1.0              1.0"
      ]
     },
     "execution_count": 6,
     "metadata": {},
     "output_type": "execute_result"
    }
   ],
   "source": [
    "# Pearson correlation\n",
    "\n",
    "df[['fico_range_low','fico_range_high']].corr()"
   ]
  },
  {
   "cell_type": "markdown",
   "id": "8b05ef56",
   "metadata": {},
   "source": [
    "Both indicators are not needed, one average is enough: 'fico_score'"
   ]
  },
  {
   "cell_type": "code",
   "execution_count": 7,
   "id": "6a1f8976",
   "metadata": {},
   "outputs": [],
   "source": [
    "df['fico_score'] = 0.5 * df['fico_range_low'] + 0.5 * df['fico_range_high']"
   ]
  },
  {
   "cell_type": "code",
   "execution_count": 8,
   "id": "c52ea8e6",
   "metadata": {},
   "outputs": [],
   "source": [
    "df.drop(['fico_range_low', 'fico_range_high'], axis=1, inplace=True)"
   ]
  },
  {
   "cell_type": "code",
   "execution_count": 9,
   "id": "5965a5c9",
   "metadata": {},
   "outputs": [
    {
     "data": {
      "text/plain": [
       "count    39786.000000\n",
       "mean       716.997989\n",
       "std         35.840682\n",
       "min        627.000000\n",
       "25%        687.000000\n",
       "50%        712.000000\n",
       "75%        742.000000\n",
       "max        827.000000\n",
       "Name: fico_score, dtype: float64"
      ]
     },
     "execution_count": 9,
     "metadata": {},
     "output_type": "execute_result"
    }
   ],
   "source": [
    "df['fico_score'].describe()"
   ]
  },
  {
   "cell_type": "code",
   "execution_count": 10,
   "id": "a7fe10b0",
   "metadata": {},
   "outputs": [],
   "source": [
    "# Function for plots - 'plots1'\n",
    "\n",
    "name = df.columns\n",
    "\n",
    "def plots1(df, name):\n",
    "    fig, (ax1, ax2, ax3) = plt.subplots(1, 3, figsize = (13, 5))\n",
    "\n",
    "    #boxplot\n",
    "    sns.boxplot(x = name, data = df, orient = 'v', ax = ax1)\n",
    "    ax1.set_ylabel('Value', fontsize = 15)\n",
    "    ax1.set_title('Distribution of value', fontsize = 15)\n",
    "    ax1.tick_params(labelsize = 15)\n",
    "\n",
    "    #distplot\n",
    "    sns.distplot(df[name], ax = ax2)\n",
    "    ax2.set_xlabel('Value', fontsize = 15)\n",
    "    ax2.set_ylabel('Distribution of value', fontsize = 15)\n",
    "    ax2.set_title('Distplot', fontsize = 15)\n",
    "    ax2.tick_params(labelsize = 15)\n",
    "\n",
    "    #histogram\n",
    "    ax3.hist(df[name])\n",
    "    ax3.set_xlabel('value', fontsize = 15)\n",
    "    ax3.set_ylabel('Number of values', fontsize = 15)\n",
    "    ax3.set_title('Histogram', fontsize = 15)\n",
    "    ax3.tick_params(labelsize = 15)\n",
    "\n",
    "    plt.subplots_adjust(wspace = 0.5)\n",
    "    plt.tight_layout()"
   ]
  },
  {
   "cell_type": "code",
   "execution_count": 11,
   "id": "9776efae",
   "metadata": {},
   "outputs": [],
   "source": [
    "# Function for calculating the value difference between .max and .min - 'range'\n",
    "\n",
    "name = df.columns\n",
    "\n",
    "def range_v(df, name):\n",
    "    x = df[name].max() - df[name].min()\n",
    "    return x"
   ]
  },
  {
   "cell_type": "code",
   "execution_count": 12,
   "id": "74e55a5e",
   "metadata": {},
   "outputs": [],
   "source": [
    "# Function for calculating Quartiles - 'quartiles'\n",
    "\n",
    "name = df.columns\n",
    "\n",
    "def quartiles(df, name):\n",
    "    Q1 = df[name].quantile(q = 0.25)\n",
    "    Q3 = df[name].quantile(q = 0.75)\n",
    "    return Q1, Q3, stats.iqr(df[name])"
   ]
  },
  {
   "cell_type": "code",
   "execution_count": 13,
   "id": "9611db74",
   "metadata": {},
   "outputs": [],
   "source": [
    "# Function for outlier detection from Interquartile range (IQR) in original data - 'l_u'\n",
    "\n",
    "# IQR=Q3-Q1\n",
    "#lower 1.5 * IQR whisker i.e Q1 - 1.5*IQR\n",
    "#upper 1.5 * IQR whisker i.e Q3 + 1.5*IQR\n",
    "\n",
    "def l_u(df, name):\n",
    "    Q1 = df[name].quantile(q = 0.25)\n",
    "    Q3 = df[name].quantile(q = 0.75)\n",
    "    L_outliers = Q1 - 1.5 * (Q3 - Q1)\n",
    "    U_outliers = Q3 + 1.5 * (Q3-Q1)\n",
    "    return L_outliers, U_outliers"
   ]
  },
  {
   "cell_type": "code",
   "execution_count": 14,
   "id": "b9bebada",
   "metadata": {},
   "outputs": [],
   "source": [
    "# Function for calculating number and percetage of ouliers - 'outliers'\n",
    "\n",
    "name = df.columns\n",
    "\n",
    "def outliers(df, name):\n",
    "    Q1 = df[name].quantile(q = 0.25)\n",
    "    Q3 = df[name].quantile(q = 0.75)\n",
    "    (L_outliers, U_outliers) = l_u(df, name)\n",
    "    a = df[df[name] > U_outliers][name].count()\n",
    "    b = df[df[name] < L_outliers][name].count()\n",
    "    c = round(df[df[name] > U_outliers][name].count() * 100 / len(df))\n",
    "    d = round(df[df[name] < L_outliers][name].count() * 100 / len(df))\n",
    "    return a, b, c, d"
   ]
  },
  {
   "cell_type": "code",
   "execution_count": 15,
   "id": "f280dcdf",
   "metadata": {},
   "outputs": [
    {
     "name": "stderr",
     "output_type": "stream",
     "text": [
      "C:\\Python\\lib\\site-packages\\seaborn\\_core.py:1319: UserWarning: Vertical orientation ignored with only `x` specified.\n",
      "  warnings.warn(single_var_warning.format(\"Vertical\", \"x\"))\n",
      "C:\\Python\\lib\\site-packages\\seaborn\\distributions.py:2557: FutureWarning: `distplot` is a deprecated function and will be removed in a future version. Please adapt your code to use either `displot` (a figure-level function with similar flexibility) or `histplot` (an axes-level function for histograms).\n",
      "  warnings.warn(msg, FutureWarning)\n"
     ]
    },
    {
     "data": {
      "image/png": "[encoded data removed]",
      "text/plain": [
       "<Figure size 936x360 with 3 Axes>"
      ]
     },
     "metadata": {
      "needs_background": "light"
     },
     "output_type": "display_data"
    }
   ],
   "source": [
    "# Plots\n",
    "\n",
    "plots1(df, 'fico_score')"
   ]
  },
  {
   "cell_type": "code",
   "execution_count": 16,
   "id": "178319ef",
   "metadata": {},
   "outputs": [
    {
     "name": "stdout",
     "output_type": "stream",
     "text": [
      "Range of values:  200.0\n",
      "L_outliers, U_outliers:  (604.5, 824.5)\n",
      "Q1, Q3, IQR:  (687.0, 742.0, 55.0)\n",
      "No.U_outliers, No.L_outliers, %U, %L:  (3, 0, 0, 0)\n"
     ]
    }
   ],
   "source": [
    "# Range of values\n",
    "# Lower and Upper outliers\n",
    "# Quartiles\n",
    "# No. and % of outliers\n",
    "\n",
    "print('Range of values: ', range_v(df, 'fico_score'))\n",
    "print('L_outliers, U_outliers: ', l_u(df, 'fico_score'))\n",
    "print('Q1, Q3, IQR: ', quartiles(df, 'fico_score'))\n",
    "print('No.U_outliers, No.L_outliers, %U, %L: ', outliers(df, 'fico_score'))"
   ]
  },
  {
   "cell_type": "code",
   "execution_count": 17,
   "id": "c26bf630",
   "metadata": {},
   "outputs": [],
   "source": [
    "# Converting float to integer\n",
    "\n",
    "df['fico_score'] = df['fico_score'].astype(int, errors = 'raise')"
   ]
  },
  {
   "cell_type": "code",
   "execution_count": 18,
   "id": "f59ac14d",
   "metadata": {},
   "outputs": [],
   "source": [
    "# Function that converts fico into categories\n",
    "\n",
    "fico_score = df['fico_score']\n",
    "\n",
    "def fico_rate(fico_score):\n",
    "        if fico_score < 580:\n",
    "            fico_score = 'Poor'\n",
    "        elif fico_score >= 600 and fico_score < 670:\n",
    "            fico_score = 'Fair'\n",
    "        elif fico_score >= 670 and fico_score < 740:\n",
    "            fico_score = 'Good'\n",
    "        elif fico_score >= 740 and fico_score < 800:\n",
    "            fico_score = 'Very Good'\n",
    "        elif fico_score >= 800:\n",
    "            fico_score = 'Exceptional'\n",
    "        return fico_score"
   ]
  },
  {
   "cell_type": "code",
   "execution_count": 19,
   "id": "95c992b1",
   "metadata": {},
   "outputs": [],
   "source": [
    "df['fico_rating'] = df.fico_score.apply(fico_rate)"
   ]
  },
  {
   "cell_type": "code",
   "execution_count": 20,
   "id": "9fe8ebe2",
   "metadata": {},
   "outputs": [
    {
     "data": {
      "text/plain": [
       "Good           26021\n",
       "Very Good      10112\n",
       "Fair            3039\n",
       "Exceptional      614\n",
       "Name: fico_rating, dtype: int64"
      ]
     },
     "execution_count": 20,
     "metadata": {},
     "output_type": "execute_result"
    }
   ],
   "source": [
    "df['fico_rating'].value_counts()"
   ]
  },
  {
   "cell_type": "code",
   "execution_count": 21,
   "id": "06440288",
   "metadata": {},
   "outputs": [],
   "source": [
    "fico_rating = df['fico_score']\n",
    "\n",
    "def fico_rate_no(fico_rating):\n",
    "        if fico_rating == 'Fair':\n",
    "            fico_rating = 0\n",
    "        elif fico_rating == 'Good':\n",
    "            fico_rating = 1\n",
    "        elif fico_rating == 'Very Good':\n",
    "            fico_rating = 2\n",
    "        elif fico_rating == 'Exceptional':\n",
    "            fico_rating = 3\n",
    "        return fico_rating"
   ]
  },
  {
   "cell_type": "code",
   "execution_count": 22,
   "id": "9537a1fb",
   "metadata": {},
   "outputs": [],
   "source": [
    "df['fico_class'] = df.fico_rating.apply(fico_rate_no)"
   ]
  },
  {
   "cell_type": "code",
   "execution_count": 23,
   "id": "c61f7185",
   "metadata": {},
   "outputs": [
    {
     "data": {
      "text/plain": [
       "1    26021\n",
       "2    10112\n",
       "0     3039\n",
       "3      614\n",
       "Name: fico_class, dtype: int64"
      ]
     },
     "execution_count": 23,
     "metadata": {},
     "output_type": "execute_result"
    }
   ],
   "source": [
    "df['fico_class'].value_counts()"
   ]
  },
  {
   "cell_type": "code",
   "execution_count": 24,
   "id": "9caf20d1",
   "metadata": {},
   "outputs": [
    {
     "data": {
      "text/html": [
       "<div>\n",
       "<style scoped>\n",
       "    .dataframe tbody tr th:only-of-type {\n",
       "        vertical-align: middle;\n",
       "    }\n",
       "\n",
       "    .dataframe tbody tr th {\n",
       "        vertical-align: top;\n",
       "    }\n",
       "\n",
       "    .dataframe thead th {\n",
       "        text-align: right;\n",
       "    }\n",
       "</style>\n",
       "<table border=\"1\" class=\"dataframe\">\n",
       "  <thead>\n",
       "    <tr style=\"text-align: right;\">\n",
       "      <th></th>\n",
       "      <th>count</th>\n",
       "      <th>mean</th>\n",
       "      <th>std</th>\n",
       "      <th>min</th>\n",
       "      <th>25%</th>\n",
       "      <th>50%</th>\n",
       "      <th>75%</th>\n",
       "      <th>max</th>\n",
       "    </tr>\n",
       "    <tr>\n",
       "      <th>loan_status</th>\n",
       "      <th></th>\n",
       "      <th></th>\n",
       "      <th></th>\n",
       "      <th></th>\n",
       "      <th></th>\n",
       "      <th></th>\n",
       "      <th></th>\n",
       "      <th></th>\n",
       "    </tr>\n",
       "  </thead>\n",
       "  <tbody>\n",
       "    <tr>\n",
       "      <th>0</th>\n",
       "      <td>5670.0</td>\n",
       "      <td>1.045855</td>\n",
       "      <td>0.544392</td>\n",
       "      <td>0.0</td>\n",
       "      <td>1.0</td>\n",
       "      <td>1.0</td>\n",
       "      <td>1.0</td>\n",
       "      <td>3.0</td>\n",
       "    </tr>\n",
       "    <tr>\n",
       "      <th>1</th>\n",
       "      <td>34116.0</td>\n",
       "      <td>1.235696</td>\n",
       "      <td>0.593575</td>\n",
       "      <td>0.0</td>\n",
       "      <td>1.0</td>\n",
       "      <td>1.0</td>\n",
       "      <td>2.0</td>\n",
       "      <td>3.0</td>\n",
       "    </tr>\n",
       "  </tbody>\n",
       "</table>\n",
       "</div>"
      ],
      "text/plain": [
       "               count      mean       std  min  25%  50%  75%  max\n",
       "loan_status                                                      \n",
       "0             5670.0  1.045855  0.544392  0.0  1.0  1.0  1.0  3.0\n",
       "1            34116.0  1.235696  0.593575  0.0  1.0  1.0  2.0  3.0"
      ]
     },
     "execution_count": 24,
     "metadata": {},
     "output_type": "execute_result"
    }
   ],
   "source": [
    "df.groupby('loan_status')['fico_class'].describe()"
   ]
  },
  {
   "cell_type": "markdown",
   "id": "8c75f4d8",
   "metadata": {},
   "source": [
    "More loans with Fully Paid 'loan_status' have Category 2. "
   ]
  },
  {
   "cell_type": "markdown",
   "id": "c91eb221",
   "metadata": {},
   "source": [
    "## Columns, which are objects (the numbering continues from the previous file)."
   ]
  },
  {
   "cell_type": "markdown",
   "id": "c264b8c0",
   "metadata": {},
   "source": [
    "## 21. 'sub_grade' - LC assigned loan subgrade."
   ]
  },
  {
   "cell_type": "code",
   "execution_count": 25,
   "id": "4fb866bc",
   "metadata": {},
   "outputs": [
    {
     "data": {
      "text/plain": [
       "B3    2924\n",
       "A4    2886\n",
       "A5    2742\n",
       "B5    2709\n",
       "B4    2514\n",
       "C1    2142\n",
       "B2    2058\n",
       "C2    2014\n",
       "B1    1830\n",
       "A3    1810\n",
       "C3    1529\n",
       "A2    1508\n",
       "D2    1352\n",
       "C4    1238\n",
       "C5    1188\n",
       "D3    1178\n",
       "A1    1139\n",
       "D4     986\n",
       "D1     931\n",
       "D5     878\n",
       "E1     768\n",
       "E2     659\n",
       "E3     556\n",
       "E4     455\n",
       "E5     420\n",
       "F1     329\n",
       "F2     251\n",
       "F3     187\n",
       "F4     169\n",
       "F5     118\n",
       "G1     105\n",
       "G2      78\n",
       "G4      56\n",
       "G3      49\n",
       "G5      30\n",
       "Name: sub_grade, dtype: int64"
      ]
     },
     "execution_count": 25,
     "metadata": {},
     "output_type": "execute_result"
    }
   ],
   "source": [
    "df['sub_grade'].value_counts()"
   ]
  },
  {
   "cell_type": "code",
   "execution_count": 26,
   "id": "07119b22",
   "metadata": {},
   "outputs": [
    {
     "data": {
      "text/html": [
       "<div>\n",
       "<style scoped>\n",
       "    .dataframe tbody tr th:only-of-type {\n",
       "        vertical-align: middle;\n",
       "    }\n",
       "\n",
       "    .dataframe tbody tr th {\n",
       "        vertical-align: top;\n",
       "    }\n",
       "\n",
       "    .dataframe thead th {\n",
       "        text-align: right;\n",
       "    }\n",
       "</style>\n",
       "<table border=\"1\" class=\"dataframe\">\n",
       "  <thead>\n",
       "    <tr style=\"text-align: right;\">\n",
       "      <th></th>\n",
       "      <th>count</th>\n",
       "      <th>unique</th>\n",
       "      <th>top</th>\n",
       "      <th>freq</th>\n",
       "    </tr>\n",
       "    <tr>\n",
       "      <th>loan_status</th>\n",
       "      <th></th>\n",
       "      <th></th>\n",
       "      <th></th>\n",
       "      <th></th>\n",
       "    </tr>\n",
       "  </thead>\n",
       "  <tbody>\n",
       "    <tr>\n",
       "      <th>0</th>\n",
       "      <td>5670</td>\n",
       "      <td>35</td>\n",
       "      <td>B5</td>\n",
       "      <td>356</td>\n",
       "    </tr>\n",
       "    <tr>\n",
       "      <th>1</th>\n",
       "      <td>34116</td>\n",
       "      <td>35</td>\n",
       "      <td>A4</td>\n",
       "      <td>2708</td>\n",
       "    </tr>\n",
       "  </tbody>\n",
       "</table>\n",
       "</div>"
      ],
      "text/plain": [
       "             count unique top  freq\n",
       "loan_status                        \n",
       "0             5670     35  B5   356\n",
       "1            34116     35  A4  2708"
      ]
     },
     "execution_count": 26,
     "metadata": {},
     "output_type": "execute_result"
    }
   ],
   "source": [
    "df.groupby('loan_status')['sub_grade'].describe()"
   ]
  },
  {
   "cell_type": "markdown",
   "id": "136b7ed5",
   "metadata": {},
   "source": [
    "Most borrowers are in sub_grade B3. Sub_grade B5 has the largest number of borrowers with Charged Off status, and A4 borrowers with Fully Paid status."
   ]
  },
  {
   "cell_type": "code",
   "execution_count": 27,
   "id": "89ea2641",
   "metadata": {},
   "outputs": [],
   "source": [
    "sub_grade = df['sub_grade']\n",
    "\n",
    "def sub_grade_class(sub_grade):\n",
    "        if sub_grade == 'A1' or sub_grade == 'A2' or sub_grade == 'A3' or sub_grade == 'A4' or sub_grade == 'A5':\n",
    "            sub_grade = 1\n",
    "        elif sub_grade == 'B1' or sub_grade == 'B2' or sub_grade == 'B3' or sub_grade == 'B4' or sub_grade == 'B5':\n",
    "            sub_grade = 2\n",
    "        elif sub_grade == 'C1' or sub_grade == 'C2' or sub_grade == 'C3' or sub_grade == 'C4' or sub_grade == 'C5':\n",
    "            sub_grade = 3\n",
    "        elif sub_grade == 'D1' or sub_grade == 'D2' or sub_grade == 'D3' or sub_grade == 'D4' or sub_grade == 'D5':\n",
    "            sub_grade = 4\n",
    "        elif sub_grade == 'E1' or sub_grade == 'E2' or sub_grade == 'E3' or sub_grade == 'E4' or sub_grade == 'E5':\n",
    "            sub_grade = 5\n",
    "        elif sub_grade == 'F1' or sub_grade == 'F2' or sub_grade == 'F3' or sub_grade == 'F4' or sub_grade == 'F5':\n",
    "            sub_grade = 6\n",
    "        elif sub_grade == 'G1' or sub_grade == 'G2' or sub_grade == 'G3' or sub_grade == 'G4' or sub_grade == 'G5':\n",
    "            sub_grade = 7\n",
    "        return sub_grade"
   ]
  },
  {
   "cell_type": "code",
   "execution_count": 28,
   "id": "7e413e57",
   "metadata": {},
   "outputs": [],
   "source": [
    "df['sub_grade'] = df.sub_grade.apply(sub_grade_class)"
   ]
  },
  {
   "cell_type": "code",
   "execution_count": 29,
   "id": "2a0dced7",
   "metadata": {},
   "outputs": [
    {
     "data": {
      "text/plain": [
       "2    12035\n",
       "1    10085\n",
       "3     8111\n",
       "4     5325\n",
       "5     2858\n",
       "6     1054\n",
       "7      318\n",
       "Name: sub_grade, dtype: int64"
      ]
     },
     "execution_count": 29,
     "metadata": {},
     "output_type": "execute_result"
    }
   ],
   "source": [
    "df.sub_grade.value_counts()"
   ]
  },
  {
   "cell_type": "markdown",
   "id": "f6e21453",
   "metadata": {},
   "source": [
    "## 22. 'home_ownership' - The home ownership status provided by the borrower during registrationÂ or obtained from the credit report.Â Our values are: RENT, OWN, MORTGAGE, OTHER."
   ]
  },
  {
   "cell_type": "code",
   "execution_count": 30,
   "id": "5be70677",
   "metadata": {},
   "outputs": [
    {
     "data": {
      "text/plain": [
       "RENT        18918\n",
       "MORTGAGE    17703\n",
       "OWN          3064\n",
       "OTHER          98\n",
       "NONE            3\n",
       "Name: home_ownership, dtype: int64"
      ]
     },
     "execution_count": 30,
     "metadata": {},
     "output_type": "execute_result"
    }
   ],
   "source": [
    "df['home_ownership'].value_counts()"
   ]
  },
  {
   "cell_type": "code",
   "execution_count": 31,
   "id": "3c63d847",
   "metadata": {},
   "outputs": [
    {
     "data": {
      "text/html": [
       "<div>\n",
       "<style scoped>\n",
       "    .dataframe tbody tr th:only-of-type {\n",
       "        vertical-align: middle;\n",
       "    }\n",
       "\n",
       "    .dataframe tbody tr th {\n",
       "        vertical-align: top;\n",
       "    }\n",
       "\n",
       "    .dataframe thead th {\n",
       "        text-align: right;\n",
       "    }\n",
       "</style>\n",
       "<table border=\"1\" class=\"dataframe\">\n",
       "  <thead>\n",
       "    <tr style=\"text-align: right;\">\n",
       "      <th></th>\n",
       "      <th>count</th>\n",
       "      <th>unique</th>\n",
       "      <th>top</th>\n",
       "      <th>freq</th>\n",
       "    </tr>\n",
       "    <tr>\n",
       "      <th>loan_status</th>\n",
       "      <th></th>\n",
       "      <th></th>\n",
       "      <th></th>\n",
       "      <th></th>\n",
       "    </tr>\n",
       "  </thead>\n",
       "  <tbody>\n",
       "    <tr>\n",
       "      <th>0</th>\n",
       "      <td>5670</td>\n",
       "      <td>4</td>\n",
       "      <td>RENT</td>\n",
       "      <td>2855</td>\n",
       "    </tr>\n",
       "    <tr>\n",
       "      <th>1</th>\n",
       "      <td>34116</td>\n",
       "      <td>5</td>\n",
       "      <td>RENT</td>\n",
       "      <td>16063</td>\n",
       "    </tr>\n",
       "  </tbody>\n",
       "</table>\n",
       "</div>"
      ],
      "text/plain": [
       "             count unique   top   freq\n",
       "loan_status                           \n",
       "0             5670      4  RENT   2855\n",
       "1            34116      5  RENT  16063"
      ]
     },
     "execution_count": 31,
     "metadata": {},
     "output_type": "execute_result"
    }
   ],
   "source": [
    "df.groupby('loan_status')['home_ownership'].describe()"
   ]
  },
  {
   "cell_type": "markdown",
   "id": "77b4e4f3",
   "metadata": {},
   "source": [
    "Most borrowers rent a home or have a mortgage."
   ]
  },
  {
   "cell_type": "code",
   "execution_count": 32,
   "id": "8d7dda98",
   "metadata": {},
   "outputs": [],
   "source": [
    "# One hot encoding\n",
    "\n",
    "df = pd.get_dummies(df, columns = ['home_ownership'])"
   ]
  },
  {
   "cell_type": "markdown",
   "id": "37249e2a",
   "metadata": {},
   "source": [
    "## 23. 'verification_status' - Indicates if income was verified by LC, not verified, or if the income source was verified."
   ]
  },
  {
   "cell_type": "code",
   "execution_count": 33,
   "id": "5dfca105",
   "metadata": {},
   "outputs": [
    {
     "data": {
      "text/plain": [
       "Not Verified       16926\n",
       "Verified           12844\n",
       "Source Verified    10016\n",
       "Name: verification_status, dtype: int64"
      ]
     },
     "execution_count": 33,
     "metadata": {},
     "output_type": "execute_result"
    }
   ],
   "source": [
    "df['verification_status'].value_counts()"
   ]
  },
  {
   "cell_type": "code",
   "execution_count": 34,
   "id": "8fb31440",
   "metadata": {},
   "outputs": [
    {
     "data": {
      "text/html": [
       "<div>\n",
       "<style scoped>\n",
       "    .dataframe tbody tr th:only-of-type {\n",
       "        vertical-align: middle;\n",
       "    }\n",
       "\n",
       "    .dataframe tbody tr th {\n",
       "        vertical-align: top;\n",
       "    }\n",
       "\n",
       "    .dataframe thead th {\n",
       "        text-align: right;\n",
       "    }\n",
       "</style>\n",
       "<table border=\"1\" class=\"dataframe\">\n",
       "  <thead>\n",
       "    <tr style=\"text-align: right;\">\n",
       "      <th></th>\n",
       "      <th>count</th>\n",
       "      <th>unique</th>\n",
       "      <th>top</th>\n",
       "      <th>freq</th>\n",
       "    </tr>\n",
       "    <tr>\n",
       "      <th>loan_status</th>\n",
       "      <th></th>\n",
       "      <th></th>\n",
       "      <th></th>\n",
       "      <th></th>\n",
       "    </tr>\n",
       "  </thead>\n",
       "  <tbody>\n",
       "    <tr>\n",
       "      <th>0</th>\n",
       "      <td>5670</td>\n",
       "      <td>3</td>\n",
       "      <td>Not Verified</td>\n",
       "      <td>2144</td>\n",
       "    </tr>\n",
       "    <tr>\n",
       "      <th>1</th>\n",
       "      <td>34116</td>\n",
       "      <td>3</td>\n",
       "      <td>Not Verified</td>\n",
       "      <td>14782</td>\n",
       "    </tr>\n",
       "  </tbody>\n",
       "</table>\n",
       "</div>"
      ],
      "text/plain": [
       "             count unique           top   freq\n",
       "loan_status                                   \n",
       "0             5670      3  Not Verified   2144\n",
       "1            34116      3  Not Verified  14782"
      ]
     },
     "execution_count": 34,
     "metadata": {},
     "output_type": "execute_result"
    }
   ],
   "source": [
    "df.groupby('loan_status')['verification_status'].describe()"
   ]
  },
  {
   "cell_type": "code",
   "execution_count": 35,
   "id": "4266d128",
   "metadata": {},
   "outputs": [],
   "source": [
    "verificate = df['verification_status']\n",
    "\n",
    "def ver_stat(verificate):\n",
    "        if verificate == 'Not Verified':\n",
    "            verificate = 1\n",
    "        elif verificate == 'Source Verified':\n",
    "            verificate = 2\n",
    "        elif verificate == 'Verified':\n",
    "            verificate = 3\n",
    "        return verificate"
   ]
  },
  {
   "cell_type": "code",
   "execution_count": 36,
   "id": "03145e0f",
   "metadata": {},
   "outputs": [],
   "source": [
    "df['verif_stat'] = df.verification_status.apply(ver_stat)"
   ]
  },
  {
   "cell_type": "markdown",
   "id": "0b77d6ce",
   "metadata": {},
   "source": [
    "## 24. 'purpose' - A category provided by the borrower for the loan request."
   ]
  },
  {
   "cell_type": "code",
   "execution_count": 37,
   "id": "fa3be06b",
   "metadata": {},
   "outputs": [
    {
     "data": {
      "text/plain": [
       "debt_consolidation    18676\n",
       "credit_card            5137\n",
       "other                  4001\n",
       "home_improvement       2985\n",
       "major_purchase         2188\n",
       "small_business         1831\n",
       "car                    1551\n",
       "wedding                 948\n",
       "medical                 695\n",
       "moving                  583\n",
       "house                   382\n",
       "vacation                381\n",
       "educational             325\n",
       "renewable_energy        103\n",
       "Name: purpose, dtype: int64"
      ]
     },
     "execution_count": 37,
     "metadata": {},
     "output_type": "execute_result"
    }
   ],
   "source": [
    "df['purpose'].value_counts()"
   ]
  },
  {
   "cell_type": "markdown",
   "id": "9f277db3",
   "metadata": {},
   "source": [
    "Debt consolidation and credit card (generally: debt) are the main purposes of borrowers taking a loan."
   ]
  },
  {
   "cell_type": "code",
   "execution_count": 38,
   "id": "65b3e284",
   "metadata": {},
   "outputs": [
    {
     "data": {
      "text/html": [
       "<div>\n",
       "<style scoped>\n",
       "    .dataframe tbody tr th:only-of-type {\n",
       "        vertical-align: middle;\n",
       "    }\n",
       "\n",
       "    .dataframe tbody tr th {\n",
       "        vertical-align: top;\n",
       "    }\n",
       "\n",
       "    .dataframe thead th {\n",
       "        text-align: right;\n",
       "    }\n",
       "</style>\n",
       "<table border=\"1\" class=\"dataframe\">\n",
       "  <thead>\n",
       "    <tr style=\"text-align: right;\">\n",
       "      <th></th>\n",
       "      <th>count</th>\n",
       "      <th>unique</th>\n",
       "      <th>top</th>\n",
       "      <th>freq</th>\n",
       "    </tr>\n",
       "    <tr>\n",
       "      <th>loan_status</th>\n",
       "      <th></th>\n",
       "      <th></th>\n",
       "      <th></th>\n",
       "      <th></th>\n",
       "    </tr>\n",
       "  </thead>\n",
       "  <tbody>\n",
       "    <tr>\n",
       "      <th>0</th>\n",
       "      <td>5670</td>\n",
       "      <td>14</td>\n",
       "      <td>debt_consolidation</td>\n",
       "      <td>2792</td>\n",
       "    </tr>\n",
       "    <tr>\n",
       "      <th>1</th>\n",
       "      <td>34116</td>\n",
       "      <td>14</td>\n",
       "      <td>debt_consolidation</td>\n",
       "      <td>15884</td>\n",
       "    </tr>\n",
       "  </tbody>\n",
       "</table>\n",
       "</div>"
      ],
      "text/plain": [
       "             count unique                 top   freq\n",
       "loan_status                                         \n",
       "0             5670     14  debt_consolidation   2792\n",
       "1            34116     14  debt_consolidation  15884"
      ]
     },
     "execution_count": 38,
     "metadata": {},
     "output_type": "execute_result"
    }
   ],
   "source": [
    "df.groupby('loan_status')['purpose'].describe()"
   ]
  },
  {
   "cell_type": "code",
   "execution_count": 39,
   "id": "3489affa",
   "metadata": {},
   "outputs": [],
   "source": [
    "purpose = df['purpose']\n",
    "\n",
    "def goal(purpose):\n",
    "        if purpose == 'debt_consolidation' or purpose =='credit_card':\n",
    "            purpose = 1\n",
    "        elif purpose == 'home_improvement'or purpose == 'house' or purpose == 'renewable_energy' or purpose == 'moving':\n",
    "            purpose = 2\n",
    "        elif purpose == 'car' or purpose == 'vacation' or purpose == 'educational':\n",
    "            purpose = 3\n",
    "        else:\n",
    "            purpose = 4\n",
    "        return purpose"
   ]
  },
  {
   "cell_type": "code",
   "execution_count": 40,
   "id": "c84718c8",
   "metadata": {},
   "outputs": [],
   "source": [
    "df['purpose'] = df.purpose.apply(goal)"
   ]
  },
  {
   "cell_type": "markdown",
   "id": "680330dd",
   "metadata": {},
   "source": [
    "## 25. 'addr_state' - The state provided by the borrower in the loan application."
   ]
  },
  {
   "cell_type": "code",
   "execution_count": 41,
   "id": "77ec0996",
   "metadata": {},
   "outputs": [
    {
     "data": {
      "text/plain": [
       "CA    7105\n",
       "NY    3817\n",
       "FL    2872\n",
       "TX    2734\n",
       "NJ    1855\n",
       "IL    1525\n",
       "PA    1519\n",
       "VA    1408\n",
       "GA    1399\n",
       "MA    1344\n",
       "OH    1226\n",
       "MD    1055\n",
       "AZ     882\n",
       "WA     842\n",
       "CO     792\n",
       "NC     789\n",
       "CT     754\n",
       "MI     722\n",
       "MO     686\n",
       "MN     616\n",
       "NV     498\n",
       "SC     472\n",
       "WI     460\n",
       "AL     452\n",
       "OR     451\n",
       "LA     436\n",
       "KY     327\n",
       "OK     300\n",
       "KS     272\n",
       "UT     259\n",
       "AR     246\n",
       "DC     214\n",
       "RI     199\n",
       "NM     190\n",
       "WV     177\n",
       "HI     174\n",
       "NH     172\n",
       "DE     114\n",
       "MT      85\n",
       "WY      83\n",
       "AK      81\n",
       "SD      64\n",
       "VT      54\n",
       "MS      19\n",
       "TN      17\n",
       "IN       9\n",
       "ID       6\n",
       "NE       5\n",
       "IA       5\n",
       "ME       3\n",
       "Name: addr_state, dtype: int64"
      ]
     },
     "execution_count": 41,
     "metadata": {},
     "output_type": "execute_result"
    }
   ],
   "source": [
    "df['addr_state'].value_counts()"
   ]
  },
  {
   "cell_type": "code",
   "execution_count": 42,
   "id": "10c98117",
   "metadata": {},
   "outputs": [
    {
     "data": {
      "text/html": [
       "<div>\n",
       "<style scoped>\n",
       "    .dataframe tbody tr th:only-of-type {\n",
       "        vertical-align: middle;\n",
       "    }\n",
       "\n",
       "    .dataframe tbody tr th {\n",
       "        vertical-align: top;\n",
       "    }\n",
       "\n",
       "    .dataframe thead th {\n",
       "        text-align: right;\n",
       "    }\n",
       "</style>\n",
       "<table border=\"1\" class=\"dataframe\">\n",
       "  <thead>\n",
       "    <tr style=\"text-align: right;\">\n",
       "      <th></th>\n",
       "      <th>count</th>\n",
       "      <th>unique</th>\n",
       "      <th>top</th>\n",
       "      <th>freq</th>\n",
       "    </tr>\n",
       "    <tr>\n",
       "      <th>loan_status</th>\n",
       "      <th></th>\n",
       "      <th></th>\n",
       "      <th></th>\n",
       "      <th></th>\n",
       "    </tr>\n",
       "  </thead>\n",
       "  <tbody>\n",
       "    <tr>\n",
       "      <th>0</th>\n",
       "      <td>5670</td>\n",
       "      <td>47</td>\n",
       "      <td>CA</td>\n",
       "      <td>1131</td>\n",
       "    </tr>\n",
       "    <tr>\n",
       "      <th>1</th>\n",
       "      <td>34116</td>\n",
       "      <td>50</td>\n",
       "      <td>CA</td>\n",
       "      <td>5974</td>\n",
       "    </tr>\n",
       "  </tbody>\n",
       "</table>\n",
       "</div>"
      ],
      "text/plain": [
       "             count unique top  freq\n",
       "loan_status                        \n",
       "0             5670     47  CA  1131\n",
       "1            34116     50  CA  5974"
      ]
     },
     "execution_count": 42,
     "metadata": {},
     "output_type": "execute_result"
    }
   ],
   "source": [
    "df.groupby('loan_status')['addr_state'].describe()"
   ]
  },
  {
   "cell_type": "markdown",
   "id": "a0a78b7a",
   "metadata": {},
   "source": [
    "This (addr_state) column will be analyzed and split into others later in feature engenering."
   ]
  },
  {
   "cell_type": "code",
   "execution_count": 43,
   "id": "66a370c4",
   "metadata": {},
   "outputs": [
    {
     "data": {
      "text/plain": [
       "Index(['loan_status', 'loan_amnt', 'term', 'int_rate', 'installment',\n",
       "       'sub_grade', 'emp_length', 'annual_inc', 'verification_status',\n",
       "       'issue_d', 'purpose', 'addr_state', 'dti', 'delinq_2yrs',\n",
       "       'earliest_cr_line', 'inq_last_6mths', 'open_acc', 'pub_rec',\n",
       "       'revol_bal', 'revol_util', 'total_acc', 'pub_rec_bankruptcies',\n",
       "       'fico_score', 'fico_rating', 'fico_class', 'home_ownership_MORTGAGE',\n",
       "       'home_ownership_NONE', 'home_ownership_OTHER', 'home_ownership_OWN',\n",
       "       'home_ownership_RENT', 'verif_stat'],\n",
       "      dtype='object')"
      ]
     },
     "execution_count": 43,
     "metadata": {},
     "output_type": "execute_result"
    }
   ],
   "source": [
    "df.columns"
   ]
  },
  {
   "cell_type": "code",
   "execution_count": 44,
   "id": "e99e3c39",
   "metadata": {},
   "outputs": [
    {
     "data": {
      "text/plain": [
       "loan_status                0\n",
       "loan_amnt                  0\n",
       "term                       0\n",
       "int_rate                   0\n",
       "installment                0\n",
       "sub_grade                  0\n",
       "emp_length                 0\n",
       "annual_inc                 0\n",
       "verification_status        0\n",
       "issue_d                    0\n",
       "purpose                    0\n",
       "addr_state                 0\n",
       "dti                        0\n",
       "delinq_2yrs                0\n",
       "earliest_cr_line           0\n",
       "inq_last_6mths             0\n",
       "open_acc                   0\n",
       "pub_rec                    0\n",
       "revol_bal                  0\n",
       "revol_util                 0\n",
       "total_acc                  0\n",
       "pub_rec_bankruptcies       0\n",
       "fico_score                 0\n",
       "fico_rating                0\n",
       "fico_class                 0\n",
       "home_ownership_MORTGAGE    0\n",
       "home_ownership_NONE        0\n",
       "home_ownership_OTHER       0\n",
       "home_ownership_OWN         0\n",
       "home_ownership_RENT        0\n",
       "verif_stat                 0\n",
       "dtype: int64"
      ]
     },
     "execution_count": 44,
     "metadata": {},
     "output_type": "execute_result"
    }
   ],
   "source": [
    "# Missing Values\n",
    "\n",
    "df.isnull().sum()"
   ]
  },
  {
   "cell_type": "code",
   "execution_count": 45,
   "id": "05f41ef1",
   "metadata": {},
   "outputs": [],
   "source": [
    "# Number of outliers present in the dataset - Function\n",
    "# There is no trivial solution for a distance to the average, but usually, a value between 2 and 4 seems practical.\n",
    "# The value 4 was chosen.\n",
    "\n",
    "col = df.columns\n",
    "\n",
    "def outliers_no(df, col):\n",
    "    x = df[((df[col] - df[col].mean()) / df[col].std()).abs() > 4][col].count()\n",
    "    return x "
   ]
  },
  {
   "cell_type": "code",
   "execution_count": 46,
   "id": "27ba0b36",
   "metadata": {},
   "outputs": [
    {
     "name": "stdout",
     "output_type": "stream",
     "text": [
      "Number of outliers in loan_amnt:  0\n",
      "Number of outliers in term:  0\n",
      "Number of outliers in int_rate:  0\n",
      "Number of outliers in installment:  87\n",
      "Number of outliers in emp_length:  0\n",
      "Number of outliers in annual_inc:  154\n",
      "Number of outliers in dti:  0\n",
      "Number of outliers in delinq_2yrs:  323\n",
      "Number of outliers in inq_last_6mths:  114\n",
      "Number of outliers in open_acc:  105\n",
      "Number of outliers in pub_rec:  61\n",
      "Number of outliers in revol_bal:  492\n",
      "Number of outliers in revol_util:  0\n",
      "Number of outliers in total_acc:  19\n",
      "Number of outliers in pub_rec_bankruptcies:  1685\n",
      "Number of outliers in fico_score:  0\n",
      "Number of outliers in sub_grade:  0\n",
      "Number of outliers in verif_stat:  0\n",
      "Number of outliers in purpose:  0\n",
      "Number of outliers in fico_class:  0\n"
     ]
    }
   ],
   "source": [
    "print('Number of outliers in loan_amnt: ', outliers_no(df, 'loan_amnt'))\n",
    "print('Number of outliers in term: ', outliers_no(df, 'term'))\n",
    "print('Number of outliers in int_rate: ', outliers_no(df, 'int_rate'))\n",
    "print('Number of outliers in installment: ', outliers_no(df, 'installment'))\n",
    "print('Number of outliers in emp_length: ', outliers_no(df, 'emp_length'))\n",
    "print('Number of outliers in annual_inc: ', outliers_no(df, 'annual_inc'))\n",
    "print('Number of outliers in dti: ', outliers_no(df, 'dti'))\n",
    "print('Number of outliers in delinq_2yrs: ', outliers_no(df, 'delinq_2yrs'))\n",
    "print('Number of outliers in inq_last_6mths: ', outliers_no(df, 'inq_last_6mths'))\n",
    "print('Number of outliers in open_acc: ', outliers_no(df, 'open_acc'))\n",
    "print('Number of outliers in pub_rec: ', outliers_no(df, 'pub_rec'))\n",
    "print('Number of outliers in revol_bal: ', outliers_no(df, 'revol_bal'))\n",
    "print('Number of outliers in revol_util: ', outliers_no(df, 'revol_util'))\n",
    "print('Number of outliers in total_acc: ', outliers_no(df, 'total_acc'))\n",
    "print('Number of outliers in pub_rec_bankruptcies: ', outliers_no(df, 'pub_rec_bankruptcies'))\n",
    "print('Number of outliers in fico_score: ', outliers_no(df, 'fico_score'))\n",
    "print('Number of outliers in sub_grade: ', outliers_no(df, 'sub_grade'))\n",
    "print('Number of outliers in verif_stat: ', outliers_no(df, 'verif_stat'))\n",
    "print('Number of outliers in purpose: ', outliers_no(df, 'purpose'))\n",
    "print('Number of outliers in fico_class: ', outliers_no(df, 'fico_class'))"
   ]
  },
  {
   "cell_type": "code",
   "execution_count": 47,
   "id": "3af02491",
   "metadata": {},
   "outputs": [
    {
     "data": {
      "text/plain": [
       "311.11    68\n",
       "180.96    59\n",
       "311.02    54\n",
       "150.80    48\n",
       "368.45    46\n",
       "          ..\n",
       "720.65     1\n",
       "480.71     1\n",
       "316.16     1\n",
       "125.18     1\n",
       "339.26     1\n",
       "Name: installment, Length: 15405, dtype: int64"
      ]
     },
     "execution_count": 47,
     "metadata": {},
     "output_type": "execute_result"
    }
   ],
   "source": [
    "df['installment'].value_counts()"
   ]
  },
  {
   "cell_type": "markdown",
   "id": "33d1917f",
   "metadata": {},
   "source": [
    "This variable is too important to make changes with outliers."
   ]
  },
  {
   "cell_type": "code",
   "execution_count": 48,
   "id": "d1fe95ca",
   "metadata": {},
   "outputs": [
    {
     "data": {
      "text/plain": [
       "60000.0     1507\n",
       "50000.0     1060\n",
       "40000.0      876\n",
       "45000.0      834\n",
       "30000.0      825\n",
       "            ... \n",
       "61938.0        1\n",
       "49668.0        1\n",
       "58750.0        1\n",
       "59880.0        1\n",
       "140900.0       1\n",
       "Name: annual_inc, Length: 5323, dtype: int64"
      ]
     },
     "execution_count": 48,
     "metadata": {},
     "output_type": "execute_result"
    }
   ],
   "source": [
    "df['annual_inc'].value_counts()"
   ]
  },
  {
   "cell_type": "raw",
   "id": "bef2fc0b",
   "metadata": {},
   "source": [
    "This variable is too important to make changes with outliers."
   ]
  },
  {
   "cell_type": "code",
   "execution_count": 49,
   "id": "2611e646",
   "metadata": {},
   "outputs": [
    {
     "data": {
      "text/plain": [
       "0.0     35466\n",
       "1.0      3309\n",
       "2.0       688\n",
       "3.0       221\n",
       "4.0        62\n",
       "5.0        22\n",
       "6.0        10\n",
       "7.0         4\n",
       "8.0         2\n",
       "9.0         1\n",
       "11.0        1\n",
       "Name: delinq_2yrs, dtype: int64"
      ]
     },
     "execution_count": 49,
     "metadata": {},
     "output_type": "execute_result"
    }
   ],
   "source": [
    "df['delinq_2yrs'].value_counts()"
   ]
  },
  {
   "cell_type": "code",
   "execution_count": 50,
   "id": "5662b757",
   "metadata": {},
   "outputs": [
    {
     "data": {
      "text/plain": [
       "0.0    19337\n",
       "1.0    10986\n",
       "2.0     5824\n",
       "3.0     3053\n",
       "4.0      326\n",
       "5.0      146\n",
       "6.0       64\n",
       "7.0       35\n",
       "8.0       15\n",
       "Name: inq_last_6mths, dtype: int64"
      ]
     },
     "execution_count": 50,
     "metadata": {},
     "output_type": "execute_result"
    }
   ],
   "source": [
    "df['inq_last_6mths'].value_counts()"
   ]
  },
  {
   "cell_type": "code",
   "execution_count": 51,
   "id": "b2390b2e",
   "metadata": {},
   "outputs": [
    {
     "data": {
      "text/plain": [
       "7.0     4025\n",
       "6.0     3954\n",
       "8.0     3944\n",
       "9.0     3727\n",
       "10.0    3227\n",
       "5.0     3185\n",
       "11.0    2750\n",
       "4.0     2346\n",
       "12.0    2279\n",
       "13.0    1915\n",
       "3.0     1496\n",
       "14.0    1489\n",
       "15.0    1177\n",
       "16.0     941\n",
       "17.0     743\n",
       "2.0      608\n",
       "18.0     534\n",
       "19.0     396\n",
       "20.0     290\n",
       "21.0     244\n",
       "22.0     143\n",
       "23.0      98\n",
       "24.0      81\n",
       "25.0      55\n",
       "26.0      34\n",
       "28.0      25\n",
       "27.0      22\n",
       "30.0      15\n",
       "29.0      13\n",
       "31.0       7\n",
       "34.0       5\n",
       "35.0       4\n",
       "32.0       4\n",
       "33.0       3\n",
       "36.0       2\n",
       "39.0       1\n",
       "41.0       1\n",
       "44.0       1\n",
       "42.0       1\n",
       "38.0       1\n",
       "Name: open_acc, dtype: int64"
      ]
     },
     "execution_count": 51,
     "metadata": {},
     "output_type": "execute_result"
    }
   ],
   "source": [
    "df['open_acc'].value_counts()"
   ]
  },
  {
   "cell_type": "code",
   "execution_count": 52,
   "id": "8c49ee45",
   "metadata": {},
   "outputs": [
    {
     "name": "stdout",
     "output_type": "stream",
     "text": [
      "Records containing outliers in open_acc: \n",
      " 250      30.0\n",
      "602      27.0\n",
      "918      34.0\n",
      "1510     30.0\n",
      "2925     32.0\n",
      "         ... \n",
      "39444    35.0\n",
      "39496    42.0\n",
      "39523    30.0\n",
      "39648    27.0\n",
      "39702    28.0\n",
      "Name: open_acc, Length: 105, dtype: float64\n"
     ]
    }
   ],
   "source": [
    "print('Records containing outliers in open_acc: \\n', df[((df.open_acc - df.open_acc.mean()) / df.open_acc.std()).abs() >4]['open_acc'])"
   ]
  },
  {
   "cell_type": "code",
   "execution_count": 53,
   "id": "f8b62feb",
   "metadata": {},
   "outputs": [
    {
     "data": {
      "text/plain": [
       "count    105.000000\n",
       "mean      30.009524\n",
       "std        3.423604\n",
       "min       27.000000\n",
       "25%       28.000000\n",
       "50%       29.000000\n",
       "75%       31.000000\n",
       "max       44.000000\n",
       "Name: open_acc, dtype: float64"
      ]
     },
     "execution_count": 53,
     "metadata": {},
     "output_type": "execute_result"
    }
   ],
   "source": [
    "df0 = df[((df.open_acc - df.open_acc.mean()) / df.open_acc.std()).abs() >4]['open_acc']\n",
    "df0.describe()"
   ]
  },
  {
   "cell_type": "code",
   "execution_count": 54,
   "id": "dc05306b",
   "metadata": {},
   "outputs": [],
   "source": [
    "# Replacing the outliers by median\n",
    "\n",
    "median = df.loc[df['open_acc'] > 27, 'open_acc'].median()\n",
    "df.loc[df.open_acc > 27, 'open_acc'] = np.nan\n",
    "df.fillna(median,inplace=True)"
   ]
  },
  {
   "cell_type": "code",
   "execution_count": 55,
   "id": "a2aee490",
   "metadata": {},
   "outputs": [
    {
     "data": {
      "text/plain": [
       "7.0     4025\n",
       "6.0     3954\n",
       "8.0     3944\n",
       "9.0     3727\n",
       "10.0    3227\n",
       "5.0     3185\n",
       "11.0    2750\n",
       "4.0     2346\n",
       "12.0    2279\n",
       "13.0    1915\n",
       "3.0     1496\n",
       "14.0    1489\n",
       "15.0    1177\n",
       "16.0     941\n",
       "17.0     743\n",
       "2.0      608\n",
       "18.0     534\n",
       "19.0     396\n",
       "20.0     290\n",
       "21.0     244\n",
       "22.0     143\n",
       "23.0      98\n",
       "30.0      83\n",
       "24.0      81\n",
       "25.0      55\n",
       "26.0      34\n",
       "27.0      22\n",
       "Name: open_acc, dtype: int64"
      ]
     },
     "execution_count": 55,
     "metadata": {},
     "output_type": "execute_result"
    }
   ],
   "source": [
    "df['open_acc'].value_counts()"
   ]
  },
  {
   "cell_type": "code",
   "execution_count": 56,
   "id": "a1031698",
   "metadata": {},
   "outputs": [
    {
     "data": {
      "text/plain": [
       "0.0    37665\n",
       "1.0     2060\n",
       "2.0       51\n",
       "3.0        8\n",
       "4.0        2\n",
       "Name: pub_rec, dtype: int64"
      ]
     },
     "execution_count": 56,
     "metadata": {},
     "output_type": "execute_result"
    }
   ],
   "source": [
    "df['pub_rec'].value_counts()"
   ]
  },
  {
   "cell_type": "code",
   "execution_count": 57,
   "id": "f560f4b0",
   "metadata": {},
   "outputs": [
    {
     "data": {
      "text/plain": [
       "0.0        996\n",
       "255.0       14\n",
       "298.0       14\n",
       "1.0         12\n",
       "682.0       11\n",
       "          ... \n",
       "19534.0      1\n",
       "23477.0      1\n",
       "10942.0      1\n",
       "9825.0       1\n",
       "1174.0       1\n",
       "Name: revol_bal, Length: 21738, dtype: int64"
      ]
     },
     "execution_count": 57,
     "metadata": {},
     "output_type": "execute_result"
    }
   ],
   "source": [
    "df['revol_bal'].value_counts()"
   ]
  },
  {
   "cell_type": "code",
   "execution_count": 58,
   "id": "fa3a9c62",
   "metadata": {},
   "outputs": [
    {
     "name": "stdout",
     "output_type": "stream",
     "text": [
      "Records containing outliers in revol_bal: \n",
      " 417       93718.0\n",
      "1370     130920.0\n",
      "1434      84099.0\n",
      "1477     131949.0\n",
      "1495     124744.0\n",
      "           ...   \n",
      "39507    141287.0\n",
      "39623    148829.0\n",
      "39712    128000.0\n",
      "39714    107501.0\n",
      "39784     85607.0\n",
      "Name: revol_bal, Length: 492, dtype: float64\n"
     ]
    }
   ],
   "source": [
    "print('Records containing outliers in revol_bal: \\n', df[((df.revol_bal - df.revol_bal.mean()) / df.revol_bal.std()).abs() >4]['revol_bal'])"
   ]
  },
  {
   "cell_type": "code",
   "execution_count": 59,
   "id": "8039e093",
   "metadata": {},
   "outputs": [
    {
     "data": {
      "text/plain": [
       "count       492.000000\n",
       "mean     101265.365854\n",
       "std       19208.322203\n",
       "min       77034.000000\n",
       "25%       85345.000000\n",
       "50%       96463.000000\n",
       "75%      113511.750000\n",
       "max      149588.000000\n",
       "Name: revol_bal, dtype: float64"
      ]
     },
     "execution_count": 59,
     "metadata": {},
     "output_type": "execute_result"
    }
   ],
   "source": [
    "df1 = df[((df.revol_bal - df.revol_bal.mean()) / df.revol_bal.std()).abs() > 4]['revol_bal']\n",
    "df1.describe()"
   ]
  },
  {
   "cell_type": "code",
   "execution_count": 60,
   "id": "9ead2bf7",
   "metadata": {},
   "outputs": [],
   "source": [
    "# Replacing the outliers by median\n",
    "\n",
    "median = df.loc[df['revol_bal']>77034, 'revol_bal'].median()\n",
    "df.loc[df.revol_bal > 77034, 'revol_bal'] = np.nan\n",
    "df.fillna(median,inplace=True)"
   ]
  },
  {
   "cell_type": "code",
   "execution_count": 61,
   "id": "876d618d",
   "metadata": {},
   "outputs": [
    {
     "data": {
      "text/plain": [
       "0.0        996\n",
       "96468.0    491\n",
       "255.0       14\n",
       "298.0       14\n",
       "1.0         12\n",
       "          ... \n",
       "17970.0      1\n",
       "44017.0      1\n",
       "46226.0      1\n",
       "4422.0       1\n",
       "1174.0       1\n",
       "Name: revol_bal, Length: 21254, dtype: int64"
      ]
     },
     "execution_count": 61,
     "metadata": {},
     "output_type": "execute_result"
    }
   ],
   "source": [
    "df['revol_bal'].value_counts()"
   ]
  },
  {
   "cell_type": "code",
   "execution_count": 62,
   "id": "314b305b",
   "metadata": {},
   "outputs": [
    {
     "data": {
      "text/plain": [
       "16.0    1475\n",
       "15.0    1465\n",
       "17.0    1461\n",
       "14.0    1449\n",
       "20.0    1430\n",
       "        ... \n",
       "72.0       1\n",
       "87.0       1\n",
       "80.0       1\n",
       "78.0       1\n",
       "69.0       1\n",
       "Name: total_acc, Length: 82, dtype: int64"
      ]
     },
     "execution_count": 62,
     "metadata": {},
     "output_type": "execute_result"
    }
   ],
   "source": [
    "df['total_acc'].value_counts()"
   ]
  },
  {
   "cell_type": "code",
   "execution_count": 63,
   "id": "b7184ee9",
   "metadata": {},
   "outputs": [
    {
     "name": "stdout",
     "output_type": "stream",
     "text": [
      "Records containing outliers in total_acc: \n",
      " 336      79.0\n",
      "9490     77.0\n",
      "13634    87.0\n",
      "14508    75.0\n",
      "14791    72.0\n",
      "19271    78.0\n",
      "19303    76.0\n",
      "19784    74.0\n",
      "25514    79.0\n",
      "29360    81.0\n",
      "29539    90.0\n",
      "29611    80.0\n",
      "29759    75.0\n",
      "31590    71.0\n",
      "31613    69.0\n",
      "31658    73.0\n",
      "31718    70.0\n",
      "32160    68.0\n",
      "39496    76.0\n",
      "Name: total_acc, dtype: float64\n"
     ]
    }
   ],
   "source": [
    "print('Records containing outliers in total_acc: \\n', df[((df.total_acc - df.total_acc.mean()) / df.total_acc.std()).abs() >4]['total_acc'])"
   ]
  },
  {
   "cell_type": "code",
   "execution_count": 64,
   "id": "8bf60e4d",
   "metadata": {},
   "outputs": [
    {
     "data": {
      "text/plain": [
       "count    19.000000\n",
       "mean     76.315789\n",
       "std       5.696516\n",
       "min      68.000000\n",
       "25%      72.500000\n",
       "50%      76.000000\n",
       "75%      79.000000\n",
       "max      90.000000\n",
       "Name: total_acc, dtype: float64"
      ]
     },
     "execution_count": 64,
     "metadata": {},
     "output_type": "execute_result"
    }
   ],
   "source": [
    "df2 = df[((df.total_acc - df.total_acc.mean()) / df.total_acc.std()).abs() >4]['total_acc']\n",
    "df2.describe()"
   ]
  },
  {
   "cell_type": "code",
   "execution_count": 65,
   "id": "48bb2f59",
   "metadata": {},
   "outputs": [],
   "source": [
    "# Replacing the outliers by median\n",
    "\n",
    "median = df.loc[df['total_acc'] > 68, 'total_acc'].median()\n",
    "df.loc[df.revol_bal > 68, 'total_acc'] = np.nan\n",
    "df.fillna(median,inplace=True)"
   ]
  },
  {
   "cell_type": "code",
   "execution_count": 66,
   "id": "b19d68f4",
   "metadata": {},
   "outputs": [
    {
     "data": {
      "text/plain": [
       "76.0    38496\n",
       "9.0        68\n",
       "13.0       64\n",
       "10.0       63\n",
       "11.0       61\n",
       "8.0        58\n",
       "14.0       57\n",
       "5.0        54\n",
       "17.0       54\n",
       "12.0       50\n",
       "20.0       47\n",
       "21.0       44\n",
       "4.0        43\n",
       "7.0        42\n",
       "18.0       42\n",
       "16.0       41\n",
       "6.0        38\n",
       "22.0       36\n",
       "15.0       35\n",
       "24.0       30\n",
       "25.0       30\n",
       "19.0       29\n",
       "28.0       27\n",
       "23.0       27\n",
       "29.0       25\n",
       "30.0       24\n",
       "3.0        23\n",
       "26.0       19\n",
       "31.0       19\n",
       "27.0       19\n",
       "34.0       14\n",
       "32.0       14\n",
       "36.0       12\n",
       "33.0       11\n",
       "35.0        9\n",
       "38.0        9\n",
       "39.0        8\n",
       "43.0        6\n",
       "42.0        6\n",
       "41.0        5\n",
       "40.0        4\n",
       "37.0        4\n",
       "46.0        4\n",
       "44.0        4\n",
       "53.0        2\n",
       "47.0        2\n",
       "48.0        2\n",
       "52.0        2\n",
       "45.0        1\n",
       "63.0        1\n",
       "56.0        1\n",
       "Name: total_acc, dtype: int64"
      ]
     },
     "execution_count": 66,
     "metadata": {},
     "output_type": "execute_result"
    }
   ],
   "source": [
    "df['total_acc'].value_counts()"
   ]
  },
  {
   "cell_type": "code",
   "execution_count": 67,
   "id": "f9bbee6c",
   "metadata": {},
   "outputs": [
    {
     "data": {
      "text/plain": [
       "0.0    38101\n",
       "1.0     1678\n",
       "2.0        7\n",
       "Name: pub_rec_bankruptcies, dtype: int64"
      ]
     },
     "execution_count": 67,
     "metadata": {},
     "output_type": "execute_result"
    }
   ],
   "source": [
    "df['pub_rec_bankruptcies'].value_counts()"
   ]
  },
  {
   "cell_type": "code",
   "execution_count": 68,
   "id": "9138972b",
   "metadata": {},
   "outputs": [
    {
     "data": {
      "text/html": [
       "<div>\n",
       "<style scoped>\n",
       "    .dataframe tbody tr th:only-of-type {\n",
       "        vertical-align: middle;\n",
       "    }\n",
       "\n",
       "    .dataframe tbody tr th {\n",
       "        vertical-align: top;\n",
       "    }\n",
       "\n",
       "    .dataframe thead th {\n",
       "        text-align: right;\n",
       "    }\n",
       "</style>\n",
       "<table border=\"1\" class=\"dataframe\">\n",
       "  <thead>\n",
       "    <tr style=\"text-align: right;\">\n",
       "      <th></th>\n",
       "      <th>loan_status</th>\n",
       "      <th>loan_amnt</th>\n",
       "      <th>term</th>\n",
       "      <th>int_rate</th>\n",
       "      <th>installment</th>\n",
       "      <th>sub_grade</th>\n",
       "      <th>emp_length</th>\n",
       "      <th>annual_inc</th>\n",
       "      <th>verification_status</th>\n",
       "      <th>issue_d</th>\n",
       "      <th>...</th>\n",
       "      <th>pub_rec_bankruptcies</th>\n",
       "      <th>fico_score</th>\n",
       "      <th>fico_rating</th>\n",
       "      <th>fico_class</th>\n",
       "      <th>home_ownership_MORTGAGE</th>\n",
       "      <th>home_ownership_NONE</th>\n",
       "      <th>home_ownership_OTHER</th>\n",
       "      <th>home_ownership_OWN</th>\n",
       "      <th>home_ownership_RENT</th>\n",
       "      <th>verif_stat</th>\n",
       "    </tr>\n",
       "  </thead>\n",
       "  <tbody>\n",
       "    <tr>\n",
       "      <th>0</th>\n",
       "      <td>1</td>\n",
       "      <td>5000.0</td>\n",
       "      <td>36</td>\n",
       "      <td>10.65</td>\n",
       "      <td>162.87</td>\n",
       "      <td>2</td>\n",
       "      <td>10.0</td>\n",
       "      <td>24000.0</td>\n",
       "      <td>Verified</td>\n",
       "      <td>2011-12-01</td>\n",
       "      <td>...</td>\n",
       "      <td>0.0</td>\n",
       "      <td>737</td>\n",
       "      <td>Good</td>\n",
       "      <td>1</td>\n",
       "      <td>0</td>\n",
       "      <td>0</td>\n",
       "      <td>0</td>\n",
       "      <td>0</td>\n",
       "      <td>1</td>\n",
       "      <td>3</td>\n",
       "    </tr>\n",
       "    <tr>\n",
       "      <th>1</th>\n",
       "      <td>0</td>\n",
       "      <td>2500.0</td>\n",
       "      <td>60</td>\n",
       "      <td>15.27</td>\n",
       "      <td>59.83</td>\n",
       "      <td>3</td>\n",
       "      <td>0.0</td>\n",
       "      <td>30000.0</td>\n",
       "      <td>Source Verified</td>\n",
       "      <td>2011-12-01</td>\n",
       "      <td>...</td>\n",
       "      <td>0.0</td>\n",
       "      <td>742</td>\n",
       "      <td>Very Good</td>\n",
       "      <td>2</td>\n",
       "      <td>0</td>\n",
       "      <td>0</td>\n",
       "      <td>0</td>\n",
       "      <td>0</td>\n",
       "      <td>1</td>\n",
       "      <td>2</td>\n",
       "    </tr>\n",
       "    <tr>\n",
       "      <th>2</th>\n",
       "      <td>1</td>\n",
       "      <td>2400.0</td>\n",
       "      <td>36</td>\n",
       "      <td>15.96</td>\n",
       "      <td>84.33</td>\n",
       "      <td>3</td>\n",
       "      <td>10.0</td>\n",
       "      <td>12252.0</td>\n",
       "      <td>Not Verified</td>\n",
       "      <td>2011-12-01</td>\n",
       "      <td>...</td>\n",
       "      <td>0.0</td>\n",
       "      <td>737</td>\n",
       "      <td>Good</td>\n",
       "      <td>1</td>\n",
       "      <td>0</td>\n",
       "      <td>0</td>\n",
       "      <td>0</td>\n",
       "      <td>0</td>\n",
       "      <td>1</td>\n",
       "      <td>1</td>\n",
       "    </tr>\n",
       "    <tr>\n",
       "      <th>3</th>\n",
       "      <td>1</td>\n",
       "      <td>10000.0</td>\n",
       "      <td>36</td>\n",
       "      <td>13.49</td>\n",
       "      <td>339.31</td>\n",
       "      <td>3</td>\n",
       "      <td>10.0</td>\n",
       "      <td>49200.0</td>\n",
       "      <td>Source Verified</td>\n",
       "      <td>2011-12-01</td>\n",
       "      <td>...</td>\n",
       "      <td>0.0</td>\n",
       "      <td>692</td>\n",
       "      <td>Good</td>\n",
       "      <td>1</td>\n",
       "      <td>0</td>\n",
       "      <td>0</td>\n",
       "      <td>0</td>\n",
       "      <td>0</td>\n",
       "      <td>1</td>\n",
       "      <td>2</td>\n",
       "    </tr>\n",
       "    <tr>\n",
       "      <th>4</th>\n",
       "      <td>1</td>\n",
       "      <td>3000.0</td>\n",
       "      <td>60</td>\n",
       "      <td>12.69</td>\n",
       "      <td>67.79</td>\n",
       "      <td>2</td>\n",
       "      <td>1.0</td>\n",
       "      <td>80000.0</td>\n",
       "      <td>Source Verified</td>\n",
       "      <td>2011-12-01</td>\n",
       "      <td>...</td>\n",
       "      <td>0.0</td>\n",
       "      <td>697</td>\n",
       "      <td>Good</td>\n",
       "      <td>1</td>\n",
       "      <td>0</td>\n",
       "      <td>0</td>\n",
       "      <td>0</td>\n",
       "      <td>0</td>\n",
       "      <td>1</td>\n",
       "      <td>2</td>\n",
       "    </tr>\n",
       "  </tbody>\n",
       "</table>\n",
       "<p>5 rows × 31 columns</p>\n",
       "</div>"
      ],
      "text/plain": [
       "   loan_status  loan_amnt  term  int_rate  installment  sub_grade  emp_length  \\\n",
       "0            1     5000.0    36     10.65       162.87          2        10.0   \n",
       "1            0     2500.0    60     15.27        59.83          3         0.0   \n",
       "2            1     2400.0    36     15.96        84.33          3        10.0   \n",
       "3            1    10000.0    36     13.49       339.31          3        10.0   \n",
       "4            1     3000.0    60     12.69        67.79          2         1.0   \n",
       "\n",
       "   annual_inc verification_status     issue_d  ...  pub_rec_bankruptcies  \\\n",
       "0     24000.0            Verified  2011-12-01  ...                   0.0   \n",
       "1     30000.0     Source Verified  2011-12-01  ...                   0.0   \n",
       "2     12252.0        Not Verified  2011-12-01  ...                   0.0   \n",
       "3     49200.0     Source Verified  2011-12-01  ...                   0.0   \n",
       "4     80000.0     Source Verified  2011-12-01  ...                   0.0   \n",
       "\n",
       "  fico_score  fico_rating  fico_class home_ownership_MORTGAGE  \\\n",
       "0        737         Good           1                       0   \n",
       "1        742    Very Good           2                       0   \n",
       "2        737         Good           1                       0   \n",
       "3        692         Good           1                       0   \n",
       "4        697         Good           1                       0   \n",
       "\n",
       "   home_ownership_NONE  home_ownership_OTHER  home_ownership_OWN  \\\n",
       "0                    0                     0                   0   \n",
       "1                    0                     0                   0   \n",
       "2                    0                     0                   0   \n",
       "3                    0                     0                   0   \n",
       "4                    0                     0                   0   \n",
       "\n",
       "   home_ownership_RENT  verif_stat  \n",
       "0                    1           3  \n",
       "1                    1           2  \n",
       "2                    1           1  \n",
       "3                    1           2  \n",
       "4                    1           2  \n",
       "\n",
       "[5 rows x 31 columns]"
      ]
     },
     "metadata": {},
     "output_type": "display_data"
    }
   ],
   "source": [
    "display(df.head())"
   ]
  },
  {
   "cell_type": "code",
   "execution_count": 69,
   "id": "3b21532f",
   "metadata": {},
   "outputs": [
    {
     "data": {
      "text/plain": [
       "(39786, 31)"
      ]
     },
     "execution_count": 69,
     "metadata": {},
     "output_type": "execute_result"
    }
   ],
   "source": [
    "df.shape"
   ]
  },
  {
   "cell_type": "code",
   "execution_count": 70,
   "id": "a0e05f47",
   "metadata": {},
   "outputs": [
    {
     "name": "stdout",
     "output_type": "stream",
     "text": [
      "<class 'pandas.core.frame.DataFrame'>\n",
      "RangeIndex: 39786 entries, 0 to 39785\n",
      "Data columns (total 31 columns):\n",
      " #   Column                   Non-Null Count  Dtype  \n",
      "---  ------                   --------------  -----  \n",
      " 0   loan_status              39786 non-null  int64  \n",
      " 1   loan_amnt                39786 non-null  float64\n",
      " 2   term                     39786 non-null  int64  \n",
      " 3   int_rate                 39786 non-null  float64\n",
      " 4   installment              39786 non-null  float64\n",
      " 5   sub_grade                39786 non-null  int64  \n",
      " 6   emp_length               39786 non-null  float64\n",
      " 7   annual_inc               39786 non-null  float64\n",
      " 8   verification_status      39786 non-null  object \n",
      " 9   issue_d                  39786 non-null  object \n",
      " 10  purpose                  39786 non-null  int64  \n",
      " 11  addr_state               39786 non-null  object \n",
      " 12  dti                      39786 non-null  float64\n",
      " 13  delinq_2yrs              39786 non-null  float64\n",
      " 14  earliest_cr_line         39786 non-null  object \n",
      " 15  inq_last_6mths           39786 non-null  float64\n",
      " 16  open_acc                 39786 non-null  float64\n",
      " 17  pub_rec                  39786 non-null  float64\n",
      " 18  revol_bal                39786 non-null  float64\n",
      " 19  revol_util               39786 non-null  float64\n",
      " 20  total_acc                39786 non-null  float64\n",
      " 21  pub_rec_bankruptcies     39786 non-null  float64\n",
      " 22  fico_score               39786 non-null  int32  \n",
      " 23  fico_rating              39786 non-null  object \n",
      " 24  fico_class               39786 non-null  int64  \n",
      " 25  home_ownership_MORTGAGE  39786 non-null  uint8  \n",
      " 26  home_ownership_NONE      39786 non-null  uint8  \n",
      " 27  home_ownership_OTHER     39786 non-null  uint8  \n",
      " 28  home_ownership_OWN       39786 non-null  uint8  \n",
      " 29  home_ownership_RENT      39786 non-null  uint8  \n",
      " 30  verif_stat               39786 non-null  int64  \n",
      "dtypes: float64(14), int32(1), int64(6), object(5), uint8(5)\n",
      "memory usage: 7.9+ MB\n"
     ]
    }
   ],
   "source": [
    "df.info()"
   ]
  },
  {
   "cell_type": "code",
   "execution_count": 71,
   "id": "0b09b932",
   "metadata": {},
   "outputs": [
    {
     "data": {
      "text/plain": [
       "Index(['loan_status', 'loan_amnt', 'term', 'int_rate', 'installment',\n",
       "       'sub_grade', 'emp_length', 'annual_inc', 'verification_status',\n",
       "       'issue_d', 'purpose', 'addr_state', 'dti', 'delinq_2yrs',\n",
       "       'earliest_cr_line', 'inq_last_6mths', 'open_acc', 'pub_rec',\n",
       "       'revol_bal', 'revol_util', 'total_acc', 'pub_rec_bankruptcies',\n",
       "       'fico_score', 'fico_rating', 'fico_class', 'home_ownership_MORTGAGE',\n",
       "       'home_ownership_NONE', 'home_ownership_OTHER', 'home_ownership_OWN',\n",
       "       'home_ownership_RENT', 'verif_stat'],\n",
       "      dtype='object')"
      ]
     },
     "execution_count": 71,
     "metadata": {},
     "output_type": "execute_result"
    }
   ],
   "source": [
    "df.columns"
   ]
  },
  {
   "cell_type": "code",
   "execution_count": 72,
   "id": "762744d8",
   "metadata": {},
   "outputs": [],
   "source": [
    "# Exporting the new DataFrame to .csv file.\n",
    "\n",
    "df.to_csv('Part_2.1.csv', index = False)"
   ]
  },
  {
   "cell_type": "markdown",
   "id": "03ea75a1",
   "metadata": {},
   "source": [
    "## The new variables"
   ]
  },
  {
   "cell_type": "markdown",
   "id": "b4e39e6b",
   "metadata": {},
   "source": [
    "### 1. 'fico_score'\n",
    "The variable was made up of two others 'fico_range_low' and 'fico_range_high' ('fico_score' = 0.5*'fico_range_low' + 0.5*'fico_range_high')."
   ]
  },
  {
   "cell_type": "markdown",
   "id": "74c169fe",
   "metadata": {},
   "source": [
    "### 2. 'fico_class' - This column was created by the classification of the fico indicator."
   ]
  },
  {
   "cell_type": "code",
   "execution_count": 73,
   "id": "6cd5968b",
   "metadata": {},
   "outputs": [],
   "source": [
    "df['issue_d'] = df['issue_d'].apply(pd.to_datetime)"
   ]
  },
  {
   "cell_type": "markdown",
   "id": "68a6e6de",
   "metadata": {},
   "source": [
    "### 3. & 4. 'year_issue' & 'month_issue' - variable showing in which years and months the most loans were taken"
   ]
  },
  {
   "cell_type": "code",
   "execution_count": 74,
   "id": "014e4d87",
   "metadata": {},
   "outputs": [],
   "source": [
    "df['year_issue'] = df['issue_d'].dt.year\n",
    "df['month_issue'] = df['issue_d'].dt.month"
   ]
  },
  {
   "cell_type": "code",
   "execution_count": 75,
   "id": "90068c84",
   "metadata": {},
   "outputs": [
    {
     "data": {
      "text/plain": [
       "2011    21721\n",
       "2010    11536\n",
       "2009     4716\n",
       "2008     1562\n",
       "2007      251\n",
       "Name: year_issue, dtype: int64"
      ]
     },
     "execution_count": 75,
     "metadata": {},
     "output_type": "execute_result"
    }
   ],
   "source": [
    "df['year_issue'].value_counts()"
   ]
  },
  {
   "cell_type": "code",
   "execution_count": 76,
   "id": "866934ec",
   "metadata": {},
   "outputs": [
    {
     "data": {
      "text/html": [
       "<div>\n",
       "<style scoped>\n",
       "    .dataframe tbody tr th:only-of-type {\n",
       "        vertical-align: middle;\n",
       "    }\n",
       "\n",
       "    .dataframe tbody tr th {\n",
       "        vertical-align: top;\n",
       "    }\n",
       "\n",
       "    .dataframe thead th {\n",
       "        text-align: right;\n",
       "    }\n",
       "</style>\n",
       "<table border=\"1\" class=\"dataframe\">\n",
       "  <thead>\n",
       "    <tr style=\"text-align: right;\">\n",
       "      <th></th>\n",
       "      <th>count</th>\n",
       "      <th>mean</th>\n",
       "      <th>std</th>\n",
       "      <th>min</th>\n",
       "      <th>25%</th>\n",
       "      <th>50%</th>\n",
       "      <th>75%</th>\n",
       "      <th>max</th>\n",
       "    </tr>\n",
       "    <tr>\n",
       "      <th>loan_status</th>\n",
       "      <th></th>\n",
       "      <th></th>\n",
       "      <th></th>\n",
       "      <th></th>\n",
       "      <th></th>\n",
       "      <th></th>\n",
       "      <th></th>\n",
       "      <th></th>\n",
       "    </tr>\n",
       "  </thead>\n",
       "  <tbody>\n",
       "    <tr>\n",
       "      <th>0</th>\n",
       "      <td>5670.0</td>\n",
       "      <td>2010.365785</td>\n",
       "      <td>0.893457</td>\n",
       "      <td>2007.0</td>\n",
       "      <td>2010.0</td>\n",
       "      <td>2011.0</td>\n",
       "      <td>2011.0</td>\n",
       "      <td>2011.0</td>\n",
       "    </tr>\n",
       "    <tr>\n",
       "      <th>1</th>\n",
       "      <td>34116.0</td>\n",
       "      <td>2010.324012</td>\n",
       "      <td>0.874314</td>\n",
       "      <td>2007.0</td>\n",
       "      <td>2010.0</td>\n",
       "      <td>2011.0</td>\n",
       "      <td>2011.0</td>\n",
       "      <td>2011.0</td>\n",
       "    </tr>\n",
       "  </tbody>\n",
       "</table>\n",
       "</div>"
      ],
      "text/plain": [
       "               count         mean       std     min     25%     50%     75%  \\\n",
       "loan_status                                                                   \n",
       "0             5670.0  2010.365785  0.893457  2007.0  2010.0  2011.0  2011.0   \n",
       "1            34116.0  2010.324012  0.874314  2007.0  2010.0  2011.0  2011.0   \n",
       "\n",
       "                max  \n",
       "loan_status          \n",
       "0            2011.0  \n",
       "1            2011.0  "
      ]
     },
     "execution_count": 76,
     "metadata": {},
     "output_type": "execute_result"
    }
   ],
   "source": [
    "df.groupby('loan_status')['year_issue'].describe()"
   ]
  },
  {
   "cell_type": "markdown",
   "id": "ea235261",
   "metadata": {},
   "source": [
    "Every year, LC issued more loans. The 2011 was the best in the 5-year period."
   ]
  },
  {
   "cell_type": "code",
   "execution_count": 77,
   "id": "d900f04e",
   "metadata": {},
   "outputs": [
    {
     "data": {
      "text/plain": [
       "12    4442\n",
       "11    4176\n",
       "10    3939\n",
       "9     3653\n",
       "8     3524\n",
       "7     3481\n",
       "6     3287\n",
       "5     3014\n",
       "4     2835\n",
       "3     2697\n",
       "1     2379\n",
       "2     2359\n",
       "Name: month_issue, dtype: int64"
      ]
     },
     "execution_count": 77,
     "metadata": {},
     "output_type": "execute_result"
    }
   ],
   "source": [
    "df['month_issue'].value_counts()"
   ]
  },
  {
   "cell_type": "code",
   "execution_count": 78,
   "id": "79e22480",
   "metadata": {},
   "outputs": [
    {
     "data": {
      "text/html": [
       "<div>\n",
       "<style scoped>\n",
       "    .dataframe tbody tr th:only-of-type {\n",
       "        vertical-align: middle;\n",
       "    }\n",
       "\n",
       "    .dataframe tbody tr th {\n",
       "        vertical-align: top;\n",
       "    }\n",
       "\n",
       "    .dataframe thead th {\n",
       "        text-align: right;\n",
       "    }\n",
       "</style>\n",
       "<table border=\"1\" class=\"dataframe\">\n",
       "  <thead>\n",
       "    <tr style=\"text-align: right;\">\n",
       "      <th></th>\n",
       "      <th>count</th>\n",
       "      <th>mean</th>\n",
       "      <th>std</th>\n",
       "      <th>min</th>\n",
       "      <th>25%</th>\n",
       "      <th>50%</th>\n",
       "      <th>75%</th>\n",
       "      <th>max</th>\n",
       "    </tr>\n",
       "    <tr>\n",
       "      <th>loan_status</th>\n",
       "      <th></th>\n",
       "      <th></th>\n",
       "      <th></th>\n",
       "      <th></th>\n",
       "      <th></th>\n",
       "      <th></th>\n",
       "      <th></th>\n",
       "      <th></th>\n",
       "    </tr>\n",
       "  </thead>\n",
       "  <tbody>\n",
       "    <tr>\n",
       "      <th>0</th>\n",
       "      <td>5670.0</td>\n",
       "      <td>7.330511</td>\n",
       "      <td>3.368648</td>\n",
       "      <td>1.0</td>\n",
       "      <td>5.0</td>\n",
       "      <td>8.0</td>\n",
       "      <td>10.0</td>\n",
       "      <td>12.0</td>\n",
       "    </tr>\n",
       "    <tr>\n",
       "      <th>1</th>\n",
       "      <td>34116.0</td>\n",
       "      <td>7.146852</td>\n",
       "      <td>3.400116</td>\n",
       "      <td>1.0</td>\n",
       "      <td>4.0</td>\n",
       "      <td>7.0</td>\n",
       "      <td>10.0</td>\n",
       "      <td>12.0</td>\n",
       "    </tr>\n",
       "  </tbody>\n",
       "</table>\n",
       "</div>"
      ],
      "text/plain": [
       "               count      mean       std  min  25%  50%   75%   max\n",
       "loan_status                                                        \n",
       "0             5670.0  7.330511  3.368648  1.0  5.0  8.0  10.0  12.0\n",
       "1            34116.0  7.146852  3.400116  1.0  4.0  7.0  10.0  12.0"
      ]
     },
     "execution_count": 78,
     "metadata": {},
     "output_type": "execute_result"
    }
   ],
   "source": [
    "df.groupby('loan_status')['month_issue'].describe()"
   ]
  },
  {
   "cell_type": "markdown",
   "id": "1929a133",
   "metadata": {},
   "source": [
    "In the last quarter, LC granted the most loans. The best month was December, although there were no Christmas gifts for spending purposes."
   ]
  },
  {
   "cell_type": "code",
   "execution_count": 79,
   "id": "75c1e7b3",
   "metadata": {},
   "outputs": [],
   "source": [
    "df['earliest_cr_line'] = df['earliest_cr_line'].apply(pd.to_datetime)"
   ]
  },
  {
   "cell_type": "markdown",
   "id": "fc4b30fc",
   "metadata": {},
   "source": [
    "### 5. & 6. 'year_ecl' & 'month_ecl' - variables showing in which year and month the first customer credit lines were registered."
   ]
  },
  {
   "cell_type": "code",
   "execution_count": 80,
   "id": "d8a3246f",
   "metadata": {},
   "outputs": [],
   "source": [
    "df['year_ecl'] = df['earliest_cr_line'].dt.year\n",
    "df['month_ecl'] = df['earliest_cr_line'].dt.month"
   ]
  },
  {
   "cell_type": "code",
   "execution_count": 81,
   "id": "d5375873",
   "metadata": {},
   "outputs": [
    {
     "data": {
      "text/plain": [
       "2000    3252\n",
       "1999    2971\n",
       "1998    2862\n",
       "2001    2523\n",
       "1997    2461\n",
       "1996    2277\n",
       "1995    2154\n",
       "1994    2033\n",
       "2002    1929\n",
       "2003    1859\n",
       "2004    1763\n",
       "1993    1518\n",
       "2005    1496\n",
       "2006    1169\n",
       "1992    1066\n",
       "1990    1038\n",
       "1991     982\n",
       "1989     862\n",
       "1988     740\n",
       "2007     713\n",
       "1987     619\n",
       "1986     501\n",
       "1985     464\n",
       "1984     413\n",
       "1983     340\n",
       "1982     224\n",
       "1981     187\n",
       "1980     180\n",
       "1979     165\n",
       "1978     165\n",
       "2008     160\n",
       "1977     115\n",
       "1976      97\n",
       "1975      83\n",
       "1973      66\n",
       "1974      65\n",
       "1972      53\n",
       "1970      48\n",
       "1971      46\n",
       "1969      37\n",
       "1968      20\n",
       "1967      18\n",
       "1966      11\n",
       "1963      10\n",
       "1964       9\n",
       "1965       9\n",
       "1962       5\n",
       "1954       2\n",
       "1961       2\n",
       "1959       1\n",
       "1946       1\n",
       "1950       1\n",
       "1956       1\n",
       "Name: year_ecl, dtype: int64"
      ]
     },
     "execution_count": 81,
     "metadata": {},
     "output_type": "execute_result"
    }
   ],
   "source": [
    "df['year_ecl'].value_counts()"
   ]
  },
  {
   "cell_type": "code",
   "execution_count": 82,
   "id": "895bcdb0",
   "metadata": {},
   "outputs": [],
   "source": [
    "# Function that converts 'year_ecl' into categories\n",
    "\n",
    "year_ecl = df['year_ecl']\n",
    "\n",
    "def years(year_ecl):\n",
    "        if year_ecl < 1960:\n",
    "            year_ecl = 6\n",
    "        elif year_ecl >= 1960 and year_ecl < 1970:\n",
    "            year_ecl = 5\n",
    "        elif year_ecl >= 1970 and year_ecl < 1980:\n",
    "            year_ecl = 4\n",
    "        elif year_ecl >= 1980 and year_ecl < 1990:\n",
    "            year_ecl = 3\n",
    "        elif year_ecl >= 1990 and year_ecl < 2000:\n",
    "            year_ecl = 2\n",
    "        else:\n",
    "            year_ecl = 1\n",
    "        return year_ecl"
   ]
  },
  {
   "cell_type": "code",
   "execution_count": 83,
   "id": "e44b2558",
   "metadata": {},
   "outputs": [],
   "source": [
    "df['year_ecl'] = df.year_ecl.apply(years)"
   ]
  },
  {
   "cell_type": "code",
   "execution_count": 84,
   "id": "9d0404d3",
   "metadata": {},
   "outputs": [
    {
     "data": {
      "text/plain": [
       "2    19362\n",
       "1    14864\n",
       "3     4530\n",
       "4      903\n",
       "5      121\n",
       "6        6\n",
       "Name: year_ecl, dtype: int64"
      ]
     },
     "execution_count": 84,
     "metadata": {},
     "output_type": "execute_result"
    }
   ],
   "source": [
    "df['year_ecl'].value_counts()"
   ]
  },
  {
   "cell_type": "code",
   "execution_count": 85,
   "id": "a95ad5e3",
   "metadata": {},
   "outputs": [
    {
     "data": {
      "text/html": [
       "<div>\n",
       "<style scoped>\n",
       "    .dataframe tbody tr th:only-of-type {\n",
       "        vertical-align: middle;\n",
       "    }\n",
       "\n",
       "    .dataframe tbody tr th {\n",
       "        vertical-align: top;\n",
       "    }\n",
       "\n",
       "    .dataframe thead th {\n",
       "        text-align: right;\n",
       "    }\n",
       "</style>\n",
       "<table border=\"1\" class=\"dataframe\">\n",
       "  <thead>\n",
       "    <tr style=\"text-align: right;\">\n",
       "      <th></th>\n",
       "      <th>count</th>\n",
       "      <th>mean</th>\n",
       "      <th>std</th>\n",
       "      <th>min</th>\n",
       "      <th>25%</th>\n",
       "      <th>50%</th>\n",
       "      <th>75%</th>\n",
       "      <th>max</th>\n",
       "    </tr>\n",
       "    <tr>\n",
       "      <th>loan_status</th>\n",
       "      <th></th>\n",
       "      <th></th>\n",
       "      <th></th>\n",
       "      <th></th>\n",
       "      <th></th>\n",
       "      <th></th>\n",
       "      <th></th>\n",
       "      <th></th>\n",
       "    </tr>\n",
       "  </thead>\n",
       "  <tbody>\n",
       "    <tr>\n",
       "      <th>0</th>\n",
       "      <td>5670.0</td>\n",
       "      <td>1.766314</td>\n",
       "      <td>0.743451</td>\n",
       "      <td>1.0</td>\n",
       "      <td>1.0</td>\n",
       "      <td>2.0</td>\n",
       "      <td>2.0</td>\n",
       "      <td>5.0</td>\n",
       "    </tr>\n",
       "    <tr>\n",
       "      <th>1</th>\n",
       "      <td>34116.0</td>\n",
       "      <td>1.800211</td>\n",
       "      <td>0.753831</td>\n",
       "      <td>1.0</td>\n",
       "      <td>1.0</td>\n",
       "      <td>2.0</td>\n",
       "      <td>2.0</td>\n",
       "      <td>6.0</td>\n",
       "    </tr>\n",
       "  </tbody>\n",
       "</table>\n",
       "</div>"
      ],
      "text/plain": [
       "               count      mean       std  min  25%  50%  75%  max\n",
       "loan_status                                                      \n",
       "0             5670.0  1.766314  0.743451  1.0  1.0  2.0  2.0  5.0\n",
       "1            34116.0  1.800211  0.753831  1.0  1.0  2.0  2.0  6.0"
      ]
     },
     "execution_count": 85,
     "metadata": {},
     "output_type": "execute_result"
    }
   ],
   "source": [
    "df.groupby('loan_status')['year_ecl'].describe()"
   ]
  },
  {
   "cell_type": "markdown",
   "id": "06d34f31",
   "metadata": {},
   "source": [
    "Most of the first lines of credit among borrowers were registered in the years 1990 - 2000 and later."
   ]
  },
  {
   "cell_type": "code",
   "execution_count": 86,
   "id": "778f3ba9",
   "metadata": {},
   "outputs": [
    {
     "data": {
      "text/plain": [
       "10    4082\n",
       "12    4078\n",
       "11    3937\n",
       "9     3599\n",
       "1     3435\n",
       "8     3313\n",
       "7     3067\n",
       "6     2939\n",
       "5     2906\n",
       "2     2887\n",
       "3     2796\n",
       "4     2747\n",
       "Name: month_ecl, dtype: int64"
      ]
     },
     "execution_count": 86,
     "metadata": {},
     "output_type": "execute_result"
    }
   ],
   "source": [
    "df['month_ecl'].value_counts()"
   ]
  },
  {
   "cell_type": "code",
   "execution_count": 87,
   "id": "75ca56cb",
   "metadata": {},
   "outputs": [
    {
     "data": {
      "text/html": [
       "<div>\n",
       "<style scoped>\n",
       "    .dataframe tbody tr th:only-of-type {\n",
       "        vertical-align: middle;\n",
       "    }\n",
       "\n",
       "    .dataframe tbody tr th {\n",
       "        vertical-align: top;\n",
       "    }\n",
       "\n",
       "    .dataframe thead th {\n",
       "        text-align: right;\n",
       "    }\n",
       "</style>\n",
       "<table border=\"1\" class=\"dataframe\">\n",
       "  <thead>\n",
       "    <tr style=\"text-align: right;\">\n",
       "      <th></th>\n",
       "      <th>count</th>\n",
       "      <th>mean</th>\n",
       "      <th>std</th>\n",
       "      <th>min</th>\n",
       "      <th>25%</th>\n",
       "      <th>50%</th>\n",
       "      <th>75%</th>\n",
       "      <th>max</th>\n",
       "    </tr>\n",
       "    <tr>\n",
       "      <th>loan_status</th>\n",
       "      <th></th>\n",
       "      <th></th>\n",
       "      <th></th>\n",
       "      <th></th>\n",
       "      <th></th>\n",
       "      <th></th>\n",
       "      <th></th>\n",
       "      <th></th>\n",
       "    </tr>\n",
       "  </thead>\n",
       "  <tbody>\n",
       "    <tr>\n",
       "      <th>0</th>\n",
       "      <td>5670.0</td>\n",
       "      <td>6.735626</td>\n",
       "      <td>3.580013</td>\n",
       "      <td>1.0</td>\n",
       "      <td>4.0</td>\n",
       "      <td>7.0</td>\n",
       "      <td>10.0</td>\n",
       "      <td>12.0</td>\n",
       "    </tr>\n",
       "    <tr>\n",
       "      <th>1</th>\n",
       "      <td>34116.0</td>\n",
       "      <td>6.917136</td>\n",
       "      <td>3.533549</td>\n",
       "      <td>1.0</td>\n",
       "      <td>4.0</td>\n",
       "      <td>7.0</td>\n",
       "      <td>10.0</td>\n",
       "      <td>12.0</td>\n",
       "    </tr>\n",
       "  </tbody>\n",
       "</table>\n",
       "</div>"
      ],
      "text/plain": [
       "               count      mean       std  min  25%  50%   75%   max\n",
       "loan_status                                                        \n",
       "0             5670.0  6.735626  3.580013  1.0  4.0  7.0  10.0  12.0\n",
       "1            34116.0  6.917136  3.533549  1.0  4.0  7.0  10.0  12.0"
      ]
     },
     "execution_count": 87,
     "metadata": {},
     "output_type": "execute_result"
    }
   ],
   "source": [
    "df.groupby('loan_status')['month_ecl'].describe()"
   ]
  },
  {
   "cell_type": "markdown",
   "id": "48d5b126",
   "metadata": {},
   "source": [
    "The largest number of first lines of credit among borrowers was registered in the last quarter of the year (from October to December)."
   ]
  },
  {
   "cell_type": "code",
   "execution_count": 88,
   "id": "1bb7ffe1",
   "metadata": {},
   "outputs": [
    {
     "data": {
      "text/html": [
       "<div>\n",
       "<style scoped>\n",
       "    .dataframe tbody tr th:only-of-type {\n",
       "        vertical-align: middle;\n",
       "    }\n",
       "\n",
       "    .dataframe tbody tr th {\n",
       "        vertical-align: top;\n",
       "    }\n",
       "\n",
       "    .dataframe thead th {\n",
       "        text-align: right;\n",
       "    }\n",
       "</style>\n",
       "<table border=\"1\" class=\"dataframe\">\n",
       "  <thead>\n",
       "    <tr style=\"text-align: right;\">\n",
       "      <th></th>\n",
       "      <th>State</th>\n",
       "      <th>addr_state</th>\n",
       "      <th>Geographic location</th>\n",
       "      <th>Unnamed: 3</th>\n",
       "      <th>Unnamed: 4</th>\n",
       "    </tr>\n",
       "  </thead>\n",
       "  <tbody>\n",
       "    <tr>\n",
       "      <th>0</th>\n",
       "      <td>Alaska</td>\n",
       "      <td>AK</td>\n",
       "      <td>NE</td>\n",
       "      <td>NaN</td>\n",
       "      <td>NaN</td>\n",
       "    </tr>\n",
       "    <tr>\n",
       "      <th>1</th>\n",
       "      <td>New York</td>\n",
       "      <td>NY</td>\n",
       "      <td>NE</td>\n",
       "      <td>NaN</td>\n",
       "      <td>NaN</td>\n",
       "    </tr>\n",
       "    <tr>\n",
       "      <th>2</th>\n",
       "      <td>Massachusetts</td>\n",
       "      <td>MA</td>\n",
       "      <td>NE</td>\n",
       "      <td>NaN</td>\n",
       "      <td>NaN</td>\n",
       "    </tr>\n",
       "    <tr>\n",
       "      <th>3</th>\n",
       "      <td>Connecticut</td>\n",
       "      <td>CT</td>\n",
       "      <td>NE</td>\n",
       "      <td>NaN</td>\n",
       "      <td>NaN</td>\n",
       "    </tr>\n",
       "    <tr>\n",
       "      <th>4</th>\n",
       "      <td>Delaware</td>\n",
       "      <td>DE</td>\n",
       "      <td>NE</td>\n",
       "      <td>NaN</td>\n",
       "      <td>NaN</td>\n",
       "    </tr>\n",
       "    <tr>\n",
       "      <th>5</th>\n",
       "      <td>Illinois</td>\n",
       "      <td>IL</td>\n",
       "      <td>NE</td>\n",
       "      <td>NaN</td>\n",
       "      <td>NaN</td>\n",
       "    </tr>\n",
       "    <tr>\n",
       "      <th>6</th>\n",
       "      <td>New Jersey</td>\n",
       "      <td>NJ</td>\n",
       "      <td>NE</td>\n",
       "      <td>NaN</td>\n",
       "      <td>NaN</td>\n",
       "    </tr>\n",
       "    <tr>\n",
       "      <th>7</th>\n",
       "      <td>Maryland</td>\n",
       "      <td>MD</td>\n",
       "      <td>NE</td>\n",
       "      <td>NaN</td>\n",
       "      <td>NaN</td>\n",
       "    </tr>\n",
       "    <tr>\n",
       "      <th>8</th>\n",
       "      <td>Minnesota</td>\n",
       "      <td>MN</td>\n",
       "      <td>NE</td>\n",
       "      <td>NaN</td>\n",
       "      <td>NaN</td>\n",
       "    </tr>\n",
       "    <tr>\n",
       "      <th>9</th>\n",
       "      <td>Iowa</td>\n",
       "      <td>IA</td>\n",
       "      <td>NE</td>\n",
       "      <td>NaN</td>\n",
       "      <td>NaN</td>\n",
       "    </tr>\n",
       "    <tr>\n",
       "      <th>10</th>\n",
       "      <td>Virginia</td>\n",
       "      <td>VA</td>\n",
       "      <td>NE</td>\n",
       "      <td>NaN</td>\n",
       "      <td>NaN</td>\n",
       "    </tr>\n",
       "    <tr>\n",
       "      <th>11</th>\n",
       "      <td>New Hampshire</td>\n",
       "      <td>NH</td>\n",
       "      <td>NE</td>\n",
       "      <td>NaN</td>\n",
       "      <td>NaN</td>\n",
       "    </tr>\n",
       "    <tr>\n",
       "      <th>12</th>\n",
       "      <td>Pennsylvania</td>\n",
       "      <td>PA</td>\n",
       "      <td>NE</td>\n",
       "      <td>NaN</td>\n",
       "      <td>NaN</td>\n",
       "    </tr>\n",
       "    <tr>\n",
       "      <th>13</th>\n",
       "      <td>Ohio</td>\n",
       "      <td>OH</td>\n",
       "      <td>NE</td>\n",
       "      <td>NaN</td>\n",
       "      <td>NaN</td>\n",
       "    </tr>\n",
       "    <tr>\n",
       "      <th>14</th>\n",
       "      <td>Wisconsin</td>\n",
       "      <td>WI</td>\n",
       "      <td>NE</td>\n",
       "      <td>NaN</td>\n",
       "      <td>NaN</td>\n",
       "    </tr>\n",
       "    <tr>\n",
       "      <th>15</th>\n",
       "      <td>Indiana</td>\n",
       "      <td>IN</td>\n",
       "      <td>NE</td>\n",
       "      <td>NaN</td>\n",
       "      <td>NaN</td>\n",
       "    </tr>\n",
       "    <tr>\n",
       "      <th>16</th>\n",
       "      <td>Rhode Island</td>\n",
       "      <td>RI</td>\n",
       "      <td>NE</td>\n",
       "      <td>NaN</td>\n",
       "      <td>NaN</td>\n",
       "    </tr>\n",
       "    <tr>\n",
       "      <th>17</th>\n",
       "      <td>Missouri</td>\n",
       "      <td>MO</td>\n",
       "      <td>NE</td>\n",
       "      <td>NaN</td>\n",
       "      <td>NaN</td>\n",
       "    </tr>\n",
       "    <tr>\n",
       "      <th>18</th>\n",
       "      <td>Vermont</td>\n",
       "      <td>VT</td>\n",
       "      <td>NE</td>\n",
       "      <td>NaN</td>\n",
       "      <td>NaN</td>\n",
       "    </tr>\n",
       "    <tr>\n",
       "      <th>19</th>\n",
       "      <td>Michigan</td>\n",
       "      <td>MI</td>\n",
       "      <td>NE</td>\n",
       "      <td>NaN</td>\n",
       "      <td>NaN</td>\n",
       "    </tr>\n",
       "    <tr>\n",
       "      <th>20</th>\n",
       "      <td>Maine</td>\n",
       "      <td>ME</td>\n",
       "      <td>NE</td>\n",
       "      <td>NaN</td>\n",
       "      <td>NaN</td>\n",
       "    </tr>\n",
       "    <tr>\n",
       "      <th>21</th>\n",
       "      <td>Kentucky</td>\n",
       "      <td>KY</td>\n",
       "      <td>NE</td>\n",
       "      <td>NaN</td>\n",
       "      <td>NaN</td>\n",
       "    </tr>\n",
       "    <tr>\n",
       "      <th>22</th>\n",
       "      <td>Washington DC</td>\n",
       "      <td>DC</td>\n",
       "      <td>NE</td>\n",
       "      <td>NaN</td>\n",
       "      <td>NaN</td>\n",
       "    </tr>\n",
       "    <tr>\n",
       "      <th>23</th>\n",
       "      <td>West Virginia</td>\n",
       "      <td>WV</td>\n",
       "      <td>NE</td>\n",
       "      <td>NaN</td>\n",
       "      <td>NaN</td>\n",
       "    </tr>\n",
       "    <tr>\n",
       "      <th>24</th>\n",
       "      <td>Washington</td>\n",
       "      <td>WA</td>\n",
       "      <td>NW</td>\n",
       "      <td>NaN</td>\n",
       "      <td>NaN</td>\n",
       "    </tr>\n",
       "    <tr>\n",
       "      <th>25</th>\n",
       "      <td>North Dakota</td>\n",
       "      <td>ND</td>\n",
       "      <td>NW</td>\n",
       "      <td>NaN</td>\n",
       "      <td>NaN</td>\n",
       "    </tr>\n",
       "    <tr>\n",
       "      <th>26</th>\n",
       "      <td>Nebraska</td>\n",
       "      <td>NE</td>\n",
       "      <td>NW</td>\n",
       "      <td>NaN</td>\n",
       "      <td>NaN</td>\n",
       "    </tr>\n",
       "    <tr>\n",
       "      <th>27</th>\n",
       "      <td>Wyoming</td>\n",
       "      <td>WY</td>\n",
       "      <td>NW</td>\n",
       "      <td>NaN</td>\n",
       "      <td>NaN</td>\n",
       "    </tr>\n",
       "    <tr>\n",
       "      <th>28</th>\n",
       "      <td>Colorado</td>\n",
       "      <td>CO</td>\n",
       "      <td>NW</td>\n",
       "      <td>NaN</td>\n",
       "      <td>NaN</td>\n",
       "    </tr>\n",
       "    <tr>\n",
       "      <th>29</th>\n",
       "      <td>South Dakota</td>\n",
       "      <td>SD</td>\n",
       "      <td>NW</td>\n",
       "      <td>NaN</td>\n",
       "      <td>NaN</td>\n",
       "    </tr>\n",
       "    <tr>\n",
       "      <th>30</th>\n",
       "      <td>Kansas</td>\n",
       "      <td>KS</td>\n",
       "      <td>NW</td>\n",
       "      <td>NaN</td>\n",
       "      <td>NaN</td>\n",
       "    </tr>\n",
       "    <tr>\n",
       "      <th>31</th>\n",
       "      <td>Utah</td>\n",
       "      <td>UT</td>\n",
       "      <td>NW</td>\n",
       "      <td>NaN</td>\n",
       "      <td>NaN</td>\n",
       "    </tr>\n",
       "    <tr>\n",
       "      <th>32</th>\n",
       "      <td>Oregon</td>\n",
       "      <td>OR</td>\n",
       "      <td>NW</td>\n",
       "      <td>NaN</td>\n",
       "      <td>NaN</td>\n",
       "    </tr>\n",
       "    <tr>\n",
       "      <th>33</th>\n",
       "      <td>Montana</td>\n",
       "      <td>MT</td>\n",
       "      <td>NW</td>\n",
       "      <td>NaN</td>\n",
       "      <td>NaN</td>\n",
       "    </tr>\n",
       "    <tr>\n",
       "      <th>34</th>\n",
       "      <td>Idaho</td>\n",
       "      <td>ID</td>\n",
       "      <td>NW</td>\n",
       "      <td>NaN</td>\n",
       "      <td>NaN</td>\n",
       "    </tr>\n",
       "    <tr>\n",
       "      <th>35</th>\n",
       "      <td>Georgia</td>\n",
       "      <td>GA</td>\n",
       "      <td>SE</td>\n",
       "      <td>NaN</td>\n",
       "      <td>NaN</td>\n",
       "    </tr>\n",
       "    <tr>\n",
       "      <th>36</th>\n",
       "      <td>North Carolina</td>\n",
       "      <td>NC</td>\n",
       "      <td>SE</td>\n",
       "      <td>NaN</td>\n",
       "      <td>NaN</td>\n",
       "    </tr>\n",
       "    <tr>\n",
       "      <th>37</th>\n",
       "      <td>Tennessee</td>\n",
       "      <td>TN</td>\n",
       "      <td>SE</td>\n",
       "      <td>NaN</td>\n",
       "      <td>NaN</td>\n",
       "    </tr>\n",
       "    <tr>\n",
       "      <th>38</th>\n",
       "      <td>Florida</td>\n",
       "      <td>FL</td>\n",
       "      <td>SE</td>\n",
       "      <td>NaN</td>\n",
       "      <td>NaN</td>\n",
       "    </tr>\n",
       "    <tr>\n",
       "      <th>39</th>\n",
       "      <td>Louisiana</td>\n",
       "      <td>LA</td>\n",
       "      <td>SE</td>\n",
       "      <td>NaN</td>\n",
       "      <td>NaN</td>\n",
       "    </tr>\n",
       "    <tr>\n",
       "      <th>40</th>\n",
       "      <td>South Carolina</td>\n",
       "      <td>SC</td>\n",
       "      <td>SE</td>\n",
       "      <td>NaN</td>\n",
       "      <td>NaN</td>\n",
       "    </tr>\n",
       "    <tr>\n",
       "      <th>41</th>\n",
       "      <td>Alabama</td>\n",
       "      <td>AL</td>\n",
       "      <td>SE</td>\n",
       "      <td>NaN</td>\n",
       "      <td>NaN</td>\n",
       "    </tr>\n",
       "    <tr>\n",
       "      <th>42</th>\n",
       "      <td>Arkansas</td>\n",
       "      <td>AR</td>\n",
       "      <td>SE</td>\n",
       "      <td>NaN</td>\n",
       "      <td>NaN</td>\n",
       "    </tr>\n",
       "    <tr>\n",
       "      <th>43</th>\n",
       "      <td>Mississippi</td>\n",
       "      <td>MS</td>\n",
       "      <td>SE</td>\n",
       "      <td>NaN</td>\n",
       "      <td>NaN</td>\n",
       "    </tr>\n",
       "    <tr>\n",
       "      <th>44</th>\n",
       "      <td>California</td>\n",
       "      <td>CA</td>\n",
       "      <td>SW</td>\n",
       "      <td>NaN</td>\n",
       "      <td>NaN</td>\n",
       "    </tr>\n",
       "    <tr>\n",
       "      <th>45</th>\n",
       "      <td>Texas</td>\n",
       "      <td>TX</td>\n",
       "      <td>SW</td>\n",
       "      <td>NaN</td>\n",
       "      <td>NaN</td>\n",
       "    </tr>\n",
       "    <tr>\n",
       "      <th>46</th>\n",
       "      <td>Nevada</td>\n",
       "      <td>NV</td>\n",
       "      <td>SW</td>\n",
       "      <td>NaN</td>\n",
       "      <td>NaN</td>\n",
       "    </tr>\n",
       "    <tr>\n",
       "      <th>47</th>\n",
       "      <td>Arizona</td>\n",
       "      <td>AZ</td>\n",
       "      <td>SW</td>\n",
       "      <td>NaN</td>\n",
       "      <td>NaN</td>\n",
       "    </tr>\n",
       "    <tr>\n",
       "      <th>48</th>\n",
       "      <td>Oklahoma</td>\n",
       "      <td>OK</td>\n",
       "      <td>SW</td>\n",
       "      <td>NaN</td>\n",
       "      <td>NaN</td>\n",
       "    </tr>\n",
       "    <tr>\n",
       "      <th>49</th>\n",
       "      <td>New Mexico</td>\n",
       "      <td>NM</td>\n",
       "      <td>SW</td>\n",
       "      <td>NaN</td>\n",
       "      <td>NaN</td>\n",
       "    </tr>\n",
       "    <tr>\n",
       "      <th>50</th>\n",
       "      <td>Hawaii</td>\n",
       "      <td>HI</td>\n",
       "      <td>SW</td>\n",
       "      <td>NaN</td>\n",
       "      <td>NaN</td>\n",
       "    </tr>\n",
       "  </tbody>\n",
       "</table>\n",
       "</div>"
      ],
      "text/plain": [
       "             State addr_state Geographic location  Unnamed: 3  Unnamed: 4\n",
       "0           Alaska         AK                  NE         NaN         NaN\n",
       "1         New York         NY                  NE         NaN         NaN\n",
       "2    Massachusetts         MA                  NE         NaN         NaN\n",
       "3      Connecticut         CT                  NE         NaN         NaN\n",
       "4         Delaware         DE                  NE         NaN         NaN\n",
       "5         Illinois         IL                  NE         NaN         NaN\n",
       "6       New Jersey         NJ                  NE         NaN         NaN\n",
       "7         Maryland         MD                  NE         NaN         NaN\n",
       "8        Minnesota         MN                  NE         NaN         NaN\n",
       "9             Iowa         IA                  NE         NaN         NaN\n",
       "10        Virginia         VA                  NE         NaN         NaN\n",
       "11   New Hampshire         NH                  NE         NaN         NaN\n",
       "12    Pennsylvania         PA                  NE         NaN         NaN\n",
       "13            Ohio         OH                  NE         NaN         NaN\n",
       "14       Wisconsin         WI                  NE         NaN         NaN\n",
       "15         Indiana         IN                  NE         NaN         NaN\n",
       "16    Rhode Island         RI                  NE         NaN         NaN\n",
       "17        Missouri         MO                  NE         NaN         NaN\n",
       "18         Vermont         VT                  NE         NaN         NaN\n",
       "19        Michigan         MI                  NE         NaN         NaN\n",
       "20           Maine         ME                  NE         NaN         NaN\n",
       "21        Kentucky         KY                  NE         NaN         NaN\n",
       "22   Washington DC         DC                  NE         NaN         NaN\n",
       "23   West Virginia         WV                  NE         NaN         NaN\n",
       "24      Washington         WA                  NW         NaN         NaN\n",
       "25    North Dakota         ND                  NW         NaN         NaN\n",
       "26        Nebraska         NE                  NW         NaN         NaN\n",
       "27         Wyoming         WY                  NW         NaN         NaN\n",
       "28        Colorado         CO                  NW         NaN         NaN\n",
       "29    South Dakota         SD                  NW         NaN         NaN\n",
       "30          Kansas         KS                  NW         NaN         NaN\n",
       "31            Utah         UT                  NW         NaN         NaN\n",
       "32          Oregon         OR                  NW         NaN         NaN\n",
       "33         Montana         MT                  NW         NaN         NaN\n",
       "34           Idaho         ID                  NW         NaN         NaN\n",
       "35         Georgia         GA                  SE         NaN         NaN\n",
       "36  North Carolina         NC                  SE         NaN         NaN\n",
       "37       Tennessee         TN                  SE         NaN         NaN\n",
       "38         Florida         FL                  SE         NaN         NaN\n",
       "39       Louisiana         LA                  SE         NaN         NaN\n",
       "40  South Carolina         SC                  SE         NaN         NaN\n",
       "41         Alabama         AL                  SE         NaN         NaN\n",
       "42        Arkansas         AR                  SE         NaN         NaN\n",
       "43     Mississippi         MS                  SE         NaN         NaN\n",
       "44      California         CA                  SW         NaN         NaN\n",
       "45           Texas         TX                  SW         NaN         NaN\n",
       "46          Nevada         NV                  SW         NaN         NaN\n",
       "47         Arizona         AZ                  SW         NaN         NaN\n",
       "48        Oklahoma         OK                  SW         NaN         NaN\n",
       "49      New Mexico         NM                  SW         NaN         NaN\n",
       "50          Hawaii         HI                  SW         NaN         NaN"
      ]
     },
     "execution_count": 88,
     "metadata": {},
     "output_type": "execute_result"
    }
   ],
   "source": [
    "df_tab1 = pd.read_excel('usa.xlsx', sheet_name = 'Geographic location')\n",
    "df_tab1"
   ]
  },
  {
   "cell_type": "code",
   "execution_count": 89,
   "id": "9a496638",
   "metadata": {},
   "outputs": [
    {
     "data": {
      "text/plain": [
       "NE    24\n",
       "NW    11\n",
       "SE     9\n",
       "SW     7\n",
       "Name: Geographic location, dtype: int64"
      ]
     },
     "execution_count": 89,
     "metadata": {},
     "output_type": "execute_result"
    }
   ],
   "source": [
    "df_tab1['Geographic location'].value_counts()"
   ]
  },
  {
   "cell_type": "markdown",
   "id": "d8c8d667",
   "metadata": {},
   "source": [
    "### 7. 'geo_loc' - a column that divides US states by geographic location."
   ]
  },
  {
   "cell_type": "code",
   "execution_count": 90,
   "id": "7b403902",
   "metadata": {},
   "outputs": [],
   "source": [
    "# Function that converts 'addr_state' into categories by geographical location (NE, NW, SE, SW)\n",
    "\n",
    "geo_loc = df['addr_state']\n",
    "\n",
    "\"\"\"\n",
    "I know the def geographic is imperfect and requires the use of a dictionary (dict). \n",
    "The function will be improved later.\n",
    "\"\"\"\n",
    "\n",
    "def geographic(geo_loc):\n",
    "    if geo_loc == 'AK' or geo_loc == 'NY' or geo_loc == 'MA' or geo_loc == 'CT' or geo_loc == 'DE' or geo_loc == 'IL' or geo_loc == 'NJ' or geo_loc == 'MD' or geo_loc == 'MN' or geo_loc == 'IA' or geo_loc == 'VA' or geo_loc == 'NH' or geo_loc == 'PA' or geo_loc == 'OH' or geo_loc == 'WI' or geo_loc == 'IN' or geo_loc == 'RI' or geo_loc == 'MO' or geo_loc == 'VT' or geo_loc == 'MI' or geo_loc == 'ME' or geo_loc == 'KY' or geo_loc == 'DC' or geo_loc == 'WV':\n",
    "        geo_loc = 1\n",
    "    elif geo_loc == 'WA' or geo_loc == geo_loc == 'ND' or geo_loc == 'NE' or geo_loc == 'WY' or geo_loc == 'CO' or geo_loc == 'SD' or geo_loc == 'KS' or geo_loc == 'UT' or geo_loc == 'OR' or geo_loc == 'MT' or geo_loc == 'ID':\n",
    "        geo_loc = 2\n",
    "    elif geo_loc == 'GA' or geo_loc == 'NC' or geo_loc == 'TN' or geo_loc == 'FL' or geo_loc == 'LA' or geo_loc == 'SC' or geo_loc == 'AL' or geo_loc == 'AR' or geo_loc == 'MS':\n",
    "        geo_loc = 3\n",
    "    elif geo_loc == 'CA' or geo_loc == 'TX' or geo_loc == 'NV' or geo_loc == 'AZ' or geo_loc == 'OK' or geo_loc == 'NM' or geo_loc == 'HI':\n",
    "        geo_loc = 4\n",
    "    return geo_loc"
   ]
  },
  {
   "cell_type": "code",
   "execution_count": 91,
   "id": "774e1158",
   "metadata": {},
   "outputs": [],
   "source": [
    "df['geo_loc'] = df.addr_state.apply(geographic)"
   ]
  },
  {
   "cell_type": "code",
   "execution_count": 92,
   "id": "01ee12af",
   "metadata": {},
   "outputs": [
    {
     "data": {
      "text/plain": [
       "1    18342\n",
       "4    11883\n",
       "3     6702\n",
       "2     2859\n",
       "Name: geo_loc, dtype: int64"
      ]
     },
     "execution_count": 92,
     "metadata": {},
     "output_type": "execute_result"
    }
   ],
   "source": [
    "df['geo_loc'].value_counts()"
   ]
  },
  {
   "cell_type": "code",
   "execution_count": 93,
   "id": "904102de",
   "metadata": {},
   "outputs": [
    {
     "data": {
      "text/html": [
       "<div>\n",
       "<style scoped>\n",
       "    .dataframe tbody tr th:only-of-type {\n",
       "        vertical-align: middle;\n",
       "    }\n",
       "\n",
       "    .dataframe tbody tr th {\n",
       "        vertical-align: top;\n",
       "    }\n",
       "\n",
       "    .dataframe thead th {\n",
       "        text-align: right;\n",
       "    }\n",
       "</style>\n",
       "<table border=\"1\" class=\"dataframe\">\n",
       "  <thead>\n",
       "    <tr style=\"text-align: right;\">\n",
       "      <th></th>\n",
       "      <th>count</th>\n",
       "      <th>mean</th>\n",
       "      <th>std</th>\n",
       "      <th>min</th>\n",
       "      <th>25%</th>\n",
       "      <th>50%</th>\n",
       "      <th>75%</th>\n",
       "      <th>max</th>\n",
       "    </tr>\n",
       "    <tr>\n",
       "      <th>loan_status</th>\n",
       "      <th></th>\n",
       "      <th></th>\n",
       "      <th></th>\n",
       "      <th></th>\n",
       "      <th></th>\n",
       "      <th></th>\n",
       "      <th></th>\n",
       "      <th></th>\n",
       "    </tr>\n",
       "  </thead>\n",
       "  <tbody>\n",
       "    <tr>\n",
       "      <th>0</th>\n",
       "      <td>5670.0</td>\n",
       "      <td>2.383245</td>\n",
       "      <td>1.314546</td>\n",
       "      <td>1.0</td>\n",
       "      <td>1.0</td>\n",
       "      <td>2.0</td>\n",
       "      <td>4.0</td>\n",
       "      <td>4.0</td>\n",
       "    </tr>\n",
       "    <tr>\n",
       "      <th>1</th>\n",
       "      <td>34116.0</td>\n",
       "      <td>2.291740</td>\n",
       "      <td>1.315566</td>\n",
       "      <td>1.0</td>\n",
       "      <td>1.0</td>\n",
       "      <td>2.0</td>\n",
       "      <td>4.0</td>\n",
       "      <td>4.0</td>\n",
       "    </tr>\n",
       "  </tbody>\n",
       "</table>\n",
       "</div>"
      ],
      "text/plain": [
       "               count      mean       std  min  25%  50%  75%  max\n",
       "loan_status                                                      \n",
       "0             5670.0  2.383245  1.314546  1.0  1.0  2.0  4.0  4.0\n",
       "1            34116.0  2.291740  1.315566  1.0  1.0  2.0  4.0  4.0"
      ]
     },
     "execution_count": 93,
     "metadata": {},
     "output_type": "execute_result"
    }
   ],
   "source": [
    "df.groupby('loan_status')['geo_loc'].describe()"
   ]
  },
  {
   "cell_type": "markdown",
   "id": "2f65ff2c",
   "metadata": {},
   "source": [
    "### 8. & 9. 'geo_loc_ns' & 'geo_loc_we' - the columns that divides US states by geographic location N & S."
   ]
  },
  {
   "cell_type": "code",
   "execution_count": 94,
   "id": "6017c78a",
   "metadata": {},
   "outputs": [],
   "source": [
    "# Function that converts 'addr_state' into categories by geographical location (North - N & South - S)\n",
    "\n",
    "geo_loc_ns = df['geo_loc']\n",
    "\n",
    "def geographic_NS(geo_loc_ns):\n",
    "    if geo_loc_ns == 1 or geo_loc_ns == 2:\n",
    "        geo_loc_ns = 0\n",
    "    elif geo_loc_ns == 3 or geo_loc_ns == 4:\n",
    "        geo_loc_ns = 1\n",
    "    return geo_loc_ns"
   ]
  },
  {
   "cell_type": "code",
   "execution_count": 95,
   "id": "4f7617dc",
   "metadata": {},
   "outputs": [],
   "source": [
    "df['geo_loc_ns'] = df.geo_loc.apply(geographic_NS)"
   ]
  },
  {
   "cell_type": "code",
   "execution_count": 96,
   "id": "538b38af",
   "metadata": {},
   "outputs": [
    {
     "data": {
      "text/plain": [
       "0    21201\n",
       "1    18585\n",
       "Name: geo_loc_ns, dtype: int64"
      ]
     },
     "execution_count": 96,
     "metadata": {},
     "output_type": "execute_result"
    }
   ],
   "source": [
    "df['geo_loc_ns'].value_counts()"
   ]
  },
  {
   "cell_type": "code",
   "execution_count": 97,
   "id": "1d41d618",
   "metadata": {},
   "outputs": [],
   "source": [
    "# Function that converts 'addr_state' into categories by geographical location (West - W & East - E)\n",
    "\n",
    "geo_loc_we = df['geo_loc']\n",
    "\n",
    "def geographic_WE(geo_loc_we):\n",
    "    if geo_loc_we == 1 or geo_loc_we == 3:\n",
    "        geo_loc_we = 0\n",
    "    elif geo_loc_we == 2 or geo_loc_we == 4:\n",
    "        geo_loc_we = 1\n",
    "    return geo_loc_we"
   ]
  },
  {
   "cell_type": "code",
   "execution_count": 98,
   "id": "1cb4ab7e",
   "metadata": {},
   "outputs": [],
   "source": [
    "df['geo_loc_we'] = df.geo_loc.apply(geographic_WE)"
   ]
  },
  {
   "cell_type": "code",
   "execution_count": 99,
   "id": "d1defbab",
   "metadata": {},
   "outputs": [
    {
     "data": {
      "text/plain": [
       "0    25044\n",
       "1    14742\n",
       "Name: geo_loc_we, dtype: int64"
      ]
     },
     "execution_count": 99,
     "metadata": {},
     "output_type": "execute_result"
    }
   ],
   "source": [
    "df['geo_loc_we'].value_counts()"
   ]
  },
  {
   "cell_type": "markdown",
   "id": "c326527f",
   "metadata": {},
   "source": [
    "### Removing unnecessary columns (dtype = object)"
   ]
  },
  {
   "cell_type": "code",
   "execution_count": 100,
   "id": "b1aeb949",
   "metadata": {},
   "outputs": [],
   "source": [
    "df.drop(['fico_rating', 'verification_status', 'addr_state', 'issue_d', 'earliest_cr_line'], axis=1, inplace=True)"
   ]
  },
  {
   "cell_type": "code",
   "execution_count": 101,
   "id": "d339f284",
   "metadata": {},
   "outputs": [
    {
     "name": "stdout",
     "output_type": "stream",
     "text": [
      "<class 'pandas.core.frame.DataFrame'>\n",
      "RangeIndex: 39786 entries, 0 to 39785\n",
      "Data columns (total 33 columns):\n",
      " #   Column                   Non-Null Count  Dtype  \n",
      "---  ------                   --------------  -----  \n",
      " 0   loan_status              39786 non-null  int64  \n",
      " 1   loan_amnt                39786 non-null  float64\n",
      " 2   term                     39786 non-null  int64  \n",
      " 3   int_rate                 39786 non-null  float64\n",
      " 4   installment              39786 non-null  float64\n",
      " 5   sub_grade                39786 non-null  int64  \n",
      " 6   emp_length               39786 non-null  float64\n",
      " 7   annual_inc               39786 non-null  float64\n",
      " 8   purpose                  39786 non-null  int64  \n",
      " 9   dti                      39786 non-null  float64\n",
      " 10  delinq_2yrs              39786 non-null  float64\n",
      " 11  inq_last_6mths           39786 non-null  float64\n",
      " 12  open_acc                 39786 non-null  float64\n",
      " 13  pub_rec                  39786 non-null  float64\n",
      " 14  revol_bal                39786 non-null  float64\n",
      " 15  revol_util               39786 non-null  float64\n",
      " 16  total_acc                39786 non-null  float64\n",
      " 17  pub_rec_bankruptcies     39786 non-null  float64\n",
      " 18  fico_score               39786 non-null  int32  \n",
      " 19  fico_class               39786 non-null  int64  \n",
      " 20  home_ownership_MORTGAGE  39786 non-null  uint8  \n",
      " 21  home_ownership_NONE      39786 non-null  uint8  \n",
      " 22  home_ownership_OTHER     39786 non-null  uint8  \n",
      " 23  home_ownership_OWN       39786 non-null  uint8  \n",
      " 24  home_ownership_RENT      39786 non-null  uint8  \n",
      " 25  verif_stat               39786 non-null  int64  \n",
      " 26  year_issue               39786 non-null  int64  \n",
      " 27  month_issue              39786 non-null  int64  \n",
      " 28  year_ecl                 39786 non-null  int64  \n",
      " 29  month_ecl                39786 non-null  int64  \n",
      " 30  geo_loc                  39786 non-null  int64  \n",
      " 31  geo_loc_ns               39786 non-null  int64  \n",
      " 32  geo_loc_we               39786 non-null  int64  \n",
      "dtypes: float64(14), int32(1), int64(13), uint8(5)\n",
      "memory usage: 8.5 MB\n"
     ]
    }
   ],
   "source": [
    "df.info()"
   ]
  },
  {
   "cell_type": "code",
   "execution_count": 102,
   "id": "5753059e",
   "metadata": {},
   "outputs": [
    {
     "data": {
      "text/plain": [
       "Index(['loan_status', 'loan_amnt', 'term', 'int_rate', 'installment',\n",
       "       'sub_grade', 'emp_length', 'annual_inc', 'purpose', 'dti',\n",
       "       'delinq_2yrs', 'inq_last_6mths', 'open_acc', 'pub_rec', 'revol_bal',\n",
       "       'revol_util', 'total_acc', 'pub_rec_bankruptcies', 'fico_score',\n",
       "       'fico_class', 'home_ownership_MORTGAGE', 'home_ownership_NONE',\n",
       "       'home_ownership_OTHER', 'home_ownership_OWN', 'home_ownership_RENT',\n",
       "       'verif_stat', 'year_issue', 'month_issue', 'year_ecl', 'month_ecl',\n",
       "       'geo_loc', 'geo_loc_ns', 'geo_loc_we'],\n",
       "      dtype='object')"
      ]
     },
     "execution_count": 102,
     "metadata": {},
     "output_type": "execute_result"
    }
   ],
   "source": [
    "df.columns"
   ]
  },
  {
   "cell_type": "code",
   "execution_count": 103,
   "id": "e9e09937",
   "metadata": {},
   "outputs": [
    {
     "data": {
      "text/plain": [
       "(39786, 33)"
      ]
     },
     "execution_count": 103,
     "metadata": {},
     "output_type": "execute_result"
    }
   ],
   "source": [
    "df.shape"
   ]
  },
  {
   "cell_type": "code",
   "execution_count": 104,
   "id": "ead15b56",
   "metadata": {},
   "outputs": [
    {
     "data": {
      "text/html": [
       "<div>\n",
       "<style scoped>\n",
       "    .dataframe tbody tr th:only-of-type {\n",
       "        vertical-align: middle;\n",
       "    }\n",
       "\n",
       "    .dataframe tbody tr th {\n",
       "        vertical-align: top;\n",
       "    }\n",
       "\n",
       "    .dataframe thead th {\n",
       "        text-align: right;\n",
       "    }\n",
       "</style>\n",
       "<table border=\"1\" class=\"dataframe\">\n",
       "  <thead>\n",
       "    <tr style=\"text-align: right;\">\n",
       "      <th></th>\n",
       "      <th>loan_status</th>\n",
       "      <th>loan_amnt</th>\n",
       "      <th>term</th>\n",
       "      <th>int_rate</th>\n",
       "      <th>installment</th>\n",
       "      <th>sub_grade</th>\n",
       "      <th>emp_length</th>\n",
       "      <th>annual_inc</th>\n",
       "      <th>purpose</th>\n",
       "      <th>dti</th>\n",
       "      <th>...</th>\n",
       "      <th>home_ownership_OWN</th>\n",
       "      <th>home_ownership_RENT</th>\n",
       "      <th>verif_stat</th>\n",
       "      <th>year_issue</th>\n",
       "      <th>month_issue</th>\n",
       "      <th>year_ecl</th>\n",
       "      <th>month_ecl</th>\n",
       "      <th>geo_loc</th>\n",
       "      <th>geo_loc_ns</th>\n",
       "      <th>geo_loc_we</th>\n",
       "    </tr>\n",
       "  </thead>\n",
       "  <tbody>\n",
       "    <tr>\n",
       "      <th>0</th>\n",
       "      <td>1</td>\n",
       "      <td>5000.0</td>\n",
       "      <td>36</td>\n",
       "      <td>10.65</td>\n",
       "      <td>162.87</td>\n",
       "      <td>2</td>\n",
       "      <td>10.0</td>\n",
       "      <td>24000.0</td>\n",
       "      <td>1</td>\n",
       "      <td>27.65</td>\n",
       "      <td>...</td>\n",
       "      <td>0</td>\n",
       "      <td>1</td>\n",
       "      <td>3</td>\n",
       "      <td>2011</td>\n",
       "      <td>12</td>\n",
       "      <td>3</td>\n",
       "      <td>1</td>\n",
       "      <td>4</td>\n",
       "      <td>1</td>\n",
       "      <td>1</td>\n",
       "    </tr>\n",
       "    <tr>\n",
       "      <th>1</th>\n",
       "      <td>0</td>\n",
       "      <td>2500.0</td>\n",
       "      <td>60</td>\n",
       "      <td>15.27</td>\n",
       "      <td>59.83</td>\n",
       "      <td>3</td>\n",
       "      <td>0.0</td>\n",
       "      <td>30000.0</td>\n",
       "      <td>3</td>\n",
       "      <td>1.00</td>\n",
       "      <td>...</td>\n",
       "      <td>0</td>\n",
       "      <td>1</td>\n",
       "      <td>2</td>\n",
       "      <td>2011</td>\n",
       "      <td>12</td>\n",
       "      <td>2</td>\n",
       "      <td>4</td>\n",
       "      <td>3</td>\n",
       "      <td>1</td>\n",
       "      <td>0</td>\n",
       "    </tr>\n",
       "    <tr>\n",
       "      <th>2</th>\n",
       "      <td>1</td>\n",
       "      <td>2400.0</td>\n",
       "      <td>36</td>\n",
       "      <td>15.96</td>\n",
       "      <td>84.33</td>\n",
       "      <td>3</td>\n",
       "      <td>10.0</td>\n",
       "      <td>12252.0</td>\n",
       "      <td>4</td>\n",
       "      <td>8.72</td>\n",
       "      <td>...</td>\n",
       "      <td>0</td>\n",
       "      <td>1</td>\n",
       "      <td>1</td>\n",
       "      <td>2011</td>\n",
       "      <td>12</td>\n",
       "      <td>1</td>\n",
       "      <td>11</td>\n",
       "      <td>1</td>\n",
       "      <td>0</td>\n",
       "      <td>0</td>\n",
       "    </tr>\n",
       "    <tr>\n",
       "      <th>3</th>\n",
       "      <td>1</td>\n",
       "      <td>10000.0</td>\n",
       "      <td>36</td>\n",
       "      <td>13.49</td>\n",
       "      <td>339.31</td>\n",
       "      <td>3</td>\n",
       "      <td>10.0</td>\n",
       "      <td>49200.0</td>\n",
       "      <td>4</td>\n",
       "      <td>20.00</td>\n",
       "      <td>...</td>\n",
       "      <td>0</td>\n",
       "      <td>1</td>\n",
       "      <td>2</td>\n",
       "      <td>2011</td>\n",
       "      <td>12</td>\n",
       "      <td>2</td>\n",
       "      <td>2</td>\n",
       "      <td>4</td>\n",
       "      <td>1</td>\n",
       "      <td>1</td>\n",
       "    </tr>\n",
       "    <tr>\n",
       "      <th>4</th>\n",
       "      <td>1</td>\n",
       "      <td>3000.0</td>\n",
       "      <td>60</td>\n",
       "      <td>12.69</td>\n",
       "      <td>67.79</td>\n",
       "      <td>2</td>\n",
       "      <td>1.0</td>\n",
       "      <td>80000.0</td>\n",
       "      <td>4</td>\n",
       "      <td>17.94</td>\n",
       "      <td>...</td>\n",
       "      <td>0</td>\n",
       "      <td>1</td>\n",
       "      <td>2</td>\n",
       "      <td>2011</td>\n",
       "      <td>12</td>\n",
       "      <td>2</td>\n",
       "      <td>1</td>\n",
       "      <td>2</td>\n",
       "      <td>0</td>\n",
       "      <td>1</td>\n",
       "    </tr>\n",
       "  </tbody>\n",
       "</table>\n",
       "<p>5 rows × 33 columns</p>\n",
       "</div>"
      ],
      "text/plain": [
       "   loan_status  loan_amnt  term  int_rate  installment  sub_grade  emp_length  \\\n",
       "0            1     5000.0    36     10.65       162.87          2        10.0   \n",
       "1            0     2500.0    60     15.27        59.83          3         0.0   \n",
       "2            1     2400.0    36     15.96        84.33          3        10.0   \n",
       "3            1    10000.0    36     13.49       339.31          3        10.0   \n",
       "4            1     3000.0    60     12.69        67.79          2         1.0   \n",
       "\n",
       "   annual_inc  purpose    dti  ...  home_ownership_OWN  home_ownership_RENT  \\\n",
       "0     24000.0        1  27.65  ...                   0                    1   \n",
       "1     30000.0        3   1.00  ...                   0                    1   \n",
       "2     12252.0        4   8.72  ...                   0                    1   \n",
       "3     49200.0        4  20.00  ...                   0                    1   \n",
       "4     80000.0        4  17.94  ...                   0                    1   \n",
       "\n",
       "   verif_stat  year_issue  month_issue  year_ecl  month_ecl  geo_loc  \\\n",
       "0           3        2011           12         3          1        4   \n",
       "1           2        2011           12         2          4        3   \n",
       "2           1        2011           12         1         11        1   \n",
       "3           2        2011           12         2          2        4   \n",
       "4           2        2011           12         2          1        2   \n",
       "\n",
       "   geo_loc_ns  geo_loc_we  \n",
       "0           1           1  \n",
       "1           1           0  \n",
       "2           0           0  \n",
       "3           1           1  \n",
       "4           0           1  \n",
       "\n",
       "[5 rows x 33 columns]"
      ]
     },
     "metadata": {},
     "output_type": "display_data"
    }
   ],
   "source": [
    "display(df.head())"
   ]
  },
  {
   "cell_type": "code",
   "execution_count": 108,
   "id": "e7c82684",
   "metadata": {},
   "outputs": [
    {
     "data": {
      "image/png": "[encoded data removed]",
      "text/plain": [
       "<Figure size 2880x2160 with 2 Axes>"
      ]
     },
     "metadata": {
      "needs_background": "light"
     },
     "output_type": "display_data"
    }
   ],
   "source": [
    "# Checking correlation and using heatmap to visualise it.\n",
    "\n",
    "plt.figure(figsize = (40,30))       \n",
    "sns.heatmap(df.corr(), vmin = -1, vmax = 1, annot = True)\n",
    "\n",
    "# Save the heatmap\n",
    "\n",
    "plt.savefig('Heatmap.png', dpi=300, bbox_inches='tight')"
   ]
  },
  {
   "cell_type": "code",
   "execution_count": 106,
   "id": "93ec0c7f",
   "metadata": {},
   "outputs": [],
   "source": [
    "# Exporting the new DataFrame to .csv file.\n",
    "\n",
    "df.to_csv('Part_3.csv', index = False)"
   ]
  }
 ],
 "metadata": {
  "kernelspec": {
   "display_name": "Python 3",
   "language": "python",
   "name": "python3"
  },
  "language_info": {
   "codemirror_mode": {
    "name": "ipython",
    "version": 3
   },
   "file_extension": ".py",
   "mimetype": "text/x-python",
   "name": "python",
   "nbconvert_exporter": "python",
   "pygments_lexer": "ipython3",
   "version": "3.8.8"
  }
 },
 "nbformat": 4,
 "nbformat_minor": 5
}
