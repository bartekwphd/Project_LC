{
 "cells": [
  {
   "cell_type": "markdown",
   "id": "18e46fd8",
   "metadata": {},
   "source": [
    "# Part 4 - Modeling"
   ]
  },
  {
   "cell_type": "code",
   "execution_count": 1,
   "id": "42ea66cd",
   "metadata": {},
   "outputs": [],
   "source": [
    "# Load packages\n",
    "\n",
    "import numpy as np\n",
    "import pandas as pd\n",
    "import seaborn as sns\n",
    "import matplotlib.pyplot as plt"
   ]
  },
  {
   "cell_type": "code",
   "execution_count": 2,
   "id": "51d9edbe",
   "metadata": {},
   "outputs": [
    {
     "data": {
      "text/html": [
       "<div>\n",
       "<style scoped>\n",
       "    .dataframe tbody tr th:only-of-type {\n",
       "        vertical-align: middle;\n",
       "    }\n",
       "\n",
       "    .dataframe tbody tr th {\n",
       "        vertical-align: top;\n",
       "    }\n",
       "\n",
       "    .dataframe thead th {\n",
       "        text-align: right;\n",
       "    }\n",
       "</style>\n",
       "<table border=\"1\" class=\"dataframe\">\n",
       "  <thead>\n",
       "    <tr style=\"text-align: right;\">\n",
       "      <th></th>\n",
       "      <th>loan_status</th>\n",
       "      <th>loan_amnt</th>\n",
       "      <th>term</th>\n",
       "      <th>int_rate</th>\n",
       "      <th>installment</th>\n",
       "      <th>emp_length</th>\n",
       "      <th>annual_inc</th>\n",
       "      <th>dti</th>\n",
       "      <th>delinq_2yrs</th>\n",
       "      <th>inq_last_6mths</th>\n",
       "      <th>open_acc</th>\n",
       "      <th>pub_rec</th>\n",
       "      <th>revol_bal</th>\n",
       "      <th>revol_util</th>\n",
       "      <th>total_acc</th>\n",
       "      <th>pub_rec_bankruptcies</th>\n",
       "      <th>fico_score</th>\n",
       "      <th>fico_class</th>\n",
       "      <th>sub_grade_A1</th>\n",
       "      <th>sub_grade_A2</th>\n",
       "      <th>sub_grade_A3</th>\n",
       "      <th>sub_grade_A4</th>\n",
       "      <th>sub_grade_A5</th>\n",
       "      <th>sub_grade_B1</th>\n",
       "      <th>sub_grade_B2</th>\n",
       "      <th>sub_grade_B3</th>\n",
       "      <th>sub_grade_B4</th>\n",
       "      <th>sub_grade_B5</th>\n",
       "      <th>sub_grade_C1</th>\n",
       "      <th>sub_grade_C2</th>\n",
       "      <th>sub_grade_C3</th>\n",
       "      <th>sub_grade_C4</th>\n",
       "      <th>sub_grade_C5</th>\n",
       "      <th>sub_grade_D1</th>\n",
       "      <th>sub_grade_D2</th>\n",
       "      <th>sub_grade_D3</th>\n",
       "      <th>sub_grade_D4</th>\n",
       "      <th>sub_grade_D5</th>\n",
       "      <th>sub_grade_E1</th>\n",
       "      <th>sub_grade_E2</th>\n",
       "      <th>sub_grade_E3</th>\n",
       "      <th>sub_grade_E4</th>\n",
       "      <th>sub_grade_E5</th>\n",
       "      <th>sub_grade_F1</th>\n",
       "      <th>sub_grade_F2</th>\n",
       "      <th>sub_grade_F3</th>\n",
       "      <th>sub_grade_F4</th>\n",
       "      <th>sub_grade_F5</th>\n",
       "      <th>sub_grade_G1</th>\n",
       "      <th>sub_grade_G2</th>\n",
       "      <th>sub_grade_G3</th>\n",
       "      <th>sub_grade_G4</th>\n",
       "      <th>sub_grade_G5</th>\n",
       "      <th>home_ownership_MORTGAGE</th>\n",
       "      <th>home_ownership_NONE</th>\n",
       "      <th>home_ownership_OTHER</th>\n",
       "      <th>home_ownership_OWN</th>\n",
       "      <th>home_ownership_RENT</th>\n",
       "      <th>verif_stat</th>\n",
       "      <th>purpose_car</th>\n",
       "      <th>purpose_credit_card</th>\n",
       "      <th>purpose_debt_consolidation</th>\n",
       "      <th>purpose_educational</th>\n",
       "      <th>purpose_home_improvement</th>\n",
       "      <th>purpose_house</th>\n",
       "      <th>purpose_major_purchase</th>\n",
       "      <th>purpose_medical</th>\n",
       "      <th>purpose_moving</th>\n",
       "      <th>purpose_other</th>\n",
       "      <th>purpose_renewable_energy</th>\n",
       "      <th>purpose_small_business</th>\n",
       "      <th>purpose_vacation</th>\n",
       "      <th>purpose_wedding</th>\n",
       "      <th>year_issue</th>\n",
       "      <th>month_issue</th>\n",
       "      <th>year_ecl</th>\n",
       "      <th>month_ecl</th>\n",
       "      <th>geo_loc</th>\n",
       "      <th>geo_loc_ns</th>\n",
       "      <th>geo_loc_we</th>\n",
       "      <th>addr_state_AK</th>\n",
       "      <th>addr_state_AL</th>\n",
       "      <th>addr_state_AR</th>\n",
       "      <th>addr_state_AZ</th>\n",
       "      <th>addr_state_CA</th>\n",
       "      <th>addr_state_CO</th>\n",
       "      <th>addr_state_CT</th>\n",
       "      <th>addr_state_DC</th>\n",
       "      <th>addr_state_DE</th>\n",
       "      <th>addr_state_FL</th>\n",
       "      <th>addr_state_GA</th>\n",
       "      <th>addr_state_HI</th>\n",
       "      <th>addr_state_IA</th>\n",
       "      <th>addr_state_ID</th>\n",
       "      <th>addr_state_IL</th>\n",
       "      <th>addr_state_IN</th>\n",
       "      <th>addr_state_KS</th>\n",
       "      <th>addr_state_KY</th>\n",
       "      <th>addr_state_LA</th>\n",
       "      <th>addr_state_MA</th>\n",
       "      <th>addr_state_MD</th>\n",
       "      <th>addr_state_ME</th>\n",
       "      <th>addr_state_MI</th>\n",
       "      <th>addr_state_MN</th>\n",
       "      <th>addr_state_MO</th>\n",
       "      <th>addr_state_MS</th>\n",
       "      <th>addr_state_MT</th>\n",
       "      <th>addr_state_NC</th>\n",
       "      <th>addr_state_NE</th>\n",
       "      <th>addr_state_NH</th>\n",
       "      <th>addr_state_NJ</th>\n",
       "      <th>addr_state_NM</th>\n",
       "      <th>addr_state_NV</th>\n",
       "      <th>addr_state_NY</th>\n",
       "      <th>addr_state_OH</th>\n",
       "      <th>addr_state_OK</th>\n",
       "      <th>addr_state_OR</th>\n",
       "      <th>addr_state_PA</th>\n",
       "      <th>addr_state_RI</th>\n",
       "      <th>addr_state_SC</th>\n",
       "      <th>addr_state_SD</th>\n",
       "      <th>addr_state_TN</th>\n",
       "      <th>addr_state_TX</th>\n",
       "      <th>addr_state_UT</th>\n",
       "      <th>addr_state_VA</th>\n",
       "      <th>addr_state_VT</th>\n",
       "      <th>addr_state_WA</th>\n",
       "      <th>addr_state_WI</th>\n",
       "      <th>addr_state_WV</th>\n",
       "      <th>addr_state_WY</th>\n",
       "    </tr>\n",
       "  </thead>\n",
       "  <tbody>\n",
       "    <tr>\n",
       "      <th>0</th>\n",
       "      <td>1</td>\n",
       "      <td>5000.0</td>\n",
       "      <td>36</td>\n",
       "      <td>10.65</td>\n",
       "      <td>162.87</td>\n",
       "      <td>10.0</td>\n",
       "      <td>24000.0</td>\n",
       "      <td>27.65</td>\n",
       "      <td>0.0</td>\n",
       "      <td>1.0</td>\n",
       "      <td>3.0</td>\n",
       "      <td>0.0</td>\n",
       "      <td>13648.0</td>\n",
       "      <td>83.7</td>\n",
       "      <td>76.0</td>\n",
       "      <td>0.0</td>\n",
       "      <td>737</td>\n",
       "      <td>3</td>\n",
       "      <td>0</td>\n",
       "      <td>0</td>\n",
       "      <td>0</td>\n",
       "      <td>0</td>\n",
       "      <td>0</td>\n",
       "      <td>0</td>\n",
       "      <td>1</td>\n",
       "      <td>0</td>\n",
       "      <td>0</td>\n",
       "      <td>0</td>\n",
       "      <td>0</td>\n",
       "      <td>0</td>\n",
       "      <td>0</td>\n",
       "      <td>0</td>\n",
       "      <td>0</td>\n",
       "      <td>0</td>\n",
       "      <td>0</td>\n",
       "      <td>0</td>\n",
       "      <td>0</td>\n",
       "      <td>0</td>\n",
       "      <td>0</td>\n",
       "      <td>0</td>\n",
       "      <td>0</td>\n",
       "      <td>0</td>\n",
       "      <td>0</td>\n",
       "      <td>0</td>\n",
       "      <td>0</td>\n",
       "      <td>0</td>\n",
       "      <td>0</td>\n",
       "      <td>0</td>\n",
       "      <td>0</td>\n",
       "      <td>0</td>\n",
       "      <td>0</td>\n",
       "      <td>0</td>\n",
       "      <td>0</td>\n",
       "      <td>0</td>\n",
       "      <td>0</td>\n",
       "      <td>0</td>\n",
       "      <td>0</td>\n",
       "      <td>1</td>\n",
       "      <td>3</td>\n",
       "      <td>0</td>\n",
       "      <td>1</td>\n",
       "      <td>0</td>\n",
       "      <td>0</td>\n",
       "      <td>0</td>\n",
       "      <td>0</td>\n",
       "      <td>0</td>\n",
       "      <td>0</td>\n",
       "      <td>0</td>\n",
       "      <td>0</td>\n",
       "      <td>0</td>\n",
       "      <td>0</td>\n",
       "      <td>0</td>\n",
       "      <td>0</td>\n",
       "      <td>2011</td>\n",
       "      <td>12</td>\n",
       "      <td>3</td>\n",
       "      <td>1</td>\n",
       "      <td>4</td>\n",
       "      <td>2</td>\n",
       "      <td>2</td>\n",
       "      <td>0</td>\n",
       "      <td>0</td>\n",
       "      <td>0</td>\n",
       "      <td>1</td>\n",
       "      <td>0</td>\n",
       "      <td>0</td>\n",
       "      <td>0</td>\n",
       "      <td>0</td>\n",
       "      <td>0</td>\n",
       "      <td>0</td>\n",
       "      <td>0</td>\n",
       "      <td>0</td>\n",
       "      <td>0</td>\n",
       "      <td>0</td>\n",
       "      <td>0</td>\n",
       "      <td>0</td>\n",
       "      <td>0</td>\n",
       "      <td>0</td>\n",
       "      <td>0</td>\n",
       "      <td>0</td>\n",
       "      <td>0</td>\n",
       "      <td>0</td>\n",
       "      <td>0</td>\n",
       "      <td>0</td>\n",
       "      <td>0</td>\n",
       "      <td>0</td>\n",
       "      <td>0</td>\n",
       "      <td>0</td>\n",
       "      <td>0</td>\n",
       "      <td>0</td>\n",
       "      <td>0</td>\n",
       "      <td>0</td>\n",
       "      <td>0</td>\n",
       "      <td>0</td>\n",
       "      <td>0</td>\n",
       "      <td>0</td>\n",
       "      <td>0</td>\n",
       "      <td>0</td>\n",
       "      <td>0</td>\n",
       "      <td>0</td>\n",
       "      <td>0</td>\n",
       "      <td>0</td>\n",
       "      <td>0</td>\n",
       "      <td>0</td>\n",
       "      <td>0</td>\n",
       "      <td>0</td>\n",
       "      <td>0</td>\n",
       "      <td>0</td>\n",
       "      <td>0</td>\n",
       "      <td>0</td>\n",
       "    </tr>\n",
       "    <tr>\n",
       "      <th>1</th>\n",
       "      <td>0</td>\n",
       "      <td>2500.0</td>\n",
       "      <td>60</td>\n",
       "      <td>15.27</td>\n",
       "      <td>59.83</td>\n",
       "      <td>0.0</td>\n",
       "      <td>30000.0</td>\n",
       "      <td>1.00</td>\n",
       "      <td>0.0</td>\n",
       "      <td>5.0</td>\n",
       "      <td>3.0</td>\n",
       "      <td>0.0</td>\n",
       "      <td>1687.0</td>\n",
       "      <td>9.4</td>\n",
       "      <td>76.0</td>\n",
       "      <td>0.0</td>\n",
       "      <td>742</td>\n",
       "      <td>4</td>\n",
       "      <td>0</td>\n",
       "      <td>0</td>\n",
       "      <td>0</td>\n",
       "      <td>0</td>\n",
       "      <td>0</td>\n",
       "      <td>0</td>\n",
       "      <td>0</td>\n",
       "      <td>0</td>\n",
       "      <td>0</td>\n",
       "      <td>0</td>\n",
       "      <td>0</td>\n",
       "      <td>0</td>\n",
       "      <td>0</td>\n",
       "      <td>1</td>\n",
       "      <td>0</td>\n",
       "      <td>0</td>\n",
       "      <td>0</td>\n",
       "      <td>0</td>\n",
       "      <td>0</td>\n",
       "      <td>0</td>\n",
       "      <td>0</td>\n",
       "      <td>0</td>\n",
       "      <td>0</td>\n",
       "      <td>0</td>\n",
       "      <td>0</td>\n",
       "      <td>0</td>\n",
       "      <td>0</td>\n",
       "      <td>0</td>\n",
       "      <td>0</td>\n",
       "      <td>0</td>\n",
       "      <td>0</td>\n",
       "      <td>0</td>\n",
       "      <td>0</td>\n",
       "      <td>0</td>\n",
       "      <td>0</td>\n",
       "      <td>0</td>\n",
       "      <td>0</td>\n",
       "      <td>0</td>\n",
       "      <td>0</td>\n",
       "      <td>1</td>\n",
       "      <td>2</td>\n",
       "      <td>1</td>\n",
       "      <td>0</td>\n",
       "      <td>0</td>\n",
       "      <td>0</td>\n",
       "      <td>0</td>\n",
       "      <td>0</td>\n",
       "      <td>0</td>\n",
       "      <td>0</td>\n",
       "      <td>0</td>\n",
       "      <td>0</td>\n",
       "      <td>0</td>\n",
       "      <td>0</td>\n",
       "      <td>0</td>\n",
       "      <td>0</td>\n",
       "      <td>2011</td>\n",
       "      <td>12</td>\n",
       "      <td>2</td>\n",
       "      <td>4</td>\n",
       "      <td>3</td>\n",
       "      <td>2</td>\n",
       "      <td>1</td>\n",
       "      <td>0</td>\n",
       "      <td>0</td>\n",
       "      <td>0</td>\n",
       "      <td>0</td>\n",
       "      <td>0</td>\n",
       "      <td>0</td>\n",
       "      <td>0</td>\n",
       "      <td>0</td>\n",
       "      <td>0</td>\n",
       "      <td>0</td>\n",
       "      <td>1</td>\n",
       "      <td>0</td>\n",
       "      <td>0</td>\n",
       "      <td>0</td>\n",
       "      <td>0</td>\n",
       "      <td>0</td>\n",
       "      <td>0</td>\n",
       "      <td>0</td>\n",
       "      <td>0</td>\n",
       "      <td>0</td>\n",
       "      <td>0</td>\n",
       "      <td>0</td>\n",
       "      <td>0</td>\n",
       "      <td>0</td>\n",
       "      <td>0</td>\n",
       "      <td>0</td>\n",
       "      <td>0</td>\n",
       "      <td>0</td>\n",
       "      <td>0</td>\n",
       "      <td>0</td>\n",
       "      <td>0</td>\n",
       "      <td>0</td>\n",
       "      <td>0</td>\n",
       "      <td>0</td>\n",
       "      <td>0</td>\n",
       "      <td>0</td>\n",
       "      <td>0</td>\n",
       "      <td>0</td>\n",
       "      <td>0</td>\n",
       "      <td>0</td>\n",
       "      <td>0</td>\n",
       "      <td>0</td>\n",
       "      <td>0</td>\n",
       "      <td>0</td>\n",
       "      <td>0</td>\n",
       "      <td>0</td>\n",
       "      <td>0</td>\n",
       "      <td>0</td>\n",
       "      <td>0</td>\n",
       "      <td>0</td>\n",
       "    </tr>\n",
       "    <tr>\n",
       "      <th>2</th>\n",
       "      <td>1</td>\n",
       "      <td>2400.0</td>\n",
       "      <td>36</td>\n",
       "      <td>15.96</td>\n",
       "      <td>84.33</td>\n",
       "      <td>10.0</td>\n",
       "      <td>12252.0</td>\n",
       "      <td>8.72</td>\n",
       "      <td>0.0</td>\n",
       "      <td>2.0</td>\n",
       "      <td>2.0</td>\n",
       "      <td>0.0</td>\n",
       "      <td>2956.0</td>\n",
       "      <td>98.5</td>\n",
       "      <td>76.0</td>\n",
       "      <td>0.0</td>\n",
       "      <td>737</td>\n",
       "      <td>3</td>\n",
       "      <td>0</td>\n",
       "      <td>0</td>\n",
       "      <td>0</td>\n",
       "      <td>0</td>\n",
       "      <td>0</td>\n",
       "      <td>0</td>\n",
       "      <td>0</td>\n",
       "      <td>0</td>\n",
       "      <td>0</td>\n",
       "      <td>0</td>\n",
       "      <td>0</td>\n",
       "      <td>0</td>\n",
       "      <td>0</td>\n",
       "      <td>0</td>\n",
       "      <td>1</td>\n",
       "      <td>0</td>\n",
       "      <td>0</td>\n",
       "      <td>0</td>\n",
       "      <td>0</td>\n",
       "      <td>0</td>\n",
       "      <td>0</td>\n",
       "      <td>0</td>\n",
       "      <td>0</td>\n",
       "      <td>0</td>\n",
       "      <td>0</td>\n",
       "      <td>0</td>\n",
       "      <td>0</td>\n",
       "      <td>0</td>\n",
       "      <td>0</td>\n",
       "      <td>0</td>\n",
       "      <td>0</td>\n",
       "      <td>0</td>\n",
       "      <td>0</td>\n",
       "      <td>0</td>\n",
       "      <td>0</td>\n",
       "      <td>0</td>\n",
       "      <td>0</td>\n",
       "      <td>0</td>\n",
       "      <td>0</td>\n",
       "      <td>1</td>\n",
       "      <td>1</td>\n",
       "      <td>0</td>\n",
       "      <td>0</td>\n",
       "      <td>0</td>\n",
       "      <td>0</td>\n",
       "      <td>0</td>\n",
       "      <td>0</td>\n",
       "      <td>0</td>\n",
       "      <td>0</td>\n",
       "      <td>0</td>\n",
       "      <td>0</td>\n",
       "      <td>0</td>\n",
       "      <td>1</td>\n",
       "      <td>0</td>\n",
       "      <td>0</td>\n",
       "      <td>2011</td>\n",
       "      <td>12</td>\n",
       "      <td>1</td>\n",
       "      <td>11</td>\n",
       "      <td>1</td>\n",
       "      <td>1</td>\n",
       "      <td>1</td>\n",
       "      <td>0</td>\n",
       "      <td>0</td>\n",
       "      <td>0</td>\n",
       "      <td>0</td>\n",
       "      <td>0</td>\n",
       "      <td>0</td>\n",
       "      <td>0</td>\n",
       "      <td>0</td>\n",
       "      <td>0</td>\n",
       "      <td>0</td>\n",
       "      <td>0</td>\n",
       "      <td>0</td>\n",
       "      <td>0</td>\n",
       "      <td>0</td>\n",
       "      <td>1</td>\n",
       "      <td>0</td>\n",
       "      <td>0</td>\n",
       "      <td>0</td>\n",
       "      <td>0</td>\n",
       "      <td>0</td>\n",
       "      <td>0</td>\n",
       "      <td>0</td>\n",
       "      <td>0</td>\n",
       "      <td>0</td>\n",
       "      <td>0</td>\n",
       "      <td>0</td>\n",
       "      <td>0</td>\n",
       "      <td>0</td>\n",
       "      <td>0</td>\n",
       "      <td>0</td>\n",
       "      <td>0</td>\n",
       "      <td>0</td>\n",
       "      <td>0</td>\n",
       "      <td>0</td>\n",
       "      <td>0</td>\n",
       "      <td>0</td>\n",
       "      <td>0</td>\n",
       "      <td>0</td>\n",
       "      <td>0</td>\n",
       "      <td>0</td>\n",
       "      <td>0</td>\n",
       "      <td>0</td>\n",
       "      <td>0</td>\n",
       "      <td>0</td>\n",
       "      <td>0</td>\n",
       "      <td>0</td>\n",
       "      <td>0</td>\n",
       "      <td>0</td>\n",
       "      <td>0</td>\n",
       "      <td>0</td>\n",
       "    </tr>\n",
       "    <tr>\n",
       "      <th>3</th>\n",
       "      <td>1</td>\n",
       "      <td>10000.0</td>\n",
       "      <td>36</td>\n",
       "      <td>13.49</td>\n",
       "      <td>339.31</td>\n",
       "      <td>10.0</td>\n",
       "      <td>49200.0</td>\n",
       "      <td>20.00</td>\n",
       "      <td>0.0</td>\n",
       "      <td>1.0</td>\n",
       "      <td>10.0</td>\n",
       "      <td>0.0</td>\n",
       "      <td>5598.0</td>\n",
       "      <td>21.0</td>\n",
       "      <td>76.0</td>\n",
       "      <td>0.0</td>\n",
       "      <td>692</td>\n",
       "      <td>3</td>\n",
       "      <td>0</td>\n",
       "      <td>0</td>\n",
       "      <td>0</td>\n",
       "      <td>0</td>\n",
       "      <td>0</td>\n",
       "      <td>0</td>\n",
       "      <td>0</td>\n",
       "      <td>0</td>\n",
       "      <td>0</td>\n",
       "      <td>0</td>\n",
       "      <td>1</td>\n",
       "      <td>0</td>\n",
       "      <td>0</td>\n",
       "      <td>0</td>\n",
       "      <td>0</td>\n",
       "      <td>0</td>\n",
       "      <td>0</td>\n",
       "      <td>0</td>\n",
       "      <td>0</td>\n",
       "      <td>0</td>\n",
       "      <td>0</td>\n",
       "      <td>0</td>\n",
       "      <td>0</td>\n",
       "      <td>0</td>\n",
       "      <td>0</td>\n",
       "      <td>0</td>\n",
       "      <td>0</td>\n",
       "      <td>0</td>\n",
       "      <td>0</td>\n",
       "      <td>0</td>\n",
       "      <td>0</td>\n",
       "      <td>0</td>\n",
       "      <td>0</td>\n",
       "      <td>0</td>\n",
       "      <td>0</td>\n",
       "      <td>0</td>\n",
       "      <td>0</td>\n",
       "      <td>0</td>\n",
       "      <td>0</td>\n",
       "      <td>1</td>\n",
       "      <td>2</td>\n",
       "      <td>0</td>\n",
       "      <td>0</td>\n",
       "      <td>0</td>\n",
       "      <td>0</td>\n",
       "      <td>0</td>\n",
       "      <td>0</td>\n",
       "      <td>0</td>\n",
       "      <td>0</td>\n",
       "      <td>0</td>\n",
       "      <td>1</td>\n",
       "      <td>0</td>\n",
       "      <td>0</td>\n",
       "      <td>0</td>\n",
       "      <td>0</td>\n",
       "      <td>2011</td>\n",
       "      <td>12</td>\n",
       "      <td>2</td>\n",
       "      <td>2</td>\n",
       "      <td>4</td>\n",
       "      <td>2</td>\n",
       "      <td>2</td>\n",
       "      <td>0</td>\n",
       "      <td>0</td>\n",
       "      <td>0</td>\n",
       "      <td>0</td>\n",
       "      <td>1</td>\n",
       "      <td>0</td>\n",
       "      <td>0</td>\n",
       "      <td>0</td>\n",
       "      <td>0</td>\n",
       "      <td>0</td>\n",
       "      <td>0</td>\n",
       "      <td>0</td>\n",
       "      <td>0</td>\n",
       "      <td>0</td>\n",
       "      <td>0</td>\n",
       "      <td>0</td>\n",
       "      <td>0</td>\n",
       "      <td>0</td>\n",
       "      <td>0</td>\n",
       "      <td>0</td>\n",
       "      <td>0</td>\n",
       "      <td>0</td>\n",
       "      <td>0</td>\n",
       "      <td>0</td>\n",
       "      <td>0</td>\n",
       "      <td>0</td>\n",
       "      <td>0</td>\n",
       "      <td>0</td>\n",
       "      <td>0</td>\n",
       "      <td>0</td>\n",
       "      <td>0</td>\n",
       "      <td>0</td>\n",
       "      <td>0</td>\n",
       "      <td>0</td>\n",
       "      <td>0</td>\n",
       "      <td>0</td>\n",
       "      <td>0</td>\n",
       "      <td>0</td>\n",
       "      <td>0</td>\n",
       "      <td>0</td>\n",
       "      <td>0</td>\n",
       "      <td>0</td>\n",
       "      <td>0</td>\n",
       "      <td>0</td>\n",
       "      <td>0</td>\n",
       "      <td>0</td>\n",
       "      <td>0</td>\n",
       "      <td>0</td>\n",
       "      <td>0</td>\n",
       "      <td>0</td>\n",
       "    </tr>\n",
       "    <tr>\n",
       "      <th>4</th>\n",
       "      <td>1</td>\n",
       "      <td>3000.0</td>\n",
       "      <td>60</td>\n",
       "      <td>12.69</td>\n",
       "      <td>67.79</td>\n",
       "      <td>1.0</td>\n",
       "      <td>80000.0</td>\n",
       "      <td>17.94</td>\n",
       "      <td>0.0</td>\n",
       "      <td>0.0</td>\n",
       "      <td>15.0</td>\n",
       "      <td>0.0</td>\n",
       "      <td>27783.0</td>\n",
       "      <td>53.9</td>\n",
       "      <td>76.0</td>\n",
       "      <td>0.0</td>\n",
       "      <td>697</td>\n",
       "      <td>3</td>\n",
       "      <td>0</td>\n",
       "      <td>0</td>\n",
       "      <td>0</td>\n",
       "      <td>0</td>\n",
       "      <td>0</td>\n",
       "      <td>0</td>\n",
       "      <td>0</td>\n",
       "      <td>0</td>\n",
       "      <td>0</td>\n",
       "      <td>1</td>\n",
       "      <td>0</td>\n",
       "      <td>0</td>\n",
       "      <td>0</td>\n",
       "      <td>0</td>\n",
       "      <td>0</td>\n",
       "      <td>0</td>\n",
       "      <td>0</td>\n",
       "      <td>0</td>\n",
       "      <td>0</td>\n",
       "      <td>0</td>\n",
       "      <td>0</td>\n",
       "      <td>0</td>\n",
       "      <td>0</td>\n",
       "      <td>0</td>\n",
       "      <td>0</td>\n",
       "      <td>0</td>\n",
       "      <td>0</td>\n",
       "      <td>0</td>\n",
       "      <td>0</td>\n",
       "      <td>0</td>\n",
       "      <td>0</td>\n",
       "      <td>0</td>\n",
       "      <td>0</td>\n",
       "      <td>0</td>\n",
       "      <td>0</td>\n",
       "      <td>0</td>\n",
       "      <td>0</td>\n",
       "      <td>0</td>\n",
       "      <td>0</td>\n",
       "      <td>1</td>\n",
       "      <td>2</td>\n",
       "      <td>0</td>\n",
       "      <td>0</td>\n",
       "      <td>0</td>\n",
       "      <td>0</td>\n",
       "      <td>0</td>\n",
       "      <td>0</td>\n",
       "      <td>0</td>\n",
       "      <td>0</td>\n",
       "      <td>0</td>\n",
       "      <td>1</td>\n",
       "      <td>0</td>\n",
       "      <td>0</td>\n",
       "      <td>0</td>\n",
       "      <td>0</td>\n",
       "      <td>2011</td>\n",
       "      <td>12</td>\n",
       "      <td>2</td>\n",
       "      <td>1</td>\n",
       "      <td>2</td>\n",
       "      <td>1</td>\n",
       "      <td>2</td>\n",
       "      <td>0</td>\n",
       "      <td>0</td>\n",
       "      <td>0</td>\n",
       "      <td>0</td>\n",
       "      <td>0</td>\n",
       "      <td>0</td>\n",
       "      <td>0</td>\n",
       "      <td>0</td>\n",
       "      <td>0</td>\n",
       "      <td>0</td>\n",
       "      <td>0</td>\n",
       "      <td>0</td>\n",
       "      <td>0</td>\n",
       "      <td>0</td>\n",
       "      <td>0</td>\n",
       "      <td>0</td>\n",
       "      <td>0</td>\n",
       "      <td>0</td>\n",
       "      <td>0</td>\n",
       "      <td>0</td>\n",
       "      <td>0</td>\n",
       "      <td>0</td>\n",
       "      <td>0</td>\n",
       "      <td>0</td>\n",
       "      <td>0</td>\n",
       "      <td>0</td>\n",
       "      <td>0</td>\n",
       "      <td>0</td>\n",
       "      <td>0</td>\n",
       "      <td>0</td>\n",
       "      <td>0</td>\n",
       "      <td>0</td>\n",
       "      <td>0</td>\n",
       "      <td>0</td>\n",
       "      <td>0</td>\n",
       "      <td>0</td>\n",
       "      <td>1</td>\n",
       "      <td>0</td>\n",
       "      <td>0</td>\n",
       "      <td>0</td>\n",
       "      <td>0</td>\n",
       "      <td>0</td>\n",
       "      <td>0</td>\n",
       "      <td>0</td>\n",
       "      <td>0</td>\n",
       "      <td>0</td>\n",
       "      <td>0</td>\n",
       "      <td>0</td>\n",
       "      <td>0</td>\n",
       "      <td>0</td>\n",
       "    </tr>\n",
       "  </tbody>\n",
       "</table>\n",
       "</div>"
      ],
      "text/plain": [
       "   loan_status  loan_amnt  term  int_rate  installment  emp_length  \\\n",
       "0            1     5000.0    36     10.65       162.87        10.0   \n",
       "1            0     2500.0    60     15.27        59.83         0.0   \n",
       "2            1     2400.0    36     15.96        84.33        10.0   \n",
       "3            1    10000.0    36     13.49       339.31        10.0   \n",
       "4            1     3000.0    60     12.69        67.79         1.0   \n",
       "\n",
       "   annual_inc    dti  delinq_2yrs  inq_last_6mths  open_acc  pub_rec  \\\n",
       "0     24000.0  27.65          0.0             1.0       3.0      0.0   \n",
       "1     30000.0   1.00          0.0             5.0       3.0      0.0   \n",
       "2     12252.0   8.72          0.0             2.0       2.0      0.0   \n",
       "3     49200.0  20.00          0.0             1.0      10.0      0.0   \n",
       "4     80000.0  17.94          0.0             0.0      15.0      0.0   \n",
       "\n",
       "   revol_bal  revol_util  total_acc  pub_rec_bankruptcies  fico_score  \\\n",
       "0    13648.0        83.7       76.0                   0.0         737   \n",
       "1     1687.0         9.4       76.0                   0.0         742   \n",
       "2     2956.0        98.5       76.0                   0.0         737   \n",
       "3     5598.0        21.0       76.0                   0.0         692   \n",
       "4    27783.0        53.9       76.0                   0.0         697   \n",
       "\n",
       "   fico_class  sub_grade_A1  sub_grade_A2  sub_grade_A3  sub_grade_A4  \\\n",
       "0           3             0             0             0             0   \n",
       "1           4             0             0             0             0   \n",
       "2           3             0             0             0             0   \n",
       "3           3             0             0             0             0   \n",
       "4           3             0             0             0             0   \n",
       "\n",
       "   sub_grade_A5  sub_grade_B1  sub_grade_B2  sub_grade_B3  sub_grade_B4  \\\n",
       "0             0             0             1             0             0   \n",
       "1             0             0             0             0             0   \n",
       "2             0             0             0             0             0   \n",
       "3             0             0             0             0             0   \n",
       "4             0             0             0             0             0   \n",
       "\n",
       "   sub_grade_B5  sub_grade_C1  sub_grade_C2  sub_grade_C3  sub_grade_C4  \\\n",
       "0             0             0             0             0             0   \n",
       "1             0             0             0             0             1   \n",
       "2             0             0             0             0             0   \n",
       "3             0             1             0             0             0   \n",
       "4             1             0             0             0             0   \n",
       "\n",
       "   sub_grade_C5  sub_grade_D1  sub_grade_D2  sub_grade_D3  sub_grade_D4  \\\n",
       "0             0             0             0             0             0   \n",
       "1             0             0             0             0             0   \n",
       "2             1             0             0             0             0   \n",
       "3             0             0             0             0             0   \n",
       "4             0             0             0             0             0   \n",
       "\n",
       "   sub_grade_D5  sub_grade_E1  sub_grade_E2  sub_grade_E3  sub_grade_E4  \\\n",
       "0             0             0             0             0             0   \n",
       "1             0             0             0             0             0   \n",
       "2             0             0             0             0             0   \n",
       "3             0             0             0             0             0   \n",
       "4             0             0             0             0             0   \n",
       "\n",
       "   sub_grade_E5  sub_grade_F1  sub_grade_F2  sub_grade_F3  sub_grade_F4  \\\n",
       "0             0             0             0             0             0   \n",
       "1             0             0             0             0             0   \n",
       "2             0             0             0             0             0   \n",
       "3             0             0             0             0             0   \n",
       "4             0             0             0             0             0   \n",
       "\n",
       "   sub_grade_F5  sub_grade_G1  sub_grade_G2  sub_grade_G3  sub_grade_G4  \\\n",
       "0             0             0             0             0             0   \n",
       "1             0             0             0             0             0   \n",
       "2             0             0             0             0             0   \n",
       "3             0             0             0             0             0   \n",
       "4             0             0             0             0             0   \n",
       "\n",
       "   sub_grade_G5  home_ownership_MORTGAGE  home_ownership_NONE  \\\n",
       "0             0                        0                    0   \n",
       "1             0                        0                    0   \n",
       "2             0                        0                    0   \n",
       "3             0                        0                    0   \n",
       "4             0                        0                    0   \n",
       "\n",
       "   home_ownership_OTHER  home_ownership_OWN  home_ownership_RENT  verif_stat  \\\n",
       "0                     0                   0                    1           3   \n",
       "1                     0                   0                    1           2   \n",
       "2                     0                   0                    1           1   \n",
       "3                     0                   0                    1           2   \n",
       "4                     0                   0                    1           2   \n",
       "\n",
       "   purpose_car  purpose_credit_card  purpose_debt_consolidation  \\\n",
       "0            0                    1                           0   \n",
       "1            1                    0                           0   \n",
       "2            0                    0                           0   \n",
       "3            0                    0                           0   \n",
       "4            0                    0                           0   \n",
       "\n",
       "   purpose_educational  purpose_home_improvement  purpose_house  \\\n",
       "0                    0                         0              0   \n",
       "1                    0                         0              0   \n",
       "2                    0                         0              0   \n",
       "3                    0                         0              0   \n",
       "4                    0                         0              0   \n",
       "\n",
       "   purpose_major_purchase  purpose_medical  purpose_moving  purpose_other  \\\n",
       "0                       0                0               0              0   \n",
       "1                       0                0               0              0   \n",
       "2                       0                0               0              0   \n",
       "3                       0                0               0              1   \n",
       "4                       0                0               0              1   \n",
       "\n",
       "   purpose_renewable_energy  purpose_small_business  purpose_vacation  \\\n",
       "0                         0                       0                 0   \n",
       "1                         0                       0                 0   \n",
       "2                         0                       1                 0   \n",
       "3                         0                       0                 0   \n",
       "4                         0                       0                 0   \n",
       "\n",
       "   purpose_wedding  year_issue  month_issue  year_ecl  month_ecl  geo_loc  \\\n",
       "0                0        2011           12         3          1        4   \n",
       "1                0        2011           12         2          4        3   \n",
       "2                0        2011           12         1         11        1   \n",
       "3                0        2011           12         2          2        4   \n",
       "4                0        2011           12         2          1        2   \n",
       "\n",
       "   geo_loc_ns  geo_loc_we  addr_state_AK  addr_state_AL  addr_state_AR  \\\n",
       "0           2           2              0              0              0   \n",
       "1           2           1              0              0              0   \n",
       "2           1           1              0              0              0   \n",
       "3           2           2              0              0              0   \n",
       "4           1           2              0              0              0   \n",
       "\n",
       "   addr_state_AZ  addr_state_CA  addr_state_CO  addr_state_CT  addr_state_DC  \\\n",
       "0              1              0              0              0              0   \n",
       "1              0              0              0              0              0   \n",
       "2              0              0              0              0              0   \n",
       "3              0              1              0              0              0   \n",
       "4              0              0              0              0              0   \n",
       "\n",
       "   addr_state_DE  addr_state_FL  addr_state_GA  addr_state_HI  addr_state_IA  \\\n",
       "0              0              0              0              0              0   \n",
       "1              0              0              1              0              0   \n",
       "2              0              0              0              0              0   \n",
       "3              0              0              0              0              0   \n",
       "4              0              0              0              0              0   \n",
       "\n",
       "   addr_state_ID  addr_state_IL  addr_state_IN  addr_state_KS  addr_state_KY  \\\n",
       "0              0              0              0              0              0   \n",
       "1              0              0              0              0              0   \n",
       "2              0              1              0              0              0   \n",
       "3              0              0              0              0              0   \n",
       "4              0              0              0              0              0   \n",
       "\n",
       "   addr_state_LA  addr_state_MA  addr_state_MD  addr_state_ME  addr_state_MI  \\\n",
       "0              0              0              0              0              0   \n",
       "1              0              0              0              0              0   \n",
       "2              0              0              0              0              0   \n",
       "3              0              0              0              0              0   \n",
       "4              0              0              0              0              0   \n",
       "\n",
       "   addr_state_MN  addr_state_MO  addr_state_MS  addr_state_MT  addr_state_NC  \\\n",
       "0              0              0              0              0              0   \n",
       "1              0              0              0              0              0   \n",
       "2              0              0              0              0              0   \n",
       "3              0              0              0              0              0   \n",
       "4              0              0              0              0              0   \n",
       "\n",
       "   addr_state_NE  addr_state_NH  addr_state_NJ  addr_state_NM  addr_state_NV  \\\n",
       "0              0              0              0              0              0   \n",
       "1              0              0              0              0              0   \n",
       "2              0              0              0              0              0   \n",
       "3              0              0              0              0              0   \n",
       "4              0              0              0              0              0   \n",
       "\n",
       "   addr_state_NY  addr_state_OH  addr_state_OK  addr_state_OR  addr_state_PA  \\\n",
       "0              0              0              0              0              0   \n",
       "1              0              0              0              0              0   \n",
       "2              0              0              0              0              0   \n",
       "3              0              0              0              0              0   \n",
       "4              0              0              0              1              0   \n",
       "\n",
       "   addr_state_RI  addr_state_SC  addr_state_SD  addr_state_TN  addr_state_TX  \\\n",
       "0              0              0              0              0              0   \n",
       "1              0              0              0              0              0   \n",
       "2              0              0              0              0              0   \n",
       "3              0              0              0              0              0   \n",
       "4              0              0              0              0              0   \n",
       "\n",
       "   addr_state_UT  addr_state_VA  addr_state_VT  addr_state_WA  addr_state_WI  \\\n",
       "0              0              0              0              0              0   \n",
       "1              0              0              0              0              0   \n",
       "2              0              0              0              0              0   \n",
       "3              0              0              0              0              0   \n",
       "4              0              0              0              0              0   \n",
       "\n",
       "   addr_state_WV  addr_state_WY  \n",
       "0              0              0  \n",
       "1              0              0  \n",
       "2              0              0  \n",
       "3              0              0  \n",
       "4              0              0  "
      ]
     },
     "metadata": {},
     "output_type": "display_data"
    }
   ],
   "source": [
    "# Load dataset\n",
    "\n",
    "df = pd.read_csv('Part_3.csv')\n",
    "pd.set_option(\"display.max_columns\", None)\n",
    "display(df.head())"
   ]
  },
  {
   "cell_type": "code",
   "execution_count": 3,
   "id": "92a6b017",
   "metadata": {},
   "outputs": [
    {
     "name": "stdout",
     "output_type": "stream",
     "text": [
      "<class 'pandas.core.frame.DataFrame'>\n",
      "RangeIndex: 39786 entries, 0 to 39785\n",
      "Columns: 130 entries, loan_status to addr_state_WY\n",
      "dtypes: float64(14), int64(116)\n",
      "memory usage: 39.5 MB\n"
     ]
    }
   ],
   "source": [
    "df.info()"
   ]
  },
  {
   "cell_type": "code",
   "execution_count": 4,
   "id": "bfa69f5b",
   "metadata": {},
   "outputs": [
    {
     "data": {
      "text/plain": [
       "0.0    130\n",
       "dtype: int64"
      ]
     },
     "execution_count": 4,
     "metadata": {},
     "output_type": "execute_result"
    }
   ],
   "source": [
    "# Checking nulls\n",
    "\n",
    "round(100 * (df.isnull().sum() / len(df.index)), 2).value_counts()"
   ]
  },
  {
   "cell_type": "code",
   "execution_count": 5,
   "id": "6275f8fa",
   "metadata": {},
   "outputs": [
    {
     "name": "stdout",
     "output_type": "stream",
     "text": [
      "['loan_status', 'loan_amnt', 'term', 'int_rate', 'installment', 'emp_length', 'annual_inc', 'dti', 'delinq_2yrs', 'inq_last_6mths', 'open_acc', 'pub_rec', 'revol_bal', 'revol_util', 'total_acc', 'pub_rec_bankruptcies', 'fico_score', 'fico_class', 'sub_grade_A1', 'sub_grade_A2', 'sub_grade_A3', 'sub_grade_A4', 'sub_grade_A5', 'sub_grade_B1', 'sub_grade_B2', 'sub_grade_B3', 'sub_grade_B4', 'sub_grade_B5', 'sub_grade_C1', 'sub_grade_C2', 'sub_grade_C3', 'sub_grade_C4', 'sub_grade_C5', 'sub_grade_D1', 'sub_grade_D2', 'sub_grade_D3', 'sub_grade_D4', 'sub_grade_D5', 'sub_grade_E1', 'sub_grade_E2', 'sub_grade_E3', 'sub_grade_E4', 'sub_grade_E5', 'sub_grade_F1', 'sub_grade_F2', 'sub_grade_F3', 'sub_grade_F4', 'sub_grade_F5', 'sub_grade_G1', 'sub_grade_G2', 'sub_grade_G3', 'sub_grade_G4', 'sub_grade_G5', 'home_ownership_MORTGAGE', 'home_ownership_NONE', 'home_ownership_OTHER', 'home_ownership_OWN', 'home_ownership_RENT', 'verif_stat', 'purpose_car', 'purpose_credit_card', 'purpose_debt_consolidation', 'purpose_educational', 'purpose_home_improvement', 'purpose_house', 'purpose_major_purchase', 'purpose_medical', 'purpose_moving', 'purpose_other', 'purpose_renewable_energy', 'purpose_small_business', 'purpose_vacation', 'purpose_wedding', 'year_issue', 'month_issue', 'year_ecl', 'month_ecl', 'geo_loc', 'geo_loc_ns', 'geo_loc_we', 'addr_state_AK', 'addr_state_AL', 'addr_state_AR', 'addr_state_AZ', 'addr_state_CA', 'addr_state_CO', 'addr_state_CT', 'addr_state_DC', 'addr_state_DE', 'addr_state_FL', 'addr_state_GA', 'addr_state_HI', 'addr_state_IA', 'addr_state_ID', 'addr_state_IL', 'addr_state_IN', 'addr_state_KS', 'addr_state_KY', 'addr_state_LA', 'addr_state_MA', 'addr_state_MD', 'addr_state_ME', 'addr_state_MI', 'addr_state_MN', 'addr_state_MO', 'addr_state_MS', 'addr_state_MT', 'addr_state_NC', 'addr_state_NE', 'addr_state_NH', 'addr_state_NJ', 'addr_state_NM', 'addr_state_NV', 'addr_state_NY', 'addr_state_OH', 'addr_state_OK', 'addr_state_OR', 'addr_state_PA', 'addr_state_RI', 'addr_state_SC', 'addr_state_SD', 'addr_state_TN', 'addr_state_TX', 'addr_state_UT', 'addr_state_VA', 'addr_state_VT', 'addr_state_WA', 'addr_state_WI', 'addr_state_WV', 'addr_state_WY']\n"
     ]
    }
   ],
   "source": [
    "print(df.columns.tolist())"
   ]
  },
  {
   "cell_type": "code",
   "execution_count": 6,
   "id": "9fb7fa97",
   "metadata": {},
   "outputs": [
    {
     "data": {
      "text/plain": [
       "(39786, 130)"
      ]
     },
     "execution_count": 6,
     "metadata": {},
     "output_type": "execute_result"
    }
   ],
   "source": [
    "df.shape"
   ]
  },
  {
   "cell_type": "code",
   "execution_count": 7,
   "id": "a42dce4a",
   "metadata": {},
   "outputs": [],
   "source": [
    "# Copy of the Data Frame\n",
    "\n",
    "df_copy = df"
   ]
  },
  {
   "cell_type": "markdown",
   "id": "fd2d9b88",
   "metadata": {},
   "source": [
    "## Training models"
   ]
  },
  {
   "cell_type": "markdown",
   "id": "18d45452",
   "metadata": {},
   "source": [
    "### Data splitting and standardization"
   ]
  },
  {
   "cell_type": "code",
   "execution_count": 8,
   "id": "e517752b",
   "metadata": {},
   "outputs": [
    {
     "data": {
      "text/plain": [
       "1    34116\n",
       "0     5670\n",
       "Name: loan_status, dtype: int64"
      ]
     },
     "execution_count": 8,
     "metadata": {},
     "output_type": "execute_result"
    }
   ],
   "source": [
    "df.loan_status.value_counts()"
   ]
  },
  {
   "cell_type": "code",
   "execution_count": 9,
   "id": "996239c2",
   "metadata": {},
   "outputs": [],
   "source": [
    "# Loading train_test_split\n",
    "\n",
    "from sklearn.model_selection import train_test_split"
   ]
  },
  {
   "cell_type": "code",
   "execution_count": 10,
   "id": "1f61a4e9",
   "metadata": {},
   "outputs": [
    {
     "name": "stdout",
     "output_type": "stream",
     "text": [
      "(39786, 129)\n",
      "(39786,)\n"
     ]
    }
   ],
   "source": [
    "# Spliting data into X and y and checking the shape\n",
    "\n",
    "X = df.drop('loan_status', axis=1)\n",
    "y = df['loan_status'].values\n",
    "\n",
    "print(X.shape)\n",
    "print(y.shape)"
   ]
  },
  {
   "cell_type": "code",
   "execution_count": 11,
   "id": "39eafda2",
   "metadata": {},
   "outputs": [],
   "source": [
    "# Data splitting into training and testing data\n",
    "\n",
    "X_train, X_test, y_train, y_test = train_test_split(X, y, test_size=0.30, random_state=42)"
   ]
  },
  {
   "cell_type": "code",
   "execution_count": 12,
   "id": "2df38f1a",
   "metadata": {},
   "outputs": [
    {
     "name": "stdout",
     "output_type": "stream",
     "text": [
      "(27850, 129)\n",
      "(11936, 129)\n",
      "(27850,)\n",
      "(11936,)\n"
     ]
    }
   ],
   "source": [
    "# Checking the size of the data split\n",
    "\n",
    "print(X_train.shape)\n",
    "print(X_test.shape)\n",
    "print(y_train.shape)\n",
    "print(y_test.shape)"
   ]
  },
  {
   "cell_type": "code",
   "execution_count": 13,
   "id": "fd931508",
   "metadata": {},
   "outputs": [],
   "source": [
    "# Data standardization\n",
    "\n",
    "from sklearn.preprocessing import StandardScaler\n",
    "scaler = StandardScaler()\n",
    "scaler.fit(X_train)\n",
    "X_scaled_train = scaler.transform(X_train)\n",
    "X_scaled_test = scaler.transform(X_test)\n",
    "\n",
    "\n",
    "# df_scaled = pd.DataFrame(scaled_data, columns=df.drop('loan_status',axis=1).columns)\n",
    "# df_scaled.head()"
   ]
  },
  {
   "cell_type": "code",
   "execution_count": 14,
   "id": "911e0f3b",
   "metadata": {},
   "outputs": [
    {
     "name": "stdout",
     "output_type": "stream",
     "text": [
      "First row of X_scaled_train: \n",
      " [-8.33414082e-01 -6.06308096e-01 -1.10308097e+00 -8.04104423e-01\n",
      "  5.67480374e-01 -2.41114184e-01  1.44595932e-01 -3.01148528e-01\n",
      " -8.13723499e-01 -5.20087053e-01 -2.32894542e-01 -6.27373463e-01\n",
      "  4.18220535e-01  1.80318132e-01 -2.09600856e-01 -2.13509756e-03\n",
      " -3.49801970e-01 -1.68849725e-01 -1.98426352e-01 -2.19037491e-01\n",
      "  3.55695949e+00 -2.73632172e-01 -2.21813719e-01 -2.33932648e-01\n",
      " -2.80692622e-01 -2.59097628e-01 -2.70052411e-01 -2.38339415e-01\n",
      " -2.29892249e-01 -1.99304398e-01 -1.79465456e-01 -1.74502236e-01\n",
      " -1.54951609e-01 -1.87618057e-01 -1.73955259e-01 -1.60334432e-01\n",
      " -1.52627391e-01 -1.36169831e-01 -1.29593405e-01 -1.19174143e-01\n",
      " -1.07300776e-01 -1.03291736e-01 -9.26440168e-02 -7.81362321e-02\n",
      " -6.68755294e-02 -6.60580244e-02 -5.56555153e-02 -5.23103445e-02\n",
      " -4.56829453e-02 -3.49616660e-02 -3.93239522e-02 -2.74701384e-02\n",
      " -8.95092182e-01 -8.47457627e-03 -4.76156201e-02 -2.88141409e-01\n",
      "  1.04880166e+00  1.19597219e-01 -2.00857333e-01  2.61504233e+00\n",
      " -9.40306137e-01 -9.32335922e-02 -2.87556333e-01 -9.83863572e-02\n",
      " -2.40100997e-01 -1.35209229e-01 -1.18863847e-01 -3.35390843e-01\n",
      " -5.12647402e-02 -2.20205187e-01 -9.98639147e-02 -1.55315705e-01\n",
      "  7.65577521e-01 -3.46118937e-01 -1.05362322e+00  5.96765180e-01\n",
      " -9.86068884e-01 -9.12336227e-01 -7.73781031e-01 -4.60759097e-02\n",
      " -1.06957868e-01 -7.88309701e-02 -1.48890536e-01 -4.67666238e-01\n",
      " -1.44030409e-01 -1.39014697e-01 -7.18411485e-02 -5.40085340e-02\n",
      " -2.79499841e-01 -1.90065399e-01 -6.57833049e-02 -1.19852911e-02\n",
      " -1.34002034e-02  5.02975096e+00 -1.69509787e-02 -8.41877798e-02\n",
      " -9.24466847e-02 -1.02757793e-01 -1.87104719e-01 -1.64295895e-01\n",
      " -8.47457627e-03 -1.38207410e-01 -1.24337374e-01 -1.31725465e-01\n",
      " -2.24264537e-02 -4.56829453e-02 -1.40616418e-01 -8.47457627e-03\n",
      " -6.57833049e-02 -2.22258853e-01 -6.76833347e-02 -1.12324554e-01\n",
      " -3.24890090e-01 -1.81375116e-01 -8.84107346e-02 -1.07642642e-01\n",
      " -1.95871029e-01 -7.00518885e-02 -1.08999873e-01 -4.11152655e-02\n",
      " -2.16102834e-02 -2.72493398e-01 -8.56887905e-02 -1.92084317e-01\n",
      " -3.64734583e-02 -1.45581244e-01 -1.06095968e-01 -6.66041231e-02\n",
      " -4.64655789e-02]\n",
      "First row of X_scaled_test: \n",
      " [-0.16330973 -0.6063081  -1.67169166 -0.56954084 -1.3964873   0.18471701\n",
      " -1.15077884 -0.30114853  1.05055747  0.39394418 -0.23289454 -0.00922977\n",
      " -0.87359404  0.18031813 -0.20960086  1.25117217  1.33537099 -0.16884973\n",
      "  5.03965319 -0.21903749 -0.28113899 -0.27363217 -0.22181372 -0.23393265\n",
      " -0.28069262 -0.25909763 -0.27005241 -0.23833942 -0.22989225 -0.1993044\n",
      " -0.17946546 -0.17450224 -0.15495161 -0.18761806 -0.17395526 -0.16033443\n",
      " -0.15262739 -0.13616983 -0.1295934  -0.11917414 -0.10730078 -0.10329174\n",
      " -0.09264402 -0.07813623 -0.06687553 -0.06605802 -0.05565552 -0.05231034\n",
      " -0.04568295 -0.03496167 -0.03932395 -0.02747014  1.11720337 -0.00847458\n",
      " -0.04761562 -0.28814141 -0.95346913 -1.04379172 -0.20085733 -0.38240299\n",
      "  1.06348343 -0.09323359 -0.28755633 -0.09838636 -0.240101   -0.13520923\n",
      " -0.11886385 -0.33539084 -0.05126474 -0.22020519 -0.09986391 -0.15531571\n",
      " -0.37606598  1.42058157  2.93885808 -0.53165321 -0.98606888 -0.91233623\n",
      " -0.77378103 -0.04607591 -0.10695787 -0.07883097 -0.14889054 -0.46766624\n",
      " -0.14403041 -0.1390147  -0.07184115 -0.05400853 -0.27949984 -0.1900654\n",
      " -0.0657833  -0.01198529 -0.0134002  -0.198817   -0.01695098 -0.08418778\n",
      " -0.09244668 -0.10275779 -0.18710472 -0.16429589 -0.00847458 -0.13820741\n",
      " -0.12433737 -0.13172547 -0.02242645 -0.04568295 -0.14061642 -0.00847458\n",
      " -0.0657833  -0.22225885 -0.06768333 -0.11232455 -0.32489009 -0.18137512\n",
      " -0.08841073 -0.10764264  5.10540025 -0.07005189 -0.10899987 -0.04111527\n",
      " -0.02161028 -0.2724934  -0.08568879 -0.19208432 -0.03647346 -0.14558124\n",
      " -0.10609597 -0.06660412 -0.04646558]\n"
     ]
    }
   ],
   "source": [
    "print(\"First row of X_scaled_train: \\n\", X_scaled_train[0])\n",
    "print(\"First row of X_scaled_test: \\n\", X_scaled_test[0])"
   ]
  },
  {
   "cell_type": "code",
   "execution_count": 15,
   "id": "ad624f20",
   "metadata": {},
   "outputs": [],
   "source": [
    "# Importing metrics and classification report\n",
    "\n",
    "from sklearn.metrics import classification_report,confusion_matrix\n",
    "from sklearn.metrics import precision_score"
   ]
  },
  {
   "cell_type": "code",
   "execution_count": 16,
   "id": "01ecc053",
   "metadata": {},
   "outputs": [],
   "source": [
    "# Function using to create a classification reports\n",
    "\n",
    "def evaluate(prediction,y_test): \n",
    "    result = classification_report(y_test,prediction,output_dict=True, zero_division=1)\n",
    "    f1 = result['1']['f1-score']\n",
    "    accuracy = result['accuracy']\n",
    "    performance_data= {'f1-score':round(f1, 2),\n",
    "                      'accuracy':round(accuracy, 2)}\n",
    "    return performance_data"
   ]
  },
  {
   "cell_type": "markdown",
   "id": "17e93cda",
   "metadata": {},
   "source": [
    "### Decision Tree"
   ]
  },
  {
   "cell_type": "code",
   "execution_count": 17,
   "id": "bac0ea22",
   "metadata": {},
   "outputs": [
    {
     "data": {
      "text/plain": [
       "DecisionTreeClassifier()"
      ]
     },
     "execution_count": 17,
     "metadata": {},
     "output_type": "execute_result"
    }
   ],
   "source": [
    "from sklearn.tree import DecisionTreeClassifier\n",
    "dtree = DecisionTreeClassifier()\n",
    "dtree.fit(X_scaled_train, y_train)"
   ]
  },
  {
   "cell_type": "code",
   "execution_count": 18,
   "id": "561971dd",
   "metadata": {},
   "outputs": [],
   "source": [
    "dt_prediction = dtree.predict(X_scaled_test)"
   ]
  },
  {
   "cell_type": "code",
   "execution_count": 19,
   "id": "f3b18dfb",
   "metadata": {},
   "outputs": [
    {
     "name": "stdout",
     "output_type": "stream",
     "text": [
      "              precision    recall  f1-score   support\n",
      "\n",
      "           0       0.21      0.23      0.22      1691\n",
      "           1       0.87      0.86      0.86     10245\n",
      "\n",
      "    accuracy                           0.77     11936\n",
      "   macro avg       0.54      0.54      0.54     11936\n",
      "weighted avg       0.78      0.77      0.77     11936\n",
      "\n"
     ]
    },
    {
     "data": {
      "text/plain": [
       "{'f1-score': 0.86, 'accuracy': 0.77}"
      ]
     },
     "execution_count": 19,
     "metadata": {},
     "output_type": "execute_result"
    }
   ],
   "source": [
    "print(classification_report(y_test, dt_prediction, zero_division=1))\n",
    "\n",
    "dtree_pr= evaluate(dt_prediction, y_test)\n",
    "dtree_pr"
   ]
  },
  {
   "cell_type": "code",
   "execution_count": 20,
   "id": "c6c7a8be",
   "metadata": {},
   "outputs": [
    {
     "data": {
      "text/plain": [
       "(array([0, 1], dtype=int64), array([ 1853, 10083], dtype=int64))"
      ]
     },
     "execution_count": 20,
     "metadata": {},
     "output_type": "execute_result"
    }
   ],
   "source": [
    "# Calculating the number of predicted 0s and 1s\n",
    "\n",
    "dtree_count = np.unique(dt_prediction, return_counts=True)\n",
    "dtree_count"
   ]
  },
  {
   "cell_type": "markdown",
   "id": "7e224fa5",
   "metadata": {},
   "source": [
    "### Random Forest"
   ]
  },
  {
   "cell_type": "code",
   "execution_count": 21,
   "id": "e1efbe38",
   "metadata": {},
   "outputs": [
    {
     "data": {
      "text/plain": [
       "RandomForestClassifier()"
      ]
     },
     "execution_count": 21,
     "metadata": {},
     "output_type": "execute_result"
    }
   ],
   "source": [
    "from sklearn.ensemble import RandomForestClassifier\n",
    "rf = RandomForestClassifier()\n",
    "rf.fit(X_scaled_train, y_train)"
   ]
  },
  {
   "cell_type": "code",
   "execution_count": 22,
   "id": "16ff52b7",
   "metadata": {},
   "outputs": [],
   "source": [
    "rf_prediction = rf.predict(X_scaled_test)"
   ]
  },
  {
   "cell_type": "code",
   "execution_count": 23,
   "id": "8fcdb1dc",
   "metadata": {},
   "outputs": [
    {
     "name": "stdout",
     "output_type": "stream",
     "text": [
      "              precision    recall  f1-score   support\n",
      "\n",
      "           0       0.18      0.00      0.00      1691\n",
      "           1       0.86      1.00      0.92     10245\n",
      "\n",
      "    accuracy                           0.86     11936\n",
      "   macro avg       0.52      0.50      0.46     11936\n",
      "weighted avg       0.76      0.86      0.79     11936\n",
      "\n",
      "{'f1-score': 0.92, 'accuracy': 0.86}\n"
     ]
    }
   ],
   "source": [
    "print(classification_report(y_test, rf_prediction, zero_division=1))\n",
    "rf_pr = evaluate(rf_prediction, y_test)\n",
    "print(rf_pr)"
   ]
  },
  {
   "cell_type": "code",
   "execution_count": 24,
   "id": "c573c06f",
   "metadata": {},
   "outputs": [
    {
     "data": {
      "text/plain": [
       "(array([0, 1], dtype=int64), array([   22, 11914], dtype=int64))"
      ]
     },
     "execution_count": 24,
     "metadata": {},
     "output_type": "execute_result"
    }
   ],
   "source": [
    "rf_count = np.unique(rf_prediction, return_counts=True)\n",
    "rf_count"
   ]
  },
  {
   "cell_type": "markdown",
   "id": "0a6be390",
   "metadata": {},
   "source": [
    "### Logistic Regression"
   ]
  },
  {
   "cell_type": "code",
   "execution_count": 25,
   "id": "0c835b66",
   "metadata": {},
   "outputs": [
    {
     "data": {
      "text/plain": [
       "LogisticRegression(random_state=42)"
      ]
     },
     "execution_count": 25,
     "metadata": {},
     "output_type": "execute_result"
    }
   ],
   "source": [
    "from sklearn.linear_model import LogisticRegression\n",
    "lr = LogisticRegression(random_state=42)\n",
    "lr.fit(X_scaled_train, y_train)"
   ]
  },
  {
   "cell_type": "code",
   "execution_count": 26,
   "id": "b3017ea5",
   "metadata": {},
   "outputs": [],
   "source": [
    "lr_prediction = lr.predict(X_scaled_test)"
   ]
  },
  {
   "cell_type": "code",
   "execution_count": 27,
   "id": "cf7db45d",
   "metadata": {},
   "outputs": [
    {
     "name": "stdout",
     "output_type": "stream",
     "text": [
      "              precision    recall  f1-score   support\n",
      "\n",
      "           0       0.56      0.02      0.03      1691\n",
      "           1       0.86      1.00      0.92     10245\n",
      "\n",
      "    accuracy                           0.86     11936\n",
      "   macro avg       0.71      0.51      0.48     11936\n",
      "weighted avg       0.82      0.86      0.80     11936\n",
      "\n",
      "{'f1-score': 0.92, 'accuracy': 0.86}\n"
     ]
    }
   ],
   "source": [
    "print(classification_report(y_test, lr_prediction, zero_division=1))\n",
    "lr_pr = evaluate(lr_prediction, y_test)\n",
    "print(lr_pr)"
   ]
  },
  {
   "cell_type": "code",
   "execution_count": 28,
   "id": "aaffc8fd",
   "metadata": {},
   "outputs": [
    {
     "data": {
      "text/plain": [
       "(array([0, 1], dtype=int64), array([   54, 11882], dtype=int64))"
      ]
     },
     "execution_count": 28,
     "metadata": {},
     "output_type": "execute_result"
    }
   ],
   "source": [
    "lr_count = np.unique(lr_prediction, return_counts=True)\n",
    "lr_count"
   ]
  },
  {
   "cell_type": "markdown",
   "id": "31ab3463",
   "metadata": {},
   "source": [
    "### Naïve Bayes"
   ]
  },
  {
   "cell_type": "code",
   "execution_count": 29,
   "id": "c4ca3dce",
   "metadata": {},
   "outputs": [
    {
     "data": {
      "text/plain": [
       "GaussianNB()"
      ]
     },
     "execution_count": 29,
     "metadata": {},
     "output_type": "execute_result"
    }
   ],
   "source": [
    "from sklearn.naive_bayes import GaussianNB\n",
    "nb = GaussianNB()\n",
    "nb.fit(X_scaled_train, y_train)"
   ]
  },
  {
   "cell_type": "code",
   "execution_count": 30,
   "id": "fd7cff2b",
   "metadata": {},
   "outputs": [],
   "source": [
    "nb_prediction = nb.predict(X_scaled_test)"
   ]
  },
  {
   "cell_type": "code",
   "execution_count": 31,
   "id": "81cc6945",
   "metadata": {},
   "outputs": [
    {
     "name": "stdout",
     "output_type": "stream",
     "text": [
      "              precision    recall  f1-score   support\n",
      "\n",
      "           0       0.15      0.98      0.26      1691\n",
      "           1       0.96      0.07      0.13     10245\n",
      "\n",
      "    accuracy                           0.20     11936\n",
      "   macro avg       0.55      0.53      0.19     11936\n",
      "weighted avg       0.84      0.20      0.15     11936\n",
      "\n",
      "{'f1-score': 0.13, 'accuracy': 0.2}\n"
     ]
    }
   ],
   "source": [
    "print(classification_report(y_test, nb_prediction, zero_division=1))\n",
    "nb_pr = evaluate(nb_prediction, y_test)\n",
    "print(nb_pr)"
   ]
  },
  {
   "cell_type": "code",
   "execution_count": 32,
   "id": "028e9a00",
   "metadata": {
    "scrolled": true
   },
   "outputs": [
    {
     "data": {
      "text/plain": [
       "(array([0, 1], dtype=int64), array([11205,   731], dtype=int64))"
      ]
     },
     "execution_count": 32,
     "metadata": {},
     "output_type": "execute_result"
    }
   ],
   "source": [
    "nb_count = np.unique(nb_prediction, return_counts=True)\n",
    "nb_count"
   ]
  },
  {
   "cell_type": "markdown",
   "id": "244125ae",
   "metadata": {},
   "source": [
    "### K-Nearest Neighbors (KNN)"
   ]
  },
  {
   "cell_type": "code",
   "execution_count": 33,
   "id": "a8a57a08",
   "metadata": {},
   "outputs": [],
   "source": [
    "from sklearn.neighbors import KNeighborsClassifier\n",
    "knn = KNeighborsClassifier(n_neighbors=5)"
   ]
  },
  {
   "cell_type": "code",
   "execution_count": 34,
   "id": "21f7e03f",
   "metadata": {},
   "outputs": [
    {
     "data": {
      "text/plain": [
       "KNeighborsClassifier()"
      ]
     },
     "execution_count": 34,
     "metadata": {},
     "output_type": "execute_result"
    }
   ],
   "source": [
    "knn.fit(X_scaled_train, y_train)"
   ]
  },
  {
   "cell_type": "code",
   "execution_count": 35,
   "id": "4326dfb1",
   "metadata": {},
   "outputs": [],
   "source": [
    "from warnings import simplefilter\n",
    "simplefilter(action='ignore', category=FutureWarning)"
   ]
  },
  {
   "cell_type": "code",
   "execution_count": 36,
   "id": "6e530cc3",
   "metadata": {},
   "outputs": [],
   "source": [
    "knn_prediction = knn.predict(X_scaled_test)"
   ]
  },
  {
   "cell_type": "code",
   "execution_count": 37,
   "id": "ca07a273",
   "metadata": {},
   "outputs": [
    {
     "name": "stdout",
     "output_type": "stream",
     "text": [
      "              precision    recall  f1-score   support\n",
      "\n",
      "           0       0.06      0.23      0.10       455\n",
      "           1       0.97      0.86      0.91     11481\n",
      "\n",
      "    accuracy                           0.84     11936\n",
      "   macro avg       0.51      0.55      0.50     11936\n",
      "weighted avg       0.93      0.84      0.88     11936\n",
      "\n"
     ]
    },
    {
     "data": {
      "text/plain": [
       "{'f1-score': 0.91, 'accuracy': 0.84}"
      ]
     },
     "execution_count": 37,
     "metadata": {},
     "output_type": "execute_result"
    }
   ],
   "source": [
    "print(classification_report(knn_prediction, y_test, zero_division=1))\n",
    "knn_pr = evaluate(knn_prediction, y_test)\n",
    "knn_pr"
   ]
  },
  {
   "cell_type": "code",
   "execution_count": 38,
   "id": "cdf14bb0",
   "metadata": {},
   "outputs": [
    {
     "data": {
      "text/plain": [
       "(array([0, 1], dtype=int64), array([  455, 11481], dtype=int64))"
      ]
     },
     "execution_count": 38,
     "metadata": {},
     "output_type": "execute_result"
    }
   ],
   "source": [
    "knn_count = np.unique(knn_prediction, return_counts=True)\n",
    "knn_count"
   ]
  },
  {
   "cell_type": "markdown",
   "id": "80cc2b7e",
   "metadata": {},
   "source": [
    "### Multi Layer Perceptron Classifier (MLP)"
   ]
  },
  {
   "cell_type": "code",
   "execution_count": 39,
   "id": "d6e9fcb6",
   "metadata": {},
   "outputs": [],
   "source": [
    "from sklearn.neural_network import MLPClassifier\n",
    "mlp = MLPClassifier(random_state=42)"
   ]
  },
  {
   "cell_type": "code",
   "execution_count": 40,
   "id": "06e5f3c2",
   "metadata": {},
   "outputs": [
    {
     "name": "stderr",
     "output_type": "stream",
     "text": [
      "C:\\Users\\barte\\anaconda3\\lib\\site-packages\\sklearn\\neural_network\\_multilayer_perceptron.py:692: ConvergenceWarning: Stochastic Optimizer: Maximum iterations (200) reached and the optimization hasn't converged yet.\n",
      "  warnings.warn(\n"
     ]
    },
    {
     "data": {
      "text/plain": [
       "MLPClassifier(random_state=42)"
      ]
     },
     "execution_count": 40,
     "metadata": {},
     "output_type": "execute_result"
    }
   ],
   "source": [
    "mlp.fit(X_scaled_train, y_train)"
   ]
  },
  {
   "cell_type": "code",
   "execution_count": 41,
   "id": "649933a3",
   "metadata": {},
   "outputs": [],
   "source": [
    "mlp_prediction = mlp.predict(X_scaled_test)"
   ]
  },
  {
   "cell_type": "code",
   "execution_count": 42,
   "id": "fbdc0556",
   "metadata": {},
   "outputs": [
    {
     "name": "stdout",
     "output_type": "stream",
     "text": [
      "              precision    recall  f1-score   support\n",
      "\n",
      "           0       0.20      0.22      0.21      1557\n",
      "           1       0.88      0.87      0.88     10379\n",
      "\n",
      "    accuracy                           0.78     11936\n",
      "   macro avg       0.54      0.54      0.54     11936\n",
      "weighted avg       0.79      0.78      0.79     11936\n",
      "\n"
     ]
    },
    {
     "data": {
      "text/plain": [
       "{'f1-score': 0.88, 'accuracy': 0.78}"
      ]
     },
     "execution_count": 42,
     "metadata": {},
     "output_type": "execute_result"
    }
   ],
   "source": [
    "print(classification_report(mlp_prediction, y_test, zero_division=1))\n",
    "mlp_pr = evaluate(mlp_prediction, y_test)\n",
    "mlp_pr"
   ]
  },
  {
   "cell_type": "code",
   "execution_count": 43,
   "id": "46b52c83",
   "metadata": {},
   "outputs": [
    {
     "data": {
      "text/plain": [
       "(array([0, 1], dtype=int64), array([ 1557, 10379], dtype=int64))"
      ]
     },
     "execution_count": 43,
     "metadata": {},
     "output_type": "execute_result"
    }
   ],
   "source": [
    "mlp_count = np.unique(mlp_prediction, return_counts=True)\n",
    "mlp_count"
   ]
  },
  {
   "cell_type": "markdown",
   "id": "b0f96e67",
   "metadata": {},
   "source": [
    "### XGBoost Classifier"
   ]
  },
  {
   "cell_type": "code",
   "execution_count": 44,
   "id": "e115f8fc",
   "metadata": {},
   "outputs": [],
   "source": [
    "from xgboost import XGBClassifier\n",
    "xgb = XGBClassifier(random_state=42)"
   ]
  },
  {
   "cell_type": "code",
   "execution_count": 45,
   "id": "85e07152",
   "metadata": {},
   "outputs": [
    {
     "data": {
      "text/plain": [
       "XGBClassifier(base_score=None, booster=None, callbacks=None,\n",
       "              colsample_bylevel=None, colsample_bynode=None,\n",
       "              colsample_bytree=None, early_stopping_rounds=None,\n",
       "              enable_categorical=False, eval_metric=None, feature_types=None,\n",
       "              gamma=None, gpu_id=None, grow_policy=None, importance_type=None,\n",
       "              interaction_constraints=None, learning_rate=None, max_bin=None,\n",
       "              max_cat_threshold=None, max_cat_to_onehot=None,\n",
       "              max_delta_step=None, max_depth=None, max_leaves=None,\n",
       "              min_child_weight=None, missing=nan, monotone_constraints=None,\n",
       "              n_estimators=100, n_jobs=None, num_parallel_tree=None,\n",
       "              predictor=None, random_state=42, ...)"
      ]
     },
     "execution_count": 45,
     "metadata": {},
     "output_type": "execute_result"
    }
   ],
   "source": [
    "xgb.fit(X_scaled_train, y_train)"
   ]
  },
  {
   "cell_type": "code",
   "execution_count": 46,
   "id": "8edf7d2e",
   "metadata": {},
   "outputs": [],
   "source": [
    "xgb_prediction = xgb.predict(X_scaled_test)"
   ]
  },
  {
   "cell_type": "code",
   "execution_count": 47,
   "id": "1ba648c4",
   "metadata": {},
   "outputs": [
    {
     "name": "stdout",
     "output_type": "stream",
     "text": [
      "              precision    recall  f1-score   support\n",
      "\n",
      "           0       0.05      0.34      0.09       248\n",
      "           1       0.98      0.86      0.92     11688\n",
      "\n",
      "    accuracy                           0.85     11936\n",
      "   macro avg       0.52      0.60      0.50     11936\n",
      "weighted avg       0.96      0.85      0.90     11936\n",
      "\n"
     ]
    },
    {
     "data": {
      "text/plain": [
       "{'f1-score': 0.92, 'accuracy': 0.85}"
      ]
     },
     "execution_count": 47,
     "metadata": {},
     "output_type": "execute_result"
    }
   ],
   "source": [
    "print(classification_report(xgb_prediction, y_test, zero_division=1))\n",
    "xgb_pr = evaluate(xgb_prediction, y_test)\n",
    "xgb_pr"
   ]
  },
  {
   "cell_type": "code",
   "execution_count": 48,
   "id": "ce368dda",
   "metadata": {},
   "outputs": [
    {
     "data": {
      "text/plain": [
       "(array([0, 1]), array([  248, 11688], dtype=int64))"
      ]
     },
     "execution_count": 48,
     "metadata": {},
     "output_type": "execute_result"
    }
   ],
   "source": [
    "xgb_count = np.unique(xgb_prediction, return_counts=True)\n",
    "xgb_count"
   ]
  },
  {
   "cell_type": "code",
   "execution_count": 49,
   "id": "8c2bf69a",
   "metadata": {},
   "outputs": [
    {
     "data": {
      "text/html": [
       "<div>\n",
       "<style scoped>\n",
       "    .dataframe tbody tr th:only-of-type {\n",
       "        vertical-align: middle;\n",
       "    }\n",
       "\n",
       "    .dataframe tbody tr th {\n",
       "        vertical-align: top;\n",
       "    }\n",
       "\n",
       "    .dataframe thead th {\n",
       "        text-align: right;\n",
       "    }\n",
       "</style>\n",
       "<table border=\"1\" class=\"dataframe\">\n",
       "  <thead>\n",
       "    <tr style=\"text-align: right;\">\n",
       "      <th></th>\n",
       "      <th>Model</th>\n",
       "      <th>F1-score</th>\n",
       "      <th>Accuracy</th>\n",
       "      <th>Balnce [0 : 1]</th>\n",
       "    </tr>\n",
       "  </thead>\n",
       "  <tbody>\n",
       "    <tr>\n",
       "      <th>0</th>\n",
       "      <td>Decision Tree</td>\n",
       "      <td>0.86</td>\n",
       "      <td>0.77</td>\n",
       "      <td>[1853, 10083]</td>\n",
       "    </tr>\n",
       "    <tr>\n",
       "      <th>1</th>\n",
       "      <td>Random Forest</td>\n",
       "      <td>0.92</td>\n",
       "      <td>0.86</td>\n",
       "      <td>[22, 11914]</td>\n",
       "    </tr>\n",
       "    <tr>\n",
       "      <th>2</th>\n",
       "      <td>Logistic Regression</td>\n",
       "      <td>0.92</td>\n",
       "      <td>0.86</td>\n",
       "      <td>[54, 11882]</td>\n",
       "    </tr>\n",
       "    <tr>\n",
       "      <th>3</th>\n",
       "      <td>Naive Bayes</td>\n",
       "      <td>0.13</td>\n",
       "      <td>0.20</td>\n",
       "      <td>[11205, 731]</td>\n",
       "    </tr>\n",
       "    <tr>\n",
       "      <th>4</th>\n",
       "      <td>KNN</td>\n",
       "      <td>0.91</td>\n",
       "      <td>0.84</td>\n",
       "      <td>[455, 11481]</td>\n",
       "    </tr>\n",
       "    <tr>\n",
       "      <th>5</th>\n",
       "      <td>MLP</td>\n",
       "      <td>0.88</td>\n",
       "      <td>0.78</td>\n",
       "      <td>[1557, 10379]</td>\n",
       "    </tr>\n",
       "    <tr>\n",
       "      <th>6</th>\n",
       "      <td>XGB</td>\n",
       "      <td>0.92</td>\n",
       "      <td>0.85</td>\n",
       "      <td>[248, 11688]</td>\n",
       "    </tr>\n",
       "  </tbody>\n",
       "</table>\n",
       "</div>"
      ],
      "text/plain": [
       "                 Model  F1-score  Accuracy Balnce [0 : 1]\n",
       "0        Decision Tree      0.86      0.77  [1853, 10083]\n",
       "1        Random Forest      0.92      0.86    [22, 11914]\n",
       "2  Logistic Regression      0.92      0.86    [54, 11882]\n",
       "3          Naive Bayes      0.13      0.20   [11205, 731]\n",
       "4                  KNN      0.91      0.84   [455, 11481]\n",
       "5                  MLP      0.88      0.78  [1557, 10379]\n",
       "6                  XGB      0.92      0.85   [248, 11688]"
      ]
     },
     "execution_count": 49,
     "metadata": {},
     "output_type": "execute_result"
    }
   ],
   "source": [
    "prediction_data={'Model': ['Decision Tree',\n",
    "                          'Random Forest',\n",
    "                          'Logistic Regression',\n",
    "                          'Naive Bayes',\n",
    "                          'KNN',\n",
    "                          'MLP',\n",
    "                          'XGB'\n",
    "                         ],\n",
    "                 \n",
    "                  'F1-score': [dtree_pr['f1-score'],\n",
    "                              rf_pr['f1-score'],\n",
    "                              lr_pr['f1-score'],\n",
    "                              nb_pr['f1-score'],\n",
    "                              knn_pr['f1-score'],\n",
    "                              mlp_pr['f1-score'],\n",
    "                              xgb_pr['f1-score']\n",
    "                         ],\n",
    "                 \n",
    "                  'Accuracy': [dtree_pr['accuracy'],\n",
    "                              rf_pr['accuracy'],\n",
    "                              lr_pr['accuracy'],\n",
    "                              nb_pr['accuracy'],\n",
    "                              knn_pr['accuracy'],\n",
    "                              mlp_pr['accuracy'],\n",
    "                              xgb_pr['accuracy']\n",
    "                         ],\n",
    "                 \n",
    "            'Balnce [0 : 1]': [dtree_count[1],\n",
    "                              rf_count[1],\n",
    "                              lr_count[1],\n",
    "                              nb_count[1],\n",
    "                              knn_count[1],\n",
    "                              mlp_count[1],\n",
    "                              xgb_count[1]\n",
    "                              ]\n",
    "                 \n",
    "                    }\n",
    " \n",
    "# Create DataFrame\n",
    "prediction_table = pd.DataFrame(prediction_data)\n",
    "prediction_table"
   ]
  },
  {
   "cell_type": "markdown",
   "id": "753eab9e",
   "metadata": {},
   "source": [
    "The two models: Random Forest and Logistic Regression have the same high accuracy and f1_score but the answers are unbalanced (only a few negative answers (0) for Random Forest and Logistic Regression). This means that these models predict that most borrowers will repay their loans. The models: Decision Tree, KNN, MLP and XGB are characterized by better balanced data. The Naive Bayes algorithm shows an inversely proportional relationship between loan repayments than in the original data and also has the lowest scores."
   ]
  },
  {
   "cell_type": "markdown",
   "id": "85d17a7c",
   "metadata": {},
   "source": [
    "## Data compression by PCA"
   ]
  },
  {
   "cell_type": "code",
   "execution_count": 50,
   "id": "03c778d9",
   "metadata": {},
   "outputs": [
    {
     "data": {
      "text/plain": [
       "array([[-1.33819517e+00,  6.32577285e-01, -2.10972732e+00, ...,\n",
       "        -5.49426659e-15, -2.20678592e-14,  7.20668763e-15],\n",
       "       [-6.51488103e-02, -1.48202483e+00, -1.57137062e+00, ...,\n",
       "         1.93876873e-16, -3.27653128e-15, -1.54496549e-16],\n",
       "       [ 2.32126749e+00, -1.71594972e+00,  1.62239285e+00, ...,\n",
       "         1.25916247e-14,  3.29551112e-14, -4.59463992e-15],\n",
       "       ...,\n",
       "       [-3.32157559e+00, -8.12377491e-01,  4.82365251e-02, ...,\n",
       "        -1.12653968e-15,  3.93556068e-16, -1.42788713e-16],\n",
       "       [-2.78674240e-01,  6.87228962e-01, -2.49465286e+00, ...,\n",
       "         9.40951263e-17, -4.63821575e-17,  4.44037498e-17],\n",
       "       [ 1.63618670e+00, -2.69428119e+00,  5.94186183e-01, ...,\n",
       "         8.96783143e-16, -1.53028442e-16, -1.51802022e-16]])"
      ]
     },
     "execution_count": 50,
     "metadata": {},
     "output_type": "execute_result"
    }
   ],
   "source": [
    "from sklearn.decomposition import PCA\n",
    "\n",
    "pca = PCA(random_state=42)\n",
    "pca.fit_transform(X_scaled_train)"
   ]
  },
  {
   "cell_type": "code",
   "execution_count": 51,
   "id": "c0f67440",
   "metadata": {},
   "outputs": [
    {
     "data": {
      "text/plain": [
       "array([ 2.05181260e-01,  1.90446745e-01,  4.28570525e-01,  1.97871325e-01,\n",
       "        2.64126394e-02,  7.10253608e-02,  1.47012618e-01,  7.58068528e-02,\n",
       "        3.11977835e-02,  6.41006394e-02,  6.98473431e-02,  1.46884186e-01,\n",
       "        3.15005390e-01,  8.51437039e-02,  6.72438584e-02, -3.68791156e-01,\n",
       "       -3.38689645e-01, -1.45189661e-01, -1.52141220e-01, -1.45117478e-01,\n",
       "       -1.35378926e-01, -1.07851199e-01, -5.44865256e-02, -4.05715986e-02,\n",
       "       -2.37114566e-02, -5.29003063e-03,  1.21117089e-02,  2.59088243e-02,\n",
       "        4.03316524e-02,  3.43757707e-02,  4.03450482e-02,  4.77436276e-02,\n",
       "        5.34394673e-02,  7.28440132e-02,  7.43217262e-02,  7.58570665e-02,\n",
       "        7.73026168e-02,  7.74655807e-02,  7.83974487e-02,  7.84346098e-02,\n",
       "        7.89158573e-02,  7.83329127e-02,  7.37738547e-02,  6.25906274e-02,\n",
       "        5.88671332e-02,  6.02735924e-02,  5.45573511e-02,  5.35250263e-02,\n",
       "        4.80353273e-02,  3.92101229e-02,  4.21136792e-02,  2.93084506e-02,\n",
       "       -1.73288995e-02, -6.83422775e-03, -7.85354575e-03, -3.34416211e-02,\n",
       "        3.59202305e-02,  1.53108789e-01, -7.06490385e-02,  1.13828115e-02,\n",
       "        1.42592454e-01, -2.73854721e-02, -5.86419026e-02, -1.02480793e-02,\n",
       "       -7.72758392e-02, -2.03138562e-02, -1.99841990e-02, -5.03693851e-02,\n",
       "       -7.67270655e-03,  3.81680897e-03, -2.94087767e-02, -1.28435430e-02,\n",
       "        5.91128311e-02,  2.84977244e-02, -2.99982230e-02, -5.27567728e-03,\n",
       "        3.78325563e-02,  2.91562286e-02,  4.17185997e-02,  7.85600050e-03,\n",
       "       -6.33029647e-03, -5.24920992e-03,  7.04131978e-03,  3.65976974e-02,\n",
       "       -6.45575293e-03, -3.33826274e-03,  1.57858175e-04, -3.40639347e-03,\n",
       "       -5.33812099e-03, -1.68145887e-03,  8.44364718e-03, -9.23690936e-03,\n",
       "        3.73222024e-04, -1.75194875e-03, -5.43438416e-03, -6.90378377e-03,\n",
       "       -4.09586008e-03, -7.59333780e-03, -1.44463405e-02,  5.95389675e-03,\n",
       "       -5.40129660e-03, -8.77853415e-03, -9.32126339e-03, -1.45515747e-02,\n",
       "       -4.57460428e-03, -2.69019398e-03,  4.24540395e-03,  1.34700249e-03,\n",
       "       -3.24296836e-03,  2.86622938e-03, -4.40548021e-03,  8.97982674e-03,\n",
       "       -6.55140690e-03, -7.59017285e-03, -2.91480187e-03,  4.96675658e-03,\n",
       "       -2.32438374e-02, -2.31571838e-03, -6.58170483e-03, -2.03752404e-03,\n",
       "       -7.42301384e-03,  1.33188302e-02,  2.52124443e-03, -1.16510355e-03,\n",
       "       -6.81966227e-03,  9.26597750e-03, -3.49405178e-03, -8.41824399e-03,\n",
       "       -5.95341020e-06])"
      ]
     },
     "execution_count": 51,
     "metadata": {},
     "output_type": "execute_result"
    }
   ],
   "source": [
    "pca.components_[0]"
   ]
  },
  {
   "cell_type": "code",
   "execution_count": 52,
   "id": "9abfb1e8",
   "metadata": {},
   "outputs": [
    {
     "data": {
      "text/plain": [
       "array([3.28943903e-02, 2.79959952e-02, 2.71946541e-02, 1.64469648e-02,\n",
       "       1.42565042e-02, 1.33667478e-02, 1.23957719e-02, 1.15248573e-02,\n",
       "       1.07118912e-02, 9.83944570e-03, 9.47224829e-03, 9.14016442e-03,\n",
       "       8.96259938e-03, 8.86142014e-03, 8.79828468e-03, 8.77570895e-03,\n",
       "       8.70772384e-03, 8.62509648e-03, 8.60534526e-03, 8.55955961e-03,\n",
       "       8.54056256e-03, 8.51059753e-03, 8.48726491e-03, 8.48308372e-03,\n",
       "       8.44045071e-03, 8.42716087e-03, 8.40352363e-03, 8.38458985e-03,\n",
       "       8.36636900e-03, 8.31547158e-03, 8.30588815e-03, 8.26737295e-03,\n",
       "       8.25486824e-03, 8.25035929e-03, 8.22602818e-03, 8.20362785e-03,\n",
       "       8.19715695e-03, 8.17454788e-03, 8.15797122e-03, 8.15107018e-03,\n",
       "       8.12378795e-03, 8.09540273e-03, 8.08470391e-03, 8.07593041e-03,\n",
       "       8.07346211e-03, 8.05322287e-03, 8.04267402e-03, 8.02501994e-03,\n",
       "       8.00497188e-03, 7.98056626e-03, 7.97847306e-03, 7.95530924e-03,\n",
       "       7.94751368e-03, 7.94013935e-03, 7.92977104e-03, 7.92077173e-03,\n",
       "       7.89791467e-03, 7.88628129e-03, 7.86882868e-03, 7.86140407e-03,\n",
       "       7.85317821e-03, 7.84855017e-03, 7.84348331e-03, 7.81965467e-03,\n",
       "       7.81317947e-03, 7.80074860e-03, 7.79038502e-03, 7.77266862e-03,\n",
       "       7.76160516e-03, 7.76020613e-03, 7.74199184e-03, 7.73171029e-03,\n",
       "       7.72540324e-03, 7.71180223e-03, 7.70873126e-03, 7.68909582e-03,\n",
       "       7.67456266e-03, 7.66861501e-03, 7.65035722e-03, 7.63735510e-03,\n",
       "       7.62830719e-03, 7.61242106e-03, 7.60015966e-03, 7.59555476e-03,\n",
       "       7.57985707e-03, 7.55492516e-03, 7.54574911e-03, 7.53215685e-03,\n",
       "       7.51227362e-03, 7.50057443e-03, 7.48737935e-03, 7.47510928e-03,\n",
       "       7.45618632e-03, 7.43432712e-03, 7.40064997e-03, 7.36171669e-03,\n",
       "       7.35356110e-03, 7.32051329e-03, 7.30215606e-03, 7.26715219e-03,\n",
       "       7.23546973e-03, 7.22636929e-03, 7.17840030e-03, 7.15952414e-03,\n",
       "       7.09723245e-03, 6.96761536e-03, 6.66986010e-03, 6.53407412e-03,\n",
       "       6.24710581e-03, 6.18480755e-03, 5.69304316e-03, 5.43253011e-03,\n",
       "       5.20235948e-03, 4.83435635e-03, 4.32972312e-03, 3.62317590e-03,\n",
       "       2.40389068e-03, 1.78823589e-03, 1.23063860e-03, 6.51463560e-04,\n",
       "       2.14839547e-04, 1.41782911e-04, 5.88480759e-32, 1.01374229e-32,\n",
       "       8.57869345e-33, 7.22514548e-33, 2.83107370e-33, 2.18294217e-33,\n",
       "       1.80874408e-33])"
      ]
     },
     "execution_count": 52,
     "metadata": {},
     "output_type": "execute_result"
    }
   ],
   "source": [
    "# Percentage of variance explained by each of the selected components.\n",
    "\n",
    "pca.explained_variance_ratio_"
   ]
  },
  {
   "cell_type": "code",
   "execution_count": 53,
   "id": "f8abbb4d",
   "metadata": {},
   "outputs": [
    {
     "data": {
      "text/plain": [
       "array([0.03289439, 0.06089039, 0.08808504, 0.104532  , 0.11878851,\n",
       "       0.13215526, 0.14455103, 0.15607589, 0.16678778, 0.17662722,\n",
       "       0.18609947, 0.19523964, 0.20420223, 0.21306365, 0.22186194,\n",
       "       0.23063765, 0.23934537, 0.24797047, 0.25657581, 0.26513537,\n",
       "       0.27367594, 0.28218653, 0.2906738 , 0.29915688, 0.30759733,\n",
       "       0.31602449, 0.32442802, 0.33281261, 0.34117898, 0.34949445,\n",
       "       0.35780034, 0.36606771, 0.37432258, 0.38257294, 0.39079896,\n",
       "       0.39900259, 0.40719975, 0.4153743 , 0.42353227, 0.43168334,\n",
       "       0.43980713, 0.44790253, 0.45598723, 0.46406316, 0.47213663,\n",
       "       0.48018985, 0.48823252, 0.49625754, 0.50426251, 0.51224308,\n",
       "       0.52022155, 0.52817686, 0.53612438, 0.54406452, 0.55199429,\n",
       "       0.55991506, 0.56781297, 0.57569925, 0.58356808, 0.59142949,\n",
       "       0.59928267, 0.60713122, 0.6149747 , 0.62279435, 0.63060753,\n",
       "       0.63840828, 0.64619867, 0.65397134, 0.66173294, 0.66949315,\n",
       "       0.67723514, 0.68496685, 0.69269225, 0.70040405, 0.70811279,\n",
       "       0.71580188, 0.72347644, 0.73114506, 0.73879542, 0.74643277,\n",
       "       0.75406108, 0.7616735 , 0.76927366, 0.77686921, 0.78444907,\n",
       "       0.792004  , 0.79954975, 0.8070819 , 0.81459418, 0.82209475,\n",
       "       0.82958213, 0.83705724, 0.84451343, 0.85194775, 0.8593484 ,\n",
       "       0.86671012, 0.87406368, 0.88138419, 0.88868635, 0.8959535 ,\n",
       "       0.90318897, 0.91041534, 0.91759374, 0.92475327, 0.9318505 ,\n",
       "       0.93881811, 0.94548797, 0.95202205, 0.95826915, 0.96445396,\n",
       "       0.970147  , 0.97557953, 0.98078189, 0.98561625, 0.98994597,\n",
       "       0.99356915, 0.99597304, 0.99776128, 0.99899191, 0.99964338,\n",
       "       0.99985822, 1.        , 1.        , 1.        , 1.        ,\n",
       "       1.        , 1.        , 1.        , 1.        ])"
      ]
     },
     "execution_count": 53,
     "metadata": {},
     "output_type": "execute_result"
    }
   ],
   "source": [
    "# Cumulative sum of elements\n",
    "\n",
    "var_cumu = np.cumsum(pca.explained_variance_ratio_)\n",
    "var_cumu"
   ]
  },
  {
   "cell_type": "code",
   "execution_count": 54,
   "id": "76c2f2b8",
   "metadata": {},
   "outputs": [
    {
     "data": {
      "image/png": "[encoded data removed]",
      "text/plain": [
       "<Figure size 2400x1600 with 1 Axes>"
      ]
     },
     "metadata": {},
     "output_type": "display_data"
    }
   ],
   "source": [
    "# Plotting the best number of PCA components\n",
    "\n",
    "fig = plt.figure(figsize=[12,8], dpi=200)\n",
    "plt.xticks([0, 10, 20, 30, 40, 50, 60, 70, 80, 90, 100, 110, 120, 130])\n",
    "plt.vlines(x=100, ymax=1, ymin=0, colors='r', linestyles='--')\n",
    "plt.hlines(y=0.90, xmax=130, xmin=0, colors='g', linestyles='--')\n",
    "plt.plot(var_cumu)\n",
    "plt.ylabel(\"Cumulative variance (%)\")\n",
    "plt.show()"
   ]
  },
  {
   "cell_type": "code",
   "execution_count": 55,
   "id": "7131a35c",
   "metadata": {},
   "outputs": [],
   "source": [
    "# Data compression to 18 variables\n",
    "\n",
    "pca_final = PCA(n_components=100)\n",
    "X_pca_final = pca_final.fit_transform(X_scaled_train) "
   ]
  },
  {
   "cell_type": "code",
   "execution_count": 56,
   "id": "aa2a7bf1",
   "metadata": {},
   "outputs": [
    {
     "name": "stdout",
     "output_type": "stream",
     "text": [
      "(27850, 100)\n"
     ]
    }
   ],
   "source": [
    "print(X_pca_final.shape)"
   ]
  },
  {
   "cell_type": "code",
   "execution_count": 57,
   "id": "e3258bd9",
   "metadata": {},
   "outputs": [
    {
     "data": {
      "text/plain": [
       "(100, 100)"
      ]
     },
     "execution_count": 57,
     "metadata": {},
     "output_type": "execute_result"
    }
   ],
   "source": [
    "corrmat = np.corrcoef(X_pca_final.transpose())\n",
    "corrmat.shape"
   ]
  },
  {
   "cell_type": "code",
   "execution_count": 58,
   "id": "dde1f983",
   "metadata": {},
   "outputs": [
    {
     "data": {
      "text/html": [
       "<div>\n",
       "<style scoped>\n",
       "    .dataframe tbody tr th:only-of-type {\n",
       "        vertical-align: middle;\n",
       "    }\n",
       "\n",
       "    .dataframe tbody tr th {\n",
       "        vertical-align: top;\n",
       "    }\n",
       "\n",
       "    .dataframe thead th {\n",
       "        text-align: right;\n",
       "    }\n",
       "</style>\n",
       "<table border=\"1\" class=\"dataframe\">\n",
       "  <thead>\n",
       "    <tr style=\"text-align: right;\">\n",
       "      <th></th>\n",
       "      <th>0</th>\n",
       "      <th>1</th>\n",
       "      <th>2</th>\n",
       "      <th>3</th>\n",
       "      <th>4</th>\n",
       "      <th>5</th>\n",
       "      <th>6</th>\n",
       "      <th>7</th>\n",
       "      <th>8</th>\n",
       "      <th>9</th>\n",
       "      <th>10</th>\n",
       "      <th>11</th>\n",
       "      <th>12</th>\n",
       "      <th>13</th>\n",
       "      <th>14</th>\n",
       "      <th>15</th>\n",
       "      <th>16</th>\n",
       "      <th>17</th>\n",
       "      <th>18</th>\n",
       "      <th>19</th>\n",
       "      <th>20</th>\n",
       "      <th>21</th>\n",
       "      <th>22</th>\n",
       "      <th>23</th>\n",
       "      <th>24</th>\n",
       "      <th>25</th>\n",
       "      <th>26</th>\n",
       "      <th>27</th>\n",
       "      <th>28</th>\n",
       "      <th>29</th>\n",
       "      <th>30</th>\n",
       "      <th>31</th>\n",
       "      <th>32</th>\n",
       "      <th>33</th>\n",
       "      <th>34</th>\n",
       "      <th>35</th>\n",
       "      <th>36</th>\n",
       "      <th>37</th>\n",
       "      <th>38</th>\n",
       "      <th>39</th>\n",
       "      <th>40</th>\n",
       "      <th>41</th>\n",
       "      <th>42</th>\n",
       "      <th>43</th>\n",
       "      <th>44</th>\n",
       "      <th>45</th>\n",
       "      <th>46</th>\n",
       "      <th>47</th>\n",
       "      <th>48</th>\n",
       "      <th>49</th>\n",
       "      <th>50</th>\n",
       "      <th>51</th>\n",
       "      <th>52</th>\n",
       "      <th>53</th>\n",
       "      <th>54</th>\n",
       "      <th>55</th>\n",
       "      <th>56</th>\n",
       "      <th>57</th>\n",
       "      <th>58</th>\n",
       "      <th>59</th>\n",
       "      <th>60</th>\n",
       "      <th>61</th>\n",
       "      <th>62</th>\n",
       "      <th>63</th>\n",
       "      <th>64</th>\n",
       "      <th>65</th>\n",
       "      <th>66</th>\n",
       "      <th>67</th>\n",
       "      <th>68</th>\n",
       "      <th>69</th>\n",
       "      <th>70</th>\n",
       "      <th>71</th>\n",
       "      <th>72</th>\n",
       "      <th>73</th>\n",
       "      <th>74</th>\n",
       "      <th>75</th>\n",
       "      <th>76</th>\n",
       "      <th>77</th>\n",
       "      <th>78</th>\n",
       "      <th>79</th>\n",
       "      <th>80</th>\n",
       "      <th>81</th>\n",
       "      <th>82</th>\n",
       "      <th>83</th>\n",
       "      <th>84</th>\n",
       "      <th>85</th>\n",
       "      <th>86</th>\n",
       "      <th>87</th>\n",
       "      <th>88</th>\n",
       "      <th>89</th>\n",
       "      <th>90</th>\n",
       "      <th>91</th>\n",
       "      <th>92</th>\n",
       "      <th>93</th>\n",
       "      <th>94</th>\n",
       "      <th>95</th>\n",
       "      <th>96</th>\n",
       "      <th>97</th>\n",
       "      <th>98</th>\n",
       "      <th>99</th>\n",
       "    </tr>\n",
       "  </thead>\n",
       "  <tbody>\n",
       "    <tr>\n",
       "      <th>0</th>\n",
       "      <td>-1.338022</td>\n",
       "      <td>0.632988</td>\n",
       "      <td>-2.109704</td>\n",
       "      <td>-0.865367</td>\n",
       "      <td>-1.206349</td>\n",
       "      <td>-0.066202</td>\n",
       "      <td>0.222995</td>\n",
       "      <td>-0.161924</td>\n",
       "      <td>-2.419132</td>\n",
       "      <td>-1.313507</td>\n",
       "      <td>-0.996263</td>\n",
       "      <td>0.684574</td>\n",
       "      <td>-1.515272</td>\n",
       "      <td>0.899333</td>\n",
       "      <td>-0.810071</td>\n",
       "      <td>-0.821932</td>\n",
       "      <td>-0.668979</td>\n",
       "      <td>-1.837211</td>\n",
       "      <td>0.882724</td>\n",
       "      <td>0.810858</td>\n",
       "      <td>-0.949794</td>\n",
       "      <td>0.323444</td>\n",
       "      <td>-0.496020</td>\n",
       "      <td>-0.110770</td>\n",
       "      <td>-1.531304</td>\n",
       "      <td>-0.968362</td>\n",
       "      <td>0.447644</td>\n",
       "      <td>-0.928789</td>\n",
       "      <td>0.849889</td>\n",
       "      <td>0.341866</td>\n",
       "      <td>0.049415</td>\n",
       "      <td>1.463230</td>\n",
       "      <td>0.024409</td>\n",
       "      <td>-0.445306</td>\n",
       "      <td>1.084505</td>\n",
       "      <td>0.164103</td>\n",
       "      <td>-0.951730</td>\n",
       "      <td>-0.886779</td>\n",
       "      <td>-0.510277</td>\n",
       "      <td>0.222276</td>\n",
       "      <td>0.966833</td>\n",
       "      <td>0.740157</td>\n",
       "      <td>0.262839</td>\n",
       "      <td>-0.643303</td>\n",
       "      <td>-0.831692</td>\n",
       "      <td>0.043147</td>\n",
       "      <td>0.109112</td>\n",
       "      <td>0.293596</td>\n",
       "      <td>-1.063734</td>\n",
       "      <td>0.801490</td>\n",
       "      <td>-0.159930</td>\n",
       "      <td>-0.969835</td>\n",
       "      <td>0.151929</td>\n",
       "      <td>-0.182230</td>\n",
       "      <td>-0.900184</td>\n",
       "      <td>-0.047211</td>\n",
       "      <td>0.008516</td>\n",
       "      <td>0.005202</td>\n",
       "      <td>-0.059124</td>\n",
       "      <td>0.479577</td>\n",
       "      <td>0.298412</td>\n",
       "      <td>0.028438</td>\n",
       "      <td>-0.627529</td>\n",
       "      <td>0.036665</td>\n",
       "      <td>0.171916</td>\n",
       "      <td>0.317503</td>\n",
       "      <td>0.430411</td>\n",
       "      <td>0.581090</td>\n",
       "      <td>0.650602</td>\n",
       "      <td>-0.056424</td>\n",
       "      <td>0.244454</td>\n",
       "      <td>-0.148091</td>\n",
       "      <td>-0.180605</td>\n",
       "      <td>0.220023</td>\n",
       "      <td>-0.348161</td>\n",
       "      <td>-0.540220</td>\n",
       "      <td>-0.097661</td>\n",
       "      <td>-0.012328</td>\n",
       "      <td>-0.218796</td>\n",
       "      <td>0.434043</td>\n",
       "      <td>-0.379872</td>\n",
       "      <td>0.266183</td>\n",
       "      <td>0.500763</td>\n",
       "      <td>0.588980</td>\n",
       "      <td>0.174089</td>\n",
       "      <td>0.593472</td>\n",
       "      <td>-1.035820</td>\n",
       "      <td>-0.256316</td>\n",
       "      <td>0.875332</td>\n",
       "      <td>0.691958</td>\n",
       "      <td>-0.541498</td>\n",
       "      <td>0.558963</td>\n",
       "      <td>0.121449</td>\n",
       "      <td>0.642410</td>\n",
       "      <td>0.258897</td>\n",
       "      <td>-0.073643</td>\n",
       "      <td>0.537690</td>\n",
       "      <td>0.422026</td>\n",
       "      <td>-0.215050</td>\n",
       "      <td>0.588477</td>\n",
       "    </tr>\n",
       "    <tr>\n",
       "      <th>1</th>\n",
       "      <td>-0.064915</td>\n",
       "      <td>-1.482136</td>\n",
       "      <td>-1.570909</td>\n",
       "      <td>0.708851</td>\n",
       "      <td>1.105504</td>\n",
       "      <td>-1.461998</td>\n",
       "      <td>-1.168206</td>\n",
       "      <td>1.850776</td>\n",
       "      <td>-0.606477</td>\n",
       "      <td>1.484051</td>\n",
       "      <td>-0.089059</td>\n",
       "      <td>-1.278569</td>\n",
       "      <td>-1.424282</td>\n",
       "      <td>-2.417628</td>\n",
       "      <td>0.035770</td>\n",
       "      <td>-0.518052</td>\n",
       "      <td>-0.829026</td>\n",
       "      <td>-0.208171</td>\n",
       "      <td>1.492833</td>\n",
       "      <td>0.978632</td>\n",
       "      <td>-0.049122</td>\n",
       "      <td>0.587440</td>\n",
       "      <td>0.112942</td>\n",
       "      <td>0.432474</td>\n",
       "      <td>-0.409942</td>\n",
       "      <td>-0.218362</td>\n",
       "      <td>-0.637133</td>\n",
       "      <td>-2.344682</td>\n",
       "      <td>-0.608382</td>\n",
       "      <td>0.460511</td>\n",
       "      <td>-0.902473</td>\n",
       "      <td>-1.568597</td>\n",
       "      <td>-0.774116</td>\n",
       "      <td>1.579693</td>\n",
       "      <td>0.429913</td>\n",
       "      <td>0.704270</td>\n",
       "      <td>-0.789676</td>\n",
       "      <td>-0.544702</td>\n",
       "      <td>-0.810121</td>\n",
       "      <td>0.042388</td>\n",
       "      <td>-0.332018</td>\n",
       "      <td>-0.708189</td>\n",
       "      <td>0.077451</td>\n",
       "      <td>-1.815077</td>\n",
       "      <td>0.388701</td>\n",
       "      <td>-1.151284</td>\n",
       "      <td>-0.363992</td>\n",
       "      <td>-0.038219</td>\n",
       "      <td>0.344654</td>\n",
       "      <td>1.544282</td>\n",
       "      <td>-0.314256</td>\n",
       "      <td>0.140058</td>\n",
       "      <td>-0.160612</td>\n",
       "      <td>1.552603</td>\n",
       "      <td>0.367822</td>\n",
       "      <td>0.595089</td>\n",
       "      <td>-0.525706</td>\n",
       "      <td>-0.096048</td>\n",
       "      <td>1.654872</td>\n",
       "      <td>-0.121724</td>\n",
       "      <td>0.063644</td>\n",
       "      <td>-0.494636</td>\n",
       "      <td>2.122385</td>\n",
       "      <td>-0.213945</td>\n",
       "      <td>0.257931</td>\n",
       "      <td>-1.422162</td>\n",
       "      <td>0.094412</td>\n",
       "      <td>0.544651</td>\n",
       "      <td>-0.420067</td>\n",
       "      <td>-0.110779</td>\n",
       "      <td>-0.048502</td>\n",
       "      <td>0.235667</td>\n",
       "      <td>-0.204194</td>\n",
       "      <td>1.498402</td>\n",
       "      <td>0.901073</td>\n",
       "      <td>1.076978</td>\n",
       "      <td>-0.464750</td>\n",
       "      <td>0.307110</td>\n",
       "      <td>0.114241</td>\n",
       "      <td>-0.156627</td>\n",
       "      <td>-0.796384</td>\n",
       "      <td>0.541463</td>\n",
       "      <td>-1.854784</td>\n",
       "      <td>-2.184398</td>\n",
       "      <td>0.211443</td>\n",
       "      <td>-1.854604</td>\n",
       "      <td>0.985855</td>\n",
       "      <td>1.547990</td>\n",
       "      <td>-0.342937</td>\n",
       "      <td>-0.318017</td>\n",
       "      <td>0.514248</td>\n",
       "      <td>-0.280784</td>\n",
       "      <td>-0.585414</td>\n",
       "      <td>-0.224040</td>\n",
       "      <td>-0.406074</td>\n",
       "      <td>-0.228556</td>\n",
       "      <td>-1.368981</td>\n",
       "      <td>-0.940166</td>\n",
       "      <td>-0.167087</td>\n",
       "      <td>1.094319</td>\n",
       "    </tr>\n",
       "    <tr>\n",
       "      <th>2</th>\n",
       "      <td>2.320713</td>\n",
       "      <td>-1.717214</td>\n",
       "      <td>1.622501</td>\n",
       "      <td>1.392763</td>\n",
       "      <td>1.678123</td>\n",
       "      <td>-1.177417</td>\n",
       "      <td>0.052208</td>\n",
       "      <td>-1.718770</td>\n",
       "      <td>-1.228012</td>\n",
       "      <td>0.204642</td>\n",
       "      <td>0.296308</td>\n",
       "      <td>0.476851</td>\n",
       "      <td>2.358585</td>\n",
       "      <td>-0.900266</td>\n",
       "      <td>0.854494</td>\n",
       "      <td>-0.736742</td>\n",
       "      <td>-0.963336</td>\n",
       "      <td>-1.164562</td>\n",
       "      <td>0.927100</td>\n",
       "      <td>-0.733654</td>\n",
       "      <td>1.536156</td>\n",
       "      <td>-0.273591</td>\n",
       "      <td>-0.269426</td>\n",
       "      <td>0.408291</td>\n",
       "      <td>-1.270122</td>\n",
       "      <td>-1.507253</td>\n",
       "      <td>0.091578</td>\n",
       "      <td>0.690122</td>\n",
       "      <td>-0.082109</td>\n",
       "      <td>1.457803</td>\n",
       "      <td>2.680982</td>\n",
       "      <td>1.236616</td>\n",
       "      <td>0.341355</td>\n",
       "      <td>0.109453</td>\n",
       "      <td>1.770004</td>\n",
       "      <td>-2.023191</td>\n",
       "      <td>-0.436680</td>\n",
       "      <td>0.695156</td>\n",
       "      <td>0.033032</td>\n",
       "      <td>-0.585303</td>\n",
       "      <td>-2.330506</td>\n",
       "      <td>-2.374422</td>\n",
       "      <td>-0.339900</td>\n",
       "      <td>0.979776</td>\n",
       "      <td>2.546812</td>\n",
       "      <td>2.022050</td>\n",
       "      <td>-1.364706</td>\n",
       "      <td>-1.230622</td>\n",
       "      <td>0.174512</td>\n",
       "      <td>2.576860</td>\n",
       "      <td>0.447007</td>\n",
       "      <td>0.925641</td>\n",
       "      <td>1.783496</td>\n",
       "      <td>-0.459806</td>\n",
       "      <td>0.869682</td>\n",
       "      <td>1.928228</td>\n",
       "      <td>-0.072409</td>\n",
       "      <td>-0.327069</td>\n",
       "      <td>0.996103</td>\n",
       "      <td>2.026701</td>\n",
       "      <td>0.299737</td>\n",
       "      <td>-0.362128</td>\n",
       "      <td>-0.430352</td>\n",
       "      <td>-0.634558</td>\n",
       "      <td>0.664836</td>\n",
       "      <td>0.215633</td>\n",
       "      <td>0.328079</td>\n",
       "      <td>-0.386754</td>\n",
       "      <td>2.586886</td>\n",
       "      <td>0.047198</td>\n",
       "      <td>1.515844</td>\n",
       "      <td>-0.430257</td>\n",
       "      <td>0.809857</td>\n",
       "      <td>-0.647156</td>\n",
       "      <td>1.520016</td>\n",
       "      <td>0.252596</td>\n",
       "      <td>-1.369038</td>\n",
       "      <td>0.684105</td>\n",
       "      <td>0.285138</td>\n",
       "      <td>0.288245</td>\n",
       "      <td>0.313409</td>\n",
       "      <td>-1.033894</td>\n",
       "      <td>0.381963</td>\n",
       "      <td>0.597459</td>\n",
       "      <td>-0.796656</td>\n",
       "      <td>-0.655711</td>\n",
       "      <td>-0.731521</td>\n",
       "      <td>0.232586</td>\n",
       "      <td>1.014466</td>\n",
       "      <td>1.535303</td>\n",
       "      <td>-1.669513</td>\n",
       "      <td>-0.700284</td>\n",
       "      <td>0.050701</td>\n",
       "      <td>0.362523</td>\n",
       "      <td>0.085680</td>\n",
       "      <td>0.810082</td>\n",
       "      <td>-1.763770</td>\n",
       "      <td>-0.077080</td>\n",
       "      <td>0.116742</td>\n",
       "      <td>0.789388</td>\n",
       "    </tr>\n",
       "    <tr>\n",
       "      <th>3</th>\n",
       "      <td>1.034017</td>\n",
       "      <td>-2.450160</td>\n",
       "      <td>1.006993</td>\n",
       "      <td>-0.590522</td>\n",
       "      <td>-0.937810</td>\n",
       "      <td>0.120904</td>\n",
       "      <td>-0.660836</td>\n",
       "      <td>-0.480186</td>\n",
       "      <td>0.642416</td>\n",
       "      <td>1.235880</td>\n",
       "      <td>2.399971</td>\n",
       "      <td>1.055523</td>\n",
       "      <td>0.005299</td>\n",
       "      <td>2.060131</td>\n",
       "      <td>-0.298128</td>\n",
       "      <td>2.160385</td>\n",
       "      <td>0.024563</td>\n",
       "      <td>0.331172</td>\n",
       "      <td>1.245240</td>\n",
       "      <td>0.120130</td>\n",
       "      <td>0.313463</td>\n",
       "      <td>0.645811</td>\n",
       "      <td>-1.248911</td>\n",
       "      <td>-1.750119</td>\n",
       "      <td>-0.695945</td>\n",
       "      <td>0.597590</td>\n",
       "      <td>-0.891173</td>\n",
       "      <td>0.010423</td>\n",
       "      <td>0.737668</td>\n",
       "      <td>-0.277294</td>\n",
       "      <td>-0.527334</td>\n",
       "      <td>-0.393881</td>\n",
       "      <td>-0.348765</td>\n",
       "      <td>0.271094</td>\n",
       "      <td>-0.001717</td>\n",
       "      <td>0.082920</td>\n",
       "      <td>0.121219</td>\n",
       "      <td>-0.978336</td>\n",
       "      <td>0.073636</td>\n",
       "      <td>-0.316434</td>\n",
       "      <td>-0.354501</td>\n",
       "      <td>0.429545</td>\n",
       "      <td>-0.317106</td>\n",
       "      <td>-0.155305</td>\n",
       "      <td>-0.236333</td>\n",
       "      <td>-0.858309</td>\n",
       "      <td>0.237823</td>\n",
       "      <td>0.414624</td>\n",
       "      <td>-0.025873</td>\n",
       "      <td>-0.568220</td>\n",
       "      <td>-0.182398</td>\n",
       "      <td>-0.143282</td>\n",
       "      <td>0.241211</td>\n",
       "      <td>-0.164194</td>\n",
       "      <td>0.263223</td>\n",
       "      <td>-0.208194</td>\n",
       "      <td>0.548930</td>\n",
       "      <td>-0.307604</td>\n",
       "      <td>-0.274342</td>\n",
       "      <td>-0.576264</td>\n",
       "      <td>0.129975</td>\n",
       "      <td>0.444469</td>\n",
       "      <td>-0.219575</td>\n",
       "      <td>-0.613443</td>\n",
       "      <td>-0.343532</td>\n",
       "      <td>0.561110</td>\n",
       "      <td>0.134700</td>\n",
       "      <td>0.047457</td>\n",
       "      <td>0.091053</td>\n",
       "      <td>-0.087407</td>\n",
       "      <td>0.802520</td>\n",
       "      <td>0.006964</td>\n",
       "      <td>0.151890</td>\n",
       "      <td>-0.561130</td>\n",
       "      <td>-0.095372</td>\n",
       "      <td>0.313607</td>\n",
       "      <td>-0.527826</td>\n",
       "      <td>0.175933</td>\n",
       "      <td>-0.116715</td>\n",
       "      <td>-0.101140</td>\n",
       "      <td>0.392789</td>\n",
       "      <td>0.528830</td>\n",
       "      <td>0.234862</td>\n",
       "      <td>-0.080354</td>\n",
       "      <td>0.017063</td>\n",
       "      <td>0.237109</td>\n",
       "      <td>-0.465586</td>\n",
       "      <td>0.288407</td>\n",
       "      <td>0.537766</td>\n",
       "      <td>-0.954197</td>\n",
       "      <td>0.362710</td>\n",
       "      <td>-0.454208</td>\n",
       "      <td>-0.322411</td>\n",
       "      <td>-0.020372</td>\n",
       "      <td>0.081830</td>\n",
       "      <td>-0.604701</td>\n",
       "      <td>0.384827</td>\n",
       "      <td>-0.704065</td>\n",
       "      <td>0.088270</td>\n",
       "      <td>0.198596</td>\n",
       "    </tr>\n",
       "    <tr>\n",
       "      <th>4</th>\n",
       "      <td>2.300395</td>\n",
       "      <td>-0.790579</td>\n",
       "      <td>-2.039865</td>\n",
       "      <td>-1.038049</td>\n",
       "      <td>1.731884</td>\n",
       "      <td>0.988865</td>\n",
       "      <td>1.412777</td>\n",
       "      <td>-2.483241</td>\n",
       "      <td>1.214273</td>\n",
       "      <td>-1.606590</td>\n",
       "      <td>-0.292826</td>\n",
       "      <td>0.688497</td>\n",
       "      <td>0.798459</td>\n",
       "      <td>0.374454</td>\n",
       "      <td>1.132606</td>\n",
       "      <td>0.968922</td>\n",
       "      <td>1.622595</td>\n",
       "      <td>-0.007699</td>\n",
       "      <td>0.102639</td>\n",
       "      <td>-2.281876</td>\n",
       "      <td>-1.097296</td>\n",
       "      <td>-1.779921</td>\n",
       "      <td>0.609768</td>\n",
       "      <td>-1.696823</td>\n",
       "      <td>0.076062</td>\n",
       "      <td>1.784259</td>\n",
       "      <td>0.039900</td>\n",
       "      <td>-2.241382</td>\n",
       "      <td>-0.510569</td>\n",
       "      <td>0.547520</td>\n",
       "      <td>0.686397</td>\n",
       "      <td>-0.574906</td>\n",
       "      <td>-0.988005</td>\n",
       "      <td>0.809465</td>\n",
       "      <td>0.578357</td>\n",
       "      <td>-0.600257</td>\n",
       "      <td>-0.344611</td>\n",
       "      <td>1.087294</td>\n",
       "      <td>-3.273392</td>\n",
       "      <td>1.414400</td>\n",
       "      <td>-0.586094</td>\n",
       "      <td>0.345728</td>\n",
       "      <td>0.211465</td>\n",
       "      <td>0.254489</td>\n",
       "      <td>-0.073456</td>\n",
       "      <td>-0.323139</td>\n",
       "      <td>1.427912</td>\n",
       "      <td>-1.286085</td>\n",
       "      <td>-1.356207</td>\n",
       "      <td>-1.714105</td>\n",
       "      <td>1.854853</td>\n",
       "      <td>2.028608</td>\n",
       "      <td>-1.079958</td>\n",
       "      <td>2.792002</td>\n",
       "      <td>-1.277810</td>\n",
       "      <td>-0.677931</td>\n",
       "      <td>-1.041461</td>\n",
       "      <td>2.032034</td>\n",
       "      <td>-1.212903</td>\n",
       "      <td>0.033683</td>\n",
       "      <td>-1.950116</td>\n",
       "      <td>-0.034666</td>\n",
       "      <td>-1.496259</td>\n",
       "      <td>-0.780644</td>\n",
       "      <td>-0.832059</td>\n",
       "      <td>-1.735013</td>\n",
       "      <td>-0.628639</td>\n",
       "      <td>0.673443</td>\n",
       "      <td>1.321745</td>\n",
       "      <td>-0.422529</td>\n",
       "      <td>-0.088081</td>\n",
       "      <td>-0.211769</td>\n",
       "      <td>-1.093127</td>\n",
       "      <td>-0.546922</td>\n",
       "      <td>-0.255771</td>\n",
       "      <td>-1.219111</td>\n",
       "      <td>3.090684</td>\n",
       "      <td>1.317281</td>\n",
       "      <td>-1.629858</td>\n",
       "      <td>0.107310</td>\n",
       "      <td>-0.682898</td>\n",
       "      <td>0.423245</td>\n",
       "      <td>0.911813</td>\n",
       "      <td>-1.417433</td>\n",
       "      <td>-0.771858</td>\n",
       "      <td>0.542910</td>\n",
       "      <td>-1.662769</td>\n",
       "      <td>1.072480</td>\n",
       "      <td>1.028777</td>\n",
       "      <td>-0.265170</td>\n",
       "      <td>-0.450230</td>\n",
       "      <td>0.490161</td>\n",
       "      <td>0.320793</td>\n",
       "      <td>-1.886286</td>\n",
       "      <td>-0.063653</td>\n",
       "      <td>1.266658</td>\n",
       "      <td>0.905559</td>\n",
       "      <td>-1.590071</td>\n",
       "      <td>-1.570468</td>\n",
       "      <td>1.544237</td>\n",
       "    </tr>\n",
       "    <tr>\n",
       "      <th>...</th>\n",
       "      <td>...</td>\n",
       "      <td>...</td>\n",
       "      <td>...</td>\n",
       "      <td>...</td>\n",
       "      <td>...</td>\n",
       "      <td>...</td>\n",
       "      <td>...</td>\n",
       "      <td>...</td>\n",
       "      <td>...</td>\n",
       "      <td>...</td>\n",
       "      <td>...</td>\n",
       "      <td>...</td>\n",
       "      <td>...</td>\n",
       "      <td>...</td>\n",
       "      <td>...</td>\n",
       "      <td>...</td>\n",
       "      <td>...</td>\n",
       "      <td>...</td>\n",
       "      <td>...</td>\n",
       "      <td>...</td>\n",
       "      <td>...</td>\n",
       "      <td>...</td>\n",
       "      <td>...</td>\n",
       "      <td>...</td>\n",
       "      <td>...</td>\n",
       "      <td>...</td>\n",
       "      <td>...</td>\n",
       "      <td>...</td>\n",
       "      <td>...</td>\n",
       "      <td>...</td>\n",
       "      <td>...</td>\n",
       "      <td>...</td>\n",
       "      <td>...</td>\n",
       "      <td>...</td>\n",
       "      <td>...</td>\n",
       "      <td>...</td>\n",
       "      <td>...</td>\n",
       "      <td>...</td>\n",
       "      <td>...</td>\n",
       "      <td>...</td>\n",
       "      <td>...</td>\n",
       "      <td>...</td>\n",
       "      <td>...</td>\n",
       "      <td>...</td>\n",
       "      <td>...</td>\n",
       "      <td>...</td>\n",
       "      <td>...</td>\n",
       "      <td>...</td>\n",
       "      <td>...</td>\n",
       "      <td>...</td>\n",
       "      <td>...</td>\n",
       "      <td>...</td>\n",
       "      <td>...</td>\n",
       "      <td>...</td>\n",
       "      <td>...</td>\n",
       "      <td>...</td>\n",
       "      <td>...</td>\n",
       "      <td>...</td>\n",
       "      <td>...</td>\n",
       "      <td>...</td>\n",
       "      <td>...</td>\n",
       "      <td>...</td>\n",
       "      <td>...</td>\n",
       "      <td>...</td>\n",
       "      <td>...</td>\n",
       "      <td>...</td>\n",
       "      <td>...</td>\n",
       "      <td>...</td>\n",
       "      <td>...</td>\n",
       "      <td>...</td>\n",
       "      <td>...</td>\n",
       "      <td>...</td>\n",
       "      <td>...</td>\n",
       "      <td>...</td>\n",
       "      <td>...</td>\n",
       "      <td>...</td>\n",
       "      <td>...</td>\n",
       "      <td>...</td>\n",
       "      <td>...</td>\n",
       "      <td>...</td>\n",
       "      <td>...</td>\n",
       "      <td>...</td>\n",
       "      <td>...</td>\n",
       "      <td>...</td>\n",
       "      <td>...</td>\n",
       "      <td>...</td>\n",
       "      <td>...</td>\n",
       "      <td>...</td>\n",
       "      <td>...</td>\n",
       "      <td>...</td>\n",
       "      <td>...</td>\n",
       "      <td>...</td>\n",
       "      <td>...</td>\n",
       "      <td>...</td>\n",
       "      <td>...</td>\n",
       "      <td>...</td>\n",
       "      <td>...</td>\n",
       "      <td>...</td>\n",
       "      <td>...</td>\n",
       "      <td>...</td>\n",
       "    </tr>\n",
       "    <tr>\n",
       "      <th>27845</th>\n",
       "      <td>0.385670</td>\n",
       "      <td>0.806570</td>\n",
       "      <td>-2.332213</td>\n",
       "      <td>-1.933849</td>\n",
       "      <td>-0.798546</td>\n",
       "      <td>0.501413</td>\n",
       "      <td>-0.742835</td>\n",
       "      <td>-0.042723</td>\n",
       "      <td>0.188278</td>\n",
       "      <td>-0.161195</td>\n",
       "      <td>-0.527742</td>\n",
       "      <td>0.796684</td>\n",
       "      <td>-0.279575</td>\n",
       "      <td>-1.050103</td>\n",
       "      <td>-0.350203</td>\n",
       "      <td>1.424135</td>\n",
       "      <td>-0.001058</td>\n",
       "      <td>0.528001</td>\n",
       "      <td>1.906055</td>\n",
       "      <td>0.381080</td>\n",
       "      <td>-0.897257</td>\n",
       "      <td>0.374914</td>\n",
       "      <td>0.658337</td>\n",
       "      <td>1.298179</td>\n",
       "      <td>1.127228</td>\n",
       "      <td>-0.734685</td>\n",
       "      <td>0.077092</td>\n",
       "      <td>0.712270</td>\n",
       "      <td>-0.159328</td>\n",
       "      <td>0.038152</td>\n",
       "      <td>0.174252</td>\n",
       "      <td>0.896273</td>\n",
       "      <td>-0.358807</td>\n",
       "      <td>-0.715786</td>\n",
       "      <td>-1.416644</td>\n",
       "      <td>-0.963801</td>\n",
       "      <td>-0.078037</td>\n",
       "      <td>0.573035</td>\n",
       "      <td>0.903191</td>\n",
       "      <td>-0.860783</td>\n",
       "      <td>0.099517</td>\n",
       "      <td>-0.725721</td>\n",
       "      <td>-0.913537</td>\n",
       "      <td>0.752239</td>\n",
       "      <td>0.166406</td>\n",
       "      <td>-0.442147</td>\n",
       "      <td>0.628700</td>\n",
       "      <td>0.392114</td>\n",
       "      <td>-0.327153</td>\n",
       "      <td>0.019881</td>\n",
       "      <td>-0.834199</td>\n",
       "      <td>1.134052</td>\n",
       "      <td>-0.126253</td>\n",
       "      <td>0.657394</td>\n",
       "      <td>-0.532590</td>\n",
       "      <td>-0.835524</td>\n",
       "      <td>-0.994209</td>\n",
       "      <td>-0.274379</td>\n",
       "      <td>0.530084</td>\n",
       "      <td>0.206628</td>\n",
       "      <td>0.363182</td>\n",
       "      <td>0.038743</td>\n",
       "      <td>-0.172044</td>\n",
       "      <td>-0.146780</td>\n",
       "      <td>0.110157</td>\n",
       "      <td>-0.671537</td>\n",
       "      <td>0.358154</td>\n",
       "      <td>-0.327964</td>\n",
       "      <td>0.267045</td>\n",
       "      <td>0.422267</td>\n",
       "      <td>0.333569</td>\n",
       "      <td>0.172546</td>\n",
       "      <td>-0.257405</td>\n",
       "      <td>0.175372</td>\n",
       "      <td>-0.484294</td>\n",
       "      <td>-0.634926</td>\n",
       "      <td>-0.032369</td>\n",
       "      <td>0.573543</td>\n",
       "      <td>0.015799</td>\n",
       "      <td>0.510142</td>\n",
       "      <td>-0.490026</td>\n",
       "      <td>0.184377</td>\n",
       "      <td>-0.565158</td>\n",
       "      <td>0.330410</td>\n",
       "      <td>-0.290009</td>\n",
       "      <td>0.385135</td>\n",
       "      <td>0.369478</td>\n",
       "      <td>-0.029152</td>\n",
       "      <td>-0.211609</td>\n",
       "      <td>0.276763</td>\n",
       "      <td>-0.725754</td>\n",
       "      <td>-0.472236</td>\n",
       "      <td>0.253926</td>\n",
       "      <td>-0.174810</td>\n",
       "      <td>0.544332</td>\n",
       "      <td>-0.066301</td>\n",
       "      <td>0.749742</td>\n",
       "      <td>0.040671</td>\n",
       "      <td>-0.132711</td>\n",
       "      <td>-0.499418</td>\n",
       "    </tr>\n",
       "    <tr>\n",
       "      <th>27846</th>\n",
       "      <td>2.014723</td>\n",
       "      <td>1.145250</td>\n",
       "      <td>-2.165355</td>\n",
       "      <td>-1.372128</td>\n",
       "      <td>-0.155171</td>\n",
       "      <td>0.172215</td>\n",
       "      <td>-0.499650</td>\n",
       "      <td>0.152135</td>\n",
       "      <td>0.152998</td>\n",
       "      <td>1.991991</td>\n",
       "      <td>0.323865</td>\n",
       "      <td>-0.367937</td>\n",
       "      <td>-1.131362</td>\n",
       "      <td>-0.626104</td>\n",
       "      <td>1.003480</td>\n",
       "      <td>-1.309574</td>\n",
       "      <td>-0.279499</td>\n",
       "      <td>0.208364</td>\n",
       "      <td>0.049290</td>\n",
       "      <td>-0.689711</td>\n",
       "      <td>0.842050</td>\n",
       "      <td>0.081679</td>\n",
       "      <td>0.197167</td>\n",
       "      <td>0.450151</td>\n",
       "      <td>-1.200960</td>\n",
       "      <td>-0.138367</td>\n",
       "      <td>0.347278</td>\n",
       "      <td>-1.402869</td>\n",
       "      <td>0.029384</td>\n",
       "      <td>0.315728</td>\n",
       "      <td>-0.841923</td>\n",
       "      <td>1.156902</td>\n",
       "      <td>-1.415369</td>\n",
       "      <td>1.378745</td>\n",
       "      <td>-0.077651</td>\n",
       "      <td>0.556603</td>\n",
       "      <td>0.094847</td>\n",
       "      <td>0.277471</td>\n",
       "      <td>-0.589321</td>\n",
       "      <td>-0.095956</td>\n",
       "      <td>-0.391719</td>\n",
       "      <td>-1.229935</td>\n",
       "      <td>-0.016035</td>\n",
       "      <td>-0.614034</td>\n",
       "      <td>0.546741</td>\n",
       "      <td>-0.686937</td>\n",
       "      <td>-0.896884</td>\n",
       "      <td>-0.046050</td>\n",
       "      <td>0.613652</td>\n",
       "      <td>0.484912</td>\n",
       "      <td>-0.517672</td>\n",
       "      <td>-0.187273</td>\n",
       "      <td>-0.660101</td>\n",
       "      <td>0.848297</td>\n",
       "      <td>0.116681</td>\n",
       "      <td>0.809234</td>\n",
       "      <td>-0.314961</td>\n",
       "      <td>-0.104552</td>\n",
       "      <td>0.775372</td>\n",
       "      <td>0.003647</td>\n",
       "      <td>-0.286572</td>\n",
       "      <td>-0.273056</td>\n",
       "      <td>0.246600</td>\n",
       "      <td>0.144898</td>\n",
       "      <td>0.269009</td>\n",
       "      <td>0.446720</td>\n",
       "      <td>-0.372942</td>\n",
       "      <td>0.231277</td>\n",
       "      <td>-0.512295</td>\n",
       "      <td>0.441812</td>\n",
       "      <td>0.256627</td>\n",
       "      <td>-0.385817</td>\n",
       "      <td>-0.070841</td>\n",
       "      <td>0.477933</td>\n",
       "      <td>-0.228399</td>\n",
       "      <td>0.493949</td>\n",
       "      <td>-0.191607</td>\n",
       "      <td>0.545459</td>\n",
       "      <td>0.632946</td>\n",
       "      <td>0.119444</td>\n",
       "      <td>-0.487094</td>\n",
       "      <td>-0.264324</td>\n",
       "      <td>-1.292576</td>\n",
       "      <td>-1.154168</td>\n",
       "      <td>0.208829</td>\n",
       "      <td>-0.556784</td>\n",
       "      <td>0.485843</td>\n",
       "      <td>0.199630</td>\n",
       "      <td>-0.374384</td>\n",
       "      <td>0.340600</td>\n",
       "      <td>0.488418</td>\n",
       "      <td>0.891670</td>\n",
       "      <td>-0.596643</td>\n",
       "      <td>0.011294</td>\n",
       "      <td>-0.529806</td>\n",
       "      <td>-0.866849</td>\n",
       "      <td>-0.046322</td>\n",
       "      <td>0.196970</td>\n",
       "      <td>-0.192913</td>\n",
       "      <td>0.611576</td>\n",
       "    </tr>\n",
       "    <tr>\n",
       "      <th>27847</th>\n",
       "      <td>-3.321834</td>\n",
       "      <td>-0.813475</td>\n",
       "      <td>0.050560</td>\n",
       "      <td>0.843763</td>\n",
       "      <td>0.143886</td>\n",
       "      <td>-2.015210</td>\n",
       "      <td>-1.481531</td>\n",
       "      <td>0.778983</td>\n",
       "      <td>0.804041</td>\n",
       "      <td>-1.626519</td>\n",
       "      <td>2.728421</td>\n",
       "      <td>0.032335</td>\n",
       "      <td>2.192455</td>\n",
       "      <td>-1.097120</td>\n",
       "      <td>-1.189833</td>\n",
       "      <td>-0.433616</td>\n",
       "      <td>-0.222394</td>\n",
       "      <td>1.755777</td>\n",
       "      <td>0.006139</td>\n",
       "      <td>-1.384877</td>\n",
       "      <td>1.090992</td>\n",
       "      <td>0.253507</td>\n",
       "      <td>0.021822</td>\n",
       "      <td>0.951255</td>\n",
       "      <td>-0.438033</td>\n",
       "      <td>0.126846</td>\n",
       "      <td>0.069031</td>\n",
       "      <td>0.047977</td>\n",
       "      <td>1.264160</td>\n",
       "      <td>1.340466</td>\n",
       "      <td>0.308674</td>\n",
       "      <td>0.739983</td>\n",
       "      <td>-0.902637</td>\n",
       "      <td>-0.700009</td>\n",
       "      <td>0.058757</td>\n",
       "      <td>-1.714594</td>\n",
       "      <td>-0.100089</td>\n",
       "      <td>-0.349436</td>\n",
       "      <td>-0.365459</td>\n",
       "      <td>0.651515</td>\n",
       "      <td>0.178004</td>\n",
       "      <td>1.594222</td>\n",
       "      <td>-0.022765</td>\n",
       "      <td>0.374123</td>\n",
       "      <td>0.229358</td>\n",
       "      <td>0.828630</td>\n",
       "      <td>2.282933</td>\n",
       "      <td>0.934429</td>\n",
       "      <td>1.600041</td>\n",
       "      <td>0.186141</td>\n",
       "      <td>-0.142812</td>\n",
       "      <td>-1.471812</td>\n",
       "      <td>-0.499570</td>\n",
       "      <td>1.893007</td>\n",
       "      <td>-1.040983</td>\n",
       "      <td>-0.699615</td>\n",
       "      <td>1.057785</td>\n",
       "      <td>0.059622</td>\n",
       "      <td>-0.880340</td>\n",
       "      <td>-0.894464</td>\n",
       "      <td>1.029489</td>\n",
       "      <td>1.177471</td>\n",
       "      <td>0.364458</td>\n",
       "      <td>0.169212</td>\n",
       "      <td>-0.038170</td>\n",
       "      <td>-1.019575</td>\n",
       "      <td>-0.292106</td>\n",
       "      <td>-0.445699</td>\n",
       "      <td>0.160132</td>\n",
       "      <td>-1.363234</td>\n",
       "      <td>0.013996</td>\n",
       "      <td>-0.764314</td>\n",
       "      <td>0.539925</td>\n",
       "      <td>-0.209427</td>\n",
       "      <td>-0.179374</td>\n",
       "      <td>-0.548315</td>\n",
       "      <td>-0.727618</td>\n",
       "      <td>-0.489599</td>\n",
       "      <td>-1.061663</td>\n",
       "      <td>-0.937844</td>\n",
       "      <td>0.765760</td>\n",
       "      <td>-0.342665</td>\n",
       "      <td>-0.691736</td>\n",
       "      <td>-1.235908</td>\n",
       "      <td>0.726917</td>\n",
       "      <td>-1.152411</td>\n",
       "      <td>-0.308405</td>\n",
       "      <td>0.604137</td>\n",
       "      <td>0.846768</td>\n",
       "      <td>-0.190503</td>\n",
       "      <td>0.304820</td>\n",
       "      <td>0.836387</td>\n",
       "      <td>-1.616009</td>\n",
       "      <td>0.611052</td>\n",
       "      <td>0.117911</td>\n",
       "      <td>-2.603677</td>\n",
       "      <td>0.587205</td>\n",
       "      <td>1.347844</td>\n",
       "      <td>-0.902214</td>\n",
       "      <td>-1.013890</td>\n",
       "    </tr>\n",
       "    <tr>\n",
       "      <th>27848</th>\n",
       "      <td>-0.278620</td>\n",
       "      <td>0.687692</td>\n",
       "      <td>-2.495594</td>\n",
       "      <td>-0.517748</td>\n",
       "      <td>1.318636</td>\n",
       "      <td>-0.163518</td>\n",
       "      <td>0.639174</td>\n",
       "      <td>0.502093</td>\n",
       "      <td>-0.345594</td>\n",
       "      <td>-2.211622</td>\n",
       "      <td>-0.770241</td>\n",
       "      <td>-0.554055</td>\n",
       "      <td>-0.501539</td>\n",
       "      <td>0.484346</td>\n",
       "      <td>0.297559</td>\n",
       "      <td>-1.438022</td>\n",
       "      <td>0.469626</td>\n",
       "      <td>-0.373781</td>\n",
       "      <td>0.486353</td>\n",
       "      <td>0.270406</td>\n",
       "      <td>0.196686</td>\n",
       "      <td>1.328819</td>\n",
       "      <td>-0.002012</td>\n",
       "      <td>-0.236298</td>\n",
       "      <td>1.081005</td>\n",
       "      <td>0.062258</td>\n",
       "      <td>1.565335</td>\n",
       "      <td>0.281649</td>\n",
       "      <td>1.240129</td>\n",
       "      <td>1.515153</td>\n",
       "      <td>-0.253834</td>\n",
       "      <td>1.730923</td>\n",
       "      <td>0.355920</td>\n",
       "      <td>-0.479665</td>\n",
       "      <td>-0.334348</td>\n",
       "      <td>0.190471</td>\n",
       "      <td>-0.739616</td>\n",
       "      <td>-2.405083</td>\n",
       "      <td>-0.372722</td>\n",
       "      <td>0.723933</td>\n",
       "      <td>1.229736</td>\n",
       "      <td>0.264191</td>\n",
       "      <td>1.199624</td>\n",
       "      <td>-0.017826</td>\n",
       "      <td>-0.472924</td>\n",
       "      <td>-1.177258</td>\n",
       "      <td>-0.608532</td>\n",
       "      <td>1.235561</td>\n",
       "      <td>-1.763000</td>\n",
       "      <td>1.455223</td>\n",
       "      <td>-0.488641</td>\n",
       "      <td>-0.979205</td>\n",
       "      <td>-0.214184</td>\n",
       "      <td>0.044228</td>\n",
       "      <td>-0.341637</td>\n",
       "      <td>0.592133</td>\n",
       "      <td>0.196143</td>\n",
       "      <td>-0.972577</td>\n",
       "      <td>-1.138964</td>\n",
       "      <td>-0.052203</td>\n",
       "      <td>0.120407</td>\n",
       "      <td>-0.857448</td>\n",
       "      <td>0.143390</td>\n",
       "      <td>0.268618</td>\n",
       "      <td>-0.297318</td>\n",
       "      <td>0.279944</td>\n",
       "      <td>1.225384</td>\n",
       "      <td>0.763337</td>\n",
       "      <td>0.973204</td>\n",
       "      <td>-0.464578</td>\n",
       "      <td>0.437232</td>\n",
       "      <td>-0.765250</td>\n",
       "      <td>0.487604</td>\n",
       "      <td>-0.173471</td>\n",
       "      <td>-0.935930</td>\n",
       "      <td>-0.201525</td>\n",
       "      <td>-0.732591</td>\n",
       "      <td>0.710765</td>\n",
       "      <td>-0.983619</td>\n",
       "      <td>-0.263480</td>\n",
       "      <td>0.088666</td>\n",
       "      <td>1.292106</td>\n",
       "      <td>-0.544882</td>\n",
       "      <td>0.271892</td>\n",
       "      <td>0.696766</td>\n",
       "      <td>0.594929</td>\n",
       "      <td>-0.503476</td>\n",
       "      <td>-1.334611</td>\n",
       "      <td>-0.201962</td>\n",
       "      <td>0.591824</td>\n",
       "      <td>-0.503528</td>\n",
       "      <td>-1.038356</td>\n",
       "      <td>-0.946193</td>\n",
       "      <td>-0.132152</td>\n",
       "      <td>0.682770</td>\n",
       "      <td>0.859041</td>\n",
       "      <td>-0.380199</td>\n",
       "      <td>-0.041429</td>\n",
       "      <td>-1.613478</td>\n",
       "      <td>1.532871</td>\n",
       "    </tr>\n",
       "    <tr>\n",
       "      <th>27849</th>\n",
       "      <td>1.635581</td>\n",
       "      <td>-2.694759</td>\n",
       "      <td>0.594292</td>\n",
       "      <td>-1.765414</td>\n",
       "      <td>-0.272172</td>\n",
       "      <td>1.068666</td>\n",
       "      <td>-0.435409</td>\n",
       "      <td>0.028476</td>\n",
       "      <td>0.278643</td>\n",
       "      <td>0.402199</td>\n",
       "      <td>-0.090257</td>\n",
       "      <td>-1.224127</td>\n",
       "      <td>-0.346110</td>\n",
       "      <td>0.305687</td>\n",
       "      <td>0.338389</td>\n",
       "      <td>0.673478</td>\n",
       "      <td>0.354983</td>\n",
       "      <td>-0.788936</td>\n",
       "      <td>0.220981</td>\n",
       "      <td>-0.701890</td>\n",
       "      <td>-0.050305</td>\n",
       "      <td>0.056998</td>\n",
       "      <td>1.046870</td>\n",
       "      <td>-0.468190</td>\n",
       "      <td>0.977443</td>\n",
       "      <td>0.419495</td>\n",
       "      <td>1.343442</td>\n",
       "      <td>0.219251</td>\n",
       "      <td>1.350919</td>\n",
       "      <td>0.992254</td>\n",
       "      <td>-0.626312</td>\n",
       "      <td>0.425592</td>\n",
       "      <td>0.613351</td>\n",
       "      <td>-0.689409</td>\n",
       "      <td>0.012192</td>\n",
       "      <td>0.298213</td>\n",
       "      <td>-0.060298</td>\n",
       "      <td>-0.347119</td>\n",
       "      <td>0.241888</td>\n",
       "      <td>0.278964</td>\n",
       "      <td>0.793259</td>\n",
       "      <td>-0.130641</td>\n",
       "      <td>0.855799</td>\n",
       "      <td>0.526820</td>\n",
       "      <td>-0.433749</td>\n",
       "      <td>-0.302773</td>\n",
       "      <td>0.215722</td>\n",
       "      <td>0.277804</td>\n",
       "      <td>-0.364268</td>\n",
       "      <td>-0.100137</td>\n",
       "      <td>0.526189</td>\n",
       "      <td>-0.342135</td>\n",
       "      <td>0.123810</td>\n",
       "      <td>-0.535815</td>\n",
       "      <td>0.220944</td>\n",
       "      <td>0.614934</td>\n",
       "      <td>0.492068</td>\n",
       "      <td>-0.225156</td>\n",
       "      <td>-0.312874</td>\n",
       "      <td>-0.627881</td>\n",
       "      <td>-0.178725</td>\n",
       "      <td>-0.603072</td>\n",
       "      <td>0.541467</td>\n",
       "      <td>0.053483</td>\n",
       "      <td>-0.428178</td>\n",
       "      <td>0.315588</td>\n",
       "      <td>-0.064957</td>\n",
       "      <td>0.053454</td>\n",
       "      <td>0.601818</td>\n",
       "      <td>-0.064229</td>\n",
       "      <td>-0.166563</td>\n",
       "      <td>-0.021746</td>\n",
       "      <td>0.483959</td>\n",
       "      <td>-0.119572</td>\n",
       "      <td>-0.034202</td>\n",
       "      <td>0.377396</td>\n",
       "      <td>-0.045164</td>\n",
       "      <td>0.036646</td>\n",
       "      <td>-0.151802</td>\n",
       "      <td>-0.029544</td>\n",
       "      <td>0.212460</td>\n",
       "      <td>0.471196</td>\n",
       "      <td>-0.828815</td>\n",
       "      <td>-0.346359</td>\n",
       "      <td>0.346264</td>\n",
       "      <td>0.269999</td>\n",
       "      <td>0.018492</td>\n",
       "      <td>-0.871951</td>\n",
       "      <td>-0.344148</td>\n",
       "      <td>-0.395552</td>\n",
       "      <td>-0.215602</td>\n",
       "      <td>-0.193219</td>\n",
       "      <td>-0.069560</td>\n",
       "      <td>-0.219738</td>\n",
       "      <td>-0.369847</td>\n",
       "      <td>-0.012235</td>\n",
       "      <td>-0.172036</td>\n",
       "      <td>-0.733691</td>\n",
       "      <td>0.031536</td>\n",
       "      <td>0.544238</td>\n",
       "    </tr>\n",
       "  </tbody>\n",
       "</table>\n",
       "<p>27850 rows × 100 columns</p>\n",
       "</div>"
      ],
      "text/plain": [
       "             0         1         2         3         4         5         6   \\\n",
       "0     -1.338022  0.632988 -2.109704 -0.865367 -1.206349 -0.066202  0.222995   \n",
       "1     -0.064915 -1.482136 -1.570909  0.708851  1.105504 -1.461998 -1.168206   \n",
       "2      2.320713 -1.717214  1.622501  1.392763  1.678123 -1.177417  0.052208   \n",
       "3      1.034017 -2.450160  1.006993 -0.590522 -0.937810  0.120904 -0.660836   \n",
       "4      2.300395 -0.790579 -2.039865 -1.038049  1.731884  0.988865  1.412777   \n",
       "...         ...       ...       ...       ...       ...       ...       ...   \n",
       "27845  0.385670  0.806570 -2.332213 -1.933849 -0.798546  0.501413 -0.742835   \n",
       "27846  2.014723  1.145250 -2.165355 -1.372128 -0.155171  0.172215 -0.499650   \n",
       "27847 -3.321834 -0.813475  0.050560  0.843763  0.143886 -2.015210 -1.481531   \n",
       "27848 -0.278620  0.687692 -2.495594 -0.517748  1.318636 -0.163518  0.639174   \n",
       "27849  1.635581 -2.694759  0.594292 -1.765414 -0.272172  1.068666 -0.435409   \n",
       "\n",
       "             7         8         9         10        11        12        13  \\\n",
       "0     -0.161924 -2.419132 -1.313507 -0.996263  0.684574 -1.515272  0.899333   \n",
       "1      1.850776 -0.606477  1.484051 -0.089059 -1.278569 -1.424282 -2.417628   \n",
       "2     -1.718770 -1.228012  0.204642  0.296308  0.476851  2.358585 -0.900266   \n",
       "3     -0.480186  0.642416  1.235880  2.399971  1.055523  0.005299  2.060131   \n",
       "4     -2.483241  1.214273 -1.606590 -0.292826  0.688497  0.798459  0.374454   \n",
       "...         ...       ...       ...       ...       ...       ...       ...   \n",
       "27845 -0.042723  0.188278 -0.161195 -0.527742  0.796684 -0.279575 -1.050103   \n",
       "27846  0.152135  0.152998  1.991991  0.323865 -0.367937 -1.131362 -0.626104   \n",
       "27847  0.778983  0.804041 -1.626519  2.728421  0.032335  2.192455 -1.097120   \n",
       "27848  0.502093 -0.345594 -2.211622 -0.770241 -0.554055 -0.501539  0.484346   \n",
       "27849  0.028476  0.278643  0.402199 -0.090257 -1.224127 -0.346110  0.305687   \n",
       "\n",
       "             14        15        16        17        18        19        20  \\\n",
       "0     -0.810071 -0.821932 -0.668979 -1.837211  0.882724  0.810858 -0.949794   \n",
       "1      0.035770 -0.518052 -0.829026 -0.208171  1.492833  0.978632 -0.049122   \n",
       "2      0.854494 -0.736742 -0.963336 -1.164562  0.927100 -0.733654  1.536156   \n",
       "3     -0.298128  2.160385  0.024563  0.331172  1.245240  0.120130  0.313463   \n",
       "4      1.132606  0.968922  1.622595 -0.007699  0.102639 -2.281876 -1.097296   \n",
       "...         ...       ...       ...       ...       ...       ...       ...   \n",
       "27845 -0.350203  1.424135 -0.001058  0.528001  1.906055  0.381080 -0.897257   \n",
       "27846  1.003480 -1.309574 -0.279499  0.208364  0.049290 -0.689711  0.842050   \n",
       "27847 -1.189833 -0.433616 -0.222394  1.755777  0.006139 -1.384877  1.090992   \n",
       "27848  0.297559 -1.438022  0.469626 -0.373781  0.486353  0.270406  0.196686   \n",
       "27849  0.338389  0.673478  0.354983 -0.788936  0.220981 -0.701890 -0.050305   \n",
       "\n",
       "             21        22        23        24        25        26        27  \\\n",
       "0      0.323444 -0.496020 -0.110770 -1.531304 -0.968362  0.447644 -0.928789   \n",
       "1      0.587440  0.112942  0.432474 -0.409942 -0.218362 -0.637133 -2.344682   \n",
       "2     -0.273591 -0.269426  0.408291 -1.270122 -1.507253  0.091578  0.690122   \n",
       "3      0.645811 -1.248911 -1.750119 -0.695945  0.597590 -0.891173  0.010423   \n",
       "4     -1.779921  0.609768 -1.696823  0.076062  1.784259  0.039900 -2.241382   \n",
       "...         ...       ...       ...       ...       ...       ...       ...   \n",
       "27845  0.374914  0.658337  1.298179  1.127228 -0.734685  0.077092  0.712270   \n",
       "27846  0.081679  0.197167  0.450151 -1.200960 -0.138367  0.347278 -1.402869   \n",
       "27847  0.253507  0.021822  0.951255 -0.438033  0.126846  0.069031  0.047977   \n",
       "27848  1.328819 -0.002012 -0.236298  1.081005  0.062258  1.565335  0.281649   \n",
       "27849  0.056998  1.046870 -0.468190  0.977443  0.419495  1.343442  0.219251   \n",
       "\n",
       "             28        29        30        31        32        33        34  \\\n",
       "0      0.849889  0.341866  0.049415  1.463230  0.024409 -0.445306  1.084505   \n",
       "1     -0.608382  0.460511 -0.902473 -1.568597 -0.774116  1.579693  0.429913   \n",
       "2     -0.082109  1.457803  2.680982  1.236616  0.341355  0.109453  1.770004   \n",
       "3      0.737668 -0.277294 -0.527334 -0.393881 -0.348765  0.271094 -0.001717   \n",
       "4     -0.510569  0.547520  0.686397 -0.574906 -0.988005  0.809465  0.578357   \n",
       "...         ...       ...       ...       ...       ...       ...       ...   \n",
       "27845 -0.159328  0.038152  0.174252  0.896273 -0.358807 -0.715786 -1.416644   \n",
       "27846  0.029384  0.315728 -0.841923  1.156902 -1.415369  1.378745 -0.077651   \n",
       "27847  1.264160  1.340466  0.308674  0.739983 -0.902637 -0.700009  0.058757   \n",
       "27848  1.240129  1.515153 -0.253834  1.730923  0.355920 -0.479665 -0.334348   \n",
       "27849  1.350919  0.992254 -0.626312  0.425592  0.613351 -0.689409  0.012192   \n",
       "\n",
       "             35        36        37        38        39        40        41  \\\n",
       "0      0.164103 -0.951730 -0.886779 -0.510277  0.222276  0.966833  0.740157   \n",
       "1      0.704270 -0.789676 -0.544702 -0.810121  0.042388 -0.332018 -0.708189   \n",
       "2     -2.023191 -0.436680  0.695156  0.033032 -0.585303 -2.330506 -2.374422   \n",
       "3      0.082920  0.121219 -0.978336  0.073636 -0.316434 -0.354501  0.429545   \n",
       "4     -0.600257 -0.344611  1.087294 -3.273392  1.414400 -0.586094  0.345728   \n",
       "...         ...       ...       ...       ...       ...       ...       ...   \n",
       "27845 -0.963801 -0.078037  0.573035  0.903191 -0.860783  0.099517 -0.725721   \n",
       "27846  0.556603  0.094847  0.277471 -0.589321 -0.095956 -0.391719 -1.229935   \n",
       "27847 -1.714594 -0.100089 -0.349436 -0.365459  0.651515  0.178004  1.594222   \n",
       "27848  0.190471 -0.739616 -2.405083 -0.372722  0.723933  1.229736  0.264191   \n",
       "27849  0.298213 -0.060298 -0.347119  0.241888  0.278964  0.793259 -0.130641   \n",
       "\n",
       "             42        43        44        45        46        47        48  \\\n",
       "0      0.262839 -0.643303 -0.831692  0.043147  0.109112  0.293596 -1.063734   \n",
       "1      0.077451 -1.815077  0.388701 -1.151284 -0.363992 -0.038219  0.344654   \n",
       "2     -0.339900  0.979776  2.546812  2.022050 -1.364706 -1.230622  0.174512   \n",
       "3     -0.317106 -0.155305 -0.236333 -0.858309  0.237823  0.414624 -0.025873   \n",
       "4      0.211465  0.254489 -0.073456 -0.323139  1.427912 -1.286085 -1.356207   \n",
       "...         ...       ...       ...       ...       ...       ...       ...   \n",
       "27845 -0.913537  0.752239  0.166406 -0.442147  0.628700  0.392114 -0.327153   \n",
       "27846 -0.016035 -0.614034  0.546741 -0.686937 -0.896884 -0.046050  0.613652   \n",
       "27847 -0.022765  0.374123  0.229358  0.828630  2.282933  0.934429  1.600041   \n",
       "27848  1.199624 -0.017826 -0.472924 -1.177258 -0.608532  1.235561 -1.763000   \n",
       "27849  0.855799  0.526820 -0.433749 -0.302773  0.215722  0.277804 -0.364268   \n",
       "\n",
       "             49        50        51        52        53        54        55  \\\n",
       "0      0.801490 -0.159930 -0.969835  0.151929 -0.182230 -0.900184 -0.047211   \n",
       "1      1.544282 -0.314256  0.140058 -0.160612  1.552603  0.367822  0.595089   \n",
       "2      2.576860  0.447007  0.925641  1.783496 -0.459806  0.869682  1.928228   \n",
       "3     -0.568220 -0.182398 -0.143282  0.241211 -0.164194  0.263223 -0.208194   \n",
       "4     -1.714105  1.854853  2.028608 -1.079958  2.792002 -1.277810 -0.677931   \n",
       "...         ...       ...       ...       ...       ...       ...       ...   \n",
       "27845  0.019881 -0.834199  1.134052 -0.126253  0.657394 -0.532590 -0.835524   \n",
       "27846  0.484912 -0.517672 -0.187273 -0.660101  0.848297  0.116681  0.809234   \n",
       "27847  0.186141 -0.142812 -1.471812 -0.499570  1.893007 -1.040983 -0.699615   \n",
       "27848  1.455223 -0.488641 -0.979205 -0.214184  0.044228 -0.341637  0.592133   \n",
       "27849 -0.100137  0.526189 -0.342135  0.123810 -0.535815  0.220944  0.614934   \n",
       "\n",
       "             56        57        58        59        60        61        62  \\\n",
       "0      0.008516  0.005202 -0.059124  0.479577  0.298412  0.028438 -0.627529   \n",
       "1     -0.525706 -0.096048  1.654872 -0.121724  0.063644 -0.494636  2.122385   \n",
       "2     -0.072409 -0.327069  0.996103  2.026701  0.299737 -0.362128 -0.430352   \n",
       "3      0.548930 -0.307604 -0.274342 -0.576264  0.129975  0.444469 -0.219575   \n",
       "4     -1.041461  2.032034 -1.212903  0.033683 -1.950116 -0.034666 -1.496259   \n",
       "...         ...       ...       ...       ...       ...       ...       ...   \n",
       "27845 -0.994209 -0.274379  0.530084  0.206628  0.363182  0.038743 -0.172044   \n",
       "27846 -0.314961 -0.104552  0.775372  0.003647 -0.286572 -0.273056  0.246600   \n",
       "27847  1.057785  0.059622 -0.880340 -0.894464  1.029489  1.177471  0.364458   \n",
       "27848  0.196143 -0.972577 -1.138964 -0.052203  0.120407 -0.857448  0.143390   \n",
       "27849  0.492068 -0.225156 -0.312874 -0.627881 -0.178725 -0.603072  0.541467   \n",
       "\n",
       "             63        64        65        66        67        68        69  \\\n",
       "0      0.036665  0.171916  0.317503  0.430411  0.581090  0.650602 -0.056424   \n",
       "1     -0.213945  0.257931 -1.422162  0.094412  0.544651 -0.420067 -0.110779   \n",
       "2     -0.634558  0.664836  0.215633  0.328079 -0.386754  2.586886  0.047198   \n",
       "3     -0.613443 -0.343532  0.561110  0.134700  0.047457  0.091053 -0.087407   \n",
       "4     -0.780644 -0.832059 -1.735013 -0.628639  0.673443  1.321745 -0.422529   \n",
       "...         ...       ...       ...       ...       ...       ...       ...   \n",
       "27845 -0.146780  0.110157 -0.671537  0.358154 -0.327964  0.267045  0.422267   \n",
       "27846  0.144898  0.269009  0.446720 -0.372942  0.231277 -0.512295  0.441812   \n",
       "27847  0.169212 -0.038170 -1.019575 -0.292106 -0.445699  0.160132 -1.363234   \n",
       "27848  0.268618 -0.297318  0.279944  1.225384  0.763337  0.973204 -0.464578   \n",
       "27849  0.053483 -0.428178  0.315588 -0.064957  0.053454  0.601818 -0.064229   \n",
       "\n",
       "             70        71        72        73        74        75        76  \\\n",
       "0      0.244454 -0.148091 -0.180605  0.220023 -0.348161 -0.540220 -0.097661   \n",
       "1     -0.048502  0.235667 -0.204194  1.498402  0.901073  1.076978 -0.464750   \n",
       "2      1.515844 -0.430257  0.809857 -0.647156  1.520016  0.252596 -1.369038   \n",
       "3      0.802520  0.006964  0.151890 -0.561130 -0.095372  0.313607 -0.527826   \n",
       "4     -0.088081 -0.211769 -1.093127 -0.546922 -0.255771 -1.219111  3.090684   \n",
       "...         ...       ...       ...       ...       ...       ...       ...   \n",
       "27845  0.333569  0.172546 -0.257405  0.175372 -0.484294 -0.634926 -0.032369   \n",
       "27846  0.256627 -0.385817 -0.070841  0.477933 -0.228399  0.493949 -0.191607   \n",
       "27847  0.013996 -0.764314  0.539925 -0.209427 -0.179374 -0.548315 -0.727618   \n",
       "27848  0.437232 -0.765250  0.487604 -0.173471 -0.935930 -0.201525 -0.732591   \n",
       "27849 -0.166563 -0.021746  0.483959 -0.119572 -0.034202  0.377396 -0.045164   \n",
       "\n",
       "             77        78        79        80        81        82        83  \\\n",
       "0     -0.012328 -0.218796  0.434043 -0.379872  0.266183  0.500763  0.588980   \n",
       "1      0.307110  0.114241 -0.156627 -0.796384  0.541463 -1.854784 -2.184398   \n",
       "2      0.684105  0.285138  0.288245  0.313409 -1.033894  0.381963  0.597459   \n",
       "3      0.175933 -0.116715 -0.101140  0.392789  0.528830  0.234862 -0.080354   \n",
       "4      1.317281 -1.629858  0.107310 -0.682898  0.423245  0.911813 -1.417433   \n",
       "...         ...       ...       ...       ...       ...       ...       ...   \n",
       "27845  0.573543  0.015799  0.510142 -0.490026  0.184377 -0.565158  0.330410   \n",
       "27846  0.545459  0.632946  0.119444 -0.487094 -0.264324 -1.292576 -1.154168   \n",
       "27847 -0.489599 -1.061663 -0.937844  0.765760 -0.342665 -0.691736 -1.235908   \n",
       "27848  0.710765 -0.983619 -0.263480  0.088666  1.292106 -0.544882  0.271892   \n",
       "27849  0.036646 -0.151802 -0.029544  0.212460  0.471196 -0.828815 -0.346359   \n",
       "\n",
       "             84        85        86        87        88        89        90  \\\n",
       "0      0.174089  0.593472 -1.035820 -0.256316  0.875332  0.691958 -0.541498   \n",
       "1      0.211443 -1.854604  0.985855  1.547990 -0.342937 -0.318017  0.514248   \n",
       "2     -0.796656 -0.655711 -0.731521  0.232586  1.014466  1.535303 -1.669513   \n",
       "3      0.017063  0.237109 -0.465586  0.288407  0.537766 -0.954197  0.362710   \n",
       "4     -0.771858  0.542910 -1.662769  1.072480  1.028777 -0.265170 -0.450230   \n",
       "...         ...       ...       ...       ...       ...       ...       ...   \n",
       "27845 -0.290009  0.385135  0.369478 -0.029152 -0.211609  0.276763 -0.725754   \n",
       "27846  0.208829 -0.556784  0.485843  0.199630 -0.374384  0.340600  0.488418   \n",
       "27847  0.726917 -1.152411 -0.308405  0.604137  0.846768 -0.190503  0.304820   \n",
       "27848  0.696766  0.594929 -0.503476 -1.334611 -0.201962  0.591824 -0.503528   \n",
       "27849  0.346264  0.269999  0.018492 -0.871951 -0.344148 -0.395552 -0.215602   \n",
       "\n",
       "             91        92        93        94        95        96        97  \\\n",
       "0      0.558963  0.121449  0.642410  0.258897 -0.073643  0.537690  0.422026   \n",
       "1     -0.280784 -0.585414 -0.224040 -0.406074 -0.228556 -1.368981 -0.940166   \n",
       "2     -0.700284  0.050701  0.362523  0.085680  0.810082 -1.763770 -0.077080   \n",
       "3     -0.454208 -0.322411 -0.020372  0.081830 -0.604701  0.384827 -0.704065   \n",
       "4      0.490161  0.320793 -1.886286 -0.063653  1.266658  0.905559 -1.590071   \n",
       "...         ...       ...       ...       ...       ...       ...       ...   \n",
       "27845 -0.472236  0.253926 -0.174810  0.544332 -0.066301  0.749742  0.040671   \n",
       "27846  0.891670 -0.596643  0.011294 -0.529806 -0.866849 -0.046322  0.196970   \n",
       "27847  0.836387 -1.616009  0.611052  0.117911 -2.603677  0.587205  1.347844   \n",
       "27848 -1.038356 -0.946193 -0.132152  0.682770  0.859041 -0.380199 -0.041429   \n",
       "27849 -0.193219 -0.069560 -0.219738 -0.369847 -0.012235 -0.172036 -0.733691   \n",
       "\n",
       "             98        99  \n",
       "0     -0.215050  0.588477  \n",
       "1     -0.167087  1.094319  \n",
       "2      0.116742  0.789388  \n",
       "3      0.088270  0.198596  \n",
       "4     -1.570468  1.544237  \n",
       "...         ...       ...  \n",
       "27845 -0.132711 -0.499418  \n",
       "27846 -0.192913  0.611576  \n",
       "27847 -0.902214 -1.013890  \n",
       "27848 -1.613478  1.532871  \n",
       "27849  0.031536  0.544238  \n",
       "\n",
       "[27850 rows x 100 columns]"
      ]
     },
     "execution_count": 58,
     "metadata": {},
     "output_type": "execute_result"
    }
   ],
   "source": [
    "pca_df = pd.DataFrame(X_pca_final)\n",
    "pca_df"
   ]
  },
  {
   "cell_type": "code",
   "execution_count": 59,
   "id": "31b43275",
   "metadata": {},
   "outputs": [
    {
     "data": {
      "text/plain": [
       "(27850, 100)"
      ]
     },
     "execution_count": 59,
     "metadata": {},
     "output_type": "execute_result"
    }
   ],
   "source": [
    "pca_df.shape"
   ]
  },
  {
   "cell_type": "markdown",
   "id": "fbd78963",
   "metadata": {},
   "source": [
    "## Training models after PCA"
   ]
  },
  {
   "cell_type": "code",
   "execution_count": 60,
   "id": "7f030a24",
   "metadata": {},
   "outputs": [
    {
     "name": "stdout",
     "output_type": "stream",
     "text": [
      "(27850, 100)\n",
      "(11936, 100)\n"
     ]
    }
   ],
   "source": [
    "X_pca_train = X_pca_final\n",
    "X_pca_test = pca_final.transform(X_scaled_test)\n",
    "\n",
    "print(X_pca_train.shape)\n",
    "print(X_pca_test.shape)"
   ]
  },
  {
   "cell_type": "markdown",
   "id": "61aba659",
   "metadata": {},
   "source": [
    "### Decision Tree"
   ]
  },
  {
   "cell_type": "code",
   "execution_count": 61,
   "id": "3146fe7d",
   "metadata": {},
   "outputs": [
    {
     "data": {
      "text/plain": [
       "DecisionTreeClassifier()"
      ]
     },
     "execution_count": 61,
     "metadata": {},
     "output_type": "execute_result"
    }
   ],
   "source": [
    "dtree_pca = DecisionTreeClassifier()\n",
    "dtree_pca.fit(X_pca_train, y_train)"
   ]
  },
  {
   "cell_type": "code",
   "execution_count": 62,
   "id": "cf61b19c",
   "metadata": {},
   "outputs": [],
   "source": [
    "dtree_pca_pred = dtree_pca.predict(X_pca_test)"
   ]
  },
  {
   "cell_type": "code",
   "execution_count": 63,
   "id": "892fa36a",
   "metadata": {},
   "outputs": [
    {
     "name": "stdout",
     "output_type": "stream",
     "text": [
      "              precision    recall  f1-score   support\n",
      "\n",
      "           0       0.18      0.21      0.20      1691\n",
      "           1       0.87      0.84      0.86     10245\n",
      "\n",
      "    accuracy                           0.75     11936\n",
      "   macro avg       0.53      0.53      0.53     11936\n",
      "weighted avg       0.77      0.75      0.76     11936\n",
      "\n"
     ]
    },
    {
     "data": {
      "text/plain": [
       "{'f1-score': 0.86, 'accuracy': 0.75}"
      ]
     },
     "execution_count": 63,
     "metadata": {},
     "output_type": "execute_result"
    }
   ],
   "source": [
    "print(classification_report(y_test, dtree_pca_pred, zero_division=1))\n",
    "\n",
    "dtree_pca_pr = evaluate(dtree_pca_pred, y_test)\n",
    "dtree_pca_pr"
   ]
  },
  {
   "cell_type": "code",
   "execution_count": 64,
   "id": "2706fbcc",
   "metadata": {},
   "outputs": [
    {
     "data": {
      "text/plain": [
       "(array([0, 1], dtype=int64), array([1964, 9972], dtype=int64))"
      ]
     },
     "execution_count": 64,
     "metadata": {},
     "output_type": "execute_result"
    }
   ],
   "source": [
    "dtree_pca_count = np.unique(dtree_pca_pred, return_counts=True)\n",
    "dtree_pca_count"
   ]
  },
  {
   "cell_type": "markdown",
   "id": "2881d049",
   "metadata": {},
   "source": [
    "### Random Forest"
   ]
  },
  {
   "cell_type": "code",
   "execution_count": 65,
   "id": "6ce500d2",
   "metadata": {},
   "outputs": [
    {
     "data": {
      "text/plain": [
       "RandomForestClassifier()"
      ]
     },
     "execution_count": 65,
     "metadata": {},
     "output_type": "execute_result"
    }
   ],
   "source": [
    "rf_pca = RandomForestClassifier()\n",
    "rf_pca.fit(X_pca_train, y_train)"
   ]
  },
  {
   "cell_type": "code",
   "execution_count": 66,
   "id": "aaf056e0",
   "metadata": {},
   "outputs": [],
   "source": [
    "rf_pca_pred = rf_pca.predict(X_pca_test)"
   ]
  },
  {
   "cell_type": "code",
   "execution_count": 67,
   "id": "447451c8",
   "metadata": {},
   "outputs": [
    {
     "name": "stdout",
     "output_type": "stream",
     "text": [
      "              precision    recall  f1-score   support\n",
      "\n",
      "           0       0.40      0.02      0.04      1691\n",
      "           1       0.86      0.99      0.92     10245\n",
      "\n",
      "    accuracy                           0.86     11936\n",
      "   macro avg       0.63      0.51      0.48     11936\n",
      "weighted avg       0.80      0.86      0.80     11936\n",
      "\n"
     ]
    },
    {
     "data": {
      "text/plain": [
       "{'f1-score': 0.92, 'accuracy': 0.86}"
      ]
     },
     "execution_count": 67,
     "metadata": {},
     "output_type": "execute_result"
    }
   ],
   "source": [
    "print(classification_report(y_test, rf_pca_pred, zero_division=1))\n",
    "\n",
    "rf_pca_pr = evaluate(rf_pca_pred, y_test)\n",
    "rf_pca_pr"
   ]
  },
  {
   "cell_type": "code",
   "execution_count": 68,
   "id": "639908e8",
   "metadata": {},
   "outputs": [
    {
     "data": {
      "text/plain": [
       "(array([0, 1], dtype=int64), array([   87, 11849], dtype=int64))"
      ]
     },
     "execution_count": 68,
     "metadata": {},
     "output_type": "execute_result"
    }
   ],
   "source": [
    "rf_pca_count = np.unique(rf_pca_pred, return_counts=True)\n",
    "rf_pca_count"
   ]
  },
  {
   "cell_type": "markdown",
   "id": "d468c56a",
   "metadata": {},
   "source": [
    "### Logistic Regression"
   ]
  },
  {
   "cell_type": "code",
   "execution_count": 69,
   "id": "fb219928",
   "metadata": {},
   "outputs": [
    {
     "data": {
      "text/plain": [
       "LogisticRegression()"
      ]
     },
     "execution_count": 69,
     "metadata": {},
     "output_type": "execute_result"
    }
   ],
   "source": [
    "lr_pca = LogisticRegression()\n",
    "lr_pca.fit(X_pca_train, y_train)"
   ]
  },
  {
   "cell_type": "code",
   "execution_count": 70,
   "id": "c37f5990",
   "metadata": {},
   "outputs": [],
   "source": [
    "lr_pca_pred = lr_pca.predict(X_pca_test)"
   ]
  },
  {
   "cell_type": "code",
   "execution_count": 71,
   "id": "00c75d91",
   "metadata": {},
   "outputs": [
    {
     "name": "stdout",
     "output_type": "stream",
     "text": [
      "              precision    recall  f1-score   support\n",
      "\n",
      "           0       0.48      0.01      0.02      1691\n",
      "           1       0.86      1.00      0.92     10245\n",
      "\n",
      "    accuracy                           0.86     11936\n",
      "   macro avg       0.67      0.50      0.47     11936\n",
      "weighted avg       0.81      0.86      0.80     11936\n",
      "\n"
     ]
    },
    {
     "data": {
      "text/plain": [
       "{'f1-score': 0.92, 'accuracy': 0.86}"
      ]
     },
     "execution_count": 71,
     "metadata": {},
     "output_type": "execute_result"
    }
   ],
   "source": [
    "print(classification_report(y_test, lr_pca_pred, zero_division=1))\n",
    "\n",
    "lr_pca_pr = evaluate(lr_pca_pred, y_test)\n",
    "lr_pca_pr"
   ]
  },
  {
   "cell_type": "code",
   "execution_count": 72,
   "id": "ea14febd",
   "metadata": {},
   "outputs": [
    {
     "data": {
      "text/plain": [
       "(array([0, 1], dtype=int64), array([   42, 11894], dtype=int64))"
      ]
     },
     "execution_count": 72,
     "metadata": {},
     "output_type": "execute_result"
    }
   ],
   "source": [
    "lr_pca_count = np.unique(lr_pca_pred, return_counts=True)\n",
    "lr_pca_count"
   ]
  },
  {
   "cell_type": "markdown",
   "id": "f492e3f2",
   "metadata": {},
   "source": [
    "### Naïve Bayes"
   ]
  },
  {
   "cell_type": "code",
   "execution_count": 73,
   "id": "b818f08e",
   "metadata": {},
   "outputs": [
    {
     "data": {
      "text/plain": [
       "GaussianNB()"
      ]
     },
     "execution_count": 73,
     "metadata": {},
     "output_type": "execute_result"
    }
   ],
   "source": [
    "from sklearn.naive_bayes import GaussianNB\n",
    "nb_pca = GaussianNB()\n",
    "nb_pca.fit(X_pca_train, y_train)"
   ]
  },
  {
   "cell_type": "code",
   "execution_count": 74,
   "id": "ff217019",
   "metadata": {},
   "outputs": [],
   "source": [
    "nb_pca_pred = nb_pca.predict(X_pca_test)"
   ]
  },
  {
   "cell_type": "code",
   "execution_count": 75,
   "id": "bffb4d08",
   "metadata": {},
   "outputs": [
    {
     "name": "stdout",
     "output_type": "stream",
     "text": [
      "              precision    recall  f1-score   support\n",
      "\n",
      "           0       0.19      0.23      0.21      1691\n",
      "           1       0.87      0.84      0.85     10245\n",
      "\n",
      "    accuracy                           0.75     11936\n",
      "   macro avg       0.53      0.53      0.53     11936\n",
      "weighted avg       0.77      0.75      0.76     11936\n",
      "\n"
     ]
    },
    {
     "data": {
      "text/plain": [
       "{'f1-score': 0.85, 'accuracy': 0.75}"
      ]
     },
     "execution_count": 75,
     "metadata": {},
     "output_type": "execute_result"
    }
   ],
   "source": [
    "print(classification_report(y_test, nb_pca_pred, zero_division=1))\n",
    "\n",
    "nb_pca_pr = evaluate(nb_pca_pred, y_test)\n",
    "nb_pca_pr"
   ]
  },
  {
   "cell_type": "code",
   "execution_count": 76,
   "id": "3c1894f5",
   "metadata": {},
   "outputs": [
    {
     "data": {
      "text/plain": [
       "(array([0, 1], dtype=int64), array([2077, 9859], dtype=int64))"
      ]
     },
     "execution_count": 76,
     "metadata": {},
     "output_type": "execute_result"
    }
   ],
   "source": [
    "nb_pca_count = np.unique(nb_pca_pred, return_counts=True)\n",
    "nb_pca_count"
   ]
  },
  {
   "cell_type": "markdown",
   "id": "8a1f1259",
   "metadata": {},
   "source": [
    "### K Nearest Neighbors(KNN)"
   ]
  },
  {
   "cell_type": "code",
   "execution_count": 77,
   "id": "d4726217",
   "metadata": {},
   "outputs": [
    {
     "data": {
      "text/plain": [
       "KNeighborsClassifier()"
      ]
     },
     "execution_count": 77,
     "metadata": {},
     "output_type": "execute_result"
    }
   ],
   "source": [
    "knn_pca = KNeighborsClassifier(n_neighbors=5)\n",
    "knn_pca.fit(X_pca_train, y_train)"
   ]
  },
  {
   "cell_type": "code",
   "execution_count": 78,
   "id": "526e590f",
   "metadata": {},
   "outputs": [],
   "source": [
    "knn_pca_pred = knn_pca.predict(X_pca_test)"
   ]
  },
  {
   "cell_type": "code",
   "execution_count": 79,
   "id": "79bb769b",
   "metadata": {},
   "outputs": [
    {
     "name": "stdout",
     "output_type": "stream",
     "text": [
      "              precision    recall  f1-score   support\n",
      "\n",
      "           0       0.21      0.06      0.09      1691\n",
      "           1       0.86      0.96      0.91     10245\n",
      "\n",
      "    accuracy                           0.84     11936\n",
      "   macro avg       0.54      0.51      0.50     11936\n",
      "weighted avg       0.77      0.84      0.79     11936\n",
      "\n"
     ]
    },
    {
     "data": {
      "text/plain": [
       "{'f1-score': 0.91, 'accuracy': 0.84}"
      ]
     },
     "execution_count": 79,
     "metadata": {},
     "output_type": "execute_result"
    }
   ],
   "source": [
    "print(classification_report(y_test, knn_pca_pred, zero_division=1))\n",
    "\n",
    "knn_pca_pr = evaluate(knn_pca_pred, y_test)\n",
    "knn_pca_pr"
   ]
  },
  {
   "cell_type": "code",
   "execution_count": 80,
   "id": "7232e48e",
   "metadata": {},
   "outputs": [
    {
     "data": {
      "text/plain": [
       "(array([0, 1], dtype=int64), array([  462, 11474], dtype=int64))"
      ]
     },
     "execution_count": 80,
     "metadata": {},
     "output_type": "execute_result"
    }
   ],
   "source": [
    "knn_pca_count = np.unique(knn_pca_pred, return_counts=True)\n",
    "knn_pca_count"
   ]
  },
  {
   "cell_type": "markdown",
   "id": "9c962834",
   "metadata": {},
   "source": [
    "### Multi Layer Perceptron Classifier (MLP)"
   ]
  },
  {
   "cell_type": "code",
   "execution_count": 81,
   "id": "174fd082",
   "metadata": {},
   "outputs": [
    {
     "name": "stderr",
     "output_type": "stream",
     "text": [
      "C:\\Users\\barte\\anaconda3\\lib\\site-packages\\sklearn\\neural_network\\_multilayer_perceptron.py:692: ConvergenceWarning: Stochastic Optimizer: Maximum iterations (200) reached and the optimization hasn't converged yet.\n",
      "  warnings.warn(\n"
     ]
    },
    {
     "data": {
      "text/plain": [
       "MLPClassifier(random_state=42)"
      ]
     },
     "execution_count": 81,
     "metadata": {},
     "output_type": "execute_result"
    }
   ],
   "source": [
    "mlp_pca = MLPClassifier(random_state=42)\n",
    "mlp_pca.fit(X_pca_train, y_train)"
   ]
  },
  {
   "cell_type": "code",
   "execution_count": 82,
   "id": "a25c87f5",
   "metadata": {},
   "outputs": [],
   "source": [
    "mlp_pca_pred = mlp_pca.predict(X_pca_test)"
   ]
  },
  {
   "cell_type": "code",
   "execution_count": 83,
   "id": "3e1755fe",
   "metadata": {},
   "outputs": [
    {
     "name": "stdout",
     "output_type": "stream",
     "text": [
      "              precision    recall  f1-score   support\n",
      "\n",
      "           0       0.24      0.18      0.21      1691\n",
      "           1       0.87      0.91      0.89     10245\n",
      "\n",
      "    accuracy                           0.80     11936\n",
      "   macro avg       0.56      0.54      0.55     11936\n",
      "weighted avg       0.78      0.80      0.79     11936\n",
      "\n"
     ]
    },
    {
     "data": {
      "text/plain": [
       "{'f1-score': 0.89, 'accuracy': 0.8}"
      ]
     },
     "execution_count": 83,
     "metadata": {},
     "output_type": "execute_result"
    }
   ],
   "source": [
    "print(classification_report(y_test, mlp_pca_pred, zero_division=1))\n",
    "\n",
    "mlp_pca_pr = evaluate(mlp_pca_pred, y_test)\n",
    "mlp_pca_pr"
   ]
  },
  {
   "cell_type": "code",
   "execution_count": 84,
   "id": "9632d9e7",
   "metadata": {},
   "outputs": [
    {
     "data": {
      "text/plain": [
       "(array([0, 1], dtype=int64), array([ 1280, 10656], dtype=int64))"
      ]
     },
     "execution_count": 84,
     "metadata": {},
     "output_type": "execute_result"
    }
   ],
   "source": [
    "mlp_pca_count = np.unique(mlp_pca_pred, return_counts=True)\n",
    "mlp_pca_count"
   ]
  },
  {
   "cell_type": "markdown",
   "id": "80562bc6",
   "metadata": {},
   "source": [
    "### XGBoost Classifier"
   ]
  },
  {
   "cell_type": "code",
   "execution_count": 85,
   "id": "1efb2a89",
   "metadata": {},
   "outputs": [
    {
     "data": {
      "text/plain": [
       "XGBClassifier(base_score=None, booster=None, callbacks=None,\n",
       "              colsample_bylevel=None, colsample_bynode=None,\n",
       "              colsample_bytree=None, early_stopping_rounds=None,\n",
       "              enable_categorical=False, eval_metric=None, feature_types=None,\n",
       "              gamma=None, gpu_id=None, grow_policy=None, importance_type=None,\n",
       "              interaction_constraints=None, learning_rate=None, max_bin=None,\n",
       "              max_cat_threshold=None, max_cat_to_onehot=None,\n",
       "              max_delta_step=None, max_depth=None, max_leaves=None,\n",
       "              min_child_weight=None, missing=nan, monotone_constraints=None,\n",
       "              n_estimators=100, n_jobs=None, num_parallel_tree=None,\n",
       "              predictor=None, random_state=42, ...)"
      ]
     },
     "execution_count": 85,
     "metadata": {},
     "output_type": "execute_result"
    }
   ],
   "source": [
    "xgb_pca = XGBClassifier(random_state=42)\n",
    "xgb_pca.fit(X_pca_train, y_train)"
   ]
  },
  {
   "cell_type": "code",
   "execution_count": 86,
   "id": "8bd12c52",
   "metadata": {},
   "outputs": [],
   "source": [
    "xgb_pca_pred = xgb_pca.predict(X_pca_test)"
   ]
  },
  {
   "cell_type": "code",
   "execution_count": 87,
   "id": "03582166",
   "metadata": {},
   "outputs": [
    {
     "name": "stdout",
     "output_type": "stream",
     "text": [
      "              precision    recall  f1-score   support\n",
      "\n",
      "           0       0.29      0.05      0.08      1691\n",
      "           1       0.86      0.98      0.92     10245\n",
      "\n",
      "    accuracy                           0.85     11936\n",
      "   macro avg       0.58      0.51      0.50     11936\n",
      "weighted avg       0.78      0.85      0.80     11936\n",
      "\n"
     ]
    },
    {
     "data": {
      "text/plain": [
       "{'f1-score': 0.92, 'accuracy': 0.85}"
      ]
     },
     "execution_count": 87,
     "metadata": {},
     "output_type": "execute_result"
    }
   ],
   "source": [
    "print(classification_report(y_test, xgb_pca_pred, zero_division=1))\n",
    "\n",
    "xgb_pca_pr = evaluate(xgb_pca_pred, y_test)\n",
    "xgb_pca_pr"
   ]
  },
  {
   "cell_type": "code",
   "execution_count": 88,
   "id": "564b5436",
   "metadata": {},
   "outputs": [
    {
     "data": {
      "text/plain": [
       "(array([0, 1]), array([  278, 11658], dtype=int64))"
      ]
     },
     "execution_count": 88,
     "metadata": {},
     "output_type": "execute_result"
    }
   ],
   "source": [
    "xgb_pca_count = np.unique(xgb_pca_pred, return_counts=True)\n",
    "xgb_pca_count"
   ]
  },
  {
   "cell_type": "code",
   "execution_count": 89,
   "id": "471f37e7",
   "metadata": {},
   "outputs": [
    {
     "data": {
      "text/html": [
       "<div>\n",
       "<style scoped>\n",
       "    .dataframe tbody tr th:only-of-type {\n",
       "        vertical-align: middle;\n",
       "    }\n",
       "\n",
       "    .dataframe tbody tr th {\n",
       "        vertical-align: top;\n",
       "    }\n",
       "\n",
       "    .dataframe thead th {\n",
       "        text-align: right;\n",
       "    }\n",
       "</style>\n",
       "<table border=\"1\" class=\"dataframe\">\n",
       "  <thead>\n",
       "    <tr style=\"text-align: right;\">\n",
       "      <th></th>\n",
       "      <th>Model</th>\n",
       "      <th>F1-score</th>\n",
       "      <th>Accuracy</th>\n",
       "      <th>F1-score after PCA</th>\n",
       "      <th>Accuracy after PCA</th>\n",
       "      <th>Balnce [0 : 1]</th>\n",
       "      <th>Balnce after PCA [0 : 1]</th>\n",
       "    </tr>\n",
       "  </thead>\n",
       "  <tbody>\n",
       "    <tr>\n",
       "      <th>0</th>\n",
       "      <td>Decision Tree</td>\n",
       "      <td>0.86</td>\n",
       "      <td>0.77</td>\n",
       "      <td>0.86</td>\n",
       "      <td>0.75</td>\n",
       "      <td>[1853, 10083]</td>\n",
       "      <td>[1964, 9972]</td>\n",
       "    </tr>\n",
       "    <tr>\n",
       "      <th>1</th>\n",
       "      <td>Random Forest</td>\n",
       "      <td>0.92</td>\n",
       "      <td>0.86</td>\n",
       "      <td>0.92</td>\n",
       "      <td>0.86</td>\n",
       "      <td>[22, 11914]</td>\n",
       "      <td>[87, 11849]</td>\n",
       "    </tr>\n",
       "    <tr>\n",
       "      <th>2</th>\n",
       "      <td>Logistic Regression</td>\n",
       "      <td>0.92</td>\n",
       "      <td>0.86</td>\n",
       "      <td>0.92</td>\n",
       "      <td>0.86</td>\n",
       "      <td>[54, 11882]</td>\n",
       "      <td>[42, 11894]</td>\n",
       "    </tr>\n",
       "    <tr>\n",
       "      <th>3</th>\n",
       "      <td>Naive Bayes</td>\n",
       "      <td>0.13</td>\n",
       "      <td>0.20</td>\n",
       "      <td>0.85</td>\n",
       "      <td>0.75</td>\n",
       "      <td>[11205, 731]</td>\n",
       "      <td>[2077, 9859]</td>\n",
       "    </tr>\n",
       "    <tr>\n",
       "      <th>4</th>\n",
       "      <td>KNN</td>\n",
       "      <td>0.91</td>\n",
       "      <td>0.84</td>\n",
       "      <td>0.91</td>\n",
       "      <td>0.84</td>\n",
       "      <td>[455, 11481]</td>\n",
       "      <td>[462, 11474]</td>\n",
       "    </tr>\n",
       "    <tr>\n",
       "      <th>5</th>\n",
       "      <td>MLP</td>\n",
       "      <td>0.88</td>\n",
       "      <td>0.78</td>\n",
       "      <td>0.89</td>\n",
       "      <td>0.80</td>\n",
       "      <td>[1557, 10379]</td>\n",
       "      <td>[1280, 10656]</td>\n",
       "    </tr>\n",
       "    <tr>\n",
       "      <th>6</th>\n",
       "      <td>XGB</td>\n",
       "      <td>0.92</td>\n",
       "      <td>0.85</td>\n",
       "      <td>0.92</td>\n",
       "      <td>0.85</td>\n",
       "      <td>[248, 11688]</td>\n",
       "      <td>[278, 11658]</td>\n",
       "    </tr>\n",
       "  </tbody>\n",
       "</table>\n",
       "</div>"
      ],
      "text/plain": [
       "                 Model  F1-score  Accuracy  F1-score after PCA  \\\n",
       "0        Decision Tree      0.86      0.77                0.86   \n",
       "1        Random Forest      0.92      0.86                0.92   \n",
       "2  Logistic Regression      0.92      0.86                0.92   \n",
       "3          Naive Bayes      0.13      0.20                0.85   \n",
       "4                  KNN      0.91      0.84                0.91   \n",
       "5                  MLP      0.88      0.78                0.89   \n",
       "6                  XGB      0.92      0.85                0.92   \n",
       "\n",
       "   Accuracy after PCA Balnce [0 : 1] Balnce after PCA [0 : 1]  \n",
       "0                0.75  [1853, 10083]             [1964, 9972]  \n",
       "1                0.86    [22, 11914]              [87, 11849]  \n",
       "2                0.86    [54, 11882]              [42, 11894]  \n",
       "3                0.75   [11205, 731]             [2077, 9859]  \n",
       "4                0.84   [455, 11481]             [462, 11474]  \n",
       "5                0.80  [1557, 10379]            [1280, 10656]  \n",
       "6                0.85   [248, 11688]             [278, 11658]  "
      ]
     },
     "execution_count": 89,
     "metadata": {},
     "output_type": "execute_result"
    }
   ],
   "source": [
    "pca_prediction_data={'Model': ['Decision Tree',\n",
    "                              'Random Forest',\n",
    "                              'Logistic Regression',\n",
    "                              'Naive Bayes',\n",
    "                              'KNN',\n",
    "                              'MLP',\n",
    "                              'XGB'\n",
    "                               ],\n",
    "                     \n",
    "                   'F1-score': [dtree_pr['f1-score'],\n",
    "                              rf_pr['f1-score'],\n",
    "                              lr_pr['f1-score'],\n",
    "                              nb_pr['f1-score'],\n",
    "                              knn_pr['f1-score'],\n",
    "                              mlp_pr['f1-score'],\n",
    "                              xgb_pr['f1-score']\n",
    "                               ],\n",
    "                 \n",
    "                   'Accuracy': [dtree_pr['accuracy'],\n",
    "                              rf_pr['accuracy'],\n",
    "                              lr_pr['accuracy'],\n",
    "                              nb_pr['accuracy'],\n",
    "                              knn_pr['accuracy'],\n",
    "                              mlp_pr['accuracy'],\n",
    "                              xgb_pr['accuracy']\n",
    "                               ],\n",
    "                     \n",
    "         'F1-score after PCA':[dtree_pca_pr['f1-score'],\n",
    "                              rf_pca_pr['f1-score'],\n",
    "                              lr_pca_pr['f1-score'],\n",
    "                              nb_pca_pr['f1-score'],\n",
    "                              knn_pca_pr['f1-score'],\n",
    "                              mlp_pca_pr['f1-score'],\n",
    "                              xgb_pca_pr['f1-score']\n",
    "                               ],\n",
    "                               \n",
    "         'Accuracy after PCA':[dtree_pca_pr['accuracy'],\n",
    "                              rf_pca_pr['accuracy'],\n",
    "                              lr_pca_pr['accuracy'],\n",
    "                              nb_pca_pr['accuracy'],\n",
    "                              knn_pca_pr['accuracy'],\n",
    "                              mlp_pca_pr['accuracy'],\n",
    "                              xgb_pca_pr['accuracy']\n",
    "                               ],\n",
    "                    \n",
    "                     'Balnce [0 : 1]': [dtree_count[1],\n",
    "                              rf_count[1],\n",
    "                              lr_count[1],\n",
    "                              nb_count[1],\n",
    "                              knn_count[1],\n",
    "                              mlp_count[1],\n",
    "                              xgb_count[1]\n",
    "                               ],\n",
    "                     \n",
    "            'Balnce after PCA [0 : 1]': [dtree_pca_count[1],\n",
    "                              rf_pca_count[1],\n",
    "                              lr_pca_count[1],\n",
    "                              nb_pca_count[1],\n",
    "                              knn_pca_count[1],\n",
    "                              mlp_pca_count[1],\n",
    "                              xgb_pca_count[1]\n",
    "                               ]\n",
    "                    }\n",
    " \n",
    "# Create DataFrame\n",
    "prediction_table_all = pd.DataFrame(pca_prediction_data)\n",
    "prediction_table_all"
   ]
  },
  {
   "cell_type": "markdown",
   "id": "9996e772",
   "metadata": {},
   "source": [
    "The results of the Naive Bayes algorithm significantly improved after applying PCA, and the proportion of predictions was also reversed. The MLP neural network model also improved its results, but only slightly. The results of the Random Forest, Logistic Regression, and XGB models remained unchanged and again indicated a poor proportion of responses 0 to responses 1. The KNN model has the same results after PCA as MLP and is slightly worse than before PCA, but has much weaker proportions between predictions. The Decision Tree algorithm has slightly worse results after PCA than before and a good proportion between predicted answers."
   ]
  },
  {
   "cell_type": "code",
   "execution_count": 90,
   "id": "9df4a518",
   "metadata": {},
   "outputs": [],
   "source": [
    "exit(0)"
   ]
  },
  {
   "cell_type": "markdown",
   "id": "6d665814",
   "metadata": {},
   "source": [
    "## Choosing one model and fitting the parameters"
   ]
  },
  {
   "cell_type": "markdown",
   "id": "83dbcfb0",
   "metadata": {},
   "source": [
    "The Random Forest, Logistic Regression and the Support Vector Machine (SVM) seemed to be the best models with the highest F1-score and accuracy. The use of PCA on these models did not improve the results. All of these 3 models predicted that borrowers would always or almost always repay their loans (almost all predictions in y_pred were 1). Therefore, there was a choice between models: Decision Tree, Naive Bayes (before PCA) and K-NearestNeighbors(KNN). The K Nearest Neighbor (KNN) model was chosen as the final one for slightly better results - accuracy 0.78 and f1-score 0.88."
   ]
  },
  {
   "cell_type": "code",
   "execution_count": 91,
   "id": "339b619f",
   "metadata": {},
   "outputs": [
    {
     "name": "stdout",
     "output_type": "stream",
     "text": [
      "(27850, 129)\n",
      "(11936, 129)\n"
     ]
    },
    {
     "ename": "NameError",
     "evalue": "name 'y_scaled_train' is not defined",
     "output_type": "error",
     "traceback": [
      "\u001b[1;31m---------------------------------------------------------------------------\u001b[0m",
      "\u001b[1;31mNameError\u001b[0m                                 Traceback (most recent call last)",
      "\u001b[1;32m~\\AppData\\Local\\Temp\\ipykernel_18768\\352933399.py\u001b[0m in \u001b[0;36m<module>\u001b[1;34m\u001b[0m\n\u001b[0;32m      3\u001b[0m \u001b[0mprint\u001b[0m\u001b[1;33m(\u001b[0m\u001b[0mX_scaled_train\u001b[0m\u001b[1;33m.\u001b[0m\u001b[0mshape\u001b[0m\u001b[1;33m)\u001b[0m\u001b[1;33m\u001b[0m\u001b[1;33m\u001b[0m\u001b[0m\n\u001b[0;32m      4\u001b[0m \u001b[0mprint\u001b[0m\u001b[1;33m(\u001b[0m\u001b[0mX_scaled_test\u001b[0m\u001b[1;33m.\u001b[0m\u001b[0mshape\u001b[0m\u001b[1;33m)\u001b[0m\u001b[1;33m\u001b[0m\u001b[1;33m\u001b[0m\u001b[0m\n\u001b[1;32m----> 5\u001b[1;33m \u001b[0mprint\u001b[0m\u001b[1;33m(\u001b[0m\u001b[0my_scaled_train\u001b[0m\u001b[1;33m.\u001b[0m\u001b[0mshape\u001b[0m\u001b[1;33m)\u001b[0m\u001b[1;33m\u001b[0m\u001b[1;33m\u001b[0m\u001b[0m\n\u001b[0m\u001b[0;32m      6\u001b[0m \u001b[0mprint\u001b[0m\u001b[1;33m(\u001b[0m\u001b[0my_scaled_test\u001b[0m\u001b[1;33m.\u001b[0m\u001b[0mshape\u001b[0m\u001b[1;33m)\u001b[0m\u001b[1;33m\u001b[0m\u001b[1;33m\u001b[0m\u001b[0m\n",
      "\u001b[1;31mNameError\u001b[0m: name 'y_scaled_train' is not defined"
     ]
    }
   ],
   "source": [
    "# Using standardized data from the previous KNN model (before PCA) and checking the shape\n",
    "\n",
    "print(X_scaled_train.shape)\n",
    "print(X_scaled_test.shape)\n",
    "print(y_scaled_train.shape)\n",
    "print(y_scaled_test.shape)"
   ]
  },
  {
   "cell_type": "code",
   "execution_count": null,
   "id": "e1cbd8e7",
   "metadata": {},
   "outputs": [],
   "source": [
    "# Searching for the best number of neighbors \n",
    "\n",
    "from sklearn.model_selection import cross_val_score\n",
    "\n",
    "k_values = [i for i in range (1,6)]\n",
    "scores = []\n",
    "\n",
    "X_scaled_train = scaler.fit_transform(X_scaled_train)\n",
    "\n",
    "for k in k_values:\n",
    "    knn_k = KNeighborsClassifier(n_neighbors=k)\n",
    "    score = cross_val_score(knn_k, X_scaled_train, y_scaled_train, cv=5)\n",
    "    scores.append(np.mean(score))\n",
    "    \n",
    "sns.lineplot(x = k_values, y = scores, marker = 'o')\n",
    "plt.xticks([1, 2, 3, 4, 5])\n",
    "plt.xlabel(\"K Values\")\n",
    "plt.ylabel(\"Accuracy Score\")\n"
   ]
  },
  {
   "cell_type": "code",
   "execution_count": null,
   "id": "6028a040",
   "metadata": {},
   "outputs": [],
   "source": [
    "acc_scores = pd.DataFrame({'n_neighbors': [1, 2, 3, 4, 5],\n",
    "                           \n",
    "                          'Accuracy': [scores[0],\n",
    "                                       scores[1],\n",
    "                                       scores[2],\n",
    "                                       scores[3],\n",
    "                                       scores[4],\n",
    "                                                                             \n",
    "                                      ]})\n",
    "\n",
    "acc_scores.style.hide_index()"
   ]
  },
  {
   "cell_type": "code",
   "execution_count": null,
   "id": "4680faa4",
   "metadata": {},
   "outputs": [],
   "source": [
    "# Gread Search Cross Validation for the best hyperparameters\n",
    "\n",
    "from sklearn.model_selection import GridSearchCV\n",
    "grid_params = { 'n_neighbors' : [1, 2, 3, 4, 5],\n",
    "               'weights' : ['uniform', 'distance'],\n",
    "               'metric' : ['minkowski','euclidean','manhattan']}\n",
    "\n",
    "gs = GridSearchCV(KNeighborsClassifier(), grid_params, cv=3, n_jobs = -1)"
   ]
  },
  {
   "cell_type": "code",
   "execution_count": null,
   "id": "8978949d",
   "metadata": {},
   "outputs": [],
   "source": [
    "# Fitting the model on the train set\n",
    "\n",
    "g_res = gs.fit(X_scaled_train, y_scaled_train)"
   ]
  },
  {
   "cell_type": "code",
   "execution_count": null,
   "id": "7eb693e0",
   "metadata": {},
   "outputs": [],
   "source": [
    "# Finding the best score\n",
    "\n",
    "g_res.best_score_"
   ]
  },
  {
   "cell_type": "code",
   "execution_count": null,
   "id": "f0e022e4",
   "metadata": {},
   "outputs": [],
   "source": [
    "g_res.best_params_"
   ]
  },
  {
   "cell_type": "code",
   "execution_count": null,
   "id": "c1605fad",
   "metadata": {},
   "outputs": [],
   "source": [
    "# Checking the data balance and confusion matrix\n",
    "\n",
    "knn_5 = KNeighborsClassifier(n_neighbors=5, metric='manhattan')\n",
    "knn_5.fit(X_scaled_train, y_scaled_train)"
   ]
  },
  {
   "cell_type": "code",
   "execution_count": null,
   "id": "bc01dd5a",
   "metadata": {},
   "outputs": [],
   "source": [
    "y_pred5 = knn_5.predict(X_scaled_test)\n",
    "count_y_pred5 = np.unique(y_pred5, return_counts=True)\n",
    "count_y_pred5"
   ]
  },
  {
   "cell_type": "code",
   "execution_count": null,
   "id": "03fee5bf",
   "metadata": {},
   "outputs": [],
   "source": [
    "matrix_k5 = confusion_matrix(y_scaled_test, y_pred5)\n",
    "matrix_k5"
   ]
  },
  {
   "cell_type": "markdown",
   "id": "90cf3126",
   "metadata": {},
   "source": [
    "The high accuracy of this model is due to the very large number of true positive predictions. It is likely that the model will show positive loan capacity in most applications, which will be unfavorable for the loan company."
   ]
  },
  {
   "cell_type": "code",
   "execution_count": null,
   "id": "d0a66c50",
   "metadata": {},
   "outputs": [],
   "source": [
    "knn_4 = KNeighborsClassifier(n_neighbors=4, metric='manhattan')\n",
    "knn_4.fit(X_scaled_train, y_scaled_train)"
   ]
  },
  {
   "cell_type": "code",
   "execution_count": null,
   "id": "ff4f9dd2",
   "metadata": {},
   "outputs": [],
   "source": [
    "y_pred4 = knn_4.predict(X_scaled_test)\n",
    "count_y_pred4 = np.unique(y_pred4, return_counts=True)\n",
    "count_y_pred4"
   ]
  },
  {
   "cell_type": "code",
   "execution_count": null,
   "id": "27e40a6e",
   "metadata": {},
   "outputs": [],
   "source": [
    "matrix_k4 = confusion_matrix(y_scaled_test, y_pred4)\n",
    "matrix_k4"
   ]
  },
  {
   "cell_type": "code",
   "execution_count": null,
   "id": "ceb94312",
   "metadata": {},
   "outputs": [],
   "source": [
    "knn_3 = KNeighborsClassifier(n_neighbors=3, metric='manhattan')\n",
    "knn_3.fit(X_scaled_train, y_scaled_train)"
   ]
  },
  {
   "cell_type": "code",
   "execution_count": null,
   "id": "ff4f1f5a",
   "metadata": {},
   "outputs": [],
   "source": [
    "y_pred3 = knn_3.predict(X_scaled_test)\n",
    "count_y_pred3 = np.unique(y_pred3, return_counts=True)\n",
    "count_y_pred3"
   ]
  },
  {
   "cell_type": "code",
   "execution_count": null,
   "id": "e16bdb52",
   "metadata": {},
   "outputs": [],
   "source": [
    "matrix_k3 = confusion_matrix(y_scaled_test, y_pred3)\n",
    "matrix_k3"
   ]
  },
  {
   "cell_type": "markdown",
   "id": "0430fc9b",
   "metadata": {},
   "source": [
    "For the model with 4 and 3 neighbors, the situation is similar to the model with 5 neighbors."
   ]
  },
  {
   "cell_type": "code",
   "execution_count": null,
   "id": "0a78fe42",
   "metadata": {},
   "outputs": [],
   "source": [
    "knn_2 = KNeighborsClassifier(n_neighbors=2, metric='manhattan')\n",
    "knn_2.fit(X_scaled_train, y_scaled_train)"
   ]
  },
  {
   "cell_type": "code",
   "execution_count": null,
   "id": "6b66c7aa",
   "metadata": {},
   "outputs": [],
   "source": [
    "y_pred2 = knn_2.predict(X_scaled_test)\n",
    "count_y_pred2 = np.unique(y_pred2, return_counts=True)\n",
    "count_y_pred2"
   ]
  },
  {
   "cell_type": "code",
   "execution_count": null,
   "id": "bf72e014",
   "metadata": {},
   "outputs": [],
   "source": [
    "matrix_k2 = confusion_matrix(y_scaled_test, y_pred2)\n",
    "matrix_k2"
   ]
  },
  {
   "cell_type": "code",
   "execution_count": null,
   "id": "03f03c92",
   "metadata": {},
   "outputs": [],
   "source": [
    "knn_1 = KNeighborsClassifier(n_neighbors=1, metric='manhattan')\n",
    "knn_1 = knn_1.fit(X_scaled_train, y_scaled_train)"
   ]
  },
  {
   "cell_type": "code",
   "execution_count": null,
   "id": "2b31d5b5",
   "metadata": {},
   "outputs": [],
   "source": [
    "y_pred1 = knn_1.predict(X_scaled_test)\n",
    "count_y_pred1 = np.unique(y_pred1, return_counts=True)\n",
    "count_y_pred1"
   ]
  },
  {
   "cell_type": "code",
   "execution_count": null,
   "id": "b7514c72",
   "metadata": {},
   "outputs": [],
   "source": [
    "matrix_k1 = confusion_matrix(y_scaled_test, y_pred1)\n",
    "matrix_k1"
   ]
  },
  {
   "cell_type": "code",
   "execution_count": null,
   "id": "7df57a82",
   "metadata": {},
   "outputs": [],
   "source": [
    "print(classification_report(y_scaled_test, y_pred1, zero_division=1))\n",
    "\n",
    "knn_1_pr = evaluate(y_pred1, y_scaled_test)\n",
    "knn_1_pr"
   ]
  },
  {
   "cell_type": "markdown",
   "id": "b0b8c46c",
   "metadata": {},
   "source": [
    "For n_neighbors = 2 are more true negative (TN) answers and fewer true positive (TP) answers than for n_neighbors = 1. For n_neighbors = 2 the accuracy and f1_score were 0.72 and 0.83 and for n_neighbors = 1 the scores were 0.79 and 0.88 respectively. The KNN model with 1 neighbor was chosen as the final one after hyperparameters tuning."
   ]
  },
  {
   "cell_type": "code",
   "execution_count": null,
   "id": "b8c77186",
   "metadata": {},
   "outputs": [],
   "source": [
    "y_proba = knn.predict_proba(X_scaled_test)[:, 1]\n",
    "y_proba"
   ]
  },
  {
   "cell_type": "code",
   "execution_count": null,
   "id": "c7c80402",
   "metadata": {},
   "outputs": [],
   "source": [
    "# Ploting the roc_curve and calculating the roc_auc_score\n",
    "\n",
    "from sklearn.metrics import roc_curve\n",
    "from sklearn.metrics import roc_auc_score\n",
    "\n",
    "rp_auc = roc_auc_score(y_scaled_test, y_pred1)\n",
    "rf_auc = roc_auc_score(y_scaled_test, y_proba)\n",
    "\n",
    "# Summarizing scores\n",
    "print('Random prediction: ROC AUC=%.3f' % (rp_auc))\n",
    "print('KNN model: ROC AUC=%.3f' % (rf_auc))\n",
    "\n",
    "# Calculating roc curves\n",
    "rp_fpr, rp_tpr, _ = roc_curve(y_scaled_test, y_pred1)\n",
    "rf_fpr, rf_tpr, _ = roc_curve(y_scaled_test, y_proba)\n",
    "\n",
    "# Ploting the roc curve for the model\n",
    "plt.figure(figsize=(12,8))\n",
    "plt.plot(rp_fpr, rp_tpr, linestyle='--', label='Random prediction')\n",
    "plt.plot(rf_fpr, rf_tpr, marker='.', label='KNN model')\n",
    "plt.xlabel('False Positive Rate')\n",
    "plt.ylabel('True Positive Rate')\n",
    "plt.legend()\n",
    "plt.show()"
   ]
  },
  {
   "cell_type": "markdown",
   "id": "1e7afb37",
   "metadata": {},
   "source": [
    "## Prediction using the K Nearest Neighbors (KNN)"
   ]
  },
  {
   "cell_type": "code",
   "execution_count": null,
   "id": "3c4cff62",
   "metadata": {},
   "outputs": [],
   "source": [
    "# Prediction of first 20 values\n",
    "\n",
    "print('Predicted values:', y_pred1[0:20])\n",
    "print('Real values: \\n', y_scaled_test[:20]) "
   ]
  },
  {
   "cell_type": "code",
   "execution_count": null,
   "id": "b204b13e",
   "metadata": {},
   "outputs": [],
   "source": [
    "print('Well-predicted values in testing:', (y_scaled_test == y_pred1).sum())\n",
    "print('All values in testing part:', y_scaled_test.shape[0])\n",
    "print()\n",
    "print('Accuracy = Well-predicted values in testing part/ All values in testing part:', ((y_scaled_test == y_pred1).sum() / y_scaled_test.shape[0]).round(4))\n",
    "print()\n",
    "print('Accuracy with sklearn:', knn_1.score(X_scaled_test, y_scaled_test).round(4))"
   ]
  },
  {
   "cell_type": "markdown",
   "id": "e9d6bb98",
   "metadata": {},
   "source": [
    "## Trying out the model on selected data"
   ]
  },
  {
   "cell_type": "code",
   "execution_count": null,
   "id": "ae7dbd09",
   "metadata": {},
   "outputs": [],
   "source": [
    "# Correlation between loan_status and other features\n",
    "\n",
    "df[df.columns[0:]].corr()['loan_status'][:].sort_values(key=abs, ascending=False)"
   ]
  },
  {
   "cell_type": "code",
   "execution_count": null,
   "id": "74cff9b3",
   "metadata": {},
   "outputs": [],
   "source": [
    "# Selection of variables to test the model (based not on the correlation with loan_status)\n",
    "\n",
    "new_X = df[['int_rate', 'sub_grade', 'term', 'fico_score', 'loan_amnt']].values\n",
    "new_y = y"
   ]
  },
  {
   "cell_type": "code",
   "execution_count": null,
   "id": "fd4124e9",
   "metadata": {},
   "outputs": [],
   "source": [
    "knn_1.fit(new_X, new_y)"
   ]
  },
  {
   "cell_type": "code",
   "execution_count": null,
   "id": "ed38af52",
   "metadata": {},
   "outputs": [],
   "source": [
    "y_pred_new = knn_1.predict(new_X)"
   ]
  },
  {
   "cell_type": "code",
   "execution_count": null,
   "id": "f5f30fea",
   "metadata": {},
   "outputs": [],
   "source": [
    "print(new_y[:20].values)\n",
    "print(y_pred_new[:20])"
   ]
  },
  {
   "cell_type": "code",
   "execution_count": null,
   "id": "31ffdb22",
   "metadata": {},
   "outputs": [],
   "source": [
    "knn_new_count = np.unique(y_pred_new, return_counts=True)\n",
    "knn_new_count"
   ]
  },
  {
   "cell_type": "code",
   "execution_count": null,
   "id": "61f0ba8a",
   "metadata": {},
   "outputs": [],
   "source": [
    "matrix_new = confusion_matrix(new_y, y_pred_new)\n",
    "matrix_new"
   ]
  },
  {
   "cell_type": "code",
   "execution_count": null,
   "id": "76afbc64",
   "metadata": {},
   "outputs": [],
   "source": [
    "print(classification_report(new_y, y_pred_new, zero_division=1))\n",
    "\n",
    "knn_new_pr = evaluate(y_pred_new, new_y)\n",
    "knn_new_pr"
   ]
  },
  {
   "cell_type": "code",
   "execution_count": null,
   "id": "1050ddce",
   "metadata": {},
   "outputs": [],
   "source": [
    "# Enter the appropriate values to predict the probability that the loan will be repaid:\n",
    "\n",
    "int_rate = float(input('Interest Rate on the loan: (5 - 25): '))\n",
    "sub_grade = int(input('LC assigned loan subgrade (1 - 7 / 1: best): '))\n",
    "term = int(input('The number of payments on the loan (36 or 60 months): '))\n",
    "fico_score = int(input('FICO score (500 - 850): '))\n",
    "loan_amnt = float(input('The listed amount of the loan applied for by the borrower (500 - 35000): '))"
   ]
  },
  {
   "cell_type": "code",
   "execution_count": null,
   "id": "c745b3d7",
   "metadata": {},
   "outputs": [],
   "source": [
    "# Predicting whether the customer will pay off the loan (0 - No or 1 - Yes)\n",
    "\n",
    "print(knn_1.predict([[int_rate, sub_grade, term, fico_score, loan_amnt]]))"
   ]
  },
  {
   "cell_type": "markdown",
   "id": "35afd1ff",
   "metadata": {},
   "source": [
    "# Conclusion"
   ]
  },
  {
   "cell_type": "markdown",
   "id": "0d1bb651",
   "metadata": {},
   "source": [
    "The project, which concerns predicting whether Lending Club clients will pay off their loans, has been divided into 4 parts: Data Processing, Exploratory Data Analysis, Feature Engineering, and Modeling. After a thorough cleaning of the data and the introduction of new ones, machine learning models were implemented. Six of them were tested: Decision Tree, Logistic Regression, Random Forest, Naive Bayes, Support Vector Machine (SVM), and K-Nearest Neighbors (KNN). The three models gave similar accuracy and f1-score results (Random Forest, Logistic Regression and Support Vector Machine). Based on the prepared data, the these 3 models predicted that the vast majority of the potential borrowers would repay their loan. Such a solution would be useless for the lending company. The three other models showed similar results. Finally, the K Nearest Neighbors model (the best model) was used to predict whether borrowers would be able to repay their loans. The dependent variables correlated with the target (loan_status) were selected and the K Nearest Neighbors model was built only with them. By manually entering the selected 5 variables mentioned above, the model predicts whether the new borrower will be able to repay the loan or not."
   ]
  }
 ],
 "metadata": {
  "kernelspec": {
   "display_name": "Python 3 (ipykernel)",
   "language": "python",
   "name": "python3"
  },
  "language_info": {
   "codemirror_mode": {
    "name": "ipython",
    "version": 3
   },
   "file_extension": ".py",
   "mimetype": "text/x-python",
   "name": "python",
   "nbconvert_exporter": "python",
   "pygments_lexer": "ipython3",
   "version": "3.9.13"
  }
 },
 "nbformat": 4,
 "nbformat_minor": 5
}
