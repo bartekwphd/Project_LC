{
 "cells": [
  {
   "cell_type": "markdown",
   "id": "d7f794f6",
   "metadata": {},
   "source": [
    "# Part 1 - Data Processing"
   ]
  },
  {
   "cell_type": "code",
   "execution_count": 1,
   "id": "eea57873",
   "metadata": {},
   "outputs": [],
   "source": [
    "# Load packages\n",
    "\n",
    "import pandas as pd\n",
    "import matplotlib.pyplot as plt"
   ]
  },
  {
   "cell_type": "code",
   "execution_count": 2,
   "id": "307d86ac",
   "metadata": {},
   "outputs": [
    {
     "name": "stdout",
     "output_type": "stream",
     "text": [
      "Python: 3.9.13 (main, Aug 25 2022, 23:51:50) [MSC v.1916 64 bit (AMD64)]\n",
      "pandas: 1.4.4\n",
      "matplotlib: 3.5.2\n"
     ]
    }
   ],
   "source": [
    "# Check the versions of libraries\n",
    "\n",
    "# Python version\n",
    "import sys\n",
    "print('Python: {}'.format(sys.version))\n",
    "# Pandas\n",
    "import pandas\n",
    "print('pandas: {}'.format(pandas.__version__))\n",
    "# Matplotlib\n",
    "import matplotlib\n",
    "print('matplotlib: {}'.format(matplotlib.__version__))"
   ]
  },
  {
   "cell_type": "code",
   "execution_count": 3,
   "id": "243d7bf9",
   "metadata": {},
   "outputs": [],
   "source": [
    "# Turning off the \"SettingWithCopyWarning\"\n",
    "\n",
    "pd.set_option('chained_assignment',None)"
   ]
  },
  {
   "cell_type": "code",
   "execution_count": 4,
   "id": "18d78f3b",
   "metadata": {},
   "outputs": [],
   "source": [
    "# Load dataset\n",
    "\n",
    "dataset = pd.read_csv(\"Loan_data.csv\", delimiter=\",\", low_memory=False)"
   ]
  },
  {
   "cell_type": "code",
   "execution_count": 5,
   "id": "472b9051",
   "metadata": {},
   "outputs": [
    {
     "name": "stdout",
     "output_type": "stream",
     "text": [
      "(42536, 151)\n"
     ]
    }
   ],
   "source": [
    "# Check the shape of dataset\n",
    "\n",
    "print(dataset.shape)"
   ]
  },
  {
   "cell_type": "code",
   "execution_count": 6,
   "id": "059cf478",
   "metadata": {},
   "outputs": [
    {
     "name": "stdout",
     "output_type": "stream",
     "text": [
      "<class 'pandas.core.frame.DataFrame'>\n",
      "RangeIndex: 42536 entries, 0 to 42535\n",
      "Columns: 151 entries, id to settlement_term\n",
      "dtypes: float64(120), object(31)\n",
      "memory usage: 49.0+ MB\n"
     ]
    }
   ],
   "source": [
    "# Check basic dataset info\n",
    "\n",
    "dataset.info()"
   ]
  },
  {
   "cell_type": "code",
   "execution_count": 7,
   "id": "163e0606",
   "metadata": {},
   "outputs": [
    {
     "data": {
      "text/html": [
       "<div>\n",
       "<style scoped>\n",
       "    .dataframe tbody tr th:only-of-type {\n",
       "        vertical-align: middle;\n",
       "    }\n",
       "\n",
       "    .dataframe tbody tr th {\n",
       "        vertical-align: top;\n",
       "    }\n",
       "\n",
       "    .dataframe thead th {\n",
       "        text-align: right;\n",
       "    }\n",
       "</style>\n",
       "<table border=\"1\" class=\"dataframe\">\n",
       "  <thead>\n",
       "    <tr style=\"text-align: right;\">\n",
       "      <th></th>\n",
       "      <th>id</th>\n",
       "      <th>member_id</th>\n",
       "      <th>loan_amnt</th>\n",
       "      <th>funded_amnt</th>\n",
       "      <th>funded_amnt_inv</th>\n",
       "      <th>term</th>\n",
       "      <th>int_rate</th>\n",
       "      <th>installment</th>\n",
       "      <th>grade</th>\n",
       "      <th>sub_grade</th>\n",
       "      <th>...</th>\n",
       "      <th>hardship_payoff_balance_amount</th>\n",
       "      <th>hardship_last_payment_amount</th>\n",
       "      <th>disbursement_method</th>\n",
       "      <th>debt_settlement_flag</th>\n",
       "      <th>debt_settlement_flag_date</th>\n",
       "      <th>settlement_status</th>\n",
       "      <th>settlement_date</th>\n",
       "      <th>settlement_amount</th>\n",
       "      <th>settlement_percentage</th>\n",
       "      <th>settlement_term</th>\n",
       "    </tr>\n",
       "  </thead>\n",
       "  <tbody>\n",
       "    <tr>\n",
       "      <th>0</th>\n",
       "      <td>1077501</td>\n",
       "      <td>NaN</td>\n",
       "      <td>5000.0</td>\n",
       "      <td>5000.0</td>\n",
       "      <td>4975.0</td>\n",
       "      <td>36 months</td>\n",
       "      <td>10.65%</td>\n",
       "      <td>162.87</td>\n",
       "      <td>B</td>\n",
       "      <td>B2</td>\n",
       "      <td>...</td>\n",
       "      <td>NaN</td>\n",
       "      <td>NaN</td>\n",
       "      <td>Cash</td>\n",
       "      <td>N</td>\n",
       "      <td>NaN</td>\n",
       "      <td>NaN</td>\n",
       "      <td>NaN</td>\n",
       "      <td>NaN</td>\n",
       "      <td>NaN</td>\n",
       "      <td>NaN</td>\n",
       "    </tr>\n",
       "    <tr>\n",
       "      <th>1</th>\n",
       "      <td>1077430</td>\n",
       "      <td>NaN</td>\n",
       "      <td>2500.0</td>\n",
       "      <td>2500.0</td>\n",
       "      <td>2500.0</td>\n",
       "      <td>60 months</td>\n",
       "      <td>15.27%</td>\n",
       "      <td>59.83</td>\n",
       "      <td>C</td>\n",
       "      <td>C4</td>\n",
       "      <td>...</td>\n",
       "      <td>NaN</td>\n",
       "      <td>NaN</td>\n",
       "      <td>Cash</td>\n",
       "      <td>N</td>\n",
       "      <td>NaN</td>\n",
       "      <td>NaN</td>\n",
       "      <td>NaN</td>\n",
       "      <td>NaN</td>\n",
       "      <td>NaN</td>\n",
       "      <td>NaN</td>\n",
       "    </tr>\n",
       "    <tr>\n",
       "      <th>2</th>\n",
       "      <td>1077175</td>\n",
       "      <td>NaN</td>\n",
       "      <td>2400.0</td>\n",
       "      <td>2400.0</td>\n",
       "      <td>2400.0</td>\n",
       "      <td>36 months</td>\n",
       "      <td>15.96%</td>\n",
       "      <td>84.33</td>\n",
       "      <td>C</td>\n",
       "      <td>C5</td>\n",
       "      <td>...</td>\n",
       "      <td>NaN</td>\n",
       "      <td>NaN</td>\n",
       "      <td>Cash</td>\n",
       "      <td>N</td>\n",
       "      <td>NaN</td>\n",
       "      <td>NaN</td>\n",
       "      <td>NaN</td>\n",
       "      <td>NaN</td>\n",
       "      <td>NaN</td>\n",
       "      <td>NaN</td>\n",
       "    </tr>\n",
       "    <tr>\n",
       "      <th>3</th>\n",
       "      <td>1076863</td>\n",
       "      <td>NaN</td>\n",
       "      <td>10000.0</td>\n",
       "      <td>10000.0</td>\n",
       "      <td>10000.0</td>\n",
       "      <td>36 months</td>\n",
       "      <td>13.49%</td>\n",
       "      <td>339.31</td>\n",
       "      <td>C</td>\n",
       "      <td>C1</td>\n",
       "      <td>...</td>\n",
       "      <td>NaN</td>\n",
       "      <td>NaN</td>\n",
       "      <td>Cash</td>\n",
       "      <td>N</td>\n",
       "      <td>NaN</td>\n",
       "      <td>NaN</td>\n",
       "      <td>NaN</td>\n",
       "      <td>NaN</td>\n",
       "      <td>NaN</td>\n",
       "      <td>NaN</td>\n",
       "    </tr>\n",
       "    <tr>\n",
       "      <th>4</th>\n",
       "      <td>1075358</td>\n",
       "      <td>NaN</td>\n",
       "      <td>3000.0</td>\n",
       "      <td>3000.0</td>\n",
       "      <td>3000.0</td>\n",
       "      <td>60 months</td>\n",
       "      <td>12.69%</td>\n",
       "      <td>67.79</td>\n",
       "      <td>B</td>\n",
       "      <td>B5</td>\n",
       "      <td>...</td>\n",
       "      <td>NaN</td>\n",
       "      <td>NaN</td>\n",
       "      <td>Cash</td>\n",
       "      <td>N</td>\n",
       "      <td>NaN</td>\n",
       "      <td>NaN</td>\n",
       "      <td>NaN</td>\n",
       "      <td>NaN</td>\n",
       "      <td>NaN</td>\n",
       "      <td>NaN</td>\n",
       "    </tr>\n",
       "  </tbody>\n",
       "</table>\n",
       "<p>5 rows × 151 columns</p>\n",
       "</div>"
      ],
      "text/plain": [
       "        id  member_id  loan_amnt  funded_amnt  funded_amnt_inv        term  \\\n",
       "0  1077501        NaN     5000.0       5000.0           4975.0   36 months   \n",
       "1  1077430        NaN     2500.0       2500.0           2500.0   60 months   \n",
       "2  1077175        NaN     2400.0       2400.0           2400.0   36 months   \n",
       "3  1076863        NaN    10000.0      10000.0          10000.0   36 months   \n",
       "4  1075358        NaN     3000.0       3000.0           3000.0   60 months   \n",
       "\n",
       "  int_rate  installment grade sub_grade  ... hardship_payoff_balance_amount  \\\n",
       "0   10.65%       162.87     B        B2  ...                            NaN   \n",
       "1   15.27%        59.83     C        C4  ...                            NaN   \n",
       "2   15.96%        84.33     C        C5  ...                            NaN   \n",
       "3   13.49%       339.31     C        C1  ...                            NaN   \n",
       "4   12.69%        67.79     B        B5  ...                            NaN   \n",
       "\n",
       "  hardship_last_payment_amount disbursement_method  debt_settlement_flag  \\\n",
       "0                          NaN                Cash                     N   \n",
       "1                          NaN                Cash                     N   \n",
       "2                          NaN                Cash                     N   \n",
       "3                          NaN                Cash                     N   \n",
       "4                          NaN                Cash                     N   \n",
       "\n",
       "  debt_settlement_flag_date settlement_status settlement_date  \\\n",
       "0                       NaN               NaN             NaN   \n",
       "1                       NaN               NaN             NaN   \n",
       "2                       NaN               NaN             NaN   \n",
       "3                       NaN               NaN             NaN   \n",
       "4                       NaN               NaN             NaN   \n",
       "\n",
       "  settlement_amount settlement_percentage settlement_term  \n",
       "0               NaN                   NaN             NaN  \n",
       "1               NaN                   NaN             NaN  \n",
       "2               NaN                   NaN             NaN  \n",
       "3               NaN                   NaN             NaN  \n",
       "4               NaN                   NaN             NaN  \n",
       "\n",
       "[5 rows x 151 columns]"
      ]
     },
     "execution_count": 7,
     "metadata": {},
     "output_type": "execute_result"
    }
   ],
   "source": [
    "# Head\n",
    "\n",
    "dataset.head(5)"
   ]
  },
  {
   "cell_type": "code",
   "execution_count": 8,
   "id": "14e35f64",
   "metadata": {},
   "outputs": [
    {
     "data": {
      "text/html": [
       "<div>\n",
       "<style scoped>\n",
       "    .dataframe tbody tr th:only-of-type {\n",
       "        vertical-align: middle;\n",
       "    }\n",
       "\n",
       "    .dataframe tbody tr th {\n",
       "        vertical-align: top;\n",
       "    }\n",
       "\n",
       "    .dataframe thead th {\n",
       "        text-align: right;\n",
       "    }\n",
       "</style>\n",
       "<table border=\"1\" class=\"dataframe\">\n",
       "  <thead>\n",
       "    <tr style=\"text-align: right;\">\n",
       "      <th></th>\n",
       "      <th>member_id</th>\n",
       "      <th>loan_amnt</th>\n",
       "      <th>funded_amnt</th>\n",
       "      <th>funded_amnt_inv</th>\n",
       "      <th>installment</th>\n",
       "      <th>annual_inc</th>\n",
       "      <th>dti</th>\n",
       "      <th>delinq_2yrs</th>\n",
       "      <th>fico_range_low</th>\n",
       "      <th>fico_range_high</th>\n",
       "      <th>...</th>\n",
       "      <th>payment_plan_start_date</th>\n",
       "      <th>hardship_length</th>\n",
       "      <th>hardship_dpd</th>\n",
       "      <th>hardship_loan_status</th>\n",
       "      <th>orig_projected_additional_accrued_interest</th>\n",
       "      <th>hardship_payoff_balance_amount</th>\n",
       "      <th>hardship_last_payment_amount</th>\n",
       "      <th>settlement_amount</th>\n",
       "      <th>settlement_percentage</th>\n",
       "      <th>settlement_term</th>\n",
       "    </tr>\n",
       "  </thead>\n",
       "  <tbody>\n",
       "    <tr>\n",
       "      <th>count</th>\n",
       "      <td>0.0</td>\n",
       "      <td>42535.000000</td>\n",
       "      <td>42535.000000</td>\n",
       "      <td>42535.000000</td>\n",
       "      <td>42535.000000</td>\n",
       "      <td>4.253100e+04</td>\n",
       "      <td>42535.000000</td>\n",
       "      <td>42506.000000</td>\n",
       "      <td>42535.000000</td>\n",
       "      <td>42535.000000</td>\n",
       "      <td>...</td>\n",
       "      <td>0.0</td>\n",
       "      <td>0.0</td>\n",
       "      <td>0.0</td>\n",
       "      <td>0.0</td>\n",
       "      <td>0.0</td>\n",
       "      <td>0.0</td>\n",
       "      <td>0.0</td>\n",
       "      <td>160.000000</td>\n",
       "      <td>160.000000</td>\n",
       "      <td>160.000000</td>\n",
       "    </tr>\n",
       "    <tr>\n",
       "      <th>mean</th>\n",
       "      <td>NaN</td>\n",
       "      <td>11089.722581</td>\n",
       "      <td>10821.585753</td>\n",
       "      <td>10139.938785</td>\n",
       "      <td>322.623063</td>\n",
       "      <td>6.913656e+04</td>\n",
       "      <td>13.373043</td>\n",
       "      <td>0.152449</td>\n",
       "      <td>713.052545</td>\n",
       "      <td>717.052545</td>\n",
       "      <td>...</td>\n",
       "      <td>NaN</td>\n",
       "      <td>NaN</td>\n",
       "      <td>NaN</td>\n",
       "      <td>NaN</td>\n",
       "      <td>NaN</td>\n",
       "      <td>NaN</td>\n",
       "      <td>NaN</td>\n",
       "      <td>4272.137875</td>\n",
       "      <td>49.905875</td>\n",
       "      <td>1.200000</td>\n",
       "    </tr>\n",
       "    <tr>\n",
       "      <th>std</th>\n",
       "      <td>NaN</td>\n",
       "      <td>7410.938391</td>\n",
       "      <td>7146.914675</td>\n",
       "      <td>7131.598014</td>\n",
       "      <td>208.927216</td>\n",
       "      <td>6.409635e+04</td>\n",
       "      <td>6.726315</td>\n",
       "      <td>0.512406</td>\n",
       "      <td>36.188439</td>\n",
       "      <td>36.188439</td>\n",
       "      <td>...</td>\n",
       "      <td>NaN</td>\n",
       "      <td>NaN</td>\n",
       "      <td>NaN</td>\n",
       "      <td>NaN</td>\n",
       "      <td>NaN</td>\n",
       "      <td>NaN</td>\n",
       "      <td>NaN</td>\n",
       "      <td>3119.373774</td>\n",
       "      <td>15.563690</td>\n",
       "      <td>4.085255</td>\n",
       "    </tr>\n",
       "    <tr>\n",
       "      <th>min</th>\n",
       "      <td>NaN</td>\n",
       "      <td>500.000000</td>\n",
       "      <td>500.000000</td>\n",
       "      <td>0.000000</td>\n",
       "      <td>15.670000</td>\n",
       "      <td>1.896000e+03</td>\n",
       "      <td>0.000000</td>\n",
       "      <td>0.000000</td>\n",
       "      <td>610.000000</td>\n",
       "      <td>614.000000</td>\n",
       "      <td>...</td>\n",
       "      <td>NaN</td>\n",
       "      <td>NaN</td>\n",
       "      <td>NaN</td>\n",
       "      <td>NaN</td>\n",
       "      <td>NaN</td>\n",
       "      <td>NaN</td>\n",
       "      <td>NaN</td>\n",
       "      <td>193.290000</td>\n",
       "      <td>10.690000</td>\n",
       "      <td>0.000000</td>\n",
       "    </tr>\n",
       "    <tr>\n",
       "      <th>25%</th>\n",
       "      <td>NaN</td>\n",
       "      <td>5200.000000</td>\n",
       "      <td>5000.000000</td>\n",
       "      <td>4950.000000</td>\n",
       "      <td>165.520000</td>\n",
       "      <td>4.000000e+04</td>\n",
       "      <td>8.200000</td>\n",
       "      <td>0.000000</td>\n",
       "      <td>685.000000</td>\n",
       "      <td>689.000000</td>\n",
       "      <td>...</td>\n",
       "      <td>NaN</td>\n",
       "      <td>NaN</td>\n",
       "      <td>NaN</td>\n",
       "      <td>NaN</td>\n",
       "      <td>NaN</td>\n",
       "      <td>NaN</td>\n",
       "      <td>NaN</td>\n",
       "      <td>1842.750000</td>\n",
       "      <td>40.000000</td>\n",
       "      <td>0.000000</td>\n",
       "    </tr>\n",
       "    <tr>\n",
       "      <th>50%</th>\n",
       "      <td>NaN</td>\n",
       "      <td>9700.000000</td>\n",
       "      <td>9600.000000</td>\n",
       "      <td>8500.000000</td>\n",
       "      <td>277.690000</td>\n",
       "      <td>5.900000e+04</td>\n",
       "      <td>13.470000</td>\n",
       "      <td>0.000000</td>\n",
       "      <td>710.000000</td>\n",
       "      <td>714.000000</td>\n",
       "      <td>...</td>\n",
       "      <td>NaN</td>\n",
       "      <td>NaN</td>\n",
       "      <td>NaN</td>\n",
       "      <td>NaN</td>\n",
       "      <td>NaN</td>\n",
       "      <td>NaN</td>\n",
       "      <td>NaN</td>\n",
       "      <td>3499.350000</td>\n",
       "      <td>49.970000</td>\n",
       "      <td>0.000000</td>\n",
       "    </tr>\n",
       "    <tr>\n",
       "      <th>75%</th>\n",
       "      <td>NaN</td>\n",
       "      <td>15000.000000</td>\n",
       "      <td>15000.000000</td>\n",
       "      <td>14000.000000</td>\n",
       "      <td>428.180000</td>\n",
       "      <td>8.250000e+04</td>\n",
       "      <td>18.680000</td>\n",
       "      <td>0.000000</td>\n",
       "      <td>740.000000</td>\n",
       "      <td>744.000000</td>\n",
       "      <td>...</td>\n",
       "      <td>NaN</td>\n",
       "      <td>NaN</td>\n",
       "      <td>NaN</td>\n",
       "      <td>NaN</td>\n",
       "      <td>NaN</td>\n",
       "      <td>NaN</td>\n",
       "      <td>NaN</td>\n",
       "      <td>5701.100000</td>\n",
       "      <td>60.652500</td>\n",
       "      <td>0.000000</td>\n",
       "    </tr>\n",
       "    <tr>\n",
       "      <th>max</th>\n",
       "      <td>NaN</td>\n",
       "      <td>35000.000000</td>\n",
       "      <td>35000.000000</td>\n",
       "      <td>35000.000000</td>\n",
       "      <td>1305.190000</td>\n",
       "      <td>6.000000e+06</td>\n",
       "      <td>29.990000</td>\n",
       "      <td>13.000000</td>\n",
       "      <td>825.000000</td>\n",
       "      <td>829.000000</td>\n",
       "      <td>...</td>\n",
       "      <td>NaN</td>\n",
       "      <td>NaN</td>\n",
       "      <td>NaN</td>\n",
       "      <td>NaN</td>\n",
       "      <td>NaN</td>\n",
       "      <td>NaN</td>\n",
       "      <td>NaN</td>\n",
       "      <td>14798.200000</td>\n",
       "      <td>92.740000</td>\n",
       "      <td>24.000000</td>\n",
       "    </tr>\n",
       "  </tbody>\n",
       "</table>\n",
       "<p>8 rows × 120 columns</p>\n",
       "</div>"
      ],
      "text/plain": [
       "       member_id     loan_amnt   funded_amnt  funded_amnt_inv   installment  \\\n",
       "count        0.0  42535.000000  42535.000000     42535.000000  42535.000000   \n",
       "mean         NaN  11089.722581  10821.585753     10139.938785    322.623063   \n",
       "std          NaN   7410.938391   7146.914675      7131.598014    208.927216   \n",
       "min          NaN    500.000000    500.000000         0.000000     15.670000   \n",
       "25%          NaN   5200.000000   5000.000000      4950.000000    165.520000   \n",
       "50%          NaN   9700.000000   9600.000000      8500.000000    277.690000   \n",
       "75%          NaN  15000.000000  15000.000000     14000.000000    428.180000   \n",
       "max          NaN  35000.000000  35000.000000     35000.000000   1305.190000   \n",
       "\n",
       "         annual_inc           dti   delinq_2yrs  fico_range_low  \\\n",
       "count  4.253100e+04  42535.000000  42506.000000    42535.000000   \n",
       "mean   6.913656e+04     13.373043      0.152449      713.052545   \n",
       "std    6.409635e+04      6.726315      0.512406       36.188439   \n",
       "min    1.896000e+03      0.000000      0.000000      610.000000   \n",
       "25%    4.000000e+04      8.200000      0.000000      685.000000   \n",
       "50%    5.900000e+04     13.470000      0.000000      710.000000   \n",
       "75%    8.250000e+04     18.680000      0.000000      740.000000   \n",
       "max    6.000000e+06     29.990000     13.000000      825.000000   \n",
       "\n",
       "       fico_range_high  ...  payment_plan_start_date  hardship_length  \\\n",
       "count     42535.000000  ...                      0.0              0.0   \n",
       "mean        717.052545  ...                      NaN              NaN   \n",
       "std          36.188439  ...                      NaN              NaN   \n",
       "min         614.000000  ...                      NaN              NaN   \n",
       "25%         689.000000  ...                      NaN              NaN   \n",
       "50%         714.000000  ...                      NaN              NaN   \n",
       "75%         744.000000  ...                      NaN              NaN   \n",
       "max         829.000000  ...                      NaN              NaN   \n",
       "\n",
       "       hardship_dpd  hardship_loan_status  \\\n",
       "count           0.0                   0.0   \n",
       "mean            NaN                   NaN   \n",
       "std             NaN                   NaN   \n",
       "min             NaN                   NaN   \n",
       "25%             NaN                   NaN   \n",
       "50%             NaN                   NaN   \n",
       "75%             NaN                   NaN   \n",
       "max             NaN                   NaN   \n",
       "\n",
       "       orig_projected_additional_accrued_interest  \\\n",
       "count                                         0.0   \n",
       "mean                                          NaN   \n",
       "std                                           NaN   \n",
       "min                                           NaN   \n",
       "25%                                           NaN   \n",
       "50%                                           NaN   \n",
       "75%                                           NaN   \n",
       "max                                           NaN   \n",
       "\n",
       "       hardship_payoff_balance_amount  hardship_last_payment_amount  \\\n",
       "count                             0.0                           0.0   \n",
       "mean                              NaN                           NaN   \n",
       "std                               NaN                           NaN   \n",
       "min                               NaN                           NaN   \n",
       "25%                               NaN                           NaN   \n",
       "50%                               NaN                           NaN   \n",
       "75%                               NaN                           NaN   \n",
       "max                               NaN                           NaN   \n",
       "\n",
       "       settlement_amount  settlement_percentage  settlement_term  \n",
       "count         160.000000             160.000000       160.000000  \n",
       "mean         4272.137875              49.905875         1.200000  \n",
       "std          3119.373774              15.563690         4.085255  \n",
       "min           193.290000              10.690000         0.000000  \n",
       "25%          1842.750000              40.000000         0.000000  \n",
       "50%          3499.350000              49.970000         0.000000  \n",
       "75%          5701.100000              60.652500         0.000000  \n",
       "max         14798.200000              92.740000        24.000000  \n",
       "\n",
       "[8 rows x 120 columns]"
      ]
     },
     "execution_count": 8,
     "metadata": {},
     "output_type": "execute_result"
    }
   ],
   "source": [
    "# Descriptions\n",
    "\n",
    "dataset.describe()"
   ]
  },
  {
   "cell_type": "code",
   "execution_count": 9,
   "id": "59d85a16",
   "metadata": {},
   "outputs": [
    {
     "name": "stdout",
     "output_type": "stream",
     "text": [
      "loan_status\n",
      "Charged Off                                             5670\n",
      "Does not meet the credit policy. Status:Charged Off      761\n",
      "Does not meet the credit policy. Status:Fully Paid      1988\n",
      "Fully Paid                                             34116\n",
      "dtype: int64\n"
     ]
    }
   ],
   "source": [
    "# Distribution of the 'loan_status' - the target\n",
    "\n",
    "print(dataset.groupby('loan_status').size())"
   ]
  },
  {
   "cell_type": "code",
   "execution_count": 10,
   "id": "5d19ea00",
   "metadata": {},
   "outputs": [],
   "source": [
    "# Loans that do not meet the credit policy will not be considered.\n",
    "# Only loans with \"Fully Paid\" and \"Charged Off\" status remain.\n",
    "\n",
    "dataset = dataset.loc[dataset['loan_status'].isin(['Fully Paid', 'Charged Off'])]"
   ]
  },
  {
   "cell_type": "code",
   "execution_count": 11,
   "id": "ae28537d",
   "metadata": {},
   "outputs": [
    {
     "data": {
      "text/plain": [
       "(39786, 151)"
      ]
     },
     "execution_count": 11,
     "metadata": {},
     "output_type": "execute_result"
    }
   ],
   "source": [
    "# Only \"Fully paid\" and \"Charged off\" loans\n",
    "\n",
    "dataset.shape"
   ]
  },
  {
   "cell_type": "code",
   "execution_count": 12,
   "id": "4c93a043",
   "metadata": {},
   "outputs": [
    {
     "data": {
      "text/plain": [
       "Fully Paid     34116\n",
       "Charged Off     5670\n",
       "Name: loan_status, dtype: int64"
      ]
     },
     "execution_count": 12,
     "metadata": {},
     "output_type": "execute_result"
    }
   ],
   "source": [
    "# Check the statuses\n",
    "\n",
    "dataset['loan_status'].value_counts(dropna=False)"
   ]
  },
  {
   "cell_type": "code",
   "execution_count": 13,
   "id": "6a9c7b0a",
   "metadata": {},
   "outputs": [
    {
     "data": {
      "text/plain": [
       "Fully Paid     85.75\n",
       "Charged Off    14.25\n",
       "Name: loan_status, dtype: float64"
      ]
     },
     "execution_count": 13,
     "metadata": {},
     "output_type": "execute_result"
    }
   ],
   "source": [
    "# Percentages of statuses counts\n",
    "\n",
    "dataset['loan_status'].value_counts(normalize=True, dropna=False).round(4) * 100"
   ]
  },
  {
   "cell_type": "code",
   "execution_count": 14,
   "id": "138f6139",
   "metadata": {},
   "outputs": [
    {
     "data": {
      "text/plain": [
       "60.26"
      ]
     },
     "execution_count": 14,
     "metadata": {},
     "output_type": "execute_result"
    }
   ],
   "source": [
    "# Total percentage of NaN values in the dataset\n",
    "\n",
    "(((dataset.isnull().sum().sum()) / (dataset.shape[0] * dataset.shape[1])) * 100).round(2)"
   ]
  },
  {
   "cell_type": "code",
   "execution_count": 15,
   "id": "b84ede86",
   "metadata": {},
   "outputs": [
    {
     "data": {
      "text/html": [
       "<div>\n",
       "<style scoped>\n",
       "    .dataframe tbody tr th:only-of-type {\n",
       "        vertical-align: middle;\n",
       "    }\n",
       "\n",
       "    .dataframe tbody tr th {\n",
       "        vertical-align: top;\n",
       "    }\n",
       "\n",
       "    .dataframe thead th {\n",
       "        text-align: right;\n",
       "    }\n",
       "</style>\n",
       "<table border=\"1\" class=\"dataframe\">\n",
       "  <thead>\n",
       "    <tr style=\"text-align: right;\">\n",
       "      <th></th>\n",
       "      <th>Percentage of NaN values</th>\n",
       "      <th>Number of columns</th>\n",
       "    </tr>\n",
       "  </thead>\n",
       "  <tbody>\n",
       "    <tr>\n",
       "      <th>0</th>\n",
       "      <td>10% or less</td>\n",
       "      <td>59</td>\n",
       "    </tr>\n",
       "    <tr>\n",
       "      <th>1</th>\n",
       "      <td>20% or less</td>\n",
       "      <td>59</td>\n",
       "    </tr>\n",
       "    <tr>\n",
       "      <th>2</th>\n",
       "      <td>30% or less</td>\n",
       "      <td>59</td>\n",
       "    </tr>\n",
       "    <tr>\n",
       "      <th>3</th>\n",
       "      <td>40% or less</td>\n",
       "      <td>60</td>\n",
       "    </tr>\n",
       "    <tr>\n",
       "      <th>4</th>\n",
       "      <td>50% or less</td>\n",
       "      <td>60</td>\n",
       "    </tr>\n",
       "    <tr>\n",
       "      <th>5</th>\n",
       "      <td>60% or less</td>\n",
       "      <td>60</td>\n",
       "    </tr>\n",
       "    <tr>\n",
       "      <th>6</th>\n",
       "      <td>70% or less</td>\n",
       "      <td>61</td>\n",
       "    </tr>\n",
       "    <tr>\n",
       "      <th>7</th>\n",
       "      <td>80% or less</td>\n",
       "      <td>61</td>\n",
       "    </tr>\n",
       "    <tr>\n",
       "      <th>8</th>\n",
       "      <td>90% or less</td>\n",
       "      <td>61</td>\n",
       "    </tr>\n",
       "  </tbody>\n",
       "</table>\n",
       "</div>"
      ],
      "text/plain": [
       "  Percentage of NaN values  Number of columns\n",
       "0              10% or less                 59\n",
       "1              20% or less                 59\n",
       "2              30% or less                 59\n",
       "3              40% or less                 60\n",
       "4              50% or less                 60\n",
       "5              60% or less                 60\n",
       "6              70% or less                 61\n",
       "7              80% or less                 61\n",
       "8              90% or less                 61"
      ]
     },
     "execution_count": 15,
     "metadata": {},
     "output_type": "execute_result"
    }
   ],
   "source": [
    "# Creating a dataframe to visualize percentage of NaN values in columns\n",
    "\n",
    "check_nan = pd.DataFrame()\n",
    "check_nan['Percentage of NaN values'] = ['10% or less',\n",
    "                                         '20% or less',\n",
    "                                         '30% or less',\n",
    "                                         '40% or less',\n",
    "                                         '50% or less',\n",
    "                                         '60% or less',\n",
    "                                         '70% or less', \n",
    "                                         '80% or less', \n",
    "                                         '90% or less'\n",
    "                                        ]\n",
    "\n",
    "ten_percent = len(dataset.columns[((dataset.isnull().sum())/len(dataset)) <= 0.1])\n",
    "twenty_percent = len(dataset.columns[((dataset.isnull().sum())/len(dataset)) <= 0.2])\n",
    "thirty_percent = len(dataset.columns[((dataset.isnull().sum())/len(dataset)) <= 0.3])\n",
    "fourty_percent = len(dataset.columns[((dataset.isnull().sum())/len(dataset)) <= 0.4])\n",
    "fifty_percent = len(dataset.columns[((dataset.isnull().sum())/len(dataset)) <= 0.5])\n",
    "sixty_percent = len(dataset.columns[((dataset.isnull().sum())/len(dataset)) <= 0.6])\n",
    "seventy_percent = len(dataset.columns[((dataset.isnull().sum())/len(dataset)) <= 0.7])\n",
    "eighty_percent = len(dataset.columns[((dataset.isnull().sum())/len(dataset)) <= 0.8])\n",
    "ninety_percent = len(dataset.columns[((dataset.isnull().sum())/len(dataset)) <= 0.9])\n",
    "\n",
    "\n",
    "check_nan['Number of columns'] = [ten_percent, \n",
    "                                  twenty_percent, \n",
    "                                  thirty_percent, \n",
    "                                  fourty_percent, \n",
    "                                  fifty_percent, \n",
    "                                  sixty_percent, \n",
    "                                  seventy_percent, \n",
    "                                  eighty_percent, \n",
    "                                  ninety_percent\n",
    "                                 ]\n",
    "\n",
    "check_nan"
   ]
  },
  {
   "cell_type": "code",
   "execution_count": 16,
   "id": "aefa927d",
   "metadata": {},
   "outputs": [
    {
     "data": {
      "text/plain": [
       "Text(0, 0.5, 'Feature count')"
      ]
     },
     "execution_count": 16,
     "metadata": {},
     "output_type": "execute_result"
    },
    {
     "data": {
      "image/png": "[encoded data removed]",
      "text/plain": [
       "<Figure size 720x360 with 1 Axes>"
      ]
     },
     "metadata": {},
     "output_type": "display_data"
    }
   ],
   "source": [
    "# Histogram with missing values\n",
    "\n",
    "missing_values = dataset.isnull().mean().sort_values(ascending=False)\n",
    "\n",
    "plt.figure(figsize=(8,4), dpi=90)\n",
    "missing_values.plot.hist(bins=20)\n",
    "plt.title('Histogram of feature incompleteness')\n",
    "plt.xlabel('Fraction of data missing')\n",
    "plt.ylabel('Feature count')"
   ]
  },
  {
   "cell_type": "markdown",
   "id": "2053d9f7",
   "metadata": {},
   "source": [
    "It can be seen from the above table and the histogram that no matter what the acceptable level of NaN number is chosen, it should remain between 59 and 61 columns. Approximately 90 columns (151 - 59/60/61) should be removed. The level of 40% Nan was selected as the cut-off point. This selection means that only one column is missing data between 30% and 40% NaN. The other columns contain up to 10% NaN."
   ]
  },
  {
   "cell_type": "code",
   "execution_count": 17,
   "id": "00579730",
   "metadata": {},
   "outputs": [
    {
     "name": "stdout",
     "output_type": "stream",
     "text": [
      "['acc_now_delinq', 'addr_state', 'annual_inc', 'application_type', 'chargeoff_within_12_mths', 'collection_recovery_fee', 'collections_12_mths_ex_med', 'debt_settlement_flag', 'delinq_2yrs', 'delinq_amnt', 'desc', 'disbursement_method', 'dti', 'earliest_cr_line', 'emp_length', 'emp_title', 'fico_range_high', 'fico_range_low', 'funded_amnt', 'funded_amnt_inv', 'grade', 'hardship_flag', 'home_ownership', 'id', 'initial_list_status', 'inq_last_6mths', 'installment', 'int_rate', 'issue_d', 'last_credit_pull_d', 'last_fico_range_high', 'last_fico_range_low', 'last_pymnt_amnt', 'last_pymnt_d', 'loan_amnt', 'loan_status', 'open_acc', 'out_prncp', 'out_prncp_inv', 'policy_code', 'pub_rec', 'pub_rec_bankruptcies', 'purpose', 'pymnt_plan', 'recoveries', 'revol_bal', 'revol_util', 'sub_grade', 'tax_liens', 'term', 'title', 'total_acc', 'total_pymnt', 'total_pymnt_inv', 'total_rec_int', 'total_rec_late_fee', 'total_rec_prncp', 'url', 'verification_status', 'zip_code']\n"
     ]
    }
   ],
   "source": [
    "# Columns after first cut\n",
    "\n",
    "after_first_cut = sorted(list(missing_values[missing_values < 0.4].index))\n",
    "print(after_first_cut)"
   ]
  },
  {
   "cell_type": "code",
   "execution_count": 18,
   "id": "f57403e2",
   "metadata": {},
   "outputs": [
    {
     "data": {
      "text/plain": [
       "60"
      ]
     },
     "execution_count": 18,
     "metadata": {},
     "output_type": "execute_result"
    }
   ],
   "source": [
    "# Check the number of the remaining columns.\n",
    "\n",
    "len(after_first_cut)"
   ]
  },
  {
   "cell_type": "code",
   "execution_count": 19,
   "id": "837e4f05",
   "metadata": {},
   "outputs": [
    {
     "data": {
      "text/plain": [
       "(39786, 60)"
      ]
     },
     "execution_count": 19,
     "metadata": {},
     "output_type": "execute_result"
    }
   ],
   "source": [
    "# Cutting off columns with more than 40% NaN (Columns with less than 40% NaN are usefull).\n",
    "\n",
    "df = dataset[dataset.columns[((dataset.isnull().sum()) / len(dataset)) < 0.4]]\n",
    "\n",
    "df.shape"
   ]
  },
  {
   "cell_type": "markdown",
   "id": "2dce8ca0",
   "metadata": {},
   "source": [
    "##### The LCDataDictionary.csv file contains a legend with an explanation of all the columns in the DataFrame."
   ]
  },
  {
   "cell_type": "code",
   "execution_count": 20,
   "id": "41f94c36",
   "metadata": {},
   "outputs": [],
   "source": [
    "# Cutting off the columns which contains information from the future or contains useless information.\n",
    "\n",
    "df.drop(['chargeoff_within_12_mths', 'collection_recovery_fee', 'collections_12_mths_ex_med', 'delinq_amnt', 'desc', \n",
    "         'funded_amnt', 'funded_amnt_inv', 'id', 'initial_list_status', 'last_credit_pull_d', 'last_fico_range_high',\n",
    "         'last_fico_range_low', 'last_pymnt_amnt', 'last_pymnt_d', 'out_prncp', 'out_prncp_inv', 'recoveries', 'title', 'total_pymnt', \n",
    "         'total_pymnt_inv', 'total_rec_int', 'total_rec_late_fee', 'url', 'debt_settlement_flag', 'total_rec_prncp'], axis=1, inplace=True)"
   ]
  },
  {
   "cell_type": "code",
   "execution_count": 21,
   "id": "6a9666a7",
   "metadata": {},
   "outputs": [
    {
     "data": {
      "text/plain": [
       "(39786, 35)"
      ]
     },
     "execution_count": 21,
     "metadata": {},
     "output_type": "execute_result"
    }
   ],
   "source": [
    "# Checking the new shape of DataFrame\n",
    "\n",
    "df.shape"
   ]
  },
  {
   "cell_type": "code",
   "execution_count": 22,
   "id": "bf8e1985",
   "metadata": {},
   "outputs": [
    {
     "name": "stdout",
     "output_type": "stream",
     "text": [
      "Index(['loan_amnt', 'term', 'int_rate', 'installment', 'grade', 'sub_grade',\n",
      "       'emp_title', 'emp_length', 'home_ownership', 'annual_inc',\n",
      "       'verification_status', 'issue_d', 'loan_status', 'pymnt_plan',\n",
      "       'purpose', 'zip_code', 'addr_state', 'dti', 'delinq_2yrs',\n",
      "       'earliest_cr_line', 'fico_range_low', 'fico_range_high',\n",
      "       'inq_last_6mths', 'open_acc', 'pub_rec', 'revol_bal', 'revol_util',\n",
      "       'total_acc', 'policy_code', 'application_type', 'acc_now_delinq',\n",
      "       'pub_rec_bankruptcies', 'tax_liens', 'hardship_flag',\n",
      "       'disbursement_method'],\n",
      "      dtype='object')\n"
     ]
    }
   ],
   "source": [
    "# The columns that remain\n",
    "\n",
    "print(df.columns)"
   ]
  },
  {
   "cell_type": "code",
   "execution_count": 23,
   "id": "016b69df",
   "metadata": {},
   "outputs": [
    {
     "name": "stdout",
     "output_type": "stream",
     "text": [
      "<class 'pandas.core.frame.DataFrame'>\n",
      "Int64Index: 39786 entries, 0 to 39785\n",
      "Data columns (total 35 columns):\n",
      " #   Column                Non-Null Count  Dtype  \n",
      "---  ------                --------------  -----  \n",
      " 0   loan_amnt             39786 non-null  float64\n",
      " 1   term                  39786 non-null  object \n",
      " 2   int_rate              39786 non-null  object \n",
      " 3   installment           39786 non-null  float64\n",
      " 4   grade                 39786 non-null  object \n",
      " 5   sub_grade             39786 non-null  object \n",
      " 6   emp_title             37319 non-null  object \n",
      " 7   emp_length            38708 non-null  object \n",
      " 8   home_ownership        39786 non-null  object \n",
      " 9   annual_inc            39786 non-null  float64\n",
      " 10  verification_status   39786 non-null  object \n",
      " 11  issue_d               39786 non-null  object \n",
      " 12  loan_status           39786 non-null  object \n",
      " 13  pymnt_plan            39786 non-null  object \n",
      " 14  purpose               39786 non-null  object \n",
      " 15  zip_code              39786 non-null  object \n",
      " 16  addr_state            39786 non-null  object \n",
      " 17  dti                   39786 non-null  float64\n",
      " 18  delinq_2yrs           39786 non-null  float64\n",
      " 19  earliest_cr_line      39786 non-null  object \n",
      " 20  fico_range_low        39786 non-null  float64\n",
      " 21  fico_range_high       39786 non-null  float64\n",
      " 22  inq_last_6mths        39786 non-null  float64\n",
      " 23  open_acc              39786 non-null  float64\n",
      " 24  pub_rec               39786 non-null  float64\n",
      " 25  revol_bal             39786 non-null  float64\n",
      " 26  revol_util            39736 non-null  object \n",
      " 27  total_acc             39786 non-null  float64\n",
      " 28  policy_code           39786 non-null  float64\n",
      " 29  application_type      39786 non-null  object \n",
      " 30  acc_now_delinq        39786 non-null  float64\n",
      " 31  pub_rec_bankruptcies  39089 non-null  float64\n",
      " 32  tax_liens             39747 non-null  float64\n",
      " 33  hardship_flag         39786 non-null  object \n",
      " 34  disbursement_method   39786 non-null  object \n",
      "dtypes: float64(16), object(19)\n",
      "memory usage: 10.9+ MB\n"
     ]
    }
   ],
   "source": [
    "df.info()"
   ]
  },
  {
   "cell_type": "code",
   "execution_count": 24,
   "id": "bf8fddb4",
   "metadata": {},
   "outputs": [
    {
     "data": {
      "text/html": [
       "<div>\n",
       "<style scoped>\n",
       "    .dataframe tbody tr th:only-of-type {\n",
       "        vertical-align: middle;\n",
       "    }\n",
       "\n",
       "    .dataframe tbody tr th {\n",
       "        vertical-align: top;\n",
       "    }\n",
       "\n",
       "    .dataframe thead th {\n",
       "        text-align: right;\n",
       "    }\n",
       "</style>\n",
       "<table border=\"1\" class=\"dataframe\">\n",
       "  <thead>\n",
       "    <tr style=\"text-align: right;\">\n",
       "      <th></th>\n",
       "      <th>loan_amnt</th>\n",
       "      <th>term</th>\n",
       "      <th>int_rate</th>\n",
       "      <th>installment</th>\n",
       "      <th>grade</th>\n",
       "      <th>sub_grade</th>\n",
       "      <th>emp_title</th>\n",
       "      <th>emp_length</th>\n",
       "      <th>home_ownership</th>\n",
       "      <th>annual_inc</th>\n",
       "      <th>verification_status</th>\n",
       "      <th>issue_d</th>\n",
       "      <th>loan_status</th>\n",
       "      <th>pymnt_plan</th>\n",
       "      <th>purpose</th>\n",
       "      <th>zip_code</th>\n",
       "      <th>addr_state</th>\n",
       "      <th>dti</th>\n",
       "      <th>delinq_2yrs</th>\n",
       "      <th>earliest_cr_line</th>\n",
       "      <th>fico_range_low</th>\n",
       "      <th>fico_range_high</th>\n",
       "      <th>inq_last_6mths</th>\n",
       "      <th>open_acc</th>\n",
       "      <th>pub_rec</th>\n",
       "      <th>revol_bal</th>\n",
       "      <th>revol_util</th>\n",
       "      <th>total_acc</th>\n",
       "      <th>policy_code</th>\n",
       "      <th>application_type</th>\n",
       "      <th>acc_now_delinq</th>\n",
       "      <th>pub_rec_bankruptcies</th>\n",
       "      <th>tax_liens</th>\n",
       "      <th>hardship_flag</th>\n",
       "      <th>disbursement_method</th>\n",
       "    </tr>\n",
       "  </thead>\n",
       "  <tbody>\n",
       "    <tr>\n",
       "      <th>0</th>\n",
       "      <td>5000.0</td>\n",
       "      <td>36 months</td>\n",
       "      <td>10.65%</td>\n",
       "      <td>162.87</td>\n",
       "      <td>B</td>\n",
       "      <td>B2</td>\n",
       "      <td>NaN</td>\n",
       "      <td>10+ years</td>\n",
       "      <td>RENT</td>\n",
       "      <td>24000.0</td>\n",
       "      <td>Verified</td>\n",
       "      <td>Dec-2011</td>\n",
       "      <td>Fully Paid</td>\n",
       "      <td>n</td>\n",
       "      <td>credit_card</td>\n",
       "      <td>860xx</td>\n",
       "      <td>AZ</td>\n",
       "      <td>27.65</td>\n",
       "      <td>0.0</td>\n",
       "      <td>Jan-1985</td>\n",
       "      <td>735.0</td>\n",
       "      <td>739.0</td>\n",
       "      <td>1.0</td>\n",
       "      <td>3.0</td>\n",
       "      <td>0.0</td>\n",
       "      <td>13648.0</td>\n",
       "      <td>83.7%</td>\n",
       "      <td>9.0</td>\n",
       "      <td>1.0</td>\n",
       "      <td>Individual</td>\n",
       "      <td>0.0</td>\n",
       "      <td>0.0</td>\n",
       "      <td>0.0</td>\n",
       "      <td>N</td>\n",
       "      <td>Cash</td>\n",
       "    </tr>\n",
       "    <tr>\n",
       "      <th>1</th>\n",
       "      <td>2500.0</td>\n",
       "      <td>60 months</td>\n",
       "      <td>15.27%</td>\n",
       "      <td>59.83</td>\n",
       "      <td>C</td>\n",
       "      <td>C4</td>\n",
       "      <td>Ryder</td>\n",
       "      <td>&lt; 1 year</td>\n",
       "      <td>RENT</td>\n",
       "      <td>30000.0</td>\n",
       "      <td>Source Verified</td>\n",
       "      <td>Dec-2011</td>\n",
       "      <td>Charged Off</td>\n",
       "      <td>n</td>\n",
       "      <td>car</td>\n",
       "      <td>309xx</td>\n",
       "      <td>GA</td>\n",
       "      <td>1.00</td>\n",
       "      <td>0.0</td>\n",
       "      <td>Apr-1999</td>\n",
       "      <td>740.0</td>\n",
       "      <td>744.0</td>\n",
       "      <td>5.0</td>\n",
       "      <td>3.0</td>\n",
       "      <td>0.0</td>\n",
       "      <td>1687.0</td>\n",
       "      <td>9.4%</td>\n",
       "      <td>4.0</td>\n",
       "      <td>1.0</td>\n",
       "      <td>Individual</td>\n",
       "      <td>0.0</td>\n",
       "      <td>0.0</td>\n",
       "      <td>0.0</td>\n",
       "      <td>N</td>\n",
       "      <td>Cash</td>\n",
       "    </tr>\n",
       "    <tr>\n",
       "      <th>2</th>\n",
       "      <td>2400.0</td>\n",
       "      <td>36 months</td>\n",
       "      <td>15.96%</td>\n",
       "      <td>84.33</td>\n",
       "      <td>C</td>\n",
       "      <td>C5</td>\n",
       "      <td>NaN</td>\n",
       "      <td>10+ years</td>\n",
       "      <td>RENT</td>\n",
       "      <td>12252.0</td>\n",
       "      <td>Not Verified</td>\n",
       "      <td>Dec-2011</td>\n",
       "      <td>Fully Paid</td>\n",
       "      <td>n</td>\n",
       "      <td>small_business</td>\n",
       "      <td>606xx</td>\n",
       "      <td>IL</td>\n",
       "      <td>8.72</td>\n",
       "      <td>0.0</td>\n",
       "      <td>Nov-2001</td>\n",
       "      <td>735.0</td>\n",
       "      <td>739.0</td>\n",
       "      <td>2.0</td>\n",
       "      <td>2.0</td>\n",
       "      <td>0.0</td>\n",
       "      <td>2956.0</td>\n",
       "      <td>98.5%</td>\n",
       "      <td>10.0</td>\n",
       "      <td>1.0</td>\n",
       "      <td>Individual</td>\n",
       "      <td>0.0</td>\n",
       "      <td>0.0</td>\n",
       "      <td>0.0</td>\n",
       "      <td>N</td>\n",
       "      <td>Cash</td>\n",
       "    </tr>\n",
       "    <tr>\n",
       "      <th>3</th>\n",
       "      <td>10000.0</td>\n",
       "      <td>36 months</td>\n",
       "      <td>13.49%</td>\n",
       "      <td>339.31</td>\n",
       "      <td>C</td>\n",
       "      <td>C1</td>\n",
       "      <td>AIR RESOURCES BOARD</td>\n",
       "      <td>10+ years</td>\n",
       "      <td>RENT</td>\n",
       "      <td>49200.0</td>\n",
       "      <td>Source Verified</td>\n",
       "      <td>Dec-2011</td>\n",
       "      <td>Fully Paid</td>\n",
       "      <td>n</td>\n",
       "      <td>other</td>\n",
       "      <td>917xx</td>\n",
       "      <td>CA</td>\n",
       "      <td>20.00</td>\n",
       "      <td>0.0</td>\n",
       "      <td>Feb-1996</td>\n",
       "      <td>690.0</td>\n",
       "      <td>694.0</td>\n",
       "      <td>1.0</td>\n",
       "      <td>10.0</td>\n",
       "      <td>0.0</td>\n",
       "      <td>5598.0</td>\n",
       "      <td>21%</td>\n",
       "      <td>37.0</td>\n",
       "      <td>1.0</td>\n",
       "      <td>Individual</td>\n",
       "      <td>0.0</td>\n",
       "      <td>0.0</td>\n",
       "      <td>0.0</td>\n",
       "      <td>N</td>\n",
       "      <td>Cash</td>\n",
       "    </tr>\n",
       "    <tr>\n",
       "      <th>4</th>\n",
       "      <td>3000.0</td>\n",
       "      <td>60 months</td>\n",
       "      <td>12.69%</td>\n",
       "      <td>67.79</td>\n",
       "      <td>B</td>\n",
       "      <td>B5</td>\n",
       "      <td>University Medical Group</td>\n",
       "      <td>1 year</td>\n",
       "      <td>RENT</td>\n",
       "      <td>80000.0</td>\n",
       "      <td>Source Verified</td>\n",
       "      <td>Dec-2011</td>\n",
       "      <td>Fully Paid</td>\n",
       "      <td>n</td>\n",
       "      <td>other</td>\n",
       "      <td>972xx</td>\n",
       "      <td>OR</td>\n",
       "      <td>17.94</td>\n",
       "      <td>0.0</td>\n",
       "      <td>Jan-1996</td>\n",
       "      <td>695.0</td>\n",
       "      <td>699.0</td>\n",
       "      <td>0.0</td>\n",
       "      <td>15.0</td>\n",
       "      <td>0.0</td>\n",
       "      <td>27783.0</td>\n",
       "      <td>53.9%</td>\n",
       "      <td>38.0</td>\n",
       "      <td>1.0</td>\n",
       "      <td>Individual</td>\n",
       "      <td>0.0</td>\n",
       "      <td>0.0</td>\n",
       "      <td>0.0</td>\n",
       "      <td>N</td>\n",
       "      <td>Cash</td>\n",
       "    </tr>\n",
       "  </tbody>\n",
       "</table>\n",
       "</div>"
      ],
      "text/plain": [
       "   loan_amnt        term int_rate  installment grade sub_grade  \\\n",
       "0     5000.0   36 months   10.65%       162.87     B        B2   \n",
       "1     2500.0   60 months   15.27%        59.83     C        C4   \n",
       "2     2400.0   36 months   15.96%        84.33     C        C5   \n",
       "3    10000.0   36 months   13.49%       339.31     C        C1   \n",
       "4     3000.0   60 months   12.69%        67.79     B        B5   \n",
       "\n",
       "                  emp_title emp_length home_ownership  annual_inc  \\\n",
       "0                       NaN  10+ years           RENT     24000.0   \n",
       "1                     Ryder   < 1 year           RENT     30000.0   \n",
       "2                       NaN  10+ years           RENT     12252.0   \n",
       "3       AIR RESOURCES BOARD  10+ years           RENT     49200.0   \n",
       "4  University Medical Group     1 year           RENT     80000.0   \n",
       "\n",
       "  verification_status   issue_d  loan_status pymnt_plan         purpose  \\\n",
       "0            Verified  Dec-2011   Fully Paid          n     credit_card   \n",
       "1     Source Verified  Dec-2011  Charged Off          n             car   \n",
       "2        Not Verified  Dec-2011   Fully Paid          n  small_business   \n",
       "3     Source Verified  Dec-2011   Fully Paid          n           other   \n",
       "4     Source Verified  Dec-2011   Fully Paid          n           other   \n",
       "\n",
       "  zip_code addr_state    dti  delinq_2yrs earliest_cr_line  fico_range_low  \\\n",
       "0    860xx         AZ  27.65          0.0         Jan-1985           735.0   \n",
       "1    309xx         GA   1.00          0.0         Apr-1999           740.0   \n",
       "2    606xx         IL   8.72          0.0         Nov-2001           735.0   \n",
       "3    917xx         CA  20.00          0.0         Feb-1996           690.0   \n",
       "4    972xx         OR  17.94          0.0         Jan-1996           695.0   \n",
       "\n",
       "   fico_range_high  inq_last_6mths  open_acc  pub_rec  revol_bal revol_util  \\\n",
       "0            739.0             1.0       3.0      0.0    13648.0      83.7%   \n",
       "1            744.0             5.0       3.0      0.0     1687.0       9.4%   \n",
       "2            739.0             2.0       2.0      0.0     2956.0      98.5%   \n",
       "3            694.0             1.0      10.0      0.0     5598.0        21%   \n",
       "4            699.0             0.0      15.0      0.0    27783.0      53.9%   \n",
       "\n",
       "   total_acc  policy_code application_type  acc_now_delinq  \\\n",
       "0        9.0          1.0       Individual             0.0   \n",
       "1        4.0          1.0       Individual             0.0   \n",
       "2       10.0          1.0       Individual             0.0   \n",
       "3       37.0          1.0       Individual             0.0   \n",
       "4       38.0          1.0       Individual             0.0   \n",
       "\n",
       "   pub_rec_bankruptcies  tax_liens hardship_flag disbursement_method  \n",
       "0                   0.0        0.0             N                Cash  \n",
       "1                   0.0        0.0             N                Cash  \n",
       "2                   0.0        0.0             N                Cash  \n",
       "3                   0.0        0.0             N                Cash  \n",
       "4                   0.0        0.0             N                Cash  "
      ]
     },
     "execution_count": 24,
     "metadata": {},
     "output_type": "execute_result"
    }
   ],
   "source": [
    "pd.set_option(\"display.max_columns\", None)\n",
    "\n",
    "df.head()"
   ]
  },
  {
   "cell_type": "markdown",
   "id": "49c1d36d",
   "metadata": {},
   "source": [
    "At first glance, some of the columns appear to be questionable. It should be checked whether their values are unique and whether they are suitable for analysis. Doubts arise with the following pairs: 'grade' - 'sub_grade', 'addr_state' - 'zip_code', as well as 'emp_title' and after reviewing the data: 'dibursement_method', 'policy_code', 'acc_now_delinq', 'tax_liens', 'hardship_flag', 'pymnt_plan' and 'application_type'."
   ]
  },
  {
   "cell_type": "code",
   "execution_count": 25,
   "id": "6c5b101d",
   "metadata": {},
   "outputs": [
    {
     "data": {
      "text/plain": [
       "B    12035\n",
       "A    10085\n",
       "C     8111\n",
       "D     5325\n",
       "E     2858\n",
       "F     1054\n",
       "G      318\n",
       "Name: grade, dtype: int64"
      ]
     },
     "execution_count": 25,
     "metadata": {},
     "output_type": "execute_result"
    }
   ],
   "source": [
    "# Checking the 'grade' - 'sub_grade' pair. Both variables seem to be similar.\n",
    "\n",
    "df['grade'].value_counts(dropna=False)"
   ]
  },
  {
   "cell_type": "code",
   "execution_count": 26,
   "id": "ecf20e3a",
   "metadata": {},
   "outputs": [
    {
     "data": {
      "text/plain": [
       "B3    2924\n",
       "A4    2886\n",
       "A5    2742\n",
       "B5    2709\n",
       "B4    2514\n",
       "C1    2142\n",
       "B2    2058\n",
       "C2    2014\n",
       "B1    1830\n",
       "A3    1810\n",
       "C3    1529\n",
       "A2    1508\n",
       "D2    1352\n",
       "C4    1238\n",
       "C5    1188\n",
       "D3    1178\n",
       "A1    1139\n",
       "D4     986\n",
       "D1     931\n",
       "D5     878\n",
       "E1     768\n",
       "E2     659\n",
       "E3     556\n",
       "E4     455\n",
       "E5     420\n",
       "F1     329\n",
       "F2     251\n",
       "F3     187\n",
       "F4     169\n",
       "F5     118\n",
       "G1     105\n",
       "G2      78\n",
       "G4      56\n",
       "G3      49\n",
       "G5      30\n",
       "Name: sub_grade, dtype: int64"
      ]
     },
     "execution_count": 26,
     "metadata": {},
     "output_type": "execute_result"
    }
   ],
   "source": [
    "df['sub_grade'].value_counts(dropna=False)"
   ]
  },
  {
   "cell_type": "markdown",
   "id": "39286a36",
   "metadata": {},
   "source": [
    "The 'grade' variable is split into 'sub_grade' variables, which makes them more specific. Therefore, the variable 'grade' was dropped and 'sub_grade' was remained."
   ]
  },
  {
   "cell_type": "code",
   "execution_count": 27,
   "id": "9094f712",
   "metadata": {},
   "outputs": [],
   "source": [
    "df.drop('grade', axis=1, inplace=True)"
   ]
  },
  {
   "cell_type": "code",
   "execution_count": 28,
   "id": "1f29c89f",
   "metadata": {},
   "outputs": [
    {
     "data": {
      "text/plain": [
       "CA    7105\n",
       "NY    3817\n",
       "FL    2872\n",
       "TX    2734\n",
       "NJ    1855\n",
       "IL    1525\n",
       "PA    1519\n",
       "VA    1408\n",
       "GA    1399\n",
       "MA    1344\n",
       "OH    1226\n",
       "MD    1055\n",
       "AZ     882\n",
       "WA     842\n",
       "CO     792\n",
       "NC     789\n",
       "CT     754\n",
       "MI     722\n",
       "MO     686\n",
       "MN     616\n",
       "NV     498\n",
       "SC     472\n",
       "WI     460\n",
       "AL     452\n",
       "OR     451\n",
       "LA     436\n",
       "KY     327\n",
       "OK     300\n",
       "KS     272\n",
       "UT     259\n",
       "AR     246\n",
       "DC     214\n",
       "RI     199\n",
       "NM     190\n",
       "WV     177\n",
       "HI     174\n",
       "NH     172\n",
       "DE     114\n",
       "MT      85\n",
       "WY      83\n",
       "AK      81\n",
       "SD      64\n",
       "VT      54\n",
       "MS      19\n",
       "TN      17\n",
       "IN       9\n",
       "ID       6\n",
       "IA       5\n",
       "NE       5\n",
       "ME       3\n",
       "Name: addr_state, dtype: int64"
      ]
     },
     "execution_count": 28,
     "metadata": {},
     "output_type": "execute_result"
    }
   ],
   "source": [
    "# Checking the 'addr_state' - 'zip_code' pair. Both variables seem to be similar.\n",
    "\n",
    "df['addr_state'].value_counts(dropna=False)"
   ]
  },
  {
   "cell_type": "code",
   "execution_count": 29,
   "id": "6ecf1f61",
   "metadata": {},
   "outputs": [
    {
     "data": {
      "text/plain": [
       "count     39786\n",
       "unique       50\n",
       "top          CA\n",
       "freq       7105\n",
       "Name: addr_state, dtype: object"
      ]
     },
     "execution_count": 29,
     "metadata": {},
     "output_type": "execute_result"
    }
   ],
   "source": [
    "df['addr_state'].describe()"
   ]
  },
  {
   "cell_type": "code",
   "execution_count": 30,
   "id": "bcba724f",
   "metadata": {},
   "outputs": [
    {
     "data": {
      "text/plain": [
       "100xx    597\n",
       "945xx    546\n",
       "112xx    517\n",
       "606xx    503\n",
       "070xx    473\n",
       "        ... \n",
       "381xx      1\n",
       "471xx      1\n",
       "378xx      1\n",
       "739xx      1\n",
       "469xx      1\n",
       "Name: zip_code, Length: 823, dtype: int64"
      ]
     },
     "execution_count": 30,
     "metadata": {},
     "output_type": "execute_result"
    }
   ],
   "source": [
    "df['zip_code'].value_counts(dropna=False)"
   ]
  },
  {
   "cell_type": "code",
   "execution_count": 31,
   "id": "21589805",
   "metadata": {},
   "outputs": [
    {
     "data": {
      "text/plain": [
       "count     39786\n",
       "unique      823\n",
       "top       100xx\n",
       "freq        597\n",
       "Name: zip_code, dtype: object"
      ]
     },
     "execution_count": 31,
     "metadata": {},
     "output_type": "execute_result"
    }
   ],
   "source": [
    "df['zip_code'].describe()"
   ]
  },
  {
   "cell_type": "markdown",
   "id": "ef7dd607",
   "metadata": {},
   "source": [
    "The 'addr_state' variable specifies the customer's origin from 1 of 51 states in the US. Despite the many repetitions, the 'zip_code' variable is unique, but it is quite confusing due to its multitude of possibilities. The 'addr_state' variable is more readable and easier to handle. For this reason, the 'zip_code' variable has been dropped."
   ]
  },
  {
   "cell_type": "code",
   "execution_count": 32,
   "id": "dc8eba19",
   "metadata": {},
   "outputs": [],
   "source": [
    "df.drop('zip_code', axis=1, inplace=True)"
   ]
  },
  {
   "cell_type": "markdown",
   "id": "4e5e004e",
   "metadata": {},
   "source": [
    "At first glance, the following variables on the DataFrame do not seem unique."
   ]
  },
  {
   "cell_type": "code",
   "execution_count": 33,
   "id": "aad0db8e",
   "metadata": {},
   "outputs": [
    {
     "data": {
      "text/plain": [
       "Cash    39786\n",
       "Name: disbursement_method, dtype: int64"
      ]
     },
     "execution_count": 33,
     "metadata": {},
     "output_type": "execute_result"
    }
   ],
   "source": [
    "# Checking 'disbursement_method'\n",
    "\n",
    "df['disbursement_method'].value_counts(dropna=False)"
   ]
  },
  {
   "cell_type": "code",
   "execution_count": 34,
   "id": "4654db0f",
   "metadata": {},
   "outputs": [],
   "source": [
    "df.drop('disbursement_method', axis=1, inplace=True)"
   ]
  },
  {
   "cell_type": "markdown",
   "id": "13b9ee38",
   "metadata": {},
   "source": [
    "According to the LC Data Dictionary, 'disbursement_method' stands for: The method by which the borrower receives their loan. Possible values are: CASH, DIRECT_PAY. There is only CASH in the DataFrame, which does not make the values in this column unique. The column is rejected."
   ]
  },
  {
   "cell_type": "code",
   "execution_count": 35,
   "id": "f8dd4030",
   "metadata": {},
   "outputs": [
    {
     "data": {
      "text/plain": [
       "NaN                              2467\n",
       "US Army                           134\n",
       "Bank of America                   109\n",
       "IBM                                66\n",
       "AT&T                               60\n",
       "                                 ... \n",
       "duncan tire co                      1\n",
       "Bright House Networks               1\n",
       "Florida Power & Light Company       1\n",
       "Telefutura Net                      1\n",
       "Evergreen Center                    1\n",
       "Name: emp_title, Length: 28863, dtype: int64"
      ]
     },
     "execution_count": 35,
     "metadata": {},
     "output_type": "execute_result"
    }
   ],
   "source": [
    "# Checking 'emp_title'.\n",
    "\n",
    "df['emp_title'].value_counts(dropna=False)"
   ]
  },
  {
   "cell_type": "code",
   "execution_count": 36,
   "id": "56f008de",
   "metadata": {},
   "outputs": [
    {
     "data": {
      "text/plain": [
       "count       37319\n",
       "unique      28862\n",
       "top       US Army\n",
       "freq          134\n",
       "Name: emp_title, dtype: object"
      ]
     },
     "execution_count": 36,
     "metadata": {},
     "output_type": "execute_result"
    }
   ],
   "source": [
    "df['emp_title'].describe()"
   ]
  },
  {
   "cell_type": "code",
   "execution_count": 37,
   "id": "a80e1e19",
   "metadata": {},
   "outputs": [
    {
     "data": {
      "text/plain": [
       "<bound method Series.unique of 0                               NaN\n",
       "1                             Ryder\n",
       "2                               NaN\n",
       "3               AIR RESOURCES BOARD\n",
       "4          University Medical Group\n",
       "                    ...            \n",
       "39781               FiSite Research\n",
       "39782    Squarewave Solutions, Ltd.\n",
       "39783                           NaN\n",
       "39784                           NaN\n",
       "39785              Evergreen Center\n",
       "Name: emp_title, Length: 39786, dtype: object>"
      ]
     },
     "execution_count": 37,
     "metadata": {},
     "output_type": "execute_result"
    }
   ],
   "source": [
    "df.emp_title.unique"
   ]
  },
  {
   "cell_type": "markdown",
   "id": "d5b02d7a",
   "metadata": {},
   "source": [
    "There are to many unique job titles, so this column is not useful. The column is rejected."
   ]
  },
  {
   "cell_type": "code",
   "execution_count": 38,
   "id": "e408718a",
   "metadata": {},
   "outputs": [],
   "source": [
    "df.drop('emp_title', axis=1, inplace=True)"
   ]
  },
  {
   "cell_type": "code",
   "execution_count": 39,
   "id": "63f845bd",
   "metadata": {},
   "outputs": [
    {
     "data": {
      "text/plain": [
       "1.0    39786\n",
       "Name: policy_code, dtype: int64"
      ]
     },
     "execution_count": 39,
     "metadata": {},
     "output_type": "execute_result"
    }
   ],
   "source": [
    "# Checking the column 'policy_code'.\n",
    "\n",
    "df['policy_code'].value_counts(dropna=False)"
   ]
  },
  {
   "cell_type": "markdown",
   "id": "f9463ebf",
   "metadata": {},
   "source": [
    "There is only one value in the 'policy_code' column, which also prevents it from being included in the analysis. The column is rejected."
   ]
  },
  {
   "cell_type": "code",
   "execution_count": 40,
   "id": "9f084bf7",
   "metadata": {},
   "outputs": [],
   "source": [
    "df.drop('policy_code', axis=1, inplace=True)"
   ]
  },
  {
   "cell_type": "markdown",
   "id": "8d1c40e3",
   "metadata": {},
   "source": [
    "The column 'acc_now_delinq' means The number of accounts on which the borrower is now delinquent. The column is checked because only the same values can be seen at a glance. "
   ]
  },
  {
   "cell_type": "code",
   "execution_count": 41,
   "id": "900ab485",
   "metadata": {},
   "outputs": [
    {
     "data": {
      "text/plain": [
       "0.0    39786\n",
       "Name: acc_now_delinq, dtype: int64"
      ]
     },
     "execution_count": 41,
     "metadata": {},
     "output_type": "execute_result"
    }
   ],
   "source": [
    "df['acc_now_delinq'].value_counts(dropna=False)"
   ]
  },
  {
   "cell_type": "markdown",
   "id": "d8d37dad",
   "metadata": {},
   "source": [
    "This column is rejected because of only one value (all the borrowers did not have delinquent when they took out the loan)."
   ]
  },
  {
   "cell_type": "code",
   "execution_count": 42,
   "id": "4ac318e5",
   "metadata": {},
   "outputs": [],
   "source": [
    "df.drop('acc_now_delinq', axis=1, inplace=True)"
   ]
  },
  {
   "cell_type": "markdown",
   "id": "3a29ecee",
   "metadata": {},
   "source": [
    "The column 'tax_liens' is also checked because only the same values can be seen at a glance."
   ]
  },
  {
   "cell_type": "code",
   "execution_count": 43,
   "id": "e41fd922",
   "metadata": {},
   "outputs": [
    {
     "data": {
      "text/plain": [
       "0.0    39747\n",
       "NaN       39\n",
       "Name: tax_liens, dtype: int64"
      ]
     },
     "execution_count": 43,
     "metadata": {},
     "output_type": "execute_result"
    }
   ],
   "source": [
    "df['tax_liens'].value_counts(dropna=False)"
   ]
  },
  {
   "cell_type": "markdown",
   "id": "a2fae119",
   "metadata": {},
   "source": [
    "Borrowers have no tax liens or there is no information about it. This column is also rejected."
   ]
  },
  {
   "cell_type": "code",
   "execution_count": 44,
   "id": "194723d0",
   "metadata": {},
   "outputs": [],
   "source": [
    "df.drop('tax_liens', axis=1, inplace=True)"
   ]
  },
  {
   "cell_type": "markdown",
   "id": "6d28823c",
   "metadata": {},
   "source": [
    "The questionable column is 'hardship_flag'.  "
   ]
  },
  {
   "cell_type": "code",
   "execution_count": 45,
   "id": "393dc107",
   "metadata": {},
   "outputs": [
    {
     "data": {
      "text/plain": [
       "N    39786\n",
       "Name: hardship_flag, dtype: int64"
      ]
     },
     "execution_count": 45,
     "metadata": {},
     "output_type": "execute_result"
    }
   ],
   "source": [
    "df['hardship_flag'].value_counts(dropna=False)"
   ]
  },
  {
   "cell_type": "markdown",
   "id": "d5ecbe37",
   "metadata": {},
   "source": [
    "Neither borrower is included in the hardship plan. This column is also rejected."
   ]
  },
  {
   "cell_type": "code",
   "execution_count": 46,
   "id": "d763e0dc",
   "metadata": {},
   "outputs": [],
   "source": [
    "df.drop('hardship_flag', axis=1, inplace=True)"
   ]
  },
  {
   "cell_type": "markdown",
   "id": "e56d91a9",
   "metadata": {},
   "source": [
    "Checking the column 'pymnt_plan'."
   ]
  },
  {
   "cell_type": "code",
   "execution_count": 47,
   "id": "ae9a23bb",
   "metadata": {},
   "outputs": [
    {
     "data": {
      "text/plain": [
       "n    39786\n",
       "Name: pymnt_plan, dtype: int64"
      ]
     },
     "execution_count": 47,
     "metadata": {},
     "output_type": "execute_result"
    }
   ],
   "source": [
    "df['pymnt_plan'].value_counts(dropna=False)"
   ]
  },
  {
   "cell_type": "markdown",
   "id": "7915722d",
   "metadata": {},
   "source": [
    "This column represent only one value. This column is also rejected."
   ]
  },
  {
   "cell_type": "code",
   "execution_count": 48,
   "id": "4c806e4c",
   "metadata": {},
   "outputs": [],
   "source": [
    "df.drop('pymnt_plan', axis=1, inplace=True)"
   ]
  },
  {
   "cell_type": "markdown",
   "id": "46631d8c",
   "metadata": {},
   "source": [
    "The last questionable column is 'application_type'."
   ]
  },
  {
   "cell_type": "code",
   "execution_count": 49,
   "id": "f5a18fb2",
   "metadata": {},
   "outputs": [
    {
     "data": {
      "text/plain": [
       "Individual    39786\n",
       "Name: application_type, dtype: int64"
      ]
     },
     "execution_count": 49,
     "metadata": {},
     "output_type": "execute_result"
    }
   ],
   "source": [
    "df['application_type'].value_counts(dropna=False)"
   ]
  },
  {
   "cell_type": "markdown",
   "id": "653db261",
   "metadata": {},
   "source": [
    "The column 'application_type' is also rejected."
   ]
  },
  {
   "cell_type": "code",
   "execution_count": 50,
   "id": "6a7c40cf",
   "metadata": {},
   "outputs": [],
   "source": [
    "df.drop('application_type', axis=1, inplace=True)"
   ]
  },
  {
   "cell_type": "code",
   "execution_count": 51,
   "id": "d66a0d85",
   "metadata": {},
   "outputs": [
    {
     "data": {
      "text/plain": [
       "(39786, 25)"
      ]
     },
     "execution_count": 51,
     "metadata": {},
     "output_type": "execute_result"
    }
   ],
   "source": [
    "# Checking the new shape of DataFrame\n",
    "\n",
    "df.shape"
   ]
  },
  {
   "cell_type": "code",
   "execution_count": 52,
   "id": "af9505f7",
   "metadata": {},
   "outputs": [
    {
     "data": {
      "text/html": [
       "<div>\n",
       "<style scoped>\n",
       "    .dataframe tbody tr th:only-of-type {\n",
       "        vertical-align: middle;\n",
       "    }\n",
       "\n",
       "    .dataframe tbody tr th {\n",
       "        vertical-align: top;\n",
       "    }\n",
       "\n",
       "    .dataframe thead th {\n",
       "        text-align: right;\n",
       "    }\n",
       "</style>\n",
       "<table border=\"1\" class=\"dataframe\">\n",
       "  <thead>\n",
       "    <tr style=\"text-align: right;\">\n",
       "      <th></th>\n",
       "      <th>loan_amnt</th>\n",
       "      <th>term</th>\n",
       "      <th>int_rate</th>\n",
       "      <th>installment</th>\n",
       "      <th>sub_grade</th>\n",
       "      <th>emp_length</th>\n",
       "      <th>home_ownership</th>\n",
       "      <th>annual_inc</th>\n",
       "      <th>verification_status</th>\n",
       "      <th>issue_d</th>\n",
       "      <th>loan_status</th>\n",
       "      <th>purpose</th>\n",
       "      <th>addr_state</th>\n",
       "      <th>dti</th>\n",
       "      <th>delinq_2yrs</th>\n",
       "      <th>earliest_cr_line</th>\n",
       "      <th>fico_range_low</th>\n",
       "      <th>fico_range_high</th>\n",
       "      <th>inq_last_6mths</th>\n",
       "      <th>open_acc</th>\n",
       "      <th>pub_rec</th>\n",
       "      <th>revol_bal</th>\n",
       "      <th>revol_util</th>\n",
       "      <th>total_acc</th>\n",
       "      <th>pub_rec_bankruptcies</th>\n",
       "    </tr>\n",
       "  </thead>\n",
       "  <tbody>\n",
       "    <tr>\n",
       "      <th>0</th>\n",
       "      <td>5000.0</td>\n",
       "      <td>36 months</td>\n",
       "      <td>10.65%</td>\n",
       "      <td>162.87</td>\n",
       "      <td>B2</td>\n",
       "      <td>10+ years</td>\n",
       "      <td>RENT</td>\n",
       "      <td>24000.0</td>\n",
       "      <td>Verified</td>\n",
       "      <td>Dec-2011</td>\n",
       "      <td>Fully Paid</td>\n",
       "      <td>credit_card</td>\n",
       "      <td>AZ</td>\n",
       "      <td>27.65</td>\n",
       "      <td>0.0</td>\n",
       "      <td>Jan-1985</td>\n",
       "      <td>735.0</td>\n",
       "      <td>739.0</td>\n",
       "      <td>1.0</td>\n",
       "      <td>3.0</td>\n",
       "      <td>0.0</td>\n",
       "      <td>13648.0</td>\n",
       "      <td>83.7%</td>\n",
       "      <td>9.0</td>\n",
       "      <td>0.0</td>\n",
       "    </tr>\n",
       "    <tr>\n",
       "      <th>1</th>\n",
       "      <td>2500.0</td>\n",
       "      <td>60 months</td>\n",
       "      <td>15.27%</td>\n",
       "      <td>59.83</td>\n",
       "      <td>C4</td>\n",
       "      <td>&lt; 1 year</td>\n",
       "      <td>RENT</td>\n",
       "      <td>30000.0</td>\n",
       "      <td>Source Verified</td>\n",
       "      <td>Dec-2011</td>\n",
       "      <td>Charged Off</td>\n",
       "      <td>car</td>\n",
       "      <td>GA</td>\n",
       "      <td>1.00</td>\n",
       "      <td>0.0</td>\n",
       "      <td>Apr-1999</td>\n",
       "      <td>740.0</td>\n",
       "      <td>744.0</td>\n",
       "      <td>5.0</td>\n",
       "      <td>3.0</td>\n",
       "      <td>0.0</td>\n",
       "      <td>1687.0</td>\n",
       "      <td>9.4%</td>\n",
       "      <td>4.0</td>\n",
       "      <td>0.0</td>\n",
       "    </tr>\n",
       "    <tr>\n",
       "      <th>2</th>\n",
       "      <td>2400.0</td>\n",
       "      <td>36 months</td>\n",
       "      <td>15.96%</td>\n",
       "      <td>84.33</td>\n",
       "      <td>C5</td>\n",
       "      <td>10+ years</td>\n",
       "      <td>RENT</td>\n",
       "      <td>12252.0</td>\n",
       "      <td>Not Verified</td>\n",
       "      <td>Dec-2011</td>\n",
       "      <td>Fully Paid</td>\n",
       "      <td>small_business</td>\n",
       "      <td>IL</td>\n",
       "      <td>8.72</td>\n",
       "      <td>0.0</td>\n",
       "      <td>Nov-2001</td>\n",
       "      <td>735.0</td>\n",
       "      <td>739.0</td>\n",
       "      <td>2.0</td>\n",
       "      <td>2.0</td>\n",
       "      <td>0.0</td>\n",
       "      <td>2956.0</td>\n",
       "      <td>98.5%</td>\n",
       "      <td>10.0</td>\n",
       "      <td>0.0</td>\n",
       "    </tr>\n",
       "    <tr>\n",
       "      <th>3</th>\n",
       "      <td>10000.0</td>\n",
       "      <td>36 months</td>\n",
       "      <td>13.49%</td>\n",
       "      <td>339.31</td>\n",
       "      <td>C1</td>\n",
       "      <td>10+ years</td>\n",
       "      <td>RENT</td>\n",
       "      <td>49200.0</td>\n",
       "      <td>Source Verified</td>\n",
       "      <td>Dec-2011</td>\n",
       "      <td>Fully Paid</td>\n",
       "      <td>other</td>\n",
       "      <td>CA</td>\n",
       "      <td>20.00</td>\n",
       "      <td>0.0</td>\n",
       "      <td>Feb-1996</td>\n",
       "      <td>690.0</td>\n",
       "      <td>694.0</td>\n",
       "      <td>1.0</td>\n",
       "      <td>10.0</td>\n",
       "      <td>0.0</td>\n",
       "      <td>5598.0</td>\n",
       "      <td>21%</td>\n",
       "      <td>37.0</td>\n",
       "      <td>0.0</td>\n",
       "    </tr>\n",
       "    <tr>\n",
       "      <th>4</th>\n",
       "      <td>3000.0</td>\n",
       "      <td>60 months</td>\n",
       "      <td>12.69%</td>\n",
       "      <td>67.79</td>\n",
       "      <td>B5</td>\n",
       "      <td>1 year</td>\n",
       "      <td>RENT</td>\n",
       "      <td>80000.0</td>\n",
       "      <td>Source Verified</td>\n",
       "      <td>Dec-2011</td>\n",
       "      <td>Fully Paid</td>\n",
       "      <td>other</td>\n",
       "      <td>OR</td>\n",
       "      <td>17.94</td>\n",
       "      <td>0.0</td>\n",
       "      <td>Jan-1996</td>\n",
       "      <td>695.0</td>\n",
       "      <td>699.0</td>\n",
       "      <td>0.0</td>\n",
       "      <td>15.0</td>\n",
       "      <td>0.0</td>\n",
       "      <td>27783.0</td>\n",
       "      <td>53.9%</td>\n",
       "      <td>38.0</td>\n",
       "      <td>0.0</td>\n",
       "    </tr>\n",
       "  </tbody>\n",
       "</table>\n",
       "</div>"
      ],
      "text/plain": [
       "   loan_amnt        term int_rate  installment sub_grade emp_length  \\\n",
       "0     5000.0   36 months   10.65%       162.87        B2  10+ years   \n",
       "1     2500.0   60 months   15.27%        59.83        C4   < 1 year   \n",
       "2     2400.0   36 months   15.96%        84.33        C5  10+ years   \n",
       "3    10000.0   36 months   13.49%       339.31        C1  10+ years   \n",
       "4     3000.0   60 months   12.69%        67.79        B5     1 year   \n",
       "\n",
       "  home_ownership  annual_inc verification_status   issue_d  loan_status  \\\n",
       "0           RENT     24000.0            Verified  Dec-2011   Fully Paid   \n",
       "1           RENT     30000.0     Source Verified  Dec-2011  Charged Off   \n",
       "2           RENT     12252.0        Not Verified  Dec-2011   Fully Paid   \n",
       "3           RENT     49200.0     Source Verified  Dec-2011   Fully Paid   \n",
       "4           RENT     80000.0     Source Verified  Dec-2011   Fully Paid   \n",
       "\n",
       "          purpose addr_state    dti  delinq_2yrs earliest_cr_line  \\\n",
       "0     credit_card         AZ  27.65          0.0         Jan-1985   \n",
       "1             car         GA   1.00          0.0         Apr-1999   \n",
       "2  small_business         IL   8.72          0.0         Nov-2001   \n",
       "3           other         CA  20.00          0.0         Feb-1996   \n",
       "4           other         OR  17.94          0.0         Jan-1996   \n",
       "\n",
       "   fico_range_low  fico_range_high  inq_last_6mths  open_acc  pub_rec  \\\n",
       "0           735.0            739.0             1.0       3.0      0.0   \n",
       "1           740.0            744.0             5.0       3.0      0.0   \n",
       "2           735.0            739.0             2.0       2.0      0.0   \n",
       "3           690.0            694.0             1.0      10.0      0.0   \n",
       "4           695.0            699.0             0.0      15.0      0.0   \n",
       "\n",
       "   revol_bal revol_util  total_acc  pub_rec_bankruptcies  \n",
       "0    13648.0      83.7%        9.0                   0.0  \n",
       "1     1687.0       9.4%        4.0                   0.0  \n",
       "2     2956.0      98.5%       10.0                   0.0  \n",
       "3     5598.0        21%       37.0                   0.0  \n",
       "4    27783.0      53.9%       38.0                   0.0  "
      ]
     },
     "execution_count": 52,
     "metadata": {},
     "output_type": "execute_result"
    }
   ],
   "source": [
    "df.head()"
   ]
  },
  {
   "cell_type": "code",
   "execution_count": 53,
   "id": "92eebf71",
   "metadata": {},
   "outputs": [
    {
     "name": "stdout",
     "output_type": "stream",
     "text": [
      "<class 'pandas.core.frame.DataFrame'>\n",
      "Int64Index: 39786 entries, 0 to 39785\n",
      "Data columns (total 25 columns):\n",
      " #   Column                Non-Null Count  Dtype  \n",
      "---  ------                --------------  -----  \n",
      " 0   loan_amnt             39786 non-null  float64\n",
      " 1   term                  39786 non-null  object \n",
      " 2   int_rate              39786 non-null  object \n",
      " 3   installment           39786 non-null  float64\n",
      " 4   sub_grade             39786 non-null  object \n",
      " 5   emp_length            38708 non-null  object \n",
      " 6   home_ownership        39786 non-null  object \n",
      " 7   annual_inc            39786 non-null  float64\n",
      " 8   verification_status   39786 non-null  object \n",
      " 9   issue_d               39786 non-null  object \n",
      " 10  loan_status           39786 non-null  object \n",
      " 11  purpose               39786 non-null  object \n",
      " 12  addr_state            39786 non-null  object \n",
      " 13  dti                   39786 non-null  float64\n",
      " 14  delinq_2yrs           39786 non-null  float64\n",
      " 15  earliest_cr_line      39786 non-null  object \n",
      " 16  fico_range_low        39786 non-null  float64\n",
      " 17  fico_range_high       39786 non-null  float64\n",
      " 18  inq_last_6mths        39786 non-null  float64\n",
      " 19  open_acc              39786 non-null  float64\n",
      " 20  pub_rec               39786 non-null  float64\n",
      " 21  revol_bal             39786 non-null  float64\n",
      " 22  revol_util            39736 non-null  object \n",
      " 23  total_acc             39786 non-null  float64\n",
      " 24  pub_rec_bankruptcies  39089 non-null  float64\n",
      "dtypes: float64(13), object(12)\n",
      "memory usage: 7.9+ MB\n"
     ]
    }
   ],
   "source": [
    "df.info()"
   ]
  },
  {
   "cell_type": "code",
   "execution_count": 54,
   "id": "5140f0c3",
   "metadata": {},
   "outputs": [],
   "source": [
    "# Converting objects to date time\n",
    "\n",
    "df[['issue_d', 'earliest_cr_line']] = df[['issue_d', 'earliest_cr_line']].apply(pd.to_datetime)"
   ]
  },
  {
   "cell_type": "code",
   "execution_count": 55,
   "id": "77c8404a",
   "metadata": {},
   "outputs": [],
   "source": [
    "# Converting some objects to float64\n",
    "\n",
    "df['int_rate'] = df['int_rate'].replace({'%': ''}, regex=True)\n",
    "df['int_rate'] = df['int_rate'].astype(float, errors = 'raise')\n",
    "\n",
    "df['revol_util'] = df['revol_util'].replace({'%': ''}, regex=True)\n",
    "df['revol_util'] = df['revol_util'].astype(float, errors = 'raise')\n",
    "\n",
    "df['term'] = df['term'].replace({'months': ''}, regex=True)\n",
    "df['term'] = df['term'].astype(float, errors = 'raise')"
   ]
  },
  {
   "cell_type": "code",
   "execution_count": 56,
   "id": "ed0e56f9",
   "metadata": {},
   "outputs": [],
   "source": [
    "df.emp_length.replace({'10+ years':'10 years','< 1 year':'0 years'},inplace=True)"
   ]
  },
  {
   "cell_type": "code",
   "execution_count": 57,
   "id": "fb4b8f08",
   "metadata": {},
   "outputs": [
    {
     "data": {
      "text/plain": [
       "10.0    8899\n",
       "0.0     4590\n",
       "2.0     4394\n",
       "3.0     4098\n",
       "4.0     3444\n",
       "5.0     3286\n",
       "1.0     3247\n",
       "6.0     2231\n",
       "7.0     1775\n",
       "8.0     1485\n",
       "9.0     1259\n",
       "NaN     1078\n",
       "Name: emp_length, dtype: int64"
      ]
     },
     "execution_count": 57,
     "metadata": {},
     "output_type": "execute_result"
    }
   ],
   "source": [
    "df['emp_length'] = df['emp_length'].replace({'years': '', 'year': ''}, regex=True)\n",
    "df['emp_length'] = df['emp_length'].astype(float, errors = 'raise')\n",
    "df['emp_length'].value_counts(dropna=False)"
   ]
  },
  {
   "cell_type": "code",
   "execution_count": 58,
   "id": "a8cfef36",
   "metadata": {},
   "outputs": [
    {
     "name": "stdout",
     "output_type": "stream",
     "text": [
      "<class 'pandas.core.frame.DataFrame'>\n",
      "Int64Index: 39786 entries, 0 to 39785\n",
      "Data columns (total 25 columns):\n",
      " #   Column                Non-Null Count  Dtype         \n",
      "---  ------                --------------  -----         \n",
      " 0   loan_amnt             39786 non-null  float64       \n",
      " 1   term                  39786 non-null  float64       \n",
      " 2   int_rate              39786 non-null  float64       \n",
      " 3   installment           39786 non-null  float64       \n",
      " 4   sub_grade             39786 non-null  object        \n",
      " 5   emp_length            38708 non-null  float64       \n",
      " 6   home_ownership        39786 non-null  object        \n",
      " 7   annual_inc            39786 non-null  float64       \n",
      " 8   verification_status   39786 non-null  object        \n",
      " 9   issue_d               39786 non-null  datetime64[ns]\n",
      " 10  loan_status           39786 non-null  object        \n",
      " 11  purpose               39786 non-null  object        \n",
      " 12  addr_state            39786 non-null  object        \n",
      " 13  dti                   39786 non-null  float64       \n",
      " 14  delinq_2yrs           39786 non-null  float64       \n",
      " 15  earliest_cr_line      39786 non-null  datetime64[ns]\n",
      " 16  fico_range_low        39786 non-null  float64       \n",
      " 17  fico_range_high       39786 non-null  float64       \n",
      " 18  inq_last_6mths        39786 non-null  float64       \n",
      " 19  open_acc              39786 non-null  float64       \n",
      " 20  pub_rec               39786 non-null  float64       \n",
      " 21  revol_bal             39786 non-null  float64       \n",
      " 22  revol_util            39736 non-null  float64       \n",
      " 23  total_acc             39786 non-null  float64       \n",
      " 24  pub_rec_bankruptcies  39089 non-null  float64       \n",
      "dtypes: datetime64[ns](2), float64(17), object(6)\n",
      "memory usage: 7.9+ MB\n"
     ]
    }
   ],
   "source": [
    "df.info()"
   ]
  },
  {
   "cell_type": "code",
   "execution_count": 59,
   "id": "99f1a134",
   "metadata": {},
   "outputs": [
    {
     "data": {
      "text/plain": [
       "1825"
      ]
     },
     "execution_count": 59,
     "metadata": {},
     "output_type": "execute_result"
    }
   ],
   "source": [
    "# Checking NaN values in columns\n",
    "\n",
    "df.isnull().sum().sum()"
   ]
  },
  {
   "cell_type": "code",
   "execution_count": 60,
   "id": "47604a1f",
   "metadata": {},
   "outputs": [
    {
     "data": {
      "text/plain": [
       "loan_amnt                  0\n",
       "term                       0\n",
       "int_rate                   0\n",
       "installment                0\n",
       "sub_grade                  0\n",
       "emp_length              1078\n",
       "home_ownership             0\n",
       "annual_inc                 0\n",
       "verification_status        0\n",
       "issue_d                    0\n",
       "loan_status                0\n",
       "purpose                    0\n",
       "addr_state                 0\n",
       "dti                        0\n",
       "delinq_2yrs                0\n",
       "earliest_cr_line           0\n",
       "fico_range_low             0\n",
       "fico_range_high            0\n",
       "inq_last_6mths             0\n",
       "open_acc                   0\n",
       "pub_rec                    0\n",
       "revol_bal                  0\n",
       "revol_util                50\n",
       "total_acc                  0\n",
       "pub_rec_bankruptcies     697\n",
       "dtype: int64"
      ]
     },
     "execution_count": 60,
     "metadata": {},
     "output_type": "execute_result"
    }
   ],
   "source": [
    "df.isnull().sum()"
   ]
  },
  {
   "cell_type": "code",
   "execution_count": 61,
   "id": "2cf48766",
   "metadata": {},
   "outputs": [
    {
     "data": {
      "text/html": [
       "<div>\n",
       "<style scoped>\n",
       "    .dataframe tbody tr th:only-of-type {\n",
       "        vertical-align: middle;\n",
       "    }\n",
       "\n",
       "    .dataframe tbody tr th {\n",
       "        vertical-align: top;\n",
       "    }\n",
       "\n",
       "    .dataframe thead th {\n",
       "        text-align: right;\n",
       "    }\n",
       "</style>\n",
       "<table border=\"1\" class=\"dataframe\">\n",
       "  <thead>\n",
       "    <tr style=\"text-align: right;\">\n",
       "      <th></th>\n",
       "      <th>% of NaN</th>\n",
       "    </tr>\n",
       "  </thead>\n",
       "  <tbody>\n",
       "    <tr>\n",
       "      <th>emp_length</th>\n",
       "      <td>2.709496</td>\n",
       "    </tr>\n",
       "    <tr>\n",
       "      <th>pub_rec_bankruptcies</th>\n",
       "      <td>1.751873</td>\n",
       "    </tr>\n",
       "    <tr>\n",
       "      <th>revol_util</th>\n",
       "      <td>0.125672</td>\n",
       "    </tr>\n",
       "  </tbody>\n",
       "</table>\n",
       "</div>"
      ],
      "text/plain": [
       "                      % of NaN\n",
       "emp_length            2.709496\n",
       "pub_rec_bankruptcies  1.751873\n",
       "revol_util            0.125672"
      ]
     },
     "execution_count": 61,
     "metadata": {},
     "output_type": "execute_result"
    }
   ],
   "source": [
    "# Percentage of NaN values in selected columns.\n",
    "\n",
    "a = (df.isnull().sum() / df.shape[0]) * 100\n",
    "b = a[a > 0.05]\n",
    "b = pd.DataFrame(b, columns = ['% of NaN'])\n",
    "b.sort_values(by = ['% of NaN'], ascending=False)"
   ]
  },
  {
   "cell_type": "code",
   "execution_count": 62,
   "id": "0457b7d5",
   "metadata": {},
   "outputs": [
    {
     "data": {
      "text/plain": [
       "0.0    37404\n",
       "1.0     1678\n",
       "NaN      697\n",
       "2.0        7\n",
       "Name: pub_rec_bankruptcies, dtype: int64"
      ]
     },
     "execution_count": 62,
     "metadata": {},
     "output_type": "execute_result"
    }
   ],
   "source": [
    "df['pub_rec_bankruptcies'].value_counts(dropna=False)"
   ]
  },
  {
   "cell_type": "markdown",
   "id": "669e3df7",
   "metadata": {},
   "source": [
    "It can be assumed that bankruptcies ('pub_rec_bankruptcies') should be recorded in the register. The NaN values represent 1.75% in this column. Therefore, they are included in the largest pool: borrowers with no record in the bankruptcy register. This should not affect significantly the analysis result."
   ]
  },
  {
   "cell_type": "code",
   "execution_count": 63,
   "id": "ae47c493",
   "metadata": {},
   "outputs": [],
   "source": [
    "df['pub_rec_bankruptcies'] = df['pub_rec_bankruptcies'].fillna(0)"
   ]
  },
  {
   "cell_type": "code",
   "execution_count": 64,
   "id": "82870ea9",
   "metadata": {},
   "outputs": [
    {
     "data": {
      "text/plain": [
       "0.0    38101\n",
       "1.0     1678\n",
       "2.0        7\n",
       "Name: pub_rec_bankruptcies, dtype: int64"
      ]
     },
     "execution_count": 64,
     "metadata": {},
     "output_type": "execute_result"
    }
   ],
   "source": [
    "df['pub_rec_bankruptcies'].value_counts(dropna=False)"
   ]
  },
  {
   "cell_type": "code",
   "execution_count": 65,
   "id": "2395e85f",
   "metadata": {},
   "outputs": [
    {
     "data": {
      "text/plain": [
       "0.00     980\n",
       "0.20      63\n",
       "63.00     62\n",
       "40.70     59\n",
       "66.70     58\n",
       "        ... \n",
       "25.74      1\n",
       "0.83       1\n",
       "47.36      1\n",
       "24.65      1\n",
       "7.28       1\n",
       "Name: revol_util, Length: 1090, dtype: int64"
      ]
     },
     "execution_count": 65,
     "metadata": {},
     "output_type": "execute_result"
    }
   ],
   "source": [
    "df['revol_util'].value_counts(dropna=False)"
   ]
  },
  {
   "cell_type": "code",
   "execution_count": 66,
   "id": "20ad5e94",
   "metadata": {},
   "outputs": [
    {
     "data": {
      "text/plain": [
       "count    39736.000000\n",
       "mean        48.858123\n",
       "std         28.336631\n",
       "min          0.000000\n",
       "25%         25.400000\n",
       "50%         49.300000\n",
       "75%         72.400000\n",
       "max         99.900000\n",
       "Name: revol_util, dtype: float64"
      ]
     },
     "execution_count": 66,
     "metadata": {},
     "output_type": "execute_result"
    }
   ],
   "source": [
    "df['revol_util'].describe()"
   ]
  },
  {
   "cell_type": "markdown",
   "id": "cafeb255",
   "metadata": {},
   "source": [
    "The NaN values in the column 'revol_util' are only 0.12%. These values will be included in the median of the results."
   ]
  },
  {
   "cell_type": "code",
   "execution_count": 67,
   "id": "67c06e6b",
   "metadata": {},
   "outputs": [],
   "source": [
    "df['revol_util'] = df['revol_util'].fillna(df['revol_util'].median())"
   ]
  },
  {
   "cell_type": "code",
   "execution_count": 68,
   "id": "862c90fe",
   "metadata": {},
   "outputs": [
    {
     "data": {
      "text/plain": [
       "10.0    8899\n",
       "0.0     4590\n",
       "2.0     4394\n",
       "3.0     4098\n",
       "4.0     3444\n",
       "5.0     3286\n",
       "1.0     3247\n",
       "6.0     2231\n",
       "7.0     1775\n",
       "8.0     1485\n",
       "9.0     1259\n",
       "NaN     1078\n",
       "Name: emp_length, dtype: int64"
      ]
     },
     "execution_count": 68,
     "metadata": {},
     "output_type": "execute_result"
    }
   ],
   "source": [
    "df['emp_length'].value_counts(dropna=False)"
   ]
  },
  {
   "cell_type": "markdown",
   "id": "bee8169e",
   "metadata": {},
   "source": [
    "The Nan values represent quite a lot percentage of the values in the 'emp_length' column (~2,5%). It might be a good idea to randomly distribute them among the values in the column, taking into account the frequency of occurrence. In this case, the fillna option (method = 'ffill') has been used, which has a similar result. NaN should be distributed according to the occurrence of the individual values."
   ]
  },
  {
   "cell_type": "code",
   "execution_count": 69,
   "id": "7beab5d8",
   "metadata": {},
   "outputs": [],
   "source": [
    "df['emp_length'].fillna(method='ffill', inplace=True)"
   ]
  },
  {
   "cell_type": "code",
   "execution_count": 70,
   "id": "0fbbc65a",
   "metadata": {},
   "outputs": [
    {
     "data": {
      "text/plain": [
       "10.0    9187\n",
       "0.0     4695\n",
       "2.0     4484\n",
       "3.0     4230\n",
       "4.0     3537\n",
       "5.0     3376\n",
       "1.0     3335\n",
       "6.0     2301\n",
       "7.0     1826\n",
       "8.0     1528\n",
       "9.0     1287\n",
       "Name: emp_length, dtype: int64"
      ]
     },
     "execution_count": 70,
     "metadata": {},
     "output_type": "execute_result"
    }
   ],
   "source": [
    "df['emp_length'].value_counts(dropna=False)"
   ]
  },
  {
   "cell_type": "code",
   "execution_count": 71,
   "id": "5b85539d",
   "metadata": {},
   "outputs": [
    {
     "data": {
      "text/html": [
       "<div>\n",
       "<style scoped>\n",
       "    .dataframe tbody tr th:only-of-type {\n",
       "        vertical-align: middle;\n",
       "    }\n",
       "\n",
       "    .dataframe tbody tr th {\n",
       "        vertical-align: top;\n",
       "    }\n",
       "\n",
       "    .dataframe thead th {\n",
       "        text-align: right;\n",
       "    }\n",
       "</style>\n",
       "<table border=\"1\" class=\"dataframe\">\n",
       "  <thead>\n",
       "    <tr style=\"text-align: right;\">\n",
       "      <th></th>\n",
       "      <th>loan_amnt</th>\n",
       "      <th>term</th>\n",
       "      <th>int_rate</th>\n",
       "      <th>installment</th>\n",
       "      <th>sub_grade</th>\n",
       "      <th>emp_length</th>\n",
       "      <th>home_ownership</th>\n",
       "      <th>annual_inc</th>\n",
       "      <th>verification_status</th>\n",
       "      <th>issue_d</th>\n",
       "      <th>loan_status</th>\n",
       "      <th>purpose</th>\n",
       "      <th>addr_state</th>\n",
       "      <th>dti</th>\n",
       "      <th>delinq_2yrs</th>\n",
       "      <th>earliest_cr_line</th>\n",
       "      <th>fico_range_low</th>\n",
       "      <th>fico_range_high</th>\n",
       "      <th>inq_last_6mths</th>\n",
       "      <th>open_acc</th>\n",
       "      <th>pub_rec</th>\n",
       "      <th>revol_bal</th>\n",
       "      <th>revol_util</th>\n",
       "      <th>total_acc</th>\n",
       "      <th>pub_rec_bankruptcies</th>\n",
       "    </tr>\n",
       "  </thead>\n",
       "  <tbody>\n",
       "    <tr>\n",
       "      <th>0</th>\n",
       "      <td>5000.0</td>\n",
       "      <td>36.0</td>\n",
       "      <td>10.65</td>\n",
       "      <td>162.87</td>\n",
       "      <td>B2</td>\n",
       "      <td>10.0</td>\n",
       "      <td>RENT</td>\n",
       "      <td>24000.0</td>\n",
       "      <td>Verified</td>\n",
       "      <td>2011-12-01</td>\n",
       "      <td>Fully Paid</td>\n",
       "      <td>credit_card</td>\n",
       "      <td>AZ</td>\n",
       "      <td>27.65</td>\n",
       "      <td>0.0</td>\n",
       "      <td>1985-01-01</td>\n",
       "      <td>735.0</td>\n",
       "      <td>739.0</td>\n",
       "      <td>1.0</td>\n",
       "      <td>3.0</td>\n",
       "      <td>0.0</td>\n",
       "      <td>13648.0</td>\n",
       "      <td>83.7</td>\n",
       "      <td>9.0</td>\n",
       "      <td>0.0</td>\n",
       "    </tr>\n",
       "    <tr>\n",
       "      <th>1</th>\n",
       "      <td>2500.0</td>\n",
       "      <td>60.0</td>\n",
       "      <td>15.27</td>\n",
       "      <td>59.83</td>\n",
       "      <td>C4</td>\n",
       "      <td>0.0</td>\n",
       "      <td>RENT</td>\n",
       "      <td>30000.0</td>\n",
       "      <td>Source Verified</td>\n",
       "      <td>2011-12-01</td>\n",
       "      <td>Charged Off</td>\n",
       "      <td>car</td>\n",
       "      <td>GA</td>\n",
       "      <td>1.00</td>\n",
       "      <td>0.0</td>\n",
       "      <td>1999-04-01</td>\n",
       "      <td>740.0</td>\n",
       "      <td>744.0</td>\n",
       "      <td>5.0</td>\n",
       "      <td>3.0</td>\n",
       "      <td>0.0</td>\n",
       "      <td>1687.0</td>\n",
       "      <td>9.4</td>\n",
       "      <td>4.0</td>\n",
       "      <td>0.0</td>\n",
       "    </tr>\n",
       "    <tr>\n",
       "      <th>2</th>\n",
       "      <td>2400.0</td>\n",
       "      <td>36.0</td>\n",
       "      <td>15.96</td>\n",
       "      <td>84.33</td>\n",
       "      <td>C5</td>\n",
       "      <td>10.0</td>\n",
       "      <td>RENT</td>\n",
       "      <td>12252.0</td>\n",
       "      <td>Not Verified</td>\n",
       "      <td>2011-12-01</td>\n",
       "      <td>Fully Paid</td>\n",
       "      <td>small_business</td>\n",
       "      <td>IL</td>\n",
       "      <td>8.72</td>\n",
       "      <td>0.0</td>\n",
       "      <td>2001-11-01</td>\n",
       "      <td>735.0</td>\n",
       "      <td>739.0</td>\n",
       "      <td>2.0</td>\n",
       "      <td>2.0</td>\n",
       "      <td>0.0</td>\n",
       "      <td>2956.0</td>\n",
       "      <td>98.5</td>\n",
       "      <td>10.0</td>\n",
       "      <td>0.0</td>\n",
       "    </tr>\n",
       "    <tr>\n",
       "      <th>3</th>\n",
       "      <td>10000.0</td>\n",
       "      <td>36.0</td>\n",
       "      <td>13.49</td>\n",
       "      <td>339.31</td>\n",
       "      <td>C1</td>\n",
       "      <td>10.0</td>\n",
       "      <td>RENT</td>\n",
       "      <td>49200.0</td>\n",
       "      <td>Source Verified</td>\n",
       "      <td>2011-12-01</td>\n",
       "      <td>Fully Paid</td>\n",
       "      <td>other</td>\n",
       "      <td>CA</td>\n",
       "      <td>20.00</td>\n",
       "      <td>0.0</td>\n",
       "      <td>1996-02-01</td>\n",
       "      <td>690.0</td>\n",
       "      <td>694.0</td>\n",
       "      <td>1.0</td>\n",
       "      <td>10.0</td>\n",
       "      <td>0.0</td>\n",
       "      <td>5598.0</td>\n",
       "      <td>21.0</td>\n",
       "      <td>37.0</td>\n",
       "      <td>0.0</td>\n",
       "    </tr>\n",
       "    <tr>\n",
       "      <th>4</th>\n",
       "      <td>3000.0</td>\n",
       "      <td>60.0</td>\n",
       "      <td>12.69</td>\n",
       "      <td>67.79</td>\n",
       "      <td>B5</td>\n",
       "      <td>1.0</td>\n",
       "      <td>RENT</td>\n",
       "      <td>80000.0</td>\n",
       "      <td>Source Verified</td>\n",
       "      <td>2011-12-01</td>\n",
       "      <td>Fully Paid</td>\n",
       "      <td>other</td>\n",
       "      <td>OR</td>\n",
       "      <td>17.94</td>\n",
       "      <td>0.0</td>\n",
       "      <td>1996-01-01</td>\n",
       "      <td>695.0</td>\n",
       "      <td>699.0</td>\n",
       "      <td>0.0</td>\n",
       "      <td>15.0</td>\n",
       "      <td>0.0</td>\n",
       "      <td>27783.0</td>\n",
       "      <td>53.9</td>\n",
       "      <td>38.0</td>\n",
       "      <td>0.0</td>\n",
       "    </tr>\n",
       "  </tbody>\n",
       "</table>\n",
       "</div>"
      ],
      "text/plain": [
       "   loan_amnt  term  int_rate  installment sub_grade  emp_length  \\\n",
       "0     5000.0  36.0     10.65       162.87        B2        10.0   \n",
       "1     2500.0  60.0     15.27        59.83        C4         0.0   \n",
       "2     2400.0  36.0     15.96        84.33        C5        10.0   \n",
       "3    10000.0  36.0     13.49       339.31        C1        10.0   \n",
       "4     3000.0  60.0     12.69        67.79        B5         1.0   \n",
       "\n",
       "  home_ownership  annual_inc verification_status    issue_d  loan_status  \\\n",
       "0           RENT     24000.0            Verified 2011-12-01   Fully Paid   \n",
       "1           RENT     30000.0     Source Verified 2011-12-01  Charged Off   \n",
       "2           RENT     12252.0        Not Verified 2011-12-01   Fully Paid   \n",
       "3           RENT     49200.0     Source Verified 2011-12-01   Fully Paid   \n",
       "4           RENT     80000.0     Source Verified 2011-12-01   Fully Paid   \n",
       "\n",
       "          purpose addr_state    dti  delinq_2yrs earliest_cr_line  \\\n",
       "0     credit_card         AZ  27.65          0.0       1985-01-01   \n",
       "1             car         GA   1.00          0.0       1999-04-01   \n",
       "2  small_business         IL   8.72          0.0       2001-11-01   \n",
       "3           other         CA  20.00          0.0       1996-02-01   \n",
       "4           other         OR  17.94          0.0       1996-01-01   \n",
       "\n",
       "   fico_range_low  fico_range_high  inq_last_6mths  open_acc  pub_rec  \\\n",
       "0           735.0            739.0             1.0       3.0      0.0   \n",
       "1           740.0            744.0             5.0       3.0      0.0   \n",
       "2           735.0            739.0             2.0       2.0      0.0   \n",
       "3           690.0            694.0             1.0      10.0      0.0   \n",
       "4           695.0            699.0             0.0      15.0      0.0   \n",
       "\n",
       "   revol_bal  revol_util  total_acc  pub_rec_bankruptcies  \n",
       "0    13648.0        83.7        9.0                   0.0  \n",
       "1     1687.0         9.4        4.0                   0.0  \n",
       "2     2956.0        98.5       10.0                   0.0  \n",
       "3     5598.0        21.0       37.0                   0.0  \n",
       "4    27783.0        53.9       38.0                   0.0  "
      ]
     },
     "execution_count": 71,
     "metadata": {},
     "output_type": "execute_result"
    }
   ],
   "source": [
    "# Showing the new DataFrame.\n",
    "\n",
    "pd.set_option(\"display.max_columns\", None)\n",
    "\n",
    "df.head()"
   ]
  },
  {
   "cell_type": "code",
   "execution_count": 72,
   "id": "7e3ed192",
   "metadata": {},
   "outputs": [],
   "source": [
    "# Exporting the new DataFrame to .csv file.\n",
    "\n",
    "df.to_csv('Part_1.csv', index = False)"
   ]
  }
 ],
 "metadata": {
  "kernelspec": {
   "display_name": "Python 3 (ipykernel)",
   "language": "python",
   "name": "python3"
  },
  "language_info": {
   "codemirror_mode": {
    "name": "ipython",
    "version": 3
   },
   "file_extension": ".py",
   "mimetype": "text/x-python",
   "name": "python",
   "nbconvert_exporter": "python",
   "pygments_lexer": "ipython3",
   "version": "3.9.13"
  }
 },
 "nbformat": 4,
 "nbformat_minor": 5
}
