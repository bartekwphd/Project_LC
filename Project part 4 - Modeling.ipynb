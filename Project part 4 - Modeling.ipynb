{
 "cells": [
  {
   "cell_type": "markdown",
   "id": "18e46fd8",
   "metadata": {},
   "source": [
    "# Part 4 - Modeling"
   ]
  },
  {
   "cell_type": "code",
   "execution_count": 1,
   "id": "42ea66cd",
   "metadata": {},
   "outputs": [],
   "source": [
    "# Load packages\n",
    "\n",
    "import numpy as np\n",
    "import pandas as pd\n",
    "import seaborn as sns\n",
    "import matplotlib.pyplot as plt"
   ]
  },
  {
   "cell_type": "code",
   "execution_count": 2,
   "id": "51d9edbe",
   "metadata": {},
   "outputs": [
    {
     "data": {
      "text/html": [
       "<div>\n",
       "<style scoped>\n",
       "    .dataframe tbody tr th:only-of-type {\n",
       "        vertical-align: middle;\n",
       "    }\n",
       "\n",
       "    .dataframe tbody tr th {\n",
       "        vertical-align: top;\n",
       "    }\n",
       "\n",
       "    .dataframe thead th {\n",
       "        text-align: right;\n",
       "    }\n",
       "</style>\n",
       "<table border=\"1\" class=\"dataframe\">\n",
       "  <thead>\n",
       "    <tr style=\"text-align: right;\">\n",
       "      <th></th>\n",
       "      <th>loan_status</th>\n",
       "      <th>loan_amnt</th>\n",
       "      <th>term</th>\n",
       "      <th>int_rate</th>\n",
       "      <th>installment</th>\n",
       "      <th>emp_length</th>\n",
       "      <th>annual_inc</th>\n",
       "      <th>dti</th>\n",
       "      <th>delinq_2yrs</th>\n",
       "      <th>inq_last_6mths</th>\n",
       "      <th>open_acc</th>\n",
       "      <th>pub_rec</th>\n",
       "      <th>revol_bal</th>\n",
       "      <th>revol_util</th>\n",
       "      <th>total_acc</th>\n",
       "      <th>pub_rec_bankruptcies</th>\n",
       "      <th>fico_score</th>\n",
       "      <th>fico_class</th>\n",
       "      <th>sub_grade_A1</th>\n",
       "      <th>sub_grade_A2</th>\n",
       "      <th>sub_grade_A3</th>\n",
       "      <th>sub_grade_A4</th>\n",
       "      <th>sub_grade_A5</th>\n",
       "      <th>sub_grade_B1</th>\n",
       "      <th>sub_grade_B2</th>\n",
       "      <th>sub_grade_B3</th>\n",
       "      <th>sub_grade_B4</th>\n",
       "      <th>sub_grade_B5</th>\n",
       "      <th>sub_grade_C1</th>\n",
       "      <th>sub_grade_C2</th>\n",
       "      <th>sub_grade_C3</th>\n",
       "      <th>sub_grade_C4</th>\n",
       "      <th>sub_grade_C5</th>\n",
       "      <th>sub_grade_D1</th>\n",
       "      <th>sub_grade_D2</th>\n",
       "      <th>sub_grade_D3</th>\n",
       "      <th>sub_grade_D4</th>\n",
       "      <th>sub_grade_D5</th>\n",
       "      <th>sub_grade_E1</th>\n",
       "      <th>sub_grade_E2</th>\n",
       "      <th>sub_grade_E3</th>\n",
       "      <th>sub_grade_E4</th>\n",
       "      <th>sub_grade_E5</th>\n",
       "      <th>sub_grade_F1</th>\n",
       "      <th>sub_grade_F2</th>\n",
       "      <th>sub_grade_F3</th>\n",
       "      <th>sub_grade_F4</th>\n",
       "      <th>sub_grade_F5</th>\n",
       "      <th>sub_grade_G1</th>\n",
       "      <th>sub_grade_G2</th>\n",
       "      <th>sub_grade_G3</th>\n",
       "      <th>sub_grade_G4</th>\n",
       "      <th>sub_grade_G5</th>\n",
       "      <th>home_ownership_MORTGAGE</th>\n",
       "      <th>home_ownership_NONE</th>\n",
       "      <th>home_ownership_OTHER</th>\n",
       "      <th>home_ownership_OWN</th>\n",
       "      <th>home_ownership_RENT</th>\n",
       "      <th>verif_stat</th>\n",
       "      <th>purpose_car</th>\n",
       "      <th>purpose_credit_card</th>\n",
       "      <th>purpose_debt_consolidation</th>\n",
       "      <th>purpose_educational</th>\n",
       "      <th>purpose_home_improvement</th>\n",
       "      <th>purpose_house</th>\n",
       "      <th>purpose_major_purchase</th>\n",
       "      <th>purpose_medical</th>\n",
       "      <th>purpose_moving</th>\n",
       "      <th>purpose_other</th>\n",
       "      <th>purpose_renewable_energy</th>\n",
       "      <th>purpose_small_business</th>\n",
       "      <th>purpose_vacation</th>\n",
       "      <th>purpose_wedding</th>\n",
       "      <th>year_issue</th>\n",
       "      <th>month_issue</th>\n",
       "      <th>year_ecl</th>\n",
       "      <th>month_ecl</th>\n",
       "      <th>geo_loc</th>\n",
       "      <th>geo_loc_ns</th>\n",
       "      <th>geo_loc_we</th>\n",
       "      <th>addr_state_AK</th>\n",
       "      <th>addr_state_AL</th>\n",
       "      <th>addr_state_AR</th>\n",
       "      <th>addr_state_AZ</th>\n",
       "      <th>addr_state_CA</th>\n",
       "      <th>addr_state_CO</th>\n",
       "      <th>addr_state_CT</th>\n",
       "      <th>addr_state_DC</th>\n",
       "      <th>addr_state_DE</th>\n",
       "      <th>addr_state_FL</th>\n",
       "      <th>addr_state_GA</th>\n",
       "      <th>addr_state_HI</th>\n",
       "      <th>addr_state_IA</th>\n",
       "      <th>addr_state_ID</th>\n",
       "      <th>addr_state_IL</th>\n",
       "      <th>addr_state_IN</th>\n",
       "      <th>addr_state_KS</th>\n",
       "      <th>addr_state_KY</th>\n",
       "      <th>addr_state_LA</th>\n",
       "      <th>addr_state_MA</th>\n",
       "      <th>addr_state_MD</th>\n",
       "      <th>addr_state_ME</th>\n",
       "      <th>addr_state_MI</th>\n",
       "      <th>addr_state_MN</th>\n",
       "      <th>addr_state_MO</th>\n",
       "      <th>addr_state_MS</th>\n",
       "      <th>addr_state_MT</th>\n",
       "      <th>addr_state_NC</th>\n",
       "      <th>addr_state_NE</th>\n",
       "      <th>addr_state_NH</th>\n",
       "      <th>addr_state_NJ</th>\n",
       "      <th>addr_state_NM</th>\n",
       "      <th>addr_state_NV</th>\n",
       "      <th>addr_state_NY</th>\n",
       "      <th>addr_state_OH</th>\n",
       "      <th>addr_state_OK</th>\n",
       "      <th>addr_state_OR</th>\n",
       "      <th>addr_state_PA</th>\n",
       "      <th>addr_state_RI</th>\n",
       "      <th>addr_state_SC</th>\n",
       "      <th>addr_state_SD</th>\n",
       "      <th>addr_state_TN</th>\n",
       "      <th>addr_state_TX</th>\n",
       "      <th>addr_state_UT</th>\n",
       "      <th>addr_state_VA</th>\n",
       "      <th>addr_state_VT</th>\n",
       "      <th>addr_state_WA</th>\n",
       "      <th>addr_state_WI</th>\n",
       "      <th>addr_state_WV</th>\n",
       "      <th>addr_state_WY</th>\n",
       "    </tr>\n",
       "  </thead>\n",
       "  <tbody>\n",
       "    <tr>\n",
       "      <th>0</th>\n",
       "      <td>1</td>\n",
       "      <td>5000.0</td>\n",
       "      <td>36</td>\n",
       "      <td>10.65</td>\n",
       "      <td>162.87</td>\n",
       "      <td>10.0</td>\n",
       "      <td>24000.0</td>\n",
       "      <td>27.65</td>\n",
       "      <td>0.0</td>\n",
       "      <td>1.0</td>\n",
       "      <td>3.0</td>\n",
       "      <td>0.0</td>\n",
       "      <td>13648.0</td>\n",
       "      <td>83.7</td>\n",
       "      <td>76.0</td>\n",
       "      <td>0.0</td>\n",
       "      <td>737</td>\n",
       "      <td>3</td>\n",
       "      <td>0</td>\n",
       "      <td>0</td>\n",
       "      <td>0</td>\n",
       "      <td>0</td>\n",
       "      <td>0</td>\n",
       "      <td>0</td>\n",
       "      <td>1</td>\n",
       "      <td>0</td>\n",
       "      <td>0</td>\n",
       "      <td>0</td>\n",
       "      <td>0</td>\n",
       "      <td>0</td>\n",
       "      <td>0</td>\n",
       "      <td>0</td>\n",
       "      <td>0</td>\n",
       "      <td>0</td>\n",
       "      <td>0</td>\n",
       "      <td>0</td>\n",
       "      <td>0</td>\n",
       "      <td>0</td>\n",
       "      <td>0</td>\n",
       "      <td>0</td>\n",
       "      <td>0</td>\n",
       "      <td>0</td>\n",
       "      <td>0</td>\n",
       "      <td>0</td>\n",
       "      <td>0</td>\n",
       "      <td>0</td>\n",
       "      <td>0</td>\n",
       "      <td>0</td>\n",
       "      <td>0</td>\n",
       "      <td>0</td>\n",
       "      <td>0</td>\n",
       "      <td>0</td>\n",
       "      <td>0</td>\n",
       "      <td>0</td>\n",
       "      <td>0</td>\n",
       "      <td>0</td>\n",
       "      <td>0</td>\n",
       "      <td>1</td>\n",
       "      <td>3</td>\n",
       "      <td>0</td>\n",
       "      <td>1</td>\n",
       "      <td>0</td>\n",
       "      <td>0</td>\n",
       "      <td>0</td>\n",
       "      <td>0</td>\n",
       "      <td>0</td>\n",
       "      <td>0</td>\n",
       "      <td>0</td>\n",
       "      <td>0</td>\n",
       "      <td>0</td>\n",
       "      <td>0</td>\n",
       "      <td>0</td>\n",
       "      <td>0</td>\n",
       "      <td>2011</td>\n",
       "      <td>12</td>\n",
       "      <td>3</td>\n",
       "      <td>1</td>\n",
       "      <td>4</td>\n",
       "      <td>2</td>\n",
       "      <td>2</td>\n",
       "      <td>0</td>\n",
       "      <td>0</td>\n",
       "      <td>0</td>\n",
       "      <td>1</td>\n",
       "      <td>0</td>\n",
       "      <td>0</td>\n",
       "      <td>0</td>\n",
       "      <td>0</td>\n",
       "      <td>0</td>\n",
       "      <td>0</td>\n",
       "      <td>0</td>\n",
       "      <td>0</td>\n",
       "      <td>0</td>\n",
       "      <td>0</td>\n",
       "      <td>0</td>\n",
       "      <td>0</td>\n",
       "      <td>0</td>\n",
       "      <td>0</td>\n",
       "      <td>0</td>\n",
       "      <td>0</td>\n",
       "      <td>0</td>\n",
       "      <td>0</td>\n",
       "      <td>0</td>\n",
       "      <td>0</td>\n",
       "      <td>0</td>\n",
       "      <td>0</td>\n",
       "      <td>0</td>\n",
       "      <td>0</td>\n",
       "      <td>0</td>\n",
       "      <td>0</td>\n",
       "      <td>0</td>\n",
       "      <td>0</td>\n",
       "      <td>0</td>\n",
       "      <td>0</td>\n",
       "      <td>0</td>\n",
       "      <td>0</td>\n",
       "      <td>0</td>\n",
       "      <td>0</td>\n",
       "      <td>0</td>\n",
       "      <td>0</td>\n",
       "      <td>0</td>\n",
       "      <td>0</td>\n",
       "      <td>0</td>\n",
       "      <td>0</td>\n",
       "      <td>0</td>\n",
       "      <td>0</td>\n",
       "      <td>0</td>\n",
       "      <td>0</td>\n",
       "      <td>0</td>\n",
       "      <td>0</td>\n",
       "    </tr>\n",
       "    <tr>\n",
       "      <th>1</th>\n",
       "      <td>0</td>\n",
       "      <td>2500.0</td>\n",
       "      <td>60</td>\n",
       "      <td>15.27</td>\n",
       "      <td>59.83</td>\n",
       "      <td>0.0</td>\n",
       "      <td>30000.0</td>\n",
       "      <td>1.00</td>\n",
       "      <td>0.0</td>\n",
       "      <td>5.0</td>\n",
       "      <td>3.0</td>\n",
       "      <td>0.0</td>\n",
       "      <td>1687.0</td>\n",
       "      <td>9.4</td>\n",
       "      <td>76.0</td>\n",
       "      <td>0.0</td>\n",
       "      <td>742</td>\n",
       "      <td>4</td>\n",
       "      <td>0</td>\n",
       "      <td>0</td>\n",
       "      <td>0</td>\n",
       "      <td>0</td>\n",
       "      <td>0</td>\n",
       "      <td>0</td>\n",
       "      <td>0</td>\n",
       "      <td>0</td>\n",
       "      <td>0</td>\n",
       "      <td>0</td>\n",
       "      <td>0</td>\n",
       "      <td>0</td>\n",
       "      <td>0</td>\n",
       "      <td>1</td>\n",
       "      <td>0</td>\n",
       "      <td>0</td>\n",
       "      <td>0</td>\n",
       "      <td>0</td>\n",
       "      <td>0</td>\n",
       "      <td>0</td>\n",
       "      <td>0</td>\n",
       "      <td>0</td>\n",
       "      <td>0</td>\n",
       "      <td>0</td>\n",
       "      <td>0</td>\n",
       "      <td>0</td>\n",
       "      <td>0</td>\n",
       "      <td>0</td>\n",
       "      <td>0</td>\n",
       "      <td>0</td>\n",
       "      <td>0</td>\n",
       "      <td>0</td>\n",
       "      <td>0</td>\n",
       "      <td>0</td>\n",
       "      <td>0</td>\n",
       "      <td>0</td>\n",
       "      <td>0</td>\n",
       "      <td>0</td>\n",
       "      <td>0</td>\n",
       "      <td>1</td>\n",
       "      <td>2</td>\n",
       "      <td>1</td>\n",
       "      <td>0</td>\n",
       "      <td>0</td>\n",
       "      <td>0</td>\n",
       "      <td>0</td>\n",
       "      <td>0</td>\n",
       "      <td>0</td>\n",
       "      <td>0</td>\n",
       "      <td>0</td>\n",
       "      <td>0</td>\n",
       "      <td>0</td>\n",
       "      <td>0</td>\n",
       "      <td>0</td>\n",
       "      <td>0</td>\n",
       "      <td>2011</td>\n",
       "      <td>12</td>\n",
       "      <td>2</td>\n",
       "      <td>4</td>\n",
       "      <td>3</td>\n",
       "      <td>2</td>\n",
       "      <td>1</td>\n",
       "      <td>0</td>\n",
       "      <td>0</td>\n",
       "      <td>0</td>\n",
       "      <td>0</td>\n",
       "      <td>0</td>\n",
       "      <td>0</td>\n",
       "      <td>0</td>\n",
       "      <td>0</td>\n",
       "      <td>0</td>\n",
       "      <td>0</td>\n",
       "      <td>1</td>\n",
       "      <td>0</td>\n",
       "      <td>0</td>\n",
       "      <td>0</td>\n",
       "      <td>0</td>\n",
       "      <td>0</td>\n",
       "      <td>0</td>\n",
       "      <td>0</td>\n",
       "      <td>0</td>\n",
       "      <td>0</td>\n",
       "      <td>0</td>\n",
       "      <td>0</td>\n",
       "      <td>0</td>\n",
       "      <td>0</td>\n",
       "      <td>0</td>\n",
       "      <td>0</td>\n",
       "      <td>0</td>\n",
       "      <td>0</td>\n",
       "      <td>0</td>\n",
       "      <td>0</td>\n",
       "      <td>0</td>\n",
       "      <td>0</td>\n",
       "      <td>0</td>\n",
       "      <td>0</td>\n",
       "      <td>0</td>\n",
       "      <td>0</td>\n",
       "      <td>0</td>\n",
       "      <td>0</td>\n",
       "      <td>0</td>\n",
       "      <td>0</td>\n",
       "      <td>0</td>\n",
       "      <td>0</td>\n",
       "      <td>0</td>\n",
       "      <td>0</td>\n",
       "      <td>0</td>\n",
       "      <td>0</td>\n",
       "      <td>0</td>\n",
       "      <td>0</td>\n",
       "      <td>0</td>\n",
       "      <td>0</td>\n",
       "    </tr>\n",
       "    <tr>\n",
       "      <th>2</th>\n",
       "      <td>1</td>\n",
       "      <td>2400.0</td>\n",
       "      <td>36</td>\n",
       "      <td>15.96</td>\n",
       "      <td>84.33</td>\n",
       "      <td>10.0</td>\n",
       "      <td>12252.0</td>\n",
       "      <td>8.72</td>\n",
       "      <td>0.0</td>\n",
       "      <td>2.0</td>\n",
       "      <td>2.0</td>\n",
       "      <td>0.0</td>\n",
       "      <td>2956.0</td>\n",
       "      <td>98.5</td>\n",
       "      <td>76.0</td>\n",
       "      <td>0.0</td>\n",
       "      <td>737</td>\n",
       "      <td>3</td>\n",
       "      <td>0</td>\n",
       "      <td>0</td>\n",
       "      <td>0</td>\n",
       "      <td>0</td>\n",
       "      <td>0</td>\n",
       "      <td>0</td>\n",
       "      <td>0</td>\n",
       "      <td>0</td>\n",
       "      <td>0</td>\n",
       "      <td>0</td>\n",
       "      <td>0</td>\n",
       "      <td>0</td>\n",
       "      <td>0</td>\n",
       "      <td>0</td>\n",
       "      <td>1</td>\n",
       "      <td>0</td>\n",
       "      <td>0</td>\n",
       "      <td>0</td>\n",
       "      <td>0</td>\n",
       "      <td>0</td>\n",
       "      <td>0</td>\n",
       "      <td>0</td>\n",
       "      <td>0</td>\n",
       "      <td>0</td>\n",
       "      <td>0</td>\n",
       "      <td>0</td>\n",
       "      <td>0</td>\n",
       "      <td>0</td>\n",
       "      <td>0</td>\n",
       "      <td>0</td>\n",
       "      <td>0</td>\n",
       "      <td>0</td>\n",
       "      <td>0</td>\n",
       "      <td>0</td>\n",
       "      <td>0</td>\n",
       "      <td>0</td>\n",
       "      <td>0</td>\n",
       "      <td>0</td>\n",
       "      <td>0</td>\n",
       "      <td>1</td>\n",
       "      <td>1</td>\n",
       "      <td>0</td>\n",
       "      <td>0</td>\n",
       "      <td>0</td>\n",
       "      <td>0</td>\n",
       "      <td>0</td>\n",
       "      <td>0</td>\n",
       "      <td>0</td>\n",
       "      <td>0</td>\n",
       "      <td>0</td>\n",
       "      <td>0</td>\n",
       "      <td>0</td>\n",
       "      <td>1</td>\n",
       "      <td>0</td>\n",
       "      <td>0</td>\n",
       "      <td>2011</td>\n",
       "      <td>12</td>\n",
       "      <td>1</td>\n",
       "      <td>11</td>\n",
       "      <td>1</td>\n",
       "      <td>1</td>\n",
       "      <td>1</td>\n",
       "      <td>0</td>\n",
       "      <td>0</td>\n",
       "      <td>0</td>\n",
       "      <td>0</td>\n",
       "      <td>0</td>\n",
       "      <td>0</td>\n",
       "      <td>0</td>\n",
       "      <td>0</td>\n",
       "      <td>0</td>\n",
       "      <td>0</td>\n",
       "      <td>0</td>\n",
       "      <td>0</td>\n",
       "      <td>0</td>\n",
       "      <td>0</td>\n",
       "      <td>1</td>\n",
       "      <td>0</td>\n",
       "      <td>0</td>\n",
       "      <td>0</td>\n",
       "      <td>0</td>\n",
       "      <td>0</td>\n",
       "      <td>0</td>\n",
       "      <td>0</td>\n",
       "      <td>0</td>\n",
       "      <td>0</td>\n",
       "      <td>0</td>\n",
       "      <td>0</td>\n",
       "      <td>0</td>\n",
       "      <td>0</td>\n",
       "      <td>0</td>\n",
       "      <td>0</td>\n",
       "      <td>0</td>\n",
       "      <td>0</td>\n",
       "      <td>0</td>\n",
       "      <td>0</td>\n",
       "      <td>0</td>\n",
       "      <td>0</td>\n",
       "      <td>0</td>\n",
       "      <td>0</td>\n",
       "      <td>0</td>\n",
       "      <td>0</td>\n",
       "      <td>0</td>\n",
       "      <td>0</td>\n",
       "      <td>0</td>\n",
       "      <td>0</td>\n",
       "      <td>0</td>\n",
       "      <td>0</td>\n",
       "      <td>0</td>\n",
       "      <td>0</td>\n",
       "      <td>0</td>\n",
       "      <td>0</td>\n",
       "    </tr>\n",
       "    <tr>\n",
       "      <th>3</th>\n",
       "      <td>1</td>\n",
       "      <td>10000.0</td>\n",
       "      <td>36</td>\n",
       "      <td>13.49</td>\n",
       "      <td>339.31</td>\n",
       "      <td>10.0</td>\n",
       "      <td>49200.0</td>\n",
       "      <td>20.00</td>\n",
       "      <td>0.0</td>\n",
       "      <td>1.0</td>\n",
       "      <td>10.0</td>\n",
       "      <td>0.0</td>\n",
       "      <td>5598.0</td>\n",
       "      <td>21.0</td>\n",
       "      <td>76.0</td>\n",
       "      <td>0.0</td>\n",
       "      <td>692</td>\n",
       "      <td>3</td>\n",
       "      <td>0</td>\n",
       "      <td>0</td>\n",
       "      <td>0</td>\n",
       "      <td>0</td>\n",
       "      <td>0</td>\n",
       "      <td>0</td>\n",
       "      <td>0</td>\n",
       "      <td>0</td>\n",
       "      <td>0</td>\n",
       "      <td>0</td>\n",
       "      <td>1</td>\n",
       "      <td>0</td>\n",
       "      <td>0</td>\n",
       "      <td>0</td>\n",
       "      <td>0</td>\n",
       "      <td>0</td>\n",
       "      <td>0</td>\n",
       "      <td>0</td>\n",
       "      <td>0</td>\n",
       "      <td>0</td>\n",
       "      <td>0</td>\n",
       "      <td>0</td>\n",
       "      <td>0</td>\n",
       "      <td>0</td>\n",
       "      <td>0</td>\n",
       "      <td>0</td>\n",
       "      <td>0</td>\n",
       "      <td>0</td>\n",
       "      <td>0</td>\n",
       "      <td>0</td>\n",
       "      <td>0</td>\n",
       "      <td>0</td>\n",
       "      <td>0</td>\n",
       "      <td>0</td>\n",
       "      <td>0</td>\n",
       "      <td>0</td>\n",
       "      <td>0</td>\n",
       "      <td>0</td>\n",
       "      <td>0</td>\n",
       "      <td>1</td>\n",
       "      <td>2</td>\n",
       "      <td>0</td>\n",
       "      <td>0</td>\n",
       "      <td>0</td>\n",
       "      <td>0</td>\n",
       "      <td>0</td>\n",
       "      <td>0</td>\n",
       "      <td>0</td>\n",
       "      <td>0</td>\n",
       "      <td>0</td>\n",
       "      <td>1</td>\n",
       "      <td>0</td>\n",
       "      <td>0</td>\n",
       "      <td>0</td>\n",
       "      <td>0</td>\n",
       "      <td>2011</td>\n",
       "      <td>12</td>\n",
       "      <td>2</td>\n",
       "      <td>2</td>\n",
       "      <td>4</td>\n",
       "      <td>2</td>\n",
       "      <td>2</td>\n",
       "      <td>0</td>\n",
       "      <td>0</td>\n",
       "      <td>0</td>\n",
       "      <td>0</td>\n",
       "      <td>1</td>\n",
       "      <td>0</td>\n",
       "      <td>0</td>\n",
       "      <td>0</td>\n",
       "      <td>0</td>\n",
       "      <td>0</td>\n",
       "      <td>0</td>\n",
       "      <td>0</td>\n",
       "      <td>0</td>\n",
       "      <td>0</td>\n",
       "      <td>0</td>\n",
       "      <td>0</td>\n",
       "      <td>0</td>\n",
       "      <td>0</td>\n",
       "      <td>0</td>\n",
       "      <td>0</td>\n",
       "      <td>0</td>\n",
       "      <td>0</td>\n",
       "      <td>0</td>\n",
       "      <td>0</td>\n",
       "      <td>0</td>\n",
       "      <td>0</td>\n",
       "      <td>0</td>\n",
       "      <td>0</td>\n",
       "      <td>0</td>\n",
       "      <td>0</td>\n",
       "      <td>0</td>\n",
       "      <td>0</td>\n",
       "      <td>0</td>\n",
       "      <td>0</td>\n",
       "      <td>0</td>\n",
       "      <td>0</td>\n",
       "      <td>0</td>\n",
       "      <td>0</td>\n",
       "      <td>0</td>\n",
       "      <td>0</td>\n",
       "      <td>0</td>\n",
       "      <td>0</td>\n",
       "      <td>0</td>\n",
       "      <td>0</td>\n",
       "      <td>0</td>\n",
       "      <td>0</td>\n",
       "      <td>0</td>\n",
       "      <td>0</td>\n",
       "      <td>0</td>\n",
       "      <td>0</td>\n",
       "    </tr>\n",
       "    <tr>\n",
       "      <th>4</th>\n",
       "      <td>1</td>\n",
       "      <td>3000.0</td>\n",
       "      <td>60</td>\n",
       "      <td>12.69</td>\n",
       "      <td>67.79</td>\n",
       "      <td>1.0</td>\n",
       "      <td>80000.0</td>\n",
       "      <td>17.94</td>\n",
       "      <td>0.0</td>\n",
       "      <td>0.0</td>\n",
       "      <td>15.0</td>\n",
       "      <td>0.0</td>\n",
       "      <td>27783.0</td>\n",
       "      <td>53.9</td>\n",
       "      <td>76.0</td>\n",
       "      <td>0.0</td>\n",
       "      <td>697</td>\n",
       "      <td>3</td>\n",
       "      <td>0</td>\n",
       "      <td>0</td>\n",
       "      <td>0</td>\n",
       "      <td>0</td>\n",
       "      <td>0</td>\n",
       "      <td>0</td>\n",
       "      <td>0</td>\n",
       "      <td>0</td>\n",
       "      <td>0</td>\n",
       "      <td>1</td>\n",
       "      <td>0</td>\n",
       "      <td>0</td>\n",
       "      <td>0</td>\n",
       "      <td>0</td>\n",
       "      <td>0</td>\n",
       "      <td>0</td>\n",
       "      <td>0</td>\n",
       "      <td>0</td>\n",
       "      <td>0</td>\n",
       "      <td>0</td>\n",
       "      <td>0</td>\n",
       "      <td>0</td>\n",
       "      <td>0</td>\n",
       "      <td>0</td>\n",
       "      <td>0</td>\n",
       "      <td>0</td>\n",
       "      <td>0</td>\n",
       "      <td>0</td>\n",
       "      <td>0</td>\n",
       "      <td>0</td>\n",
       "      <td>0</td>\n",
       "      <td>0</td>\n",
       "      <td>0</td>\n",
       "      <td>0</td>\n",
       "      <td>0</td>\n",
       "      <td>0</td>\n",
       "      <td>0</td>\n",
       "      <td>0</td>\n",
       "      <td>0</td>\n",
       "      <td>1</td>\n",
       "      <td>2</td>\n",
       "      <td>0</td>\n",
       "      <td>0</td>\n",
       "      <td>0</td>\n",
       "      <td>0</td>\n",
       "      <td>0</td>\n",
       "      <td>0</td>\n",
       "      <td>0</td>\n",
       "      <td>0</td>\n",
       "      <td>0</td>\n",
       "      <td>1</td>\n",
       "      <td>0</td>\n",
       "      <td>0</td>\n",
       "      <td>0</td>\n",
       "      <td>0</td>\n",
       "      <td>2011</td>\n",
       "      <td>12</td>\n",
       "      <td>2</td>\n",
       "      <td>1</td>\n",
       "      <td>2</td>\n",
       "      <td>1</td>\n",
       "      <td>2</td>\n",
       "      <td>0</td>\n",
       "      <td>0</td>\n",
       "      <td>0</td>\n",
       "      <td>0</td>\n",
       "      <td>0</td>\n",
       "      <td>0</td>\n",
       "      <td>0</td>\n",
       "      <td>0</td>\n",
       "      <td>0</td>\n",
       "      <td>0</td>\n",
       "      <td>0</td>\n",
       "      <td>0</td>\n",
       "      <td>0</td>\n",
       "      <td>0</td>\n",
       "      <td>0</td>\n",
       "      <td>0</td>\n",
       "      <td>0</td>\n",
       "      <td>0</td>\n",
       "      <td>0</td>\n",
       "      <td>0</td>\n",
       "      <td>0</td>\n",
       "      <td>0</td>\n",
       "      <td>0</td>\n",
       "      <td>0</td>\n",
       "      <td>0</td>\n",
       "      <td>0</td>\n",
       "      <td>0</td>\n",
       "      <td>0</td>\n",
       "      <td>0</td>\n",
       "      <td>0</td>\n",
       "      <td>0</td>\n",
       "      <td>0</td>\n",
       "      <td>0</td>\n",
       "      <td>0</td>\n",
       "      <td>0</td>\n",
       "      <td>0</td>\n",
       "      <td>1</td>\n",
       "      <td>0</td>\n",
       "      <td>0</td>\n",
       "      <td>0</td>\n",
       "      <td>0</td>\n",
       "      <td>0</td>\n",
       "      <td>0</td>\n",
       "      <td>0</td>\n",
       "      <td>0</td>\n",
       "      <td>0</td>\n",
       "      <td>0</td>\n",
       "      <td>0</td>\n",
       "      <td>0</td>\n",
       "      <td>0</td>\n",
       "    </tr>\n",
       "  </tbody>\n",
       "</table>\n",
       "</div>"
      ],
      "text/plain": [
       "   loan_status  loan_amnt  term  int_rate  installment  emp_length  \\\n",
       "0            1     5000.0    36     10.65       162.87        10.0   \n",
       "1            0     2500.0    60     15.27        59.83         0.0   \n",
       "2            1     2400.0    36     15.96        84.33        10.0   \n",
       "3            1    10000.0    36     13.49       339.31        10.0   \n",
       "4            1     3000.0    60     12.69        67.79         1.0   \n",
       "\n",
       "   annual_inc    dti  delinq_2yrs  inq_last_6mths  open_acc  pub_rec  \\\n",
       "0     24000.0  27.65          0.0             1.0       3.0      0.0   \n",
       "1     30000.0   1.00          0.0             5.0       3.0      0.0   \n",
       "2     12252.0   8.72          0.0             2.0       2.0      0.0   \n",
       "3     49200.0  20.00          0.0             1.0      10.0      0.0   \n",
       "4     80000.0  17.94          0.0             0.0      15.0      0.0   \n",
       "\n",
       "   revol_bal  revol_util  total_acc  pub_rec_bankruptcies  fico_score  \\\n",
       "0    13648.0        83.7       76.0                   0.0         737   \n",
       "1     1687.0         9.4       76.0                   0.0         742   \n",
       "2     2956.0        98.5       76.0                   0.0         737   \n",
       "3     5598.0        21.0       76.0                   0.0         692   \n",
       "4    27783.0        53.9       76.0                   0.0         697   \n",
       "\n",
       "   fico_class  sub_grade_A1  sub_grade_A2  sub_grade_A3  sub_grade_A4  \\\n",
       "0           3             0             0             0             0   \n",
       "1           4             0             0             0             0   \n",
       "2           3             0             0             0             0   \n",
       "3           3             0             0             0             0   \n",
       "4           3             0             0             0             0   \n",
       "\n",
       "   sub_grade_A5  sub_grade_B1  sub_grade_B2  sub_grade_B3  sub_grade_B4  \\\n",
       "0             0             0             1             0             0   \n",
       "1             0             0             0             0             0   \n",
       "2             0             0             0             0             0   \n",
       "3             0             0             0             0             0   \n",
       "4             0             0             0             0             0   \n",
       "\n",
       "   sub_grade_B5  sub_grade_C1  sub_grade_C2  sub_grade_C3  sub_grade_C4  \\\n",
       "0             0             0             0             0             0   \n",
       "1             0             0             0             0             1   \n",
       "2             0             0             0             0             0   \n",
       "3             0             1             0             0             0   \n",
       "4             1             0             0             0             0   \n",
       "\n",
       "   sub_grade_C5  sub_grade_D1  sub_grade_D2  sub_grade_D3  sub_grade_D4  \\\n",
       "0             0             0             0             0             0   \n",
       "1             0             0             0             0             0   \n",
       "2             1             0             0             0             0   \n",
       "3             0             0             0             0             0   \n",
       "4             0             0             0             0             0   \n",
       "\n",
       "   sub_grade_D5  sub_grade_E1  sub_grade_E2  sub_grade_E3  sub_grade_E4  \\\n",
       "0             0             0             0             0             0   \n",
       "1             0             0             0             0             0   \n",
       "2             0             0             0             0             0   \n",
       "3             0             0             0             0             0   \n",
       "4             0             0             0             0             0   \n",
       "\n",
       "   sub_grade_E5  sub_grade_F1  sub_grade_F2  sub_grade_F3  sub_grade_F4  \\\n",
       "0             0             0             0             0             0   \n",
       "1             0             0             0             0             0   \n",
       "2             0             0             0             0             0   \n",
       "3             0             0             0             0             0   \n",
       "4             0             0             0             0             0   \n",
       "\n",
       "   sub_grade_F5  sub_grade_G1  sub_grade_G2  sub_grade_G3  sub_grade_G4  \\\n",
       "0             0             0             0             0             0   \n",
       "1             0             0             0             0             0   \n",
       "2             0             0             0             0             0   \n",
       "3             0             0             0             0             0   \n",
       "4             0             0             0             0             0   \n",
       "\n",
       "   sub_grade_G5  home_ownership_MORTGAGE  home_ownership_NONE  \\\n",
       "0             0                        0                    0   \n",
       "1             0                        0                    0   \n",
       "2             0                        0                    0   \n",
       "3             0                        0                    0   \n",
       "4             0                        0                    0   \n",
       "\n",
       "   home_ownership_OTHER  home_ownership_OWN  home_ownership_RENT  verif_stat  \\\n",
       "0                     0                   0                    1           3   \n",
       "1                     0                   0                    1           2   \n",
       "2                     0                   0                    1           1   \n",
       "3                     0                   0                    1           2   \n",
       "4                     0                   0                    1           2   \n",
       "\n",
       "   purpose_car  purpose_credit_card  purpose_debt_consolidation  \\\n",
       "0            0                    1                           0   \n",
       "1            1                    0                           0   \n",
       "2            0                    0                           0   \n",
       "3            0                    0                           0   \n",
       "4            0                    0                           0   \n",
       "\n",
       "   purpose_educational  purpose_home_improvement  purpose_house  \\\n",
       "0                    0                         0              0   \n",
       "1                    0                         0              0   \n",
       "2                    0                         0              0   \n",
       "3                    0                         0              0   \n",
       "4                    0                         0              0   \n",
       "\n",
       "   purpose_major_purchase  purpose_medical  purpose_moving  purpose_other  \\\n",
       "0                       0                0               0              0   \n",
       "1                       0                0               0              0   \n",
       "2                       0                0               0              0   \n",
       "3                       0                0               0              1   \n",
       "4                       0                0               0              1   \n",
       "\n",
       "   purpose_renewable_energy  purpose_small_business  purpose_vacation  \\\n",
       "0                         0                       0                 0   \n",
       "1                         0                       0                 0   \n",
       "2                         0                       1                 0   \n",
       "3                         0                       0                 0   \n",
       "4                         0                       0                 0   \n",
       "\n",
       "   purpose_wedding  year_issue  month_issue  year_ecl  month_ecl  geo_loc  \\\n",
       "0                0        2011           12         3          1        4   \n",
       "1                0        2011           12         2          4        3   \n",
       "2                0        2011           12         1         11        1   \n",
       "3                0        2011           12         2          2        4   \n",
       "4                0        2011           12         2          1        2   \n",
       "\n",
       "   geo_loc_ns  geo_loc_we  addr_state_AK  addr_state_AL  addr_state_AR  \\\n",
       "0           2           2              0              0              0   \n",
       "1           2           1              0              0              0   \n",
       "2           1           1              0              0              0   \n",
       "3           2           2              0              0              0   \n",
       "4           1           2              0              0              0   \n",
       "\n",
       "   addr_state_AZ  addr_state_CA  addr_state_CO  addr_state_CT  addr_state_DC  \\\n",
       "0              1              0              0              0              0   \n",
       "1              0              0              0              0              0   \n",
       "2              0              0              0              0              0   \n",
       "3              0              1              0              0              0   \n",
       "4              0              0              0              0              0   \n",
       "\n",
       "   addr_state_DE  addr_state_FL  addr_state_GA  addr_state_HI  addr_state_IA  \\\n",
       "0              0              0              0              0              0   \n",
       "1              0              0              1              0              0   \n",
       "2              0              0              0              0              0   \n",
       "3              0              0              0              0              0   \n",
       "4              0              0              0              0              0   \n",
       "\n",
       "   addr_state_ID  addr_state_IL  addr_state_IN  addr_state_KS  addr_state_KY  \\\n",
       "0              0              0              0              0              0   \n",
       "1              0              0              0              0              0   \n",
       "2              0              1              0              0              0   \n",
       "3              0              0              0              0              0   \n",
       "4              0              0              0              0              0   \n",
       "\n",
       "   addr_state_LA  addr_state_MA  addr_state_MD  addr_state_ME  addr_state_MI  \\\n",
       "0              0              0              0              0              0   \n",
       "1              0              0              0              0              0   \n",
       "2              0              0              0              0              0   \n",
       "3              0              0              0              0              0   \n",
       "4              0              0              0              0              0   \n",
       "\n",
       "   addr_state_MN  addr_state_MO  addr_state_MS  addr_state_MT  addr_state_NC  \\\n",
       "0              0              0              0              0              0   \n",
       "1              0              0              0              0              0   \n",
       "2              0              0              0              0              0   \n",
       "3              0              0              0              0              0   \n",
       "4              0              0              0              0              0   \n",
       "\n",
       "   addr_state_NE  addr_state_NH  addr_state_NJ  addr_state_NM  addr_state_NV  \\\n",
       "0              0              0              0              0              0   \n",
       "1              0              0              0              0              0   \n",
       "2              0              0              0              0              0   \n",
       "3              0              0              0              0              0   \n",
       "4              0              0              0              0              0   \n",
       "\n",
       "   addr_state_NY  addr_state_OH  addr_state_OK  addr_state_OR  addr_state_PA  \\\n",
       "0              0              0              0              0              0   \n",
       "1              0              0              0              0              0   \n",
       "2              0              0              0              0              0   \n",
       "3              0              0              0              0              0   \n",
       "4              0              0              0              1              0   \n",
       "\n",
       "   addr_state_RI  addr_state_SC  addr_state_SD  addr_state_TN  addr_state_TX  \\\n",
       "0              0              0              0              0              0   \n",
       "1              0              0              0              0              0   \n",
       "2              0              0              0              0              0   \n",
       "3              0              0              0              0              0   \n",
       "4              0              0              0              0              0   \n",
       "\n",
       "   addr_state_UT  addr_state_VA  addr_state_VT  addr_state_WA  addr_state_WI  \\\n",
       "0              0              0              0              0              0   \n",
       "1              0              0              0              0              0   \n",
       "2              0              0              0              0              0   \n",
       "3              0              0              0              0              0   \n",
       "4              0              0              0              0              0   \n",
       "\n",
       "   addr_state_WV  addr_state_WY  \n",
       "0              0              0  \n",
       "1              0              0  \n",
       "2              0              0  \n",
       "3              0              0  \n",
       "4              0              0  "
      ]
     },
     "metadata": {},
     "output_type": "display_data"
    }
   ],
   "source": [
    "# Load dataset\n",
    "\n",
    "df = pd.read_csv('Part_3.csv')\n",
    "pd.set_option(\"display.max_columns\", None)\n",
    "display(df.head())"
   ]
  },
  {
   "cell_type": "code",
   "execution_count": 3,
   "id": "92a6b017",
   "metadata": {},
   "outputs": [
    {
     "name": "stdout",
     "output_type": "stream",
     "text": [
      "<class 'pandas.core.frame.DataFrame'>\n",
      "RangeIndex: 39786 entries, 0 to 39785\n",
      "Columns: 130 entries, loan_status to addr_state_WY\n",
      "dtypes: float64(14), int64(116)\n",
      "memory usage: 39.5 MB\n"
     ]
    }
   ],
   "source": [
    "df.info()"
   ]
  },
  {
   "cell_type": "code",
   "execution_count": 4,
   "id": "bfa69f5b",
   "metadata": {},
   "outputs": [
    {
     "data": {
      "text/plain": [
       "0.0    130\n",
       "dtype: int64"
      ]
     },
     "execution_count": 4,
     "metadata": {},
     "output_type": "execute_result"
    }
   ],
   "source": [
    "# Checking nulls\n",
    "\n",
    "round(100*(df.isnull().sum()/len(df.index)), 2).value_counts()"
   ]
  },
  {
   "cell_type": "code",
   "execution_count": 5,
   "id": "6275f8fa",
   "metadata": {},
   "outputs": [
    {
     "name": "stdout",
     "output_type": "stream",
     "text": [
      "['loan_status', 'loan_amnt', 'term', 'int_rate', 'installment', 'emp_length', 'annual_inc', 'dti', 'delinq_2yrs', 'inq_last_6mths', 'open_acc', 'pub_rec', 'revol_bal', 'revol_util', 'total_acc', 'pub_rec_bankruptcies', 'fico_score', 'fico_class', 'sub_grade_A1', 'sub_grade_A2', 'sub_grade_A3', 'sub_grade_A4', 'sub_grade_A5', 'sub_grade_B1', 'sub_grade_B2', 'sub_grade_B3', 'sub_grade_B4', 'sub_grade_B5', 'sub_grade_C1', 'sub_grade_C2', 'sub_grade_C3', 'sub_grade_C4', 'sub_grade_C5', 'sub_grade_D1', 'sub_grade_D2', 'sub_grade_D3', 'sub_grade_D4', 'sub_grade_D5', 'sub_grade_E1', 'sub_grade_E2', 'sub_grade_E3', 'sub_grade_E4', 'sub_grade_E5', 'sub_grade_F1', 'sub_grade_F2', 'sub_grade_F3', 'sub_grade_F4', 'sub_grade_F5', 'sub_grade_G1', 'sub_grade_G2', 'sub_grade_G3', 'sub_grade_G4', 'sub_grade_G5', 'home_ownership_MORTGAGE', 'home_ownership_NONE', 'home_ownership_OTHER', 'home_ownership_OWN', 'home_ownership_RENT', 'verif_stat', 'purpose_car', 'purpose_credit_card', 'purpose_debt_consolidation', 'purpose_educational', 'purpose_home_improvement', 'purpose_house', 'purpose_major_purchase', 'purpose_medical', 'purpose_moving', 'purpose_other', 'purpose_renewable_energy', 'purpose_small_business', 'purpose_vacation', 'purpose_wedding', 'year_issue', 'month_issue', 'year_ecl', 'month_ecl', 'geo_loc', 'geo_loc_ns', 'geo_loc_we', 'addr_state_AK', 'addr_state_AL', 'addr_state_AR', 'addr_state_AZ', 'addr_state_CA', 'addr_state_CO', 'addr_state_CT', 'addr_state_DC', 'addr_state_DE', 'addr_state_FL', 'addr_state_GA', 'addr_state_HI', 'addr_state_IA', 'addr_state_ID', 'addr_state_IL', 'addr_state_IN', 'addr_state_KS', 'addr_state_KY', 'addr_state_LA', 'addr_state_MA', 'addr_state_MD', 'addr_state_ME', 'addr_state_MI', 'addr_state_MN', 'addr_state_MO', 'addr_state_MS', 'addr_state_MT', 'addr_state_NC', 'addr_state_NE', 'addr_state_NH', 'addr_state_NJ', 'addr_state_NM', 'addr_state_NV', 'addr_state_NY', 'addr_state_OH', 'addr_state_OK', 'addr_state_OR', 'addr_state_PA', 'addr_state_RI', 'addr_state_SC', 'addr_state_SD', 'addr_state_TN', 'addr_state_TX', 'addr_state_UT', 'addr_state_VA', 'addr_state_VT', 'addr_state_WA', 'addr_state_WI', 'addr_state_WV', 'addr_state_WY']\n"
     ]
    }
   ],
   "source": [
    "print(df.columns.tolist())"
   ]
  },
  {
   "cell_type": "code",
   "execution_count": 6,
   "id": "9fb7fa97",
   "metadata": {},
   "outputs": [
    {
     "data": {
      "text/plain": [
       "(39786, 130)"
      ]
     },
     "execution_count": 6,
     "metadata": {},
     "output_type": "execute_result"
    }
   ],
   "source": [
    "df.shape"
   ]
  },
  {
   "cell_type": "code",
   "execution_count": 7,
   "id": "a42dce4a",
   "metadata": {},
   "outputs": [],
   "source": [
    "# Copy of the Data Frame (one of them will be used for clustering)\n",
    "\n",
    "df_copy = df"
   ]
  },
  {
   "cell_type": "code",
   "execution_count": 8,
   "id": "2d53f881",
   "metadata": {},
   "outputs": [
    {
     "data": {
      "text/plain": [
       "(39786, 130)"
      ]
     },
     "execution_count": 8,
     "metadata": {},
     "output_type": "execute_result"
    }
   ],
   "source": [
    "# Data Frames shape after deleting outliers\n",
    "\n",
    "df_copy.shape"
   ]
  },
  {
   "cell_type": "markdown",
   "id": "f4c62bf0",
   "metadata": {},
   "source": [
    "### Clustering: KMeans\n",
    "#### Justifying methods: Silhouette score, Elbow-curve method"
   ]
  },
  {
   "cell_type": "code",
   "execution_count": 9,
   "id": "cf7f4c42",
   "metadata": {},
   "outputs": [],
   "source": [
    "# Clustering\n",
    "\n",
    "from sklearn.cluster import KMeans\n",
    "from sklearn.metrics import silhouette_score"
   ]
  },
  {
   "cell_type": "code",
   "execution_count": 10,
   "id": "b1a5d6e4",
   "metadata": {},
   "outputs": [
    {
     "data": {
      "text/plain": [
       "KMeans(n_clusters=5)"
      ]
     },
     "execution_count": 10,
     "metadata": {},
     "output_type": "execute_result"
    }
   ],
   "source": [
    "kmeans = KMeans(n_clusters=5)\n",
    "kmeans.fit(df_copy)"
   ]
  },
  {
   "cell_type": "code",
   "execution_count": 11,
   "id": "23a9be2d",
   "metadata": {},
   "outputs": [
    {
     "data": {
      "text/plain": [
       "array([4, 4, 4, ..., 0, 2, 4])"
      ]
     },
     "execution_count": 11,
     "metadata": {},
     "output_type": "execute_result"
    }
   ],
   "source": [
    "kmeans.labels_"
   ]
  },
  {
   "cell_type": "code",
   "execution_count": 12,
   "id": "0da4cf80",
   "metadata": {},
   "outputs": [
    {
     "name": "stdout",
     "output_type": "stream",
     "text": [
      "For n_clusters=2, the silhouette score is 0.9383776091798457\n",
      "For n_clusters=3, the silhouette score is 0.6372241184743188\n",
      "For n_clusters=4, the silhouette score is 0.5779774664460495\n",
      "For n_clusters=5, the silhouette score is 0.4898205782810134\n"
     ]
    }
   ],
   "source": [
    "# Silhouette score\n",
    "\n",
    "range_n_clusters = [2, 3, 4, 5]\n",
    "\n",
    "for num_clusters in range_n_clusters:\n",
    "    \n",
    "    # intialise kmeans\n",
    "    kmeans = KMeans(n_clusters=num_clusters, max_iter=300)\n",
    "    kmeans.fit(df_copy)\n",
    "    \n",
    "    cluster_labels = kmeans.labels_\n",
    "    \n",
    "    # silhouette score\n",
    "    silhouette_avg = silhouette_score(df_copy, cluster_labels)\n",
    "    print(\"For n_clusters={0}, the silhouette score is {1}\".format(num_clusters, silhouette_avg))"
   ]
  },
  {
   "cell_type": "code",
   "execution_count": 13,
   "id": "ead664e8",
   "metadata": {},
   "outputs": [
    {
     "data": {
      "text/plain": [
       "[<matplotlib.lines.Line2D at 0x2c4e8c269d0>]"
      ]
     },
     "execution_count": 13,
     "metadata": {},
     "output_type": "execute_result"
    },
    {
     "data": {
      "image/png": "[encoded data removed]",
      "text/plain": [
       "<Figure size 640x480 with 1 Axes>"
      ]
     },
     "metadata": {},
     "output_type": "display_data"
    }
   ],
   "source": [
    "# Elbow-curve method\n",
    "\n",
    "ssd = [] # Sum of squared distances\n",
    "range_n_clusters = [2, 3, 4, 5]\n",
    "for num_clusters in (range_n_clusters):\n",
    "    kmeans = KMeans(n_clusters=num_clusters, max_iter=300)\n",
    "    kmeans.fit(df_copy)\n",
    "    \n",
    "    ssd.append(kmeans.inertia_) #Sum of squared distances\n",
    "    \n",
    "# plot the SSDs for each n_clusters\n",
    "plt.plot(range_n_clusters, ssd)"
   ]
  },
  {
   "cell_type": "code",
   "execution_count": 14,
   "id": "09052d5e",
   "metadata": {},
   "outputs": [
    {
     "data": {
      "text/plain": [
       "KMeans(n_clusters=4, random_state=42)"
      ]
     },
     "execution_count": 14,
     "metadata": {},
     "output_type": "execute_result"
    }
   ],
   "source": [
    "# n_clusters = 4\n",
    "\n",
    "kmeans = KMeans(n_clusters=4, random_state=42)\n",
    "kmeans.fit(df_copy)"
   ]
  },
  {
   "cell_type": "code",
   "execution_count": 15,
   "id": "866ffbef",
   "metadata": {},
   "outputs": [
    {
     "data": {
      "text/plain": [
       "array([1, 1, 1, ..., 3, 3, 1])"
      ]
     },
     "execution_count": 15,
     "metadata": {},
     "output_type": "execute_result"
    }
   ],
   "source": [
    "kmeans.labels_"
   ]
  },
  {
   "cell_type": "code",
   "execution_count": 16,
   "id": "87eadc12",
   "metadata": {},
   "outputs": [],
   "source": [
    "df_copy['K-Means_Cluster_ID'] = kmeans.labels_"
   ]
  },
  {
   "cell_type": "code",
   "execution_count": 17,
   "id": "4e06f70e",
   "metadata": {},
   "outputs": [
    {
     "data": {
      "text/plain": [
       "1    31947\n",
       "3     7755\n",
       "0       82\n",
       "2        2\n",
       "Name: K-Means_Cluster_ID, dtype: int64"
      ]
     },
     "execution_count": 17,
     "metadata": {},
     "output_type": "execute_result"
    }
   ],
   "source": [
    "df_copy['K-Means_Cluster_ID'].value_counts()"
   ]
  },
  {
   "cell_type": "code",
   "execution_count": 18,
   "id": "5889f83a",
   "metadata": {},
   "outputs": [
    {
     "data": {
      "text/plain": [
       "K-Means_Cluster_ID  loan_status\n",
       "0                   1                 70\n",
       "                    0                 12\n",
       "1                   1              27127\n",
       "                    0               4820\n",
       "2                   1                  2\n",
       "3                   1               6917\n",
       "                    0                838\n",
       "Name: loan_status, dtype: int64"
      ]
     },
     "execution_count": 18,
     "metadata": {},
     "output_type": "execute_result"
    }
   ],
   "source": [
    "df_copy.groupby('K-Means_Cluster_ID')['loan_status'].value_counts()"
   ]
  },
  {
   "cell_type": "code",
   "execution_count": 19,
   "id": "fb5c70f6",
   "metadata": {},
   "outputs": [
    {
     "data": {
      "text/html": [
       "<div>\n",
       "<style scoped>\n",
       "    .dataframe tbody tr th:only-of-type {\n",
       "        vertical-align: middle;\n",
       "    }\n",
       "\n",
       "    .dataframe tbody tr th {\n",
       "        vertical-align: top;\n",
       "    }\n",
       "\n",
       "    .dataframe thead th {\n",
       "        text-align: right;\n",
       "    }\n",
       "</style>\n",
       "<table border=\"1\" class=\"dataframe\">\n",
       "  <thead>\n",
       "    <tr style=\"text-align: right;\">\n",
       "      <th></th>\n",
       "      <th>count</th>\n",
       "      <th>mean</th>\n",
       "      <th>std</th>\n",
       "      <th>min</th>\n",
       "      <th>25%</th>\n",
       "      <th>50%</th>\n",
       "      <th>75%</th>\n",
       "      <th>max</th>\n",
       "    </tr>\n",
       "    <tr>\n",
       "      <th>K-Means_Cluster_ID</th>\n",
       "      <th></th>\n",
       "      <th></th>\n",
       "      <th></th>\n",
       "      <th></th>\n",
       "      <th></th>\n",
       "      <th></th>\n",
       "      <th></th>\n",
       "      <th></th>\n",
       "    </tr>\n",
       "  </thead>\n",
       "  <tbody>\n",
       "    <tr>\n",
       "      <th>0</th>\n",
       "      <td>82.0</td>\n",
       "      <td>15767.987805</td>\n",
       "      <td>10350.189563</td>\n",
       "      <td>1000.0</td>\n",
       "      <td>6525.0</td>\n",
       "      <td>14500.0</td>\n",
       "      <td>25000.0</td>\n",
       "      <td>35000.0</td>\n",
       "    </tr>\n",
       "    <tr>\n",
       "      <th>1</th>\n",
       "      <td>31947.0</td>\n",
       "      <td>10020.813378</td>\n",
       "      <td>6534.651947</td>\n",
       "      <td>500.0</td>\n",
       "      <td>5000.0</td>\n",
       "      <td>8500.0</td>\n",
       "      <td>13750.0</td>\n",
       "      <td>35000.0</td>\n",
       "    </tr>\n",
       "    <tr>\n",
       "      <th>2</th>\n",
       "      <td>2.0</td>\n",
       "      <td>15000.000000</td>\n",
       "      <td>14142.135624</td>\n",
       "      <td>5000.0</td>\n",
       "      <td>10000.0</td>\n",
       "      <td>15000.0</td>\n",
       "      <td>20000.0</td>\n",
       "      <td>25000.0</td>\n",
       "    </tr>\n",
       "    <tr>\n",
       "      <th>3</th>\n",
       "      <td>7755.0</td>\n",
       "      <td>16169.310123</td>\n",
       "      <td>8841.499179</td>\n",
       "      <td>1000.0</td>\n",
       "      <td>9000.0</td>\n",
       "      <td>15000.0</td>\n",
       "      <td>24000.0</td>\n",
       "      <td>35000.0</td>\n",
       "    </tr>\n",
       "  </tbody>\n",
       "</table>\n",
       "</div>"
      ],
      "text/plain": [
       "                      count          mean           std     min      25%  \\\n",
       "K-Means_Cluster_ID                                                         \n",
       "0                      82.0  15767.987805  10350.189563  1000.0   6525.0   \n",
       "1                   31947.0  10020.813378   6534.651947   500.0   5000.0   \n",
       "2                       2.0  15000.000000  14142.135624  5000.0  10000.0   \n",
       "3                    7755.0  16169.310123   8841.499179  1000.0   9000.0   \n",
       "\n",
       "                        50%      75%      max  \n",
       "K-Means_Cluster_ID                             \n",
       "0                   14500.0  25000.0  35000.0  \n",
       "1                    8500.0  13750.0  35000.0  \n",
       "2                   15000.0  20000.0  25000.0  \n",
       "3                   15000.0  24000.0  35000.0  "
      ]
     },
     "execution_count": 19,
     "metadata": {},
     "output_type": "execute_result"
    }
   ],
   "source": [
    "df_copy.groupby('K-Means_Cluster_ID')['loan_amnt'].describe()"
   ]
  },
  {
   "cell_type": "code",
   "execution_count": 20,
   "id": "222a8a48",
   "metadata": {},
   "outputs": [
    {
     "data": {
      "text/plain": [
       "KMeans(n_clusters=2, random_state=42)"
      ]
     },
     "execution_count": 20,
     "metadata": {},
     "output_type": "execute_result"
    }
   ],
   "source": [
    "# n_clusters = 2\n",
    "\n",
    "kmeans = KMeans(n_clusters=2, random_state=42)\n",
    "kmeans.fit(df_copy)"
   ]
  },
  {
   "cell_type": "code",
   "execution_count": 21,
   "id": "ee1926c9",
   "metadata": {},
   "outputs": [
    {
     "data": {
      "text/plain": [
       "array([0, 0, 0, ..., 0, 0, 0])"
      ]
     },
     "execution_count": 21,
     "metadata": {},
     "output_type": "execute_result"
    }
   ],
   "source": [
    "kmeans.labels_"
   ]
  },
  {
   "cell_type": "code",
   "execution_count": 22,
   "id": "67de6dce",
   "metadata": {},
   "outputs": [],
   "source": [
    "df_copy['K-Means_Cluster_ID'] = kmeans.labels_"
   ]
  },
  {
   "cell_type": "code",
   "execution_count": 23,
   "id": "a92a060c",
   "metadata": {},
   "outputs": [
    {
     "data": {
      "text/plain": [
       "0    39706\n",
       "1       80\n",
       "Name: K-Means_Cluster_ID, dtype: int64"
      ]
     },
     "execution_count": 23,
     "metadata": {},
     "output_type": "execute_result"
    }
   ],
   "source": [
    "df_copy['K-Means_Cluster_ID'].value_counts()"
   ]
  },
  {
   "cell_type": "code",
   "execution_count": 24,
   "id": "98bf22ce",
   "metadata": {},
   "outputs": [
    {
     "data": {
      "text/plain": [
       "K-Means_Cluster_ID  loan_status\n",
       "0                   1              34048\n",
       "                    0               5658\n",
       "1                   1                 68\n",
       "                    0                 12\n",
       "Name: loan_status, dtype: int64"
      ]
     },
     "execution_count": 24,
     "metadata": {},
     "output_type": "execute_result"
    }
   ],
   "source": [
    "df_copy.groupby('K-Means_Cluster_ID')['loan_status'].value_counts()"
   ]
  },
  {
   "cell_type": "code",
   "execution_count": 25,
   "id": "d38c8759",
   "metadata": {},
   "outputs": [
    {
     "data": {
      "text/html": [
       "<div>\n",
       "<style scoped>\n",
       "    .dataframe tbody tr th:only-of-type {\n",
       "        vertical-align: middle;\n",
       "    }\n",
       "\n",
       "    .dataframe tbody tr th {\n",
       "        vertical-align: top;\n",
       "    }\n",
       "\n",
       "    .dataframe thead th {\n",
       "        text-align: right;\n",
       "    }\n",
       "</style>\n",
       "<table border=\"1\" class=\"dataframe\">\n",
       "  <thead>\n",
       "    <tr style=\"text-align: right;\">\n",
       "      <th></th>\n",
       "      <th>count</th>\n",
       "      <th>mean</th>\n",
       "      <th>std</th>\n",
       "      <th>min</th>\n",
       "      <th>25%</th>\n",
       "      <th>50%</th>\n",
       "      <th>75%</th>\n",
       "      <th>max</th>\n",
       "    </tr>\n",
       "    <tr>\n",
       "      <th>K-Means_Cluster_ID</th>\n",
       "      <th></th>\n",
       "      <th></th>\n",
       "      <th></th>\n",
       "      <th></th>\n",
       "      <th></th>\n",
       "      <th></th>\n",
       "      <th></th>\n",
       "      <th></th>\n",
       "    </tr>\n",
       "  </thead>\n",
       "  <tbody>\n",
       "    <tr>\n",
       "      <th>0</th>\n",
       "      <td>39706.0</td>\n",
       "      <td>11222.873747</td>\n",
       "      <td>7455.903201</td>\n",
       "      <td>500.0</td>\n",
       "      <td>5500.0</td>\n",
       "      <td>10000.0</td>\n",
       "      <td>15000.0</td>\n",
       "      <td>35000.0</td>\n",
       "    </tr>\n",
       "    <tr>\n",
       "      <th>1</th>\n",
       "      <td>80.0</td>\n",
       "      <td>15443.437500</td>\n",
       "      <td>10159.253081</td>\n",
       "      <td>1000.0</td>\n",
       "      <td>6475.0</td>\n",
       "      <td>13012.5</td>\n",
       "      <td>25000.0</td>\n",
       "      <td>35000.0</td>\n",
       "    </tr>\n",
       "  </tbody>\n",
       "</table>\n",
       "</div>"
      ],
      "text/plain": [
       "                      count          mean           std     min     25%  \\\n",
       "K-Means_Cluster_ID                                                        \n",
       "0                   39706.0  11222.873747   7455.903201   500.0  5500.0   \n",
       "1                      80.0  15443.437500  10159.253081  1000.0  6475.0   \n",
       "\n",
       "                        50%      75%      max  \n",
       "K-Means_Cluster_ID                             \n",
       "0                   10000.0  15000.0  35000.0  \n",
       "1                   13012.5  25000.0  35000.0  "
      ]
     },
     "execution_count": 25,
     "metadata": {},
     "output_type": "execute_result"
    }
   ],
   "source": [
    "df_copy.groupby('K-Means_Cluster_ID')['loan_amnt'].describe()"
   ]
  },
  {
   "cell_type": "markdown",
   "id": "690cda01",
   "metadata": {},
   "source": [
    "Regardless of the separation of 2 or 4 clusters (according to Silhouette score and Elbow-curve, there is no clear division into the loan_status columns: Fully Paid and Charged Off. Most selected clusters are poorly separated."
   ]
  },
  {
   "cell_type": "code",
   "execution_count": 26,
   "id": "1891a5f8",
   "metadata": {},
   "outputs": [],
   "source": [
    "# Dropping an additional column after clustering.\n",
    "\n",
    "df = df.drop('K-Means_Cluster_ID', axis=1)"
   ]
  },
  {
   "cell_type": "markdown",
   "id": "fd2d9b88",
   "metadata": {},
   "source": [
    "## Training models"
   ]
  },
  {
   "cell_type": "code",
   "execution_count": null,
   "id": "e517752b",
   "metadata": {},
   "outputs": [],
   "source": [
    "df.loan_status.value_counts()"
   ]
  },
  {
   "cell_type": "code",
   "execution_count": null,
   "id": "996239c2",
   "metadata": {},
   "outputs": [],
   "source": [
    "# Loading train_test_split\n",
    "\n",
    "from sklearn.model_selection import train_test_split"
   ]
  },
  {
   "cell_type": "code",
   "execution_count": null,
   "id": "1f61a4e9",
   "metadata": {},
   "outputs": [],
   "source": [
    "# Spliting data into X and y and checking the shape\n",
    "\n",
    "X = df.drop('loan_status', axis=1)\n",
    "y = df['loan_status'].values\n",
    "\n",
    "print(X.shape)\n",
    "print(y.shape)"
   ]
  },
  {
   "cell_type": "code",
   "execution_count": null,
   "id": "39eafda2",
   "metadata": {},
   "outputs": [],
   "source": [
    "# Data splitting into training and testing data\n",
    "\n",
    "X_train, X_test, y_train, y_test = train_test_split(X, y, test_size=0.30, random_state=42)"
   ]
  },
  {
   "cell_type": "code",
   "execution_count": null,
   "id": "2df38f1a",
   "metadata": {},
   "outputs": [],
   "source": [
    "# Checking the size of the data split\n",
    "\n",
    "print(X_train.shape)\n",
    "print(X_test.shape)\n",
    "print(y_train.shape)\n",
    "print(y_test.shape)"
   ]
  },
  {
   "cell_type": "code",
   "execution_count": null,
   "id": "ad624f20",
   "metadata": {},
   "outputs": [],
   "source": [
    "# Importing metrics and classification report\n",
    "\n",
    "from sklearn.metrics import classification_report,confusion_matrix\n",
    "from sklearn.metrics import precision_score"
   ]
  },
  {
   "cell_type": "code",
   "execution_count": null,
   "id": "01ecc053",
   "metadata": {},
   "outputs": [],
   "source": [
    "# Function using to create a classification reports\n",
    "\n",
    "def evaluate(prediction,y_test): \n",
    "    result = classification_report(y_test,prediction,output_dict=True, zero_division=1)\n",
    "    f1 = result['1']['f1-score']\n",
    "    accuracy = result['accuracy']\n",
    "    performance_data= {'f1-score':round(f1, 2),\n",
    "                      'accuracy':round(accuracy, 2)}\n",
    "    return performance_data"
   ]
  },
  {
   "cell_type": "markdown",
   "id": "17e93cda",
   "metadata": {},
   "source": [
    "### Decision Tree"
   ]
  },
  {
   "cell_type": "code",
   "execution_count": null,
   "id": "bac0ea22",
   "metadata": {},
   "outputs": [],
   "source": [
    "from sklearn.tree import DecisionTreeClassifier"
   ]
  },
  {
   "cell_type": "code",
   "execution_count": null,
   "id": "e5b52915",
   "metadata": {},
   "outputs": [],
   "source": [
    "dtree = DecisionTreeClassifier()"
   ]
  },
  {
   "cell_type": "code",
   "execution_count": null,
   "id": "99ca195a",
   "metadata": {},
   "outputs": [],
   "source": [
    "dtree.fit(X_train,y_train)"
   ]
  },
  {
   "cell_type": "code",
   "execution_count": null,
   "id": "561971dd",
   "metadata": {},
   "outputs": [],
   "source": [
    "dt_prediction = dtree.predict(X_test)"
   ]
  },
  {
   "cell_type": "code",
   "execution_count": null,
   "id": "f3b18dfb",
   "metadata": {},
   "outputs": [],
   "source": [
    "print(classification_report(y_test, dt_prediction, zero_division=1))\n",
    "\n",
    "dtree_pr= evaluate(dt_prediction,y_test)\n",
    "dtree_pr"
   ]
  },
  {
   "cell_type": "code",
   "execution_count": null,
   "id": "c6c7a8be",
   "metadata": {},
   "outputs": [],
   "source": [
    "# Calculating the number of predicted 0s and 1s\n",
    "\n",
    "dtree_count = np.unique(dt_prediction, return_counts=True)\n",
    "dtree_count"
   ]
  },
  {
   "cell_type": "markdown",
   "id": "7e224fa5",
   "metadata": {},
   "source": [
    "### Random Forest"
   ]
  },
  {
   "cell_type": "code",
   "execution_count": null,
   "id": "e1efbe38",
   "metadata": {},
   "outputs": [],
   "source": [
    "from sklearn.ensemble import RandomForestClassifier\n",
    "rf = RandomForestClassifier(n_estimators=100)\n",
    "rf.fit(X_train, y_train)"
   ]
  },
  {
   "cell_type": "code",
   "execution_count": null,
   "id": "16ff52b7",
   "metadata": {},
   "outputs": [],
   "source": [
    "rf_prediction = rf.predict(X_test)"
   ]
  },
  {
   "cell_type": "code",
   "execution_count": null,
   "id": "8fcdb1dc",
   "metadata": {},
   "outputs": [],
   "source": [
    "print(classification_report(y_test, rf_prediction, zero_division=1))\n",
    "rf_pr = evaluate(rf_prediction,y_test)\n",
    "print(rf_pr)"
   ]
  },
  {
   "cell_type": "code",
   "execution_count": null,
   "id": "c573c06f",
   "metadata": {},
   "outputs": [],
   "source": [
    "rf_count = np.unique(rf_prediction, return_counts=True)\n",
    "rf_count"
   ]
  },
  {
   "cell_type": "code",
   "execution_count": null,
   "id": "fd931508",
   "metadata": {},
   "outputs": [],
   "source": [
    "# Data standardization\n",
    "\n",
    "from sklearn.preprocessing import StandardScaler\n",
    "scaler = StandardScaler()\n",
    "scaler.fit(df.drop('loan_status',axis=1))\n",
    "scaled_data = scaler.transform(df.drop('loan_status' ,axis=1))\n",
    "df_scaled = pd.DataFrame(scaled_data,columns=df.drop('loan_status',axis=1).columns)\n",
    "df_scaled.head()"
   ]
  },
  {
   "cell_type": "code",
   "execution_count": null,
   "id": "d213461f",
   "metadata": {},
   "outputs": [],
   "source": [
    "X_scaled_train, X_scaled_test, y_scaled_train, y_scaled_test = train_test_split(scaled_data, df['loan_status'],\n",
    "                                                    test_size=0.30, random_state = 42)"
   ]
  },
  {
   "cell_type": "markdown",
   "id": "0a6be390",
   "metadata": {},
   "source": [
    "### Logistic Regression"
   ]
  },
  {
   "cell_type": "code",
   "execution_count": null,
   "id": "0c835b66",
   "metadata": {},
   "outputs": [],
   "source": [
    "from sklearn.linear_model import LogisticRegression\n",
    "lr = LogisticRegression()\n",
    "lr.fit(X_scaled_train, y_scaled_train)"
   ]
  },
  {
   "cell_type": "code",
   "execution_count": null,
   "id": "b3017ea5",
   "metadata": {},
   "outputs": [],
   "source": [
    "lr_prediction = lr.predict(X_scaled_test)"
   ]
  },
  {
   "cell_type": "code",
   "execution_count": null,
   "id": "cf7db45d",
   "metadata": {},
   "outputs": [],
   "source": [
    "print(classification_report(y_scaled_test, lr_prediction, zero_division=1))\n",
    "lr_pr = evaluate(lr_prediction,y_scaled_test)\n",
    "print(lr_pr)"
   ]
  },
  {
   "cell_type": "code",
   "execution_count": null,
   "id": "aaffc8fd",
   "metadata": {},
   "outputs": [],
   "source": [
    "lr_count = np.unique(lr_prediction, return_counts=True)\n",
    "lr_count"
   ]
  },
  {
   "cell_type": "markdown",
   "id": "31ab3463",
   "metadata": {},
   "source": [
    "### Naïve Bayes"
   ]
  },
  {
   "cell_type": "code",
   "execution_count": null,
   "id": "c4ca3dce",
   "metadata": {},
   "outputs": [],
   "source": [
    "from sklearn.naive_bayes import GaussianNB\n",
    "nb = GaussianNB()\n",
    "nb.fit(X_scaled_train, y_scaled_train)"
   ]
  },
  {
   "cell_type": "code",
   "execution_count": null,
   "id": "fd7cff2b",
   "metadata": {},
   "outputs": [],
   "source": [
    "nb_prediction = nb.predict(X_scaled_test)"
   ]
  },
  {
   "cell_type": "code",
   "execution_count": null,
   "id": "81cc6945",
   "metadata": {},
   "outputs": [],
   "source": [
    "print(classification_report(y_scaled_test, nb_prediction, zero_division=1))\n",
    "nb_pr = evaluate(nb_prediction,y_scaled_test)\n",
    "print(nb_pr)"
   ]
  },
  {
   "cell_type": "code",
   "execution_count": null,
   "id": "028e9a00",
   "metadata": {},
   "outputs": [],
   "source": [
    "nb_count = np.unique(nb_prediction, return_counts=True)\n",
    "nb_count"
   ]
  },
  {
   "cell_type": "markdown",
   "id": "f3466862",
   "metadata": {},
   "source": [
    "### Support Vector Machine (SVM)"
   ]
  },
  {
   "cell_type": "code",
   "execution_count": null,
   "id": "0fb60750",
   "metadata": {},
   "outputs": [],
   "source": [
    "from sklearn.svm import SVC"
   ]
  },
  {
   "cell_type": "code",
   "execution_count": null,
   "id": "56d587f6",
   "metadata": {},
   "outputs": [],
   "source": [
    "model = SVC()"
   ]
  },
  {
   "cell_type": "code",
   "execution_count": null,
   "id": "e13174ec",
   "metadata": {},
   "outputs": [],
   "source": [
    "model.fit(X_scaled_train, y_scaled_train)"
   ]
  },
  {
   "cell_type": "code",
   "execution_count": null,
   "id": "bfe5dba2",
   "metadata": {},
   "outputs": [],
   "source": [
    "svm_prediction = model.predict(X_scaled_test)"
   ]
  },
  {
   "cell_type": "code",
   "execution_count": null,
   "id": "58b0e654",
   "metadata": {},
   "outputs": [],
   "source": [
    "print(classification_report(y_scaled_test, svm_prediction, zero_division=1))\n",
    "svm_pr = evaluate(svm_prediction,y_scaled_test)\n",
    "svm_pr"
   ]
  },
  {
   "cell_type": "code",
   "execution_count": null,
   "id": "2a0cbe48",
   "metadata": {},
   "outputs": [],
   "source": [
    "svm_count = np.unique(svm_prediction, return_counts=True)\n",
    "svm_count"
   ]
  },
  {
   "cell_type": "markdown",
   "id": "244125ae",
   "metadata": {},
   "source": [
    "### K-Nearest Neighbors (KNN)"
   ]
  },
  {
   "cell_type": "code",
   "execution_count": null,
   "id": "a8a57a08",
   "metadata": {},
   "outputs": [],
   "source": [
    "from sklearn.neighbors import KNeighborsClassifier\n",
    "knn = KNeighborsClassifier(n_neighbors=2)"
   ]
  },
  {
   "cell_type": "code",
   "execution_count": null,
   "id": "21f7e03f",
   "metadata": {},
   "outputs": [],
   "source": [
    "knn.fit(X_scaled_train,y_scaled_train)"
   ]
  },
  {
   "cell_type": "code",
   "execution_count": null,
   "id": "4326dfb1",
   "metadata": {},
   "outputs": [],
   "source": [
    "from warnings import simplefilter\n",
    "simplefilter(action='ignore', category=FutureWarning)"
   ]
  },
  {
   "cell_type": "code",
   "execution_count": null,
   "id": "6e530cc3",
   "metadata": {},
   "outputs": [],
   "source": [
    "knn_prediction = knn.predict(X_scaled_test)"
   ]
  },
  {
   "cell_type": "code",
   "execution_count": null,
   "id": "ca07a273",
   "metadata": {},
   "outputs": [],
   "source": [
    "print(classification_report(knn_prediction, y_scaled_test, zero_division=1))\n",
    "knn_pr = evaluate(knn_prediction,y_scaled_test)\n",
    "knn_pr"
   ]
  },
  {
   "cell_type": "code",
   "execution_count": null,
   "id": "9b9bcbfb",
   "metadata": {},
   "outputs": [],
   "source": [
    "knn_count = np.unique(knn_prediction, return_counts=True)\n",
    "knn_count"
   ]
  },
  {
   "cell_type": "code",
   "execution_count": null,
   "id": "8c2bf69a",
   "metadata": {},
   "outputs": [],
   "source": [
    "prediction_data={'Model': ['Decision Tree',\n",
    "                          'Random Forest',\n",
    "                          'Logistic Regression',\n",
    "                          'Naive Bayes',\n",
    "                          'SVM',\n",
    "                          'KNN'\n",
    "                         ],\n",
    "                   'F1-score': [dtree_pr['f1-score'],\n",
    "                              rf_pr['f1-score'],\n",
    "                              lr_pr['f1-score'],\n",
    "                              nb_pr['f1-score'],\n",
    "                              svm_pr['f1-score'],\n",
    "                              knn_pr['f1-score']],\n",
    "                 \n",
    "                   'Accuracy': [dtree_pr['accuracy'],\n",
    "                              rf_pr['accuracy'],\n",
    "                              lr_pr['accuracy'],\n",
    "                              nb_pr['accuracy'],\n",
    "                              svm_pr['accuracy'],\n",
    "                              knn_pr['accuracy']],\n",
    "                 \n",
    "                    }\n",
    " \n",
    "# Create DataFrame\n",
    "prediction_table = pd.DataFrame(prediction_data)\n",
    "prediction_table"
   ]
  },
  {
   "cell_type": "code",
   "execution_count": null,
   "id": "c097898d",
   "metadata": {},
   "outputs": [],
   "source": [
    "prediction_counts = {'Model': ['Decision Tree',\n",
    "                              'Random Forest',\n",
    "                              'Logistic Regression',\n",
    "                              'Naive Bayes',\n",
    "                              'SVM',\n",
    "                              'KNN'\n",
    "                              ],\n",
    "                     \n",
    "                    'Balnce [0 : 1]': [dtree_count[1],\n",
    "                              rf_count[1],\n",
    "                              lr_count[1],\n",
    "                              nb_count[1],\n",
    "                              svm_count[1],\n",
    "                              knn_count[1]]\n",
    "                    }\n",
    "\n",
    "counts_table = pd.DataFrame(prediction_counts)\n",
    "counts_table"
   ]
  },
  {
   "cell_type": "markdown",
   "id": "753eab9e",
   "metadata": {},
   "source": [
    "The three models: Random Forest, Logistic Regression and SVM have the same high accuracy and f1_score but the answers are unbalanced (no negative answers for SVM and only a few negative answers for Random Forest and Logistic Regression). The models: Decision Tree Classifier, Naive Bayes and K Nearest Neighbors are characterized by better balanced data."
   ]
  },
  {
   "cell_type": "markdown",
   "id": "85d17a7c",
   "metadata": {},
   "source": [
    "## Data compression by PCA"
   ]
  },
  {
   "cell_type": "code",
   "execution_count": null,
   "id": "a902b6a1",
   "metadata": {},
   "outputs": [],
   "source": [
    "X_scaled = scaler.fit_transform(X)"
   ]
  },
  {
   "cell_type": "code",
   "execution_count": null,
   "id": "f5839ed2",
   "metadata": {},
   "outputs": [],
   "source": [
    "X_scaled[:4, :4]"
   ]
  },
  {
   "cell_type": "code",
   "execution_count": null,
   "id": "d52a040f",
   "metadata": {},
   "outputs": [],
   "source": [
    "X_scaled_df = pd.DataFrame(X_scaled, columns=X.columns)\n",
    "X_scaled_df.head()"
   ]
  },
  {
   "cell_type": "code",
   "execution_count": null,
   "id": "5964c049",
   "metadata": {},
   "outputs": [],
   "source": [
    "# Heatmap\n",
    "\n",
    "plt.figure(figsize = (20,10))\n",
    "sns.heatmap(X_scaled_df.corr(), annot=True)"
   ]
  },
  {
   "cell_type": "code",
   "execution_count": null,
   "id": "03c778d9",
   "metadata": {},
   "outputs": [],
   "source": [
    "from sklearn.decomposition import PCA\n",
    "\n",
    "pca = PCA(random_state=42)\n",
    "pca.fit(X_scaled)"
   ]
  },
  {
   "cell_type": "code",
   "execution_count": null,
   "id": "c0f67440",
   "metadata": {},
   "outputs": [],
   "source": [
    "pca.components_[0]"
   ]
  },
  {
   "cell_type": "code",
   "execution_count": null,
   "id": "9abfb1e8",
   "metadata": {},
   "outputs": [],
   "source": [
    "# Percentage of variance explained by each of the selected components.\n",
    "\n",
    "pca.explained_variance_ratio_"
   ]
  },
  {
   "cell_type": "code",
   "execution_count": null,
   "id": "f8abbb4d",
   "metadata": {},
   "outputs": [],
   "source": [
    "# Cumulative sum of elements\n",
    "\n",
    "var_cumu = np.cumsum(pca.explained_variance_ratio_)\n",
    "var_cumu"
   ]
  },
  {
   "cell_type": "code",
   "execution_count": null,
   "id": "76c2f2b8",
   "metadata": {},
   "outputs": [],
   "source": [
    "# Ploting the best number of PCA components\n",
    "\n",
    "fig = plt.figure(figsize=[12,8], dpi=200)\n",
    "plt.xticks([0,2,4,6,8,10,12,14,16,18,20,22,24,26])\n",
    "plt.vlines(x=18, ymax=1, ymin=0, colors='r', linestyles='--')\n",
    "plt.hlines(y=0.95, xmax = 27, xmin=0, colors='g', linestyles='--')\n",
    "plt.plot(var_cumu)\n",
    "plt.ylabel(\"Cumulative variance explained\")\n",
    "plt.show()"
   ]
  },
  {
   "cell_type": "code",
   "execution_count": null,
   "id": "7131a35c",
   "metadata": {},
   "outputs": [],
   "source": [
    "# Data compression to 18 variables\n",
    "\n",
    "pca_final = PCA(n_components=18)\n",
    "X_pca_final = pca_final.fit_transform(X_scaled) "
   ]
  },
  {
   "cell_type": "code",
   "execution_count": null,
   "id": "aa2a7bf1",
   "metadata": {},
   "outputs": [],
   "source": [
    "print(X.shape)\n",
    "print(X_pca_final.shape)"
   ]
  },
  {
   "cell_type": "code",
   "execution_count": null,
   "id": "e3258bd9",
   "metadata": {},
   "outputs": [],
   "source": [
    "corrmat = np.corrcoef(X_pca_final.transpose())\n",
    "corrmat.shape"
   ]
  },
  {
   "cell_type": "code",
   "execution_count": null,
   "id": "5a06896f",
   "metadata": {},
   "outputs": [],
   "source": [
    "# Heatmap after PCA\n",
    "\n",
    "plt.figure(figsize=[20,20])\n",
    "sns.heatmap(corrmat, annot=True)"
   ]
  },
  {
   "cell_type": "code",
   "execution_count": null,
   "id": "03b12e68",
   "metadata": {},
   "outputs": [],
   "source": [
    "colnames = list(X.columns)\n",
    "pca_df = pd.DataFrame({'PC1': pca.components_[0], 'PC2': pca.components_[1], 'PC3': pca.components_[2], \n",
    "                       'PC4': pca.components_[3], 'PC5': pca.components_[4], 'PC6': pca.components_[5], \n",
    "                       'PC7': pca.components_[6], 'PC8': pca.components_[7], 'PC9': pca.components_[8],\n",
    "                       'PC10': pca.components_[9], 'PC11': pca.components_[10], 'PC12': pca.components_[11],\n",
    "                       'PC13': pca.components_[12], 'PC14': pca.components_[13], 'PC15': pca.components_[14],\n",
    "                       'PC16': pca.components_[15], 'PC17': pca.components_[16], 'PC18': pca.components_[17],\n",
    "                       'Features': colnames})\n",
    "pca_df"
   ]
  },
  {
   "cell_type": "code",
   "execution_count": null,
   "id": "31b43275",
   "metadata": {},
   "outputs": [],
   "source": [
    "pca_df.shape"
   ]
  },
  {
   "cell_type": "markdown",
   "id": "fbd78963",
   "metadata": {},
   "source": [
    "## Training models after PCA"
   ]
  },
  {
   "cell_type": "code",
   "execution_count": null,
   "id": "7f030a24",
   "metadata": {},
   "outputs": [],
   "source": [
    "X = X_pca_final\n",
    "y = df.loan_status\n",
    "\n",
    "print(X.shape)\n",
    "print(y.shape)"
   ]
  },
  {
   "cell_type": "code",
   "execution_count": null,
   "id": "d9d59327",
   "metadata": {},
   "outputs": [],
   "source": [
    "X_train, X_test, y_train, y_test = train_test_split(X, y, test_size=0.30, random_state=42)"
   ]
  },
  {
   "cell_type": "markdown",
   "id": "85ef16da",
   "metadata": {},
   "source": [
    "### Decision Tree"
   ]
  },
  {
   "cell_type": "code",
   "execution_count": null,
   "id": "3146fe7d",
   "metadata": {},
   "outputs": [],
   "source": [
    "dtree_pca = DecisionTreeClassifier()\n",
    "dtree_pca.fit(X_train, y_train)"
   ]
  },
  {
   "cell_type": "code",
   "execution_count": null,
   "id": "cf61b19c",
   "metadata": {},
   "outputs": [],
   "source": [
    "dtree_pca_pred = dtree_pca.predict(X_test)"
   ]
  },
  {
   "cell_type": "code",
   "execution_count": null,
   "id": "892fa36a",
   "metadata": {},
   "outputs": [],
   "source": [
    "print(classification_report(y_test, dtree_pca_pred, zero_division=1))\n",
    "\n",
    "dtree_pca_pr = evaluate(dtree_pca_pred,y_test)\n",
    "dtree_pca_pr"
   ]
  },
  {
   "cell_type": "code",
   "execution_count": null,
   "id": "2706fbcc",
   "metadata": {},
   "outputs": [],
   "source": [
    "dtree_pca_count = np.unique(dtree_pca_pred, return_counts=True)\n",
    "dtree_pca_count"
   ]
  },
  {
   "cell_type": "markdown",
   "id": "2881d049",
   "metadata": {},
   "source": [
    "### Random Forest"
   ]
  },
  {
   "cell_type": "code",
   "execution_count": null,
   "id": "6ce500d2",
   "metadata": {},
   "outputs": [],
   "source": [
    "rf_pca = RandomForestClassifier()\n",
    "rf_pca.fit(X_train, y_train)"
   ]
  },
  {
   "cell_type": "code",
   "execution_count": null,
   "id": "aaf056e0",
   "metadata": {},
   "outputs": [],
   "source": [
    "rf_pca_pred = rf_pca.predict(X_test)"
   ]
  },
  {
   "cell_type": "code",
   "execution_count": null,
   "id": "447451c8",
   "metadata": {},
   "outputs": [],
   "source": [
    "print(classification_report(y_test, rf_pca_pred, zero_division=1))\n",
    "\n",
    "rf_pca_pr = evaluate(rf_pca_pred, y_test)\n",
    "rf_pca_pr"
   ]
  },
  {
   "cell_type": "code",
   "execution_count": null,
   "id": "639908e8",
   "metadata": {},
   "outputs": [],
   "source": [
    "rf_pca_count = np.unique(rf_pca_pred, return_counts=True)\n",
    "rf_pca_count"
   ]
  },
  {
   "cell_type": "markdown",
   "id": "d468c56a",
   "metadata": {},
   "source": [
    "### Logistic Regression"
   ]
  },
  {
   "cell_type": "code",
   "execution_count": null,
   "id": "fb219928",
   "metadata": {},
   "outputs": [],
   "source": [
    "lr_pca = LogisticRegression()\n",
    "lr_pca.fit(X_train, y_train)"
   ]
  },
  {
   "cell_type": "code",
   "execution_count": null,
   "id": "c37f5990",
   "metadata": {},
   "outputs": [],
   "source": [
    "lr_pca_pred = lr_pca.predict(X_test)"
   ]
  },
  {
   "cell_type": "code",
   "execution_count": null,
   "id": "00c75d91",
   "metadata": {},
   "outputs": [],
   "source": [
    "print(classification_report(y_test, lr_pca_pred, zero_division=1))\n",
    "\n",
    "lr_pca_pr = evaluate(lr_pca_pred, y_test)\n",
    "lr_pca_pr"
   ]
  },
  {
   "cell_type": "code",
   "execution_count": null,
   "id": "ea14febd",
   "metadata": {},
   "outputs": [],
   "source": [
    "lr_pca_count = np.unique(lr_pca_pred, return_counts=True)\n",
    "lr_pca_count"
   ]
  },
  {
   "cell_type": "markdown",
   "id": "f492e3f2",
   "metadata": {},
   "source": [
    "### Naïve Bayes"
   ]
  },
  {
   "cell_type": "code",
   "execution_count": null,
   "id": "b818f08e",
   "metadata": {},
   "outputs": [],
   "source": [
    "from sklearn.naive_bayes import GaussianNB\n",
    "nb_pca = GaussianNB()\n",
    "nb_pca.fit(X_train, y_train)"
   ]
  },
  {
   "cell_type": "code",
   "execution_count": null,
   "id": "ff217019",
   "metadata": {},
   "outputs": [],
   "source": [
    "nb_pca_pred = nb_pca.predict(X_test)"
   ]
  },
  {
   "cell_type": "code",
   "execution_count": null,
   "id": "bffb4d08",
   "metadata": {},
   "outputs": [],
   "source": [
    "print(classification_report(y_test, nb_pca_pred, zero_division=1))\n",
    "\n",
    "nb_pca_pr = evaluate(nb_pca_pred, y_test)\n",
    "nb_pca_pr"
   ]
  },
  {
   "cell_type": "code",
   "execution_count": null,
   "id": "3c1894f5",
   "metadata": {},
   "outputs": [],
   "source": [
    "nb_pca_count = np.unique(nb_pca_pred, return_counts=True)\n",
    "nb_pca_count"
   ]
  },
  {
   "cell_type": "markdown",
   "id": "05cd7575",
   "metadata": {},
   "source": [
    "### Support Vector Machine (SVM)"
   ]
  },
  {
   "cell_type": "code",
   "execution_count": null,
   "id": "c744a91f",
   "metadata": {},
   "outputs": [],
   "source": [
    "svm_pca = SVC()\n",
    "svm_pca.fit(X_train, y_train)"
   ]
  },
  {
   "cell_type": "code",
   "execution_count": null,
   "id": "9408a94d",
   "metadata": {},
   "outputs": [],
   "source": [
    "svm_pca_pred = svm_pca.predict(X_test)"
   ]
  },
  {
   "cell_type": "code",
   "execution_count": null,
   "id": "387e0148",
   "metadata": {},
   "outputs": [],
   "source": [
    "print(classification_report(y_test, svm_pca_pred, zero_division=1))\n",
    "\n",
    "svm_pca_pr = evaluate(svm_pca_pred, y_test)\n",
    "svm_pca_pr"
   ]
  },
  {
   "cell_type": "code",
   "execution_count": null,
   "id": "b7712878",
   "metadata": {},
   "outputs": [],
   "source": [
    "svm_pca_count = np.unique(svm_pca_pred, return_counts=True)\n",
    "svm_pca_count"
   ]
  },
  {
   "cell_type": "markdown",
   "id": "8a1f1259",
   "metadata": {},
   "source": [
    "### K Nearest Neighbors(KNN)"
   ]
  },
  {
   "cell_type": "code",
   "execution_count": null,
   "id": "d4726217",
   "metadata": {},
   "outputs": [],
   "source": [
    "knn_pca = KNeighborsClassifier(n_neighbors=2)\n",
    "knn_pca.fit(X_train, y_train)"
   ]
  },
  {
   "cell_type": "code",
   "execution_count": null,
   "id": "526e590f",
   "metadata": {},
   "outputs": [],
   "source": [
    "knn_pca_pred = knn_pca.predict(X_test)"
   ]
  },
  {
   "cell_type": "code",
   "execution_count": null,
   "id": "79bb769b",
   "metadata": {},
   "outputs": [],
   "source": [
    "print(classification_report(y_test, knn_pca_pred, zero_division=1))\n",
    "\n",
    "knn_pca_pr = evaluate(knn_pca_pred, y_test)\n",
    "knn_pca_pr"
   ]
  },
  {
   "cell_type": "code",
   "execution_count": null,
   "id": "7232e48e",
   "metadata": {},
   "outputs": [],
   "source": [
    "knn_pca_count = np.unique(knn_pca_pred, return_counts=True)\n",
    "knn_pca_count"
   ]
  },
  {
   "cell_type": "code",
   "execution_count": null,
   "id": "471f37e7",
   "metadata": {},
   "outputs": [],
   "source": [
    "pca_prediction_data={'Model': ['Decision Tree',\n",
    "                          'Random Forest',\n",
    "                          'Logistic Regression',\n",
    "                          'Naive Bayes',\n",
    "                          'SVM',\n",
    "                          'KNN'\n",
    "                         ],\n",
    "                   'F1-score': [dtree_pr['f1-score'],\n",
    "                              rf_pr['f1-score'],\n",
    "                              lr_pr['f1-score'],\n",
    "                              nb_pr['f1-score'],\n",
    "                              svm_pr['f1-score'],\n",
    "                              knn_pr['f1-score']\n",
    "                               ],\n",
    "                 \n",
    "                   'Accuracy': [dtree_pr['accuracy'],\n",
    "                              rf_pr['accuracy'],\n",
    "                              lr_pr['accuracy'],\n",
    "                              nb_pr['accuracy'],\n",
    "                              svm_pr['accuracy'],\n",
    "                              knn_pr['accuracy']\n",
    "                               ],\n",
    "                     \n",
    "         'F1-score after PCA':[dtree_pca_pr['f1-score'],\n",
    "                              rf_pca_pr['f1-score'],\n",
    "                              lr_pca_pr['f1-score'],\n",
    "                              nb_pca_pr['f1-score'],\n",
    "                              svm_pca_pr['f1-score'],\n",
    "                              knn_pca_pr['f1-score']\n",
    "                               ],\n",
    "                               \n",
    "         'Accuracy after PCA':[dtree_pca_pr['accuracy'],\n",
    "                              rf_pca_pr['accuracy'],\n",
    "                              lr_pca_pr['accuracy'],\n",
    "                              nb_pca_pr['accuracy'],\n",
    "                              svm_pca_pr['accuracy'],\n",
    "                              knn_pca_pr['accuracy']\n",
    "                              \n",
    "                              ]}\n",
    " \n",
    "# Create DataFrame\n",
    "prediction_table_all = pd.DataFrame(pca_prediction_data)\n",
    "prediction_table_all"
   ]
  },
  {
   "cell_type": "markdown",
   "id": "9996e772",
   "metadata": {},
   "source": [
    "All models showed the same or similar f1-scores and accuracy. Reducing the dimensions of the data using PCA did not improve the results."
   ]
  },
  {
   "cell_type": "code",
   "execution_count": null,
   "id": "c78dc305",
   "metadata": {},
   "outputs": [],
   "source": [
    "prediction_pca_counts = {'Model': ['Decision Tree',\n",
    "                              'Random Forest',\n",
    "                              'Logistic Regression',\n",
    "                              'Naive Bayes',\n",
    "                              'SVM',\n",
    "                              'KNN'\n",
    "                              ],\n",
    "                     \n",
    "                    'Balnce [0 : 1]': [dtree_count[1],\n",
    "                              rf_count[1],\n",
    "                              lr_count[1],\n",
    "                              nb_count[1],\n",
    "                              svm_count[1],\n",
    "                              knn_count[1]\n",
    "                                      ],\n",
    "                     \n",
    "            'Balnce after PCA [0 : 1]': [dtree_pca_count[1],\n",
    "                              rf_pca_count[1],\n",
    "                              lr_pca_count[1],\n",
    "                              nb_pca_count[1],\n",
    "                              svm_pca_count[1],\n",
    "                              knn_pca_count[1]\n",
    "                                        ]\n",
    "                    }\n",
    "\n",
    "counts_table_all = pd.DataFrame(prediction_pca_counts)\n",
    "counts_table_all"
   ]
  },
  {
   "cell_type": "markdown",
   "id": "4111e5d6",
   "metadata": {},
   "source": [
    "After PCA, the Decision Tree Classifier model and K Nearest Neighbors improved slightly, and in the remaining cases, the imbalance is again visible. The Naive Bayes model shows a significant reduction in loan default prediction."
   ]
  },
  {
   "cell_type": "markdown",
   "id": "6d665814",
   "metadata": {},
   "source": [
    "## Choosing one model and fitting the parameters"
   ]
  },
  {
   "cell_type": "markdown",
   "id": "83dbcfb0",
   "metadata": {},
   "source": [
    "The Random Forest, Logistic Regression and the Support Vector Machine (SVM) seemed to be the best models with the highest F1-score and accuracy. The use of PCA on these models did not improve the results. All of these 3 models predicted that borrowers would always or almost always repay their loans (almost all predictions in y_pred were 1). Therefore, there was a choice between models: Decision Tree, Naive Bayes (before PCA) and K-NearestNeighbors(KNN). The K Nearest Neighbor (KNN) model was chosen as the final one for slightly better results - accuracy 0.78 and f1-score 0.88."
   ]
  },
  {
   "cell_type": "code",
   "execution_count": null,
   "id": "339b619f",
   "metadata": {},
   "outputs": [],
   "source": [
    "# Using standardized data from the previous KNN model (before PCA) and checking the shape\n",
    "\n",
    "print(X_scaled_train.shape)\n",
    "print(X_scaled_test.shape)\n",
    "print(y_scaled_train.shape)\n",
    "print(y_scaled_test.shape)"
   ]
  },
  {
   "cell_type": "code",
   "execution_count": null,
   "id": "e1cbd8e7",
   "metadata": {},
   "outputs": [],
   "source": [
    "# Searching for the best number of neighbors \n",
    "\n",
    "from sklearn.model_selection import cross_val_score\n",
    "\n",
    "k_values = [i for i in range (1,6)]\n",
    "scores = []\n",
    "\n",
    "X_scaled_train = scaler.fit_transform(X_scaled_train)\n",
    "\n",
    "for k in k_values:\n",
    "    knn_k = KNeighborsClassifier(n_neighbors=k)\n",
    "    score = cross_val_score(knn_k, X_scaled_train, y_scaled_train, cv=5)\n",
    "    scores.append(np.mean(score))\n",
    "    \n",
    "sns.lineplot(x = k_values, y = scores, marker = 'o')\n",
    "plt.xticks([1, 2, 3, 4, 5])\n",
    "plt.xlabel(\"K Values\")\n",
    "plt.ylabel(\"Accuracy Score\")\n"
   ]
  },
  {
   "cell_type": "code",
   "execution_count": null,
   "id": "6028a040",
   "metadata": {},
   "outputs": [],
   "source": [
    "acc_scores = pd.DataFrame({'n_neighbors': [1, 2, 3, 4, 5],\n",
    "                           \n",
    "                          'Accuracy': [scores[0],\n",
    "                                       scores[1],\n",
    "                                       scores[2],\n",
    "                                       scores[3],\n",
    "                                       scores[4],\n",
    "                                                                             \n",
    "                                      ]})\n",
    "\n",
    "acc_scores.style.hide_index()"
   ]
  },
  {
   "cell_type": "code",
   "execution_count": null,
   "id": "4680faa4",
   "metadata": {},
   "outputs": [],
   "source": [
    "# Gread Search Cross Validation for the best hyperparameters\n",
    "\n",
    "from sklearn.model_selection import GridSearchCV\n",
    "grid_params = { 'n_neighbors' : [1, 2, 3, 4, 5],\n",
    "               'weights' : ['uniform', 'distance'],\n",
    "               'metric' : ['minkowski','euclidean','manhattan']}\n",
    "\n",
    "gs = GridSearchCV(KNeighborsClassifier(), grid_params, cv=3, n_jobs = -1)"
   ]
  },
  {
   "cell_type": "code",
   "execution_count": null,
   "id": "8978949d",
   "metadata": {},
   "outputs": [],
   "source": [
    "# Fitting the model on the train set\n",
    "\n",
    "g_res = gs.fit(X_scaled_train, y_scaled_train)"
   ]
  },
  {
   "cell_type": "code",
   "execution_count": null,
   "id": "7eb693e0",
   "metadata": {},
   "outputs": [],
   "source": [
    "# Finding the best score\n",
    "\n",
    "g_res.best_score_"
   ]
  },
  {
   "cell_type": "code",
   "execution_count": null,
   "id": "f0e022e4",
   "metadata": {},
   "outputs": [],
   "source": [
    "g_res.best_params_"
   ]
  },
  {
   "cell_type": "code",
   "execution_count": null,
   "id": "c1605fad",
   "metadata": {},
   "outputs": [],
   "source": [
    "# Checking the data balance and confusion matrix\n",
    "\n",
    "knn_5 = KNeighborsClassifier(n_neighbors=5, metric='manhattan')\n",
    "knn_5.fit(X_scaled_train, y_scaled_train)"
   ]
  },
  {
   "cell_type": "code",
   "execution_count": null,
   "id": "bc01dd5a",
   "metadata": {},
   "outputs": [],
   "source": [
    "y_pred5 = knn_5.predict(X_scaled_test)\n",
    "count_y_pred5 = np.unique(y_pred5, return_counts=True)\n",
    "count_y_pred5"
   ]
  },
  {
   "cell_type": "code",
   "execution_count": null,
   "id": "03fee5bf",
   "metadata": {},
   "outputs": [],
   "source": [
    "matrix_k5 = confusion_matrix(y_scaled_test, y_pred5)\n",
    "matrix_k5"
   ]
  },
  {
   "cell_type": "markdown",
   "id": "90cf3126",
   "metadata": {},
   "source": [
    "The high accuracy of this model is due to the very large number of true positive predictions. It is likely that the model will show positive loan capacity in most applications, which will be unfavorable for the loan company."
   ]
  },
  {
   "cell_type": "code",
   "execution_count": null,
   "id": "d0a66c50",
   "metadata": {},
   "outputs": [],
   "source": [
    "knn_4 = KNeighborsClassifier(n_neighbors=4, metric='manhattan')\n",
    "knn_4.fit(X_scaled_train, y_scaled_train)"
   ]
  },
  {
   "cell_type": "code",
   "execution_count": null,
   "id": "ff4f9dd2",
   "metadata": {},
   "outputs": [],
   "source": [
    "y_pred4 = knn_4.predict(X_scaled_test)\n",
    "count_y_pred4 = np.unique(y_pred4, return_counts=True)\n",
    "count_y_pred4"
   ]
  },
  {
   "cell_type": "code",
   "execution_count": null,
   "id": "27e40a6e",
   "metadata": {},
   "outputs": [],
   "source": [
    "matrix_k4 = confusion_matrix(y_scaled_test, y_pred4)\n",
    "matrix_k4"
   ]
  },
  {
   "cell_type": "code",
   "execution_count": null,
   "id": "ceb94312",
   "metadata": {},
   "outputs": [],
   "source": [
    "knn_3 = KNeighborsClassifier(n_neighbors=3, metric='manhattan')\n",
    "knn_3.fit(X_scaled_train, y_scaled_train)"
   ]
  },
  {
   "cell_type": "code",
   "execution_count": null,
   "id": "ff4f1f5a",
   "metadata": {},
   "outputs": [],
   "source": [
    "y_pred3 = knn_3.predict(X_scaled_test)\n",
    "count_y_pred3 = np.unique(y_pred3, return_counts=True)\n",
    "count_y_pred3"
   ]
  },
  {
   "cell_type": "code",
   "execution_count": null,
   "id": "e16bdb52",
   "metadata": {},
   "outputs": [],
   "source": [
    "matrix_k3 = confusion_matrix(y_scaled_test, y_pred3)\n",
    "matrix_k3"
   ]
  },
  {
   "cell_type": "markdown",
   "id": "0430fc9b",
   "metadata": {},
   "source": [
    "For the model with 4 and 3 neighbors, the situation is similar to the model with 5 neighbors."
   ]
  },
  {
   "cell_type": "code",
   "execution_count": null,
   "id": "0a78fe42",
   "metadata": {},
   "outputs": [],
   "source": [
    "knn_2 = KNeighborsClassifier(n_neighbors=2, metric='manhattan')\n",
    "knn_2.fit(X_scaled_train, y_scaled_train)"
   ]
  },
  {
   "cell_type": "code",
   "execution_count": null,
   "id": "6b66c7aa",
   "metadata": {},
   "outputs": [],
   "source": [
    "y_pred2 = knn_2.predict(X_scaled_test)\n",
    "count_y_pred2 = np.unique(y_pred2, return_counts=True)\n",
    "count_y_pred2"
   ]
  },
  {
   "cell_type": "code",
   "execution_count": null,
   "id": "bf72e014",
   "metadata": {},
   "outputs": [],
   "source": [
    "matrix_k2 = confusion_matrix(y_scaled_test, y_pred2)\n",
    "matrix_k2"
   ]
  },
  {
   "cell_type": "code",
   "execution_count": null,
   "id": "03f03c92",
   "metadata": {},
   "outputs": [],
   "source": [
    "knn_1 = KNeighborsClassifier(n_neighbors=1, metric='manhattan')\n",
    "knn_1 = knn_1.fit(X_scaled_train, y_scaled_train)"
   ]
  },
  {
   "cell_type": "code",
   "execution_count": null,
   "id": "2b31d5b5",
   "metadata": {},
   "outputs": [],
   "source": [
    "y_pred1 = knn_1.predict(X_scaled_test)\n",
    "count_y_pred1 = np.unique(y_pred1, return_counts=True)\n",
    "count_y_pred1"
   ]
  },
  {
   "cell_type": "code",
   "execution_count": null,
   "id": "b7514c72",
   "metadata": {},
   "outputs": [],
   "source": [
    "matrix_k1 = confusion_matrix(y_scaled_test, y_pred1)\n",
    "matrix_k1"
   ]
  },
  {
   "cell_type": "code",
   "execution_count": null,
   "id": "7df57a82",
   "metadata": {},
   "outputs": [],
   "source": [
    "print(classification_report(y_scaled_test, y_pred1, zero_division=1))\n",
    "\n",
    "knn_1_pr = evaluate(y_pred1, y_scaled_test)\n",
    "knn_1_pr"
   ]
  },
  {
   "cell_type": "markdown",
   "id": "b0b8c46c",
   "metadata": {},
   "source": [
    "For n_neighbors = 2 are more true negative (TN) answers and fewer true positive (TP) answers than for n_neighbors = 1. For n_neighbors = 2 the accuracy and f1_score were 0.72 and 0.83 and for n_neighbors = 1 the scores were 0.79 and 0.88 respectively. The KNN model with 1 neighbor was chosen as the final one after hyperparameters tuning."
   ]
  },
  {
   "cell_type": "code",
   "execution_count": null,
   "id": "b8c77186",
   "metadata": {},
   "outputs": [],
   "source": [
    "y_proba = knn.predict_proba(X_scaled_test)[:, 1]\n",
    "y_proba"
   ]
  },
  {
   "cell_type": "code",
   "execution_count": null,
   "id": "c7c80402",
   "metadata": {},
   "outputs": [],
   "source": [
    "# Ploting the roc_curve and calculating the roc_auc_score\n",
    "\n",
    "from sklearn.metrics import roc_curve\n",
    "from sklearn.metrics import roc_auc_score\n",
    "\n",
    "rp_auc = roc_auc_score(y_scaled_test, y_pred1)\n",
    "rf_auc = roc_auc_score(y_scaled_test, y_proba)\n",
    "\n",
    "# Summarizing scores\n",
    "print('Random prediction: ROC AUC=%.3f' % (rp_auc))\n",
    "print('KNN model: ROC AUC=%.3f' % (rf_auc))\n",
    "\n",
    "# Calculating roc curves\n",
    "rp_fpr, rp_tpr, _ = roc_curve(y_scaled_test, y_pred1)\n",
    "rf_fpr, rf_tpr, _ = roc_curve(y_scaled_test, y_proba)\n",
    "\n",
    "# Ploting the roc curve for the model\n",
    "plt.figure(figsize=(12,8))\n",
    "plt.plot(rp_fpr, rp_tpr, linestyle='--', label='Random prediction')\n",
    "plt.plot(rf_fpr, rf_tpr, marker='.', label='KNN model')\n",
    "plt.xlabel('False Positive Rate')\n",
    "plt.ylabel('True Positive Rate')\n",
    "plt.legend()\n",
    "plt.show()"
   ]
  },
  {
   "cell_type": "markdown",
   "id": "1e7afb37",
   "metadata": {},
   "source": [
    "## Prediction using the K Nearest Neighbors (KNN)"
   ]
  },
  {
   "cell_type": "code",
   "execution_count": null,
   "id": "3c4cff62",
   "metadata": {},
   "outputs": [],
   "source": [
    "# Prediction of first 20 values\n",
    "\n",
    "print('Predicted values:', y_pred1[0:20])\n",
    "print('Real values: \\n', y_scaled_test[:20]) "
   ]
  },
  {
   "cell_type": "code",
   "execution_count": null,
   "id": "b204b13e",
   "metadata": {},
   "outputs": [],
   "source": [
    "print('Well-predicted values in testing:', (y_scaled_test == y_pred1).sum())\n",
    "print('All values in testing part:', y_scaled_test.shape[0])\n",
    "print()\n",
    "print('Accuracy = Well-predicted values in testing part/ All values in testing part:', ((y_scaled_test == y_pred1).sum() / y_scaled_test.shape[0]).round(4))\n",
    "print()\n",
    "print('Accuracy with sklearn:', knn_1.score(X_scaled_test, y_scaled_test).round(4))"
   ]
  },
  {
   "cell_type": "markdown",
   "id": "e9d6bb98",
   "metadata": {},
   "source": [
    "## Trying out the model on selected data"
   ]
  },
  {
   "cell_type": "code",
   "execution_count": null,
   "id": "ae7dbd09",
   "metadata": {},
   "outputs": [],
   "source": [
    "# Correlation between loan_status and other features\n",
    "\n",
    "df[df.columns[0:]].corr()['loan_status'][:].sort_values(key=abs, ascending=False)"
   ]
  },
  {
   "cell_type": "code",
   "execution_count": null,
   "id": "74cff9b3",
   "metadata": {},
   "outputs": [],
   "source": [
    "# Selection of variables to test the model (based not on the correlation with loan_status)\n",
    "\n",
    "new_X = df[['int_rate', 'sub_grade', 'term', 'fico_score', 'loan_amnt']].values\n",
    "new_y = y"
   ]
  },
  {
   "cell_type": "code",
   "execution_count": null,
   "id": "fd4124e9",
   "metadata": {},
   "outputs": [],
   "source": [
    "knn_1.fit(new_X, new_y)"
   ]
  },
  {
   "cell_type": "code",
   "execution_count": null,
   "id": "ed38af52",
   "metadata": {},
   "outputs": [],
   "source": [
    "y_pred_new = knn_1.predict(new_X)"
   ]
  },
  {
   "cell_type": "code",
   "execution_count": null,
   "id": "f5f30fea",
   "metadata": {},
   "outputs": [],
   "source": [
    "print(new_y[:20].values)\n",
    "print(y_pred_new[:20])"
   ]
  },
  {
   "cell_type": "code",
   "execution_count": null,
   "id": "31ffdb22",
   "metadata": {},
   "outputs": [],
   "source": [
    "knn_new_count = np.unique(y_pred_new, return_counts=True)\n",
    "knn_new_count"
   ]
  },
  {
   "cell_type": "code",
   "execution_count": null,
   "id": "61f0ba8a",
   "metadata": {},
   "outputs": [],
   "source": [
    "matrix_new = confusion_matrix(new_y, y_pred_new)\n",
    "matrix_new"
   ]
  },
  {
   "cell_type": "code",
   "execution_count": null,
   "id": "76afbc64",
   "metadata": {},
   "outputs": [],
   "source": [
    "print(classification_report(new_y, y_pred_new, zero_division=1))\n",
    "\n",
    "knn_new_pr = evaluate(y_pred_new, new_y)\n",
    "knn_new_pr"
   ]
  },
  {
   "cell_type": "code",
   "execution_count": null,
   "id": "1050ddce",
   "metadata": {},
   "outputs": [],
   "source": [
    "# Enter the appropriate values to predict the probability that the loan will be repaid:\n",
    "\n",
    "int_rate = float(input('Interest Rate on the loan: (5 - 25): '))\n",
    "sub_grade = int(input('LC assigned loan subgrade (1 - 7 / 1: best): '))\n",
    "term = int(input('The number of payments on the loan (36 or 60 months): '))\n",
    "fico_score = int(input('FICO score (500 - 850): '))\n",
    "loan_amnt = float(input('The listed amount of the loan applied for by the borrower (500 - 35000): '))"
   ]
  },
  {
   "cell_type": "code",
   "execution_count": null,
   "id": "c745b3d7",
   "metadata": {},
   "outputs": [],
   "source": [
    "# Predicting whether the customer will pay off the loan (0 - No or 1 - Yes)\n",
    "\n",
    "print(knn_1.predict([[int_rate, sub_grade, term, fico_score, loan_amnt]]))"
   ]
  },
  {
   "cell_type": "markdown",
   "id": "35afd1ff",
   "metadata": {},
   "source": [
    "# Conclusion"
   ]
  },
  {
   "cell_type": "markdown",
   "id": "0d1bb651",
   "metadata": {},
   "source": [
    "The project, which concerns predicting whether Lending Club clients will pay off their loans, has been divided into 4 parts: Data Processing, Exploratory Data Analysis, Feature Engineering, and Modeling. After a thorough cleaning of the data and the introduction of new ones, machine learning models were implemented. Six of them were tested: Decision Tree, Logistic Regression, Random Forest, Naive Bayes, Support Vector Machine (SVM), and K-Nearest Neighbors (KNN). The three models gave similar accuracy and f1-score results (Random Forest, Logistic Regression and Support Vector Machine). Based on the prepared data, the these 3 models predicted that the vast majority of the potential borrowers would repay their loan. Such a solution would be useless for the lending company. The three other models showed similar results. Finally, the K Nearest Neighbors model (the best model) was used to predict whether borrowers would be able to repay their loans. The dependent variables correlated with the target (loan_status) were selected and the K Nearest Neighbors model was built only with them. By manually entering the selected 5 variables mentioned above, the model predicts whether the new borrower will be able to repay the loan or not."
   ]
  }
 ],
 "metadata": {
  "kernelspec": {
   "display_name": "Python 3 (ipykernel)",
   "language": "python",
   "name": "python3"
  },
  "language_info": {
   "codemirror_mode": {
    "name": "ipython",
    "version": 3
   },
   "file_extension": ".py",
   "mimetype": "text/x-python",
   "name": "python",
   "nbconvert_exporter": "python",
   "pygments_lexer": "ipython3",
   "version": "3.9.13"
  }
 },
 "nbformat": 4,
 "nbformat_minor": 5
}
