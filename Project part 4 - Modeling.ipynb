{
 "cells": [
  {
   "cell_type": "markdown",
   "id": "18e46fd8",
   "metadata": {},
   "source": [
    "# Part 4 - Modeling"
   ]
  },
  {
   "cell_type": "code",
   "execution_count": 1,
   "id": "42ea66cd",
   "metadata": {},
   "outputs": [],
   "source": [
    "# Load packages\n",
    "\n",
    "import numpy as np\n",
    "import pandas as pd\n",
    "import seaborn as sns\n",
    "import matplotlib.pyplot as plt"
   ]
  },
  {
   "cell_type": "code",
   "execution_count": 2,
   "id": "51d9edbe",
   "metadata": {},
   "outputs": [
    {
     "data": {
      "text/html": [
       "<div>\n",
       "<style scoped>\n",
       "    .dataframe tbody tr th:only-of-type {\n",
       "        vertical-align: middle;\n",
       "    }\n",
       "\n",
       "    .dataframe tbody tr th {\n",
       "        vertical-align: top;\n",
       "    }\n",
       "\n",
       "    .dataframe thead th {\n",
       "        text-align: right;\n",
       "    }\n",
       "</style>\n",
       "<table border=\"1\" class=\"dataframe\">\n",
       "  <thead>\n",
       "    <tr style=\"text-align: right;\">\n",
       "      <th></th>\n",
       "      <th>loan_status</th>\n",
       "      <th>loan_amnt</th>\n",
       "      <th>term</th>\n",
       "      <th>int_rate</th>\n",
       "      <th>installment</th>\n",
       "      <th>emp_length</th>\n",
       "      <th>annual_inc</th>\n",
       "      <th>dti</th>\n",
       "      <th>delinq_2yrs</th>\n",
       "      <th>inq_last_6mths</th>\n",
       "      <th>open_acc</th>\n",
       "      <th>pub_rec</th>\n",
       "      <th>revol_bal</th>\n",
       "      <th>revol_util</th>\n",
       "      <th>total_acc</th>\n",
       "      <th>pub_rec_bankruptcies</th>\n",
       "      <th>fico_score</th>\n",
       "      <th>fico_class</th>\n",
       "      <th>sub_grade_A1</th>\n",
       "      <th>sub_grade_A2</th>\n",
       "      <th>sub_grade_A3</th>\n",
       "      <th>sub_grade_A4</th>\n",
       "      <th>sub_grade_A5</th>\n",
       "      <th>sub_grade_B1</th>\n",
       "      <th>sub_grade_B2</th>\n",
       "      <th>sub_grade_B3</th>\n",
       "      <th>sub_grade_B4</th>\n",
       "      <th>sub_grade_B5</th>\n",
       "      <th>sub_grade_C1</th>\n",
       "      <th>sub_grade_C2</th>\n",
       "      <th>sub_grade_C3</th>\n",
       "      <th>sub_grade_C4</th>\n",
       "      <th>sub_grade_C5</th>\n",
       "      <th>sub_grade_D1</th>\n",
       "      <th>sub_grade_D2</th>\n",
       "      <th>sub_grade_D3</th>\n",
       "      <th>sub_grade_D4</th>\n",
       "      <th>sub_grade_D5</th>\n",
       "      <th>sub_grade_E1</th>\n",
       "      <th>sub_grade_E2</th>\n",
       "      <th>sub_grade_E3</th>\n",
       "      <th>sub_grade_E4</th>\n",
       "      <th>sub_grade_E5</th>\n",
       "      <th>sub_grade_F1</th>\n",
       "      <th>sub_grade_F2</th>\n",
       "      <th>sub_grade_F3</th>\n",
       "      <th>sub_grade_F4</th>\n",
       "      <th>sub_grade_F5</th>\n",
       "      <th>sub_grade_G1</th>\n",
       "      <th>sub_grade_G2</th>\n",
       "      <th>sub_grade_G3</th>\n",
       "      <th>sub_grade_G4</th>\n",
       "      <th>sub_grade_G5</th>\n",
       "      <th>home_ownership_MORTGAGE</th>\n",
       "      <th>home_ownership_NONE</th>\n",
       "      <th>home_ownership_OTHER</th>\n",
       "      <th>home_ownership_OWN</th>\n",
       "      <th>home_ownership_RENT</th>\n",
       "      <th>verif_stat</th>\n",
       "      <th>purpose_car</th>\n",
       "      <th>purpose_credit_card</th>\n",
       "      <th>purpose_debt_consolidation</th>\n",
       "      <th>purpose_educational</th>\n",
       "      <th>purpose_home_improvement</th>\n",
       "      <th>purpose_house</th>\n",
       "      <th>purpose_major_purchase</th>\n",
       "      <th>purpose_medical</th>\n",
       "      <th>purpose_moving</th>\n",
       "      <th>purpose_other</th>\n",
       "      <th>purpose_renewable_energy</th>\n",
       "      <th>purpose_small_business</th>\n",
       "      <th>purpose_vacation</th>\n",
       "      <th>purpose_wedding</th>\n",
       "      <th>year_issue</th>\n",
       "      <th>month_issue</th>\n",
       "      <th>year_ecl</th>\n",
       "      <th>month_ecl</th>\n",
       "      <th>geo_loc</th>\n",
       "      <th>geo_loc_ns</th>\n",
       "      <th>geo_loc_we</th>\n",
       "      <th>addr_state_AK</th>\n",
       "      <th>addr_state_AL</th>\n",
       "      <th>addr_state_AR</th>\n",
       "      <th>addr_state_AZ</th>\n",
       "      <th>addr_state_CA</th>\n",
       "      <th>addr_state_CO</th>\n",
       "      <th>addr_state_CT</th>\n",
       "      <th>addr_state_DC</th>\n",
       "      <th>addr_state_DE</th>\n",
       "      <th>addr_state_FL</th>\n",
       "      <th>addr_state_GA</th>\n",
       "      <th>addr_state_HI</th>\n",
       "      <th>addr_state_IA</th>\n",
       "      <th>addr_state_ID</th>\n",
       "      <th>addr_state_IL</th>\n",
       "      <th>addr_state_IN</th>\n",
       "      <th>addr_state_KS</th>\n",
       "      <th>addr_state_KY</th>\n",
       "      <th>addr_state_LA</th>\n",
       "      <th>addr_state_MA</th>\n",
       "      <th>addr_state_MD</th>\n",
       "      <th>addr_state_ME</th>\n",
       "      <th>addr_state_MI</th>\n",
       "      <th>addr_state_MN</th>\n",
       "      <th>addr_state_MO</th>\n",
       "      <th>addr_state_MS</th>\n",
       "      <th>addr_state_MT</th>\n",
       "      <th>addr_state_NC</th>\n",
       "      <th>addr_state_NE</th>\n",
       "      <th>addr_state_NH</th>\n",
       "      <th>addr_state_NJ</th>\n",
       "      <th>addr_state_NM</th>\n",
       "      <th>addr_state_NV</th>\n",
       "      <th>addr_state_NY</th>\n",
       "      <th>addr_state_OH</th>\n",
       "      <th>addr_state_OK</th>\n",
       "      <th>addr_state_OR</th>\n",
       "      <th>addr_state_PA</th>\n",
       "      <th>addr_state_RI</th>\n",
       "      <th>addr_state_SC</th>\n",
       "      <th>addr_state_SD</th>\n",
       "      <th>addr_state_TN</th>\n",
       "      <th>addr_state_TX</th>\n",
       "      <th>addr_state_UT</th>\n",
       "      <th>addr_state_VA</th>\n",
       "      <th>addr_state_VT</th>\n",
       "      <th>addr_state_WA</th>\n",
       "      <th>addr_state_WI</th>\n",
       "      <th>addr_state_WV</th>\n",
       "      <th>addr_state_WY</th>\n",
       "    </tr>\n",
       "  </thead>\n",
       "  <tbody>\n",
       "    <tr>\n",
       "      <th>0</th>\n",
       "      <td>1</td>\n",
       "      <td>5000.0</td>\n",
       "      <td>36</td>\n",
       "      <td>10.65</td>\n",
       "      <td>162.87</td>\n",
       "      <td>10.0</td>\n",
       "      <td>24000.0</td>\n",
       "      <td>27.65</td>\n",
       "      <td>0.0</td>\n",
       "      <td>1.0</td>\n",
       "      <td>3.0</td>\n",
       "      <td>0.0</td>\n",
       "      <td>13648.0</td>\n",
       "      <td>83.7</td>\n",
       "      <td>76.0</td>\n",
       "      <td>0.0</td>\n",
       "      <td>737</td>\n",
       "      <td>3</td>\n",
       "      <td>0</td>\n",
       "      <td>0</td>\n",
       "      <td>0</td>\n",
       "      <td>0</td>\n",
       "      <td>0</td>\n",
       "      <td>0</td>\n",
       "      <td>1</td>\n",
       "      <td>0</td>\n",
       "      <td>0</td>\n",
       "      <td>0</td>\n",
       "      <td>0</td>\n",
       "      <td>0</td>\n",
       "      <td>0</td>\n",
       "      <td>0</td>\n",
       "      <td>0</td>\n",
       "      <td>0</td>\n",
       "      <td>0</td>\n",
       "      <td>0</td>\n",
       "      <td>0</td>\n",
       "      <td>0</td>\n",
       "      <td>0</td>\n",
       "      <td>0</td>\n",
       "      <td>0</td>\n",
       "      <td>0</td>\n",
       "      <td>0</td>\n",
       "      <td>0</td>\n",
       "      <td>0</td>\n",
       "      <td>0</td>\n",
       "      <td>0</td>\n",
       "      <td>0</td>\n",
       "      <td>0</td>\n",
       "      <td>0</td>\n",
       "      <td>0</td>\n",
       "      <td>0</td>\n",
       "      <td>0</td>\n",
       "      <td>0</td>\n",
       "      <td>0</td>\n",
       "      <td>0</td>\n",
       "      <td>0</td>\n",
       "      <td>1</td>\n",
       "      <td>3</td>\n",
       "      <td>0</td>\n",
       "      <td>1</td>\n",
       "      <td>0</td>\n",
       "      <td>0</td>\n",
       "      <td>0</td>\n",
       "      <td>0</td>\n",
       "      <td>0</td>\n",
       "      <td>0</td>\n",
       "      <td>0</td>\n",
       "      <td>0</td>\n",
       "      <td>0</td>\n",
       "      <td>0</td>\n",
       "      <td>0</td>\n",
       "      <td>0</td>\n",
       "      <td>2011</td>\n",
       "      <td>12</td>\n",
       "      <td>3</td>\n",
       "      <td>1</td>\n",
       "      <td>4</td>\n",
       "      <td>2</td>\n",
       "      <td>2</td>\n",
       "      <td>0</td>\n",
       "      <td>0</td>\n",
       "      <td>0</td>\n",
       "      <td>1</td>\n",
       "      <td>0</td>\n",
       "      <td>0</td>\n",
       "      <td>0</td>\n",
       "      <td>0</td>\n",
       "      <td>0</td>\n",
       "      <td>0</td>\n",
       "      <td>0</td>\n",
       "      <td>0</td>\n",
       "      <td>0</td>\n",
       "      <td>0</td>\n",
       "      <td>0</td>\n",
       "      <td>0</td>\n",
       "      <td>0</td>\n",
       "      <td>0</td>\n",
       "      <td>0</td>\n",
       "      <td>0</td>\n",
       "      <td>0</td>\n",
       "      <td>0</td>\n",
       "      <td>0</td>\n",
       "      <td>0</td>\n",
       "      <td>0</td>\n",
       "      <td>0</td>\n",
       "      <td>0</td>\n",
       "      <td>0</td>\n",
       "      <td>0</td>\n",
       "      <td>0</td>\n",
       "      <td>0</td>\n",
       "      <td>0</td>\n",
       "      <td>0</td>\n",
       "      <td>0</td>\n",
       "      <td>0</td>\n",
       "      <td>0</td>\n",
       "      <td>0</td>\n",
       "      <td>0</td>\n",
       "      <td>0</td>\n",
       "      <td>0</td>\n",
       "      <td>0</td>\n",
       "      <td>0</td>\n",
       "      <td>0</td>\n",
       "      <td>0</td>\n",
       "      <td>0</td>\n",
       "      <td>0</td>\n",
       "      <td>0</td>\n",
       "      <td>0</td>\n",
       "      <td>0</td>\n",
       "      <td>0</td>\n",
       "    </tr>\n",
       "    <tr>\n",
       "      <th>1</th>\n",
       "      <td>0</td>\n",
       "      <td>2500.0</td>\n",
       "      <td>60</td>\n",
       "      <td>15.27</td>\n",
       "      <td>59.83</td>\n",
       "      <td>0.0</td>\n",
       "      <td>30000.0</td>\n",
       "      <td>1.00</td>\n",
       "      <td>0.0</td>\n",
       "      <td>5.0</td>\n",
       "      <td>3.0</td>\n",
       "      <td>0.0</td>\n",
       "      <td>1687.0</td>\n",
       "      <td>9.4</td>\n",
       "      <td>76.0</td>\n",
       "      <td>0.0</td>\n",
       "      <td>742</td>\n",
       "      <td>4</td>\n",
       "      <td>0</td>\n",
       "      <td>0</td>\n",
       "      <td>0</td>\n",
       "      <td>0</td>\n",
       "      <td>0</td>\n",
       "      <td>0</td>\n",
       "      <td>0</td>\n",
       "      <td>0</td>\n",
       "      <td>0</td>\n",
       "      <td>0</td>\n",
       "      <td>0</td>\n",
       "      <td>0</td>\n",
       "      <td>0</td>\n",
       "      <td>1</td>\n",
       "      <td>0</td>\n",
       "      <td>0</td>\n",
       "      <td>0</td>\n",
       "      <td>0</td>\n",
       "      <td>0</td>\n",
       "      <td>0</td>\n",
       "      <td>0</td>\n",
       "      <td>0</td>\n",
       "      <td>0</td>\n",
       "      <td>0</td>\n",
       "      <td>0</td>\n",
       "      <td>0</td>\n",
       "      <td>0</td>\n",
       "      <td>0</td>\n",
       "      <td>0</td>\n",
       "      <td>0</td>\n",
       "      <td>0</td>\n",
       "      <td>0</td>\n",
       "      <td>0</td>\n",
       "      <td>0</td>\n",
       "      <td>0</td>\n",
       "      <td>0</td>\n",
       "      <td>0</td>\n",
       "      <td>0</td>\n",
       "      <td>0</td>\n",
       "      <td>1</td>\n",
       "      <td>2</td>\n",
       "      <td>1</td>\n",
       "      <td>0</td>\n",
       "      <td>0</td>\n",
       "      <td>0</td>\n",
       "      <td>0</td>\n",
       "      <td>0</td>\n",
       "      <td>0</td>\n",
       "      <td>0</td>\n",
       "      <td>0</td>\n",
       "      <td>0</td>\n",
       "      <td>0</td>\n",
       "      <td>0</td>\n",
       "      <td>0</td>\n",
       "      <td>0</td>\n",
       "      <td>2011</td>\n",
       "      <td>12</td>\n",
       "      <td>2</td>\n",
       "      <td>4</td>\n",
       "      <td>3</td>\n",
       "      <td>2</td>\n",
       "      <td>1</td>\n",
       "      <td>0</td>\n",
       "      <td>0</td>\n",
       "      <td>0</td>\n",
       "      <td>0</td>\n",
       "      <td>0</td>\n",
       "      <td>0</td>\n",
       "      <td>0</td>\n",
       "      <td>0</td>\n",
       "      <td>0</td>\n",
       "      <td>0</td>\n",
       "      <td>1</td>\n",
       "      <td>0</td>\n",
       "      <td>0</td>\n",
       "      <td>0</td>\n",
       "      <td>0</td>\n",
       "      <td>0</td>\n",
       "      <td>0</td>\n",
       "      <td>0</td>\n",
       "      <td>0</td>\n",
       "      <td>0</td>\n",
       "      <td>0</td>\n",
       "      <td>0</td>\n",
       "      <td>0</td>\n",
       "      <td>0</td>\n",
       "      <td>0</td>\n",
       "      <td>0</td>\n",
       "      <td>0</td>\n",
       "      <td>0</td>\n",
       "      <td>0</td>\n",
       "      <td>0</td>\n",
       "      <td>0</td>\n",
       "      <td>0</td>\n",
       "      <td>0</td>\n",
       "      <td>0</td>\n",
       "      <td>0</td>\n",
       "      <td>0</td>\n",
       "      <td>0</td>\n",
       "      <td>0</td>\n",
       "      <td>0</td>\n",
       "      <td>0</td>\n",
       "      <td>0</td>\n",
       "      <td>0</td>\n",
       "      <td>0</td>\n",
       "      <td>0</td>\n",
       "      <td>0</td>\n",
       "      <td>0</td>\n",
       "      <td>0</td>\n",
       "      <td>0</td>\n",
       "      <td>0</td>\n",
       "      <td>0</td>\n",
       "    </tr>\n",
       "    <tr>\n",
       "      <th>2</th>\n",
       "      <td>1</td>\n",
       "      <td>2400.0</td>\n",
       "      <td>36</td>\n",
       "      <td>15.96</td>\n",
       "      <td>84.33</td>\n",
       "      <td>10.0</td>\n",
       "      <td>12252.0</td>\n",
       "      <td>8.72</td>\n",
       "      <td>0.0</td>\n",
       "      <td>2.0</td>\n",
       "      <td>2.0</td>\n",
       "      <td>0.0</td>\n",
       "      <td>2956.0</td>\n",
       "      <td>98.5</td>\n",
       "      <td>76.0</td>\n",
       "      <td>0.0</td>\n",
       "      <td>737</td>\n",
       "      <td>3</td>\n",
       "      <td>0</td>\n",
       "      <td>0</td>\n",
       "      <td>0</td>\n",
       "      <td>0</td>\n",
       "      <td>0</td>\n",
       "      <td>0</td>\n",
       "      <td>0</td>\n",
       "      <td>0</td>\n",
       "      <td>0</td>\n",
       "      <td>0</td>\n",
       "      <td>0</td>\n",
       "      <td>0</td>\n",
       "      <td>0</td>\n",
       "      <td>0</td>\n",
       "      <td>1</td>\n",
       "      <td>0</td>\n",
       "      <td>0</td>\n",
       "      <td>0</td>\n",
       "      <td>0</td>\n",
       "      <td>0</td>\n",
       "      <td>0</td>\n",
       "      <td>0</td>\n",
       "      <td>0</td>\n",
       "      <td>0</td>\n",
       "      <td>0</td>\n",
       "      <td>0</td>\n",
       "      <td>0</td>\n",
       "      <td>0</td>\n",
       "      <td>0</td>\n",
       "      <td>0</td>\n",
       "      <td>0</td>\n",
       "      <td>0</td>\n",
       "      <td>0</td>\n",
       "      <td>0</td>\n",
       "      <td>0</td>\n",
       "      <td>0</td>\n",
       "      <td>0</td>\n",
       "      <td>0</td>\n",
       "      <td>0</td>\n",
       "      <td>1</td>\n",
       "      <td>1</td>\n",
       "      <td>0</td>\n",
       "      <td>0</td>\n",
       "      <td>0</td>\n",
       "      <td>0</td>\n",
       "      <td>0</td>\n",
       "      <td>0</td>\n",
       "      <td>0</td>\n",
       "      <td>0</td>\n",
       "      <td>0</td>\n",
       "      <td>0</td>\n",
       "      <td>0</td>\n",
       "      <td>1</td>\n",
       "      <td>0</td>\n",
       "      <td>0</td>\n",
       "      <td>2011</td>\n",
       "      <td>12</td>\n",
       "      <td>1</td>\n",
       "      <td>11</td>\n",
       "      <td>1</td>\n",
       "      <td>1</td>\n",
       "      <td>1</td>\n",
       "      <td>0</td>\n",
       "      <td>0</td>\n",
       "      <td>0</td>\n",
       "      <td>0</td>\n",
       "      <td>0</td>\n",
       "      <td>0</td>\n",
       "      <td>0</td>\n",
       "      <td>0</td>\n",
       "      <td>0</td>\n",
       "      <td>0</td>\n",
       "      <td>0</td>\n",
       "      <td>0</td>\n",
       "      <td>0</td>\n",
       "      <td>0</td>\n",
       "      <td>1</td>\n",
       "      <td>0</td>\n",
       "      <td>0</td>\n",
       "      <td>0</td>\n",
       "      <td>0</td>\n",
       "      <td>0</td>\n",
       "      <td>0</td>\n",
       "      <td>0</td>\n",
       "      <td>0</td>\n",
       "      <td>0</td>\n",
       "      <td>0</td>\n",
       "      <td>0</td>\n",
       "      <td>0</td>\n",
       "      <td>0</td>\n",
       "      <td>0</td>\n",
       "      <td>0</td>\n",
       "      <td>0</td>\n",
       "      <td>0</td>\n",
       "      <td>0</td>\n",
       "      <td>0</td>\n",
       "      <td>0</td>\n",
       "      <td>0</td>\n",
       "      <td>0</td>\n",
       "      <td>0</td>\n",
       "      <td>0</td>\n",
       "      <td>0</td>\n",
       "      <td>0</td>\n",
       "      <td>0</td>\n",
       "      <td>0</td>\n",
       "      <td>0</td>\n",
       "      <td>0</td>\n",
       "      <td>0</td>\n",
       "      <td>0</td>\n",
       "      <td>0</td>\n",
       "      <td>0</td>\n",
       "      <td>0</td>\n",
       "    </tr>\n",
       "    <tr>\n",
       "      <th>3</th>\n",
       "      <td>1</td>\n",
       "      <td>10000.0</td>\n",
       "      <td>36</td>\n",
       "      <td>13.49</td>\n",
       "      <td>339.31</td>\n",
       "      <td>10.0</td>\n",
       "      <td>49200.0</td>\n",
       "      <td>20.00</td>\n",
       "      <td>0.0</td>\n",
       "      <td>1.0</td>\n",
       "      <td>10.0</td>\n",
       "      <td>0.0</td>\n",
       "      <td>5598.0</td>\n",
       "      <td>21.0</td>\n",
       "      <td>76.0</td>\n",
       "      <td>0.0</td>\n",
       "      <td>692</td>\n",
       "      <td>3</td>\n",
       "      <td>0</td>\n",
       "      <td>0</td>\n",
       "      <td>0</td>\n",
       "      <td>0</td>\n",
       "      <td>0</td>\n",
       "      <td>0</td>\n",
       "      <td>0</td>\n",
       "      <td>0</td>\n",
       "      <td>0</td>\n",
       "      <td>0</td>\n",
       "      <td>1</td>\n",
       "      <td>0</td>\n",
       "      <td>0</td>\n",
       "      <td>0</td>\n",
       "      <td>0</td>\n",
       "      <td>0</td>\n",
       "      <td>0</td>\n",
       "      <td>0</td>\n",
       "      <td>0</td>\n",
       "      <td>0</td>\n",
       "      <td>0</td>\n",
       "      <td>0</td>\n",
       "      <td>0</td>\n",
       "      <td>0</td>\n",
       "      <td>0</td>\n",
       "      <td>0</td>\n",
       "      <td>0</td>\n",
       "      <td>0</td>\n",
       "      <td>0</td>\n",
       "      <td>0</td>\n",
       "      <td>0</td>\n",
       "      <td>0</td>\n",
       "      <td>0</td>\n",
       "      <td>0</td>\n",
       "      <td>0</td>\n",
       "      <td>0</td>\n",
       "      <td>0</td>\n",
       "      <td>0</td>\n",
       "      <td>0</td>\n",
       "      <td>1</td>\n",
       "      <td>2</td>\n",
       "      <td>0</td>\n",
       "      <td>0</td>\n",
       "      <td>0</td>\n",
       "      <td>0</td>\n",
       "      <td>0</td>\n",
       "      <td>0</td>\n",
       "      <td>0</td>\n",
       "      <td>0</td>\n",
       "      <td>0</td>\n",
       "      <td>1</td>\n",
       "      <td>0</td>\n",
       "      <td>0</td>\n",
       "      <td>0</td>\n",
       "      <td>0</td>\n",
       "      <td>2011</td>\n",
       "      <td>12</td>\n",
       "      <td>2</td>\n",
       "      <td>2</td>\n",
       "      <td>4</td>\n",
       "      <td>2</td>\n",
       "      <td>2</td>\n",
       "      <td>0</td>\n",
       "      <td>0</td>\n",
       "      <td>0</td>\n",
       "      <td>0</td>\n",
       "      <td>1</td>\n",
       "      <td>0</td>\n",
       "      <td>0</td>\n",
       "      <td>0</td>\n",
       "      <td>0</td>\n",
       "      <td>0</td>\n",
       "      <td>0</td>\n",
       "      <td>0</td>\n",
       "      <td>0</td>\n",
       "      <td>0</td>\n",
       "      <td>0</td>\n",
       "      <td>0</td>\n",
       "      <td>0</td>\n",
       "      <td>0</td>\n",
       "      <td>0</td>\n",
       "      <td>0</td>\n",
       "      <td>0</td>\n",
       "      <td>0</td>\n",
       "      <td>0</td>\n",
       "      <td>0</td>\n",
       "      <td>0</td>\n",
       "      <td>0</td>\n",
       "      <td>0</td>\n",
       "      <td>0</td>\n",
       "      <td>0</td>\n",
       "      <td>0</td>\n",
       "      <td>0</td>\n",
       "      <td>0</td>\n",
       "      <td>0</td>\n",
       "      <td>0</td>\n",
       "      <td>0</td>\n",
       "      <td>0</td>\n",
       "      <td>0</td>\n",
       "      <td>0</td>\n",
       "      <td>0</td>\n",
       "      <td>0</td>\n",
       "      <td>0</td>\n",
       "      <td>0</td>\n",
       "      <td>0</td>\n",
       "      <td>0</td>\n",
       "      <td>0</td>\n",
       "      <td>0</td>\n",
       "      <td>0</td>\n",
       "      <td>0</td>\n",
       "      <td>0</td>\n",
       "      <td>0</td>\n",
       "    </tr>\n",
       "    <tr>\n",
       "      <th>4</th>\n",
       "      <td>1</td>\n",
       "      <td>3000.0</td>\n",
       "      <td>60</td>\n",
       "      <td>12.69</td>\n",
       "      <td>67.79</td>\n",
       "      <td>1.0</td>\n",
       "      <td>80000.0</td>\n",
       "      <td>17.94</td>\n",
       "      <td>0.0</td>\n",
       "      <td>0.0</td>\n",
       "      <td>15.0</td>\n",
       "      <td>0.0</td>\n",
       "      <td>27783.0</td>\n",
       "      <td>53.9</td>\n",
       "      <td>76.0</td>\n",
       "      <td>0.0</td>\n",
       "      <td>697</td>\n",
       "      <td>3</td>\n",
       "      <td>0</td>\n",
       "      <td>0</td>\n",
       "      <td>0</td>\n",
       "      <td>0</td>\n",
       "      <td>0</td>\n",
       "      <td>0</td>\n",
       "      <td>0</td>\n",
       "      <td>0</td>\n",
       "      <td>0</td>\n",
       "      <td>1</td>\n",
       "      <td>0</td>\n",
       "      <td>0</td>\n",
       "      <td>0</td>\n",
       "      <td>0</td>\n",
       "      <td>0</td>\n",
       "      <td>0</td>\n",
       "      <td>0</td>\n",
       "      <td>0</td>\n",
       "      <td>0</td>\n",
       "      <td>0</td>\n",
       "      <td>0</td>\n",
       "      <td>0</td>\n",
       "      <td>0</td>\n",
       "      <td>0</td>\n",
       "      <td>0</td>\n",
       "      <td>0</td>\n",
       "      <td>0</td>\n",
       "      <td>0</td>\n",
       "      <td>0</td>\n",
       "      <td>0</td>\n",
       "      <td>0</td>\n",
       "      <td>0</td>\n",
       "      <td>0</td>\n",
       "      <td>0</td>\n",
       "      <td>0</td>\n",
       "      <td>0</td>\n",
       "      <td>0</td>\n",
       "      <td>0</td>\n",
       "      <td>0</td>\n",
       "      <td>1</td>\n",
       "      <td>2</td>\n",
       "      <td>0</td>\n",
       "      <td>0</td>\n",
       "      <td>0</td>\n",
       "      <td>0</td>\n",
       "      <td>0</td>\n",
       "      <td>0</td>\n",
       "      <td>0</td>\n",
       "      <td>0</td>\n",
       "      <td>0</td>\n",
       "      <td>1</td>\n",
       "      <td>0</td>\n",
       "      <td>0</td>\n",
       "      <td>0</td>\n",
       "      <td>0</td>\n",
       "      <td>2011</td>\n",
       "      <td>12</td>\n",
       "      <td>2</td>\n",
       "      <td>1</td>\n",
       "      <td>2</td>\n",
       "      <td>1</td>\n",
       "      <td>2</td>\n",
       "      <td>0</td>\n",
       "      <td>0</td>\n",
       "      <td>0</td>\n",
       "      <td>0</td>\n",
       "      <td>0</td>\n",
       "      <td>0</td>\n",
       "      <td>0</td>\n",
       "      <td>0</td>\n",
       "      <td>0</td>\n",
       "      <td>0</td>\n",
       "      <td>0</td>\n",
       "      <td>0</td>\n",
       "      <td>0</td>\n",
       "      <td>0</td>\n",
       "      <td>0</td>\n",
       "      <td>0</td>\n",
       "      <td>0</td>\n",
       "      <td>0</td>\n",
       "      <td>0</td>\n",
       "      <td>0</td>\n",
       "      <td>0</td>\n",
       "      <td>0</td>\n",
       "      <td>0</td>\n",
       "      <td>0</td>\n",
       "      <td>0</td>\n",
       "      <td>0</td>\n",
       "      <td>0</td>\n",
       "      <td>0</td>\n",
       "      <td>0</td>\n",
       "      <td>0</td>\n",
       "      <td>0</td>\n",
       "      <td>0</td>\n",
       "      <td>0</td>\n",
       "      <td>0</td>\n",
       "      <td>0</td>\n",
       "      <td>0</td>\n",
       "      <td>1</td>\n",
       "      <td>0</td>\n",
       "      <td>0</td>\n",
       "      <td>0</td>\n",
       "      <td>0</td>\n",
       "      <td>0</td>\n",
       "      <td>0</td>\n",
       "      <td>0</td>\n",
       "      <td>0</td>\n",
       "      <td>0</td>\n",
       "      <td>0</td>\n",
       "      <td>0</td>\n",
       "      <td>0</td>\n",
       "      <td>0</td>\n",
       "    </tr>\n",
       "  </tbody>\n",
       "</table>\n",
       "</div>"
      ],
      "text/plain": [
       "   loan_status  loan_amnt  term  int_rate  installment  emp_length  \\\n",
       "0            1     5000.0    36     10.65       162.87        10.0   \n",
       "1            0     2500.0    60     15.27        59.83         0.0   \n",
       "2            1     2400.0    36     15.96        84.33        10.0   \n",
       "3            1    10000.0    36     13.49       339.31        10.0   \n",
       "4            1     3000.0    60     12.69        67.79         1.0   \n",
       "\n",
       "   annual_inc    dti  delinq_2yrs  inq_last_6mths  open_acc  pub_rec  \\\n",
       "0     24000.0  27.65          0.0             1.0       3.0      0.0   \n",
       "1     30000.0   1.00          0.0             5.0       3.0      0.0   \n",
       "2     12252.0   8.72          0.0             2.0       2.0      0.0   \n",
       "3     49200.0  20.00          0.0             1.0      10.0      0.0   \n",
       "4     80000.0  17.94          0.0             0.0      15.0      0.0   \n",
       "\n",
       "   revol_bal  revol_util  total_acc  pub_rec_bankruptcies  fico_score  \\\n",
       "0    13648.0        83.7       76.0                   0.0         737   \n",
       "1     1687.0         9.4       76.0                   0.0         742   \n",
       "2     2956.0        98.5       76.0                   0.0         737   \n",
       "3     5598.0        21.0       76.0                   0.0         692   \n",
       "4    27783.0        53.9       76.0                   0.0         697   \n",
       "\n",
       "   fico_class  sub_grade_A1  sub_grade_A2  sub_grade_A3  sub_grade_A4  \\\n",
       "0           3             0             0             0             0   \n",
       "1           4             0             0             0             0   \n",
       "2           3             0             0             0             0   \n",
       "3           3             0             0             0             0   \n",
       "4           3             0             0             0             0   \n",
       "\n",
       "   sub_grade_A5  sub_grade_B1  sub_grade_B2  sub_grade_B3  sub_grade_B4  \\\n",
       "0             0             0             1             0             0   \n",
       "1             0             0             0             0             0   \n",
       "2             0             0             0             0             0   \n",
       "3             0             0             0             0             0   \n",
       "4             0             0             0             0             0   \n",
       "\n",
       "   sub_grade_B5  sub_grade_C1  sub_grade_C2  sub_grade_C3  sub_grade_C4  \\\n",
       "0             0             0             0             0             0   \n",
       "1             0             0             0             0             1   \n",
       "2             0             0             0             0             0   \n",
       "3             0             1             0             0             0   \n",
       "4             1             0             0             0             0   \n",
       "\n",
       "   sub_grade_C5  sub_grade_D1  sub_grade_D2  sub_grade_D3  sub_grade_D4  \\\n",
       "0             0             0             0             0             0   \n",
       "1             0             0             0             0             0   \n",
       "2             1             0             0             0             0   \n",
       "3             0             0             0             0             0   \n",
       "4             0             0             0             0             0   \n",
       "\n",
       "   sub_grade_D5  sub_grade_E1  sub_grade_E2  sub_grade_E3  sub_grade_E4  \\\n",
       "0             0             0             0             0             0   \n",
       "1             0             0             0             0             0   \n",
       "2             0             0             0             0             0   \n",
       "3             0             0             0             0             0   \n",
       "4             0             0             0             0             0   \n",
       "\n",
       "   sub_grade_E5  sub_grade_F1  sub_grade_F2  sub_grade_F3  sub_grade_F4  \\\n",
       "0             0             0             0             0             0   \n",
       "1             0             0             0             0             0   \n",
       "2             0             0             0             0             0   \n",
       "3             0             0             0             0             0   \n",
       "4             0             0             0             0             0   \n",
       "\n",
       "   sub_grade_F5  sub_grade_G1  sub_grade_G2  sub_grade_G3  sub_grade_G4  \\\n",
       "0             0             0             0             0             0   \n",
       "1             0             0             0             0             0   \n",
       "2             0             0             0             0             0   \n",
       "3             0             0             0             0             0   \n",
       "4             0             0             0             0             0   \n",
       "\n",
       "   sub_grade_G5  home_ownership_MORTGAGE  home_ownership_NONE  \\\n",
       "0             0                        0                    0   \n",
       "1             0                        0                    0   \n",
       "2             0                        0                    0   \n",
       "3             0                        0                    0   \n",
       "4             0                        0                    0   \n",
       "\n",
       "   home_ownership_OTHER  home_ownership_OWN  home_ownership_RENT  verif_stat  \\\n",
       "0                     0                   0                    1           3   \n",
       "1                     0                   0                    1           2   \n",
       "2                     0                   0                    1           1   \n",
       "3                     0                   0                    1           2   \n",
       "4                     0                   0                    1           2   \n",
       "\n",
       "   purpose_car  purpose_credit_card  purpose_debt_consolidation  \\\n",
       "0            0                    1                           0   \n",
       "1            1                    0                           0   \n",
       "2            0                    0                           0   \n",
       "3            0                    0                           0   \n",
       "4            0                    0                           0   \n",
       "\n",
       "   purpose_educational  purpose_home_improvement  purpose_house  \\\n",
       "0                    0                         0              0   \n",
       "1                    0                         0              0   \n",
       "2                    0                         0              0   \n",
       "3                    0                         0              0   \n",
       "4                    0                         0              0   \n",
       "\n",
       "   purpose_major_purchase  purpose_medical  purpose_moving  purpose_other  \\\n",
       "0                       0                0               0              0   \n",
       "1                       0                0               0              0   \n",
       "2                       0                0               0              0   \n",
       "3                       0                0               0              1   \n",
       "4                       0                0               0              1   \n",
       "\n",
       "   purpose_renewable_energy  purpose_small_business  purpose_vacation  \\\n",
       "0                         0                       0                 0   \n",
       "1                         0                       0                 0   \n",
       "2                         0                       1                 0   \n",
       "3                         0                       0                 0   \n",
       "4                         0                       0                 0   \n",
       "\n",
       "   purpose_wedding  year_issue  month_issue  year_ecl  month_ecl  geo_loc  \\\n",
       "0                0        2011           12         3          1        4   \n",
       "1                0        2011           12         2          4        3   \n",
       "2                0        2011           12         1         11        1   \n",
       "3                0        2011           12         2          2        4   \n",
       "4                0        2011           12         2          1        2   \n",
       "\n",
       "   geo_loc_ns  geo_loc_we  addr_state_AK  addr_state_AL  addr_state_AR  \\\n",
       "0           2           2              0              0              0   \n",
       "1           2           1              0              0              0   \n",
       "2           1           1              0              0              0   \n",
       "3           2           2              0              0              0   \n",
       "4           1           2              0              0              0   \n",
       "\n",
       "   addr_state_AZ  addr_state_CA  addr_state_CO  addr_state_CT  addr_state_DC  \\\n",
       "0              1              0              0              0              0   \n",
       "1              0              0              0              0              0   \n",
       "2              0              0              0              0              0   \n",
       "3              0              1              0              0              0   \n",
       "4              0              0              0              0              0   \n",
       "\n",
       "   addr_state_DE  addr_state_FL  addr_state_GA  addr_state_HI  addr_state_IA  \\\n",
       "0              0              0              0              0              0   \n",
       "1              0              0              1              0              0   \n",
       "2              0              0              0              0              0   \n",
       "3              0              0              0              0              0   \n",
       "4              0              0              0              0              0   \n",
       "\n",
       "   addr_state_ID  addr_state_IL  addr_state_IN  addr_state_KS  addr_state_KY  \\\n",
       "0              0              0              0              0              0   \n",
       "1              0              0              0              0              0   \n",
       "2              0              1              0              0              0   \n",
       "3              0              0              0              0              0   \n",
       "4              0              0              0              0              0   \n",
       "\n",
       "   addr_state_LA  addr_state_MA  addr_state_MD  addr_state_ME  addr_state_MI  \\\n",
       "0              0              0              0              0              0   \n",
       "1              0              0              0              0              0   \n",
       "2              0              0              0              0              0   \n",
       "3              0              0              0              0              0   \n",
       "4              0              0              0              0              0   \n",
       "\n",
       "   addr_state_MN  addr_state_MO  addr_state_MS  addr_state_MT  addr_state_NC  \\\n",
       "0              0              0              0              0              0   \n",
       "1              0              0              0              0              0   \n",
       "2              0              0              0              0              0   \n",
       "3              0              0              0              0              0   \n",
       "4              0              0              0              0              0   \n",
       "\n",
       "   addr_state_NE  addr_state_NH  addr_state_NJ  addr_state_NM  addr_state_NV  \\\n",
       "0              0              0              0              0              0   \n",
       "1              0              0              0              0              0   \n",
       "2              0              0              0              0              0   \n",
       "3              0              0              0              0              0   \n",
       "4              0              0              0              0              0   \n",
       "\n",
       "   addr_state_NY  addr_state_OH  addr_state_OK  addr_state_OR  addr_state_PA  \\\n",
       "0              0              0              0              0              0   \n",
       "1              0              0              0              0              0   \n",
       "2              0              0              0              0              0   \n",
       "3              0              0              0              0              0   \n",
       "4              0              0              0              1              0   \n",
       "\n",
       "   addr_state_RI  addr_state_SC  addr_state_SD  addr_state_TN  addr_state_TX  \\\n",
       "0              0              0              0              0              0   \n",
       "1              0              0              0              0              0   \n",
       "2              0              0              0              0              0   \n",
       "3              0              0              0              0              0   \n",
       "4              0              0              0              0              0   \n",
       "\n",
       "   addr_state_UT  addr_state_VA  addr_state_VT  addr_state_WA  addr_state_WI  \\\n",
       "0              0              0              0              0              0   \n",
       "1              0              0              0              0              0   \n",
       "2              0              0              0              0              0   \n",
       "3              0              0              0              0              0   \n",
       "4              0              0              0              0              0   \n",
       "\n",
       "   addr_state_WV  addr_state_WY  \n",
       "0              0              0  \n",
       "1              0              0  \n",
       "2              0              0  \n",
       "3              0              0  \n",
       "4              0              0  "
      ]
     },
     "metadata": {},
     "output_type": "display_data"
    }
   ],
   "source": [
    "# Load dataset\n",
    "\n",
    "df = pd.read_csv('Part_3.csv')\n",
    "pd.set_option(\"display.max_columns\", None)\n",
    "display(df.head())"
   ]
  },
  {
   "cell_type": "code",
   "execution_count": 3,
   "id": "92a6b017",
   "metadata": {},
   "outputs": [
    {
     "name": "stdout",
     "output_type": "stream",
     "text": [
      "<class 'pandas.core.frame.DataFrame'>\n",
      "RangeIndex: 39786 entries, 0 to 39785\n",
      "Columns: 130 entries, loan_status to addr_state_WY\n",
      "dtypes: float64(14), int64(116)\n",
      "memory usage: 39.5 MB\n"
     ]
    }
   ],
   "source": [
    "df.info()"
   ]
  },
  {
   "cell_type": "code",
   "execution_count": 4,
   "id": "bfa69f5b",
   "metadata": {},
   "outputs": [
    {
     "data": {
      "text/plain": [
       "0.0    130\n",
       "dtype: int64"
      ]
     },
     "execution_count": 4,
     "metadata": {},
     "output_type": "execute_result"
    }
   ],
   "source": [
    "# Checking nulls\n",
    "\n",
    "round(100 * (df.isnull().sum() / len(df.index)), 2).value_counts()"
   ]
  },
  {
   "cell_type": "code",
   "execution_count": 5,
   "id": "6275f8fa",
   "metadata": {},
   "outputs": [
    {
     "name": "stdout",
     "output_type": "stream",
     "text": [
      "['loan_status', 'loan_amnt', 'term', 'int_rate', 'installment', 'emp_length', 'annual_inc', 'dti', 'delinq_2yrs', 'inq_last_6mths', 'open_acc', 'pub_rec', 'revol_bal', 'revol_util', 'total_acc', 'pub_rec_bankruptcies', 'fico_score', 'fico_class', 'sub_grade_A1', 'sub_grade_A2', 'sub_grade_A3', 'sub_grade_A4', 'sub_grade_A5', 'sub_grade_B1', 'sub_grade_B2', 'sub_grade_B3', 'sub_grade_B4', 'sub_grade_B5', 'sub_grade_C1', 'sub_grade_C2', 'sub_grade_C3', 'sub_grade_C4', 'sub_grade_C5', 'sub_grade_D1', 'sub_grade_D2', 'sub_grade_D3', 'sub_grade_D4', 'sub_grade_D5', 'sub_grade_E1', 'sub_grade_E2', 'sub_grade_E3', 'sub_grade_E4', 'sub_grade_E5', 'sub_grade_F1', 'sub_grade_F2', 'sub_grade_F3', 'sub_grade_F4', 'sub_grade_F5', 'sub_grade_G1', 'sub_grade_G2', 'sub_grade_G3', 'sub_grade_G4', 'sub_grade_G5', 'home_ownership_MORTGAGE', 'home_ownership_NONE', 'home_ownership_OTHER', 'home_ownership_OWN', 'home_ownership_RENT', 'verif_stat', 'purpose_car', 'purpose_credit_card', 'purpose_debt_consolidation', 'purpose_educational', 'purpose_home_improvement', 'purpose_house', 'purpose_major_purchase', 'purpose_medical', 'purpose_moving', 'purpose_other', 'purpose_renewable_energy', 'purpose_small_business', 'purpose_vacation', 'purpose_wedding', 'year_issue', 'month_issue', 'year_ecl', 'month_ecl', 'geo_loc', 'geo_loc_ns', 'geo_loc_we', 'addr_state_AK', 'addr_state_AL', 'addr_state_AR', 'addr_state_AZ', 'addr_state_CA', 'addr_state_CO', 'addr_state_CT', 'addr_state_DC', 'addr_state_DE', 'addr_state_FL', 'addr_state_GA', 'addr_state_HI', 'addr_state_IA', 'addr_state_ID', 'addr_state_IL', 'addr_state_IN', 'addr_state_KS', 'addr_state_KY', 'addr_state_LA', 'addr_state_MA', 'addr_state_MD', 'addr_state_ME', 'addr_state_MI', 'addr_state_MN', 'addr_state_MO', 'addr_state_MS', 'addr_state_MT', 'addr_state_NC', 'addr_state_NE', 'addr_state_NH', 'addr_state_NJ', 'addr_state_NM', 'addr_state_NV', 'addr_state_NY', 'addr_state_OH', 'addr_state_OK', 'addr_state_OR', 'addr_state_PA', 'addr_state_RI', 'addr_state_SC', 'addr_state_SD', 'addr_state_TN', 'addr_state_TX', 'addr_state_UT', 'addr_state_VA', 'addr_state_VT', 'addr_state_WA', 'addr_state_WI', 'addr_state_WV', 'addr_state_WY']\n"
     ]
    }
   ],
   "source": [
    "print(df.columns.tolist())"
   ]
  },
  {
   "cell_type": "code",
   "execution_count": 6,
   "id": "9fb7fa97",
   "metadata": {},
   "outputs": [
    {
     "data": {
      "text/plain": [
       "(39786, 130)"
      ]
     },
     "execution_count": 6,
     "metadata": {},
     "output_type": "execute_result"
    }
   ],
   "source": [
    "df.shape"
   ]
  },
  {
   "cell_type": "code",
   "execution_count": 7,
   "id": "a42dce4a",
   "metadata": {},
   "outputs": [],
   "source": [
    "# Copy of the Data Frame\n",
    "\n",
    "df_copy = df"
   ]
  },
  {
   "cell_type": "markdown",
   "id": "fd2d9b88",
   "metadata": {},
   "source": [
    "## Training models"
   ]
  },
  {
   "cell_type": "markdown",
   "id": "18d45452",
   "metadata": {},
   "source": [
    "### Data splitting and standardization"
   ]
  },
  {
   "cell_type": "code",
   "execution_count": 8,
   "id": "e517752b",
   "metadata": {},
   "outputs": [
    {
     "data": {
      "text/plain": [
       "1    34116\n",
       "0     5670\n",
       "Name: loan_status, dtype: int64"
      ]
     },
     "execution_count": 8,
     "metadata": {},
     "output_type": "execute_result"
    }
   ],
   "source": [
    "df.loan_status.value_counts()"
   ]
  },
  {
   "cell_type": "code",
   "execution_count": 9,
   "id": "0d117d69",
   "metadata": {},
   "outputs": [
    {
     "data": {
      "text/plain": [
       "14.251244156235861"
      ]
     },
     "execution_count": 9,
     "metadata": {},
     "output_type": "execute_result"
    }
   ],
   "source": [
    "# Checking the percentage of Charged off loans (loan_status = 0)\n",
    "\n",
    "(df.loan_status == 0).sum() / len(df.loan_status) * 100"
   ]
  },
  {
   "cell_type": "code",
   "execution_count": 10,
   "id": "996239c2",
   "metadata": {},
   "outputs": [],
   "source": [
    "# Loading train_test_split\n",
    "\n",
    "from sklearn.model_selection import train_test_split"
   ]
  },
  {
   "cell_type": "code",
   "execution_count": 11,
   "id": "1f61a4e9",
   "metadata": {},
   "outputs": [
    {
     "name": "stdout",
     "output_type": "stream",
     "text": [
      "(39786, 129)\n",
      "(39786,)\n"
     ]
    }
   ],
   "source": [
    "# Spliting data into X and y and checking the shape\n",
    "\n",
    "X = df.drop('loan_status', axis=1)\n",
    "y = df['loan_status'].values\n",
    "\n",
    "print(X.shape)\n",
    "print(y.shape)"
   ]
  },
  {
   "cell_type": "code",
   "execution_count": 12,
   "id": "39eafda2",
   "metadata": {},
   "outputs": [],
   "source": [
    "# Data splitting into training and testing data\n",
    "\n",
    "X_train, X_test, y_train, y_test = train_test_split(X, y, test_size=0.30, random_state=42)"
   ]
  },
  {
   "cell_type": "code",
   "execution_count": 13,
   "id": "2df38f1a",
   "metadata": {},
   "outputs": [
    {
     "name": "stdout",
     "output_type": "stream",
     "text": [
      "(27850, 129)\n",
      "(11936, 129)\n",
      "(27850,)\n",
      "(11936,)\n"
     ]
    }
   ],
   "source": [
    "# Checking the size of the data split\n",
    "\n",
    "print(X_train.shape)\n",
    "print(X_test.shape)\n",
    "print(y_train.shape)\n",
    "print(y_test.shape)"
   ]
  },
  {
   "cell_type": "code",
   "execution_count": 14,
   "id": "e679e14d",
   "metadata": {},
   "outputs": [
    {
     "name": "stdout",
     "output_type": "stream",
     "text": [
      "Percentage of the Charged off loans in the training set:  14.287253141831238\n",
      "Percentage of the Charged off loans in the testing set:  14.167225201072387\n"
     ]
    }
   ],
   "source": [
    "# Checking the percentago of Charged off loans (loan_status = 0) in the train and test sets \n",
    "\n",
    "ratio_train = (y_train == 0).sum() / len(y_train) * 100\n",
    "ratio_test = (y_test == 0).sum() / len(y_test) * 100\n",
    "print(\"Percentage of the Charged off loans in the training set: \", ratio_train)\n",
    "print(\"Percentage of the Charged off loans in the testing set: \", ratio_test)"
   ]
  },
  {
   "cell_type": "markdown",
   "id": "42c832a5",
   "metadata": {},
   "source": [
    "The data is not balanced in the target. The SMOTE method will be implemented."
   ]
  },
  {
   "cell_type": "code",
   "execution_count": 15,
   "id": "68fe7e40",
   "metadata": {},
   "outputs": [],
   "source": [
    "# Importing SMOTE to balance the data\n",
    "\n",
    "from imblearn.over_sampling import SMOTE\n",
    "smote = SMOTE(random_state=42)\n",
    "X_resampled, y_resampled = smote.fit_resample(X_train, y_train)"
   ]
  },
  {
   "cell_type": "code",
   "execution_count": 16,
   "id": "625e0373",
   "metadata": {},
   "outputs": [
    {
     "name": "stdout",
     "output_type": "stream",
     "text": [
      "(47742, 129)\n",
      "(47742,)\n"
     ]
    }
   ],
   "source": [
    "# Checking the data after SMOTE method\n",
    "\n",
    "print(X_resampled.shape)\n",
    "print(y_resampled.shape)"
   ]
  },
  {
   "cell_type": "code",
   "execution_count": 17,
   "id": "840f7eeb",
   "metadata": {},
   "outputs": [
    {
     "name": "stdout",
     "output_type": "stream",
     "text": [
      "Percentage of the Charged off loans in the resampled set:  50.0\n"
     ]
    }
   ],
   "source": [
    "ratio_res = (y_resampled == 0).sum() / len(y_resampled) * 100\n",
    "print(\"Percentage of the Charged off loans in the resampled set: \", ratio_res)"
   ]
  },
  {
   "cell_type": "code",
   "execution_count": 18,
   "id": "712e531d",
   "metadata": {},
   "outputs": [
    {
     "data": {
      "text/plain": [
       "(array([0, 1], dtype=int64), array([23871, 23871], dtype=int64))"
      ]
     },
     "execution_count": 18,
     "metadata": {},
     "output_type": "execute_result"
    }
   ],
   "source": [
    "np.unique(y_resampled, return_counts=True)"
   ]
  },
  {
   "cell_type": "code",
   "execution_count": 19,
   "id": "fd931508",
   "metadata": {},
   "outputs": [],
   "source": [
    "# Data standardization\n",
    "\n",
    "from sklearn.preprocessing import StandardScaler\n",
    "scaler = StandardScaler()\n",
    "scaler.fit(X_resampled)\n",
    "X_scaled_train = scaler.transform(X_resampled)\n",
    "X_scaled_test = scaler.transform(X_test)"
   ]
  },
  {
   "cell_type": "code",
   "execution_count": 20,
   "id": "911e0f3b",
   "metadata": {},
   "outputs": [
    {
     "name": "stdout",
     "output_type": "stream",
     "text": [
      "First row of X_scaled_train: \n",
      " [-8.62601338e-01 -7.59007117e-01 -1.36002600e+00 -8.32447770e-01\n",
      "  5.99288766e-01 -2.02562809e-01  1.11229990e-01 -3.35729711e-01\n",
      " -9.28012868e-01 -5.42268446e-01 -2.84100100e-01 -6.44165359e-01\n",
      "  3.38986771e-01  1.87042255e-01 -2.55951239e-01  1.56683625e-01\n",
      " -7.74534532e-02 -1.28203054e-01 -1.50396811e-01 -1.66645138e-01\n",
      "  4.69602295e+00 -2.07019668e-01 -1.69216485e-01 -1.78924586e-01\n",
      " -2.14232765e-01 -1.98908289e-01 -2.08281878e-01 -1.86273967e-01\n",
      " -1.78362748e-01 -1.55841695e-01 -1.39004786e-01 -1.35680123e-01\n",
      " -1.19394562e-01 -1.46416327e-01 -1.36478512e-01 -1.23741592e-01\n",
      " -1.18851983e-01 -1.05952629e-01 -1.00565429e-01 -9.28417843e-02\n",
      " -8.34281920e-02 -8.01846637e-02 -7.12290488e-02 -6.06549352e-02\n",
      " -5.24544088e-02 -5.26547888e-02 -4.46523193e-02 -3.99302879e-02\n",
      " -3.48760794e-02 -2.78495968e-02 -3.00247632e-02 -2.09775555e-02\n",
      " -7.28479863e-01 -6.47252580e-03 -3.63501917e-02 -2.23378024e-01\n",
      "  1.25176364e+00  2.30208007e-01 -1.55205963e-01  3.41079183e+00\n",
      " -7.91153450e-01 -7.19679340e-02 -2.20781772e-01 -7.52753531e-02\n",
      " -1.83669885e-01 -1.04220777e-01 -9.12215173e-02 -2.68617246e-01\n",
      " -3.91330240e-02 -1.78425251e-01 -7.61150356e-02 -1.19123564e-01\n",
      "  8.77505127e-01 -3.31355214e-01 -9.42741087e-01  7.22119191e-01\n",
      " -9.68891631e-01 -7.42919421e-01 -6.22580768e-01 -3.51758192e-02\n",
      " -8.14971553e-02 -6.01308922e-02 -1.14517844e-01 -3.71832040e-01\n",
      " -1.09729353e-01 -1.06356204e-01 -5.48111740e-02 -4.12250256e-02\n",
      " -2.17844131e-01 -1.46341681e-01 -5.12358554e-02 -9.15372552e-03\n",
      " -1.02342834e-02  6.56377197e+00 -1.29458652e-02 -6.45334282e-02\n",
      " -7.10803689e-02 -7.85814934e-02 -1.42793009e-01 -1.27441356e-01\n",
      " -6.47252580e-03 -1.06154599e-01 -9.49980116e-02 -1.01095378e-01\n",
      " -1.71268463e-02 -3.48760794e-02 -1.07458569e-01 -6.47252580e-03\n",
      " -5.01980455e-02 -1.71235860e-01 -5.16452003e-02 -8.65534870e-02\n",
      " -2.51681503e-01 -1.38534358e-01 -6.74157303e-02 -8.29175274e-02\n",
      " -1.50032301e-01 -5.34488799e-02 -8.31732409e-02 -3.13915314e-02\n",
      " -1.65036691e-02 -2.08992486e-01 -6.53466003e-02 -1.47086577e-01\n",
      " -2.78495968e-02 -1.12052101e-01 -8.14971553e-02 -5.08232484e-02\n",
      " -3.54730388e-02]\n",
      "First row of X_scaled_test: \n",
      " [-2.07908365e-01 -7.59007117e-01 -1.94986616e+00 -5.96127276e-01\n",
      " -1.50923981e+00  2.53268637e-01 -1.27243123e+00 -3.35729711e-01\n",
      "  1.00860294e+00  4.20954300e-01 -2.84100100e-01 -1.17228724e-02\n",
      " -1.02780543e+00  1.87042255e-01 -2.55951239e-01  1.52503645e+00\n",
      "  1.64725866e+00 -1.28203054e-01  6.64907717e+00 -1.66645138e-01\n",
      " -2.12946148e-01 -2.07019668e-01 -1.69216485e-01 -1.78924586e-01\n",
      " -2.14232765e-01 -1.98908289e-01 -2.08281878e-01 -1.86273967e-01\n",
      " -1.78362748e-01 -1.55841695e-01 -1.39004786e-01 -1.35680123e-01\n",
      " -1.19394562e-01 -1.46416327e-01 -1.36478512e-01 -1.23741592e-01\n",
      " -1.18851983e-01 -1.05952629e-01 -1.00565429e-01 -9.28417843e-02\n",
      " -8.34281920e-02 -8.01846637e-02 -7.12290488e-02 -6.06549352e-02\n",
      " -5.24544088e-02 -5.26547888e-02 -4.46523193e-02 -3.99302879e-02\n",
      " -3.48760794e-02 -2.78495968e-02 -3.00247632e-02 -2.09775555e-02\n",
      "  1.37272154e+00 -6.47252580e-03 -3.63501917e-02 -2.23378024e-01\n",
      " -7.98872863e-01 -9.86911668e-01 -1.55205963e-01 -2.93187051e-01\n",
      "  1.26397730e+00 -7.19679340e-02 -2.20781772e-01 -7.52753531e-02\n",
      " -1.83669885e-01 -1.04220777e-01 -9.12215173e-02 -2.68617246e-01\n",
      " -3.91330240e-02 -1.78425251e-01 -7.61150356e-02 -1.19123564e-01\n",
      " -2.61471812e-01  1.57369785e+00  3.31887471e+00 -4.86643202e-01\n",
      " -9.68891631e-01 -7.42919421e-01 -6.22580768e-01 -3.51758192e-02\n",
      " -8.14971553e-02 -6.01308922e-02 -1.14517844e-01 -3.71832040e-01\n",
      " -1.09729353e-01 -1.06356204e-01 -5.48111740e-02 -4.12250256e-02\n",
      " -2.17844131e-01 -1.46341681e-01 -5.12358554e-02 -9.15372552e-03\n",
      " -1.02342834e-02 -1.52351423e-01 -1.29458652e-02 -6.45334282e-02\n",
      " -7.10803689e-02 -7.85814934e-02 -1.42793009e-01 -1.27441356e-01\n",
      " -6.47252580e-03 -1.06154599e-01 -9.49980116e-02 -1.01095378e-01\n",
      " -1.71268463e-02 -3.48760794e-02 -1.07458569e-01 -6.47252580e-03\n",
      " -5.01980455e-02 -1.71235860e-01 -5.16452003e-02 -8.65534870e-02\n",
      " -2.51681503e-01 -1.38534358e-01 -6.74157303e-02 -8.29175274e-02\n",
      "  6.66523137e+00 -5.34488799e-02 -8.31732409e-02 -3.13915314e-02\n",
      " -1.65036691e-02 -2.08992486e-01 -6.53466003e-02 -1.47086577e-01\n",
      " -2.78495968e-02 -1.12052101e-01 -8.14971553e-02 -5.08232484e-02\n",
      " -3.54730388e-02]\n"
     ]
    }
   ],
   "source": [
    "print(\"First row of X_scaled_train: \\n\", X_scaled_train[0])\n",
    "print(\"First row of X_scaled_test: \\n\", X_scaled_test[0])"
   ]
  },
  {
   "cell_type": "code",
   "execution_count": 21,
   "id": "ad624f20",
   "metadata": {},
   "outputs": [],
   "source": [
    "# Importing metrics and classification report\n",
    "\n",
    "from sklearn.metrics import classification_report,confusion_matrix\n",
    "from sklearn.metrics import precision_score"
   ]
  },
  {
   "cell_type": "code",
   "execution_count": 22,
   "id": "01ecc053",
   "metadata": {},
   "outputs": [],
   "source": [
    "# Function using to create a classification reports\n",
    "\n",
    "def evaluate(prediction, y_test): \n",
    "    result = classification_report(y_test, prediction, output_dict=True, zero_division=1)\n",
    "    f1 = result['0']['f1-score'] # F1 score for Charged off loans\n",
    "    accuracy = result['accuracy']\n",
    "    performance_data= {'f1-score':round(f1, 2),\n",
    "                      'accuracy':round(accuracy, 2)}\n",
    "    return performance_data"
   ]
  },
  {
   "cell_type": "markdown",
   "id": "171c2640",
   "metadata": {},
   "source": [
    "It is very important to identify borrowers who may default on their loans. Therefore, the evaluation report will focus on the F1 result related to unpaid liabilities."
   ]
  },
  {
   "cell_type": "markdown",
   "id": "17e93cda",
   "metadata": {},
   "source": [
    "### Decision Tree"
   ]
  },
  {
   "cell_type": "code",
   "execution_count": 23,
   "id": "bac0ea22",
   "metadata": {},
   "outputs": [
    {
     "data": {
      "text/plain": [
       "DecisionTreeClassifier()"
      ]
     },
     "execution_count": 23,
     "metadata": {},
     "output_type": "execute_result"
    }
   ],
   "source": [
    "from sklearn.tree import DecisionTreeClassifier\n",
    "dtree = DecisionTreeClassifier()\n",
    "dtree.fit(X_scaled_train, y_resampled)"
   ]
  },
  {
   "cell_type": "code",
   "execution_count": 24,
   "id": "561971dd",
   "metadata": {},
   "outputs": [],
   "source": [
    "dtree_prediction = dtree.predict(X_scaled_test)"
   ]
  },
  {
   "cell_type": "code",
   "execution_count": 25,
   "id": "f3b18dfb",
   "metadata": {},
   "outputs": [
    {
     "name": "stdout",
     "output_type": "stream",
     "text": [
      "              precision    recall  f1-score   support\n",
      "\n",
      "           0       0.19      0.23      0.21      1691\n",
      "           1       0.87      0.84      0.85     10245\n",
      "\n",
      "    accuracy                           0.75     11936\n",
      "   macro avg       0.53      0.53      0.53     11936\n",
      "weighted avg       0.77      0.75      0.76     11936\n",
      "\n"
     ]
    },
    {
     "data": {
      "text/plain": [
       "{'f1-score': 0.21, 'accuracy': 0.75}"
      ]
     },
     "execution_count": 25,
     "metadata": {},
     "output_type": "execute_result"
    }
   ],
   "source": [
    "print(classification_report(y_test, dtree_prediction, zero_division=1))\n",
    "\n",
    "dtree_pr= evaluate(dtree_prediction, y_test)\n",
    "dtree_pr"
   ]
  },
  {
   "cell_type": "code",
   "execution_count": 26,
   "id": "7ac7563b",
   "metadata": {},
   "outputs": [
    {
     "data": {
      "text/plain": [
       "array([[ 383, 1308],\n",
       "       [1634, 8611]], dtype=int64)"
      ]
     },
     "execution_count": 26,
     "metadata": {},
     "output_type": "execute_result"
    }
   ],
   "source": [
    "# Confusion matrix\n",
    "\n",
    "confusion_matrix(y_test, dtree_prediction)"
   ]
  },
  {
   "cell_type": "markdown",
   "id": "7e224fa5",
   "metadata": {},
   "source": [
    "### Random Forest"
   ]
  },
  {
   "cell_type": "code",
   "execution_count": 27,
   "id": "e1efbe38",
   "metadata": {},
   "outputs": [
    {
     "data": {
      "text/plain": [
       "RandomForestClassifier()"
      ]
     },
     "execution_count": 27,
     "metadata": {},
     "output_type": "execute_result"
    }
   ],
   "source": [
    "from sklearn.ensemble import RandomForestClassifier\n",
    "rf = RandomForestClassifier()\n",
    "rf.fit(X_scaled_train, y_resampled)"
   ]
  },
  {
   "cell_type": "code",
   "execution_count": 28,
   "id": "16ff52b7",
   "metadata": {},
   "outputs": [],
   "source": [
    "rf_prediction = rf.predict(X_scaled_test)"
   ]
  },
  {
   "cell_type": "code",
   "execution_count": 29,
   "id": "8fcdb1dc",
   "metadata": {},
   "outputs": [
    {
     "name": "stdout",
     "output_type": "stream",
     "text": [
      "              precision    recall  f1-score   support\n",
      "\n",
      "           0       0.32      0.03      0.05      1691\n",
      "           1       0.86      0.99      0.92     10245\n",
      "\n",
      "    accuracy                           0.85     11936\n",
      "   macro avg       0.59      0.51      0.49     11936\n",
      "weighted avg       0.78      0.85      0.80     11936\n",
      "\n",
      "{'f1-score': 0.05, 'accuracy': 0.85}\n"
     ]
    }
   ],
   "source": [
    "print(classification_report(y_test, rf_prediction, zero_division=1))\n",
    "rf_pr = evaluate(rf_prediction, y_test)\n",
    "print(rf_pr)"
   ]
  },
  {
   "cell_type": "code",
   "execution_count": 30,
   "id": "5ba75728",
   "metadata": {},
   "outputs": [
    {
     "data": {
      "text/plain": [
       "array([[   46,  1645],\n",
       "       [   97, 10148]], dtype=int64)"
      ]
     },
     "execution_count": 30,
     "metadata": {},
     "output_type": "execute_result"
    }
   ],
   "source": [
    "confusion_matrix(y_test, rf_prediction)"
   ]
  },
  {
   "cell_type": "markdown",
   "id": "0a6be390",
   "metadata": {},
   "source": [
    "### Logistic Regression"
   ]
  },
  {
   "cell_type": "code",
   "execution_count": 31,
   "id": "0c835b66",
   "metadata": {},
   "outputs": [
    {
     "name": "stderr",
     "output_type": "stream",
     "text": [
      "C:\\Users\\barte\\anaconda3\\lib\\site-packages\\sklearn\\linear_model\\_logistic.py:814: ConvergenceWarning: lbfgs failed to converge (status=1):\n",
      "STOP: TOTAL NO. of ITERATIONS REACHED LIMIT.\n",
      "\n",
      "Increase the number of iterations (max_iter) or scale the data as shown in:\n",
      "    https://scikit-learn.org/stable/modules/preprocessing.html\n",
      "Please also refer to the documentation for alternative solver options:\n",
      "    https://scikit-learn.org/stable/modules/linear_model.html#logistic-regression\n",
      "  n_iter_i = _check_optimize_result(\n"
     ]
    },
    {
     "data": {
      "text/plain": [
       "LogisticRegression(random_state=42)"
      ]
     },
     "execution_count": 31,
     "metadata": {},
     "output_type": "execute_result"
    }
   ],
   "source": [
    "from sklearn.linear_model import LogisticRegression\n",
    "lr = LogisticRegression(random_state=42)\n",
    "lr.fit(X_scaled_train, y_resampled)"
   ]
  },
  {
   "cell_type": "code",
   "execution_count": 32,
   "id": "b3017ea5",
   "metadata": {},
   "outputs": [],
   "source": [
    "lr_prediction = lr.predict(X_scaled_test)"
   ]
  },
  {
   "cell_type": "code",
   "execution_count": 33,
   "id": "cf7db45d",
   "metadata": {},
   "outputs": [
    {
     "name": "stdout",
     "output_type": "stream",
     "text": [
      "              precision    recall  f1-score   support\n",
      "\n",
      "           0       0.55      0.02      0.03      1691\n",
      "           1       0.86      1.00      0.92     10245\n",
      "\n",
      "    accuracy                           0.86     11936\n",
      "   macro avg       0.70      0.51      0.48     11936\n",
      "weighted avg       0.82      0.86      0.80     11936\n",
      "\n",
      "{'f1-score': 0.03, 'accuracy': 0.86}\n"
     ]
    }
   ],
   "source": [
    "print(classification_report(y_test, lr_prediction, zero_division=1))\n",
    "lr_pr = evaluate(lr_prediction, y_test)\n",
    "print(lr_pr)"
   ]
  },
  {
   "cell_type": "code",
   "execution_count": 34,
   "id": "97b147c9",
   "metadata": {},
   "outputs": [
    {
     "data": {
      "text/plain": [
       "array([[   30,  1661],\n",
       "       [   25, 10220]], dtype=int64)"
      ]
     },
     "execution_count": 34,
     "metadata": {},
     "output_type": "execute_result"
    }
   ],
   "source": [
    "confusion_matrix(y_test, lr_prediction)"
   ]
  },
  {
   "cell_type": "markdown",
   "id": "31ab3463",
   "metadata": {},
   "source": [
    "### Naïve Bayes"
   ]
  },
  {
   "cell_type": "code",
   "execution_count": 35,
   "id": "c4ca3dce",
   "metadata": {},
   "outputs": [
    {
     "data": {
      "text/plain": [
       "GaussianNB()"
      ]
     },
     "execution_count": 35,
     "metadata": {},
     "output_type": "execute_result"
    }
   ],
   "source": [
    "from sklearn.naive_bayes import GaussianNB\n",
    "nb = GaussianNB()\n",
    "nb.fit(X_scaled_train, y_resampled)"
   ]
  },
  {
   "cell_type": "code",
   "execution_count": 36,
   "id": "fd7cff2b",
   "metadata": {},
   "outputs": [],
   "source": [
    "nb_prediction = nb.predict(X_scaled_test)"
   ]
  },
  {
   "cell_type": "code",
   "execution_count": 37,
   "id": "81cc6945",
   "metadata": {},
   "outputs": [
    {
     "name": "stdout",
     "output_type": "stream",
     "text": [
      "              precision    recall  f1-score   support\n",
      "\n",
      "           0       0.16      0.47      0.24      1691\n",
      "           1       0.87      0.60      0.71     10245\n",
      "\n",
      "    accuracy                           0.58     11936\n",
      "   macro avg       0.52      0.54      0.48     11936\n",
      "weighted avg       0.77      0.58      0.65     11936\n",
      "\n",
      "{'f1-score': 0.24, 'accuracy': 0.58}\n"
     ]
    }
   ],
   "source": [
    "print(classification_report(y_test, nb_prediction, zero_division=1))\n",
    "nb_pr = evaluate(nb_prediction, y_test)\n",
    "print(nb_pr)"
   ]
  },
  {
   "cell_type": "code",
   "execution_count": 38,
   "id": "ccfcaba3",
   "metadata": {},
   "outputs": [
    {
     "data": {
      "text/plain": [
       "array([[ 802,  889],\n",
       "       [4092, 6153]], dtype=int64)"
      ]
     },
     "execution_count": 38,
     "metadata": {},
     "output_type": "execute_result"
    }
   ],
   "source": [
    "confusion_matrix(y_test, nb_prediction)"
   ]
  },
  {
   "cell_type": "markdown",
   "id": "244125ae",
   "metadata": {},
   "source": [
    "### K-Nearest Neighbors (KNN)"
   ]
  },
  {
   "cell_type": "code",
   "execution_count": 39,
   "id": "a8a57a08",
   "metadata": {},
   "outputs": [],
   "source": [
    "from sklearn.neighbors import KNeighborsClassifier\n",
    "knn = KNeighborsClassifier(n_neighbors=5)"
   ]
  },
  {
   "cell_type": "code",
   "execution_count": 40,
   "id": "21f7e03f",
   "metadata": {},
   "outputs": [
    {
     "data": {
      "text/plain": [
       "KNeighborsClassifier()"
      ]
     },
     "execution_count": 40,
     "metadata": {},
     "output_type": "execute_result"
    }
   ],
   "source": [
    "knn.fit(X_scaled_train, y_resampled)"
   ]
  },
  {
   "cell_type": "code",
   "execution_count": 41,
   "id": "4326dfb1",
   "metadata": {},
   "outputs": [],
   "source": [
    "from warnings import simplefilter\n",
    "simplefilter(action='ignore', category=FutureWarning)"
   ]
  },
  {
   "cell_type": "code",
   "execution_count": 42,
   "id": "6e530cc3",
   "metadata": {},
   "outputs": [],
   "source": [
    "knn_prediction = knn.predict(X_scaled_test)"
   ]
  },
  {
   "cell_type": "code",
   "execution_count": 43,
   "id": "ca07a273",
   "metadata": {},
   "outputs": [
    {
     "name": "stdout",
     "output_type": "stream",
     "text": [
      "              precision    recall  f1-score   support\n",
      "\n",
      "           0       0.10      0.24      0.14       688\n",
      "           1       0.95      0.86      0.90     11248\n",
      "\n",
      "    accuracy                           0.83     11936\n",
      "   macro avg       0.52      0.55      0.52     11936\n",
      "weighted avg       0.90      0.83      0.86     11936\n",
      "\n"
     ]
    },
    {
     "data": {
      "text/plain": [
       "{'f1-score': 0.14, 'accuracy': 0.83}"
      ]
     },
     "execution_count": 43,
     "metadata": {},
     "output_type": "execute_result"
    }
   ],
   "source": [
    "print(classification_report(knn_prediction, y_test, zero_division=1))\n",
    "knn_pr = evaluate(knn_prediction, y_test)\n",
    "knn_pr"
   ]
  },
  {
   "cell_type": "code",
   "execution_count": 44,
   "id": "74a44846",
   "metadata": {},
   "outputs": [
    {
     "data": {
      "text/plain": [
       "array([[ 168, 1523],\n",
       "       [ 520, 9725]], dtype=int64)"
      ]
     },
     "execution_count": 44,
     "metadata": {},
     "output_type": "execute_result"
    }
   ],
   "source": [
    "confusion_matrix(y_test, knn_prediction)"
   ]
  },
  {
   "cell_type": "markdown",
   "id": "80cc2b7e",
   "metadata": {},
   "source": [
    "### Multi Layer Perceptron Classifier (MLP)"
   ]
  },
  {
   "cell_type": "code",
   "execution_count": 45,
   "id": "d6e9fcb6",
   "metadata": {},
   "outputs": [],
   "source": [
    "from sklearn.neural_network import MLPClassifier\n",
    "mlp = MLPClassifier(random_state=42)"
   ]
  },
  {
   "cell_type": "code",
   "execution_count": 46,
   "id": "06e5f3c2",
   "metadata": {},
   "outputs": [
    {
     "name": "stderr",
     "output_type": "stream",
     "text": [
      "C:\\Users\\barte\\anaconda3\\lib\\site-packages\\sklearn\\neural_network\\_multilayer_perceptron.py:692: ConvergenceWarning: Stochastic Optimizer: Maximum iterations (200) reached and the optimization hasn't converged yet.\n",
      "  warnings.warn(\n"
     ]
    },
    {
     "data": {
      "text/plain": [
       "MLPClassifier(random_state=42)"
      ]
     },
     "execution_count": 46,
     "metadata": {},
     "output_type": "execute_result"
    }
   ],
   "source": [
    "mlp.fit(X_scaled_train, y_resampled)"
   ]
  },
  {
   "cell_type": "code",
   "execution_count": 47,
   "id": "649933a3",
   "metadata": {},
   "outputs": [],
   "source": [
    "mlp_prediction = mlp.predict(X_scaled_test)"
   ]
  },
  {
   "cell_type": "code",
   "execution_count": 48,
   "id": "fbdc0556",
   "metadata": {},
   "outputs": [
    {
     "name": "stdout",
     "output_type": "stream",
     "text": [
      "              precision    recall  f1-score   support\n",
      "\n",
      "           0       0.21      0.23      0.22      1566\n",
      "           1       0.88      0.87      0.88     10370\n",
      "\n",
      "    accuracy                           0.79     11936\n",
      "   macro avg       0.55      0.55      0.55     11936\n",
      "weighted avg       0.79      0.79      0.79     11936\n",
      "\n"
     ]
    },
    {
     "data": {
      "text/plain": [
       "{'f1-score': 0.22, 'accuracy': 0.79}"
      ]
     },
     "execution_count": 48,
     "metadata": {},
     "output_type": "execute_result"
    }
   ],
   "source": [
    "print(classification_report(mlp_prediction, y_test, zero_division=1))\n",
    "mlp_pr = evaluate(mlp_prediction, y_test)\n",
    "mlp_pr"
   ]
  },
  {
   "cell_type": "code",
   "execution_count": 49,
   "id": "d9d8bd78",
   "metadata": {},
   "outputs": [
    {
     "data": {
      "text/plain": [
       "array([[ 356, 1335],\n",
       "       [1210, 9035]], dtype=int64)"
      ]
     },
     "execution_count": 49,
     "metadata": {},
     "output_type": "execute_result"
    }
   ],
   "source": [
    "confusion_matrix(y_test, mlp_prediction)"
   ]
  },
  {
   "cell_type": "markdown",
   "id": "b0f96e67",
   "metadata": {},
   "source": [
    "### XGBoost Classifier"
   ]
  },
  {
   "cell_type": "code",
   "execution_count": 50,
   "id": "e115f8fc",
   "metadata": {},
   "outputs": [],
   "source": [
    "from xgboost import XGBClassifier\n",
    "xgb = XGBClassifier(random_state=42)"
   ]
  },
  {
   "cell_type": "code",
   "execution_count": 51,
   "id": "85e07152",
   "metadata": {},
   "outputs": [
    {
     "data": {
      "text/plain": [
       "XGBClassifier(base_score=None, booster=None, callbacks=None,\n",
       "              colsample_bylevel=None, colsample_bynode=None,\n",
       "              colsample_bytree=None, early_stopping_rounds=None,\n",
       "              enable_categorical=False, eval_metric=None, feature_types=None,\n",
       "              gamma=None, gpu_id=None, grow_policy=None, importance_type=None,\n",
       "              interaction_constraints=None, learning_rate=None, max_bin=None,\n",
       "              max_cat_threshold=None, max_cat_to_onehot=None,\n",
       "              max_delta_step=None, max_depth=None, max_leaves=None,\n",
       "              min_child_weight=None, missing=nan, monotone_constraints=None,\n",
       "              n_estimators=100, n_jobs=None, num_parallel_tree=None,\n",
       "              predictor=None, random_state=42, ...)"
      ]
     },
     "execution_count": 51,
     "metadata": {},
     "output_type": "execute_result"
    }
   ],
   "source": [
    "xgb.fit(X_scaled_train, y_resampled)"
   ]
  },
  {
   "cell_type": "code",
   "execution_count": 52,
   "id": "8edf7d2e",
   "metadata": {},
   "outputs": [],
   "source": [
    "xgb_prediction = xgb.predict(X_scaled_test)"
   ]
  },
  {
   "cell_type": "code",
   "execution_count": 53,
   "id": "1ba648c4",
   "metadata": {},
   "outputs": [
    {
     "name": "stdout",
     "output_type": "stream",
     "text": [
      "              precision    recall  f1-score   support\n",
      "\n",
      "           0       0.05      0.28      0.09       323\n",
      "           1       0.98      0.86      0.92     11613\n",
      "\n",
      "    accuracy                           0.85     11936\n",
      "   macro avg       0.52      0.57      0.50     11936\n",
      "weighted avg       0.95      0.85      0.89     11936\n",
      "\n"
     ]
    },
    {
     "data": {
      "text/plain": [
       "{'f1-score': 0.09, 'accuracy': 0.85}"
      ]
     },
     "execution_count": 53,
     "metadata": {},
     "output_type": "execute_result"
    }
   ],
   "source": [
    "print(classification_report(xgb_prediction, y_test, zero_division=1))\n",
    "xgb_pr = evaluate(xgb_prediction, y_test)\n",
    "xgb_pr"
   ]
  },
  {
   "cell_type": "code",
   "execution_count": 54,
   "id": "31da3894",
   "metadata": {},
   "outputs": [
    {
     "data": {
      "text/plain": [
       "array([[   91,  1600],\n",
       "       [  232, 10013]], dtype=int64)"
      ]
     },
     "execution_count": 54,
     "metadata": {},
     "output_type": "execute_result"
    }
   ],
   "source": [
    "confusion_matrix(y_test, xgb_prediction)"
   ]
  },
  {
   "cell_type": "code",
   "execution_count": 55,
   "id": "8c2bf69a",
   "metadata": {},
   "outputs": [
    {
     "data": {
      "text/html": [
       "<div>\n",
       "<style scoped>\n",
       "    .dataframe tbody tr th:only-of-type {\n",
       "        vertical-align: middle;\n",
       "    }\n",
       "\n",
       "    .dataframe tbody tr th {\n",
       "        vertical-align: top;\n",
       "    }\n",
       "\n",
       "    .dataframe thead th {\n",
       "        text-align: right;\n",
       "    }\n",
       "</style>\n",
       "<table border=\"1\" class=\"dataframe\">\n",
       "  <thead>\n",
       "    <tr style=\"text-align: right;\">\n",
       "      <th></th>\n",
       "      <th>Model</th>\n",
       "      <th>F1-score</th>\n",
       "      <th>Accuracy</th>\n",
       "    </tr>\n",
       "  </thead>\n",
       "  <tbody>\n",
       "    <tr>\n",
       "      <th>0</th>\n",
       "      <td>Decision Tree</td>\n",
       "      <td>0.21</td>\n",
       "      <td>0.75</td>\n",
       "    </tr>\n",
       "    <tr>\n",
       "      <th>1</th>\n",
       "      <td>Random Forest</td>\n",
       "      <td>0.05</td>\n",
       "      <td>0.85</td>\n",
       "    </tr>\n",
       "    <tr>\n",
       "      <th>2</th>\n",
       "      <td>Logistic Regression</td>\n",
       "      <td>0.03</td>\n",
       "      <td>0.86</td>\n",
       "    </tr>\n",
       "    <tr>\n",
       "      <th>3</th>\n",
       "      <td>Naive Bayes</td>\n",
       "      <td>0.24</td>\n",
       "      <td>0.58</td>\n",
       "    </tr>\n",
       "    <tr>\n",
       "      <th>4</th>\n",
       "      <td>KNN</td>\n",
       "      <td>0.14</td>\n",
       "      <td>0.83</td>\n",
       "    </tr>\n",
       "    <tr>\n",
       "      <th>5</th>\n",
       "      <td>MLP</td>\n",
       "      <td>0.22</td>\n",
       "      <td>0.79</td>\n",
       "    </tr>\n",
       "    <tr>\n",
       "      <th>6</th>\n",
       "      <td>XGB</td>\n",
       "      <td>0.09</td>\n",
       "      <td>0.85</td>\n",
       "    </tr>\n",
       "  </tbody>\n",
       "</table>\n",
       "</div>"
      ],
      "text/plain": [
       "                 Model  F1-score  Accuracy\n",
       "0        Decision Tree      0.21      0.75\n",
       "1        Random Forest      0.05      0.85\n",
       "2  Logistic Regression      0.03      0.86\n",
       "3          Naive Bayes      0.24      0.58\n",
       "4                  KNN      0.14      0.83\n",
       "5                  MLP      0.22      0.79\n",
       "6                  XGB      0.09      0.85"
      ]
     },
     "execution_count": 55,
     "metadata": {},
     "output_type": "execute_result"
    }
   ],
   "source": [
    "prediction_data={'Model': ['Decision Tree',\n",
    "                          'Random Forest',\n",
    "                          'Logistic Regression',\n",
    "                          'Naive Bayes',\n",
    "                          'KNN',\n",
    "                          'MLP',\n",
    "                          'XGB'\n",
    "                         ],\n",
    "                 \n",
    "                  'F1-score': [dtree_pr['f1-score'],\n",
    "                              rf_pr['f1-score'],\n",
    "                              lr_pr['f1-score'],\n",
    "                              nb_pr['f1-score'],\n",
    "                              knn_pr['f1-score'],\n",
    "                              mlp_pr['f1-score'],\n",
    "                              xgb_pr['f1-score']\n",
    "                         ],\n",
    "                 \n",
    "                  'Accuracy': [dtree_pr['accuracy'],\n",
    "                              rf_pr['accuracy'],\n",
    "                              lr_pr['accuracy'],\n",
    "                              nb_pr['accuracy'],\n",
    "                              knn_pr['accuracy'],\n",
    "                              mlp_pr['accuracy'],\n",
    "                              xgb_pr['accuracy']\n",
    "                         ],\n",
    "                 \n",
    "                    }\n",
    " \n",
    "# Create DataFrame\n",
    "prediction_table = pd.DataFrame(prediction_data)\n",
    "prediction_table"
   ]
  },
  {
   "cell_type": "markdown",
   "id": "753eab9e",
   "metadata": {},
   "source": [
    "The three models: Random Forest, Logistic Regression and XGB have high accuracy and very low f1_score. The answers are unbalanced (only a few negative answers (0) for Random Forest and Logistic Regression). This means that these models predict that most borrowers will repay their loans (loan_status = 1). This is due to the significant advantage of borrowers who have repaid their liabilities. Prediction of the KNN algorithm shows also high accuracy and moderately good f1_score. The models: Decision Tree, MLP and Naive Bayes are characterized by better balanced data and better f1_score for Charged off loans (best f1_score for Naive Bayes algorithm). Decision Tree and MLP show better accuracy. The accuracy for Naive Bayes is noticeably lower. According to all model scores the MLP algorithm seems to be the best (best balance between f1_score and accuracy). "
   ]
  },
  {
   "cell_type": "markdown",
   "id": "85d17a7c",
   "metadata": {},
   "source": [
    "## Data compression by PCA"
   ]
  },
  {
   "cell_type": "code",
   "execution_count": 56,
   "id": "03c778d9",
   "metadata": {},
   "outputs": [
    {
     "data": {
      "text/plain": [
       "array([[-1.68398409e+00, -1.44855949e+00,  1.28090924e+00, ...,\n",
       "        -3.85237213e-03,  1.19659109e-02,  4.26410282e-02],\n",
       "       [-1.05818262e+00, -1.25776085e+00, -1.51927496e+00, ...,\n",
       "        -4.89468397e-02, -1.00057421e-02,  1.26062829e-01],\n",
       "       [ 1.27019319e+00,  1.85234210e+00, -3.12363487e+00, ...,\n",
       "        -3.72718751e-02, -3.41549864e-02, -1.08264112e-01],\n",
       "       ...,\n",
       "       [ 5.24404710e-01, -2.87481808e+00,  4.78764379e-02, ...,\n",
       "        -3.40910387e-01,  1.92252021e-02,  1.08612210e-01],\n",
       "       [ 2.91060127e-03,  7.94094193e-01,  1.42901205e+00, ...,\n",
       "         2.90994648e-01, -1.09148470e-01, -8.62545107e-02],\n",
       "       [ 3.02125833e+00,  4.34818482e-01, -1.11317160e+00, ...,\n",
       "        -1.84531769e-01,  1.23580601e-01, -2.06120515e-01]])"
      ]
     },
     "execution_count": 56,
     "metadata": {},
     "output_type": "execute_result"
    }
   ],
   "source": [
    "from sklearn.decomposition import PCA\n",
    "\n",
    "pca = PCA(random_state=42)\n",
    "pca.fit_transform(X_scaled_train)"
   ]
  },
  {
   "cell_type": "code",
   "execution_count": 57,
   "id": "c0f67440",
   "metadata": {},
   "outputs": [
    {
     "data": {
      "text/plain": [
       "array([ 2.54401069e-01,  2.30490407e-01,  4.20561552e-01,  2.39688656e-01,\n",
       "        7.11830627e-02,  1.01150214e-01,  1.49058108e-01,  5.86769790e-02,\n",
       "        4.32246194e-02,  1.09074072e-01,  7.65797604e-02,  1.74343373e-01,\n",
       "        2.93408247e-01,  9.47752422e-02,  7.52613976e-02, -3.22736088e-01,\n",
       "       -2.99984255e-01, -1.32288226e-01, -1.40526274e-01, -1.37293490e-01,\n",
       "       -1.37840629e-01, -1.12292530e-01, -6.86130544e-02, -5.73339820e-02,\n",
       "       -4.66898599e-02, -2.97092885e-02, -1.68527142e-02,  2.10439032e-04,\n",
       "        8.46677236e-03,  8.10145467e-03,  1.48871790e-02,  2.25996305e-02,\n",
       "        2.27254071e-02,  4.28918504e-02,  4.63845853e-02,  4.69183188e-02,\n",
       "        5.15710639e-02,  5.17720122e-02,  5.58566733e-02,  5.58576379e-02,\n",
       "        5.93696327e-02,  5.80668207e-02,  5.62655129e-02,  4.58010085e-02,\n",
       "        4.45584168e-02,  4.86321574e-02,  4.60928963e-02,  3.94627235e-02,\n",
       "        3.65948466e-02,  3.20462370e-02,  3.34503194e-02,  2.23607545e-02,\n",
       "        8.06467556e-04, -6.96819119e-03, -1.22985594e-02, -5.28788257e-02,\n",
       "       -6.23600153e-02,  1.49849633e-01, -7.98210317e-02, -2.60468064e-02,\n",
       "        1.03777041e-01, -3.48419277e-02, -6.25258613e-02, -1.73405114e-02,\n",
       "       -9.06889622e-02, -3.40383539e-02, -3.47672817e-02, -7.68875589e-02,\n",
       "       -1.25053574e-02, -1.13984448e-02, -3.74989518e-02, -2.73309372e-02,\n",
       "        5.68319519e-02,  2.95235045e-02, -2.19718132e-02, -2.40999927e-02,\n",
       "       -9.46871566e-02, -1.06468299e-01, -8.97152544e-02,  2.71575200e-03,\n",
       "       -1.74246372e-02, -1.36700771e-02, -2.81406002e-02, -7.23548056e-02,\n",
       "       -1.95260392e-02, -1.63717322e-03, -1.48693430e-03, -2.68599765e-03,\n",
       "       -3.77783822e-02, -2.18611937e-02, -8.68910577e-03, -7.49435867e-03,\n",
       "       -1.81370914e-03,  2.46820825e-04, -4.78047976e-03, -1.40537115e-02,\n",
       "       -1.91702030e-03, -1.93963019e-02, -1.26948289e-02,  8.68699055e-03,\n",
       "       -5.30035402e-03, -4.22008401e-03, -7.20094985e-03, -1.08059934e-02,\n",
       "       -7.46092833e-03, -6.50654134e-03, -1.26834358e-02,  4.45520629e-04,\n",
       "       -2.07134983e-03,  2.81782742e-03, -1.91177700e-02, -3.92267356e-03,\n",
       "       -5.05511900e-03, -4.62283032e-03, -2.16383126e-02, -8.52609144e-03,\n",
       "       -1.93844281e-02, -2.00399589e-03, -1.88042438e-02, -6.08000441e-03,\n",
       "       -9.62010801e-03, -4.73138261e-02, -6.09096896e-03, -7.77553463e-04,\n",
       "       -6.59217264e-03, -6.23612129e-03, -8.87849055e-04, -6.27569144e-03,\n",
       "       -4.87644150e-03])"
      ]
     },
     "execution_count": 57,
     "metadata": {},
     "output_type": "execute_result"
    }
   ],
   "source": [
    "pca.components_[0]"
   ]
  },
  {
   "cell_type": "code",
   "execution_count": 58,
   "id": "9abfb1e8",
   "metadata": {},
   "outputs": [
    {
     "data": {
      "text/plain": [
       "array([0.03128691, 0.02729375, 0.02538918, 0.0155255 , 0.01409422,\n",
       "       0.01291181, 0.01162694, 0.01082567, 0.01051821, 0.00963285,\n",
       "       0.00931981, 0.00893177, 0.00877373, 0.00868553, 0.0086149 ,\n",
       "       0.00858543, 0.00851191, 0.00849756, 0.00846362, 0.00843881,\n",
       "       0.00841081, 0.0083706 , 0.00836269, 0.00834874, 0.00831528,\n",
       "       0.00829838, 0.00829145, 0.00828703, 0.00825251, 0.00824832,\n",
       "       0.00821966, 0.00819031, 0.00817934, 0.00816077, 0.00815001,\n",
       "       0.00813479, 0.00810543, 0.00809581, 0.00807571, 0.00807448,\n",
       "       0.00805623, 0.00803173, 0.00801613, 0.00800849, 0.007994  ,\n",
       "       0.00798498, 0.00797411, 0.00796382, 0.00794805, 0.00792591,\n",
       "       0.00792334, 0.00791017, 0.00789453, 0.00789197, 0.00788311,\n",
       "       0.00787141, 0.00785543, 0.00784275, 0.00783196, 0.00782005,\n",
       "       0.0078159 , 0.0078121 , 0.00780035, 0.00778512, 0.00777169,\n",
       "       0.00776603, 0.00775259, 0.00774337, 0.00773503, 0.0077112 ,\n",
       "       0.00770714, 0.00769941, 0.00769066, 0.00768674, 0.00767793,\n",
       "       0.00765385, 0.00763965, 0.00763125, 0.00762693, 0.00759593,\n",
       "       0.00759415, 0.00757901, 0.00756725, 0.00755979, 0.00755248,\n",
       "       0.00751921, 0.00751543, 0.00750403, 0.00749008, 0.00747431,\n",
       "       0.00745414, 0.00744051, 0.0074172 , 0.00740973, 0.00739644,\n",
       "       0.00736832, 0.00733434, 0.00731631, 0.00731202, 0.00729029,\n",
       "       0.00721834, 0.00720612, 0.00719181, 0.00718548, 0.00713321,\n",
       "       0.00710638, 0.00692421, 0.00671572, 0.00654414, 0.00627589,\n",
       "       0.00613994, 0.00559502, 0.00536368, 0.00522023, 0.00471852,\n",
       "       0.00417973, 0.00349028, 0.00254003, 0.00211943, 0.00146312,\n",
       "       0.00141381, 0.00124795, 0.00112781, 0.0009145 , 0.00077101,\n",
       "       0.00068411, 0.00049442, 0.00028408, 0.00020477])"
      ]
     },
     "execution_count": 58,
     "metadata": {},
     "output_type": "execute_result"
    }
   ],
   "source": [
    "# Percentage of variance explained by each of the selected components.\n",
    "\n",
    "pca.explained_variance_ratio_"
   ]
  },
  {
   "cell_type": "code",
   "execution_count": 59,
   "id": "f8abbb4d",
   "metadata": {},
   "outputs": [
    {
     "data": {
      "text/plain": [
       "array([0.03128691, 0.05858066, 0.08396984, 0.09949534, 0.11358956,\n",
       "       0.12650136, 0.1381283 , 0.14895398, 0.15947219, 0.16910503,\n",
       "       0.17842484, 0.18735661, 0.19613034, 0.20481587, 0.21343077,\n",
       "       0.2220162 , 0.23052811, 0.23902567, 0.24748928, 0.2559281 ,\n",
       "       0.26433891, 0.27270951, 0.2810722 , 0.28942093, 0.29773621,\n",
       "       0.30603459, 0.31432604, 0.32261307, 0.33086558, 0.3391139 ,\n",
       "       0.34733356, 0.35552387, 0.36370321, 0.37186398, 0.38001399,\n",
       "       0.38814878, 0.39625421, 0.40435003, 0.41242574, 0.42050022,\n",
       "       0.42855644, 0.43658817, 0.4446043 , 0.45261279, 0.46060679,\n",
       "       0.46859177, 0.47656587, 0.48452969, 0.49247774, 0.50040365,\n",
       "       0.50832699, 0.51623716, 0.52413169, 0.53202366, 0.53990677,\n",
       "       0.54777817, 0.55563361, 0.56347636, 0.57130832, 0.57912836,\n",
       "       0.58694426, 0.59475636, 0.60255671, 0.61034183, 0.61811351,\n",
       "       0.62587954, 0.63363213, 0.6413755 , 0.64911053, 0.65682173,\n",
       "       0.66452887, 0.67222829, 0.67991895, 0.68760569, 0.69528362,\n",
       "       0.70293747, 0.71057713, 0.71820838, 0.72583531, 0.73343124,\n",
       "       0.74102538, 0.74860439, 0.75617164, 0.76373143, 0.77128391,\n",
       "       0.77880313, 0.78631856, 0.79382258, 0.80131266, 0.80878697,\n",
       "       0.81624111, 0.82368162, 0.83109882, 0.83850855, 0.84590499,\n",
       "       0.85327331, 0.86060765, 0.86792396, 0.87523598, 0.88252628,\n",
       "       0.88974461, 0.89695073, 0.90414254, 0.91132802, 0.91846123,\n",
       "       0.92556761, 0.93249182, 0.93920754, 0.94575168, 0.95202757,\n",
       "       0.9581675 , 0.96376253, 0.9691262 , 0.97434643, 0.97906495,\n",
       "       0.98324468, 0.98673496, 0.98927499, 0.99139442, 0.99285754,\n",
       "       0.99427135, 0.9955193 , 0.99664711, 0.99756161, 0.99833262,\n",
       "       0.99901673, 0.99951116, 0.99979523, 1.        ])"
      ]
     },
     "execution_count": 59,
     "metadata": {},
     "output_type": "execute_result"
    }
   ],
   "source": [
    "# Cumulative sum of elements\n",
    "\n",
    "var_cumu = np.cumsum(pca.explained_variance_ratio_)\n",
    "var_cumu"
   ]
  },
  {
   "cell_type": "code",
   "execution_count": 60,
   "id": "76c2f2b8",
   "metadata": {},
   "outputs": [
    {
     "data": {
      "image/png": "[encoded data removed]",
      "text/plain": [
       "<Figure size 2400x1600 with 1 Axes>"
      ]
     },
     "metadata": {},
     "output_type": "display_data"
    }
   ],
   "source": [
    "# Plotting the best number of PCA components\n",
    "\n",
    "fig = plt.figure(figsize=[12,8], dpi=200)\n",
    "plt.xticks([0, 10, 20, 30, 40, 50, 60, 70, 80, 90, 100, 110, 120, 130])\n",
    "plt.vlines(x=101, ymax=1, ymin=0, colors='r', linestyles='--')\n",
    "plt.hlines(y=0.90, xmax=130, xmin=0, colors='g', linestyles='--')\n",
    "plt.plot(var_cumu)\n",
    "plt.ylabel(\"Cumulative variance (%)\")\n",
    "plt.show()"
   ]
  },
  {
   "cell_type": "code",
   "execution_count": 61,
   "id": "7131a35c",
   "metadata": {},
   "outputs": [],
   "source": [
    "# Data compression to 101 variables\n",
    "\n",
    "pca_final = PCA(n_components=101)\n",
    "X_pca_final = pca_final.fit_transform(X_scaled_train) "
   ]
  },
  {
   "cell_type": "code",
   "execution_count": 62,
   "id": "aa2a7bf1",
   "metadata": {},
   "outputs": [
    {
     "name": "stdout",
     "output_type": "stream",
     "text": [
      "(47742, 101)\n"
     ]
    }
   ],
   "source": [
    "print(X_pca_final.shape)"
   ]
  },
  {
   "cell_type": "code",
   "execution_count": 63,
   "id": "e3258bd9",
   "metadata": {},
   "outputs": [
    {
     "data": {
      "text/plain": [
       "(101, 101)"
      ]
     },
     "execution_count": 63,
     "metadata": {},
     "output_type": "execute_result"
    }
   ],
   "source": [
    "corrmat = np.corrcoef(X_pca_final.transpose())\n",
    "corrmat.shape"
   ]
  },
  {
   "cell_type": "code",
   "execution_count": 64,
   "id": "dde1f983",
   "metadata": {},
   "outputs": [
    {
     "data": {
      "text/html": [
       "<div>\n",
       "<style scoped>\n",
       "    .dataframe tbody tr th:only-of-type {\n",
       "        vertical-align: middle;\n",
       "    }\n",
       "\n",
       "    .dataframe tbody tr th {\n",
       "        vertical-align: top;\n",
       "    }\n",
       "\n",
       "    .dataframe thead th {\n",
       "        text-align: right;\n",
       "    }\n",
       "</style>\n",
       "<table border=\"1\" class=\"dataframe\">\n",
       "  <thead>\n",
       "    <tr style=\"text-align: right;\">\n",
       "      <th></th>\n",
       "      <th>0</th>\n",
       "      <th>1</th>\n",
       "      <th>2</th>\n",
       "      <th>3</th>\n",
       "      <th>4</th>\n",
       "      <th>5</th>\n",
       "      <th>6</th>\n",
       "      <th>7</th>\n",
       "      <th>8</th>\n",
       "      <th>9</th>\n",
       "      <th>10</th>\n",
       "      <th>11</th>\n",
       "      <th>12</th>\n",
       "      <th>13</th>\n",
       "      <th>14</th>\n",
       "      <th>15</th>\n",
       "      <th>16</th>\n",
       "      <th>17</th>\n",
       "      <th>18</th>\n",
       "      <th>19</th>\n",
       "      <th>20</th>\n",
       "      <th>21</th>\n",
       "      <th>22</th>\n",
       "      <th>23</th>\n",
       "      <th>24</th>\n",
       "      <th>25</th>\n",
       "      <th>26</th>\n",
       "      <th>27</th>\n",
       "      <th>28</th>\n",
       "      <th>29</th>\n",
       "      <th>30</th>\n",
       "      <th>31</th>\n",
       "      <th>32</th>\n",
       "      <th>33</th>\n",
       "      <th>34</th>\n",
       "      <th>35</th>\n",
       "      <th>36</th>\n",
       "      <th>37</th>\n",
       "      <th>38</th>\n",
       "      <th>39</th>\n",
       "      <th>40</th>\n",
       "      <th>41</th>\n",
       "      <th>42</th>\n",
       "      <th>43</th>\n",
       "      <th>44</th>\n",
       "      <th>45</th>\n",
       "      <th>46</th>\n",
       "      <th>47</th>\n",
       "      <th>48</th>\n",
       "      <th>49</th>\n",
       "      <th>50</th>\n",
       "      <th>51</th>\n",
       "      <th>52</th>\n",
       "      <th>53</th>\n",
       "      <th>54</th>\n",
       "      <th>55</th>\n",
       "      <th>56</th>\n",
       "      <th>57</th>\n",
       "      <th>58</th>\n",
       "      <th>59</th>\n",
       "      <th>60</th>\n",
       "      <th>61</th>\n",
       "      <th>62</th>\n",
       "      <th>63</th>\n",
       "      <th>64</th>\n",
       "      <th>65</th>\n",
       "      <th>66</th>\n",
       "      <th>67</th>\n",
       "      <th>68</th>\n",
       "      <th>69</th>\n",
       "      <th>70</th>\n",
       "      <th>71</th>\n",
       "      <th>72</th>\n",
       "      <th>73</th>\n",
       "      <th>74</th>\n",
       "      <th>75</th>\n",
       "      <th>76</th>\n",
       "      <th>77</th>\n",
       "      <th>78</th>\n",
       "      <th>79</th>\n",
       "      <th>80</th>\n",
       "      <th>81</th>\n",
       "      <th>82</th>\n",
       "      <th>83</th>\n",
       "      <th>84</th>\n",
       "      <th>85</th>\n",
       "      <th>86</th>\n",
       "      <th>87</th>\n",
       "      <th>88</th>\n",
       "      <th>89</th>\n",
       "      <th>90</th>\n",
       "      <th>91</th>\n",
       "      <th>92</th>\n",
       "      <th>93</th>\n",
       "      <th>94</th>\n",
       "      <th>95</th>\n",
       "      <th>96</th>\n",
       "      <th>97</th>\n",
       "      <th>98</th>\n",
       "      <th>99</th>\n",
       "      <th>100</th>\n",
       "    </tr>\n",
       "  </thead>\n",
       "  <tbody>\n",
       "    <tr>\n",
       "      <th>0</th>\n",
       "      <td>-1.684446</td>\n",
       "      <td>-1.450387</td>\n",
       "      <td>1.282309</td>\n",
       "      <td>-0.843266</td>\n",
       "      <td>-1.667897</td>\n",
       "      <td>1.067668</td>\n",
       "      <td>0.056559</td>\n",
       "      <td>-1.008640</td>\n",
       "      <td>1.263196</td>\n",
       "      <td>-2.366958</td>\n",
       "      <td>-1.880554</td>\n",
       "      <td>-1.115331</td>\n",
       "      <td>-0.491713</td>\n",
       "      <td>-1.925542</td>\n",
       "      <td>-1.344839</td>\n",
       "      <td>-1.178867</td>\n",
       "      <td>-0.231945</td>\n",
       "      <td>-0.940594</td>\n",
       "      <td>-0.532740</td>\n",
       "      <td>-0.951521</td>\n",
       "      <td>-0.294603</td>\n",
       "      <td>-1.378926</td>\n",
       "      <td>0.493759</td>\n",
       "      <td>-2.010117</td>\n",
       "      <td>-0.326417</td>\n",
       "      <td>-0.575060</td>\n",
       "      <td>-1.876856</td>\n",
       "      <td>-1.490264</td>\n",
       "      <td>0.064984</td>\n",
       "      <td>-0.013979</td>\n",
       "      <td>0.143457</td>\n",
       "      <td>0.813928</td>\n",
       "      <td>-2.148621</td>\n",
       "      <td>1.269167</td>\n",
       "      <td>-0.532651</td>\n",
       "      <td>0.034957</td>\n",
       "      <td>-0.059586</td>\n",
       "      <td>-1.124081</td>\n",
       "      <td>1.002832</td>\n",
       "      <td>0.399549</td>\n",
       "      <td>0.305195</td>\n",
       "      <td>-0.805863</td>\n",
       "      <td>1.465983</td>\n",
       "      <td>-0.444253</td>\n",
       "      <td>0.184611</td>\n",
       "      <td>-0.068349</td>\n",
       "      <td>1.101178</td>\n",
       "      <td>-0.305684</td>\n",
       "      <td>-1.192169</td>\n",
       "      <td>0.259189</td>\n",
       "      <td>0.375010</td>\n",
       "      <td>0.075820</td>\n",
       "      <td>0.441113</td>\n",
       "      <td>0.821105</td>\n",
       "      <td>-0.567771</td>\n",
       "      <td>-0.263912</td>\n",
       "      <td>-0.091942</td>\n",
       "      <td>-1.118633</td>\n",
       "      <td>-0.056467</td>\n",
       "      <td>-0.710577</td>\n",
       "      <td>0.407580</td>\n",
       "      <td>-0.808258</td>\n",
       "      <td>-0.057583</td>\n",
       "      <td>-0.157577</td>\n",
       "      <td>0.012609</td>\n",
       "      <td>0.723198</td>\n",
       "      <td>0.354850</td>\n",
       "      <td>-0.074956</td>\n",
       "      <td>0.171804</td>\n",
       "      <td>0.007709</td>\n",
       "      <td>-0.836705</td>\n",
       "      <td>-0.646695</td>\n",
       "      <td>-0.310511</td>\n",
       "      <td>-0.014507</td>\n",
       "      <td>0.572913</td>\n",
       "      <td>1.037508</td>\n",
       "      <td>0.071501</td>\n",
       "      <td>0.397145</td>\n",
       "      <td>-1.127857</td>\n",
       "      <td>0.012936</td>\n",
       "      <td>0.259498</td>\n",
       "      <td>0.766630</td>\n",
       "      <td>-1.192798</td>\n",
       "      <td>-0.095415</td>\n",
       "      <td>-0.017380</td>\n",
       "      <td>-0.066995</td>\n",
       "      <td>-0.989452</td>\n",
       "      <td>1.986940</td>\n",
       "      <td>0.339798</td>\n",
       "      <td>0.545700</td>\n",
       "      <td>0.412199</td>\n",
       "      <td>0.375820</td>\n",
       "      <td>-0.290744</td>\n",
       "      <td>-0.847356</td>\n",
       "      <td>0.341362</td>\n",
       "      <td>-0.332578</td>\n",
       "      <td>1.389150</td>\n",
       "      <td>-0.339699</td>\n",
       "      <td>0.263309</td>\n",
       "      <td>-0.026479</td>\n",
       "      <td>-0.013444</td>\n",
       "    </tr>\n",
       "    <tr>\n",
       "      <th>1</th>\n",
       "      <td>-1.057884</td>\n",
       "      <td>-1.256859</td>\n",
       "      <td>-1.520201</td>\n",
       "      <td>0.014690</td>\n",
       "      <td>0.691502</td>\n",
       "      <td>-1.188608</td>\n",
       "      <td>-1.134510</td>\n",
       "      <td>0.809053</td>\n",
       "      <td>3.887260</td>\n",
       "      <td>0.746832</td>\n",
       "      <td>0.772067</td>\n",
       "      <td>-0.785483</td>\n",
       "      <td>-2.395941</td>\n",
       "      <td>0.238990</td>\n",
       "      <td>1.731251</td>\n",
       "      <td>-1.084330</td>\n",
       "      <td>0.386164</td>\n",
       "      <td>-0.868954</td>\n",
       "      <td>0.210355</td>\n",
       "      <td>-2.540155</td>\n",
       "      <td>-0.770541</td>\n",
       "      <td>-0.565721</td>\n",
       "      <td>0.184775</td>\n",
       "      <td>-0.454137</td>\n",
       "      <td>0.901134</td>\n",
       "      <td>1.099052</td>\n",
       "      <td>-1.048504</td>\n",
       "      <td>-2.582918</td>\n",
       "      <td>2.296578</td>\n",
       "      <td>-1.770478</td>\n",
       "      <td>-0.850105</td>\n",
       "      <td>-0.680206</td>\n",
       "      <td>0.986634</td>\n",
       "      <td>1.307226</td>\n",
       "      <td>1.727587</td>\n",
       "      <td>-0.011792</td>\n",
       "      <td>-0.487308</td>\n",
       "      <td>-0.216496</td>\n",
       "      <td>0.600613</td>\n",
       "      <td>-0.720074</td>\n",
       "      <td>1.557967</td>\n",
       "      <td>0.345367</td>\n",
       "      <td>-0.794922</td>\n",
       "      <td>-1.014169</td>\n",
       "      <td>-0.403771</td>\n",
       "      <td>0.931494</td>\n",
       "      <td>0.432504</td>\n",
       "      <td>-0.622732</td>\n",
       "      <td>-0.195736</td>\n",
       "      <td>0.630706</td>\n",
       "      <td>0.148422</td>\n",
       "      <td>0.271944</td>\n",
       "      <td>0.470596</td>\n",
       "      <td>0.782166</td>\n",
       "      <td>-2.192851</td>\n",
       "      <td>-0.153656</td>\n",
       "      <td>0.986477</td>\n",
       "      <td>-0.876663</td>\n",
       "      <td>0.935578</td>\n",
       "      <td>1.045637</td>\n",
       "      <td>-0.390421</td>\n",
       "      <td>1.343781</td>\n",
       "      <td>1.000542</td>\n",
       "      <td>1.478396</td>\n",
       "      <td>-0.470212</td>\n",
       "      <td>0.241853</td>\n",
       "      <td>0.732595</td>\n",
       "      <td>1.165511</td>\n",
       "      <td>0.820680</td>\n",
       "      <td>-0.546246</td>\n",
       "      <td>-0.807521</td>\n",
       "      <td>1.552741</td>\n",
       "      <td>-0.111997</td>\n",
       "      <td>0.046099</td>\n",
       "      <td>1.730963</td>\n",
       "      <td>-0.348668</td>\n",
       "      <td>0.259210</td>\n",
       "      <td>-0.393077</td>\n",
       "      <td>1.244711</td>\n",
       "      <td>0.429370</td>\n",
       "      <td>0.541602</td>\n",
       "      <td>-0.285704</td>\n",
       "      <td>-0.965637</td>\n",
       "      <td>-0.150335</td>\n",
       "      <td>1.546359</td>\n",
       "      <td>1.217895</td>\n",
       "      <td>2.668307</td>\n",
       "      <td>-2.121375</td>\n",
       "      <td>-2.126063</td>\n",
       "      <td>-1.828202</td>\n",
       "      <td>0.198370</td>\n",
       "      <td>0.206014</td>\n",
       "      <td>1.899804</td>\n",
       "      <td>0.900770</td>\n",
       "      <td>-1.296260</td>\n",
       "      <td>-0.336541</td>\n",
       "      <td>-1.471279</td>\n",
       "      <td>-1.916896</td>\n",
       "      <td>1.835217</td>\n",
       "      <td>1.094826</td>\n",
       "      <td>-1.181872</td>\n",
       "    </tr>\n",
       "    <tr>\n",
       "      <th>2</th>\n",
       "      <td>1.269514</td>\n",
       "      <td>1.850830</td>\n",
       "      <td>-3.123576</td>\n",
       "      <td>0.629426</td>\n",
       "      <td>1.232077</td>\n",
       "      <td>-1.332949</td>\n",
       "      <td>-0.722419</td>\n",
       "      <td>-3.007246</td>\n",
       "      <td>1.342043</td>\n",
       "      <td>-0.162535</td>\n",
       "      <td>-0.729486</td>\n",
       "      <td>-0.248905</td>\n",
       "      <td>1.522492</td>\n",
       "      <td>3.008128</td>\n",
       "      <td>0.332498</td>\n",
       "      <td>0.634500</td>\n",
       "      <td>1.508723</td>\n",
       "      <td>-0.900041</td>\n",
       "      <td>-2.266234</td>\n",
       "      <td>-0.631653</td>\n",
       "      <td>-1.078862</td>\n",
       "      <td>0.781413</td>\n",
       "      <td>-0.018442</td>\n",
       "      <td>1.115702</td>\n",
       "      <td>1.075840</td>\n",
       "      <td>1.074373</td>\n",
       "      <td>-0.643567</td>\n",
       "      <td>-0.856899</td>\n",
       "      <td>-2.275385</td>\n",
       "      <td>0.848688</td>\n",
       "      <td>-1.529591</td>\n",
       "      <td>2.820205</td>\n",
       "      <td>-4.069686</td>\n",
       "      <td>1.168586</td>\n",
       "      <td>-0.410655</td>\n",
       "      <td>-0.443825</td>\n",
       "      <td>1.887564</td>\n",
       "      <td>0.785987</td>\n",
       "      <td>-0.478253</td>\n",
       "      <td>-0.351514</td>\n",
       "      <td>-0.104669</td>\n",
       "      <td>0.877816</td>\n",
       "      <td>-3.652782</td>\n",
       "      <td>-0.855076</td>\n",
       "      <td>1.374887</td>\n",
       "      <td>-0.632455</td>\n",
       "      <td>-1.844262</td>\n",
       "      <td>-0.546507</td>\n",
       "      <td>0.618991</td>\n",
       "      <td>-0.578987</td>\n",
       "      <td>3.175865</td>\n",
       "      <td>0.506664</td>\n",
       "      <td>2.698366</td>\n",
       "      <td>-2.880966</td>\n",
       "      <td>-0.260089</td>\n",
       "      <td>0.619119</td>\n",
       "      <td>1.182412</td>\n",
       "      <td>2.194448</td>\n",
       "      <td>0.157881</td>\n",
       "      <td>0.397307</td>\n",
       "      <td>0.693749</td>\n",
       "      <td>-1.875384</td>\n",
       "      <td>0.500413</td>\n",
       "      <td>3.553329</td>\n",
       "      <td>0.751703</td>\n",
       "      <td>2.009737</td>\n",
       "      <td>-0.167172</td>\n",
       "      <td>0.557577</td>\n",
       "      <td>0.315083</td>\n",
       "      <td>-1.428492</td>\n",
       "      <td>0.016497</td>\n",
       "      <td>-1.959780</td>\n",
       "      <td>-0.092672</td>\n",
       "      <td>-0.569121</td>\n",
       "      <td>-0.285846</td>\n",
       "      <td>-0.788192</td>\n",
       "      <td>-0.328542</td>\n",
       "      <td>-1.362494</td>\n",
       "      <td>0.845298</td>\n",
       "      <td>0.559393</td>\n",
       "      <td>1.357205</td>\n",
       "      <td>2.526390</td>\n",
       "      <td>1.292954</td>\n",
       "      <td>-2.714436</td>\n",
       "      <td>-2.040794</td>\n",
       "      <td>0.273351</td>\n",
       "      <td>-1.741480</td>\n",
       "      <td>-0.412699</td>\n",
       "      <td>0.263054</td>\n",
       "      <td>0.045793</td>\n",
       "      <td>-0.396103</td>\n",
       "      <td>-0.969098</td>\n",
       "      <td>1.500629</td>\n",
       "      <td>-0.384097</td>\n",
       "      <td>-0.076464</td>\n",
       "      <td>1.108102</td>\n",
       "      <td>0.039061</td>\n",
       "      <td>-2.683475</td>\n",
       "      <td>-0.449401</td>\n",
       "      <td>-0.338884</td>\n",
       "      <td>1.439445</td>\n",
       "    </tr>\n",
       "    <tr>\n",
       "      <th>3</th>\n",
       "      <td>-0.203714</td>\n",
       "      <td>1.180045</td>\n",
       "      <td>-3.181664</td>\n",
       "      <td>-0.411907</td>\n",
       "      <td>-0.972598</td>\n",
       "      <td>0.669299</td>\n",
       "      <td>-0.740153</td>\n",
       "      <td>-0.380667</td>\n",
       "      <td>-0.103214</td>\n",
       "      <td>1.327438</td>\n",
       "      <td>0.847262</td>\n",
       "      <td>2.677564</td>\n",
       "      <td>1.253894</td>\n",
       "      <td>-1.519261</td>\n",
       "      <td>-0.224034</td>\n",
       "      <td>0.876509</td>\n",
       "      <td>1.021728</td>\n",
       "      <td>2.632052</td>\n",
       "      <td>-1.135027</td>\n",
       "      <td>0.280747</td>\n",
       "      <td>-0.137606</td>\n",
       "      <td>0.639420</td>\n",
       "      <td>0.334176</td>\n",
       "      <td>-0.808017</td>\n",
       "      <td>0.935651</td>\n",
       "      <td>-0.420862</td>\n",
       "      <td>-2.436972</td>\n",
       "      <td>0.805256</td>\n",
       "      <td>0.739295</td>\n",
       "      <td>1.176790</td>\n",
       "      <td>-0.021126</td>\n",
       "      <td>-1.263442</td>\n",
       "      <td>0.569067</td>\n",
       "      <td>0.235910</td>\n",
       "      <td>-0.252243</td>\n",
       "      <td>-0.071291</td>\n",
       "      <td>-0.124382</td>\n",
       "      <td>-0.783608</td>\n",
       "      <td>-0.683138</td>\n",
       "      <td>-0.636782</td>\n",
       "      <td>0.746438</td>\n",
       "      <td>-0.812519</td>\n",
       "      <td>0.532687</td>\n",
       "      <td>-0.070659</td>\n",
       "      <td>-0.483012</td>\n",
       "      <td>0.121310</td>\n",
       "      <td>-0.542751</td>\n",
       "      <td>0.329755</td>\n",
       "      <td>0.051926</td>\n",
       "      <td>0.571964</td>\n",
       "      <td>-0.759682</td>\n",
       "      <td>0.591945</td>\n",
       "      <td>-0.226889</td>\n",
       "      <td>0.257621</td>\n",
       "      <td>0.094943</td>\n",
       "      <td>-0.460578</td>\n",
       "      <td>-0.955343</td>\n",
       "      <td>0.162221</td>\n",
       "      <td>0.107591</td>\n",
       "      <td>0.167115</td>\n",
       "      <td>-0.088259</td>\n",
       "      <td>-0.106220</td>\n",
       "      <td>0.539551</td>\n",
       "      <td>-0.483244</td>\n",
       "      <td>-1.026422</td>\n",
       "      <td>-0.215150</td>\n",
       "      <td>0.361696</td>\n",
       "      <td>0.442317</td>\n",
       "      <td>0.141992</td>\n",
       "      <td>0.347532</td>\n",
       "      <td>-0.665878</td>\n",
       "      <td>-0.937521</td>\n",
       "      <td>0.233076</td>\n",
       "      <td>-0.400410</td>\n",
       "      <td>-0.637305</td>\n",
       "      <td>-0.929626</td>\n",
       "      <td>-0.381935</td>\n",
       "      <td>0.578837</td>\n",
       "      <td>0.106444</td>\n",
       "      <td>-1.221552</td>\n",
       "      <td>0.281170</td>\n",
       "      <td>-0.260094</td>\n",
       "      <td>0.536492</td>\n",
       "      <td>0.281448</td>\n",
       "      <td>0.271462</td>\n",
       "      <td>0.314460</td>\n",
       "      <td>-0.843700</td>\n",
       "      <td>-0.431038</td>\n",
       "      <td>-0.236285</td>\n",
       "      <td>-0.064098</td>\n",
       "      <td>0.739651</td>\n",
       "      <td>0.484788</td>\n",
       "      <td>0.024348</td>\n",
       "      <td>-0.336389</td>\n",
       "      <td>-1.081195</td>\n",
       "      <td>0.117501</td>\n",
       "      <td>-0.196502</td>\n",
       "      <td>-0.045280</td>\n",
       "      <td>0.446660</td>\n",
       "      <td>0.605953</td>\n",
       "      <td>1.084246</td>\n",
       "    </tr>\n",
       "    <tr>\n",
       "      <th>4</th>\n",
       "      <td>1.633259</td>\n",
       "      <td>-1.782343</td>\n",
       "      <td>-1.478348</td>\n",
       "      <td>-1.836268</td>\n",
       "      <td>1.538611</td>\n",
       "      <td>0.783657</td>\n",
       "      <td>1.782159</td>\n",
       "      <td>-2.505285</td>\n",
       "      <td>-1.980780</td>\n",
       "      <td>0.770833</td>\n",
       "      <td>-1.681701</td>\n",
       "      <td>-1.128864</td>\n",
       "      <td>1.399888</td>\n",
       "      <td>0.296138</td>\n",
       "      <td>0.868882</td>\n",
       "      <td>1.944337</td>\n",
       "      <td>-0.866176</td>\n",
       "      <td>0.668318</td>\n",
       "      <td>-1.982877</td>\n",
       "      <td>-0.516978</td>\n",
       "      <td>2.029775</td>\n",
       "      <td>-2.668372</td>\n",
       "      <td>-1.355708</td>\n",
       "      <td>1.938766</td>\n",
       "      <td>-2.252502</td>\n",
       "      <td>-0.558864</td>\n",
       "      <td>-1.167910</td>\n",
       "      <td>0.680785</td>\n",
       "      <td>1.723079</td>\n",
       "      <td>-0.066507</td>\n",
       "      <td>-1.235347</td>\n",
       "      <td>0.056591</td>\n",
       "      <td>0.448330</td>\n",
       "      <td>0.184215</td>\n",
       "      <td>-0.324752</td>\n",
       "      <td>-2.944604</td>\n",
       "      <td>1.767291</td>\n",
       "      <td>2.053983</td>\n",
       "      <td>0.660384</td>\n",
       "      <td>1.896721</td>\n",
       "      <td>1.844706</td>\n",
       "      <td>0.786641</td>\n",
       "      <td>0.181293</td>\n",
       "      <td>0.217570</td>\n",
       "      <td>-1.681358</td>\n",
       "      <td>0.780169</td>\n",
       "      <td>-0.650632</td>\n",
       "      <td>0.885849</td>\n",
       "      <td>0.327744</td>\n",
       "      <td>-2.274874</td>\n",
       "      <td>-0.694016</td>\n",
       "      <td>3.454447</td>\n",
       "      <td>-2.922125</td>\n",
       "      <td>2.102165</td>\n",
       "      <td>-0.444512</td>\n",
       "      <td>1.659955</td>\n",
       "      <td>0.282768</td>\n",
       "      <td>-0.551527</td>\n",
       "      <td>-0.793189</td>\n",
       "      <td>0.380254</td>\n",
       "      <td>2.821490</td>\n",
       "      <td>0.962415</td>\n",
       "      <td>-3.479177</td>\n",
       "      <td>0.769437</td>\n",
       "      <td>-2.073819</td>\n",
       "      <td>-2.101945</td>\n",
       "      <td>-0.061534</td>\n",
       "      <td>-2.231138</td>\n",
       "      <td>0.678072</td>\n",
       "      <td>-1.495776</td>\n",
       "      <td>1.504595</td>\n",
       "      <td>0.758641</td>\n",
       "      <td>-0.561716</td>\n",
       "      <td>1.963050</td>\n",
       "      <td>-2.005069</td>\n",
       "      <td>1.786695</td>\n",
       "      <td>2.471404</td>\n",
       "      <td>1.056822</td>\n",
       "      <td>-2.650512</td>\n",
       "      <td>-0.436506</td>\n",
       "      <td>-0.888627</td>\n",
       "      <td>0.683565</td>\n",
       "      <td>-0.859476</td>\n",
       "      <td>-2.008765</td>\n",
       "      <td>1.226934</td>\n",
       "      <td>0.758948</td>\n",
       "      <td>-1.974460</td>\n",
       "      <td>0.003369</td>\n",
       "      <td>-1.786589</td>\n",
       "      <td>1.151434</td>\n",
       "      <td>1.263258</td>\n",
       "      <td>0.221905</td>\n",
       "      <td>1.515501</td>\n",
       "      <td>-0.443906</td>\n",
       "      <td>1.229044</td>\n",
       "      <td>-0.029637</td>\n",
       "      <td>-0.920022</td>\n",
       "      <td>-0.200331</td>\n",
       "      <td>0.526774</td>\n",
       "      <td>3.928004</td>\n",
       "      <td>1.673869</td>\n",
       "    </tr>\n",
       "    <tr>\n",
       "      <th>...</th>\n",
       "      <td>...</td>\n",
       "      <td>...</td>\n",
       "      <td>...</td>\n",
       "      <td>...</td>\n",
       "      <td>...</td>\n",
       "      <td>...</td>\n",
       "      <td>...</td>\n",
       "      <td>...</td>\n",
       "      <td>...</td>\n",
       "      <td>...</td>\n",
       "      <td>...</td>\n",
       "      <td>...</td>\n",
       "      <td>...</td>\n",
       "      <td>...</td>\n",
       "      <td>...</td>\n",
       "      <td>...</td>\n",
       "      <td>...</td>\n",
       "      <td>...</td>\n",
       "      <td>...</td>\n",
       "      <td>...</td>\n",
       "      <td>...</td>\n",
       "      <td>...</td>\n",
       "      <td>...</td>\n",
       "      <td>...</td>\n",
       "      <td>...</td>\n",
       "      <td>...</td>\n",
       "      <td>...</td>\n",
       "      <td>...</td>\n",
       "      <td>...</td>\n",
       "      <td>...</td>\n",
       "      <td>...</td>\n",
       "      <td>...</td>\n",
       "      <td>...</td>\n",
       "      <td>...</td>\n",
       "      <td>...</td>\n",
       "      <td>...</td>\n",
       "      <td>...</td>\n",
       "      <td>...</td>\n",
       "      <td>...</td>\n",
       "      <td>...</td>\n",
       "      <td>...</td>\n",
       "      <td>...</td>\n",
       "      <td>...</td>\n",
       "      <td>...</td>\n",
       "      <td>...</td>\n",
       "      <td>...</td>\n",
       "      <td>...</td>\n",
       "      <td>...</td>\n",
       "      <td>...</td>\n",
       "      <td>...</td>\n",
       "      <td>...</td>\n",
       "      <td>...</td>\n",
       "      <td>...</td>\n",
       "      <td>...</td>\n",
       "      <td>...</td>\n",
       "      <td>...</td>\n",
       "      <td>...</td>\n",
       "      <td>...</td>\n",
       "      <td>...</td>\n",
       "      <td>...</td>\n",
       "      <td>...</td>\n",
       "      <td>...</td>\n",
       "      <td>...</td>\n",
       "      <td>...</td>\n",
       "      <td>...</td>\n",
       "      <td>...</td>\n",
       "      <td>...</td>\n",
       "      <td>...</td>\n",
       "      <td>...</td>\n",
       "      <td>...</td>\n",
       "      <td>...</td>\n",
       "      <td>...</td>\n",
       "      <td>...</td>\n",
       "      <td>...</td>\n",
       "      <td>...</td>\n",
       "      <td>...</td>\n",
       "      <td>...</td>\n",
       "      <td>...</td>\n",
       "      <td>...</td>\n",
       "      <td>...</td>\n",
       "      <td>...</td>\n",
       "      <td>...</td>\n",
       "      <td>...</td>\n",
       "      <td>...</td>\n",
       "      <td>...</td>\n",
       "      <td>...</td>\n",
       "      <td>...</td>\n",
       "      <td>...</td>\n",
       "      <td>...</td>\n",
       "      <td>...</td>\n",
       "      <td>...</td>\n",
       "      <td>...</td>\n",
       "      <td>...</td>\n",
       "      <td>...</td>\n",
       "      <td>...</td>\n",
       "      <td>...</td>\n",
       "      <td>...</td>\n",
       "      <td>...</td>\n",
       "      <td>...</td>\n",
       "      <td>...</td>\n",
       "      <td>...</td>\n",
       "    </tr>\n",
       "    <tr>\n",
       "      <th>47737</th>\n",
       "      <td>1.093416</td>\n",
       "      <td>1.203047</td>\n",
       "      <td>-0.102625</td>\n",
       "      <td>2.616443</td>\n",
       "      <td>1.728750</td>\n",
       "      <td>0.629348</td>\n",
       "      <td>-0.937518</td>\n",
       "      <td>0.601038</td>\n",
       "      <td>-0.963362</td>\n",
       "      <td>-0.933418</td>\n",
       "      <td>0.183520</td>\n",
       "      <td>0.388523</td>\n",
       "      <td>-0.367268</td>\n",
       "      <td>0.289659</td>\n",
       "      <td>0.320270</td>\n",
       "      <td>-0.462366</td>\n",
       "      <td>-0.015503</td>\n",
       "      <td>-0.301069</td>\n",
       "      <td>0.326251</td>\n",
       "      <td>-0.303162</td>\n",
       "      <td>-0.209482</td>\n",
       "      <td>-0.125080</td>\n",
       "      <td>0.210245</td>\n",
       "      <td>-0.090580</td>\n",
       "      <td>-0.084899</td>\n",
       "      <td>-0.080666</td>\n",
       "      <td>-0.282564</td>\n",
       "      <td>-0.315638</td>\n",
       "      <td>0.035122</td>\n",
       "      <td>0.167083</td>\n",
       "      <td>-0.002541</td>\n",
       "      <td>0.004619</td>\n",
       "      <td>-0.124203</td>\n",
       "      <td>-0.129983</td>\n",
       "      <td>-0.065056</td>\n",
       "      <td>-0.173128</td>\n",
       "      <td>0.272504</td>\n",
       "      <td>-0.025420</td>\n",
       "      <td>-0.058298</td>\n",
       "      <td>-0.185208</td>\n",
       "      <td>-0.064311</td>\n",
       "      <td>0.314744</td>\n",
       "      <td>-0.060523</td>\n",
       "      <td>0.074354</td>\n",
       "      <td>-0.039107</td>\n",
       "      <td>0.320013</td>\n",
       "      <td>0.224854</td>\n",
       "      <td>0.265095</td>\n",
       "      <td>0.201542</td>\n",
       "      <td>0.052792</td>\n",
       "      <td>0.060698</td>\n",
       "      <td>-0.026168</td>\n",
       "      <td>0.102668</td>\n",
       "      <td>-0.238314</td>\n",
       "      <td>0.108766</td>\n",
       "      <td>-0.037550</td>\n",
       "      <td>0.033353</td>\n",
       "      <td>-0.144222</td>\n",
       "      <td>0.124969</td>\n",
       "      <td>-0.034924</td>\n",
       "      <td>0.083003</td>\n",
       "      <td>0.054194</td>\n",
       "      <td>-0.068826</td>\n",
       "      <td>0.147226</td>\n",
       "      <td>-0.035554</td>\n",
       "      <td>-0.010335</td>\n",
       "      <td>-0.180059</td>\n",
       "      <td>-0.159266</td>\n",
       "      <td>-0.195273</td>\n",
       "      <td>-0.089884</td>\n",
       "      <td>-0.137704</td>\n",
       "      <td>0.271392</td>\n",
       "      <td>0.112467</td>\n",
       "      <td>-0.044118</td>\n",
       "      <td>-0.016670</td>\n",
       "      <td>0.152114</td>\n",
       "      <td>-0.054373</td>\n",
       "      <td>-0.072809</td>\n",
       "      <td>-0.245239</td>\n",
       "      <td>0.234862</td>\n",
       "      <td>-0.086838</td>\n",
       "      <td>-0.227373</td>\n",
       "      <td>0.078772</td>\n",
       "      <td>-0.181430</td>\n",
       "      <td>0.172240</td>\n",
       "      <td>-0.042957</td>\n",
       "      <td>0.120232</td>\n",
       "      <td>0.117621</td>\n",
       "      <td>-0.137447</td>\n",
       "      <td>0.099790</td>\n",
       "      <td>0.125551</td>\n",
       "      <td>-0.375018</td>\n",
       "      <td>-0.021727</td>\n",
       "      <td>0.582637</td>\n",
       "      <td>0.287727</td>\n",
       "      <td>-0.081083</td>\n",
       "      <td>-0.078328</td>\n",
       "      <td>-0.166787</td>\n",
       "      <td>-0.108044</td>\n",
       "      <td>-0.249379</td>\n",
       "      <td>-0.605802</td>\n",
       "    </tr>\n",
       "    <tr>\n",
       "      <th>47738</th>\n",
       "      <td>2.961256</td>\n",
       "      <td>-1.294694</td>\n",
       "      <td>0.678036</td>\n",
       "      <td>3.607665</td>\n",
       "      <td>0.034314</td>\n",
       "      <td>1.107289</td>\n",
       "      <td>0.702011</td>\n",
       "      <td>1.405912</td>\n",
       "      <td>-0.752814</td>\n",
       "      <td>-0.764443</td>\n",
       "      <td>-0.316228</td>\n",
       "      <td>1.159580</td>\n",
       "      <td>0.173298</td>\n",
       "      <td>-0.123883</td>\n",
       "      <td>0.180076</td>\n",
       "      <td>0.339467</td>\n",
       "      <td>-0.097868</td>\n",
       "      <td>0.013586</td>\n",
       "      <td>0.177867</td>\n",
       "      <td>-0.184632</td>\n",
       "      <td>0.095378</td>\n",
       "      <td>0.082306</td>\n",
       "      <td>-0.375456</td>\n",
       "      <td>0.261938</td>\n",
       "      <td>0.018270</td>\n",
       "      <td>-0.186858</td>\n",
       "      <td>-0.032847</td>\n",
       "      <td>0.115745</td>\n",
       "      <td>0.286949</td>\n",
       "      <td>-0.035328</td>\n",
       "      <td>-0.115766</td>\n",
       "      <td>0.193049</td>\n",
       "      <td>0.147984</td>\n",
       "      <td>0.068912</td>\n",
       "      <td>0.045065</td>\n",
       "      <td>0.100885</td>\n",
       "      <td>0.084648</td>\n",
       "      <td>-0.036488</td>\n",
       "      <td>0.067657</td>\n",
       "      <td>0.049541</td>\n",
       "      <td>0.233773</td>\n",
       "      <td>-0.143677</td>\n",
       "      <td>-0.122144</td>\n",
       "      <td>0.006104</td>\n",
       "      <td>0.078686</td>\n",
       "      <td>-0.284111</td>\n",
       "      <td>-0.409830</td>\n",
       "      <td>0.060776</td>\n",
       "      <td>0.052669</td>\n",
       "      <td>0.152616</td>\n",
       "      <td>0.018828</td>\n",
       "      <td>0.147111</td>\n",
       "      <td>0.002041</td>\n",
       "      <td>0.175486</td>\n",
       "      <td>-0.116305</td>\n",
       "      <td>0.340997</td>\n",
       "      <td>0.089316</td>\n",
       "      <td>0.086030</td>\n",
       "      <td>0.054568</td>\n",
       "      <td>0.036790</td>\n",
       "      <td>0.048126</td>\n",
       "      <td>-0.134529</td>\n",
       "      <td>-0.005132</td>\n",
       "      <td>-0.130512</td>\n",
       "      <td>0.207357</td>\n",
       "      <td>-0.048624</td>\n",
       "      <td>0.179374</td>\n",
       "      <td>-0.079818</td>\n",
       "      <td>0.196935</td>\n",
       "      <td>0.165568</td>\n",
       "      <td>0.088581</td>\n",
       "      <td>-0.139965</td>\n",
       "      <td>0.032271</td>\n",
       "      <td>0.053757</td>\n",
       "      <td>0.132524</td>\n",
       "      <td>0.076389</td>\n",
       "      <td>0.093904</td>\n",
       "      <td>0.023510</td>\n",
       "      <td>0.230858</td>\n",
       "      <td>-0.019290</td>\n",
       "      <td>0.080130</td>\n",
       "      <td>-0.027644</td>\n",
       "      <td>-0.075872</td>\n",
       "      <td>0.137431</td>\n",
       "      <td>-0.417629</td>\n",
       "      <td>0.093823</td>\n",
       "      <td>-0.169536</td>\n",
       "      <td>-0.008804</td>\n",
       "      <td>0.182869</td>\n",
       "      <td>-0.317945</td>\n",
       "      <td>-0.235430</td>\n",
       "      <td>0.708267</td>\n",
       "      <td>-0.068321</td>\n",
       "      <td>-0.279909</td>\n",
       "      <td>-0.461230</td>\n",
       "      <td>0.109324</td>\n",
       "      <td>-0.089612</td>\n",
       "      <td>0.105178</td>\n",
       "      <td>-0.007027</td>\n",
       "      <td>0.200416</td>\n",
       "      <td>0.331086</td>\n",
       "    </tr>\n",
       "    <tr>\n",
       "      <th>47739</th>\n",
       "      <td>0.524777</td>\n",
       "      <td>-2.874695</td>\n",
       "      <td>0.047862</td>\n",
       "      <td>-0.337343</td>\n",
       "      <td>-1.165915</td>\n",
       "      <td>0.161574</td>\n",
       "      <td>-0.830897</td>\n",
       "      <td>-0.373110</td>\n",
       "      <td>-0.643847</td>\n",
       "      <td>0.384116</td>\n",
       "      <td>0.390245</td>\n",
       "      <td>-0.128800</td>\n",
       "      <td>-0.266036</td>\n",
       "      <td>-0.256977</td>\n",
       "      <td>-0.165301</td>\n",
       "      <td>0.418400</td>\n",
       "      <td>-0.344625</td>\n",
       "      <td>0.249799</td>\n",
       "      <td>-0.176216</td>\n",
       "      <td>-0.031744</td>\n",
       "      <td>-0.062070</td>\n",
       "      <td>0.024826</td>\n",
       "      <td>-0.260598</td>\n",
       "      <td>0.108305</td>\n",
       "      <td>-0.159034</td>\n",
       "      <td>-0.017515</td>\n",
       "      <td>0.043687</td>\n",
       "      <td>0.032733</td>\n",
       "      <td>-0.072943</td>\n",
       "      <td>0.015110</td>\n",
       "      <td>-0.053212</td>\n",
       "      <td>-0.017792</td>\n",
       "      <td>0.015054</td>\n",
       "      <td>-0.106126</td>\n",
       "      <td>-0.000683</td>\n",
       "      <td>-0.130539</td>\n",
       "      <td>-0.160743</td>\n",
       "      <td>0.054461</td>\n",
       "      <td>0.183806</td>\n",
       "      <td>0.119656</td>\n",
       "      <td>0.031544</td>\n",
       "      <td>-0.049231</td>\n",
       "      <td>0.002028</td>\n",
       "      <td>-0.126812</td>\n",
       "      <td>0.082694</td>\n",
       "      <td>-0.183646</td>\n",
       "      <td>-0.016180</td>\n",
       "      <td>-0.098905</td>\n",
       "      <td>-0.137663</td>\n",
       "      <td>0.134717</td>\n",
       "      <td>-0.087266</td>\n",
       "      <td>0.037562</td>\n",
       "      <td>0.119972</td>\n",
       "      <td>0.014920</td>\n",
       "      <td>-0.036504</td>\n",
       "      <td>-0.130878</td>\n",
       "      <td>-0.092580</td>\n",
       "      <td>-0.093358</td>\n",
       "      <td>-0.036130</td>\n",
       "      <td>-0.026386</td>\n",
       "      <td>0.089105</td>\n",
       "      <td>-0.037997</td>\n",
       "      <td>0.034333</td>\n",
       "      <td>0.110251</td>\n",
       "      <td>0.030184</td>\n",
       "      <td>0.031729</td>\n",
       "      <td>-0.127948</td>\n",
       "      <td>-0.151049</td>\n",
       "      <td>0.100077</td>\n",
       "      <td>-0.123088</td>\n",
       "      <td>0.176943</td>\n",
       "      <td>-0.064788</td>\n",
       "      <td>0.083448</td>\n",
       "      <td>-0.015593</td>\n",
       "      <td>-0.145258</td>\n",
       "      <td>-0.140520</td>\n",
       "      <td>0.144506</td>\n",
       "      <td>0.125760</td>\n",
       "      <td>0.052129</td>\n",
       "      <td>-0.093945</td>\n",
       "      <td>0.021959</td>\n",
       "      <td>0.081043</td>\n",
       "      <td>-0.016051</td>\n",
       "      <td>-0.140512</td>\n",
       "      <td>0.015856</td>\n",
       "      <td>0.156343</td>\n",
       "      <td>-0.056641</td>\n",
       "      <td>0.048578</td>\n",
       "      <td>0.041387</td>\n",
       "      <td>0.038364</td>\n",
       "      <td>0.136896</td>\n",
       "      <td>-0.108402</td>\n",
       "      <td>-0.242506</td>\n",
       "      <td>-0.028014</td>\n",
       "      <td>0.007381</td>\n",
       "      <td>0.009495</td>\n",
       "      <td>0.204394</td>\n",
       "      <td>0.272956</td>\n",
       "      <td>0.210334</td>\n",
       "      <td>0.162794</td>\n",
       "      <td>0.171335</td>\n",
       "    </tr>\n",
       "    <tr>\n",
       "      <th>47740</th>\n",
       "      <td>0.002786</td>\n",
       "      <td>0.793798</td>\n",
       "      <td>1.429544</td>\n",
       "      <td>0.299660</td>\n",
       "      <td>0.227777</td>\n",
       "      <td>-0.816065</td>\n",
       "      <td>0.133078</td>\n",
       "      <td>0.686740</td>\n",
       "      <td>-1.398879</td>\n",
       "      <td>-1.053821</td>\n",
       "      <td>0.957530</td>\n",
       "      <td>0.133879</td>\n",
       "      <td>0.230081</td>\n",
       "      <td>-0.296928</td>\n",
       "      <td>-0.116335</td>\n",
       "      <td>-0.010646</td>\n",
       "      <td>-0.182181</td>\n",
       "      <td>0.087373</td>\n",
       "      <td>0.095994</td>\n",
       "      <td>-0.255571</td>\n",
       "      <td>-0.161402</td>\n",
       "      <td>-0.153858</td>\n",
       "      <td>0.194833</td>\n",
       "      <td>-0.079865</td>\n",
       "      <td>-0.134173</td>\n",
       "      <td>-0.000088</td>\n",
       "      <td>-0.091468</td>\n",
       "      <td>-0.320499</td>\n",
       "      <td>-0.044000</td>\n",
       "      <td>0.119391</td>\n",
       "      <td>-0.080844</td>\n",
       "      <td>-0.165555</td>\n",
       "      <td>0.073716</td>\n",
       "      <td>-0.206517</td>\n",
       "      <td>0.057813</td>\n",
       "      <td>-0.018379</td>\n",
       "      <td>0.089764</td>\n",
       "      <td>-0.148247</td>\n",
       "      <td>0.023128</td>\n",
       "      <td>-0.230444</td>\n",
       "      <td>-0.079833</td>\n",
       "      <td>0.205900</td>\n",
       "      <td>0.082988</td>\n",
       "      <td>-0.112407</td>\n",
       "      <td>-0.036336</td>\n",
       "      <td>0.057093</td>\n",
       "      <td>0.205403</td>\n",
       "      <td>0.189955</td>\n",
       "      <td>-0.007342</td>\n",
       "      <td>0.052876</td>\n",
       "      <td>-0.105903</td>\n",
       "      <td>-0.025963</td>\n",
       "      <td>0.172908</td>\n",
       "      <td>-0.139368</td>\n",
       "      <td>0.139034</td>\n",
       "      <td>-0.052489</td>\n",
       "      <td>0.047436</td>\n",
       "      <td>-0.195164</td>\n",
       "      <td>0.100045</td>\n",
       "      <td>0.035563</td>\n",
       "      <td>0.015155</td>\n",
       "      <td>0.115301</td>\n",
       "      <td>0.066217</td>\n",
       "      <td>0.134646</td>\n",
       "      <td>-0.119495</td>\n",
       "      <td>-0.001766</td>\n",
       "      <td>-0.071873</td>\n",
       "      <td>-0.047177</td>\n",
       "      <td>-0.199051</td>\n",
       "      <td>-0.135356</td>\n",
       "      <td>0.046672</td>\n",
       "      <td>0.139906</td>\n",
       "      <td>0.025327</td>\n",
       "      <td>-0.060524</td>\n",
       "      <td>-0.250349</td>\n",
       "      <td>-0.174360</td>\n",
       "      <td>-0.123286</td>\n",
       "      <td>-0.051824</td>\n",
       "      <td>-0.170191</td>\n",
       "      <td>-0.133090</td>\n",
       "      <td>-0.013677</td>\n",
       "      <td>-0.023972</td>\n",
       "      <td>0.200874</td>\n",
       "      <td>-0.039770</td>\n",
       "      <td>0.212399</td>\n",
       "      <td>0.044514</td>\n",
       "      <td>-0.051068</td>\n",
       "      <td>0.019797</td>\n",
       "      <td>-0.249987</td>\n",
       "      <td>0.021671</td>\n",
       "      <td>0.177934</td>\n",
       "      <td>-0.359760</td>\n",
       "      <td>0.044095</td>\n",
       "      <td>0.475123</td>\n",
       "      <td>0.121652</td>\n",
       "      <td>-0.160927</td>\n",
       "      <td>0.348086</td>\n",
       "      <td>0.066392</td>\n",
       "      <td>0.198952</td>\n",
       "      <td>-0.082155</td>\n",
       "      <td>-0.413103</td>\n",
       "    </tr>\n",
       "    <tr>\n",
       "      <th>47741</th>\n",
       "      <td>3.021461</td>\n",
       "      <td>0.434548</td>\n",
       "      <td>-1.112344</td>\n",
       "      <td>-1.179748</td>\n",
       "      <td>0.275652</td>\n",
       "      <td>-0.127116</td>\n",
       "      <td>-0.297753</td>\n",
       "      <td>1.497026</td>\n",
       "      <td>-0.451913</td>\n",
       "      <td>0.402803</td>\n",
       "      <td>0.060483</td>\n",
       "      <td>-0.449132</td>\n",
       "      <td>0.559655</td>\n",
       "      <td>-0.693951</td>\n",
       "      <td>-0.241261</td>\n",
       "      <td>-0.044763</td>\n",
       "      <td>0.115500</td>\n",
       "      <td>-0.040621</td>\n",
       "      <td>-0.529387</td>\n",
       "      <td>0.143192</td>\n",
       "      <td>0.079491</td>\n",
       "      <td>0.131552</td>\n",
       "      <td>0.080991</td>\n",
       "      <td>0.061860</td>\n",
       "      <td>0.033007</td>\n",
       "      <td>0.344267</td>\n",
       "      <td>0.466856</td>\n",
       "      <td>0.092798</td>\n",
       "      <td>0.051091</td>\n",
       "      <td>-0.061121</td>\n",
       "      <td>0.103900</td>\n",
       "      <td>0.070916</td>\n",
       "      <td>0.059920</td>\n",
       "      <td>0.076441</td>\n",
       "      <td>-0.108429</td>\n",
       "      <td>0.206606</td>\n",
       "      <td>0.075965</td>\n",
       "      <td>-0.000546</td>\n",
       "      <td>-0.172989</td>\n",
       "      <td>-0.061193</td>\n",
       "      <td>-0.164953</td>\n",
       "      <td>-0.137047</td>\n",
       "      <td>0.111107</td>\n",
       "      <td>-0.158222</td>\n",
       "      <td>-0.218189</td>\n",
       "      <td>-0.086889</td>\n",
       "      <td>-0.001566</td>\n",
       "      <td>-0.173410</td>\n",
       "      <td>-0.225120</td>\n",
       "      <td>0.085319</td>\n",
       "      <td>-0.147847</td>\n",
       "      <td>-0.138327</td>\n",
       "      <td>-0.070442</td>\n",
       "      <td>-0.054214</td>\n",
       "      <td>-0.021017</td>\n",
       "      <td>0.167297</td>\n",
       "      <td>0.101830</td>\n",
       "      <td>0.285449</td>\n",
       "      <td>-0.030073</td>\n",
       "      <td>-0.040262</td>\n",
       "      <td>-0.135606</td>\n",
       "      <td>-0.133869</td>\n",
       "      <td>-0.011800</td>\n",
       "      <td>0.007090</td>\n",
       "      <td>0.017904</td>\n",
       "      <td>0.018392</td>\n",
       "      <td>0.339257</td>\n",
       "      <td>0.062577</td>\n",
       "      <td>-0.017947</td>\n",
       "      <td>0.084670</td>\n",
       "      <td>0.177433</td>\n",
       "      <td>-0.091858</td>\n",
       "      <td>-0.118261</td>\n",
       "      <td>0.057630</td>\n",
       "      <td>-0.026940</td>\n",
       "      <td>-0.129692</td>\n",
       "      <td>0.207512</td>\n",
       "      <td>-0.201314</td>\n",
       "      <td>-0.012671</td>\n",
       "      <td>0.078582</td>\n",
       "      <td>0.017647</td>\n",
       "      <td>0.461710</td>\n",
       "      <td>-0.117653</td>\n",
       "      <td>0.336467</td>\n",
       "      <td>-0.008778</td>\n",
       "      <td>-0.083401</td>\n",
       "      <td>-0.021538</td>\n",
       "      <td>0.168093</td>\n",
       "      <td>-0.203462</td>\n",
       "      <td>-0.297047</td>\n",
       "      <td>-0.269811</td>\n",
       "      <td>0.171988</td>\n",
       "      <td>0.279319</td>\n",
       "      <td>-0.381669</td>\n",
       "      <td>-0.077363</td>\n",
       "      <td>0.176925</td>\n",
       "      <td>0.305166</td>\n",
       "      <td>0.144413</td>\n",
       "      <td>-0.558483</td>\n",
       "      <td>-0.179624</td>\n",
       "      <td>-0.043568</td>\n",
       "    </tr>\n",
       "  </tbody>\n",
       "</table>\n",
       "<p>47742 rows × 101 columns</p>\n",
       "</div>"
      ],
      "text/plain": [
       "            0         1         2         3         4         5         6    \\\n",
       "0     -1.684446 -1.450387  1.282309 -0.843266 -1.667897  1.067668  0.056559   \n",
       "1     -1.057884 -1.256859 -1.520201  0.014690  0.691502 -1.188608 -1.134510   \n",
       "2      1.269514  1.850830 -3.123576  0.629426  1.232077 -1.332949 -0.722419   \n",
       "3     -0.203714  1.180045 -3.181664 -0.411907 -0.972598  0.669299 -0.740153   \n",
       "4      1.633259 -1.782343 -1.478348 -1.836268  1.538611  0.783657  1.782159   \n",
       "...         ...       ...       ...       ...       ...       ...       ...   \n",
       "47737  1.093416  1.203047 -0.102625  2.616443  1.728750  0.629348 -0.937518   \n",
       "47738  2.961256 -1.294694  0.678036  3.607665  0.034314  1.107289  0.702011   \n",
       "47739  0.524777 -2.874695  0.047862 -0.337343 -1.165915  0.161574 -0.830897   \n",
       "47740  0.002786  0.793798  1.429544  0.299660  0.227777 -0.816065  0.133078   \n",
       "47741  3.021461  0.434548 -1.112344 -1.179748  0.275652 -0.127116 -0.297753   \n",
       "\n",
       "            7         8         9         10        11        12        13   \\\n",
       "0     -1.008640  1.263196 -2.366958 -1.880554 -1.115331 -0.491713 -1.925542   \n",
       "1      0.809053  3.887260  0.746832  0.772067 -0.785483 -2.395941  0.238990   \n",
       "2     -3.007246  1.342043 -0.162535 -0.729486 -0.248905  1.522492  3.008128   \n",
       "3     -0.380667 -0.103214  1.327438  0.847262  2.677564  1.253894 -1.519261   \n",
       "4     -2.505285 -1.980780  0.770833 -1.681701 -1.128864  1.399888  0.296138   \n",
       "...         ...       ...       ...       ...       ...       ...       ...   \n",
       "47737  0.601038 -0.963362 -0.933418  0.183520  0.388523 -0.367268  0.289659   \n",
       "47738  1.405912 -0.752814 -0.764443 -0.316228  1.159580  0.173298 -0.123883   \n",
       "47739 -0.373110 -0.643847  0.384116  0.390245 -0.128800 -0.266036 -0.256977   \n",
       "47740  0.686740 -1.398879 -1.053821  0.957530  0.133879  0.230081 -0.296928   \n",
       "47741  1.497026 -0.451913  0.402803  0.060483 -0.449132  0.559655 -0.693951   \n",
       "\n",
       "            14        15        16        17        18        19        20   \\\n",
       "0     -1.344839 -1.178867 -0.231945 -0.940594 -0.532740 -0.951521 -0.294603   \n",
       "1      1.731251 -1.084330  0.386164 -0.868954  0.210355 -2.540155 -0.770541   \n",
       "2      0.332498  0.634500  1.508723 -0.900041 -2.266234 -0.631653 -1.078862   \n",
       "3     -0.224034  0.876509  1.021728  2.632052 -1.135027  0.280747 -0.137606   \n",
       "4      0.868882  1.944337 -0.866176  0.668318 -1.982877 -0.516978  2.029775   \n",
       "...         ...       ...       ...       ...       ...       ...       ...   \n",
       "47737  0.320270 -0.462366 -0.015503 -0.301069  0.326251 -0.303162 -0.209482   \n",
       "47738  0.180076  0.339467 -0.097868  0.013586  0.177867 -0.184632  0.095378   \n",
       "47739 -0.165301  0.418400 -0.344625  0.249799 -0.176216 -0.031744 -0.062070   \n",
       "47740 -0.116335 -0.010646 -0.182181  0.087373  0.095994 -0.255571 -0.161402   \n",
       "47741 -0.241261 -0.044763  0.115500 -0.040621 -0.529387  0.143192  0.079491   \n",
       "\n",
       "            21        22        23        24        25        26        27   \\\n",
       "0     -1.378926  0.493759 -2.010117 -0.326417 -0.575060 -1.876856 -1.490264   \n",
       "1     -0.565721  0.184775 -0.454137  0.901134  1.099052 -1.048504 -2.582918   \n",
       "2      0.781413 -0.018442  1.115702  1.075840  1.074373 -0.643567 -0.856899   \n",
       "3      0.639420  0.334176 -0.808017  0.935651 -0.420862 -2.436972  0.805256   \n",
       "4     -2.668372 -1.355708  1.938766 -2.252502 -0.558864 -1.167910  0.680785   \n",
       "...         ...       ...       ...       ...       ...       ...       ...   \n",
       "47737 -0.125080  0.210245 -0.090580 -0.084899 -0.080666 -0.282564 -0.315638   \n",
       "47738  0.082306 -0.375456  0.261938  0.018270 -0.186858 -0.032847  0.115745   \n",
       "47739  0.024826 -0.260598  0.108305 -0.159034 -0.017515  0.043687  0.032733   \n",
       "47740 -0.153858  0.194833 -0.079865 -0.134173 -0.000088 -0.091468 -0.320499   \n",
       "47741  0.131552  0.080991  0.061860  0.033007  0.344267  0.466856  0.092798   \n",
       "\n",
       "            28        29        30        31        32        33        34   \\\n",
       "0      0.064984 -0.013979  0.143457  0.813928 -2.148621  1.269167 -0.532651   \n",
       "1      2.296578 -1.770478 -0.850105 -0.680206  0.986634  1.307226  1.727587   \n",
       "2     -2.275385  0.848688 -1.529591  2.820205 -4.069686  1.168586 -0.410655   \n",
       "3      0.739295  1.176790 -0.021126 -1.263442  0.569067  0.235910 -0.252243   \n",
       "4      1.723079 -0.066507 -1.235347  0.056591  0.448330  0.184215 -0.324752   \n",
       "...         ...       ...       ...       ...       ...       ...       ...   \n",
       "47737  0.035122  0.167083 -0.002541  0.004619 -0.124203 -0.129983 -0.065056   \n",
       "47738  0.286949 -0.035328 -0.115766  0.193049  0.147984  0.068912  0.045065   \n",
       "47739 -0.072943  0.015110 -0.053212 -0.017792  0.015054 -0.106126 -0.000683   \n",
       "47740 -0.044000  0.119391 -0.080844 -0.165555  0.073716 -0.206517  0.057813   \n",
       "47741  0.051091 -0.061121  0.103900  0.070916  0.059920  0.076441 -0.108429   \n",
       "\n",
       "            35        36        37        38        39        40        41   \\\n",
       "0      0.034957 -0.059586 -1.124081  1.002832  0.399549  0.305195 -0.805863   \n",
       "1     -0.011792 -0.487308 -0.216496  0.600613 -0.720074  1.557967  0.345367   \n",
       "2     -0.443825  1.887564  0.785987 -0.478253 -0.351514 -0.104669  0.877816   \n",
       "3     -0.071291 -0.124382 -0.783608 -0.683138 -0.636782  0.746438 -0.812519   \n",
       "4     -2.944604  1.767291  2.053983  0.660384  1.896721  1.844706  0.786641   \n",
       "...         ...       ...       ...       ...       ...       ...       ...   \n",
       "47737 -0.173128  0.272504 -0.025420 -0.058298 -0.185208 -0.064311  0.314744   \n",
       "47738  0.100885  0.084648 -0.036488  0.067657  0.049541  0.233773 -0.143677   \n",
       "47739 -0.130539 -0.160743  0.054461  0.183806  0.119656  0.031544 -0.049231   \n",
       "47740 -0.018379  0.089764 -0.148247  0.023128 -0.230444 -0.079833  0.205900   \n",
       "47741  0.206606  0.075965 -0.000546 -0.172989 -0.061193 -0.164953 -0.137047   \n",
       "\n",
       "            42        43        44        45        46        47        48   \\\n",
       "0      1.465983 -0.444253  0.184611 -0.068349  1.101178 -0.305684 -1.192169   \n",
       "1     -0.794922 -1.014169 -0.403771  0.931494  0.432504 -0.622732 -0.195736   \n",
       "2     -3.652782 -0.855076  1.374887 -0.632455 -1.844262 -0.546507  0.618991   \n",
       "3      0.532687 -0.070659 -0.483012  0.121310 -0.542751  0.329755  0.051926   \n",
       "4      0.181293  0.217570 -1.681358  0.780169 -0.650632  0.885849  0.327744   \n",
       "...         ...       ...       ...       ...       ...       ...       ...   \n",
       "47737 -0.060523  0.074354 -0.039107  0.320013  0.224854  0.265095  0.201542   \n",
       "47738 -0.122144  0.006104  0.078686 -0.284111 -0.409830  0.060776  0.052669   \n",
       "47739  0.002028 -0.126812  0.082694 -0.183646 -0.016180 -0.098905 -0.137663   \n",
       "47740  0.082988 -0.112407 -0.036336  0.057093  0.205403  0.189955 -0.007342   \n",
       "47741  0.111107 -0.158222 -0.218189 -0.086889 -0.001566 -0.173410 -0.225120   \n",
       "\n",
       "            49        50        51        52        53        54        55   \\\n",
       "0      0.259189  0.375010  0.075820  0.441113  0.821105 -0.567771 -0.263912   \n",
       "1      0.630706  0.148422  0.271944  0.470596  0.782166 -2.192851 -0.153656   \n",
       "2     -0.578987  3.175865  0.506664  2.698366 -2.880966 -0.260089  0.619119   \n",
       "3      0.571964 -0.759682  0.591945 -0.226889  0.257621  0.094943 -0.460578   \n",
       "4     -2.274874 -0.694016  3.454447 -2.922125  2.102165 -0.444512  1.659955   \n",
       "...         ...       ...       ...       ...       ...       ...       ...   \n",
       "47737  0.052792  0.060698 -0.026168  0.102668 -0.238314  0.108766 -0.037550   \n",
       "47738  0.152616  0.018828  0.147111  0.002041  0.175486 -0.116305  0.340997   \n",
       "47739  0.134717 -0.087266  0.037562  0.119972  0.014920 -0.036504 -0.130878   \n",
       "47740  0.052876 -0.105903 -0.025963  0.172908 -0.139368  0.139034 -0.052489   \n",
       "47741  0.085319 -0.147847 -0.138327 -0.070442 -0.054214 -0.021017  0.167297   \n",
       "\n",
       "            56        57        58        59        60        61        62   \\\n",
       "0     -0.091942 -1.118633 -0.056467 -0.710577  0.407580 -0.808258 -0.057583   \n",
       "1      0.986477 -0.876663  0.935578  1.045637 -0.390421  1.343781  1.000542   \n",
       "2      1.182412  2.194448  0.157881  0.397307  0.693749 -1.875384  0.500413   \n",
       "3     -0.955343  0.162221  0.107591  0.167115 -0.088259 -0.106220  0.539551   \n",
       "4      0.282768 -0.551527 -0.793189  0.380254  2.821490  0.962415 -3.479177   \n",
       "...         ...       ...       ...       ...       ...       ...       ...   \n",
       "47737  0.033353 -0.144222  0.124969 -0.034924  0.083003  0.054194 -0.068826   \n",
       "47738  0.089316  0.086030  0.054568  0.036790  0.048126 -0.134529 -0.005132   \n",
       "47739 -0.092580 -0.093358 -0.036130 -0.026386  0.089105 -0.037997  0.034333   \n",
       "47740  0.047436 -0.195164  0.100045  0.035563  0.015155  0.115301  0.066217   \n",
       "47741  0.101830  0.285449 -0.030073 -0.040262 -0.135606 -0.133869 -0.011800   \n",
       "\n",
       "            63        64        65        66        67        68        69   \\\n",
       "0     -0.157577  0.012609  0.723198  0.354850 -0.074956  0.171804  0.007709   \n",
       "1      1.478396 -0.470212  0.241853  0.732595  1.165511  0.820680 -0.546246   \n",
       "2      3.553329  0.751703  2.009737 -0.167172  0.557577  0.315083 -1.428492   \n",
       "3     -0.483244 -1.026422 -0.215150  0.361696  0.442317  0.141992  0.347532   \n",
       "4      0.769437 -2.073819 -2.101945 -0.061534 -2.231138  0.678072 -1.495776   \n",
       "...         ...       ...       ...       ...       ...       ...       ...   \n",
       "47737  0.147226 -0.035554 -0.010335 -0.180059 -0.159266 -0.195273 -0.089884   \n",
       "47738 -0.130512  0.207357 -0.048624  0.179374 -0.079818  0.196935  0.165568   \n",
       "47739  0.110251  0.030184  0.031729 -0.127948 -0.151049  0.100077 -0.123088   \n",
       "47740  0.134646 -0.119495 -0.001766 -0.071873 -0.047177 -0.199051 -0.135356   \n",
       "47741  0.007090  0.017904  0.018392  0.339257  0.062577 -0.017947  0.084670   \n",
       "\n",
       "            70        71        72        73        74        75        76   \\\n",
       "0     -0.836705 -0.646695 -0.310511 -0.014507  0.572913  1.037508  0.071501   \n",
       "1     -0.807521  1.552741 -0.111997  0.046099  1.730963 -0.348668  0.259210   \n",
       "2      0.016497 -1.959780 -0.092672 -0.569121 -0.285846 -0.788192 -0.328542   \n",
       "3     -0.665878 -0.937521  0.233076 -0.400410 -0.637305 -0.929626 -0.381935   \n",
       "4      1.504595  0.758641 -0.561716  1.963050 -2.005069  1.786695  2.471404   \n",
       "...         ...       ...       ...       ...       ...       ...       ...   \n",
       "47737 -0.137704  0.271392  0.112467 -0.044118 -0.016670  0.152114 -0.054373   \n",
       "47738  0.088581 -0.139965  0.032271  0.053757  0.132524  0.076389  0.093904   \n",
       "47739  0.176943 -0.064788  0.083448 -0.015593 -0.145258 -0.140520  0.144506   \n",
       "47740  0.046672  0.139906  0.025327 -0.060524 -0.250349 -0.174360 -0.123286   \n",
       "47741  0.177433 -0.091858 -0.118261  0.057630 -0.026940 -0.129692  0.207512   \n",
       "\n",
       "            77        78        79        80        81        82        83   \\\n",
       "0      0.397145 -1.127857  0.012936  0.259498  0.766630 -1.192798 -0.095415   \n",
       "1     -0.393077  1.244711  0.429370  0.541602 -0.285704 -0.965637 -0.150335   \n",
       "2     -1.362494  0.845298  0.559393  1.357205  2.526390  1.292954 -2.714436   \n",
       "3      0.578837  0.106444 -1.221552  0.281170 -0.260094  0.536492  0.281448   \n",
       "4      1.056822 -2.650512 -0.436506 -0.888627  0.683565 -0.859476 -2.008765   \n",
       "...         ...       ...       ...       ...       ...       ...       ...   \n",
       "47737 -0.072809 -0.245239  0.234862 -0.086838 -0.227373  0.078772 -0.181430   \n",
       "47738  0.023510  0.230858 -0.019290  0.080130 -0.027644 -0.075872  0.137431   \n",
       "47739  0.125760  0.052129 -0.093945  0.021959  0.081043 -0.016051 -0.140512   \n",
       "47740 -0.051824 -0.170191 -0.133090 -0.013677 -0.023972  0.200874 -0.039770   \n",
       "47741 -0.201314 -0.012671  0.078582  0.017647  0.461710 -0.117653  0.336467   \n",
       "\n",
       "            84        85        86        87        88        89        90   \\\n",
       "0     -0.017380 -0.066995 -0.989452  1.986940  0.339798  0.545700  0.412199   \n",
       "1      1.546359  1.217895  2.668307 -2.121375 -2.126063 -1.828202  0.198370   \n",
       "2     -2.040794  0.273351 -1.741480 -0.412699  0.263054  0.045793 -0.396103   \n",
       "3      0.271462  0.314460 -0.843700 -0.431038 -0.236285 -0.064098  0.739651   \n",
       "4      1.226934  0.758948 -1.974460  0.003369 -1.786589  1.151434  1.263258   \n",
       "...         ...       ...       ...       ...       ...       ...       ...   \n",
       "47737  0.172240 -0.042957  0.120232  0.117621 -0.137447  0.099790  0.125551   \n",
       "47738 -0.417629  0.093823 -0.169536 -0.008804  0.182869 -0.317945 -0.235430   \n",
       "47739  0.015856  0.156343 -0.056641  0.048578  0.041387  0.038364  0.136896   \n",
       "47740  0.212399  0.044514 -0.051068  0.019797 -0.249987  0.021671  0.177934   \n",
       "47741 -0.008778 -0.083401 -0.021538  0.168093 -0.203462 -0.297047 -0.269811   \n",
       "\n",
       "            91        92        93        94        95        96        97   \\\n",
       "0      0.375820 -0.290744 -0.847356  0.341362 -0.332578  1.389150 -0.339699   \n",
       "1      0.206014  1.899804  0.900770 -1.296260 -0.336541 -1.471279 -1.916896   \n",
       "2     -0.969098  1.500629 -0.384097 -0.076464  1.108102  0.039061 -2.683475   \n",
       "3      0.484788  0.024348 -0.336389 -1.081195  0.117501 -0.196502 -0.045280   \n",
       "4      0.221905  1.515501 -0.443906  1.229044 -0.029637 -0.920022 -0.200331   \n",
       "...         ...       ...       ...       ...       ...       ...       ...   \n",
       "47737 -0.375018 -0.021727  0.582637  0.287727 -0.081083 -0.078328 -0.166787   \n",
       "47738  0.708267 -0.068321 -0.279909 -0.461230  0.109324 -0.089612  0.105178   \n",
       "47739 -0.108402 -0.242506 -0.028014  0.007381  0.009495  0.204394  0.272956   \n",
       "47740 -0.359760  0.044095  0.475123  0.121652 -0.160927  0.348086  0.066392   \n",
       "47741  0.171988  0.279319 -0.381669 -0.077363  0.176925  0.305166  0.144413   \n",
       "\n",
       "            98        99        100  \n",
       "0      0.263309 -0.026479 -0.013444  \n",
       "1      1.835217  1.094826 -1.181872  \n",
       "2     -0.449401 -0.338884  1.439445  \n",
       "3      0.446660  0.605953  1.084246  \n",
       "4      0.526774  3.928004  1.673869  \n",
       "...         ...       ...       ...  \n",
       "47737 -0.108044 -0.249379 -0.605802  \n",
       "47738 -0.007027  0.200416  0.331086  \n",
       "47739  0.210334  0.162794  0.171335  \n",
       "47740  0.198952 -0.082155 -0.413103  \n",
       "47741 -0.558483 -0.179624 -0.043568  \n",
       "\n",
       "[47742 rows x 101 columns]"
      ]
     },
     "execution_count": 64,
     "metadata": {},
     "output_type": "execute_result"
    }
   ],
   "source": [
    "pca_df = pd.DataFrame(X_pca_final)\n",
    "pca_df"
   ]
  },
  {
   "cell_type": "markdown",
   "id": "fbd78963",
   "metadata": {},
   "source": [
    "## Training models after PCA"
   ]
  },
  {
   "cell_type": "code",
   "execution_count": 65,
   "id": "7f030a24",
   "metadata": {},
   "outputs": [
    {
     "name": "stdout",
     "output_type": "stream",
     "text": [
      "(47742, 101)\n",
      "(11936, 101)\n"
     ]
    }
   ],
   "source": [
    "X_pca_train = X_pca_final\n",
    "X_pca_test = pca_final.transform(X_scaled_test)\n",
    "\n",
    "print(X_pca_train.shape)\n",
    "print(X_pca_test.shape)"
   ]
  },
  {
   "cell_type": "markdown",
   "id": "61aba659",
   "metadata": {},
   "source": [
    "### Decision Tree"
   ]
  },
  {
   "cell_type": "code",
   "execution_count": 66,
   "id": "3146fe7d",
   "metadata": {},
   "outputs": [
    {
     "data": {
      "text/plain": [
       "DecisionTreeClassifier()"
      ]
     },
     "execution_count": 66,
     "metadata": {},
     "output_type": "execute_result"
    }
   ],
   "source": [
    "dtree_pca = DecisionTreeClassifier()\n",
    "dtree_pca.fit(X_pca_train, y_resampled)"
   ]
  },
  {
   "cell_type": "code",
   "execution_count": 67,
   "id": "cf61b19c",
   "metadata": {},
   "outputs": [],
   "source": [
    "dtree_pca_pred = dtree_pca.predict(X_pca_test)"
   ]
  },
  {
   "cell_type": "code",
   "execution_count": 68,
   "id": "892fa36a",
   "metadata": {},
   "outputs": [
    {
     "name": "stdout",
     "output_type": "stream",
     "text": [
      "              precision    recall  f1-score   support\n",
      "\n",
      "           0       0.19      0.24      0.21      1691\n",
      "           1       0.87      0.83      0.85     10245\n",
      "\n",
      "    accuracy                           0.74     11936\n",
      "   macro avg       0.53      0.53      0.53     11936\n",
      "weighted avg       0.77      0.74      0.76     11936\n",
      "\n"
     ]
    },
    {
     "data": {
      "text/plain": [
       "{'f1-score': 0.21, 'accuracy': 0.74}"
      ]
     },
     "execution_count": 68,
     "metadata": {},
     "output_type": "execute_result"
    }
   ],
   "source": [
    "print(classification_report(y_test, dtree_pca_pred, zero_division=1))\n",
    "\n",
    "dtree_pca_pr = evaluate(dtree_pca_pred, y_test)\n",
    "dtree_pca_pr"
   ]
  },
  {
   "cell_type": "code",
   "execution_count": 69,
   "id": "6b4203e8",
   "metadata": {},
   "outputs": [
    {
     "data": {
      "text/plain": [
       "array([[ 410, 1281],\n",
       "       [1772, 8473]], dtype=int64)"
      ]
     },
     "execution_count": 69,
     "metadata": {},
     "output_type": "execute_result"
    }
   ],
   "source": [
    "confusion_matrix(y_test, dtree_pca_pred)"
   ]
  },
  {
   "cell_type": "markdown",
   "id": "2881d049",
   "metadata": {},
   "source": [
    "### Random Forest"
   ]
  },
  {
   "cell_type": "code",
   "execution_count": 70,
   "id": "6ce500d2",
   "metadata": {},
   "outputs": [
    {
     "data": {
      "text/plain": [
       "RandomForestClassifier()"
      ]
     },
     "execution_count": 70,
     "metadata": {},
     "output_type": "execute_result"
    }
   ],
   "source": [
    "rf_pca = RandomForestClassifier()\n",
    "rf_pca.fit(X_pca_train, y_resampled)"
   ]
  },
  {
   "cell_type": "code",
   "execution_count": 71,
   "id": "aaf056e0",
   "metadata": {},
   "outputs": [],
   "source": [
    "rf_pca_pred = rf_pca.predict(X_pca_test)"
   ]
  },
  {
   "cell_type": "code",
   "execution_count": 72,
   "id": "447451c8",
   "metadata": {},
   "outputs": [
    {
     "name": "stdout",
     "output_type": "stream",
     "text": [
      "              precision    recall  f1-score   support\n",
      "\n",
      "           0       0.34      0.03      0.05      1691\n",
      "           1       0.86      0.99      0.92     10245\n",
      "\n",
      "    accuracy                           0.85     11936\n",
      "   macro avg       0.60      0.51      0.48     11936\n",
      "weighted avg       0.79      0.85      0.80     11936\n",
      "\n"
     ]
    },
    {
     "data": {
      "text/plain": [
       "{'f1-score': 0.05, 'accuracy': 0.85}"
      ]
     },
     "execution_count": 72,
     "metadata": {},
     "output_type": "execute_result"
    }
   ],
   "source": [
    "print(classification_report(y_test, rf_pca_pred, zero_division=1))\n",
    "\n",
    "rf_pca_pr = evaluate(rf_pca_pred, y_test)\n",
    "rf_pca_pr"
   ]
  },
  {
   "cell_type": "code",
   "execution_count": 73,
   "id": "4bff1392",
   "metadata": {},
   "outputs": [
    {
     "data": {
      "text/plain": [
       "array([[   43,  1648],\n",
       "       [   85, 10160]], dtype=int64)"
      ]
     },
     "execution_count": 73,
     "metadata": {},
     "output_type": "execute_result"
    }
   ],
   "source": [
    "confusion_matrix(y_test, rf_pca_pred)"
   ]
  },
  {
   "cell_type": "markdown",
   "id": "d468c56a",
   "metadata": {},
   "source": [
    "### Logistic Regression"
   ]
  },
  {
   "cell_type": "code",
   "execution_count": 74,
   "id": "fb219928",
   "metadata": {},
   "outputs": [
    {
     "data": {
      "text/plain": [
       "LogisticRegression()"
      ]
     },
     "execution_count": 74,
     "metadata": {},
     "output_type": "execute_result"
    }
   ],
   "source": [
    "lr_pca = LogisticRegression()\n",
    "lr_pca.fit(X_pca_train, y_resampled)"
   ]
  },
  {
   "cell_type": "code",
   "execution_count": 75,
   "id": "c37f5990",
   "metadata": {},
   "outputs": [],
   "source": [
    "lr_pca_pred = lr_pca.predict(X_pca_test)"
   ]
  },
  {
   "cell_type": "code",
   "execution_count": 76,
   "id": "00c75d91",
   "metadata": {},
   "outputs": [
    {
     "name": "stdout",
     "output_type": "stream",
     "text": [
      "              precision    recall  f1-score   support\n",
      "\n",
      "           0       0.25      0.10      0.14      1691\n",
      "           1       0.86      0.95      0.91     10245\n",
      "\n",
      "    accuracy                           0.83     11936\n",
      "   macro avg       0.56      0.53      0.52     11936\n",
      "weighted avg       0.78      0.83      0.80     11936\n",
      "\n"
     ]
    },
    {
     "data": {
      "text/plain": [
       "{'f1-score': 0.14, 'accuracy': 0.83}"
      ]
     },
     "execution_count": 76,
     "metadata": {},
     "output_type": "execute_result"
    }
   ],
   "source": [
    "print(classification_report(y_test, lr_pca_pred, zero_division=1))\n",
    "\n",
    "lr_pca_pr = evaluate(lr_pca_pred, y_test)\n",
    "lr_pca_pr"
   ]
  },
  {
   "cell_type": "code",
   "execution_count": 77,
   "id": "44c6565e",
   "metadata": {},
   "outputs": [
    {
     "data": {
      "text/plain": [
       "array([[ 168, 1523],\n",
       "       [ 502, 9743]], dtype=int64)"
      ]
     },
     "execution_count": 77,
     "metadata": {},
     "output_type": "execute_result"
    }
   ],
   "source": [
    "confusion_matrix(y_test, lr_pca_pred)"
   ]
  },
  {
   "cell_type": "markdown",
   "id": "f492e3f2",
   "metadata": {},
   "source": [
    "### Naïve Bayes"
   ]
  },
  {
   "cell_type": "code",
   "execution_count": 78,
   "id": "b818f08e",
   "metadata": {},
   "outputs": [
    {
     "data": {
      "text/plain": [
       "GaussianNB()"
      ]
     },
     "execution_count": 78,
     "metadata": {},
     "output_type": "execute_result"
    }
   ],
   "source": [
    "from sklearn.naive_bayes import GaussianNB\n",
    "nb_pca = GaussianNB()\n",
    "nb_pca.fit(X_pca_train, y_resampled)"
   ]
  },
  {
   "cell_type": "code",
   "execution_count": 79,
   "id": "ff217019",
   "metadata": {},
   "outputs": [],
   "source": [
    "nb_pca_pred = nb_pca.predict(X_pca_test)"
   ]
  },
  {
   "cell_type": "code",
   "execution_count": 80,
   "id": "bffb4d08",
   "metadata": {},
   "outputs": [
    {
     "name": "stdout",
     "output_type": "stream",
     "text": [
      "              precision    recall  f1-score   support\n",
      "\n",
      "           0       0.13      0.24      0.16      1691\n",
      "           1       0.85      0.73      0.78     10245\n",
      "\n",
      "    accuracy                           0.66     11936\n",
      "   macro avg       0.49      0.48      0.47     11936\n",
      "weighted avg       0.75      0.66      0.70     11936\n",
      "\n"
     ]
    },
    {
     "data": {
      "text/plain": [
       "{'f1-score': 0.16, 'accuracy': 0.66}"
      ]
     },
     "execution_count": 80,
     "metadata": {},
     "output_type": "execute_result"
    }
   ],
   "source": [
    "print(classification_report(y_test, nb_pca_pred, zero_division=1))\n",
    "\n",
    "nb_pca_pr = evaluate(nb_pca_pred, y_test)\n",
    "nb_pca_pr"
   ]
  },
  {
   "cell_type": "code",
   "execution_count": 81,
   "id": "bec51e8f",
   "metadata": {},
   "outputs": [
    {
     "data": {
      "text/plain": [
       "array([[ 404, 1287],\n",
       "       [2812, 7433]], dtype=int64)"
      ]
     },
     "execution_count": 81,
     "metadata": {},
     "output_type": "execute_result"
    }
   ],
   "source": [
    "confusion_matrix(y_test, nb_pca_pred)"
   ]
  },
  {
   "cell_type": "markdown",
   "id": "8a1f1259",
   "metadata": {},
   "source": [
    "### K Nearest Neighbors(KNN)"
   ]
  },
  {
   "cell_type": "code",
   "execution_count": 82,
   "id": "d4726217",
   "metadata": {},
   "outputs": [
    {
     "data": {
      "text/plain": [
       "KNeighborsClassifier()"
      ]
     },
     "execution_count": 82,
     "metadata": {},
     "output_type": "execute_result"
    }
   ],
   "source": [
    "knn_pca = KNeighborsClassifier(n_neighbors=5)\n",
    "knn_pca.fit(X_pca_train, y_resampled)"
   ]
  },
  {
   "cell_type": "code",
   "execution_count": 83,
   "id": "526e590f",
   "metadata": {},
   "outputs": [],
   "source": [
    "knn_pca_pred = knn_pca.predict(X_pca_test)"
   ]
  },
  {
   "cell_type": "code",
   "execution_count": 84,
   "id": "79bb769b",
   "metadata": {},
   "outputs": [
    {
     "name": "stdout",
     "output_type": "stream",
     "text": [
      "              precision    recall  f1-score   support\n",
      "\n",
      "           0       0.24      0.10      0.14      1691\n",
      "           1       0.86      0.95      0.90     10245\n",
      "\n",
      "    accuracy                           0.83     11936\n",
      "   macro avg       0.55      0.52      0.52     11936\n",
      "weighted avg       0.78      0.83      0.80     11936\n",
      "\n"
     ]
    },
    {
     "data": {
      "text/plain": [
       "{'f1-score': 0.14, 'accuracy': 0.83}"
      ]
     },
     "execution_count": 84,
     "metadata": {},
     "output_type": "execute_result"
    }
   ],
   "source": [
    "print(classification_report(y_test, knn_pca_pred, zero_division=1))\n",
    "\n",
    "knn_pca_pr = evaluate(knn_pca_pred, y_test)\n",
    "knn_pca_pr"
   ]
  },
  {
   "cell_type": "code",
   "execution_count": 85,
   "id": "8841688e",
   "metadata": {},
   "outputs": [
    {
     "data": {
      "text/plain": [
       "array([[ 165, 1526],\n",
       "       [ 520, 9725]], dtype=int64)"
      ]
     },
     "execution_count": 85,
     "metadata": {},
     "output_type": "execute_result"
    }
   ],
   "source": [
    "confusion_matrix(y_test, knn_pca_pred)"
   ]
  },
  {
   "cell_type": "markdown",
   "id": "9c962834",
   "metadata": {},
   "source": [
    "### Multi Layer Perceptron Classifier (MLP)"
   ]
  },
  {
   "cell_type": "code",
   "execution_count": 86,
   "id": "174fd082",
   "metadata": {},
   "outputs": [
    {
     "name": "stderr",
     "output_type": "stream",
     "text": [
      "C:\\Users\\barte\\anaconda3\\lib\\site-packages\\sklearn\\neural_network\\_multilayer_perceptron.py:692: ConvergenceWarning: Stochastic Optimizer: Maximum iterations (200) reached and the optimization hasn't converged yet.\n",
      "  warnings.warn(\n"
     ]
    },
    {
     "data": {
      "text/plain": [
       "MLPClassifier(random_state=42)"
      ]
     },
     "execution_count": 86,
     "metadata": {},
     "output_type": "execute_result"
    }
   ],
   "source": [
    "mlp_pca = MLPClassifier(random_state=42)\n",
    "mlp_pca.fit(X_pca_train, y_resampled)"
   ]
  },
  {
   "cell_type": "code",
   "execution_count": 87,
   "id": "a25c87f5",
   "metadata": {},
   "outputs": [],
   "source": [
    "mlp_pca_pred = mlp_pca.predict(X_pca_test)"
   ]
  },
  {
   "cell_type": "code",
   "execution_count": 88,
   "id": "3e1755fe",
   "metadata": {},
   "outputs": [
    {
     "name": "stdout",
     "output_type": "stream",
     "text": [
      "              precision    recall  f1-score   support\n",
      "\n",
      "           0       0.22      0.15      0.18      1691\n",
      "           1       0.87      0.91      0.89     10245\n",
      "\n",
      "    accuracy                           0.80     11936\n",
      "   macro avg       0.54      0.53      0.53     11936\n",
      "weighted avg       0.77      0.80      0.79     11936\n",
      "\n"
     ]
    },
    {
     "data": {
      "text/plain": [
       "{'f1-score': 0.18, 'accuracy': 0.8}"
      ]
     },
     "execution_count": 88,
     "metadata": {},
     "output_type": "execute_result"
    }
   ],
   "source": [
    "print(classification_report(y_test, mlp_pca_pred, zero_division=1))\n",
    "\n",
    "mlp_pca_pr = evaluate(mlp_pca_pred, y_test)\n",
    "mlp_pca_pr"
   ]
  },
  {
   "cell_type": "code",
   "execution_count": 89,
   "id": "70093213",
   "metadata": {},
   "outputs": [
    {
     "data": {
      "text/plain": [
       "array([[ 255, 1436],\n",
       "       [ 912, 9333]], dtype=int64)"
      ]
     },
     "execution_count": 89,
     "metadata": {},
     "output_type": "execute_result"
    }
   ],
   "source": [
    "confusion_matrix(y_test, mlp_pca_pred)"
   ]
  },
  {
   "cell_type": "markdown",
   "id": "80562bc6",
   "metadata": {},
   "source": [
    "### XGBoost Classifier"
   ]
  },
  {
   "cell_type": "code",
   "execution_count": 90,
   "id": "1efb2a89",
   "metadata": {},
   "outputs": [
    {
     "data": {
      "text/plain": [
       "XGBClassifier(base_score=None, booster=None, callbacks=None,\n",
       "              colsample_bylevel=None, colsample_bynode=None,\n",
       "              colsample_bytree=None, early_stopping_rounds=None,\n",
       "              enable_categorical=False, eval_metric=None, feature_types=None,\n",
       "              gamma=None, gpu_id=None, grow_policy=None, importance_type=None,\n",
       "              interaction_constraints=None, learning_rate=None, max_bin=None,\n",
       "              max_cat_threshold=None, max_cat_to_onehot=None,\n",
       "              max_delta_step=None, max_depth=None, max_leaves=None,\n",
       "              min_child_weight=None, missing=nan, monotone_constraints=None,\n",
       "              n_estimators=100, n_jobs=None, num_parallel_tree=None,\n",
       "              predictor=None, random_state=42, ...)"
      ]
     },
     "execution_count": 90,
     "metadata": {},
     "output_type": "execute_result"
    }
   ],
   "source": [
    "xgb_pca = XGBClassifier(random_state=42)\n",
    "xgb_pca.fit(X_pca_train, y_resampled)"
   ]
  },
  {
   "cell_type": "code",
   "execution_count": 91,
   "id": "8bd12c52",
   "metadata": {},
   "outputs": [],
   "source": [
    "xgb_pca_pred = xgb_pca.predict(X_pca_test)"
   ]
  },
  {
   "cell_type": "code",
   "execution_count": 92,
   "id": "03582166",
   "metadata": {},
   "outputs": [
    {
     "name": "stdout",
     "output_type": "stream",
     "text": [
      "              precision    recall  f1-score   support\n",
      "\n",
      "           0       0.26      0.06      0.10      1691\n",
      "           1       0.86      0.97      0.91     10245\n",
      "\n",
      "    accuracy                           0.84     11936\n",
      "   macro avg       0.56      0.52      0.51     11936\n",
      "weighted avg       0.78      0.84      0.80     11936\n",
      "\n"
     ]
    },
    {
     "data": {
      "text/plain": [
       "{'f1-score': 0.1, 'accuracy': 0.84}"
      ]
     },
     "execution_count": 92,
     "metadata": {},
     "output_type": "execute_result"
    }
   ],
   "source": [
    "print(classification_report(y_test, xgb_pca_pred, zero_division=1))\n",
    "\n",
    "xgb_pca_pr = evaluate(xgb_pca_pred, y_test)\n",
    "xgb_pca_pr"
   ]
  },
  {
   "cell_type": "code",
   "execution_count": 93,
   "id": "af4b63d3",
   "metadata": {},
   "outputs": [
    {
     "data": {
      "text/plain": [
       "array([[ 109, 1582],\n",
       "       [ 310, 9935]], dtype=int64)"
      ]
     },
     "execution_count": 93,
     "metadata": {},
     "output_type": "execute_result"
    }
   ],
   "source": [
    "confusion_matrix(y_test, xgb_pca_pred)"
   ]
  },
  {
   "cell_type": "code",
   "execution_count": 94,
   "id": "471f37e7",
   "metadata": {},
   "outputs": [
    {
     "data": {
      "text/html": [
       "<div>\n",
       "<style scoped>\n",
       "    .dataframe tbody tr th:only-of-type {\n",
       "        vertical-align: middle;\n",
       "    }\n",
       "\n",
       "    .dataframe tbody tr th {\n",
       "        vertical-align: top;\n",
       "    }\n",
       "\n",
       "    .dataframe thead th {\n",
       "        text-align: right;\n",
       "    }\n",
       "</style>\n",
       "<table border=\"1\" class=\"dataframe\">\n",
       "  <thead>\n",
       "    <tr style=\"text-align: right;\">\n",
       "      <th></th>\n",
       "      <th>Model</th>\n",
       "      <th>F1-score</th>\n",
       "      <th>Accuracy</th>\n",
       "      <th>F1-score after PCA</th>\n",
       "      <th>Accuracy after PCA</th>\n",
       "    </tr>\n",
       "  </thead>\n",
       "  <tbody>\n",
       "    <tr>\n",
       "      <th>0</th>\n",
       "      <td>Decision Tree</td>\n",
       "      <td>0.21</td>\n",
       "      <td>0.75</td>\n",
       "      <td>0.21</td>\n",
       "      <td>0.74</td>\n",
       "    </tr>\n",
       "    <tr>\n",
       "      <th>1</th>\n",
       "      <td>Random Forest</td>\n",
       "      <td>0.05</td>\n",
       "      <td>0.85</td>\n",
       "      <td>0.05</td>\n",
       "      <td>0.85</td>\n",
       "    </tr>\n",
       "    <tr>\n",
       "      <th>2</th>\n",
       "      <td>Logistic Regression</td>\n",
       "      <td>0.03</td>\n",
       "      <td>0.86</td>\n",
       "      <td>0.14</td>\n",
       "      <td>0.83</td>\n",
       "    </tr>\n",
       "    <tr>\n",
       "      <th>3</th>\n",
       "      <td>Naive Bayes</td>\n",
       "      <td>0.24</td>\n",
       "      <td>0.58</td>\n",
       "      <td>0.16</td>\n",
       "      <td>0.66</td>\n",
       "    </tr>\n",
       "    <tr>\n",
       "      <th>4</th>\n",
       "      <td>KNN</td>\n",
       "      <td>0.14</td>\n",
       "      <td>0.83</td>\n",
       "      <td>0.14</td>\n",
       "      <td>0.83</td>\n",
       "    </tr>\n",
       "    <tr>\n",
       "      <th>5</th>\n",
       "      <td>MLP</td>\n",
       "      <td>0.22</td>\n",
       "      <td>0.79</td>\n",
       "      <td>0.18</td>\n",
       "      <td>0.80</td>\n",
       "    </tr>\n",
       "    <tr>\n",
       "      <th>6</th>\n",
       "      <td>XGB</td>\n",
       "      <td>0.09</td>\n",
       "      <td>0.85</td>\n",
       "      <td>0.10</td>\n",
       "      <td>0.84</td>\n",
       "    </tr>\n",
       "  </tbody>\n",
       "</table>\n",
       "</div>"
      ],
      "text/plain": [
       "                 Model  F1-score  Accuracy  F1-score after PCA  \\\n",
       "0        Decision Tree      0.21      0.75                0.21   \n",
       "1        Random Forest      0.05      0.85                0.05   \n",
       "2  Logistic Regression      0.03      0.86                0.14   \n",
       "3          Naive Bayes      0.24      0.58                0.16   \n",
       "4                  KNN      0.14      0.83                0.14   \n",
       "5                  MLP      0.22      0.79                0.18   \n",
       "6                  XGB      0.09      0.85                0.10   \n",
       "\n",
       "   Accuracy after PCA  \n",
       "0                0.74  \n",
       "1                0.85  \n",
       "2                0.83  \n",
       "3                0.66  \n",
       "4                0.83  \n",
       "5                0.80  \n",
       "6                0.84  "
      ]
     },
     "execution_count": 94,
     "metadata": {},
     "output_type": "execute_result"
    }
   ],
   "source": [
    "pca_prediction_data={'Model': ['Decision Tree',\n",
    "                              'Random Forest',\n",
    "                              'Logistic Regression',\n",
    "                              'Naive Bayes',\n",
    "                              'KNN',\n",
    "                              'MLP',\n",
    "                              'XGB'\n",
    "                               ],\n",
    "                     \n",
    "                   'F1-score': [dtree_pr['f1-score'],\n",
    "                              rf_pr['f1-score'],\n",
    "                              lr_pr['f1-score'],\n",
    "                              nb_pr['f1-score'],\n",
    "                              knn_pr['f1-score'],\n",
    "                              mlp_pr['f1-score'],\n",
    "                              xgb_pr['f1-score']\n",
    "                               ],\n",
    "                 \n",
    "                   'Accuracy': [dtree_pr['accuracy'],\n",
    "                              rf_pr['accuracy'],\n",
    "                              lr_pr['accuracy'],\n",
    "                              nb_pr['accuracy'],\n",
    "                              knn_pr['accuracy'],\n",
    "                              mlp_pr['accuracy'],\n",
    "                              xgb_pr['accuracy']\n",
    "                               ],\n",
    "                     \n",
    "         'F1-score after PCA':[dtree_pca_pr['f1-score'],\n",
    "                              rf_pca_pr['f1-score'],\n",
    "                              lr_pca_pr['f1-score'],\n",
    "                              nb_pca_pr['f1-score'],\n",
    "                              knn_pca_pr['f1-score'],\n",
    "                              mlp_pca_pr['f1-score'],\n",
    "                              xgb_pca_pr['f1-score']\n",
    "                               ],\n",
    "                               \n",
    "         'Accuracy after PCA':[dtree_pca_pr['accuracy'],\n",
    "                              rf_pca_pr['accuracy'],\n",
    "                              lr_pca_pr['accuracy'],\n",
    "                              nb_pca_pr['accuracy'],\n",
    "                              knn_pca_pr['accuracy'],\n",
    "                              mlp_pca_pr['accuracy'],\n",
    "                              xgb_pca_pr['accuracy']\n",
    "                               ],\n",
    "\n",
    "                    }\n",
    " \n",
    "# Create DataFrame\n",
    "prediction_table_all = pd.DataFrame(pca_prediction_data)\n",
    "prediction_table_all"
   ]
  },
  {
   "cell_type": "markdown",
   "id": "9996e772",
   "metadata": {},
   "source": [
    "None of the models improved both their metrics (f1_score and accuracy) after applying PCA. The Logistic Regression algorithm significantly improved its f1_score and lowered accuracy. The XGB model slightly improved its f1_score and worsened accuracy. After PCA, the Decision Tree has the highest f1_score value, but it has not changed compared to the previous results. The Random Forest and KNN models did not change their results. The accuracy metric has undergone minor fluctuations in some models. The results obtained from the first modeling seem to be better than those obtained after PCA."
   ]
  },
  {
   "cell_type": "markdown",
   "id": "2ce60536",
   "metadata": {},
   "source": [
    "## Further work will continue"
   ]
  },
  {
   "cell_type": "code",
   "execution_count": null,
   "id": "0403e027",
   "metadata": {},
   "outputs": [],
   "source": []
  },
  {
   "cell_type": "code",
   "execution_count": null,
   "id": "d9d01f62",
   "metadata": {},
   "outputs": [],
   "source": []
  },
  {
   "cell_type": "markdown",
   "id": "6d665814",
   "metadata": {},
   "source": [
    "## Choosing one model and fitting the parameters"
   ]
  },
  {
   "cell_type": "markdown",
   "id": "83dbcfb0",
   "metadata": {},
   "source": [
    "The Random Forest, Logistic Regression and the Support Vector Machine (SVM) seemed to be the best models with the highest F1-score and accuracy. The use of PCA on these models did not improve the results. All of these 3 models predicted that borrowers would always or almost always repay their loans (almost all predictions in y_pred were 1). Therefore, there was a choice between models: Decision Tree, Naive Bayes (before PCA) and K-NearestNeighbors(KNN). The K Nearest Neighbor (KNN) model was chosen as the final one for slightly better results - accuracy 0.78 and f1-score 0.88."
   ]
  },
  {
   "cell_type": "code",
   "execution_count": null,
   "id": "339b619f",
   "metadata": {},
   "outputs": [],
   "source": [
    "# Using standardized data from the previous KNN model (before PCA) and checking the shape\n",
    "\n",
    "print(X_scaled_train.shape)\n",
    "print(X_scaled_test.shape)\n",
    "print(y_scaled_train.shape)\n",
    "print(y_scaled_test.shape)"
   ]
  },
  {
   "cell_type": "code",
   "execution_count": null,
   "id": "e1cbd8e7",
   "metadata": {},
   "outputs": [],
   "source": [
    "# Searching for the best number of neighbors \n",
    "\n",
    "from sklearn.model_selection import cross_val_score\n",
    "\n",
    "k_values = [i for i in range (1,6)]\n",
    "scores = []\n",
    "\n",
    "X_scaled_train = scaler.fit_transform(X_scaled_train)\n",
    "\n",
    "for k in k_values:\n",
    "    knn_k = KNeighborsClassifier(n_neighbors=k)\n",
    "    score = cross_val_score(knn_k, X_scaled_train, y_scaled_train, cv=5)\n",
    "    scores.append(np.mean(score))\n",
    "    \n",
    "sns.lineplot(x = k_values, y = scores, marker = 'o')\n",
    "plt.xticks([1, 2, 3, 4, 5])\n",
    "plt.xlabel(\"K Values\")\n",
    "plt.ylabel(\"Accuracy Score\")\n"
   ]
  },
  {
   "cell_type": "code",
   "execution_count": null,
   "id": "6028a040",
   "metadata": {},
   "outputs": [],
   "source": [
    "acc_scores = pd.DataFrame({'n_neighbors': [1, 2, 3, 4, 5],\n",
    "                           \n",
    "                          'Accuracy': [scores[0],\n",
    "                                       scores[1],\n",
    "                                       scores[2],\n",
    "                                       scores[3],\n",
    "                                       scores[4],\n",
    "                                                                             \n",
    "                                      ]})\n",
    "\n",
    "acc_scores.style.hide_index()"
   ]
  },
  {
   "cell_type": "code",
   "execution_count": null,
   "id": "4680faa4",
   "metadata": {},
   "outputs": [],
   "source": [
    "# Gread Search Cross Validation for the best hyperparameters\n",
    "\n",
    "from sklearn.model_selection import GridSearchCV\n",
    "grid_params = { 'n_neighbors' : [1, 2, 3, 4, 5],\n",
    "               'weights' : ['uniform', 'distance'],\n",
    "               'metric' : ['minkowski','euclidean','manhattan']}\n",
    "\n",
    "gs = GridSearchCV(KNeighborsClassifier(), grid_params, cv=3, n_jobs = -1)"
   ]
  },
  {
   "cell_type": "code",
   "execution_count": null,
   "id": "8978949d",
   "metadata": {},
   "outputs": [],
   "source": [
    "# Fitting the model on the train set\n",
    "\n",
    "g_res = gs.fit(X_scaled_train, y_scaled_train)"
   ]
  },
  {
   "cell_type": "code",
   "execution_count": null,
   "id": "7eb693e0",
   "metadata": {},
   "outputs": [],
   "source": [
    "# Finding the best score\n",
    "\n",
    "g_res.best_score_"
   ]
  },
  {
   "cell_type": "code",
   "execution_count": null,
   "id": "f0e022e4",
   "metadata": {},
   "outputs": [],
   "source": [
    "g_res.best_params_"
   ]
  },
  {
   "cell_type": "code",
   "execution_count": null,
   "id": "c1605fad",
   "metadata": {},
   "outputs": [],
   "source": [
    "# Checking the data balance and confusion matrix\n",
    "\n",
    "knn_5 = KNeighborsClassifier(n_neighbors=5, metric='manhattan')\n",
    "knn_5.fit(X_scaled_train, y_scaled_train)"
   ]
  },
  {
   "cell_type": "code",
   "execution_count": null,
   "id": "bc01dd5a",
   "metadata": {},
   "outputs": [],
   "source": [
    "y_pred5 = knn_5.predict(X_scaled_test)\n",
    "count_y_pred5 = np.unique(y_pred5, return_counts=True)\n",
    "count_y_pred5"
   ]
  },
  {
   "cell_type": "code",
   "execution_count": null,
   "id": "03fee5bf",
   "metadata": {},
   "outputs": [],
   "source": [
    "matrix_k5 = confusion_matrix(y_scaled_test, y_pred5)\n",
    "matrix_k5"
   ]
  },
  {
   "cell_type": "markdown",
   "id": "90cf3126",
   "metadata": {},
   "source": [
    "The high accuracy of this model is due to the very large number of true positive predictions. It is likely that the model will show positive loan capacity in most applications, which will be unfavorable for the loan company."
   ]
  },
  {
   "cell_type": "code",
   "execution_count": null,
   "id": "d0a66c50",
   "metadata": {},
   "outputs": [],
   "source": [
    "knn_4 = KNeighborsClassifier(n_neighbors=4, metric='manhattan')\n",
    "knn_4.fit(X_scaled_train, y_scaled_train)"
   ]
  },
  {
   "cell_type": "code",
   "execution_count": null,
   "id": "ff4f9dd2",
   "metadata": {},
   "outputs": [],
   "source": [
    "y_pred4 = knn_4.predict(X_scaled_test)\n",
    "count_y_pred4 = np.unique(y_pred4, return_counts=True)\n",
    "count_y_pred4"
   ]
  },
  {
   "cell_type": "code",
   "execution_count": null,
   "id": "27e40a6e",
   "metadata": {},
   "outputs": [],
   "source": [
    "matrix_k4 = confusion_matrix(y_scaled_test, y_pred4)\n",
    "matrix_k4"
   ]
  },
  {
   "cell_type": "code",
   "execution_count": null,
   "id": "ceb94312",
   "metadata": {},
   "outputs": [],
   "source": [
    "knn_3 = KNeighborsClassifier(n_neighbors=3, metric='manhattan')\n",
    "knn_3.fit(X_scaled_train, y_scaled_train)"
   ]
  },
  {
   "cell_type": "code",
   "execution_count": null,
   "id": "ff4f1f5a",
   "metadata": {},
   "outputs": [],
   "source": [
    "y_pred3 = knn_3.predict(X_scaled_test)\n",
    "count_y_pred3 = np.unique(y_pred3, return_counts=True)\n",
    "count_y_pred3"
   ]
  },
  {
   "cell_type": "code",
   "execution_count": null,
   "id": "e16bdb52",
   "metadata": {},
   "outputs": [],
   "source": [
    "matrix_k3 = confusion_matrix(y_scaled_test, y_pred3)\n",
    "matrix_k3"
   ]
  },
  {
   "cell_type": "markdown",
   "id": "0430fc9b",
   "metadata": {},
   "source": [
    "For the model with 4 and 3 neighbors, the situation is similar to the model with 5 neighbors."
   ]
  },
  {
   "cell_type": "code",
   "execution_count": null,
   "id": "0a78fe42",
   "metadata": {},
   "outputs": [],
   "source": [
    "knn_2 = KNeighborsClassifier(n_neighbors=2, metric='manhattan')\n",
    "knn_2.fit(X_scaled_train, y_scaled_train)"
   ]
  },
  {
   "cell_type": "code",
   "execution_count": null,
   "id": "6b66c7aa",
   "metadata": {},
   "outputs": [],
   "source": [
    "y_pred2 = knn_2.predict(X_scaled_test)\n",
    "count_y_pred2 = np.unique(y_pred2, return_counts=True)\n",
    "count_y_pred2"
   ]
  },
  {
   "cell_type": "code",
   "execution_count": null,
   "id": "bf72e014",
   "metadata": {},
   "outputs": [],
   "source": [
    "matrix_k2 = confusion_matrix(y_scaled_test, y_pred2)\n",
    "matrix_k2"
   ]
  },
  {
   "cell_type": "code",
   "execution_count": null,
   "id": "03f03c92",
   "metadata": {},
   "outputs": [],
   "source": [
    "knn_1 = KNeighborsClassifier(n_neighbors=1, metric='manhattan')\n",
    "knn_1 = knn_1.fit(X_scaled_train, y_scaled_train)"
   ]
  },
  {
   "cell_type": "code",
   "execution_count": null,
   "id": "2b31d5b5",
   "metadata": {},
   "outputs": [],
   "source": [
    "y_pred1 = knn_1.predict(X_scaled_test)\n",
    "count_y_pred1 = np.unique(y_pred1, return_counts=True)\n",
    "count_y_pred1"
   ]
  },
  {
   "cell_type": "code",
   "execution_count": null,
   "id": "b7514c72",
   "metadata": {},
   "outputs": [],
   "source": [
    "matrix_k1 = confusion_matrix(y_scaled_test, y_pred1)\n",
    "matrix_k1"
   ]
  },
  {
   "cell_type": "code",
   "execution_count": null,
   "id": "7df57a82",
   "metadata": {},
   "outputs": [],
   "source": [
    "print(classification_report(y_scaled_test, y_pred1, zero_division=1))\n",
    "\n",
    "knn_1_pr = evaluate(y_pred1, y_scaled_test)\n",
    "knn_1_pr"
   ]
  },
  {
   "cell_type": "markdown",
   "id": "b0b8c46c",
   "metadata": {},
   "source": [
    "For n_neighbors = 2 are more true negative (TN) answers and fewer true positive (TP) answers than for n_neighbors = 1. For n_neighbors = 2 the accuracy and f1_score were 0.72 and 0.83 and for n_neighbors = 1 the scores were 0.79 and 0.88 respectively. The KNN model with 1 neighbor was chosen as the final one after hyperparameters tuning."
   ]
  },
  {
   "cell_type": "code",
   "execution_count": null,
   "id": "b8c77186",
   "metadata": {},
   "outputs": [],
   "source": [
    "y_proba = knn.predict_proba(X_scaled_test)[:, 1]\n",
    "y_proba"
   ]
  },
  {
   "cell_type": "code",
   "execution_count": null,
   "id": "c7c80402",
   "metadata": {},
   "outputs": [],
   "source": [
    "# Ploting the roc_curve and calculating the roc_auc_score\n",
    "\n",
    "from sklearn.metrics import roc_curve\n",
    "from sklearn.metrics import roc_auc_score\n",
    "\n",
    "rp_auc = roc_auc_score(y_scaled_test, y_pred1)\n",
    "rf_auc = roc_auc_score(y_scaled_test, y_proba)\n",
    "\n",
    "# Summarizing scores\n",
    "print('Random prediction: ROC AUC=%.3f' % (rp_auc))\n",
    "print('KNN model: ROC AUC=%.3f' % (rf_auc))\n",
    "\n",
    "# Calculating roc curves\n",
    "rp_fpr, rp_tpr, _ = roc_curve(y_scaled_test, y_pred1)\n",
    "rf_fpr, rf_tpr, _ = roc_curve(y_scaled_test, y_proba)\n",
    "\n",
    "# Ploting the roc curve for the model\n",
    "plt.figure(figsize=(12,8))\n",
    "plt.plot(rp_fpr, rp_tpr, linestyle='--', label='Random prediction')\n",
    "plt.plot(rf_fpr, rf_tpr, marker='.', label='KNN model')\n",
    "plt.xlabel('False Positive Rate')\n",
    "plt.ylabel('True Positive Rate')\n",
    "plt.legend()\n",
    "plt.show()"
   ]
  },
  {
   "cell_type": "markdown",
   "id": "1e7afb37",
   "metadata": {},
   "source": [
    "## Prediction using the K Nearest Neighbors (KNN)"
   ]
  },
  {
   "cell_type": "code",
   "execution_count": null,
   "id": "3c4cff62",
   "metadata": {},
   "outputs": [],
   "source": [
    "# Prediction of first 20 values\n",
    "\n",
    "print('Predicted values:', y_pred1[0:20])\n",
    "print('Real values: \\n', y_scaled_test[:20]) "
   ]
  },
  {
   "cell_type": "code",
   "execution_count": null,
   "id": "b204b13e",
   "metadata": {},
   "outputs": [],
   "source": [
    "print('Well-predicted values in testing:', (y_scaled_test == y_pred1).sum())\n",
    "print('All values in testing part:', y_scaled_test.shape[0])\n",
    "print()\n",
    "print('Accuracy = Well-predicted values in testing part/ All values in testing part:', ((y_scaled_test == y_pred1).sum() / y_scaled_test.shape[0]).round(4))\n",
    "print()\n",
    "print('Accuracy with sklearn:', knn_1.score(X_scaled_test, y_scaled_test).round(4))"
   ]
  },
  {
   "cell_type": "markdown",
   "id": "e9d6bb98",
   "metadata": {},
   "source": [
    "## Trying out the model on selected data"
   ]
  },
  {
   "cell_type": "code",
   "execution_count": null,
   "id": "ae7dbd09",
   "metadata": {},
   "outputs": [],
   "source": [
    "# Correlation between loan_status and other features\n",
    "\n",
    "df[df.columns[0:]].corr()['loan_status'][:].sort_values(key=abs, ascending=False)"
   ]
  },
  {
   "cell_type": "code",
   "execution_count": null,
   "id": "74cff9b3",
   "metadata": {},
   "outputs": [],
   "source": [
    "# Selection of variables to test the model (based not on the correlation with loan_status)\n",
    "\n",
    "new_X = df[['int_rate', 'sub_grade', 'term', 'fico_score', 'loan_amnt']].values\n",
    "new_y = y"
   ]
  },
  {
   "cell_type": "code",
   "execution_count": null,
   "id": "fd4124e9",
   "metadata": {},
   "outputs": [],
   "source": [
    "knn_1.fit(new_X, new_y)"
   ]
  },
  {
   "cell_type": "code",
   "execution_count": null,
   "id": "ed38af52",
   "metadata": {},
   "outputs": [],
   "source": [
    "y_pred_new = knn_1.predict(new_X)"
   ]
  },
  {
   "cell_type": "code",
   "execution_count": null,
   "id": "f5f30fea",
   "metadata": {},
   "outputs": [],
   "source": [
    "print(new_y[:20].values)\n",
    "print(y_pred_new[:20])"
   ]
  },
  {
   "cell_type": "code",
   "execution_count": null,
   "id": "31ffdb22",
   "metadata": {},
   "outputs": [],
   "source": [
    "knn_new_count = np.unique(y_pred_new, return_counts=True)\n",
    "knn_new_count"
   ]
  },
  {
   "cell_type": "code",
   "execution_count": null,
   "id": "61f0ba8a",
   "metadata": {},
   "outputs": [],
   "source": [
    "matrix_new = confusion_matrix(new_y, y_pred_new)\n",
    "matrix_new"
   ]
  },
  {
   "cell_type": "code",
   "execution_count": null,
   "id": "76afbc64",
   "metadata": {},
   "outputs": [],
   "source": [
    "print(classification_report(new_y, y_pred_new, zero_division=1))\n",
    "\n",
    "knn_new_pr = evaluate(y_pred_new, new_y)\n",
    "knn_new_pr"
   ]
  },
  {
   "cell_type": "code",
   "execution_count": null,
   "id": "1050ddce",
   "metadata": {},
   "outputs": [],
   "source": [
    "# Enter the appropriate values to predict the probability that the loan will be repaid:\n",
    "\n",
    "int_rate = float(input('Interest Rate on the loan: (5 - 25): '))\n",
    "sub_grade = int(input('LC assigned loan subgrade (1 - 7 / 1: best): '))\n",
    "term = int(input('The number of payments on the loan (36 or 60 months): '))\n",
    "fico_score = int(input('FICO score (500 - 850): '))\n",
    "loan_amnt = float(input('The listed amount of the loan applied for by the borrower (500 - 35000): '))"
   ]
  },
  {
   "cell_type": "code",
   "execution_count": null,
   "id": "c745b3d7",
   "metadata": {},
   "outputs": [],
   "source": [
    "# Predicting whether the customer will pay off the loan (0 - No or 1 - Yes)\n",
    "\n",
    "print(knn_1.predict([[int_rate, sub_grade, term, fico_score, loan_amnt]]))"
   ]
  },
  {
   "cell_type": "markdown",
   "id": "35afd1ff",
   "metadata": {},
   "source": [
    "# Conclusion"
   ]
  },
  {
   "cell_type": "markdown",
   "id": "0d1bb651",
   "metadata": {},
   "source": [
    "The project, which concerns predicting whether Lending Club clients will pay off their loans, has been divided into 4 parts: Data Processing, Exploratory Data Analysis, Feature Engineering, and Modeling. After a thorough cleaning of the data and the introduction of new ones, machine learning models were implemented. Six of them were tested: Decision Tree, Logistic Regression, Random Forest, Naive Bayes, Support Vector Machine (SVM), and K-Nearest Neighbors (KNN). The three models gave similar accuracy and f1-score results (Random Forest, Logistic Regression and Support Vector Machine). Based on the prepared data, the these 3 models predicted that the vast majority of the potential borrowers would repay their loan. Such a solution would be useless for the lending company. The three other models showed similar results. Finally, the K Nearest Neighbors model (the best model) was used to predict whether borrowers would be able to repay their loans. The dependent variables correlated with the target (loan_status) were selected and the K Nearest Neighbors model was built only with them. By manually entering the selected 5 variables mentioned above, the model predicts whether the new borrower will be able to repay the loan or not."
   ]
  }
 ],
 "metadata": {
  "kernelspec": {
   "display_name": "Python 3 (ipykernel)",
   "language": "python",
   "name": "python3"
  },
  "language_info": {
   "codemirror_mode": {
    "name": "ipython",
    "version": 3
   },
   "file_extension": ".py",
   "mimetype": "text/x-python",
   "name": "python",
   "nbconvert_exporter": "python",
   "pygments_lexer": "ipython3",
   "version": "3.9.13"
  }
 },
 "nbformat": 4,
 "nbformat_minor": 5
}
