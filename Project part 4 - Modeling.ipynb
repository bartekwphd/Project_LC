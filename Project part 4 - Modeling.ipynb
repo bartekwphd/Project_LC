{
 "cells": [
  {
   "cell_type": "markdown",
   "id": "18e46fd8",
   "metadata": {},
   "source": [
    "# Part 4 - Modeling"
   ]
  },
  {
   "cell_type": "code",
   "execution_count": 1,
   "id": "42ea66cd",
   "metadata": {},
   "outputs": [],
   "source": [
    "# Load packages\n",
    "\n",
    "import numpy as np\n",
    "import pandas as pd\n",
    "import seaborn as sns\n",
    "import matplotlib.pyplot as plt"
   ]
  },
  {
   "cell_type": "code",
   "execution_count": 2,
   "id": "51d9edbe",
   "metadata": {},
   "outputs": [
    {
     "data": {
      "text/html": [
       "<div>\n",
       "<style scoped>\n",
       "    .dataframe tbody tr th:only-of-type {\n",
       "        vertical-align: middle;\n",
       "    }\n",
       "\n",
       "    .dataframe tbody tr th {\n",
       "        vertical-align: top;\n",
       "    }\n",
       "\n",
       "    .dataframe thead th {\n",
       "        text-align: right;\n",
       "    }\n",
       "</style>\n",
       "<table border=\"1\" class=\"dataframe\">\n",
       "  <thead>\n",
       "    <tr style=\"text-align: right;\">\n",
       "      <th></th>\n",
       "      <th>loan_status</th>\n",
       "      <th>loan_amnt</th>\n",
       "      <th>term</th>\n",
       "      <th>int_rate</th>\n",
       "      <th>installment</th>\n",
       "      <th>sub_grade</th>\n",
       "      <th>emp_length</th>\n",
       "      <th>annual_inc</th>\n",
       "      <th>purpose</th>\n",
       "      <th>dti</th>\n",
       "      <th>delinq_2yrs</th>\n",
       "      <th>inq_last_6mths</th>\n",
       "      <th>open_acc</th>\n",
       "      <th>pub_rec</th>\n",
       "      <th>revol_bal</th>\n",
       "      <th>revol_util</th>\n",
       "      <th>total_acc</th>\n",
       "      <th>pub_rec_bankruptcies</th>\n",
       "      <th>fico_score</th>\n",
       "      <th>fico_class</th>\n",
       "      <th>home_ownership_MORTGAGE</th>\n",
       "      <th>home_ownership_NONE</th>\n",
       "      <th>home_ownership_OTHER</th>\n",
       "      <th>home_ownership_OWN</th>\n",
       "      <th>home_ownership_RENT</th>\n",
       "      <th>verif_stat</th>\n",
       "      <th>year_issue</th>\n",
       "      <th>month_issue</th>\n",
       "      <th>year_ecl</th>\n",
       "      <th>month_ecl</th>\n",
       "      <th>geo_loc</th>\n",
       "      <th>geo_loc_ns</th>\n",
       "      <th>geo_loc_we</th>\n",
       "    </tr>\n",
       "  </thead>\n",
       "  <tbody>\n",
       "    <tr>\n",
       "      <th>0</th>\n",
       "      <td>1</td>\n",
       "      <td>5000.0</td>\n",
       "      <td>36</td>\n",
       "      <td>10.65</td>\n",
       "      <td>162.87</td>\n",
       "      <td>2</td>\n",
       "      <td>10.0</td>\n",
       "      <td>24000.0</td>\n",
       "      <td>1</td>\n",
       "      <td>27.65</td>\n",
       "      <td>0.0</td>\n",
       "      <td>1.0</td>\n",
       "      <td>3.0</td>\n",
       "      <td>0.0</td>\n",
       "      <td>13648.0</td>\n",
       "      <td>83.7</td>\n",
       "      <td>76.0</td>\n",
       "      <td>0.0</td>\n",
       "      <td>737</td>\n",
       "      <td>1</td>\n",
       "      <td>0</td>\n",
       "      <td>0</td>\n",
       "      <td>0</td>\n",
       "      <td>0</td>\n",
       "      <td>1</td>\n",
       "      <td>3</td>\n",
       "      <td>2011</td>\n",
       "      <td>12</td>\n",
       "      <td>3</td>\n",
       "      <td>1</td>\n",
       "      <td>4</td>\n",
       "      <td>2</td>\n",
       "      <td>2</td>\n",
       "    </tr>\n",
       "    <tr>\n",
       "      <th>1</th>\n",
       "      <td>0</td>\n",
       "      <td>2500.0</td>\n",
       "      <td>60</td>\n",
       "      <td>15.27</td>\n",
       "      <td>59.83</td>\n",
       "      <td>3</td>\n",
       "      <td>0.0</td>\n",
       "      <td>30000.0</td>\n",
       "      <td>3</td>\n",
       "      <td>1.00</td>\n",
       "      <td>0.0</td>\n",
       "      <td>5.0</td>\n",
       "      <td>3.0</td>\n",
       "      <td>0.0</td>\n",
       "      <td>1687.0</td>\n",
       "      <td>9.4</td>\n",
       "      <td>76.0</td>\n",
       "      <td>0.0</td>\n",
       "      <td>742</td>\n",
       "      <td>2</td>\n",
       "      <td>0</td>\n",
       "      <td>0</td>\n",
       "      <td>0</td>\n",
       "      <td>0</td>\n",
       "      <td>1</td>\n",
       "      <td>2</td>\n",
       "      <td>2011</td>\n",
       "      <td>12</td>\n",
       "      <td>2</td>\n",
       "      <td>4</td>\n",
       "      <td>3</td>\n",
       "      <td>2</td>\n",
       "      <td>1</td>\n",
       "    </tr>\n",
       "    <tr>\n",
       "      <th>2</th>\n",
       "      <td>1</td>\n",
       "      <td>2400.0</td>\n",
       "      <td>36</td>\n",
       "      <td>15.96</td>\n",
       "      <td>84.33</td>\n",
       "      <td>3</td>\n",
       "      <td>10.0</td>\n",
       "      <td>12252.0</td>\n",
       "      <td>4</td>\n",
       "      <td>8.72</td>\n",
       "      <td>0.0</td>\n",
       "      <td>2.0</td>\n",
       "      <td>2.0</td>\n",
       "      <td>0.0</td>\n",
       "      <td>2956.0</td>\n",
       "      <td>98.5</td>\n",
       "      <td>76.0</td>\n",
       "      <td>0.0</td>\n",
       "      <td>737</td>\n",
       "      <td>1</td>\n",
       "      <td>0</td>\n",
       "      <td>0</td>\n",
       "      <td>0</td>\n",
       "      <td>0</td>\n",
       "      <td>1</td>\n",
       "      <td>1</td>\n",
       "      <td>2011</td>\n",
       "      <td>12</td>\n",
       "      <td>1</td>\n",
       "      <td>11</td>\n",
       "      <td>1</td>\n",
       "      <td>1</td>\n",
       "      <td>1</td>\n",
       "    </tr>\n",
       "    <tr>\n",
       "      <th>3</th>\n",
       "      <td>1</td>\n",
       "      <td>10000.0</td>\n",
       "      <td>36</td>\n",
       "      <td>13.49</td>\n",
       "      <td>339.31</td>\n",
       "      <td>3</td>\n",
       "      <td>10.0</td>\n",
       "      <td>49200.0</td>\n",
       "      <td>4</td>\n",
       "      <td>20.00</td>\n",
       "      <td>0.0</td>\n",
       "      <td>1.0</td>\n",
       "      <td>10.0</td>\n",
       "      <td>0.0</td>\n",
       "      <td>5598.0</td>\n",
       "      <td>21.0</td>\n",
       "      <td>76.0</td>\n",
       "      <td>0.0</td>\n",
       "      <td>692</td>\n",
       "      <td>1</td>\n",
       "      <td>0</td>\n",
       "      <td>0</td>\n",
       "      <td>0</td>\n",
       "      <td>0</td>\n",
       "      <td>1</td>\n",
       "      <td>2</td>\n",
       "      <td>2011</td>\n",
       "      <td>12</td>\n",
       "      <td>2</td>\n",
       "      <td>2</td>\n",
       "      <td>4</td>\n",
       "      <td>2</td>\n",
       "      <td>2</td>\n",
       "    </tr>\n",
       "    <tr>\n",
       "      <th>4</th>\n",
       "      <td>1</td>\n",
       "      <td>3000.0</td>\n",
       "      <td>60</td>\n",
       "      <td>12.69</td>\n",
       "      <td>67.79</td>\n",
       "      <td>2</td>\n",
       "      <td>1.0</td>\n",
       "      <td>80000.0</td>\n",
       "      <td>4</td>\n",
       "      <td>17.94</td>\n",
       "      <td>0.0</td>\n",
       "      <td>0.0</td>\n",
       "      <td>15.0</td>\n",
       "      <td>0.0</td>\n",
       "      <td>27783.0</td>\n",
       "      <td>53.9</td>\n",
       "      <td>76.0</td>\n",
       "      <td>0.0</td>\n",
       "      <td>697</td>\n",
       "      <td>1</td>\n",
       "      <td>0</td>\n",
       "      <td>0</td>\n",
       "      <td>0</td>\n",
       "      <td>0</td>\n",
       "      <td>1</td>\n",
       "      <td>2</td>\n",
       "      <td>2011</td>\n",
       "      <td>12</td>\n",
       "      <td>2</td>\n",
       "      <td>1</td>\n",
       "      <td>2</td>\n",
       "      <td>1</td>\n",
       "      <td>2</td>\n",
       "    </tr>\n",
       "  </tbody>\n",
       "</table>\n",
       "</div>"
      ],
      "text/plain": [
       "   loan_status  loan_amnt  term  int_rate  installment  sub_grade  emp_length  \\\n",
       "0            1     5000.0    36     10.65       162.87          2        10.0   \n",
       "1            0     2500.0    60     15.27        59.83          3         0.0   \n",
       "2            1     2400.0    36     15.96        84.33          3        10.0   \n",
       "3            1    10000.0    36     13.49       339.31          3        10.0   \n",
       "4            1     3000.0    60     12.69        67.79          2         1.0   \n",
       "\n",
       "   annual_inc  purpose    dti  delinq_2yrs  inq_last_6mths  open_acc  pub_rec  \\\n",
       "0     24000.0        1  27.65          0.0             1.0       3.0      0.0   \n",
       "1     30000.0        3   1.00          0.0             5.0       3.0      0.0   \n",
       "2     12252.0        4   8.72          0.0             2.0       2.0      0.0   \n",
       "3     49200.0        4  20.00          0.0             1.0      10.0      0.0   \n",
       "4     80000.0        4  17.94          0.0             0.0      15.0      0.0   \n",
       "\n",
       "   revol_bal  revol_util  total_acc  pub_rec_bankruptcies  fico_score  \\\n",
       "0    13648.0        83.7       76.0                   0.0         737   \n",
       "1     1687.0         9.4       76.0                   0.0         742   \n",
       "2     2956.0        98.5       76.0                   0.0         737   \n",
       "3     5598.0        21.0       76.0                   0.0         692   \n",
       "4    27783.0        53.9       76.0                   0.0         697   \n",
       "\n",
       "   fico_class  home_ownership_MORTGAGE  home_ownership_NONE  \\\n",
       "0           1                        0                    0   \n",
       "1           2                        0                    0   \n",
       "2           1                        0                    0   \n",
       "3           1                        0                    0   \n",
       "4           1                        0                    0   \n",
       "\n",
       "   home_ownership_OTHER  home_ownership_OWN  home_ownership_RENT  verif_stat  \\\n",
       "0                     0                   0                    1           3   \n",
       "1                     0                   0                    1           2   \n",
       "2                     0                   0                    1           1   \n",
       "3                     0                   0                    1           2   \n",
       "4                     0                   0                    1           2   \n",
       "\n",
       "   year_issue  month_issue  year_ecl  month_ecl  geo_loc  geo_loc_ns  \\\n",
       "0        2011           12         3          1        4           2   \n",
       "1        2011           12         2          4        3           2   \n",
       "2        2011           12         1         11        1           1   \n",
       "3        2011           12         2          2        4           2   \n",
       "4        2011           12         2          1        2           1   \n",
       "\n",
       "   geo_loc_we  \n",
       "0           2  \n",
       "1           1  \n",
       "2           1  \n",
       "3           2  \n",
       "4           2  "
      ]
     },
     "metadata": {},
     "output_type": "display_data"
    }
   ],
   "source": [
    "# Load dataset\n",
    "\n",
    "df = pd.read_csv('Part_3.csv')\n",
    "pd.set_option(\"display.max_columns\", None)\n",
    "display(df.head())"
   ]
  },
  {
   "cell_type": "code",
   "execution_count": 3,
   "id": "92a6b017",
   "metadata": {},
   "outputs": [
    {
     "name": "stdout",
     "output_type": "stream",
     "text": [
      "<class 'pandas.core.frame.DataFrame'>\n",
      "RangeIndex: 39786 entries, 0 to 39785\n",
      "Data columns (total 33 columns):\n",
      " #   Column                   Non-Null Count  Dtype  \n",
      "---  ------                   --------------  -----  \n",
      " 0   loan_status              39786 non-null  int64  \n",
      " 1   loan_amnt                39786 non-null  float64\n",
      " 2   term                     39786 non-null  int64  \n",
      " 3   int_rate                 39786 non-null  float64\n",
      " 4   installment              39786 non-null  float64\n",
      " 5   sub_grade                39786 non-null  int64  \n",
      " 6   emp_length               39786 non-null  float64\n",
      " 7   annual_inc               39786 non-null  float64\n",
      " 8   purpose                  39786 non-null  int64  \n",
      " 9   dti                      39786 non-null  float64\n",
      " 10  delinq_2yrs              39786 non-null  float64\n",
      " 11  inq_last_6mths           39786 non-null  float64\n",
      " 12  open_acc                 39786 non-null  float64\n",
      " 13  pub_rec                  39786 non-null  float64\n",
      " 14  revol_bal                39786 non-null  float64\n",
      " 15  revol_util               39786 non-null  float64\n",
      " 16  total_acc                39786 non-null  float64\n",
      " 17  pub_rec_bankruptcies     39786 non-null  float64\n",
      " 18  fico_score               39786 non-null  int64  \n",
      " 19  fico_class               39786 non-null  int64  \n",
      " 20  home_ownership_MORTGAGE  39786 non-null  int64  \n",
      " 21  home_ownership_NONE      39786 non-null  int64  \n",
      " 22  home_ownership_OTHER     39786 non-null  int64  \n",
      " 23  home_ownership_OWN       39786 non-null  int64  \n",
      " 24  home_ownership_RENT      39786 non-null  int64  \n",
      " 25  verif_stat               39786 non-null  int64  \n",
      " 26  year_issue               39786 non-null  int64  \n",
      " 27  month_issue              39786 non-null  int64  \n",
      " 28  year_ecl                 39786 non-null  int64  \n",
      " 29  month_ecl                39786 non-null  int64  \n",
      " 30  geo_loc                  39786 non-null  int64  \n",
      " 31  geo_loc_ns               39786 non-null  int64  \n",
      " 32  geo_loc_we               39786 non-null  int64  \n",
      "dtypes: float64(14), int64(19)\n",
      "memory usage: 10.0 MB\n"
     ]
    }
   ],
   "source": [
    "df.info()"
   ]
  },
  {
   "cell_type": "code",
   "execution_count": 4,
   "id": "bfa69f5b",
   "metadata": {},
   "outputs": [
    {
     "data": {
      "text/plain": [
       "loan_status                0.0\n",
       "loan_amnt                  0.0\n",
       "term                       0.0\n",
       "int_rate                   0.0\n",
       "installment                0.0\n",
       "sub_grade                  0.0\n",
       "emp_length                 0.0\n",
       "annual_inc                 0.0\n",
       "purpose                    0.0\n",
       "dti                        0.0\n",
       "delinq_2yrs                0.0\n",
       "inq_last_6mths             0.0\n",
       "open_acc                   0.0\n",
       "pub_rec                    0.0\n",
       "revol_bal                  0.0\n",
       "revol_util                 0.0\n",
       "total_acc                  0.0\n",
       "pub_rec_bankruptcies       0.0\n",
       "fico_score                 0.0\n",
       "fico_class                 0.0\n",
       "home_ownership_MORTGAGE    0.0\n",
       "home_ownership_NONE        0.0\n",
       "home_ownership_OTHER       0.0\n",
       "home_ownership_OWN         0.0\n",
       "home_ownership_RENT        0.0\n",
       "verif_stat                 0.0\n",
       "year_issue                 0.0\n",
       "month_issue                0.0\n",
       "year_ecl                   0.0\n",
       "month_ecl                  0.0\n",
       "geo_loc                    0.0\n",
       "geo_loc_ns                 0.0\n",
       "geo_loc_we                 0.0\n",
       "dtype: float64"
      ]
     },
     "execution_count": 4,
     "metadata": {},
     "output_type": "execute_result"
    }
   ],
   "source": [
    "round(100*(df.isnull().sum()/len(df.index)), 2)"
   ]
  },
  {
   "cell_type": "code",
   "execution_count": 5,
   "id": "6275f8fa",
   "metadata": {},
   "outputs": [
    {
     "data": {
      "text/plain": [
       "Index(['loan_status', 'loan_amnt', 'term', 'int_rate', 'installment',\n",
       "       'sub_grade', 'emp_length', 'annual_inc', 'purpose', 'dti',\n",
       "       'delinq_2yrs', 'inq_last_6mths', 'open_acc', 'pub_rec', 'revol_bal',\n",
       "       'revol_util', 'total_acc', 'pub_rec_bankruptcies', 'fico_score',\n",
       "       'fico_class', 'home_ownership_MORTGAGE', 'home_ownership_NONE',\n",
       "       'home_ownership_OTHER', 'home_ownership_OWN', 'home_ownership_RENT',\n",
       "       'verif_stat', 'year_issue', 'month_issue', 'year_ecl', 'month_ecl',\n",
       "       'geo_loc', 'geo_loc_ns', 'geo_loc_we'],\n",
       "      dtype='object')"
      ]
     },
     "execution_count": 5,
     "metadata": {},
     "output_type": "execute_result"
    }
   ],
   "source": [
    "df.columns"
   ]
  },
  {
   "cell_type": "code",
   "execution_count": 6,
   "id": "9fb7fa97",
   "metadata": {},
   "outputs": [
    {
     "data": {
      "text/plain": [
       "(39786, 33)"
      ]
     },
     "execution_count": 6,
     "metadata": {},
     "output_type": "execute_result"
    }
   ],
   "source": [
    "df.shape"
   ]
  },
  {
   "cell_type": "code",
   "execution_count": 7,
   "id": "9e94c412",
   "metadata": {},
   "outputs": [
    {
     "name": "stdout",
     "output_type": "stream",
     "text": [
      "       loan_status  loan_amnt      term  int_rate  installment  sub_grade  \\\n",
      "0         0.407673   0.834805  0.606139  0.369659     0.774762   0.417449   \n",
      "1         2.452943   1.169726  1.649787  0.869805     1.267963   0.302911   \n",
      "2         0.407673   1.183123  0.606139  1.054919     1.150694   0.302911   \n",
      "3         0.407673   0.164963  0.606139  0.392262     0.069770   0.302911   \n",
      "4         0.407673   1.102742  1.649787  0.177637     1.229863   0.417449   \n",
      "...            ...        ...       ...       ...          ...        ...   \n",
      "39781     0.407673   1.169726  0.606139  1.061827     1.178982   1.137809   \n",
      "39782     0.407673   0.365916  0.606139  0.468923     0.236232   0.302911   \n",
      "39783     0.407673   0.834805  0.606139  1.061827     0.803624   1.137809   \n",
      "39784     0.407673   0.834805  0.606139  1.233527     0.810612   1.137809   \n",
      "39785     0.407673   0.499884  0.606139  0.462016     0.331722   1.743631   \n",
      "\n",
      "       emp_length  annual_inc   purpose       dti  delinq_2yrs  \\\n",
      "0        1.407744    0.705423  0.740812  2.146113     0.297942   \n",
      "1        1.398659    0.611323  0.828788  1.844474     0.297942   \n",
      "2        1.407744    0.889671  1.613588  0.688476     0.297942   \n",
      "3        1.407744    0.310202  1.613588  1.000597     0.297942   \n",
      "4        1.118018    0.172845  1.613588  0.692132     0.297942   \n",
      "...           ...         ...       ...       ...          ...   \n",
      "39781    0.276098    0.643346  0.043988  0.297653     0.297942   \n",
      "39782    0.556738    0.799523  0.740812  1.035874     1.735322   \n",
      "39783    1.398659    0.486513  0.740812  1.649811     0.297942   \n",
      "39784    1.398659    2.054849  1.613588  1.437179     0.297942   \n",
      "39785    1.398659    0.736790  0.740812  0.145579     1.735322   \n",
      "\n",
      "       inq_last_6mths  open_acc   pub_rec  revol_bal  revol_util  total_acc  \\\n",
      "0            0.122377  1.433633  0.232043   0.020478    1.230339   0.180375   \n",
      "1            3.860500  1.433633  0.232043   0.755062    1.393390   0.180375   \n",
      "2            1.056908  1.661471  0.232043   0.672781    1.752966   0.180375   \n",
      "3            0.122377  0.161232  0.232043   0.501476    0.983764   0.180375   \n",
      "4            0.812153  1.300421  0.232043   0.936978    0.178022   0.180375   \n",
      "...               ...       ...       ...        ...         ...        ...   \n",
      "39781        0.812153  0.844745  0.232043   0.392806    1.262734   0.180375   \n",
      "39782        0.122377  0.750119  0.232043   0.290814    0.775419   0.180375   \n",
      "39783        0.812153  0.389070  0.232043   0.235636    1.040264   0.180375   \n",
      "39784        0.812153  1.756097  0.232043   5.390448    1.700610   0.180375   \n",
      "39785        0.812153  0.522282  0.232043   0.593742    0.093272   0.180375   \n",
      "\n",
      "       pub_rec_bankruptcies  fico_score  fico_class  home_ownership_MORTGAGE  \\\n",
      "0                  0.209847    0.558088    0.353303                 0.895353   \n",
      "1                  0.209847    0.697596    1.340050                 0.895353   \n",
      "2                  0.209847    0.558088    0.353303                 0.895353   \n",
      "3                  0.209847    0.697484    0.353303                 0.895353   \n",
      "4                  0.209847    0.557976    0.353303                 0.895353   \n",
      "...                     ...         ...         ...                      ...   \n",
      "39781              0.209847    1.255628    1.340050                 1.116878   \n",
      "39782              0.209847    0.697484    0.353303                 0.895353   \n",
      "39783              0.209847    0.697596    1.340050                 1.116878   \n",
      "39784              0.209847    2.650709    3.033403                 1.116878   \n",
      "39785              0.209847    1.534532    2.046657                 0.895353   \n",
      "\n",
      "       home_ownership_NONE  home_ownership_OTHER  home_ownership_OWN  \\\n",
      "0                 0.008684              0.049692            0.288856   \n",
      "1                 0.008684              0.049692            0.288856   \n",
      "2                 0.008684              0.049692            0.288856   \n",
      "3                 0.008684              0.049692            0.288856   \n",
      "4                 0.008684              0.049692            0.288856   \n",
      "...                    ...                   ...                 ...   \n",
      "39781             0.008684              0.049692            0.288856   \n",
      "39782             0.008684              0.049692            0.288856   \n",
      "39783             0.008684              0.049692            0.288856   \n",
      "39784             0.008684              0.049692            0.288856   \n",
      "39785             0.008684              0.049692            3.461934   \n",
      "\n",
      "       home_ownership_RENT  verif_stat  year_issue  month_issue  year_ecl  \\\n",
      "0                 1.050274    1.283719    0.763862     1.421299  1.600961   \n",
      "1                 1.050274    0.119452    0.763862     1.421299  0.271943   \n",
      "2                 1.050274    1.044814    0.763862     1.421299  1.057075   \n",
      "3                 1.050274    0.119452    0.763862     1.421299  0.271943   \n",
      "4                 1.050274    0.119452    0.763862     1.421299  0.271943   \n",
      "...                    ...         ...         ...          ...       ...   \n",
      "39781             0.952132    1.044814    3.796273     0.050947  0.271943   \n",
      "39782             1.050274    1.044814    3.796273     0.050947  1.600961   \n",
      "39783             0.952132    1.044814    3.796273     0.050947  0.271943   \n",
      "39784             0.952132    1.044814    3.796273     0.050947  1.600961   \n",
      "39785             0.952132    1.044814    3.796273     0.345397  1.057075   \n",
      "\n",
      "       month_ecl   geo_loc  geo_loc_ns  geo_loc_we  \n",
      "0       1.663877  1.320669    1.095309    1.297718  \n",
      "1       0.816584  0.552042    1.095309    0.770583  \n",
      "2       1.160434  0.985213    0.912985    0.770583  \n",
      "3       1.381446  1.320669    1.095309    1.297718  \n",
      "4       1.663877  0.216586    0.912985    1.297718  \n",
      "...          ...       ...         ...         ...  \n",
      "39781   1.160434  0.216586    0.912985    1.297718  \n",
      "39782   1.442865  0.552042    1.095309    0.770583  \n",
      "39783   0.878003  0.985213    0.912985    0.770583  \n",
      "39784   1.160434  0.985213    0.912985    0.770583  \n",
      "39785   0.878003  0.985213    0.912985    0.770583  \n",
      "\n",
      "[39786 rows x 33 columns]\n",
      "\n",
      "Below are the outliers - the index numbers and the corresponding column indices:\n",
      "(array([    1,     8,    10, ..., 39784, 39785, 39785], dtype=int64), array([11, 23, 23, ..., 26, 23, 26], dtype=int64))\n"
     ]
    }
   ],
   "source": [
    "# z-score\n",
    "\n",
    "from scipy import stats\n",
    "\n",
    "z = np.abs(stats.zscore(df[['loan_status', 'loan_amnt', 'term', 'int_rate', 'installment',\n",
    "       'sub_grade', 'emp_length', 'annual_inc', 'purpose', 'dti',\n",
    "       'delinq_2yrs', 'inq_last_6mths', 'open_acc', 'pub_rec', 'revol_bal',\n",
    "       'revol_util', 'total_acc', 'pub_rec_bankruptcies', 'fico_score',\n",
    "       'fico_class', 'home_ownership_MORTGAGE', 'home_ownership_NONE',\n",
    "       'home_ownership_OTHER', 'home_ownership_OWN', 'home_ownership_RENT', 'verif_stat', 'year_issue', 'month_issue',\n",
    "       'year_ecl', 'month_ecl', 'geo_loc', 'geo_loc_ns', 'geo_loc_we']]))\n",
    "print(z)\n",
    "print()\n",
    "\n",
    "# threshold = 3  # selecting 3 as the threshold to identify outliers\n",
    "print('Below are the outliers - the index numbers and the corresponding column indices:')\n",
    "print(np.where(z > 3))"
   ]
  },
  {
   "cell_type": "code",
   "execution_count": 8,
   "id": "a42dce4a",
   "metadata": {},
   "outputs": [],
   "source": [
    "# Removing outliers\n",
    "\n",
    "df_outliers_removed = df[(z<3).all(axis=1)]"
   ]
  },
  {
   "cell_type": "code",
   "execution_count": 9,
   "id": "2d53f881",
   "metadata": {},
   "outputs": [
    {
     "data": {
      "text/plain": [
       "(29802, 33)"
      ]
     },
     "execution_count": 9,
     "metadata": {},
     "output_type": "execute_result"
    }
   ],
   "source": [
    "# Data Frame shape after deleting outliers\n",
    "\n",
    "df_outliers_removed.shape"
   ]
  },
  {
   "cell_type": "markdown",
   "id": "f4c62bf0",
   "metadata": {},
   "source": [
    "### Clustering: KMeans\n",
    "#### Justifying methods: Silhouette score, Elbow-curve method, Dendrogram"
   ]
  },
  {
   "cell_type": "code",
   "execution_count": 10,
   "id": "cf7f4c42",
   "metadata": {},
   "outputs": [],
   "source": [
    "# Clustering\n",
    "\n",
    "from sklearn.cluster import KMeans\n",
    "from sklearn.metrics import silhouette_score\n",
    "from scipy.cluster.hierarchy import linkage\n",
    "from scipy.cluster.hierarchy import dendrogram\n",
    "from scipy.cluster.hierarchy import cut_tree"
   ]
  },
  {
   "cell_type": "code",
   "execution_count": 11,
   "id": "b1a5d6e4",
   "metadata": {},
   "outputs": [
    {
     "data": {
      "text/plain": [
       "KMeans(n_clusters=5)"
      ]
     },
     "execution_count": 11,
     "metadata": {},
     "output_type": "execute_result"
    }
   ],
   "source": [
    "kmeans = KMeans(n_clusters=5)\n",
    "kmeans.fit(df_outliers_removed)"
   ]
  },
  {
   "cell_type": "code",
   "execution_count": 12,
   "id": "23a9be2d",
   "metadata": {},
   "outputs": [
    {
     "data": {
      "text/plain": [
       "array([2, 2, 3, ..., 0, 2, 0])"
      ]
     },
     "execution_count": 12,
     "metadata": {},
     "output_type": "execute_result"
    }
   ],
   "source": [
    "kmeans.labels_"
   ]
  },
  {
   "cell_type": "code",
   "execution_count": 13,
   "id": "0da4cf80",
   "metadata": {},
   "outputs": [
    {
     "name": "stdout",
     "output_type": "stream",
     "text": [
      "For n_clusters=2, the silhouette score is 0.5437727344360981\n",
      "For n_clusters=3, the silhouette score is 0.4467772839418096\n",
      "For n_clusters=4, the silhouette score is 0.3949810767059705\n",
      "For n_clusters=5, the silhouette score is 0.3537944391417833\n"
     ]
    }
   ],
   "source": [
    "# Silhouette score\n",
    "\n",
    "range_n_clusters = [2, 3, 4, 5]\n",
    "\n",
    "for num_clusters in range_n_clusters:\n",
    "    \n",
    "    # intialise kmeans\n",
    "    kmeans = KMeans(n_clusters=num_clusters, max_iter=300)\n",
    "    kmeans.fit(df_outliers_removed)\n",
    "    \n",
    "    cluster_labels = kmeans.labels_\n",
    "    \n",
    "    # silhouette score\n",
    "    silhouette_avg = silhouette_score(df_outliers_removed, cluster_labels)\n",
    "    print(\"For n_clusters={0}, the silhouette score is {1}\".format(num_clusters, silhouette_avg))"
   ]
  },
  {
   "cell_type": "code",
   "execution_count": 14,
   "id": "19656e2b",
   "metadata": {},
   "outputs": [
    {
     "data": {
      "text/plain": [
       "KMeans(n_clusters=2, random_state=42)"
      ]
     },
     "execution_count": 14,
     "metadata": {},
     "output_type": "execute_result"
    }
   ],
   "source": [
    "kmeans = KMeans(n_clusters=2, random_state=42)\n",
    "kmeans.fit(df_outliers_removed)"
   ]
  },
  {
   "cell_type": "code",
   "execution_count": 15,
   "id": "ee1926c9",
   "metadata": {},
   "outputs": [
    {
     "data": {
      "text/plain": [
       "array([0, 0, 0, ..., 1, 0, 0])"
      ]
     },
     "execution_count": 15,
     "metadata": {},
     "output_type": "execute_result"
    }
   ],
   "source": [
    "kmeans.labels_"
   ]
  },
  {
   "cell_type": "code",
   "execution_count": 16,
   "id": "67de6dce",
   "metadata": {},
   "outputs": [
    {
     "name": "stderr",
     "output_type": "stream",
     "text": [
      "C:\\Users\\barte\\AppData\\Local\\Temp\\ipykernel_8668\\2888651360.py:1: SettingWithCopyWarning: \n",
      "A value is trying to be set on a copy of a slice from a DataFrame.\n",
      "Try using .loc[row_indexer,col_indexer] = value instead\n",
      "\n",
      "See the caveats in the documentation: https://pandas.pydata.org/pandas-docs/stable/user_guide/indexing.html#returning-a-view-versus-a-copy\n",
      "  df_outliers_removed['K-Means_Cluster_ID'] = kmeans.labels_\n"
     ]
    }
   ],
   "source": [
    "df_outliers_removed['K-Means_Cluster_ID'] = kmeans.labels_"
   ]
  },
  {
   "cell_type": "code",
   "execution_count": 17,
   "id": "a92a060c",
   "metadata": {},
   "outputs": [
    {
     "data": {
      "text/plain": [
       "0    22582\n",
       "1     7220\n",
       "Name: K-Means_Cluster_ID, dtype: int64"
      ]
     },
     "execution_count": 17,
     "metadata": {},
     "output_type": "execute_result"
    }
   ],
   "source": [
    "df_outliers_removed['K-Means_Cluster_ID'].value_counts()"
   ]
  },
  {
   "cell_type": "code",
   "execution_count": 18,
   "id": "98bf22ce",
   "metadata": {},
   "outputs": [
    {
     "data": {
      "text/plain": [
       "K-Means_Cluster_ID  loan_status\n",
       "0                   1              19273\n",
       "                    0               3309\n",
       "1                   1               6494\n",
       "                    0                726\n",
       "Name: loan_status, dtype: int64"
      ]
     },
     "execution_count": 18,
     "metadata": {},
     "output_type": "execute_result"
    }
   ],
   "source": [
    "df_outliers_removed.groupby('K-Means_Cluster_ID')['loan_status'].value_counts()"
   ]
  },
  {
   "cell_type": "code",
   "execution_count": 19,
   "id": "d38c8759",
   "metadata": {},
   "outputs": [
    {
     "data": {
      "text/html": [
       "<div>\n",
       "<style scoped>\n",
       "    .dataframe tbody tr th:only-of-type {\n",
       "        vertical-align: middle;\n",
       "    }\n",
       "\n",
       "    .dataframe tbody tr th {\n",
       "        vertical-align: top;\n",
       "    }\n",
       "\n",
       "    .dataframe thead th {\n",
       "        text-align: right;\n",
       "    }\n",
       "</style>\n",
       "<table border=\"1\" class=\"dataframe\">\n",
       "  <thead>\n",
       "    <tr style=\"text-align: right;\">\n",
       "      <th></th>\n",
       "      <th>count</th>\n",
       "      <th>mean</th>\n",
       "      <th>std</th>\n",
       "      <th>min</th>\n",
       "      <th>25%</th>\n",
       "      <th>50%</th>\n",
       "      <th>75%</th>\n",
       "      <th>max</th>\n",
       "    </tr>\n",
       "    <tr>\n",
       "      <th>K-Means_Cluster_ID</th>\n",
       "      <th></th>\n",
       "      <th></th>\n",
       "      <th></th>\n",
       "      <th></th>\n",
       "      <th></th>\n",
       "      <th></th>\n",
       "      <th></th>\n",
       "      <th></th>\n",
       "    </tr>\n",
       "  </thead>\n",
       "  <tbody>\n",
       "    <tr>\n",
       "      <th>0</th>\n",
       "      <td>22582.0</td>\n",
       "      <td>9638.458728</td>\n",
       "      <td>5972.755382</td>\n",
       "      <td>500.0</td>\n",
       "      <td>5000.0</td>\n",
       "      <td>8375.0</td>\n",
       "      <td>13000.0</td>\n",
       "      <td>33425.0</td>\n",
       "    </tr>\n",
       "    <tr>\n",
       "      <th>1</th>\n",
       "      <td>7220.0</td>\n",
       "      <td>14406.166898</td>\n",
       "      <td>7372.722951</td>\n",
       "      <td>1000.0</td>\n",
       "      <td>8100.0</td>\n",
       "      <td>14000.0</td>\n",
       "      <td>20000.0</td>\n",
       "      <td>33600.0</td>\n",
       "    </tr>\n",
       "  </tbody>\n",
       "</table>\n",
       "</div>"
      ],
      "text/plain": [
       "                      count          mean          std     min     25%  \\\n",
       "K-Means_Cluster_ID                                                       \n",
       "0                   22582.0   9638.458728  5972.755382   500.0  5000.0   \n",
       "1                    7220.0  14406.166898  7372.722951  1000.0  8100.0   \n",
       "\n",
       "                        50%      75%      max  \n",
       "K-Means_Cluster_ID                             \n",
       "0                    8375.0  13000.0  33425.0  \n",
       "1                   14000.0  20000.0  33600.0  "
      ]
     },
     "execution_count": 19,
     "metadata": {},
     "output_type": "execute_result"
    }
   ],
   "source": [
    "df_outliers_removed.groupby('K-Means_Cluster_ID')['loan_amnt'].describe()"
   ]
  },
  {
   "cell_type": "code",
   "execution_count": 20,
   "id": "09052d5e",
   "metadata": {},
   "outputs": [
    {
     "data": {
      "text/plain": [
       "KMeans(n_clusters=3, random_state=42)"
      ]
     },
     "execution_count": 20,
     "metadata": {},
     "output_type": "execute_result"
    }
   ],
   "source": [
    "kmeans = KMeans(n_clusters=3, random_state=42)\n",
    "kmeans.fit(df_outliers_removed)"
   ]
  },
  {
   "cell_type": "code",
   "execution_count": 21,
   "id": "866ffbef",
   "metadata": {},
   "outputs": [
    {
     "data": {
      "text/plain": [
       "array([0, 0, 0, ..., 2, 0, 2])"
      ]
     },
     "execution_count": 21,
     "metadata": {},
     "output_type": "execute_result"
    }
   ],
   "source": [
    "kmeans.labels_"
   ]
  },
  {
   "cell_type": "code",
   "execution_count": 22,
   "id": "87eadc12",
   "metadata": {},
   "outputs": [
    {
     "name": "stderr",
     "output_type": "stream",
     "text": [
      "C:\\Users\\barte\\AppData\\Local\\Temp\\ipykernel_8668\\2888651360.py:1: SettingWithCopyWarning: \n",
      "A value is trying to be set on a copy of a slice from a DataFrame.\n",
      "Try using .loc[row_indexer,col_indexer] = value instead\n",
      "\n",
      "See the caveats in the documentation: https://pandas.pydata.org/pandas-docs/stable/user_guide/indexing.html#returning-a-view-versus-a-copy\n",
      "  df_outliers_removed['K-Means_Cluster_ID'] = kmeans.labels_\n"
     ]
    }
   ],
   "source": [
    "df_outliers_removed['K-Means_Cluster_ID'] = kmeans.labels_"
   ]
  },
  {
   "cell_type": "code",
   "execution_count": 23,
   "id": "ead664e8",
   "metadata": {},
   "outputs": [
    {
     "data": {
      "text/plain": [
       "[<matplotlib.lines.Line2D at 0x1fd7dc2aa60>]"
      ]
     },
     "execution_count": 23,
     "metadata": {},
     "output_type": "execute_result"
    },
    {
     "data": {
      "image/png": "[encoded data removed]",
      "text/plain": [
       "<Figure size 640x480 with 1 Axes>"
      ]
     },
     "metadata": {},
     "output_type": "display_data"
    }
   ],
   "source": [
    "# Elbow-curve method\n",
    "\n",
    "ssd = [] # Sum of squared distances\n",
    "range_n_clusters = [1, 2, 3, 4, 5]\n",
    "for num_clusters in range_n_clusters:\n",
    "    kmeans = KMeans(n_clusters=num_clusters, max_iter=300)\n",
    "    kmeans.fit(df_outliers_removed)\n",
    "    \n",
    "    ssd.append(kmeans.inertia_) #Sum of squared distances\n",
    "    \n",
    "# plot the SSDs for each n_clusters\n",
    "plt.plot(range_n_clusters, ssd)"
   ]
  },
  {
   "cell_type": "code",
   "execution_count": 24,
   "id": "4e06f70e",
   "metadata": {},
   "outputs": [
    {
     "data": {
      "text/plain": [
       "0    16205\n",
       "2    10978\n",
       "1     2619\n",
       "Name: K-Means_Cluster_ID, dtype: int64"
      ]
     },
     "execution_count": 24,
     "metadata": {},
     "output_type": "execute_result"
    }
   ],
   "source": [
    "df_outliers_removed['K-Means_Cluster_ID'].value_counts()"
   ]
  },
  {
   "cell_type": "code",
   "execution_count": 25,
   "id": "5889f83a",
   "metadata": {},
   "outputs": [
    {
     "data": {
      "text/plain": [
       "K-Means_Cluster_ID  loan_status\n",
       "0                   1              13691\n",
       "                    0               2514\n",
       "1                   1               2359\n",
       "                    0                260\n",
       "2                   1               9717\n",
       "                    0               1261\n",
       "Name: loan_status, dtype: int64"
      ]
     },
     "execution_count": 25,
     "metadata": {},
     "output_type": "execute_result"
    }
   ],
   "source": [
    "df_outliers_removed.groupby('K-Means_Cluster_ID')['loan_status'].value_counts()"
   ]
  },
  {
   "cell_type": "code",
   "execution_count": 26,
   "id": "fb5c70f6",
   "metadata": {},
   "outputs": [
    {
     "data": {
      "text/html": [
       "<div>\n",
       "<style scoped>\n",
       "    .dataframe tbody tr th:only-of-type {\n",
       "        vertical-align: middle;\n",
       "    }\n",
       "\n",
       "    .dataframe tbody tr th {\n",
       "        vertical-align: top;\n",
       "    }\n",
       "\n",
       "    .dataframe thead th {\n",
       "        text-align: right;\n",
       "    }\n",
       "</style>\n",
       "<table border=\"1\" class=\"dataframe\">\n",
       "  <thead>\n",
       "    <tr style=\"text-align: right;\">\n",
       "      <th></th>\n",
       "      <th>count</th>\n",
       "      <th>mean</th>\n",
       "      <th>std</th>\n",
       "      <th>min</th>\n",
       "      <th>25%</th>\n",
       "      <th>50%</th>\n",
       "      <th>75%</th>\n",
       "      <th>max</th>\n",
       "    </tr>\n",
       "    <tr>\n",
       "      <th>K-Means_Cluster_ID</th>\n",
       "      <th></th>\n",
       "      <th></th>\n",
       "      <th></th>\n",
       "      <th></th>\n",
       "      <th></th>\n",
       "      <th></th>\n",
       "      <th></th>\n",
       "      <th></th>\n",
       "    </tr>\n",
       "  </thead>\n",
       "  <tbody>\n",
       "    <tr>\n",
       "      <th>0</th>\n",
       "      <td>16205.0</td>\n",
       "      <td>8601.507251</td>\n",
       "      <td>5295.819811</td>\n",
       "      <td>500.0</td>\n",
       "      <td>4800.0</td>\n",
       "      <td>7500.0</td>\n",
       "      <td>12000.0</td>\n",
       "      <td>32000.0</td>\n",
       "    </tr>\n",
       "    <tr>\n",
       "      <th>1</th>\n",
       "      <td>2619.0</td>\n",
       "      <td>15350.792287</td>\n",
       "      <td>7589.547860</td>\n",
       "      <td>1000.0</td>\n",
       "      <td>9600.0</td>\n",
       "      <td>15000.0</td>\n",
       "      <td>21000.0</td>\n",
       "      <td>33600.0</td>\n",
       "    </tr>\n",
       "    <tr>\n",
       "      <th>2</th>\n",
       "      <td>10978.0</td>\n",
       "      <td>12941.979413</td>\n",
       "      <td>6975.593849</td>\n",
       "      <td>1000.0</td>\n",
       "      <td>7200.0</td>\n",
       "      <td>12000.0</td>\n",
       "      <td>18000.0</td>\n",
       "      <td>33600.0</td>\n",
       "    </tr>\n",
       "  </tbody>\n",
       "</table>\n",
       "</div>"
      ],
      "text/plain": [
       "                      count          mean          std     min     25%  \\\n",
       "K-Means_Cluster_ID                                                       \n",
       "0                   16205.0   8601.507251  5295.819811   500.0  4800.0   \n",
       "1                    2619.0  15350.792287  7589.547860  1000.0  9600.0   \n",
       "2                   10978.0  12941.979413  6975.593849  1000.0  7200.0   \n",
       "\n",
       "                        50%      75%      max  \n",
       "K-Means_Cluster_ID                             \n",
       "0                    7500.0  12000.0  32000.0  \n",
       "1                   15000.0  21000.0  33600.0  \n",
       "2                   12000.0  18000.0  33600.0  "
      ]
     },
     "execution_count": 26,
     "metadata": {},
     "output_type": "execute_result"
    }
   ],
   "source": [
    "df_outliers_removed.groupby('K-Means_Cluster_ID')['loan_amnt'].describe()"
   ]
  },
  {
   "cell_type": "markdown",
   "id": "690cda01",
   "metadata": {},
   "source": [
    "Regardless of the separation of 2 or 3 clusters, there is no clear division into the loan_status column: Fully Paid and Charged Off."
   ]
  },
  {
   "cell_type": "markdown",
   "id": "9e6f7e0b",
   "metadata": {},
   "source": [
    "## Boxplots for selected variables"
   ]
  },
  {
   "cell_type": "code",
   "execution_count": 27,
   "id": "a7c25447",
   "metadata": {},
   "outputs": [
    {
     "data": {
      "text/plain": [
       "<AxesSubplot:xlabel='K-Means_Cluster_ID', ylabel='installment'>"
      ]
     },
     "execution_count": 27,
     "metadata": {},
     "output_type": "execute_result"
    },
    {
     "data": {
      "image/png": "[encoded data removed]",
      "text/plain": [
       "<Figure size 1600x800 with 1 Axes>"
      ]
     },
     "metadata": {},
     "output_type": "display_data"
    }
   ],
   "source": [
    "plt.figure(figsize=(8,4),dpi=200)\n",
    "sns.boxplot(x=df_outliers_removed['K-Means_Cluster_ID'], y='installment', data=df_outliers_removed)"
   ]
  },
  {
   "cell_type": "code",
   "execution_count": 28,
   "id": "44344f6a",
   "metadata": {},
   "outputs": [
    {
     "data": {
      "text/plain": [
       "<AxesSubplot:xlabel='K-Means_Cluster_ID', ylabel='loan_amnt'>"
      ]
     },
     "execution_count": 28,
     "metadata": {},
     "output_type": "execute_result"
    },
    {
     "data": {
      "image/png": "[encoded data removed]",
      "text/plain": [
       "<Figure size 1600x800 with 1 Axes>"
      ]
     },
     "metadata": {},
     "output_type": "display_data"
    }
   ],
   "source": [
    "plt.figure(figsize=(8,4),dpi=200)\n",
    "sns.boxplot(x=df_outliers_removed['K-Means_Cluster_ID'], y='loan_amnt', data=df_outliers_removed)"
   ]
  },
  {
   "cell_type": "code",
   "execution_count": 29,
   "id": "2f952f2a",
   "metadata": {},
   "outputs": [
    {
     "data": {
      "text/plain": [
       "<AxesSubplot:xlabel='K-Means_Cluster_ID', ylabel='annual_inc'>"
      ]
     },
     "execution_count": 29,
     "metadata": {},
     "output_type": "execute_result"
    },
    {
     "data": {
      "image/png": "[encoded data removed]",
      "text/plain": [
       "<Figure size 1600x800 with 1 Axes>"
      ]
     },
     "metadata": {},
     "output_type": "display_data"
    }
   ],
   "source": [
    "plt.figure(figsize=(8,4),dpi=200)\n",
    "sns.boxplot(x=df_outliers_removed['K-Means_Cluster_ID'], y='annual_inc', data=df_outliers_removed)"
   ]
  },
  {
   "cell_type": "markdown",
   "id": "bddc948c",
   "metadata": {},
   "source": [
    "Mostly clusters are separated. Theoretically, there should be 2 clusters (Fully Paid and Charged Off), however, an additional cluster may include uncertain borrowers."
   ]
  },
  {
   "cell_type": "code",
   "execution_count": 30,
   "id": "eaa87391",
   "metadata": {},
   "outputs": [],
   "source": [
    "# Load libraries\n",
    "\n",
    "from sklearn.preprocessing import StandardScaler\n",
    "from sklearn.cluster import DBSCAN"
   ]
  },
  {
   "cell_type": "code",
   "execution_count": 31,
   "id": "4537f00b",
   "metadata": {},
   "outputs": [],
   "source": [
    "scaler = StandardScaler()\n",
    "df_outliers_removed = scaler.fit_transform(df_outliers_removed)"
   ]
  },
  {
   "cell_type": "code",
   "execution_count": 32,
   "id": "bb7b36b7",
   "metadata": {},
   "outputs": [
    {
     "data": {
      "text/plain": [
       "(29802, 34)"
      ]
     },
     "execution_count": 32,
     "metadata": {},
     "output_type": "execute_result"
    }
   ],
   "source": [
    "df_outliers_removed.shape"
   ]
  },
  {
   "cell_type": "markdown",
   "id": "17e93cda",
   "metadata": {},
   "source": [
    "### Decision Tree"
   ]
  },
  {
   "cell_type": "code",
   "execution_count": 33,
   "id": "996239c2",
   "metadata": {},
   "outputs": [],
   "source": [
    "from sklearn.model_selection import train_test_split"
   ]
  },
  {
   "cell_type": "code",
   "execution_count": 34,
   "id": "1f61a4e9",
   "metadata": {},
   "outputs": [],
   "source": [
    "X = df.drop('loan_status', axis=1)\n",
    "y = df['loan_status']"
   ]
  },
  {
   "cell_type": "code",
   "execution_count": 35,
   "id": "1083b4c9",
   "metadata": {},
   "outputs": [
    {
     "name": "stdout",
     "output_type": "stream",
     "text": [
      "<class 'pandas.core.frame.DataFrame'>\n",
      "RangeIndex: 39786 entries, 0 to 39785\n",
      "Data columns (total 33 columns):\n",
      " #   Column                   Non-Null Count  Dtype  \n",
      "---  ------                   --------------  -----  \n",
      " 0   loan_status              39786 non-null  int64  \n",
      " 1   loan_amnt                39786 non-null  float64\n",
      " 2   term                     39786 non-null  int64  \n",
      " 3   int_rate                 39786 non-null  float64\n",
      " 4   installment              39786 non-null  float64\n",
      " 5   sub_grade                39786 non-null  int64  \n",
      " 6   emp_length               39786 non-null  float64\n",
      " 7   annual_inc               39786 non-null  float64\n",
      " 8   purpose                  39786 non-null  int64  \n",
      " 9   dti                      39786 non-null  float64\n",
      " 10  delinq_2yrs              39786 non-null  float64\n",
      " 11  inq_last_6mths           39786 non-null  float64\n",
      " 12  open_acc                 39786 non-null  float64\n",
      " 13  pub_rec                  39786 non-null  float64\n",
      " 14  revol_bal                39786 non-null  float64\n",
      " 15  revol_util               39786 non-null  float64\n",
      " 16  total_acc                39786 non-null  float64\n",
      " 17  pub_rec_bankruptcies     39786 non-null  float64\n",
      " 18  fico_score               39786 non-null  int64  \n",
      " 19  fico_class               39786 non-null  int64  \n",
      " 20  home_ownership_MORTGAGE  39786 non-null  int64  \n",
      " 21  home_ownership_NONE      39786 non-null  int64  \n",
      " 22  home_ownership_OTHER     39786 non-null  int64  \n",
      " 23  home_ownership_OWN       39786 non-null  int64  \n",
      " 24  home_ownership_RENT      39786 non-null  int64  \n",
      " 25  verif_stat               39786 non-null  int64  \n",
      " 26  year_issue               39786 non-null  int64  \n",
      " 27  month_issue              39786 non-null  int64  \n",
      " 28  year_ecl                 39786 non-null  int64  \n",
      " 29  month_ecl                39786 non-null  int64  \n",
      " 30  geo_loc                  39786 non-null  int64  \n",
      " 31  geo_loc_ns               39786 non-null  int64  \n",
      " 32  geo_loc_we               39786 non-null  int64  \n",
      "dtypes: float64(14), int64(19)\n",
      "memory usage: 10.0 MB\n"
     ]
    }
   ],
   "source": [
    "df.info()"
   ]
  },
  {
   "cell_type": "code",
   "execution_count": 36,
   "id": "79cc6a66",
   "metadata": {},
   "outputs": [
    {
     "name": "stdout",
     "output_type": "stream",
     "text": [
      "(39786, 32)\n",
      "(39786,)\n"
     ]
    }
   ],
   "source": [
    "print(X.shape)\n",
    "print(y.shape)"
   ]
  },
  {
   "cell_type": "code",
   "execution_count": 37,
   "id": "39eafda2",
   "metadata": {},
   "outputs": [],
   "source": [
    "X_train, X_test, y_train, y_test = train_test_split(X, y, test_size=0.30, random_state=42)"
   ]
  },
  {
   "cell_type": "code",
   "execution_count": 38,
   "id": "2df38f1a",
   "metadata": {},
   "outputs": [
    {
     "name": "stdout",
     "output_type": "stream",
     "text": [
      "(27850, 32)\n",
      "(11936, 32)\n",
      "(27850,)\n",
      "(11936,)\n"
     ]
    }
   ],
   "source": [
    "# Checking the size of the data split\n",
    "\n",
    "print(X_train.shape)\n",
    "print(X_test.shape)\n",
    "print(y_train.shape)\n",
    "print(y_test.shape)"
   ]
  },
  {
   "cell_type": "code",
   "execution_count": 39,
   "id": "bac0ea22",
   "metadata": {},
   "outputs": [],
   "source": [
    "from sklearn.tree import DecisionTreeClassifier"
   ]
  },
  {
   "cell_type": "code",
   "execution_count": 40,
   "id": "e5b52915",
   "metadata": {},
   "outputs": [],
   "source": [
    "dtree = DecisionTreeClassifier()"
   ]
  },
  {
   "cell_type": "code",
   "execution_count": 41,
   "id": "99ca195a",
   "metadata": {},
   "outputs": [
    {
     "data": {
      "text/plain": [
       "DecisionTreeClassifier()"
      ]
     },
     "execution_count": 41,
     "metadata": {},
     "output_type": "execute_result"
    }
   ],
   "source": [
    "dtree.fit(X_train,y_train)"
   ]
  },
  {
   "cell_type": "code",
   "execution_count": 42,
   "id": "01ecc053",
   "metadata": {},
   "outputs": [],
   "source": [
    "def evaluate(prediction,y_test): \n",
    "    result = classification_report(y_test,prediction,output_dict=True, zero_division=1)\n",
    "    f1 = result['1']['f1-score']\n",
    "    accuracy = result['accuracy']\n",
    "    performance_data= {'f1-score':round(f1, 2),\n",
    "                      'accuracy':round(accuracy, 2)}\n",
    "    return performance_data"
   ]
  },
  {
   "cell_type": "code",
   "execution_count": 43,
   "id": "561971dd",
   "metadata": {},
   "outputs": [],
   "source": [
    "dt_prediction = dtree.predict(X_test)"
   ]
  },
  {
   "cell_type": "code",
   "execution_count": 44,
   "id": "ad624f20",
   "metadata": {},
   "outputs": [],
   "source": [
    "from sklearn.metrics import classification_report,confusion_matrix\n",
    "from sklearn.metrics import precision_score"
   ]
  },
  {
   "cell_type": "code",
   "execution_count": 45,
   "id": "f3b18dfb",
   "metadata": {},
   "outputs": [
    {
     "name": "stdout",
     "output_type": "stream",
     "text": [
      "              precision    recall  f1-score   support\n",
      "\n",
      "           0       0.19      0.23      0.21      1691\n",
      "           1       0.87      0.84      0.86     10245\n",
      "\n",
      "    accuracy                           0.76     11936\n",
      "   macro avg       0.53      0.54      0.53     11936\n",
      "weighted avg       0.77      0.76      0.76     11936\n",
      "\n"
     ]
    },
    {
     "data": {
      "text/plain": [
       "{'f1-score': 0.86, 'accuracy': 0.76}"
      ]
     },
     "execution_count": 45,
     "metadata": {},
     "output_type": "execute_result"
    }
   ],
   "source": [
    "print(classification_report(y_test,dt_prediction))\n",
    "\n",
    "dtree_pr= evaluate(dt_prediction,y_test)\n",
    "dtree_pr"
   ]
  },
  {
   "cell_type": "markdown",
   "id": "7e224fa5",
   "metadata": {},
   "source": [
    "### Random Forest"
   ]
  },
  {
   "cell_type": "code",
   "execution_count": 46,
   "id": "e1efbe38",
   "metadata": {},
   "outputs": [
    {
     "data": {
      "text/plain": [
       "RandomForestClassifier()"
      ]
     },
     "execution_count": 46,
     "metadata": {},
     "output_type": "execute_result"
    }
   ],
   "source": [
    "from sklearn.ensemble import RandomForestClassifier\n",
    "rf = RandomForestClassifier(n_estimators=100)\n",
    "rf.fit(X_train, y_train)"
   ]
  },
  {
   "cell_type": "code",
   "execution_count": 47,
   "id": "16ff52b7",
   "metadata": {},
   "outputs": [],
   "source": [
    "rf_prediction = rf.predict(X_test)"
   ]
  },
  {
   "cell_type": "code",
   "execution_count": 48,
   "id": "8fcdb1dc",
   "metadata": {},
   "outputs": [
    {
     "name": "stdout",
     "output_type": "stream",
     "text": [
      "              precision    recall  f1-score   support\n",
      "\n",
      "           0       0.30      0.01      0.01      1691\n",
      "           1       0.86      1.00      0.92     10245\n",
      "\n",
      "    accuracy                           0.86     11936\n",
      "   macro avg       0.58      0.50      0.47     11936\n",
      "weighted avg       0.78      0.86      0.79     11936\n",
      "\n",
      "{'f1-score': 0.92, 'accuracy': 0.86}\n"
     ]
    }
   ],
   "source": [
    "print(classification_report(y_test,rf_prediction))\n",
    "rf_pr = evaluate(rf_prediction,y_test)\n",
    "print(rf_pr)"
   ]
  },
  {
   "cell_type": "markdown",
   "id": "591c0e91",
   "metadata": {},
   "source": [
    "### Random Forest using Randomized Search"
   ]
  },
  {
   "cell_type": "code",
   "execution_count": 49,
   "id": "e53b91a1",
   "metadata": {},
   "outputs": [],
   "source": [
    "# Randomized Search \n",
    "\n",
    "from sklearn.model_selection import RandomizedSearchCV"
   ]
  },
  {
   "cell_type": "code",
   "execution_count": 50,
   "id": "b69654fb",
   "metadata": {},
   "outputs": [],
   "source": [
    "param_rand = {'n_estimators': np.arange(100,800,100),\n",
    "              'max_features' : ['auto', 'sqrt'],\n",
    "              'min_samples_leaf': [1,2,4],\n",
    "              'min_samples_split': [2, 5, 10],\n",
    "              'max_depth' : np.arange(10,100,10),\n",
    "              'max_leaf_nodes': np.arange(2,5,10),\n",
    "             }"
   ]
  },
  {
   "cell_type": "code",
   "execution_count": 51,
   "id": "09ebc5a3",
   "metadata": {},
   "outputs": [],
   "source": [
    "rf_random = RandomizedSearchCV(estimator = RandomForestClassifier(), param_distributions = param_rand, n_iter = 100,\n",
    "                               cv = 3, verbose=2, random_state=42, n_jobs = -1)"
   ]
  },
  {
   "cell_type": "code",
   "execution_count": 52,
   "id": "cdd3c092",
   "metadata": {},
   "outputs": [
    {
     "data": {
      "text/plain": [
       "RandomForestClassifier(max_depth=70, max_leaf_nodes=2, min_samples_split=5,\n",
       "                       n_estimators=600)"
      ]
     },
     "execution_count": 52,
     "metadata": {},
     "output_type": "execute_result"
    }
   ],
   "source": [
    "rf_randomized = RandomForestClassifier(n_estimators= 600,min_samples_split= 5, min_samples_leaf = 1,\n",
    "                                       max_leaf_nodes= 2,max_features= 'auto',max_depth= 70)\n",
    "rf_randomized.fit(X_train,y_train)"
   ]
  },
  {
   "cell_type": "code",
   "execution_count": 53,
   "id": "24757ab4",
   "metadata": {},
   "outputs": [],
   "source": [
    "rf_rand_prediction = rf_randomized.predict(X_test)"
   ]
  },
  {
   "cell_type": "code",
   "execution_count": 54,
   "id": "f5a62a69",
   "metadata": {},
   "outputs": [
    {
     "name": "stdout",
     "output_type": "stream",
     "text": [
      "              precision    recall  f1-score   support\n",
      "\n",
      "           0       0.00      0.00      0.00      1691\n",
      "           1       0.86      1.00      0.92     10245\n",
      "\n",
      "    accuracy                           0.86     11936\n",
      "   macro avg       0.43      0.50      0.46     11936\n",
      "weighted avg       0.74      0.86      0.79     11936\n",
      "\n"
     ]
    },
    {
     "name": "stderr",
     "output_type": "stream",
     "text": [
      "C:\\Users\\barte\\anaconda3\\lib\\site-packages\\sklearn\\metrics\\_classification.py:1318: UndefinedMetricWarning: Precision and F-score are ill-defined and being set to 0.0 in labels with no predicted samples. Use `zero_division` parameter to control this behavior.\n",
      "  _warn_prf(average, modifier, msg_start, len(result))\n",
      "C:\\Users\\barte\\anaconda3\\lib\\site-packages\\sklearn\\metrics\\_classification.py:1318: UndefinedMetricWarning: Precision and F-score are ill-defined and being set to 0.0 in labels with no predicted samples. Use `zero_division` parameter to control this behavior.\n",
      "  _warn_prf(average, modifier, msg_start, len(result))\n",
      "C:\\Users\\barte\\anaconda3\\lib\\site-packages\\sklearn\\metrics\\_classification.py:1318: UndefinedMetricWarning: Precision and F-score are ill-defined and being set to 0.0 in labels with no predicted samples. Use `zero_division` parameter to control this behavior.\n",
      "  _warn_prf(average, modifier, msg_start, len(result))\n"
     ]
    },
    {
     "data": {
      "text/plain": [
       "{'f1-score': 0.92, 'accuracy': 0.86}"
      ]
     },
     "execution_count": 54,
     "metadata": {},
     "output_type": "execute_result"
    }
   ],
   "source": [
    "print(classification_report(y_test,rf_rand_prediction))\n",
    "rf_rand_pr = evaluate(rf_rand_prediction,y_test)\n",
    "rf_rand_pr"
   ]
  },
  {
   "cell_type": "markdown",
   "id": "f3466862",
   "metadata": {},
   "source": [
    "### Support Vector Machine (SVM)"
   ]
  },
  {
   "cell_type": "code",
   "execution_count": 55,
   "id": "0fb60750",
   "metadata": {},
   "outputs": [],
   "source": [
    "from sklearn.svm import SVC"
   ]
  },
  {
   "cell_type": "code",
   "execution_count": 56,
   "id": "56d587f6",
   "metadata": {},
   "outputs": [],
   "source": [
    "model = SVC()"
   ]
  },
  {
   "cell_type": "code",
   "execution_count": 57,
   "id": "e13174ec",
   "metadata": {},
   "outputs": [
    {
     "data": {
      "text/plain": [
       "SVC()"
      ]
     },
     "execution_count": 57,
     "metadata": {},
     "output_type": "execute_result"
    }
   ],
   "source": [
    "model.fit(X_train,y_train)"
   ]
  },
  {
   "cell_type": "code",
   "execution_count": 58,
   "id": "bfe5dba2",
   "metadata": {},
   "outputs": [],
   "source": [
    "svm_prediction = model.predict(X_test)"
   ]
  },
  {
   "cell_type": "code",
   "execution_count": 59,
   "id": "88f59d61",
   "metadata": {},
   "outputs": [],
   "source": [
    "from sklearn.metrics import classification_report,confusion_matrix"
   ]
  },
  {
   "cell_type": "code",
   "execution_count": 60,
   "id": "58b0e654",
   "metadata": {},
   "outputs": [
    {
     "name": "stdout",
     "output_type": "stream",
     "text": [
      "              precision    recall  f1-score   support\n",
      "\n",
      "           0       0.00      0.00      0.00      1691\n",
      "           1       0.86      1.00      0.92     10245\n",
      "\n",
      "    accuracy                           0.86     11936\n",
      "   macro avg       0.43      0.50      0.46     11936\n",
      "weighted avg       0.74      0.86      0.79     11936\n",
      "\n"
     ]
    },
    {
     "name": "stderr",
     "output_type": "stream",
     "text": [
      "C:\\Users\\barte\\anaconda3\\lib\\site-packages\\sklearn\\metrics\\_classification.py:1318: UndefinedMetricWarning: Precision and F-score are ill-defined and being set to 0.0 in labels with no predicted samples. Use `zero_division` parameter to control this behavior.\n",
      "  _warn_prf(average, modifier, msg_start, len(result))\n",
      "C:\\Users\\barte\\anaconda3\\lib\\site-packages\\sklearn\\metrics\\_classification.py:1318: UndefinedMetricWarning: Precision and F-score are ill-defined and being set to 0.0 in labels with no predicted samples. Use `zero_division` parameter to control this behavior.\n",
      "  _warn_prf(average, modifier, msg_start, len(result))\n",
      "C:\\Users\\barte\\anaconda3\\lib\\site-packages\\sklearn\\metrics\\_classification.py:1318: UndefinedMetricWarning: Precision and F-score are ill-defined and being set to 0.0 in labels with no predicted samples. Use `zero_division` parameter to control this behavior.\n",
      "  _warn_prf(average, modifier, msg_start, len(result))\n"
     ]
    },
    {
     "data": {
      "text/plain": [
       "{'f1-score': 0.92, 'accuracy': 0.86}"
      ]
     },
     "execution_count": 60,
     "metadata": {},
     "output_type": "execute_result"
    }
   ],
   "source": [
    "print(classification_report(y_test,svm_prediction))\n",
    "svm_pr = evaluate(svm_prediction,y_test)\n",
    "svm_pr"
   ]
  },
  {
   "cell_type": "markdown",
   "id": "244125ae",
   "metadata": {},
   "source": [
    "### K-Nearest Neighbors (KNN)"
   ]
  },
  {
   "cell_type": "code",
   "execution_count": 61,
   "id": "fd931508",
   "metadata": {},
   "outputs": [
    {
     "data": {
      "text/html": [
       "<div>\n",
       "<style scoped>\n",
       "    .dataframe tbody tr th:only-of-type {\n",
       "        vertical-align: middle;\n",
       "    }\n",
       "\n",
       "    .dataframe tbody tr th {\n",
       "        vertical-align: top;\n",
       "    }\n",
       "\n",
       "    .dataframe thead th {\n",
       "        text-align: right;\n",
       "    }\n",
       "</style>\n",
       "<table border=\"1\" class=\"dataframe\">\n",
       "  <thead>\n",
       "    <tr style=\"text-align: right;\">\n",
       "      <th></th>\n",
       "      <th>loan_amnt</th>\n",
       "      <th>term</th>\n",
       "      <th>int_rate</th>\n",
       "      <th>installment</th>\n",
       "      <th>sub_grade</th>\n",
       "      <th>emp_length</th>\n",
       "      <th>annual_inc</th>\n",
       "      <th>purpose</th>\n",
       "      <th>dti</th>\n",
       "      <th>delinq_2yrs</th>\n",
       "      <th>inq_last_6mths</th>\n",
       "      <th>open_acc</th>\n",
       "      <th>pub_rec</th>\n",
       "      <th>revol_bal</th>\n",
       "      <th>revol_util</th>\n",
       "      <th>total_acc</th>\n",
       "      <th>pub_rec_bankruptcies</th>\n",
       "      <th>fico_score</th>\n",
       "      <th>fico_class</th>\n",
       "      <th>home_ownership_MORTGAGE</th>\n",
       "      <th>home_ownership_NONE</th>\n",
       "      <th>home_ownership_OTHER</th>\n",
       "      <th>home_ownership_OWN</th>\n",
       "      <th>home_ownership_RENT</th>\n",
       "      <th>verif_stat</th>\n",
       "      <th>year_issue</th>\n",
       "      <th>month_issue</th>\n",
       "      <th>year_ecl</th>\n",
       "      <th>month_ecl</th>\n",
       "      <th>geo_loc</th>\n",
       "      <th>geo_loc_ns</th>\n",
       "      <th>geo_loc_we</th>\n",
       "    </tr>\n",
       "  </thead>\n",
       "  <tbody>\n",
       "    <tr>\n",
       "      <th>0</th>\n",
       "      <td>-0.834805</td>\n",
       "      <td>-0.606139</td>\n",
       "      <td>-0.369659</td>\n",
       "      <td>-0.774762</td>\n",
       "      <td>-0.417449</td>\n",
       "      <td>1.407744</td>\n",
       "      <td>-0.705423</td>\n",
       "      <td>-0.740812</td>\n",
       "      <td>2.146113</td>\n",
       "      <td>-0.297942</td>\n",
       "      <td>0.122377</td>\n",
       "      <td>-1.433633</td>\n",
       "      <td>-0.232043</td>\n",
       "      <td>0.020478</td>\n",
       "      <td>1.230339</td>\n",
       "      <td>0.180375</td>\n",
       "      <td>-0.209847</td>\n",
       "      <td>0.558088</td>\n",
       "      <td>-0.353303</td>\n",
       "      <td>-0.895353</td>\n",
       "      <td>-0.008684</td>\n",
       "      <td>-0.049692</td>\n",
       "      <td>-0.288856</td>\n",
       "      <td>1.050274</td>\n",
       "      <td>1.283719</td>\n",
       "      <td>0.763862</td>\n",
       "      <td>1.421299</td>\n",
       "      <td>1.600961</td>\n",
       "      <td>-1.663877</td>\n",
       "      <td>1.320669</td>\n",
       "      <td>1.095309</td>\n",
       "      <td>1.297718</td>\n",
       "    </tr>\n",
       "    <tr>\n",
       "      <th>1</th>\n",
       "      <td>-1.169726</td>\n",
       "      <td>1.649787</td>\n",
       "      <td>0.869805</td>\n",
       "      <td>-1.267963</td>\n",
       "      <td>0.302911</td>\n",
       "      <td>-1.398659</td>\n",
       "      <td>-0.611323</td>\n",
       "      <td>0.828788</td>\n",
       "      <td>-1.844474</td>\n",
       "      <td>-0.297942</td>\n",
       "      <td>3.860500</td>\n",
       "      <td>-1.433633</td>\n",
       "      <td>-0.232043</td>\n",
       "      <td>-0.755062</td>\n",
       "      <td>-1.393390</td>\n",
       "      <td>0.180375</td>\n",
       "      <td>-0.209847</td>\n",
       "      <td>0.697596</td>\n",
       "      <td>1.340050</td>\n",
       "      <td>-0.895353</td>\n",
       "      <td>-0.008684</td>\n",
       "      <td>-0.049692</td>\n",
       "      <td>-0.288856</td>\n",
       "      <td>1.050274</td>\n",
       "      <td>0.119452</td>\n",
       "      <td>0.763862</td>\n",
       "      <td>1.421299</td>\n",
       "      <td>0.271943</td>\n",
       "      <td>-0.816584</td>\n",
       "      <td>0.552042</td>\n",
       "      <td>1.095309</td>\n",
       "      <td>-0.770583</td>\n",
       "    </tr>\n",
       "    <tr>\n",
       "      <th>2</th>\n",
       "      <td>-1.183123</td>\n",
       "      <td>-0.606139</td>\n",
       "      <td>1.054919</td>\n",
       "      <td>-1.150694</td>\n",
       "      <td>0.302911</td>\n",
       "      <td>1.407744</td>\n",
       "      <td>-0.889671</td>\n",
       "      <td>1.613588</td>\n",
       "      <td>-0.688476</td>\n",
       "      <td>-0.297942</td>\n",
       "      <td>1.056908</td>\n",
       "      <td>-1.661471</td>\n",
       "      <td>-0.232043</td>\n",
       "      <td>-0.672781</td>\n",
       "      <td>1.752966</td>\n",
       "      <td>0.180375</td>\n",
       "      <td>-0.209847</td>\n",
       "      <td>0.558088</td>\n",
       "      <td>-0.353303</td>\n",
       "      <td>-0.895353</td>\n",
       "      <td>-0.008684</td>\n",
       "      <td>-0.049692</td>\n",
       "      <td>-0.288856</td>\n",
       "      <td>1.050274</td>\n",
       "      <td>-1.044814</td>\n",
       "      <td>0.763862</td>\n",
       "      <td>1.421299</td>\n",
       "      <td>-1.057075</td>\n",
       "      <td>1.160434</td>\n",
       "      <td>-0.985213</td>\n",
       "      <td>-0.912985</td>\n",
       "      <td>-0.770583</td>\n",
       "    </tr>\n",
       "    <tr>\n",
       "      <th>3</th>\n",
       "      <td>-0.164963</td>\n",
       "      <td>-0.606139</td>\n",
       "      <td>0.392262</td>\n",
       "      <td>0.069770</td>\n",
       "      <td>0.302911</td>\n",
       "      <td>1.407744</td>\n",
       "      <td>-0.310202</td>\n",
       "      <td>1.613588</td>\n",
       "      <td>1.000597</td>\n",
       "      <td>-0.297942</td>\n",
       "      <td>0.122377</td>\n",
       "      <td>0.161232</td>\n",
       "      <td>-0.232043</td>\n",
       "      <td>-0.501476</td>\n",
       "      <td>-0.983764</td>\n",
       "      <td>0.180375</td>\n",
       "      <td>-0.209847</td>\n",
       "      <td>-0.697484</td>\n",
       "      <td>-0.353303</td>\n",
       "      <td>-0.895353</td>\n",
       "      <td>-0.008684</td>\n",
       "      <td>-0.049692</td>\n",
       "      <td>-0.288856</td>\n",
       "      <td>1.050274</td>\n",
       "      <td>0.119452</td>\n",
       "      <td>0.763862</td>\n",
       "      <td>1.421299</td>\n",
       "      <td>0.271943</td>\n",
       "      <td>-1.381446</td>\n",
       "      <td>1.320669</td>\n",
       "      <td>1.095309</td>\n",
       "      <td>1.297718</td>\n",
       "    </tr>\n",
       "    <tr>\n",
       "      <th>4</th>\n",
       "      <td>-1.102742</td>\n",
       "      <td>1.649787</td>\n",
       "      <td>0.177637</td>\n",
       "      <td>-1.229863</td>\n",
       "      <td>-0.417449</td>\n",
       "      <td>-1.118018</td>\n",
       "      <td>0.172845</td>\n",
       "      <td>1.613588</td>\n",
       "      <td>0.692132</td>\n",
       "      <td>-0.297942</td>\n",
       "      <td>-0.812153</td>\n",
       "      <td>1.300421</td>\n",
       "      <td>-0.232043</td>\n",
       "      <td>0.936978</td>\n",
       "      <td>0.178022</td>\n",
       "      <td>0.180375</td>\n",
       "      <td>-0.209847</td>\n",
       "      <td>-0.557976</td>\n",
       "      <td>-0.353303</td>\n",
       "      <td>-0.895353</td>\n",
       "      <td>-0.008684</td>\n",
       "      <td>-0.049692</td>\n",
       "      <td>-0.288856</td>\n",
       "      <td>1.050274</td>\n",
       "      <td>0.119452</td>\n",
       "      <td>0.763862</td>\n",
       "      <td>1.421299</td>\n",
       "      <td>0.271943</td>\n",
       "      <td>-1.663877</td>\n",
       "      <td>-0.216586</td>\n",
       "      <td>-0.912985</td>\n",
       "      <td>1.297718</td>\n",
       "    </tr>\n",
       "  </tbody>\n",
       "</table>\n",
       "</div>"
      ],
      "text/plain": [
       "   loan_amnt      term  int_rate  installment  sub_grade  emp_length  \\\n",
       "0  -0.834805 -0.606139 -0.369659    -0.774762  -0.417449    1.407744   \n",
       "1  -1.169726  1.649787  0.869805    -1.267963   0.302911   -1.398659   \n",
       "2  -1.183123 -0.606139  1.054919    -1.150694   0.302911    1.407744   \n",
       "3  -0.164963 -0.606139  0.392262     0.069770   0.302911    1.407744   \n",
       "4  -1.102742  1.649787  0.177637    -1.229863  -0.417449   -1.118018   \n",
       "\n",
       "   annual_inc   purpose       dti  delinq_2yrs  inq_last_6mths  open_acc  \\\n",
       "0   -0.705423 -0.740812  2.146113    -0.297942        0.122377 -1.433633   \n",
       "1   -0.611323  0.828788 -1.844474    -0.297942        3.860500 -1.433633   \n",
       "2   -0.889671  1.613588 -0.688476    -0.297942        1.056908 -1.661471   \n",
       "3   -0.310202  1.613588  1.000597    -0.297942        0.122377  0.161232   \n",
       "4    0.172845  1.613588  0.692132    -0.297942       -0.812153  1.300421   \n",
       "\n",
       "    pub_rec  revol_bal  revol_util  total_acc  pub_rec_bankruptcies  \\\n",
       "0 -0.232043   0.020478    1.230339   0.180375             -0.209847   \n",
       "1 -0.232043  -0.755062   -1.393390   0.180375             -0.209847   \n",
       "2 -0.232043  -0.672781    1.752966   0.180375             -0.209847   \n",
       "3 -0.232043  -0.501476   -0.983764   0.180375             -0.209847   \n",
       "4 -0.232043   0.936978    0.178022   0.180375             -0.209847   \n",
       "\n",
       "   fico_score  fico_class  home_ownership_MORTGAGE  home_ownership_NONE  \\\n",
       "0    0.558088   -0.353303                -0.895353            -0.008684   \n",
       "1    0.697596    1.340050                -0.895353            -0.008684   \n",
       "2    0.558088   -0.353303                -0.895353            -0.008684   \n",
       "3   -0.697484   -0.353303                -0.895353            -0.008684   \n",
       "4   -0.557976   -0.353303                -0.895353            -0.008684   \n",
       "\n",
       "   home_ownership_OTHER  home_ownership_OWN  home_ownership_RENT  verif_stat  \\\n",
       "0             -0.049692           -0.288856             1.050274    1.283719   \n",
       "1             -0.049692           -0.288856             1.050274    0.119452   \n",
       "2             -0.049692           -0.288856             1.050274   -1.044814   \n",
       "3             -0.049692           -0.288856             1.050274    0.119452   \n",
       "4             -0.049692           -0.288856             1.050274    0.119452   \n",
       "\n",
       "   year_issue  month_issue  year_ecl  month_ecl   geo_loc  geo_loc_ns  \\\n",
       "0    0.763862     1.421299  1.600961  -1.663877  1.320669    1.095309   \n",
       "1    0.763862     1.421299  0.271943  -0.816584  0.552042    1.095309   \n",
       "2    0.763862     1.421299 -1.057075   1.160434 -0.985213   -0.912985   \n",
       "3    0.763862     1.421299  0.271943  -1.381446  1.320669    1.095309   \n",
       "4    0.763862     1.421299  0.271943  -1.663877 -0.216586   -0.912985   \n",
       "\n",
       "   geo_loc_we  \n",
       "0    1.297718  \n",
       "1   -0.770583  \n",
       "2   -0.770583  \n",
       "3    1.297718  \n",
       "4    1.297718  "
      ]
     },
     "execution_count": 61,
     "metadata": {},
     "output_type": "execute_result"
    }
   ],
   "source": [
    "from sklearn.preprocessing import StandardScaler\n",
    "scale = StandardScaler()\n",
    "scale.fit(df.drop('loan_status',axis=1))\n",
    "scaled_data = scale.transform(df.drop('loan_status',axis=1))\n",
    "df_scaled = pd.DataFrame(scaled_data,columns=df.drop('loan_status',axis=1).columns)\n",
    "df_scaled.head()"
   ]
  },
  {
   "cell_type": "code",
   "execution_count": 62,
   "id": "d213461f",
   "metadata": {},
   "outputs": [],
   "source": [
    "X_scaled_train, X_scaled_test, y_scaled_train, y_scaled_test = train_test_split(scaled_data,df['loan_status'],\n",
    "                                                    test_size=0.30, random_state = 42)"
   ]
  },
  {
   "cell_type": "code",
   "execution_count": 63,
   "id": "a8a57a08",
   "metadata": {},
   "outputs": [],
   "source": [
    "from sklearn.neighbors import KNeighborsClassifier\n",
    "knn = KNeighborsClassifier(n_neighbors=2)"
   ]
  },
  {
   "cell_type": "code",
   "execution_count": 64,
   "id": "21f7e03f",
   "metadata": {},
   "outputs": [
    {
     "data": {
      "text/plain": [
       "KNeighborsClassifier(n_neighbors=2)"
      ]
     },
     "execution_count": 64,
     "metadata": {},
     "output_type": "execute_result"
    }
   ],
   "source": [
    "knn.fit(X_scaled_train,y_scaled_train)"
   ]
  },
  {
   "cell_type": "code",
   "execution_count": 65,
   "id": "6e530cc3",
   "metadata": {},
   "outputs": [
    {
     "name": "stderr",
     "output_type": "stream",
     "text": [
      "C:\\Users\\barte\\anaconda3\\lib\\site-packages\\sklearn\\neighbors\\_classification.py:228: FutureWarning: Unlike other reduction functions (e.g. `skew`, `kurtosis`), the default behavior of `mode` typically preserves the axis it acts along. In SciPy 1.11.0, this behavior will change: the default value of `keepdims` will become False, the `axis` over which the statistic is taken will be eliminated, and the value None will no longer be accepted. Set `keepdims` to True or False to avoid this warning.\n",
      "  mode, _ = stats.mode(_y[neigh_ind, k], axis=1)\n"
     ]
    }
   ],
   "source": [
    "knn_prediction = knn.predict(X_scaled_test)"
   ]
  },
  {
   "cell_type": "code",
   "execution_count": 66,
   "id": "ca07a273",
   "metadata": {},
   "outputs": [
    {
     "name": "stdout",
     "output_type": "stream",
     "text": [
      "              precision    recall  f1-score   support\n",
      "\n",
      "           0       0.34      0.19      0.25      2971\n",
      "           1       0.77      0.88      0.82      8965\n",
      "\n",
      "    accuracy                           0.71     11936\n",
      "   macro avg       0.55      0.53      0.53     11936\n",
      "weighted avg       0.66      0.71      0.67     11936\n",
      "\n"
     ]
    },
    {
     "data": {
      "text/plain": [
       "{'f1-score': 0.82, 'accuracy': 0.71}"
      ]
     },
     "execution_count": 66,
     "metadata": {},
     "output_type": "execute_result"
    }
   ],
   "source": [
    "print(classification_report(knn_prediction,y_scaled_test))\n",
    "knn1_pr = evaluate(knn_prediction,y_scaled_test)\n",
    "knn1_pr"
   ]
  },
  {
   "cell_type": "code",
   "execution_count": 67,
   "id": "8c2bf69a",
   "metadata": {},
   "outputs": [
    {
     "data": {
      "text/html": [
       "<div>\n",
       "<style scoped>\n",
       "    .dataframe tbody tr th:only-of-type {\n",
       "        vertical-align: middle;\n",
       "    }\n",
       "\n",
       "    .dataframe tbody tr th {\n",
       "        vertical-align: top;\n",
       "    }\n",
       "\n",
       "    .dataframe thead th {\n",
       "        text-align: right;\n",
       "    }\n",
       "</style>\n",
       "<table border=\"1\" class=\"dataframe\">\n",
       "  <thead>\n",
       "    <tr style=\"text-align: right;\">\n",
       "      <th></th>\n",
       "      <th>Model</th>\n",
       "      <th>F1-score</th>\n",
       "      <th>Accuracy</th>\n",
       "    </tr>\n",
       "  </thead>\n",
       "  <tbody>\n",
       "    <tr>\n",
       "      <th>0</th>\n",
       "      <td>Decision Tree</td>\n",
       "      <td>0.86</td>\n",
       "      <td>0.76</td>\n",
       "    </tr>\n",
       "    <tr>\n",
       "      <th>1</th>\n",
       "      <td>Random Forest</td>\n",
       "      <td>0.92</td>\n",
       "      <td>0.86</td>\n",
       "    </tr>\n",
       "    <tr>\n",
       "      <th>2</th>\n",
       "      <td>Random Forest using Randomized Search</td>\n",
       "      <td>0.92</td>\n",
       "      <td>0.86</td>\n",
       "    </tr>\n",
       "    <tr>\n",
       "      <th>3</th>\n",
       "      <td>SVM</td>\n",
       "      <td>0.92</td>\n",
       "      <td>0.86</td>\n",
       "    </tr>\n",
       "    <tr>\n",
       "      <th>4</th>\n",
       "      <td>KNN</td>\n",
       "      <td>0.82</td>\n",
       "      <td>0.71</td>\n",
       "    </tr>\n",
       "  </tbody>\n",
       "</table>\n",
       "</div>"
      ],
      "text/plain": [
       "                                   Model  F1-score  Accuracy\n",
       "0                          Decision Tree      0.86      0.76\n",
       "1                          Random Forest      0.92      0.86\n",
       "2  Random Forest using Randomized Search      0.92      0.86\n",
       "3                                    SVM      0.92      0.86\n",
       "4                                    KNN      0.82      0.71"
      ]
     },
     "execution_count": 67,
     "metadata": {},
     "output_type": "execute_result"
    }
   ],
   "source": [
    "prediction_data={'Model':['Decision Tree',\n",
    "                          'Random Forest',\n",
    "                          'Random Forest using Randomized Search',\n",
    "                          'SVM',\n",
    "                          'KNN'\n",
    "                         ],\n",
    "                   'F1-score':[dtree_pr['f1-score'],\n",
    "                              rf_pr['f1-score'],\n",
    "                              rf_rand_pr['f1-score'],\n",
    "                              svm_pr['f1-score'],\n",
    "                              knn1_pr['f1-score']],\n",
    "                 \n",
    "                   'Accuracy':[dtree_pr['accuracy'],\n",
    "                              rf_pr['accuracy'],\n",
    "                              rf_rand_pr['accuracy'],\n",
    "                              svm_pr['accuracy'],\n",
    "                              knn1_pr['accuracy']]\n",
    "                    }\n",
    " \n",
    "# Create DataFrame\n",
    "prediction_table = pd.DataFrame(prediction_data)\n",
    "prediction_table"
   ]
  },
  {
   "cell_type": "markdown",
   "id": "753eab9e",
   "metadata": {},
   "source": [
    "The three models: Random Forest, Random Forest using Randomized Search and SVM have the same high accuracy and f1_score."
   ]
  },
  {
   "cell_type": "markdown",
   "id": "1e7afb37",
   "metadata": {},
   "source": [
    "# Prediction with the use of the Random Forest Classifier"
   ]
  },
  {
   "cell_type": "code",
   "execution_count": 68,
   "id": "c76f6167",
   "metadata": {},
   "outputs": [],
   "source": [
    "rf = RandomForestClassifier(n_estimators=100)\n",
    "rf.fit(X_train, y_train)\n",
    "rf_prediction = rf.predict(X_test)"
   ]
  },
  {
   "cell_type": "code",
   "execution_count": 69,
   "id": "3c4cff62",
   "metadata": {},
   "outputs": [
    {
     "name": "stdout",
     "output_type": "stream",
     "text": [
      "Predicted values: [1 1 1 1 1 1 1 1 0 0 1 1 0 1 0 1 1 1 1 1]\n",
      "Real values:\n",
      "22900    1\n",
      "27960    0\n",
      "32773    1\n",
      "16463    0\n",
      "22822    1\n",
      "12833    1\n",
      "17036    1\n",
      "29184    0\n",
      "30104    1\n",
      "26804    1\n",
      "36009    1\n",
      "30533    1\n",
      "26323    1\n",
      "7567     1\n",
      "24582    1\n",
      "11667    1\n",
      "32850    1\n",
      "28097    1\n",
      "23899    1\n",
      "34879    1\n",
      "Name: loan_status, dtype: int64\n"
     ]
    }
   ],
   "source": [
    "# Prediction of first 20 values\n",
    "\n",
    "print('Predicted values:', rf.predict(X[:20]))\n",
    "print('Real values:') \n",
    "print(y_test[:20])"
   ]
  },
  {
   "cell_type": "code",
   "execution_count": 70,
   "id": "b204b13e",
   "metadata": {},
   "outputs": [
    {
     "name": "stdout",
     "output_type": "stream",
     "text": [
      "Well-predicted values in testing: 10225\n",
      "All values in testing part: 11936\n",
      "\n",
      "Accuracy = Well-predicted values in testing part/ All values in testing part: 0.8567\n",
      "\n",
      "Accuracy with sklearn: 0.8567\n"
     ]
    }
   ],
   "source": [
    "y_pred = rf.predict(X_test)\n",
    "y_test == y_pred\n",
    "print('Well-predicted values in testing:', (y_test == y_pred).sum())\n",
    "print('All values in testing part:', y_test.shape[0])\n",
    "print()\n",
    "print('Accuracy = Well-predicted values in testing part/ All values in testing part:', ((y_test == y_pred).sum() / y_test.shape[0]).round(4))\n",
    "print()\n",
    "print('Accuracy with sklearn:', rf.score(X_test, y_test).round(4))"
   ]
  },
  {
   "cell_type": "code",
   "execution_count": 71,
   "id": "a4598466",
   "metadata": {},
   "outputs": [
    {
     "data": {
      "text/plain": [
       "Text(0.5, 1.0, 'Features Correlating with loan_status')"
      ]
     },
     "execution_count": 71,
     "metadata": {},
     "output_type": "execute_result"
    },
    {
     "data": {
      "image/png": "[encoded data removed]",
      "text/plain": [
       "<Figure size 800x1200 with 2 Axes>"
      ]
     },
     "metadata": {},
     "output_type": "display_data"
    }
   ],
   "source": [
    "# The heatmap with the best correlation with loan_status\n",
    "\n",
    "plt.figure(figsize=(8, 12))\n",
    "heatmap = sns.heatmap(df.corr()[['loan_status']].sort_values(by='loan_status', ascending = False), \n",
    "                      vmin = -1, vmax = 1, annot = True, cmap='BrBG')\n",
    "heatmap.set_title('Features Correlating with loan_status', fontdict={'fontsize': 18}, pad = 16)"
   ]
  },
  {
   "cell_type": "code",
   "execution_count": 72,
   "id": "74cff9b3",
   "metadata": {},
   "outputs": [
    {
     "data": {
      "text/html": [
       "<div>\n",
       "<style scoped>\n",
       "    .dataframe tbody tr th:only-of-type {\n",
       "        vertical-align: middle;\n",
       "    }\n",
       "\n",
       "    .dataframe tbody tr th {\n",
       "        vertical-align: top;\n",
       "    }\n",
       "\n",
       "    .dataframe thead th {\n",
       "        text-align: right;\n",
       "    }\n",
       "</style>\n",
       "<table border=\"1\" class=\"dataframe\">\n",
       "  <thead>\n",
       "    <tr style=\"text-align: right;\">\n",
       "      <th></th>\n",
       "      <th>loan_status</th>\n",
       "      <th>int_rate</th>\n",
       "      <th>sub_grade</th>\n",
       "      <th>term</th>\n",
       "      <th>fico_score</th>\n",
       "      <th>loan_amnt</th>\n",
       "    </tr>\n",
       "  </thead>\n",
       "  <tbody>\n",
       "    <tr>\n",
       "      <th>0</th>\n",
       "      <td>1</td>\n",
       "      <td>10.65</td>\n",
       "      <td>2</td>\n",
       "      <td>36</td>\n",
       "      <td>737</td>\n",
       "      <td>5000.0</td>\n",
       "    </tr>\n",
       "    <tr>\n",
       "      <th>1</th>\n",
       "      <td>0</td>\n",
       "      <td>15.27</td>\n",
       "      <td>3</td>\n",
       "      <td>60</td>\n",
       "      <td>742</td>\n",
       "      <td>2500.0</td>\n",
       "    </tr>\n",
       "    <tr>\n",
       "      <th>2</th>\n",
       "      <td>1</td>\n",
       "      <td>15.96</td>\n",
       "      <td>3</td>\n",
       "      <td>36</td>\n",
       "      <td>737</td>\n",
       "      <td>2400.0</td>\n",
       "    </tr>\n",
       "    <tr>\n",
       "      <th>3</th>\n",
       "      <td>1</td>\n",
       "      <td>13.49</td>\n",
       "      <td>3</td>\n",
       "      <td>36</td>\n",
       "      <td>692</td>\n",
       "      <td>10000.0</td>\n",
       "    </tr>\n",
       "    <tr>\n",
       "      <th>4</th>\n",
       "      <td>1</td>\n",
       "      <td>12.69</td>\n",
       "      <td>2</td>\n",
       "      <td>60</td>\n",
       "      <td>697</td>\n",
       "      <td>3000.0</td>\n",
       "    </tr>\n",
       "    <tr>\n",
       "      <th>...</th>\n",
       "      <td>...</td>\n",
       "      <td>...</td>\n",
       "      <td>...</td>\n",
       "      <td>...</td>\n",
       "      <td>...</td>\n",
       "      <td>...</td>\n",
       "    </tr>\n",
       "    <tr>\n",
       "      <th>39781</th>\n",
       "      <td>1</td>\n",
       "      <td>8.07</td>\n",
       "      <td>1</td>\n",
       "      <td>36</td>\n",
       "      <td>762</td>\n",
       "      <td>2500.0</td>\n",
       "    </tr>\n",
       "    <tr>\n",
       "      <th>39782</th>\n",
       "      <td>1</td>\n",
       "      <td>10.28</td>\n",
       "      <td>3</td>\n",
       "      <td>36</td>\n",
       "      <td>692</td>\n",
       "      <td>8500.0</td>\n",
       "    </tr>\n",
       "    <tr>\n",
       "      <th>39783</th>\n",
       "      <td>1</td>\n",
       "      <td>8.07</td>\n",
       "      <td>1</td>\n",
       "      <td>36</td>\n",
       "      <td>742</td>\n",
       "      <td>5000.0</td>\n",
       "    </tr>\n",
       "    <tr>\n",
       "      <th>39784</th>\n",
       "      <td>1</td>\n",
       "      <td>7.43</td>\n",
       "      <td>1</td>\n",
       "      <td>36</td>\n",
       "      <td>812</td>\n",
       "      <td>5000.0</td>\n",
       "    </tr>\n",
       "    <tr>\n",
       "      <th>39785</th>\n",
       "      <td>1</td>\n",
       "      <td>13.75</td>\n",
       "      <td>5</td>\n",
       "      <td>36</td>\n",
       "      <td>662</td>\n",
       "      <td>7500.0</td>\n",
       "    </tr>\n",
       "  </tbody>\n",
       "</table>\n",
       "<p>39786 rows × 6 columns</p>\n",
       "</div>"
      ],
      "text/plain": [
       "       loan_status  int_rate  sub_grade  term  fico_score  loan_amnt\n",
       "0                1     10.65          2    36         737     5000.0\n",
       "1                0     15.27          3    60         742     2500.0\n",
       "2                1     15.96          3    36         737     2400.0\n",
       "3                1     13.49          3    36         692    10000.0\n",
       "4                1     12.69          2    60         697     3000.0\n",
       "...            ...       ...        ...   ...         ...        ...\n",
       "39781            1      8.07          1    36         762     2500.0\n",
       "39782            1     10.28          3    36         692     8500.0\n",
       "39783            1      8.07          1    36         742     5000.0\n",
       "39784            1      7.43          1    36         812     5000.0\n",
       "39785            1     13.75          5    36         662     7500.0\n",
       "\n",
       "[39786 rows x 6 columns]"
      ]
     },
     "execution_count": 72,
     "metadata": {},
     "output_type": "execute_result"
    }
   ],
   "source": [
    "# Selecting the best correlated variables from loan_status\n",
    "\n",
    "new_X = df[['int_rate', 'sub_grade', 'term', 'fico_score', 'loan_amnt']].values\n",
    "new_y = df['loan_status'].values\n",
    "\n",
    "example_df = df[['loan_status', 'int_rate', 'sub_grade', 'term', 'fico_score', 'loan_amnt']]\n",
    "example_df"
   ]
  },
  {
   "cell_type": "code",
   "execution_count": 73,
   "id": "4a1d2fae",
   "metadata": {},
   "outputs": [
    {
     "data": {
      "text/plain": [
       "1    34116\n",
       "0     5670\n",
       "Name: loan_status, dtype: int64"
      ]
     },
     "execution_count": 73,
     "metadata": {},
     "output_type": "execute_result"
    }
   ],
   "source": [
    "example_df.loan_status.value_counts()"
   ]
  },
  {
   "cell_type": "code",
   "execution_count": 74,
   "id": "1feb6ad3",
   "metadata": {},
   "outputs": [],
   "source": [
    "X_train, X_test, y_train, y_test = train_test_split(new_X, new_y, random_state = 42)\n",
    "model = rf.fit(X_train, y_train)"
   ]
  },
  {
   "cell_type": "code",
   "execution_count": 75,
   "id": "ed38af52",
   "metadata": {},
   "outputs": [],
   "source": [
    "y_pred_new = model.predict(X_test)"
   ]
  },
  {
   "cell_type": "code",
   "execution_count": 76,
   "id": "f5f30fea",
   "metadata": {},
   "outputs": [
    {
     "name": "stdout",
     "output_type": "stream",
     "text": [
      "[1 0 1 0 1 1 1 0 1 1 1 1 1 1 1 1 1 1 1 1]\n",
      "[1 1 1 1 0 1 1 1 1 1 1 1 1 1 1 1 1 1 1 1]\n"
     ]
    }
   ],
   "source": [
    "print(y_test[:20])\n",
    "print(y_pred_new[:20])"
   ]
  },
  {
   "cell_type": "code",
   "execution_count": 77,
   "id": "1050ddce",
   "metadata": {},
   "outputs": [
    {
     "name": "stdout",
     "output_type": "stream",
     "text": [
      "Interest Rate of the loan (0 - 100): 40\n",
      "LC assigned loan subgrade (1 - 7): 1\n",
      "The number of payments on the loan (36 or 60): 36\n",
      "FICO score (500 - 850): 500\n",
      "The listed amount of the loan applied for by the borrower (500 - 35000): 35000\n"
     ]
    }
   ],
   "source": [
    "# Enter the appropriate values to predict the probability that the loan will be repaid:\n",
    "\n",
    "int_rate = float(input('Interest Rate of the loan (0 - 100): '))\n",
    "sub_grade = int(input('LC assigned loan subgrade (1 - 7): '))\n",
    "term = int(input('The number of payments on the loan (36 or 60): '))\n",
    "fico_score = int(input('FICO score (500 - 850): '))\n",
    "loan_amnt = float(input('The listed amount of the loan applied for by the borrower (500 - 35000): '))"
   ]
  },
  {
   "cell_type": "code",
   "execution_count": 78,
   "id": "c745b3d7",
   "metadata": {},
   "outputs": [
    {
     "name": "stdout",
     "output_type": "stream",
     "text": [
      "[1]\n"
     ]
    }
   ],
   "source": [
    "# Predicting whether the customer will pay off the loan (0 - No or 1 - Yes)\n",
    "\n",
    "print(rf.predict([[int_rate, sub_grade, term, fico_score, loan_amnt]]))"
   ]
  },
  {
   "cell_type": "markdown",
   "id": "4b9f01b4",
   "metadata": {},
   "source": [
    "# Conclusion"
   ]
  },
  {
   "cell_type": "markdown",
   "id": "e8c26bec",
   "metadata": {},
   "source": [
    "The project, which concerns predicting whether Lending Club clients will pay off their loans, has been divided into 4 parts: Data Processing, Exploratory Data Analysis, Feature Engineering, and Machine Learning. After a thorough cleaning of the data and the introduction of new ones, machine learning models were implemented. Five of them were tested: Decision Tree, Random Forest, Random Forest using Randomized Search, Support Vector Machine, and K-Nearest Neighbors (KNN). The three models gave the same accuracy and f1-score results (Random Forest using Randomized Search, Support Vector Machine). Finally, the Random Forest model was used to predict whether borrowers would be able to repay their loans. Based on the heatmap, the dependent variables best correlated with the target (loan_status) were selected and the Random Forest model was built only with them. By manually entering the 8 variables mentioned above, the model predicts whether the new borrower will pay back the loan."
   ]
  }
 ],
 "metadata": {
  "kernelspec": {
   "display_name": "Python 3 (ipykernel)",
   "language": "python",
   "name": "python3"
  },
  "language_info": {
   "codemirror_mode": {
    "name": "ipython",
    "version": 3
   },
   "file_extension": ".py",
   "mimetype": "text/x-python",
   "name": "python",
   "nbconvert_exporter": "python",
   "pygments_lexer": "ipython3",
   "version": "3.9.13"
  }
 },
 "nbformat": 4,
 "nbformat_minor": 5
}
