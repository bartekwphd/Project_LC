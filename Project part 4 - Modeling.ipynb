{
 "cells": [
  {
   "cell_type": "markdown",
   "id": "18e46fd8",
   "metadata": {},
   "source": [
    "# Part 4 - Modeling"
   ]
  },
  {
   "cell_type": "code",
   "execution_count": 1,
   "id": "42ea66cd",
   "metadata": {},
   "outputs": [],
   "source": [
    "# Load packages\n",
    "\n",
    "import numpy as np\n",
    "import pandas as pd\n",
    "import seaborn as sns\n",
    "import matplotlib.pyplot as plt"
   ]
  },
  {
   "cell_type": "code",
   "execution_count": 2,
   "id": "51d9edbe",
   "metadata": {},
   "outputs": [
    {
     "data": {
      "text/html": [
       "<div>\n",
       "<style scoped>\n",
       "    .dataframe tbody tr th:only-of-type {\n",
       "        vertical-align: middle;\n",
       "    }\n",
       "\n",
       "    .dataframe tbody tr th {\n",
       "        vertical-align: top;\n",
       "    }\n",
       "\n",
       "    .dataframe thead th {\n",
       "        text-align: right;\n",
       "    }\n",
       "</style>\n",
       "<table border=\"1\" class=\"dataframe\">\n",
       "  <thead>\n",
       "    <tr style=\"text-align: right;\">\n",
       "      <th></th>\n",
       "      <th>loan_status</th>\n",
       "      <th>loan_amnt</th>\n",
       "      <th>term</th>\n",
       "      <th>int_rate</th>\n",
       "      <th>installment</th>\n",
       "      <th>emp_length</th>\n",
       "      <th>annual_inc</th>\n",
       "      <th>dti</th>\n",
       "      <th>delinq_2yrs</th>\n",
       "      <th>inq_last_6mths</th>\n",
       "      <th>open_acc</th>\n",
       "      <th>pub_rec</th>\n",
       "      <th>revol_bal</th>\n",
       "      <th>revol_util</th>\n",
       "      <th>total_acc</th>\n",
       "      <th>pub_rec_bankruptcies</th>\n",
       "      <th>fico_score</th>\n",
       "      <th>fico_class</th>\n",
       "      <th>sub_grade_A1</th>\n",
       "      <th>sub_grade_A2</th>\n",
       "      <th>sub_grade_A3</th>\n",
       "      <th>sub_grade_A4</th>\n",
       "      <th>sub_grade_A5</th>\n",
       "      <th>sub_grade_B1</th>\n",
       "      <th>sub_grade_B2</th>\n",
       "      <th>sub_grade_B3</th>\n",
       "      <th>sub_grade_B4</th>\n",
       "      <th>sub_grade_B5</th>\n",
       "      <th>sub_grade_C1</th>\n",
       "      <th>sub_grade_C2</th>\n",
       "      <th>sub_grade_C3</th>\n",
       "      <th>sub_grade_C4</th>\n",
       "      <th>sub_grade_C5</th>\n",
       "      <th>sub_grade_D1</th>\n",
       "      <th>sub_grade_D2</th>\n",
       "      <th>sub_grade_D3</th>\n",
       "      <th>sub_grade_D4</th>\n",
       "      <th>sub_grade_D5</th>\n",
       "      <th>sub_grade_E1</th>\n",
       "      <th>sub_grade_E2</th>\n",
       "      <th>sub_grade_E3</th>\n",
       "      <th>sub_grade_E4</th>\n",
       "      <th>sub_grade_E5</th>\n",
       "      <th>sub_grade_F1</th>\n",
       "      <th>sub_grade_F2</th>\n",
       "      <th>sub_grade_F3</th>\n",
       "      <th>sub_grade_F4</th>\n",
       "      <th>sub_grade_F5</th>\n",
       "      <th>sub_grade_G1</th>\n",
       "      <th>sub_grade_G2</th>\n",
       "      <th>sub_grade_G3</th>\n",
       "      <th>sub_grade_G4</th>\n",
       "      <th>sub_grade_G5</th>\n",
       "      <th>home_ownership_MORTGAGE</th>\n",
       "      <th>home_ownership_NONE</th>\n",
       "      <th>home_ownership_OTHER</th>\n",
       "      <th>home_ownership_OWN</th>\n",
       "      <th>home_ownership_RENT</th>\n",
       "      <th>verif_stat</th>\n",
       "      <th>purpose_car</th>\n",
       "      <th>purpose_credit_card</th>\n",
       "      <th>purpose_debt_consolidation</th>\n",
       "      <th>purpose_educational</th>\n",
       "      <th>purpose_home_improvement</th>\n",
       "      <th>purpose_house</th>\n",
       "      <th>purpose_major_purchase</th>\n",
       "      <th>purpose_medical</th>\n",
       "      <th>purpose_moving</th>\n",
       "      <th>purpose_other</th>\n",
       "      <th>purpose_renewable_energy</th>\n",
       "      <th>purpose_small_business</th>\n",
       "      <th>purpose_vacation</th>\n",
       "      <th>purpose_wedding</th>\n",
       "      <th>year_issue</th>\n",
       "      <th>month_issue</th>\n",
       "      <th>year_ecl</th>\n",
       "      <th>month_ecl</th>\n",
       "      <th>geo_loc</th>\n",
       "      <th>geo_loc_ns</th>\n",
       "      <th>geo_loc_we</th>\n",
       "      <th>addr_state_AK</th>\n",
       "      <th>addr_state_AL</th>\n",
       "      <th>addr_state_AR</th>\n",
       "      <th>addr_state_AZ</th>\n",
       "      <th>addr_state_CA</th>\n",
       "      <th>addr_state_CO</th>\n",
       "      <th>addr_state_CT</th>\n",
       "      <th>addr_state_DC</th>\n",
       "      <th>addr_state_DE</th>\n",
       "      <th>addr_state_FL</th>\n",
       "      <th>addr_state_GA</th>\n",
       "      <th>addr_state_HI</th>\n",
       "      <th>addr_state_IA</th>\n",
       "      <th>addr_state_ID</th>\n",
       "      <th>addr_state_IL</th>\n",
       "      <th>addr_state_IN</th>\n",
       "      <th>addr_state_KS</th>\n",
       "      <th>addr_state_KY</th>\n",
       "      <th>addr_state_LA</th>\n",
       "      <th>addr_state_MA</th>\n",
       "      <th>addr_state_MD</th>\n",
       "      <th>addr_state_ME</th>\n",
       "      <th>addr_state_MI</th>\n",
       "      <th>addr_state_MN</th>\n",
       "      <th>addr_state_MO</th>\n",
       "      <th>addr_state_MS</th>\n",
       "      <th>addr_state_MT</th>\n",
       "      <th>addr_state_NC</th>\n",
       "      <th>addr_state_NE</th>\n",
       "      <th>addr_state_NH</th>\n",
       "      <th>addr_state_NJ</th>\n",
       "      <th>addr_state_NM</th>\n",
       "      <th>addr_state_NV</th>\n",
       "      <th>addr_state_NY</th>\n",
       "      <th>addr_state_OH</th>\n",
       "      <th>addr_state_OK</th>\n",
       "      <th>addr_state_OR</th>\n",
       "      <th>addr_state_PA</th>\n",
       "      <th>addr_state_RI</th>\n",
       "      <th>addr_state_SC</th>\n",
       "      <th>addr_state_SD</th>\n",
       "      <th>addr_state_TN</th>\n",
       "      <th>addr_state_TX</th>\n",
       "      <th>addr_state_UT</th>\n",
       "      <th>addr_state_VA</th>\n",
       "      <th>addr_state_VT</th>\n",
       "      <th>addr_state_WA</th>\n",
       "      <th>addr_state_WI</th>\n",
       "      <th>addr_state_WV</th>\n",
       "      <th>addr_state_WY</th>\n",
       "    </tr>\n",
       "  </thead>\n",
       "  <tbody>\n",
       "    <tr>\n",
       "      <th>0</th>\n",
       "      <td>1</td>\n",
       "      <td>5000.0</td>\n",
       "      <td>36</td>\n",
       "      <td>10.65</td>\n",
       "      <td>162.87</td>\n",
       "      <td>10.0</td>\n",
       "      <td>24000.0</td>\n",
       "      <td>27.65</td>\n",
       "      <td>0.0</td>\n",
       "      <td>1.0</td>\n",
       "      <td>3.0</td>\n",
       "      <td>0.0</td>\n",
       "      <td>13648.0</td>\n",
       "      <td>83.7</td>\n",
       "      <td>76.0</td>\n",
       "      <td>0.0</td>\n",
       "      <td>737</td>\n",
       "      <td>3</td>\n",
       "      <td>0</td>\n",
       "      <td>0</td>\n",
       "      <td>0</td>\n",
       "      <td>0</td>\n",
       "      <td>0</td>\n",
       "      <td>0</td>\n",
       "      <td>1</td>\n",
       "      <td>0</td>\n",
       "      <td>0</td>\n",
       "      <td>0</td>\n",
       "      <td>0</td>\n",
       "      <td>0</td>\n",
       "      <td>0</td>\n",
       "      <td>0</td>\n",
       "      <td>0</td>\n",
       "      <td>0</td>\n",
       "      <td>0</td>\n",
       "      <td>0</td>\n",
       "      <td>0</td>\n",
       "      <td>0</td>\n",
       "      <td>0</td>\n",
       "      <td>0</td>\n",
       "      <td>0</td>\n",
       "      <td>0</td>\n",
       "      <td>0</td>\n",
       "      <td>0</td>\n",
       "      <td>0</td>\n",
       "      <td>0</td>\n",
       "      <td>0</td>\n",
       "      <td>0</td>\n",
       "      <td>0</td>\n",
       "      <td>0</td>\n",
       "      <td>0</td>\n",
       "      <td>0</td>\n",
       "      <td>0</td>\n",
       "      <td>0</td>\n",
       "      <td>0</td>\n",
       "      <td>0</td>\n",
       "      <td>0</td>\n",
       "      <td>1</td>\n",
       "      <td>3</td>\n",
       "      <td>0</td>\n",
       "      <td>1</td>\n",
       "      <td>0</td>\n",
       "      <td>0</td>\n",
       "      <td>0</td>\n",
       "      <td>0</td>\n",
       "      <td>0</td>\n",
       "      <td>0</td>\n",
       "      <td>0</td>\n",
       "      <td>0</td>\n",
       "      <td>0</td>\n",
       "      <td>0</td>\n",
       "      <td>0</td>\n",
       "      <td>0</td>\n",
       "      <td>2011</td>\n",
       "      <td>12</td>\n",
       "      <td>3</td>\n",
       "      <td>1</td>\n",
       "      <td>4</td>\n",
       "      <td>2</td>\n",
       "      <td>2</td>\n",
       "      <td>0</td>\n",
       "      <td>0</td>\n",
       "      <td>0</td>\n",
       "      <td>1</td>\n",
       "      <td>0</td>\n",
       "      <td>0</td>\n",
       "      <td>0</td>\n",
       "      <td>0</td>\n",
       "      <td>0</td>\n",
       "      <td>0</td>\n",
       "      <td>0</td>\n",
       "      <td>0</td>\n",
       "      <td>0</td>\n",
       "      <td>0</td>\n",
       "      <td>0</td>\n",
       "      <td>0</td>\n",
       "      <td>0</td>\n",
       "      <td>0</td>\n",
       "      <td>0</td>\n",
       "      <td>0</td>\n",
       "      <td>0</td>\n",
       "      <td>0</td>\n",
       "      <td>0</td>\n",
       "      <td>0</td>\n",
       "      <td>0</td>\n",
       "      <td>0</td>\n",
       "      <td>0</td>\n",
       "      <td>0</td>\n",
       "      <td>0</td>\n",
       "      <td>0</td>\n",
       "      <td>0</td>\n",
       "      <td>0</td>\n",
       "      <td>0</td>\n",
       "      <td>0</td>\n",
       "      <td>0</td>\n",
       "      <td>0</td>\n",
       "      <td>0</td>\n",
       "      <td>0</td>\n",
       "      <td>0</td>\n",
       "      <td>0</td>\n",
       "      <td>0</td>\n",
       "      <td>0</td>\n",
       "      <td>0</td>\n",
       "      <td>0</td>\n",
       "      <td>0</td>\n",
       "      <td>0</td>\n",
       "      <td>0</td>\n",
       "      <td>0</td>\n",
       "      <td>0</td>\n",
       "      <td>0</td>\n",
       "    </tr>\n",
       "    <tr>\n",
       "      <th>1</th>\n",
       "      <td>0</td>\n",
       "      <td>2500.0</td>\n",
       "      <td>60</td>\n",
       "      <td>15.27</td>\n",
       "      <td>59.83</td>\n",
       "      <td>0.0</td>\n",
       "      <td>30000.0</td>\n",
       "      <td>1.00</td>\n",
       "      <td>0.0</td>\n",
       "      <td>5.0</td>\n",
       "      <td>3.0</td>\n",
       "      <td>0.0</td>\n",
       "      <td>1687.0</td>\n",
       "      <td>9.4</td>\n",
       "      <td>76.0</td>\n",
       "      <td>0.0</td>\n",
       "      <td>742</td>\n",
       "      <td>4</td>\n",
       "      <td>0</td>\n",
       "      <td>0</td>\n",
       "      <td>0</td>\n",
       "      <td>0</td>\n",
       "      <td>0</td>\n",
       "      <td>0</td>\n",
       "      <td>0</td>\n",
       "      <td>0</td>\n",
       "      <td>0</td>\n",
       "      <td>0</td>\n",
       "      <td>0</td>\n",
       "      <td>0</td>\n",
       "      <td>0</td>\n",
       "      <td>1</td>\n",
       "      <td>0</td>\n",
       "      <td>0</td>\n",
       "      <td>0</td>\n",
       "      <td>0</td>\n",
       "      <td>0</td>\n",
       "      <td>0</td>\n",
       "      <td>0</td>\n",
       "      <td>0</td>\n",
       "      <td>0</td>\n",
       "      <td>0</td>\n",
       "      <td>0</td>\n",
       "      <td>0</td>\n",
       "      <td>0</td>\n",
       "      <td>0</td>\n",
       "      <td>0</td>\n",
       "      <td>0</td>\n",
       "      <td>0</td>\n",
       "      <td>0</td>\n",
       "      <td>0</td>\n",
       "      <td>0</td>\n",
       "      <td>0</td>\n",
       "      <td>0</td>\n",
       "      <td>0</td>\n",
       "      <td>0</td>\n",
       "      <td>0</td>\n",
       "      <td>1</td>\n",
       "      <td>2</td>\n",
       "      <td>1</td>\n",
       "      <td>0</td>\n",
       "      <td>0</td>\n",
       "      <td>0</td>\n",
       "      <td>0</td>\n",
       "      <td>0</td>\n",
       "      <td>0</td>\n",
       "      <td>0</td>\n",
       "      <td>0</td>\n",
       "      <td>0</td>\n",
       "      <td>0</td>\n",
       "      <td>0</td>\n",
       "      <td>0</td>\n",
       "      <td>0</td>\n",
       "      <td>2011</td>\n",
       "      <td>12</td>\n",
       "      <td>2</td>\n",
       "      <td>4</td>\n",
       "      <td>3</td>\n",
       "      <td>2</td>\n",
       "      <td>1</td>\n",
       "      <td>0</td>\n",
       "      <td>0</td>\n",
       "      <td>0</td>\n",
       "      <td>0</td>\n",
       "      <td>0</td>\n",
       "      <td>0</td>\n",
       "      <td>0</td>\n",
       "      <td>0</td>\n",
       "      <td>0</td>\n",
       "      <td>0</td>\n",
       "      <td>1</td>\n",
       "      <td>0</td>\n",
       "      <td>0</td>\n",
       "      <td>0</td>\n",
       "      <td>0</td>\n",
       "      <td>0</td>\n",
       "      <td>0</td>\n",
       "      <td>0</td>\n",
       "      <td>0</td>\n",
       "      <td>0</td>\n",
       "      <td>0</td>\n",
       "      <td>0</td>\n",
       "      <td>0</td>\n",
       "      <td>0</td>\n",
       "      <td>0</td>\n",
       "      <td>0</td>\n",
       "      <td>0</td>\n",
       "      <td>0</td>\n",
       "      <td>0</td>\n",
       "      <td>0</td>\n",
       "      <td>0</td>\n",
       "      <td>0</td>\n",
       "      <td>0</td>\n",
       "      <td>0</td>\n",
       "      <td>0</td>\n",
       "      <td>0</td>\n",
       "      <td>0</td>\n",
       "      <td>0</td>\n",
       "      <td>0</td>\n",
       "      <td>0</td>\n",
       "      <td>0</td>\n",
       "      <td>0</td>\n",
       "      <td>0</td>\n",
       "      <td>0</td>\n",
       "      <td>0</td>\n",
       "      <td>0</td>\n",
       "      <td>0</td>\n",
       "      <td>0</td>\n",
       "      <td>0</td>\n",
       "      <td>0</td>\n",
       "    </tr>\n",
       "    <tr>\n",
       "      <th>2</th>\n",
       "      <td>1</td>\n",
       "      <td>2400.0</td>\n",
       "      <td>36</td>\n",
       "      <td>15.96</td>\n",
       "      <td>84.33</td>\n",
       "      <td>10.0</td>\n",
       "      <td>12252.0</td>\n",
       "      <td>8.72</td>\n",
       "      <td>0.0</td>\n",
       "      <td>2.0</td>\n",
       "      <td>2.0</td>\n",
       "      <td>0.0</td>\n",
       "      <td>2956.0</td>\n",
       "      <td>98.5</td>\n",
       "      <td>76.0</td>\n",
       "      <td>0.0</td>\n",
       "      <td>737</td>\n",
       "      <td>3</td>\n",
       "      <td>0</td>\n",
       "      <td>0</td>\n",
       "      <td>0</td>\n",
       "      <td>0</td>\n",
       "      <td>0</td>\n",
       "      <td>0</td>\n",
       "      <td>0</td>\n",
       "      <td>0</td>\n",
       "      <td>0</td>\n",
       "      <td>0</td>\n",
       "      <td>0</td>\n",
       "      <td>0</td>\n",
       "      <td>0</td>\n",
       "      <td>0</td>\n",
       "      <td>1</td>\n",
       "      <td>0</td>\n",
       "      <td>0</td>\n",
       "      <td>0</td>\n",
       "      <td>0</td>\n",
       "      <td>0</td>\n",
       "      <td>0</td>\n",
       "      <td>0</td>\n",
       "      <td>0</td>\n",
       "      <td>0</td>\n",
       "      <td>0</td>\n",
       "      <td>0</td>\n",
       "      <td>0</td>\n",
       "      <td>0</td>\n",
       "      <td>0</td>\n",
       "      <td>0</td>\n",
       "      <td>0</td>\n",
       "      <td>0</td>\n",
       "      <td>0</td>\n",
       "      <td>0</td>\n",
       "      <td>0</td>\n",
       "      <td>0</td>\n",
       "      <td>0</td>\n",
       "      <td>0</td>\n",
       "      <td>0</td>\n",
       "      <td>1</td>\n",
       "      <td>1</td>\n",
       "      <td>0</td>\n",
       "      <td>0</td>\n",
       "      <td>0</td>\n",
       "      <td>0</td>\n",
       "      <td>0</td>\n",
       "      <td>0</td>\n",
       "      <td>0</td>\n",
       "      <td>0</td>\n",
       "      <td>0</td>\n",
       "      <td>0</td>\n",
       "      <td>0</td>\n",
       "      <td>1</td>\n",
       "      <td>0</td>\n",
       "      <td>0</td>\n",
       "      <td>2011</td>\n",
       "      <td>12</td>\n",
       "      <td>1</td>\n",
       "      <td>11</td>\n",
       "      <td>1</td>\n",
       "      <td>1</td>\n",
       "      <td>1</td>\n",
       "      <td>0</td>\n",
       "      <td>0</td>\n",
       "      <td>0</td>\n",
       "      <td>0</td>\n",
       "      <td>0</td>\n",
       "      <td>0</td>\n",
       "      <td>0</td>\n",
       "      <td>0</td>\n",
       "      <td>0</td>\n",
       "      <td>0</td>\n",
       "      <td>0</td>\n",
       "      <td>0</td>\n",
       "      <td>0</td>\n",
       "      <td>0</td>\n",
       "      <td>1</td>\n",
       "      <td>0</td>\n",
       "      <td>0</td>\n",
       "      <td>0</td>\n",
       "      <td>0</td>\n",
       "      <td>0</td>\n",
       "      <td>0</td>\n",
       "      <td>0</td>\n",
       "      <td>0</td>\n",
       "      <td>0</td>\n",
       "      <td>0</td>\n",
       "      <td>0</td>\n",
       "      <td>0</td>\n",
       "      <td>0</td>\n",
       "      <td>0</td>\n",
       "      <td>0</td>\n",
       "      <td>0</td>\n",
       "      <td>0</td>\n",
       "      <td>0</td>\n",
       "      <td>0</td>\n",
       "      <td>0</td>\n",
       "      <td>0</td>\n",
       "      <td>0</td>\n",
       "      <td>0</td>\n",
       "      <td>0</td>\n",
       "      <td>0</td>\n",
       "      <td>0</td>\n",
       "      <td>0</td>\n",
       "      <td>0</td>\n",
       "      <td>0</td>\n",
       "      <td>0</td>\n",
       "      <td>0</td>\n",
       "      <td>0</td>\n",
       "      <td>0</td>\n",
       "      <td>0</td>\n",
       "      <td>0</td>\n",
       "    </tr>\n",
       "    <tr>\n",
       "      <th>3</th>\n",
       "      <td>1</td>\n",
       "      <td>10000.0</td>\n",
       "      <td>36</td>\n",
       "      <td>13.49</td>\n",
       "      <td>339.31</td>\n",
       "      <td>10.0</td>\n",
       "      <td>49200.0</td>\n",
       "      <td>20.00</td>\n",
       "      <td>0.0</td>\n",
       "      <td>1.0</td>\n",
       "      <td>10.0</td>\n",
       "      <td>0.0</td>\n",
       "      <td>5598.0</td>\n",
       "      <td>21.0</td>\n",
       "      <td>76.0</td>\n",
       "      <td>0.0</td>\n",
       "      <td>692</td>\n",
       "      <td>3</td>\n",
       "      <td>0</td>\n",
       "      <td>0</td>\n",
       "      <td>0</td>\n",
       "      <td>0</td>\n",
       "      <td>0</td>\n",
       "      <td>0</td>\n",
       "      <td>0</td>\n",
       "      <td>0</td>\n",
       "      <td>0</td>\n",
       "      <td>0</td>\n",
       "      <td>1</td>\n",
       "      <td>0</td>\n",
       "      <td>0</td>\n",
       "      <td>0</td>\n",
       "      <td>0</td>\n",
       "      <td>0</td>\n",
       "      <td>0</td>\n",
       "      <td>0</td>\n",
       "      <td>0</td>\n",
       "      <td>0</td>\n",
       "      <td>0</td>\n",
       "      <td>0</td>\n",
       "      <td>0</td>\n",
       "      <td>0</td>\n",
       "      <td>0</td>\n",
       "      <td>0</td>\n",
       "      <td>0</td>\n",
       "      <td>0</td>\n",
       "      <td>0</td>\n",
       "      <td>0</td>\n",
       "      <td>0</td>\n",
       "      <td>0</td>\n",
       "      <td>0</td>\n",
       "      <td>0</td>\n",
       "      <td>0</td>\n",
       "      <td>0</td>\n",
       "      <td>0</td>\n",
       "      <td>0</td>\n",
       "      <td>0</td>\n",
       "      <td>1</td>\n",
       "      <td>2</td>\n",
       "      <td>0</td>\n",
       "      <td>0</td>\n",
       "      <td>0</td>\n",
       "      <td>0</td>\n",
       "      <td>0</td>\n",
       "      <td>0</td>\n",
       "      <td>0</td>\n",
       "      <td>0</td>\n",
       "      <td>0</td>\n",
       "      <td>1</td>\n",
       "      <td>0</td>\n",
       "      <td>0</td>\n",
       "      <td>0</td>\n",
       "      <td>0</td>\n",
       "      <td>2011</td>\n",
       "      <td>12</td>\n",
       "      <td>2</td>\n",
       "      <td>2</td>\n",
       "      <td>4</td>\n",
       "      <td>2</td>\n",
       "      <td>2</td>\n",
       "      <td>0</td>\n",
       "      <td>0</td>\n",
       "      <td>0</td>\n",
       "      <td>0</td>\n",
       "      <td>1</td>\n",
       "      <td>0</td>\n",
       "      <td>0</td>\n",
       "      <td>0</td>\n",
       "      <td>0</td>\n",
       "      <td>0</td>\n",
       "      <td>0</td>\n",
       "      <td>0</td>\n",
       "      <td>0</td>\n",
       "      <td>0</td>\n",
       "      <td>0</td>\n",
       "      <td>0</td>\n",
       "      <td>0</td>\n",
       "      <td>0</td>\n",
       "      <td>0</td>\n",
       "      <td>0</td>\n",
       "      <td>0</td>\n",
       "      <td>0</td>\n",
       "      <td>0</td>\n",
       "      <td>0</td>\n",
       "      <td>0</td>\n",
       "      <td>0</td>\n",
       "      <td>0</td>\n",
       "      <td>0</td>\n",
       "      <td>0</td>\n",
       "      <td>0</td>\n",
       "      <td>0</td>\n",
       "      <td>0</td>\n",
       "      <td>0</td>\n",
       "      <td>0</td>\n",
       "      <td>0</td>\n",
       "      <td>0</td>\n",
       "      <td>0</td>\n",
       "      <td>0</td>\n",
       "      <td>0</td>\n",
       "      <td>0</td>\n",
       "      <td>0</td>\n",
       "      <td>0</td>\n",
       "      <td>0</td>\n",
       "      <td>0</td>\n",
       "      <td>0</td>\n",
       "      <td>0</td>\n",
       "      <td>0</td>\n",
       "      <td>0</td>\n",
       "      <td>0</td>\n",
       "      <td>0</td>\n",
       "    </tr>\n",
       "    <tr>\n",
       "      <th>4</th>\n",
       "      <td>1</td>\n",
       "      <td>3000.0</td>\n",
       "      <td>60</td>\n",
       "      <td>12.69</td>\n",
       "      <td>67.79</td>\n",
       "      <td>1.0</td>\n",
       "      <td>80000.0</td>\n",
       "      <td>17.94</td>\n",
       "      <td>0.0</td>\n",
       "      <td>0.0</td>\n",
       "      <td>15.0</td>\n",
       "      <td>0.0</td>\n",
       "      <td>27783.0</td>\n",
       "      <td>53.9</td>\n",
       "      <td>76.0</td>\n",
       "      <td>0.0</td>\n",
       "      <td>697</td>\n",
       "      <td>3</td>\n",
       "      <td>0</td>\n",
       "      <td>0</td>\n",
       "      <td>0</td>\n",
       "      <td>0</td>\n",
       "      <td>0</td>\n",
       "      <td>0</td>\n",
       "      <td>0</td>\n",
       "      <td>0</td>\n",
       "      <td>0</td>\n",
       "      <td>1</td>\n",
       "      <td>0</td>\n",
       "      <td>0</td>\n",
       "      <td>0</td>\n",
       "      <td>0</td>\n",
       "      <td>0</td>\n",
       "      <td>0</td>\n",
       "      <td>0</td>\n",
       "      <td>0</td>\n",
       "      <td>0</td>\n",
       "      <td>0</td>\n",
       "      <td>0</td>\n",
       "      <td>0</td>\n",
       "      <td>0</td>\n",
       "      <td>0</td>\n",
       "      <td>0</td>\n",
       "      <td>0</td>\n",
       "      <td>0</td>\n",
       "      <td>0</td>\n",
       "      <td>0</td>\n",
       "      <td>0</td>\n",
       "      <td>0</td>\n",
       "      <td>0</td>\n",
       "      <td>0</td>\n",
       "      <td>0</td>\n",
       "      <td>0</td>\n",
       "      <td>0</td>\n",
       "      <td>0</td>\n",
       "      <td>0</td>\n",
       "      <td>0</td>\n",
       "      <td>1</td>\n",
       "      <td>2</td>\n",
       "      <td>0</td>\n",
       "      <td>0</td>\n",
       "      <td>0</td>\n",
       "      <td>0</td>\n",
       "      <td>0</td>\n",
       "      <td>0</td>\n",
       "      <td>0</td>\n",
       "      <td>0</td>\n",
       "      <td>0</td>\n",
       "      <td>1</td>\n",
       "      <td>0</td>\n",
       "      <td>0</td>\n",
       "      <td>0</td>\n",
       "      <td>0</td>\n",
       "      <td>2011</td>\n",
       "      <td>12</td>\n",
       "      <td>2</td>\n",
       "      <td>1</td>\n",
       "      <td>2</td>\n",
       "      <td>1</td>\n",
       "      <td>2</td>\n",
       "      <td>0</td>\n",
       "      <td>0</td>\n",
       "      <td>0</td>\n",
       "      <td>0</td>\n",
       "      <td>0</td>\n",
       "      <td>0</td>\n",
       "      <td>0</td>\n",
       "      <td>0</td>\n",
       "      <td>0</td>\n",
       "      <td>0</td>\n",
       "      <td>0</td>\n",
       "      <td>0</td>\n",
       "      <td>0</td>\n",
       "      <td>0</td>\n",
       "      <td>0</td>\n",
       "      <td>0</td>\n",
       "      <td>0</td>\n",
       "      <td>0</td>\n",
       "      <td>0</td>\n",
       "      <td>0</td>\n",
       "      <td>0</td>\n",
       "      <td>0</td>\n",
       "      <td>0</td>\n",
       "      <td>0</td>\n",
       "      <td>0</td>\n",
       "      <td>0</td>\n",
       "      <td>0</td>\n",
       "      <td>0</td>\n",
       "      <td>0</td>\n",
       "      <td>0</td>\n",
       "      <td>0</td>\n",
       "      <td>0</td>\n",
       "      <td>0</td>\n",
       "      <td>0</td>\n",
       "      <td>0</td>\n",
       "      <td>0</td>\n",
       "      <td>1</td>\n",
       "      <td>0</td>\n",
       "      <td>0</td>\n",
       "      <td>0</td>\n",
       "      <td>0</td>\n",
       "      <td>0</td>\n",
       "      <td>0</td>\n",
       "      <td>0</td>\n",
       "      <td>0</td>\n",
       "      <td>0</td>\n",
       "      <td>0</td>\n",
       "      <td>0</td>\n",
       "      <td>0</td>\n",
       "      <td>0</td>\n",
       "    </tr>\n",
       "  </tbody>\n",
       "</table>\n",
       "</div>"
      ],
      "text/plain": [
       "   loan_status  loan_amnt  term  int_rate  installment  emp_length  \\\n",
       "0            1     5000.0    36     10.65       162.87        10.0   \n",
       "1            0     2500.0    60     15.27        59.83         0.0   \n",
       "2            1     2400.0    36     15.96        84.33        10.0   \n",
       "3            1    10000.0    36     13.49       339.31        10.0   \n",
       "4            1     3000.0    60     12.69        67.79         1.0   \n",
       "\n",
       "   annual_inc    dti  delinq_2yrs  inq_last_6mths  open_acc  pub_rec  \\\n",
       "0     24000.0  27.65          0.0             1.0       3.0      0.0   \n",
       "1     30000.0   1.00          0.0             5.0       3.0      0.0   \n",
       "2     12252.0   8.72          0.0             2.0       2.0      0.0   \n",
       "3     49200.0  20.00          0.0             1.0      10.0      0.0   \n",
       "4     80000.0  17.94          0.0             0.0      15.0      0.0   \n",
       "\n",
       "   revol_bal  revol_util  total_acc  pub_rec_bankruptcies  fico_score  \\\n",
       "0    13648.0        83.7       76.0                   0.0         737   \n",
       "1     1687.0         9.4       76.0                   0.0         742   \n",
       "2     2956.0        98.5       76.0                   0.0         737   \n",
       "3     5598.0        21.0       76.0                   0.0         692   \n",
       "4    27783.0        53.9       76.0                   0.0         697   \n",
       "\n",
       "   fico_class  sub_grade_A1  sub_grade_A2  sub_grade_A3  sub_grade_A4  \\\n",
       "0           3             0             0             0             0   \n",
       "1           4             0             0             0             0   \n",
       "2           3             0             0             0             0   \n",
       "3           3             0             0             0             0   \n",
       "4           3             0             0             0             0   \n",
       "\n",
       "   sub_grade_A5  sub_grade_B1  sub_grade_B2  sub_grade_B3  sub_grade_B4  \\\n",
       "0             0             0             1             0             0   \n",
       "1             0             0             0             0             0   \n",
       "2             0             0             0             0             0   \n",
       "3             0             0             0             0             0   \n",
       "4             0             0             0             0             0   \n",
       "\n",
       "   sub_grade_B5  sub_grade_C1  sub_grade_C2  sub_grade_C3  sub_grade_C4  \\\n",
       "0             0             0             0             0             0   \n",
       "1             0             0             0             0             1   \n",
       "2             0             0             0             0             0   \n",
       "3             0             1             0             0             0   \n",
       "4             1             0             0             0             0   \n",
       "\n",
       "   sub_grade_C5  sub_grade_D1  sub_grade_D2  sub_grade_D3  sub_grade_D4  \\\n",
       "0             0             0             0             0             0   \n",
       "1             0             0             0             0             0   \n",
       "2             1             0             0             0             0   \n",
       "3             0             0             0             0             0   \n",
       "4             0             0             0             0             0   \n",
       "\n",
       "   sub_grade_D5  sub_grade_E1  sub_grade_E2  sub_grade_E3  sub_grade_E4  \\\n",
       "0             0             0             0             0             0   \n",
       "1             0             0             0             0             0   \n",
       "2             0             0             0             0             0   \n",
       "3             0             0             0             0             0   \n",
       "4             0             0             0             0             0   \n",
       "\n",
       "   sub_grade_E5  sub_grade_F1  sub_grade_F2  sub_grade_F3  sub_grade_F4  \\\n",
       "0             0             0             0             0             0   \n",
       "1             0             0             0             0             0   \n",
       "2             0             0             0             0             0   \n",
       "3             0             0             0             0             0   \n",
       "4             0             0             0             0             0   \n",
       "\n",
       "   sub_grade_F5  sub_grade_G1  sub_grade_G2  sub_grade_G3  sub_grade_G4  \\\n",
       "0             0             0             0             0             0   \n",
       "1             0             0             0             0             0   \n",
       "2             0             0             0             0             0   \n",
       "3             0             0             0             0             0   \n",
       "4             0             0             0             0             0   \n",
       "\n",
       "   sub_grade_G5  home_ownership_MORTGAGE  home_ownership_NONE  \\\n",
       "0             0                        0                    0   \n",
       "1             0                        0                    0   \n",
       "2             0                        0                    0   \n",
       "3             0                        0                    0   \n",
       "4             0                        0                    0   \n",
       "\n",
       "   home_ownership_OTHER  home_ownership_OWN  home_ownership_RENT  verif_stat  \\\n",
       "0                     0                   0                    1           3   \n",
       "1                     0                   0                    1           2   \n",
       "2                     0                   0                    1           1   \n",
       "3                     0                   0                    1           2   \n",
       "4                     0                   0                    1           2   \n",
       "\n",
       "   purpose_car  purpose_credit_card  purpose_debt_consolidation  \\\n",
       "0            0                    1                           0   \n",
       "1            1                    0                           0   \n",
       "2            0                    0                           0   \n",
       "3            0                    0                           0   \n",
       "4            0                    0                           0   \n",
       "\n",
       "   purpose_educational  purpose_home_improvement  purpose_house  \\\n",
       "0                    0                         0              0   \n",
       "1                    0                         0              0   \n",
       "2                    0                         0              0   \n",
       "3                    0                         0              0   \n",
       "4                    0                         0              0   \n",
       "\n",
       "   purpose_major_purchase  purpose_medical  purpose_moving  purpose_other  \\\n",
       "0                       0                0               0              0   \n",
       "1                       0                0               0              0   \n",
       "2                       0                0               0              0   \n",
       "3                       0                0               0              1   \n",
       "4                       0                0               0              1   \n",
       "\n",
       "   purpose_renewable_energy  purpose_small_business  purpose_vacation  \\\n",
       "0                         0                       0                 0   \n",
       "1                         0                       0                 0   \n",
       "2                         0                       1                 0   \n",
       "3                         0                       0                 0   \n",
       "4                         0                       0                 0   \n",
       "\n",
       "   purpose_wedding  year_issue  month_issue  year_ecl  month_ecl  geo_loc  \\\n",
       "0                0        2011           12         3          1        4   \n",
       "1                0        2011           12         2          4        3   \n",
       "2                0        2011           12         1         11        1   \n",
       "3                0        2011           12         2          2        4   \n",
       "4                0        2011           12         2          1        2   \n",
       "\n",
       "   geo_loc_ns  geo_loc_we  addr_state_AK  addr_state_AL  addr_state_AR  \\\n",
       "0           2           2              0              0              0   \n",
       "1           2           1              0              0              0   \n",
       "2           1           1              0              0              0   \n",
       "3           2           2              0              0              0   \n",
       "4           1           2              0              0              0   \n",
       "\n",
       "   addr_state_AZ  addr_state_CA  addr_state_CO  addr_state_CT  addr_state_DC  \\\n",
       "0              1              0              0              0              0   \n",
       "1              0              0              0              0              0   \n",
       "2              0              0              0              0              0   \n",
       "3              0              1              0              0              0   \n",
       "4              0              0              0              0              0   \n",
       "\n",
       "   addr_state_DE  addr_state_FL  addr_state_GA  addr_state_HI  addr_state_IA  \\\n",
       "0              0              0              0              0              0   \n",
       "1              0              0              1              0              0   \n",
       "2              0              0              0              0              0   \n",
       "3              0              0              0              0              0   \n",
       "4              0              0              0              0              0   \n",
       "\n",
       "   addr_state_ID  addr_state_IL  addr_state_IN  addr_state_KS  addr_state_KY  \\\n",
       "0              0              0              0              0              0   \n",
       "1              0              0              0              0              0   \n",
       "2              0              1              0              0              0   \n",
       "3              0              0              0              0              0   \n",
       "4              0              0              0              0              0   \n",
       "\n",
       "   addr_state_LA  addr_state_MA  addr_state_MD  addr_state_ME  addr_state_MI  \\\n",
       "0              0              0              0              0              0   \n",
       "1              0              0              0              0              0   \n",
       "2              0              0              0              0              0   \n",
       "3              0              0              0              0              0   \n",
       "4              0              0              0              0              0   \n",
       "\n",
       "   addr_state_MN  addr_state_MO  addr_state_MS  addr_state_MT  addr_state_NC  \\\n",
       "0              0              0              0              0              0   \n",
       "1              0              0              0              0              0   \n",
       "2              0              0              0              0              0   \n",
       "3              0              0              0              0              0   \n",
       "4              0              0              0              0              0   \n",
       "\n",
       "   addr_state_NE  addr_state_NH  addr_state_NJ  addr_state_NM  addr_state_NV  \\\n",
       "0              0              0              0              0              0   \n",
       "1              0              0              0              0              0   \n",
       "2              0              0              0              0              0   \n",
       "3              0              0              0              0              0   \n",
       "4              0              0              0              0              0   \n",
       "\n",
       "   addr_state_NY  addr_state_OH  addr_state_OK  addr_state_OR  addr_state_PA  \\\n",
       "0              0              0              0              0              0   \n",
       "1              0              0              0              0              0   \n",
       "2              0              0              0              0              0   \n",
       "3              0              0              0              0              0   \n",
       "4              0              0              0              1              0   \n",
       "\n",
       "   addr_state_RI  addr_state_SC  addr_state_SD  addr_state_TN  addr_state_TX  \\\n",
       "0              0              0              0              0              0   \n",
       "1              0              0              0              0              0   \n",
       "2              0              0              0              0              0   \n",
       "3              0              0              0              0              0   \n",
       "4              0              0              0              0              0   \n",
       "\n",
       "   addr_state_UT  addr_state_VA  addr_state_VT  addr_state_WA  addr_state_WI  \\\n",
       "0              0              0              0              0              0   \n",
       "1              0              0              0              0              0   \n",
       "2              0              0              0              0              0   \n",
       "3              0              0              0              0              0   \n",
       "4              0              0              0              0              0   \n",
       "\n",
       "   addr_state_WV  addr_state_WY  \n",
       "0              0              0  \n",
       "1              0              0  \n",
       "2              0              0  \n",
       "3              0              0  \n",
       "4              0              0  "
      ]
     },
     "metadata": {},
     "output_type": "display_data"
    }
   ],
   "source": [
    "# Load dataset\n",
    "\n",
    "df = pd.read_csv('Part_3.csv')\n",
    "pd.set_option(\"display.max_columns\", None)\n",
    "display(df.head())"
   ]
  },
  {
   "cell_type": "code",
   "execution_count": 3,
   "id": "92a6b017",
   "metadata": {},
   "outputs": [
    {
     "name": "stdout",
     "output_type": "stream",
     "text": [
      "<class 'pandas.core.frame.DataFrame'>\n",
      "RangeIndex: 39786 entries, 0 to 39785\n",
      "Columns: 130 entries, loan_status to addr_state_WY\n",
      "dtypes: float64(14), int64(116)\n",
      "memory usage: 39.5 MB\n"
     ]
    }
   ],
   "source": [
    "df.info()"
   ]
  },
  {
   "cell_type": "code",
   "execution_count": 4,
   "id": "bfa69f5b",
   "metadata": {},
   "outputs": [
    {
     "data": {
      "text/plain": [
       "0.0    130\n",
       "dtype: int64"
      ]
     },
     "execution_count": 4,
     "metadata": {},
     "output_type": "execute_result"
    }
   ],
   "source": [
    "# Checking nulls\n",
    "\n",
    "round(100 * (df.isnull().sum() / len(df.index)), 2).value_counts()"
   ]
  },
  {
   "cell_type": "code",
   "execution_count": 5,
   "id": "6275f8fa",
   "metadata": {},
   "outputs": [
    {
     "name": "stdout",
     "output_type": "stream",
     "text": [
      "['loan_status', 'loan_amnt', 'term', 'int_rate', 'installment', 'emp_length', 'annual_inc', 'dti', 'delinq_2yrs', 'inq_last_6mths', 'open_acc', 'pub_rec', 'revol_bal', 'revol_util', 'total_acc', 'pub_rec_bankruptcies', 'fico_score', 'fico_class', 'sub_grade_A1', 'sub_grade_A2', 'sub_grade_A3', 'sub_grade_A4', 'sub_grade_A5', 'sub_grade_B1', 'sub_grade_B2', 'sub_grade_B3', 'sub_grade_B4', 'sub_grade_B5', 'sub_grade_C1', 'sub_grade_C2', 'sub_grade_C3', 'sub_grade_C4', 'sub_grade_C5', 'sub_grade_D1', 'sub_grade_D2', 'sub_grade_D3', 'sub_grade_D4', 'sub_grade_D5', 'sub_grade_E1', 'sub_grade_E2', 'sub_grade_E3', 'sub_grade_E4', 'sub_grade_E5', 'sub_grade_F1', 'sub_grade_F2', 'sub_grade_F3', 'sub_grade_F4', 'sub_grade_F5', 'sub_grade_G1', 'sub_grade_G2', 'sub_grade_G3', 'sub_grade_G4', 'sub_grade_G5', 'home_ownership_MORTGAGE', 'home_ownership_NONE', 'home_ownership_OTHER', 'home_ownership_OWN', 'home_ownership_RENT', 'verif_stat', 'purpose_car', 'purpose_credit_card', 'purpose_debt_consolidation', 'purpose_educational', 'purpose_home_improvement', 'purpose_house', 'purpose_major_purchase', 'purpose_medical', 'purpose_moving', 'purpose_other', 'purpose_renewable_energy', 'purpose_small_business', 'purpose_vacation', 'purpose_wedding', 'year_issue', 'month_issue', 'year_ecl', 'month_ecl', 'geo_loc', 'geo_loc_ns', 'geo_loc_we', 'addr_state_AK', 'addr_state_AL', 'addr_state_AR', 'addr_state_AZ', 'addr_state_CA', 'addr_state_CO', 'addr_state_CT', 'addr_state_DC', 'addr_state_DE', 'addr_state_FL', 'addr_state_GA', 'addr_state_HI', 'addr_state_IA', 'addr_state_ID', 'addr_state_IL', 'addr_state_IN', 'addr_state_KS', 'addr_state_KY', 'addr_state_LA', 'addr_state_MA', 'addr_state_MD', 'addr_state_ME', 'addr_state_MI', 'addr_state_MN', 'addr_state_MO', 'addr_state_MS', 'addr_state_MT', 'addr_state_NC', 'addr_state_NE', 'addr_state_NH', 'addr_state_NJ', 'addr_state_NM', 'addr_state_NV', 'addr_state_NY', 'addr_state_OH', 'addr_state_OK', 'addr_state_OR', 'addr_state_PA', 'addr_state_RI', 'addr_state_SC', 'addr_state_SD', 'addr_state_TN', 'addr_state_TX', 'addr_state_UT', 'addr_state_VA', 'addr_state_VT', 'addr_state_WA', 'addr_state_WI', 'addr_state_WV', 'addr_state_WY']\n"
     ]
    }
   ],
   "source": [
    "print(df.columns.tolist())"
   ]
  },
  {
   "cell_type": "code",
   "execution_count": 6,
   "id": "9fb7fa97",
   "metadata": {},
   "outputs": [
    {
     "data": {
      "text/plain": [
       "(39786, 130)"
      ]
     },
     "execution_count": 6,
     "metadata": {},
     "output_type": "execute_result"
    }
   ],
   "source": [
    "df.shape"
   ]
  },
  {
   "cell_type": "code",
   "execution_count": 7,
   "id": "a42dce4a",
   "metadata": {},
   "outputs": [],
   "source": [
    "# Copy of the Data Frame\n",
    "\n",
    "df_copy = df"
   ]
  },
  {
   "cell_type": "markdown",
   "id": "fd2d9b88",
   "metadata": {},
   "source": [
    "## Training models"
   ]
  },
  {
   "cell_type": "markdown",
   "id": "18d45452",
   "metadata": {},
   "source": [
    "### Data splitting and standardization"
   ]
  },
  {
   "cell_type": "code",
   "execution_count": 8,
   "id": "e517752b",
   "metadata": {},
   "outputs": [
    {
     "data": {
      "text/plain": [
       "1    34116\n",
       "0     5670\n",
       "Name: loan_status, dtype: int64"
      ]
     },
     "execution_count": 8,
     "metadata": {},
     "output_type": "execute_result"
    }
   ],
   "source": [
    "df.loan_status.value_counts()"
   ]
  },
  {
   "cell_type": "code",
   "execution_count": 9,
   "id": "996239c2",
   "metadata": {},
   "outputs": [],
   "source": [
    "# Loading train_test_split\n",
    "\n",
    "from sklearn.model_selection import train_test_split"
   ]
  },
  {
   "cell_type": "code",
   "execution_count": 10,
   "id": "1f61a4e9",
   "metadata": {},
   "outputs": [
    {
     "name": "stdout",
     "output_type": "stream",
     "text": [
      "(39786, 129)\n",
      "(39786,)\n"
     ]
    }
   ],
   "source": [
    "# Spliting data into X and y and checking the shape\n",
    "\n",
    "X = df.drop('loan_status', axis=1)\n",
    "y = df['loan_status'].values\n",
    "\n",
    "print(X.shape)\n",
    "print(y.shape)"
   ]
  },
  {
   "cell_type": "code",
   "execution_count": 11,
   "id": "39eafda2",
   "metadata": {},
   "outputs": [],
   "source": [
    "# Data splitting into training and testing data\n",
    "\n",
    "X_train, X_test, y_train, y_test = train_test_split(X, y, test_size=0.30, random_state=42)"
   ]
  },
  {
   "cell_type": "code",
   "execution_count": 12,
   "id": "2df38f1a",
   "metadata": {},
   "outputs": [
    {
     "name": "stdout",
     "output_type": "stream",
     "text": [
      "(27850, 129)\n",
      "(11936, 129)\n",
      "(27850,)\n",
      "(11936,)\n"
     ]
    }
   ],
   "source": [
    "# Checking the size of the data split\n",
    "\n",
    "print(X_train.shape)\n",
    "print(X_test.shape)\n",
    "print(y_train.shape)\n",
    "print(y_test.shape)"
   ]
  },
  {
   "cell_type": "code",
   "execution_count": 13,
   "id": "fd931508",
   "metadata": {},
   "outputs": [],
   "source": [
    "# Data standardization\n",
    "\n",
    "from sklearn.preprocessing import StandardScaler\n",
    "scaler = StandardScaler()\n",
    "scaler.fit(X_train)\n",
    "X_scaled_train = scaler.transform(X_train)\n",
    "X_scaled_test = scaler.transform(X_test)\n",
    "\n",
    "\n",
    "# df_scaled = pd.DataFrame(scaled_data, columns=df.drop('loan_status',axis=1).columns)\n",
    "# df_scaled.head()"
   ]
  },
  {
   "cell_type": "code",
   "execution_count": 14,
   "id": "911e0f3b",
   "metadata": {},
   "outputs": [
    {
     "name": "stdout",
     "output_type": "stream",
     "text": [
      "First row of X_scaled_train: \n",
      " [-8.33414082e-01 -6.06308096e-01 -1.10308097e+00 -8.04104423e-01\n",
      "  5.67480374e-01 -2.41114184e-01  1.44595932e-01 -3.01148528e-01\n",
      " -8.13723499e-01 -5.20087053e-01 -2.32894542e-01 -6.27373463e-01\n",
      "  4.18220535e-01  1.80318132e-01 -2.09600856e-01 -2.13509756e-03\n",
      " -3.49801970e-01 -1.68849725e-01 -1.98426352e-01 -2.19037491e-01\n",
      "  3.55695949e+00 -2.73632172e-01 -2.21813719e-01 -2.33932648e-01\n",
      " -2.80692622e-01 -2.59097628e-01 -2.70052411e-01 -2.38339415e-01\n",
      " -2.29892249e-01 -1.99304398e-01 -1.79465456e-01 -1.74502236e-01\n",
      " -1.54951609e-01 -1.87618057e-01 -1.73955259e-01 -1.60334432e-01\n",
      " -1.52627391e-01 -1.36169831e-01 -1.29593405e-01 -1.19174143e-01\n",
      " -1.07300776e-01 -1.03291736e-01 -9.26440168e-02 -7.81362321e-02\n",
      " -6.68755294e-02 -6.60580244e-02 -5.56555153e-02 -5.23103445e-02\n",
      " -4.56829453e-02 -3.49616660e-02 -3.93239522e-02 -2.74701384e-02\n",
      " -8.95092182e-01 -8.47457627e-03 -4.76156201e-02 -2.88141409e-01\n",
      "  1.04880166e+00  1.19597219e-01 -2.00857333e-01  2.61504233e+00\n",
      " -9.40306137e-01 -9.32335922e-02 -2.87556333e-01 -9.83863572e-02\n",
      " -2.40100997e-01 -1.35209229e-01 -1.18863847e-01 -3.35390843e-01\n",
      " -5.12647402e-02 -2.20205187e-01 -9.98639147e-02 -1.55315705e-01\n",
      "  7.65577521e-01 -3.46118937e-01 -1.05362322e+00  5.96765180e-01\n",
      " -9.86068884e-01 -9.12336227e-01 -7.73781031e-01 -4.60759097e-02\n",
      " -1.06957868e-01 -7.88309701e-02 -1.48890536e-01 -4.67666238e-01\n",
      " -1.44030409e-01 -1.39014697e-01 -7.18411485e-02 -5.40085340e-02\n",
      " -2.79499841e-01 -1.90065399e-01 -6.57833049e-02 -1.19852911e-02\n",
      " -1.34002034e-02  5.02975096e+00 -1.69509787e-02 -8.41877798e-02\n",
      " -9.24466847e-02 -1.02757793e-01 -1.87104719e-01 -1.64295895e-01\n",
      " -8.47457627e-03 -1.38207410e-01 -1.24337374e-01 -1.31725465e-01\n",
      " -2.24264537e-02 -4.56829453e-02 -1.40616418e-01 -8.47457627e-03\n",
      " -6.57833049e-02 -2.22258853e-01 -6.76833347e-02 -1.12324554e-01\n",
      " -3.24890090e-01 -1.81375116e-01 -8.84107346e-02 -1.07642642e-01\n",
      " -1.95871029e-01 -7.00518885e-02 -1.08999873e-01 -4.11152655e-02\n",
      " -2.16102834e-02 -2.72493398e-01 -8.56887905e-02 -1.92084317e-01\n",
      " -3.64734583e-02 -1.45581244e-01 -1.06095968e-01 -6.66041231e-02\n",
      " -4.64655789e-02]\n",
      "First row of X_scaled_test: \n",
      " [-0.16330973 -0.6063081  -1.67169166 -0.56954084 -1.3964873   0.18471701\n",
      " -1.15077884 -0.30114853  1.05055747  0.39394418 -0.23289454 -0.00922977\n",
      " -0.87359404  0.18031813 -0.20960086  1.25117217  1.33537099 -0.16884973\n",
      "  5.03965319 -0.21903749 -0.28113899 -0.27363217 -0.22181372 -0.23393265\n",
      " -0.28069262 -0.25909763 -0.27005241 -0.23833942 -0.22989225 -0.1993044\n",
      " -0.17946546 -0.17450224 -0.15495161 -0.18761806 -0.17395526 -0.16033443\n",
      " -0.15262739 -0.13616983 -0.1295934  -0.11917414 -0.10730078 -0.10329174\n",
      " -0.09264402 -0.07813623 -0.06687553 -0.06605802 -0.05565552 -0.05231034\n",
      " -0.04568295 -0.03496167 -0.03932395 -0.02747014  1.11720337 -0.00847458\n",
      " -0.04761562 -0.28814141 -0.95346913 -1.04379172 -0.20085733 -0.38240299\n",
      "  1.06348343 -0.09323359 -0.28755633 -0.09838636 -0.240101   -0.13520923\n",
      " -0.11886385 -0.33539084 -0.05126474 -0.22020519 -0.09986391 -0.15531571\n",
      " -0.37606598  1.42058157  2.93885808 -0.53165321 -0.98606888 -0.91233623\n",
      " -0.77378103 -0.04607591 -0.10695787 -0.07883097 -0.14889054 -0.46766624\n",
      " -0.14403041 -0.1390147  -0.07184115 -0.05400853 -0.27949984 -0.1900654\n",
      " -0.0657833  -0.01198529 -0.0134002  -0.198817   -0.01695098 -0.08418778\n",
      " -0.09244668 -0.10275779 -0.18710472 -0.16429589 -0.00847458 -0.13820741\n",
      " -0.12433737 -0.13172547 -0.02242645 -0.04568295 -0.14061642 -0.00847458\n",
      " -0.0657833  -0.22225885 -0.06768333 -0.11232455 -0.32489009 -0.18137512\n",
      " -0.08841073 -0.10764264  5.10540025 -0.07005189 -0.10899987 -0.04111527\n",
      " -0.02161028 -0.2724934  -0.08568879 -0.19208432 -0.03647346 -0.14558124\n",
      " -0.10609597 -0.06660412 -0.04646558]\n"
     ]
    }
   ],
   "source": [
    "print(\"First row of X_scaled_train: \\n\", X_scaled_train[0])\n",
    "print(\"First row of X_scaled_test: \\n\", X_scaled_test[0])"
   ]
  },
  {
   "cell_type": "code",
   "execution_count": 15,
   "id": "ad624f20",
   "metadata": {},
   "outputs": [],
   "source": [
    "# Importing metrics and classification report\n",
    "\n",
    "from sklearn.metrics import classification_report,confusion_matrix\n",
    "from sklearn.metrics import precision_score"
   ]
  },
  {
   "cell_type": "code",
   "execution_count": 16,
   "id": "01ecc053",
   "metadata": {},
   "outputs": [],
   "source": [
    "# Function using to create a classification reports\n",
    "\n",
    "def evaluate(prediction,y_test): \n",
    "    result = classification_report(y_test,prediction,output_dict=True, zero_division=1)\n",
    "    f1 = result['1']['f1-score']\n",
    "    accuracy = result['accuracy']\n",
    "    performance_data= {'f1-score':round(f1, 2),\n",
    "                      'accuracy':round(accuracy, 2)}\n",
    "    return performance_data"
   ]
  },
  {
   "cell_type": "markdown",
   "id": "17e93cda",
   "metadata": {},
   "source": [
    "### Decision Tree"
   ]
  },
  {
   "cell_type": "code",
   "execution_count": 17,
   "id": "bac0ea22",
   "metadata": {},
   "outputs": [
    {
     "data": {
      "text/plain": [
       "DecisionTreeClassifier()"
      ]
     },
     "execution_count": 17,
     "metadata": {},
     "output_type": "execute_result"
    }
   ],
   "source": [
    "from sklearn.tree import DecisionTreeClassifier\n",
    "dtree = DecisionTreeClassifier()\n",
    "dtree.fit(X_scaled_train, y_train)"
   ]
  },
  {
   "cell_type": "code",
   "execution_count": 18,
   "id": "561971dd",
   "metadata": {},
   "outputs": [],
   "source": [
    "dt_prediction = dtree.predict(X_scaled_test)"
   ]
  },
  {
   "cell_type": "code",
   "execution_count": 19,
   "id": "f3b18dfb",
   "metadata": {},
   "outputs": [
    {
     "name": "stdout",
     "output_type": "stream",
     "text": [
      "              precision    recall  f1-score   support\n",
      "\n",
      "           0       0.21      0.22      0.21      1691\n",
      "           1       0.87      0.86      0.86     10245\n",
      "\n",
      "    accuracy                           0.77     11936\n",
      "   macro avg       0.54      0.54      0.54     11936\n",
      "weighted avg       0.78      0.77      0.77     11936\n",
      "\n"
     ]
    },
    {
     "data": {
      "text/plain": [
       "{'f1-score': 0.86, 'accuracy': 0.77}"
      ]
     },
     "execution_count": 19,
     "metadata": {},
     "output_type": "execute_result"
    }
   ],
   "source": [
    "print(classification_report(y_test, dt_prediction, zero_division=1))\n",
    "\n",
    "dtree_pr= evaluate(dt_prediction, y_test)\n",
    "dtree_pr"
   ]
  },
  {
   "cell_type": "code",
   "execution_count": 20,
   "id": "c6c7a8be",
   "metadata": {},
   "outputs": [
    {
     "data": {
      "text/plain": [
       "(array([0, 1], dtype=int64), array([ 1831, 10105], dtype=int64))"
      ]
     },
     "execution_count": 20,
     "metadata": {},
     "output_type": "execute_result"
    }
   ],
   "source": [
    "# Calculating the number of predicted 0s and 1s\n",
    "\n",
    "dtree_count = np.unique(dt_prediction, return_counts=True)\n",
    "dtree_count"
   ]
  },
  {
   "cell_type": "markdown",
   "id": "7e224fa5",
   "metadata": {},
   "source": [
    "### Random Forest"
   ]
  },
  {
   "cell_type": "code",
   "execution_count": 21,
   "id": "e1efbe38",
   "metadata": {},
   "outputs": [
    {
     "data": {
      "text/plain": [
       "RandomForestClassifier()"
      ]
     },
     "execution_count": 21,
     "metadata": {},
     "output_type": "execute_result"
    }
   ],
   "source": [
    "from sklearn.ensemble import RandomForestClassifier\n",
    "rf = RandomForestClassifier()\n",
    "rf.fit(X_scaled_train, y_train)"
   ]
  },
  {
   "cell_type": "code",
   "execution_count": 22,
   "id": "16ff52b7",
   "metadata": {},
   "outputs": [],
   "source": [
    "rf_prediction = rf.predict(X_scaled_test)"
   ]
  },
  {
   "cell_type": "code",
   "execution_count": 23,
   "id": "8fcdb1dc",
   "metadata": {},
   "outputs": [
    {
     "name": "stdout",
     "output_type": "stream",
     "text": [
      "              precision    recall  f1-score   support\n",
      "\n",
      "           0       0.57      0.01      0.01      1691\n",
      "           1       0.86      1.00      0.92     10245\n",
      "\n",
      "    accuracy                           0.86     11936\n",
      "   macro avg       0.72      0.50      0.47     11936\n",
      "weighted avg       0.82      0.86      0.79     11936\n",
      "\n",
      "{'f1-score': 0.92, 'accuracy': 0.86}\n"
     ]
    }
   ],
   "source": [
    "print(classification_report(y_test, rf_prediction, zero_division=1))\n",
    "rf_pr = evaluate(rf_prediction,y_test)\n",
    "print(rf_pr)"
   ]
  },
  {
   "cell_type": "code",
   "execution_count": 24,
   "id": "c573c06f",
   "metadata": {},
   "outputs": [
    {
     "data": {
      "text/plain": [
       "(array([0, 1], dtype=int64), array([   21, 11915], dtype=int64))"
      ]
     },
     "execution_count": 24,
     "metadata": {},
     "output_type": "execute_result"
    }
   ],
   "source": [
    "rf_count = np.unique(rf_prediction, return_counts=True)\n",
    "rf_count"
   ]
  },
  {
   "cell_type": "markdown",
   "id": "0a6be390",
   "metadata": {},
   "source": [
    "### Logistic Regression"
   ]
  },
  {
   "cell_type": "code",
   "execution_count": 25,
   "id": "0c835b66",
   "metadata": {},
   "outputs": [
    {
     "data": {
      "text/plain": [
       "LogisticRegression(random_state=42)"
      ]
     },
     "execution_count": 25,
     "metadata": {},
     "output_type": "execute_result"
    }
   ],
   "source": [
    "from sklearn.linear_model import LogisticRegression\n",
    "lr = LogisticRegression(random_state=42)\n",
    "lr.fit(X_scaled_train, y_train)"
   ]
  },
  {
   "cell_type": "code",
   "execution_count": 26,
   "id": "b3017ea5",
   "metadata": {},
   "outputs": [],
   "source": [
    "lr_prediction = lr.predict(X_scaled_test)"
   ]
  },
  {
   "cell_type": "code",
   "execution_count": 27,
   "id": "cf7db45d",
   "metadata": {},
   "outputs": [
    {
     "name": "stdout",
     "output_type": "stream",
     "text": [
      "              precision    recall  f1-score   support\n",
      "\n",
      "           0       0.56      0.02      0.03      1691\n",
      "           1       0.86      1.00      0.92     10245\n",
      "\n",
      "    accuracy                           0.86     11936\n",
      "   macro avg       0.71      0.51      0.48     11936\n",
      "weighted avg       0.82      0.86      0.80     11936\n",
      "\n",
      "{'f1-score': 0.92, 'accuracy': 0.86}\n"
     ]
    }
   ],
   "source": [
    "print(classification_report(y_test, lr_prediction, zero_division=1))\n",
    "lr_pr = evaluate(lr_prediction,y_test)\n",
    "print(lr_pr)"
   ]
  },
  {
   "cell_type": "code",
   "execution_count": 28,
   "id": "aaffc8fd",
   "metadata": {},
   "outputs": [
    {
     "data": {
      "text/plain": [
       "(array([0, 1], dtype=int64), array([   54, 11882], dtype=int64))"
      ]
     },
     "execution_count": 28,
     "metadata": {},
     "output_type": "execute_result"
    }
   ],
   "source": [
    "lr_count = np.unique(lr_prediction, return_counts=True)\n",
    "lr_count"
   ]
  },
  {
   "cell_type": "markdown",
   "id": "31ab3463",
   "metadata": {},
   "source": [
    "### Naïve Bayes"
   ]
  },
  {
   "cell_type": "code",
   "execution_count": 30,
   "id": "c4ca3dce",
   "metadata": {},
   "outputs": [
    {
     "data": {
      "text/plain": [
       "GaussianNB()"
      ]
     },
     "execution_count": 30,
     "metadata": {},
     "output_type": "execute_result"
    }
   ],
   "source": [
    "from sklearn.naive_bayes import GaussianNB\n",
    "nb = GaussianNB()\n",
    "nb.fit(X_scaled_train, y_train)"
   ]
  },
  {
   "cell_type": "code",
   "execution_count": 31,
   "id": "fd7cff2b",
   "metadata": {},
   "outputs": [],
   "source": [
    "nb_prediction = nb.predict(X_scaled_test)"
   ]
  },
  {
   "cell_type": "code",
   "execution_count": 32,
   "id": "81cc6945",
   "metadata": {},
   "outputs": [
    {
     "name": "stdout",
     "output_type": "stream",
     "text": [
      "              precision    recall  f1-score   support\n",
      "\n",
      "           0       0.15      0.98      0.26      1691\n",
      "           1       0.96      0.07      0.13     10245\n",
      "\n",
      "    accuracy                           0.20     11936\n",
      "   macro avg       0.55      0.53      0.19     11936\n",
      "weighted avg       0.84      0.20      0.15     11936\n",
      "\n",
      "{'f1-score': 0.13, 'accuracy': 0.2}\n"
     ]
    }
   ],
   "source": [
    "print(classification_report(y_test, nb_prediction, zero_division=1))\n",
    "nb_pr = evaluate(nb_prediction,y_test)\n",
    "print(nb_pr)"
   ]
  },
  {
   "cell_type": "code",
   "execution_count": 33,
   "id": "028e9a00",
   "metadata": {
    "scrolled": true
   },
   "outputs": [
    {
     "data": {
      "text/plain": [
       "(array([0, 1], dtype=int64), array([11205,   731], dtype=int64))"
      ]
     },
     "execution_count": 33,
     "metadata": {},
     "output_type": "execute_result"
    }
   ],
   "source": [
    "nb_count = np.unique(nb_prediction, return_counts=True)\n",
    "nb_count"
   ]
  },
  {
   "cell_type": "markdown",
   "id": "244125ae",
   "metadata": {},
   "source": [
    "### K-Nearest Neighbors (KNN)"
   ]
  },
  {
   "cell_type": "code",
   "execution_count": 35,
   "id": "a8a57a08",
   "metadata": {},
   "outputs": [],
   "source": [
    "from sklearn.neighbors import KNeighborsClassifier\n",
    "knn = KNeighborsClassifier(n_neighbors=5)"
   ]
  },
  {
   "cell_type": "code",
   "execution_count": 36,
   "id": "21f7e03f",
   "metadata": {},
   "outputs": [
    {
     "data": {
      "text/plain": [
       "KNeighborsClassifier()"
      ]
     },
     "execution_count": 36,
     "metadata": {},
     "output_type": "execute_result"
    }
   ],
   "source": [
    "knn.fit(X_scaled_train, y_train)"
   ]
  },
  {
   "cell_type": "code",
   "execution_count": 37,
   "id": "4326dfb1",
   "metadata": {},
   "outputs": [],
   "source": [
    "from warnings import simplefilter\n",
    "simplefilter(action='ignore', category=FutureWarning)"
   ]
  },
  {
   "cell_type": "code",
   "execution_count": 38,
   "id": "6e530cc3",
   "metadata": {},
   "outputs": [],
   "source": [
    "knn_prediction = knn.predict(X_scaled_test)"
   ]
  },
  {
   "cell_type": "code",
   "execution_count": 39,
   "id": "ca07a273",
   "metadata": {},
   "outputs": [
    {
     "name": "stdout",
     "output_type": "stream",
     "text": [
      "              precision    recall  f1-score   support\n",
      "\n",
      "           0       0.06      0.23      0.10       455\n",
      "           1       0.97      0.86      0.91     11481\n",
      "\n",
      "    accuracy                           0.84     11936\n",
      "   macro avg       0.51      0.55      0.50     11936\n",
      "weighted avg       0.93      0.84      0.88     11936\n",
      "\n"
     ]
    },
    {
     "data": {
      "text/plain": [
       "{'f1-score': 0.91, 'accuracy': 0.84}"
      ]
     },
     "execution_count": 39,
     "metadata": {},
     "output_type": "execute_result"
    }
   ],
   "source": [
    "print(classification_report(knn_prediction, y_test, zero_division=1))\n",
    "knn_pr = evaluate(knn_prediction, y_test)\n",
    "knn_pr"
   ]
  },
  {
   "cell_type": "code",
   "execution_count": 40,
   "id": "cdf14bb0",
   "metadata": {},
   "outputs": [
    {
     "data": {
      "text/plain": [
       "(array([0, 1], dtype=int64), array([  455, 11481], dtype=int64))"
      ]
     },
     "execution_count": 40,
     "metadata": {},
     "output_type": "execute_result"
    }
   ],
   "source": [
    "knn_count = np.unique(knn_prediction, return_counts=True)\n",
    "knn_count"
   ]
  },
  {
   "cell_type": "markdown",
   "id": "80cc2b7e",
   "metadata": {},
   "source": [
    "### Multi Layer Perceptron Classifier (MLP)"
   ]
  },
  {
   "cell_type": "code",
   "execution_count": 41,
   "id": "d6e9fcb6",
   "metadata": {},
   "outputs": [],
   "source": [
    "from sklearn.neural_network import MLPClassifier\n",
    "mlp = MLPClassifier(random_state=42)"
   ]
  },
  {
   "cell_type": "code",
   "execution_count": 42,
   "id": "06e5f3c2",
   "metadata": {},
   "outputs": [
    {
     "name": "stderr",
     "output_type": "stream",
     "text": [
      "C:\\Users\\barte\\anaconda3\\lib\\site-packages\\sklearn\\neural_network\\_multilayer_perceptron.py:692: ConvergenceWarning: Stochastic Optimizer: Maximum iterations (200) reached and the optimization hasn't converged yet.\n",
      "  warnings.warn(\n"
     ]
    },
    {
     "data": {
      "text/plain": [
       "MLPClassifier(random_state=42)"
      ]
     },
     "execution_count": 42,
     "metadata": {},
     "output_type": "execute_result"
    }
   ],
   "source": [
    "mlp.fit(X_scaled_train, y_train)"
   ]
  },
  {
   "cell_type": "code",
   "execution_count": 43,
   "id": "649933a3",
   "metadata": {},
   "outputs": [],
   "source": [
    "mlp_prediction = mlp.predict(X_scaled_test)"
   ]
  },
  {
   "cell_type": "code",
   "execution_count": 44,
   "id": "fbdc0556",
   "metadata": {},
   "outputs": [
    {
     "name": "stdout",
     "output_type": "stream",
     "text": [
      "              precision    recall  f1-score   support\n",
      "\n",
      "           0       0.20      0.22      0.21      1557\n",
      "           1       0.88      0.87      0.88     10379\n",
      "\n",
      "    accuracy                           0.78     11936\n",
      "   macro avg       0.54      0.54      0.54     11936\n",
      "weighted avg       0.79      0.78      0.79     11936\n",
      "\n"
     ]
    },
    {
     "data": {
      "text/plain": [
       "{'f1-score': 0.88, 'accuracy': 0.78}"
      ]
     },
     "execution_count": 44,
     "metadata": {},
     "output_type": "execute_result"
    }
   ],
   "source": [
    "print(classification_report(mlp_prediction, y_test, zero_division=1))\n",
    "mlp_pr = evaluate(mlp_prediction, y_test)\n",
    "mlp_pr"
   ]
  },
  {
   "cell_type": "code",
   "execution_count": 45,
   "id": "46b52c83",
   "metadata": {},
   "outputs": [
    {
     "data": {
      "text/plain": [
       "(array([0, 1], dtype=int64), array([ 1557, 10379], dtype=int64))"
      ]
     },
     "execution_count": 45,
     "metadata": {},
     "output_type": "execute_result"
    }
   ],
   "source": [
    "mlp_count = np.unique(mlp_prediction, return_counts=True)\n",
    "mlp_count"
   ]
  },
  {
   "cell_type": "markdown",
   "id": "b0f96e67",
   "metadata": {},
   "source": [
    "### XGBoost Classifier"
   ]
  },
  {
   "cell_type": "code",
   "execution_count": 46,
   "id": "e115f8fc",
   "metadata": {},
   "outputs": [],
   "source": [
    "from xgboost import XGBClassifier\n",
    "xgb = XGBClassifier(random_state=42)"
   ]
  },
  {
   "cell_type": "code",
   "execution_count": 47,
   "id": "85e07152",
   "metadata": {},
   "outputs": [
    {
     "data": {
      "text/plain": [
       "XGBClassifier(base_score=None, booster=None, callbacks=None,\n",
       "              colsample_bylevel=None, colsample_bynode=None,\n",
       "              colsample_bytree=None, early_stopping_rounds=None,\n",
       "              enable_categorical=False, eval_metric=None, feature_types=None,\n",
       "              gamma=None, gpu_id=None, grow_policy=None, importance_type=None,\n",
       "              interaction_constraints=None, learning_rate=None, max_bin=None,\n",
       "              max_cat_threshold=None, max_cat_to_onehot=None,\n",
       "              max_delta_step=None, max_depth=None, max_leaves=None,\n",
       "              min_child_weight=None, missing=nan, monotone_constraints=None,\n",
       "              n_estimators=100, n_jobs=None, num_parallel_tree=None,\n",
       "              predictor=None, random_state=42, ...)"
      ]
     },
     "execution_count": 47,
     "metadata": {},
     "output_type": "execute_result"
    }
   ],
   "source": [
    "xgb.fit(X_scaled_train, y_train)"
   ]
  },
  {
   "cell_type": "code",
   "execution_count": 48,
   "id": "8edf7d2e",
   "metadata": {},
   "outputs": [],
   "source": [
    "xgb_prediction = xgb.predict(X_scaled_test)"
   ]
  },
  {
   "cell_type": "code",
   "execution_count": 49,
   "id": "1ba648c4",
   "metadata": {},
   "outputs": [
    {
     "name": "stdout",
     "output_type": "stream",
     "text": [
      "              precision    recall  f1-score   support\n",
      "\n",
      "           0       0.05      0.34      0.09       248\n",
      "           1       0.98      0.86      0.92     11688\n",
      "\n",
      "    accuracy                           0.85     11936\n",
      "   macro avg       0.52      0.60      0.50     11936\n",
      "weighted avg       0.96      0.85      0.90     11936\n",
      "\n"
     ]
    },
    {
     "data": {
      "text/plain": [
       "{'f1-score': 0.92, 'accuracy': 0.85}"
      ]
     },
     "execution_count": 49,
     "metadata": {},
     "output_type": "execute_result"
    }
   ],
   "source": [
    "print(classification_report(xgb_prediction, y_test, zero_division=1))\n",
    "xgb_pr = evaluate(xgb_prediction, y_test)\n",
    "xgb_pr"
   ]
  },
  {
   "cell_type": "code",
   "execution_count": 50,
   "id": "ce368dda",
   "metadata": {},
   "outputs": [
    {
     "data": {
      "text/plain": [
       "(array([0, 1]), array([  248, 11688], dtype=int64))"
      ]
     },
     "execution_count": 50,
     "metadata": {},
     "output_type": "execute_result"
    }
   ],
   "source": [
    "xgb_count = np.unique(xgb_prediction, return_counts=True)\n",
    "xgb_count"
   ]
  },
  {
   "cell_type": "code",
   "execution_count": 51,
   "id": "8c2bf69a",
   "metadata": {},
   "outputs": [
    {
     "data": {
      "text/html": [
       "<div>\n",
       "<style scoped>\n",
       "    .dataframe tbody tr th:only-of-type {\n",
       "        vertical-align: middle;\n",
       "    }\n",
       "\n",
       "    .dataframe tbody tr th {\n",
       "        vertical-align: top;\n",
       "    }\n",
       "\n",
       "    .dataframe thead th {\n",
       "        text-align: right;\n",
       "    }\n",
       "</style>\n",
       "<table border=\"1\" class=\"dataframe\">\n",
       "  <thead>\n",
       "    <tr style=\"text-align: right;\">\n",
       "      <th></th>\n",
       "      <th>Model</th>\n",
       "      <th>F1-score</th>\n",
       "      <th>Accuracy</th>\n",
       "      <th>Balnce [0 : 1]</th>\n",
       "    </tr>\n",
       "  </thead>\n",
       "  <tbody>\n",
       "    <tr>\n",
       "      <th>0</th>\n",
       "      <td>Decision Tree</td>\n",
       "      <td>0.86</td>\n",
       "      <td>0.77</td>\n",
       "      <td>[1831, 10105]</td>\n",
       "    </tr>\n",
       "    <tr>\n",
       "      <th>1</th>\n",
       "      <td>Random Forest</td>\n",
       "      <td>0.92</td>\n",
       "      <td>0.86</td>\n",
       "      <td>[21, 11915]</td>\n",
       "    </tr>\n",
       "    <tr>\n",
       "      <th>2</th>\n",
       "      <td>Logistic Regression</td>\n",
       "      <td>0.92</td>\n",
       "      <td>0.86</td>\n",
       "      <td>[54, 11882]</td>\n",
       "    </tr>\n",
       "    <tr>\n",
       "      <th>3</th>\n",
       "      <td>Naive Bayes</td>\n",
       "      <td>0.13</td>\n",
       "      <td>0.20</td>\n",
       "      <td>[11205, 731]</td>\n",
       "    </tr>\n",
       "    <tr>\n",
       "      <th>4</th>\n",
       "      <td>KNN</td>\n",
       "      <td>0.91</td>\n",
       "      <td>0.84</td>\n",
       "      <td>[455, 11481]</td>\n",
       "    </tr>\n",
       "    <tr>\n",
       "      <th>5</th>\n",
       "      <td>MLP</td>\n",
       "      <td>0.88</td>\n",
       "      <td>0.78</td>\n",
       "      <td>[1557, 10379]</td>\n",
       "    </tr>\n",
       "    <tr>\n",
       "      <th>6</th>\n",
       "      <td>XGB</td>\n",
       "      <td>0.92</td>\n",
       "      <td>0.85</td>\n",
       "      <td>[248, 11688]</td>\n",
       "    </tr>\n",
       "  </tbody>\n",
       "</table>\n",
       "</div>"
      ],
      "text/plain": [
       "                 Model  F1-score  Accuracy Balnce [0 : 1]\n",
       "0        Decision Tree      0.86      0.77  [1831, 10105]\n",
       "1        Random Forest      0.92      0.86    [21, 11915]\n",
       "2  Logistic Regression      0.92      0.86    [54, 11882]\n",
       "3          Naive Bayes      0.13      0.20   [11205, 731]\n",
       "4                  KNN      0.91      0.84   [455, 11481]\n",
       "5                  MLP      0.88      0.78  [1557, 10379]\n",
       "6                  XGB      0.92      0.85   [248, 11688]"
      ]
     },
     "execution_count": 51,
     "metadata": {},
     "output_type": "execute_result"
    }
   ],
   "source": [
    "prediction_data={'Model': ['Decision Tree',\n",
    "                          'Random Forest',\n",
    "                          'Logistic Regression',\n",
    "                          'Naive Bayes',\n",
    "                          'KNN',\n",
    "                          'MLP',\n",
    "                          'XGB'\n",
    "                         ],\n",
    "                 \n",
    "                  'F1-score': [dtree_pr['f1-score'],\n",
    "                              rf_pr['f1-score'],\n",
    "                              lr_pr['f1-score'],\n",
    "                              nb_pr['f1-score'],\n",
    "                              knn_pr['f1-score'],\n",
    "                              mlp_pr['f1-score'],\n",
    "                              xgb_pr['f1-score']\n",
    "                         ],\n",
    "                 \n",
    "                  'Accuracy': [dtree_pr['accuracy'],\n",
    "                              rf_pr['accuracy'],\n",
    "                              lr_pr['accuracy'],\n",
    "                              nb_pr['accuracy'],\n",
    "                              knn_pr['accuracy'],\n",
    "                              mlp_pr['accuracy'],\n",
    "                              xgb_pr['accuracy']\n",
    "                         ],\n",
    "                 \n",
    "            'Balnce [0 : 1]': [dtree_count[1],\n",
    "                              rf_count[1],\n",
    "                              lr_count[1],\n",
    "                              nb_count[1],\n",
    "                              knn_count[1],\n",
    "                              mlp_count[1],\n",
    "                              xgb_count[1]\n",
    "                              ]\n",
    "                 \n",
    "                    }\n",
    " \n",
    "# Create DataFrame\n",
    "prediction_table = pd.DataFrame(prediction_data)\n",
    "prediction_table"
   ]
  },
  {
   "cell_type": "markdown",
   "id": "753eab9e",
   "metadata": {},
   "source": [
    "The two models: Random Forest and Logistic Regression have the same high accuracy and f1_score but the answers are unbalanced (only a few negative answers (0) for Random Forest and Logistic Regression). This means that these models predict that most borrowers will repay their loans. The models: Decision Tree, KNN, MLP and XGB are characterized by better balanced data. The Naive Bayes algorithm shows an inversely proportional relationship between loan repayments than in the original data and also has the lowest scores."
   ]
  },
  {
   "cell_type": "markdown",
   "id": "85d17a7c",
   "metadata": {},
   "source": [
    "## Data compression by PCA"
   ]
  },
  {
   "cell_type": "code",
   "execution_count": null,
   "id": "a902b6a1",
   "metadata": {},
   "outputs": [],
   "source": [
    "X_scaled = scaler.fit_transform(X_train)"
   ]
  },
  {
   "cell_type": "code",
   "execution_count": null,
   "id": "f5839ed2",
   "metadata": {},
   "outputs": [],
   "source": [
    "X_scaled[:4, :4]"
   ]
  },
  {
   "cell_type": "code",
   "execution_count": null,
   "id": "d52a040f",
   "metadata": {},
   "outputs": [],
   "source": [
    "X_scaled_df = pd.DataFrame(X_scaled, columns=X.columns)\n",
    "X_scaled_df.head()"
   ]
  },
  {
   "cell_type": "code",
   "execution_count": null,
   "id": "5964c049",
   "metadata": {},
   "outputs": [],
   "source": [
    "# Heatmap\n",
    "\n",
    "plt.figure(figsize = (20,10))\n",
    "sns.heatmap(X_scaled_df.corr(), annot=True)"
   ]
  },
  {
   "cell_type": "code",
   "execution_count": null,
   "id": "03c778d9",
   "metadata": {},
   "outputs": [],
   "source": [
    "from sklearn.decomposition import PCA\n",
    "\n",
    "pca = PCA(n_components=0.95, random_state=42)\n",
    "pca.fit(X_scaled)"
   ]
  },
  {
   "cell_type": "code",
   "execution_count": null,
   "id": "c0f67440",
   "metadata": {},
   "outputs": [],
   "source": [
    "pca.components_[0]"
   ]
  },
  {
   "cell_type": "code",
   "execution_count": null,
   "id": "9abfb1e8",
   "metadata": {},
   "outputs": [],
   "source": [
    "# Percentage of variance explained by each of the selected components.\n",
    "\n",
    "pca.explained_variance_ratio_"
   ]
  },
  {
   "cell_type": "code",
   "execution_count": null,
   "id": "f8abbb4d",
   "metadata": {},
   "outputs": [],
   "source": [
    "# Cumulative sum of elements\n",
    "\n",
    "var_cumu = np.cumsum(pca.explained_variance_ratio_)\n",
    "var_cumu"
   ]
  },
  {
   "cell_type": "code",
   "execution_count": null,
   "id": "76c2f2b8",
   "metadata": {},
   "outputs": [],
   "source": [
    "# Plotting the best number of PCA components\n",
    "\n",
    "fig = plt.figure(figsize=[12,8], dpi=200)\n",
    "plt.xticks([0, 10, 20, 30, 40, 50, 60, 70, 80, 90, 100, 110, 120, 130])\n",
    "plt.vlines(x=107, ymax=1, ymin=0, colors='r', linestyles='--')\n",
    "plt.hlines(y=0.95, xmax = 130, xmin=0, colors='g', linestyles='--')\n",
    "plt.plot(var_cumu)\n",
    "plt.ylabel(\"Cumulative variance (%)\")\n",
    "plt.show()"
   ]
  },
  {
   "cell_type": "code",
   "execution_count": null,
   "id": "7131a35c",
   "metadata": {},
   "outputs": [],
   "source": [
    "# Data compression to 18 variables\n",
    "\n",
    "pca_final = PCA(n_components=18)\n",
    "X_pca_final = pca_final.fit_transform(X_scaled) "
   ]
  },
  {
   "cell_type": "code",
   "execution_count": null,
   "id": "aa2a7bf1",
   "metadata": {},
   "outputs": [],
   "source": [
    "print(X.shape)\n",
    "print(X_pca_final.shape)"
   ]
  },
  {
   "cell_type": "code",
   "execution_count": null,
   "id": "e3258bd9",
   "metadata": {},
   "outputs": [],
   "source": [
    "corrmat = np.corrcoef(X_pca_final.transpose())\n",
    "corrmat.shape"
   ]
  },
  {
   "cell_type": "code",
   "execution_count": null,
   "id": "5a06896f",
   "metadata": {},
   "outputs": [],
   "source": [
    "# Heatmap after PCA\n",
    "\n",
    "plt.figure(figsize=[20,20])\n",
    "sns.heatmap(corrmat, annot=True)"
   ]
  },
  {
   "cell_type": "code",
   "execution_count": null,
   "id": "03b12e68",
   "metadata": {},
   "outputs": [],
   "source": [
    "colnames = list(X.columns)\n",
    "pca_df = pd.DataFrame({'PC1': pca.components_[0], 'PC2': pca.components_[1], 'PC3': pca.components_[2], \n",
    "                       'PC4': pca.components_[3], 'PC5': pca.components_[4], 'PC6': pca.components_[5], \n",
    "                       'PC7': pca.components_[6], 'PC8': pca.components_[7], 'PC9': pca.components_[8],\n",
    "                       'PC10': pca.components_[9], 'PC11': pca.components_[10], 'PC12': pca.components_[11],\n",
    "                       'PC13': pca.components_[12], 'PC14': pca.components_[13], 'PC15': pca.components_[14],\n",
    "                       'PC16': pca.components_[15], 'PC17': pca.components_[16], 'PC18': pca.components_[17],\n",
    "                       'Features': colnames})\n",
    "pca_df"
   ]
  },
  {
   "cell_type": "code",
   "execution_count": null,
   "id": "31b43275",
   "metadata": {},
   "outputs": [],
   "source": [
    "pca_df.shape"
   ]
  },
  {
   "cell_type": "markdown",
   "id": "fbd78963",
   "metadata": {},
   "source": [
    "## Training models after PCA"
   ]
  },
  {
   "cell_type": "code",
   "execution_count": null,
   "id": "7f030a24",
   "metadata": {},
   "outputs": [],
   "source": [
    "X = X_pca_final\n",
    "y = df.loan_status\n",
    "\n",
    "print(X.shape)\n",
    "print(y.shape)"
   ]
  },
  {
   "cell_type": "code",
   "execution_count": null,
   "id": "d9d59327",
   "metadata": {},
   "outputs": [],
   "source": [
    "X_train, X_test, y_train, y_test = train_test_split(X, y, test_size=0.30, random_state=42)"
   ]
  },
  {
   "cell_type": "markdown",
   "id": "85ef16da",
   "metadata": {},
   "source": [
    "### Decision Tree"
   ]
  },
  {
   "cell_type": "code",
   "execution_count": null,
   "id": "3146fe7d",
   "metadata": {},
   "outputs": [],
   "source": [
    "dtree_pca = DecisionTreeClassifier()\n",
    "dtree_pca.fit(X_train, y_train)"
   ]
  },
  {
   "cell_type": "code",
   "execution_count": null,
   "id": "cf61b19c",
   "metadata": {},
   "outputs": [],
   "source": [
    "dtree_pca_pred = dtree_pca.predict(X_test)"
   ]
  },
  {
   "cell_type": "code",
   "execution_count": null,
   "id": "892fa36a",
   "metadata": {},
   "outputs": [],
   "source": [
    "print(classification_report(y_test, dtree_pca_pred, zero_division=1))\n",
    "\n",
    "dtree_pca_pr = evaluate(dtree_pca_pred,y_test)\n",
    "dtree_pca_pr"
   ]
  },
  {
   "cell_type": "code",
   "execution_count": null,
   "id": "2706fbcc",
   "metadata": {},
   "outputs": [],
   "source": [
    "dtree_pca_count = np.unique(dtree_pca_pred, return_counts=True)\n",
    "dtree_pca_count"
   ]
  },
  {
   "cell_type": "markdown",
   "id": "2881d049",
   "metadata": {},
   "source": [
    "### Random Forest"
   ]
  },
  {
   "cell_type": "code",
   "execution_count": null,
   "id": "6ce500d2",
   "metadata": {},
   "outputs": [],
   "source": [
    "rf_pca = RandomForestClassifier()\n",
    "rf_pca.fit(X_train, y_train)"
   ]
  },
  {
   "cell_type": "code",
   "execution_count": null,
   "id": "aaf056e0",
   "metadata": {},
   "outputs": [],
   "source": [
    "rf_pca_pred = rf_pca.predict(X_test)"
   ]
  },
  {
   "cell_type": "code",
   "execution_count": null,
   "id": "447451c8",
   "metadata": {},
   "outputs": [],
   "source": [
    "print(classification_report(y_test, rf_pca_pred, zero_division=1))\n",
    "\n",
    "rf_pca_pr = evaluate(rf_pca_pred, y_test)\n",
    "rf_pca_pr"
   ]
  },
  {
   "cell_type": "code",
   "execution_count": null,
   "id": "639908e8",
   "metadata": {},
   "outputs": [],
   "source": [
    "rf_pca_count = np.unique(rf_pca_pred, return_counts=True)\n",
    "rf_pca_count"
   ]
  },
  {
   "cell_type": "markdown",
   "id": "d468c56a",
   "metadata": {},
   "source": [
    "### Logistic Regression"
   ]
  },
  {
   "cell_type": "code",
   "execution_count": null,
   "id": "fb219928",
   "metadata": {},
   "outputs": [],
   "source": [
    "lr_pca = LogisticRegression()\n",
    "lr_pca.fit(X_train, y_train)"
   ]
  },
  {
   "cell_type": "code",
   "execution_count": null,
   "id": "c37f5990",
   "metadata": {},
   "outputs": [],
   "source": [
    "lr_pca_pred = lr_pca.predict(X_test)"
   ]
  },
  {
   "cell_type": "code",
   "execution_count": null,
   "id": "00c75d91",
   "metadata": {},
   "outputs": [],
   "source": [
    "print(classification_report(y_test, lr_pca_pred, zero_division=1))\n",
    "\n",
    "lr_pca_pr = evaluate(lr_pca_pred, y_test)\n",
    "lr_pca_pr"
   ]
  },
  {
   "cell_type": "code",
   "execution_count": null,
   "id": "ea14febd",
   "metadata": {},
   "outputs": [],
   "source": [
    "lr_pca_count = np.unique(lr_pca_pred, return_counts=True)\n",
    "lr_pca_count"
   ]
  },
  {
   "cell_type": "markdown",
   "id": "f492e3f2",
   "metadata": {},
   "source": [
    "### Naïve Bayes"
   ]
  },
  {
   "cell_type": "code",
   "execution_count": null,
   "id": "b818f08e",
   "metadata": {},
   "outputs": [],
   "source": [
    "from sklearn.naive_bayes import GaussianNB\n",
    "nb_pca = GaussianNB()\n",
    "nb_pca.fit(X_train, y_train)"
   ]
  },
  {
   "cell_type": "code",
   "execution_count": null,
   "id": "ff217019",
   "metadata": {},
   "outputs": [],
   "source": [
    "nb_pca_pred = nb_pca.predict(X_test)"
   ]
  },
  {
   "cell_type": "code",
   "execution_count": null,
   "id": "bffb4d08",
   "metadata": {},
   "outputs": [],
   "source": [
    "print(classification_report(y_test, nb_pca_pred, zero_division=1))\n",
    "\n",
    "nb_pca_pr = evaluate(nb_pca_pred, y_test)\n",
    "nb_pca_pr"
   ]
  },
  {
   "cell_type": "code",
   "execution_count": null,
   "id": "3c1894f5",
   "metadata": {},
   "outputs": [],
   "source": [
    "nb_pca_count = np.unique(nb_pca_pred, return_counts=True)\n",
    "nb_pca_count"
   ]
  },
  {
   "cell_type": "markdown",
   "id": "05cd7575",
   "metadata": {},
   "source": [
    "### Support Vector Machine (SVM)"
   ]
  },
  {
   "cell_type": "code",
   "execution_count": null,
   "id": "c744a91f",
   "metadata": {},
   "outputs": [],
   "source": [
    "svm_pca = SVC()\n",
    "svm_pca.fit(X_train, y_train)"
   ]
  },
  {
   "cell_type": "code",
   "execution_count": null,
   "id": "9408a94d",
   "metadata": {},
   "outputs": [],
   "source": [
    "svm_pca_pred = svm_pca.predict(X_test)"
   ]
  },
  {
   "cell_type": "code",
   "execution_count": null,
   "id": "387e0148",
   "metadata": {},
   "outputs": [],
   "source": [
    "print(classification_report(y_test, svm_pca_pred, zero_division=1))\n",
    "\n",
    "svm_pca_pr = evaluate(svm_pca_pred, y_test)\n",
    "svm_pca_pr"
   ]
  },
  {
   "cell_type": "code",
   "execution_count": null,
   "id": "b7712878",
   "metadata": {},
   "outputs": [],
   "source": [
    "svm_pca_count = np.unique(svm_pca_pred, return_counts=True)\n",
    "svm_pca_count"
   ]
  },
  {
   "cell_type": "markdown",
   "id": "8a1f1259",
   "metadata": {},
   "source": [
    "### K Nearest Neighbors(KNN)"
   ]
  },
  {
   "cell_type": "code",
   "execution_count": null,
   "id": "d4726217",
   "metadata": {},
   "outputs": [],
   "source": [
    "knn_pca = KNeighborsClassifier(n_neighbors=2)\n",
    "knn_pca.fit(X_train, y_train)"
   ]
  },
  {
   "cell_type": "code",
   "execution_count": null,
   "id": "526e590f",
   "metadata": {},
   "outputs": [],
   "source": [
    "knn_pca_pred = knn_pca.predict(X_test)"
   ]
  },
  {
   "cell_type": "code",
   "execution_count": null,
   "id": "79bb769b",
   "metadata": {},
   "outputs": [],
   "source": [
    "print(classification_report(y_test, knn_pca_pred, zero_division=1))\n",
    "\n",
    "knn_pca_pr = evaluate(knn_pca_pred, y_test)\n",
    "knn_pca_pr"
   ]
  },
  {
   "cell_type": "code",
   "execution_count": null,
   "id": "7232e48e",
   "metadata": {},
   "outputs": [],
   "source": [
    "knn_pca_count = np.unique(knn_pca_pred, return_counts=True)\n",
    "knn_pca_count"
   ]
  },
  {
   "cell_type": "code",
   "execution_count": null,
   "id": "471f37e7",
   "metadata": {},
   "outputs": [],
   "source": [
    "pca_prediction_data={'Model': ['Decision Tree',\n",
    "                          'Random Forest',\n",
    "                          'Logistic Regression',\n",
    "                          'Naive Bayes',\n",
    "                          'SVM',\n",
    "                          'KNN'\n",
    "                         ],\n",
    "                   'F1-score': [dtree_pr['f1-score'],\n",
    "                              rf_pr['f1-score'],\n",
    "                              lr_pr['f1-score'],\n",
    "                              nb_pr['f1-score'],\n",
    "                              svm_pr['f1-score'],\n",
    "                              knn_pr['f1-score']\n",
    "                               ],\n",
    "                 \n",
    "                   'Accuracy': [dtree_pr['accuracy'],\n",
    "                              rf_pr['accuracy'],\n",
    "                              lr_pr['accuracy'],\n",
    "                              nb_pr['accuracy'],\n",
    "                              svm_pr['accuracy'],\n",
    "                              knn_pr['accuracy']\n",
    "                               ],\n",
    "                     \n",
    "         'F1-score after PCA':[dtree_pca_pr['f1-score'],\n",
    "                              rf_pca_pr['f1-score'],\n",
    "                              lr_pca_pr['f1-score'],\n",
    "                              nb_pca_pr['f1-score'],\n",
    "                              svm_pca_pr['f1-score'],\n",
    "                              knn_pca_pr['f1-score']\n",
    "                               ],\n",
    "                               \n",
    "         'Accuracy after PCA':[dtree_pca_pr['accuracy'],\n",
    "                              rf_pca_pr['accuracy'],\n",
    "                              lr_pca_pr['accuracy'],\n",
    "                              nb_pca_pr['accuracy'],\n",
    "                              svm_pca_pr['accuracy'],\n",
    "                              knn_pca_pr['accuracy']\n",
    "                              \n",
    "                              ]}\n",
    " \n",
    "# Create DataFrame\n",
    "prediction_table_all = pd.DataFrame(pca_prediction_data)\n",
    "prediction_table_all"
   ]
  },
  {
   "cell_type": "markdown",
   "id": "9996e772",
   "metadata": {},
   "source": [
    "All models showed the same or similar f1-scores and accuracy. Reducing the dimensions of the data using PCA did not improve the results."
   ]
  },
  {
   "cell_type": "code",
   "execution_count": null,
   "id": "c78dc305",
   "metadata": {},
   "outputs": [],
   "source": [
    "prediction_pca_counts = {'Model': ['Decision Tree',\n",
    "                              'Random Forest',\n",
    "                              'Logistic Regression',\n",
    "                              'Naive Bayes',\n",
    "                              'SVM',\n",
    "                              'KNN'\n",
    "                              ],\n",
    "                     \n",
    "                    'Balnce [0 : 1]': [dtree_count[1],\n",
    "                              rf_count[1],\n",
    "                              lr_count[1],\n",
    "                              nb_count[1],\n",
    "                              svm_count[1],\n",
    "                              knn_count[1]\n",
    "                                      ],\n",
    "                     \n",
    "            'Balnce after PCA [0 : 1]': [dtree_pca_count[1],\n",
    "                              rf_pca_count[1],\n",
    "                              lr_pca_count[1],\n",
    "                              nb_pca_count[1],\n",
    "                              svm_pca_count[1],\n",
    "                              knn_pca_count[1]\n",
    "                                        ]\n",
    "                    }\n",
    "\n",
    "counts_table_all = pd.DataFrame(prediction_pca_counts)\n",
    "counts_table_all"
   ]
  },
  {
   "cell_type": "markdown",
   "id": "4111e5d6",
   "metadata": {},
   "source": [
    "After PCA, the Decision Tree Classifier model and K Nearest Neighbors improved slightly, and in the remaining cases, the imbalance is again visible. The Naive Bayes model shows a significant reduction in loan default prediction."
   ]
  },
  {
   "cell_type": "markdown",
   "id": "6d665814",
   "metadata": {},
   "source": [
    "## Choosing one model and fitting the parameters"
   ]
  },
  {
   "cell_type": "markdown",
   "id": "83dbcfb0",
   "metadata": {},
   "source": [
    "The Random Forest, Logistic Regression and the Support Vector Machine (SVM) seemed to be the best models with the highest F1-score and accuracy. The use of PCA on these models did not improve the results. All of these 3 models predicted that borrowers would always or almost always repay their loans (almost all predictions in y_pred were 1). Therefore, there was a choice between models: Decision Tree, Naive Bayes (before PCA) and K-NearestNeighbors(KNN). The K Nearest Neighbor (KNN) model was chosen as the final one for slightly better results - accuracy 0.78 and f1-score 0.88."
   ]
  },
  {
   "cell_type": "code",
   "execution_count": null,
   "id": "339b619f",
   "metadata": {},
   "outputs": [],
   "source": [
    "# Using standardized data from the previous KNN model (before PCA) and checking the shape\n",
    "\n",
    "print(X_scaled_train.shape)\n",
    "print(X_scaled_test.shape)\n",
    "print(y_scaled_train.shape)\n",
    "print(y_scaled_test.shape)"
   ]
  },
  {
   "cell_type": "code",
   "execution_count": null,
   "id": "e1cbd8e7",
   "metadata": {},
   "outputs": [],
   "source": [
    "# Searching for the best number of neighbors \n",
    "\n",
    "from sklearn.model_selection import cross_val_score\n",
    "\n",
    "k_values = [i for i in range (1,6)]\n",
    "scores = []\n",
    "\n",
    "X_scaled_train = scaler.fit_transform(X_scaled_train)\n",
    "\n",
    "for k in k_values:\n",
    "    knn_k = KNeighborsClassifier(n_neighbors=k)\n",
    "    score = cross_val_score(knn_k, X_scaled_train, y_scaled_train, cv=5)\n",
    "    scores.append(np.mean(score))\n",
    "    \n",
    "sns.lineplot(x = k_values, y = scores, marker = 'o')\n",
    "plt.xticks([1, 2, 3, 4, 5])\n",
    "plt.xlabel(\"K Values\")\n",
    "plt.ylabel(\"Accuracy Score\")\n"
   ]
  },
  {
   "cell_type": "code",
   "execution_count": null,
   "id": "6028a040",
   "metadata": {},
   "outputs": [],
   "source": [
    "acc_scores = pd.DataFrame({'n_neighbors': [1, 2, 3, 4, 5],\n",
    "                           \n",
    "                          'Accuracy': [scores[0],\n",
    "                                       scores[1],\n",
    "                                       scores[2],\n",
    "                                       scores[3],\n",
    "                                       scores[4],\n",
    "                                                                             \n",
    "                                      ]})\n",
    "\n",
    "acc_scores.style.hide_index()"
   ]
  },
  {
   "cell_type": "code",
   "execution_count": null,
   "id": "4680faa4",
   "metadata": {},
   "outputs": [],
   "source": [
    "# Gread Search Cross Validation for the best hyperparameters\n",
    "\n",
    "from sklearn.model_selection import GridSearchCV\n",
    "grid_params = { 'n_neighbors' : [1, 2, 3, 4, 5],\n",
    "               'weights' : ['uniform', 'distance'],\n",
    "               'metric' : ['minkowski','euclidean','manhattan']}\n",
    "\n",
    "gs = GridSearchCV(KNeighborsClassifier(), grid_params, cv=3, n_jobs = -1)"
   ]
  },
  {
   "cell_type": "code",
   "execution_count": null,
   "id": "8978949d",
   "metadata": {},
   "outputs": [],
   "source": [
    "# Fitting the model on the train set\n",
    "\n",
    "g_res = gs.fit(X_scaled_train, y_scaled_train)"
   ]
  },
  {
   "cell_type": "code",
   "execution_count": null,
   "id": "7eb693e0",
   "metadata": {},
   "outputs": [],
   "source": [
    "# Finding the best score\n",
    "\n",
    "g_res.best_score_"
   ]
  },
  {
   "cell_type": "code",
   "execution_count": null,
   "id": "f0e022e4",
   "metadata": {},
   "outputs": [],
   "source": [
    "g_res.best_params_"
   ]
  },
  {
   "cell_type": "code",
   "execution_count": null,
   "id": "c1605fad",
   "metadata": {},
   "outputs": [],
   "source": [
    "# Checking the data balance and confusion matrix\n",
    "\n",
    "knn_5 = KNeighborsClassifier(n_neighbors=5, metric='manhattan')\n",
    "knn_5.fit(X_scaled_train, y_scaled_train)"
   ]
  },
  {
   "cell_type": "code",
   "execution_count": null,
   "id": "bc01dd5a",
   "metadata": {},
   "outputs": [],
   "source": [
    "y_pred5 = knn_5.predict(X_scaled_test)\n",
    "count_y_pred5 = np.unique(y_pred5, return_counts=True)\n",
    "count_y_pred5"
   ]
  },
  {
   "cell_type": "code",
   "execution_count": null,
   "id": "03fee5bf",
   "metadata": {},
   "outputs": [],
   "source": [
    "matrix_k5 = confusion_matrix(y_scaled_test, y_pred5)\n",
    "matrix_k5"
   ]
  },
  {
   "cell_type": "markdown",
   "id": "90cf3126",
   "metadata": {},
   "source": [
    "The high accuracy of this model is due to the very large number of true positive predictions. It is likely that the model will show positive loan capacity in most applications, which will be unfavorable for the loan company."
   ]
  },
  {
   "cell_type": "code",
   "execution_count": null,
   "id": "d0a66c50",
   "metadata": {},
   "outputs": [],
   "source": [
    "knn_4 = KNeighborsClassifier(n_neighbors=4, metric='manhattan')\n",
    "knn_4.fit(X_scaled_train, y_scaled_train)"
   ]
  },
  {
   "cell_type": "code",
   "execution_count": null,
   "id": "ff4f9dd2",
   "metadata": {},
   "outputs": [],
   "source": [
    "y_pred4 = knn_4.predict(X_scaled_test)\n",
    "count_y_pred4 = np.unique(y_pred4, return_counts=True)\n",
    "count_y_pred4"
   ]
  },
  {
   "cell_type": "code",
   "execution_count": null,
   "id": "27e40a6e",
   "metadata": {},
   "outputs": [],
   "source": [
    "matrix_k4 = confusion_matrix(y_scaled_test, y_pred4)\n",
    "matrix_k4"
   ]
  },
  {
   "cell_type": "code",
   "execution_count": null,
   "id": "ceb94312",
   "metadata": {},
   "outputs": [],
   "source": [
    "knn_3 = KNeighborsClassifier(n_neighbors=3, metric='manhattan')\n",
    "knn_3.fit(X_scaled_train, y_scaled_train)"
   ]
  },
  {
   "cell_type": "code",
   "execution_count": null,
   "id": "ff4f1f5a",
   "metadata": {},
   "outputs": [],
   "source": [
    "y_pred3 = knn_3.predict(X_scaled_test)\n",
    "count_y_pred3 = np.unique(y_pred3, return_counts=True)\n",
    "count_y_pred3"
   ]
  },
  {
   "cell_type": "code",
   "execution_count": null,
   "id": "e16bdb52",
   "metadata": {},
   "outputs": [],
   "source": [
    "matrix_k3 = confusion_matrix(y_scaled_test, y_pred3)\n",
    "matrix_k3"
   ]
  },
  {
   "cell_type": "markdown",
   "id": "0430fc9b",
   "metadata": {},
   "source": [
    "For the model with 4 and 3 neighbors, the situation is similar to the model with 5 neighbors."
   ]
  },
  {
   "cell_type": "code",
   "execution_count": null,
   "id": "0a78fe42",
   "metadata": {},
   "outputs": [],
   "source": [
    "knn_2 = KNeighborsClassifier(n_neighbors=2, metric='manhattan')\n",
    "knn_2.fit(X_scaled_train, y_scaled_train)"
   ]
  },
  {
   "cell_type": "code",
   "execution_count": null,
   "id": "6b66c7aa",
   "metadata": {},
   "outputs": [],
   "source": [
    "y_pred2 = knn_2.predict(X_scaled_test)\n",
    "count_y_pred2 = np.unique(y_pred2, return_counts=True)\n",
    "count_y_pred2"
   ]
  },
  {
   "cell_type": "code",
   "execution_count": null,
   "id": "bf72e014",
   "metadata": {},
   "outputs": [],
   "source": [
    "matrix_k2 = confusion_matrix(y_scaled_test, y_pred2)\n",
    "matrix_k2"
   ]
  },
  {
   "cell_type": "code",
   "execution_count": null,
   "id": "03f03c92",
   "metadata": {},
   "outputs": [],
   "source": [
    "knn_1 = KNeighborsClassifier(n_neighbors=1, metric='manhattan')\n",
    "knn_1 = knn_1.fit(X_scaled_train, y_scaled_train)"
   ]
  },
  {
   "cell_type": "code",
   "execution_count": null,
   "id": "2b31d5b5",
   "metadata": {},
   "outputs": [],
   "source": [
    "y_pred1 = knn_1.predict(X_scaled_test)\n",
    "count_y_pred1 = np.unique(y_pred1, return_counts=True)\n",
    "count_y_pred1"
   ]
  },
  {
   "cell_type": "code",
   "execution_count": null,
   "id": "b7514c72",
   "metadata": {},
   "outputs": [],
   "source": [
    "matrix_k1 = confusion_matrix(y_scaled_test, y_pred1)\n",
    "matrix_k1"
   ]
  },
  {
   "cell_type": "code",
   "execution_count": null,
   "id": "7df57a82",
   "metadata": {},
   "outputs": [],
   "source": [
    "print(classification_report(y_scaled_test, y_pred1, zero_division=1))\n",
    "\n",
    "knn_1_pr = evaluate(y_pred1, y_scaled_test)\n",
    "knn_1_pr"
   ]
  },
  {
   "cell_type": "markdown",
   "id": "b0b8c46c",
   "metadata": {},
   "source": [
    "For n_neighbors = 2 are more true negative (TN) answers and fewer true positive (TP) answers than for n_neighbors = 1. For n_neighbors = 2 the accuracy and f1_score were 0.72 and 0.83 and for n_neighbors = 1 the scores were 0.79 and 0.88 respectively. The KNN model with 1 neighbor was chosen as the final one after hyperparameters tuning."
   ]
  },
  {
   "cell_type": "code",
   "execution_count": null,
   "id": "b8c77186",
   "metadata": {},
   "outputs": [],
   "source": [
    "y_proba = knn.predict_proba(X_scaled_test)[:, 1]\n",
    "y_proba"
   ]
  },
  {
   "cell_type": "code",
   "execution_count": null,
   "id": "c7c80402",
   "metadata": {},
   "outputs": [],
   "source": [
    "# Ploting the roc_curve and calculating the roc_auc_score\n",
    "\n",
    "from sklearn.metrics import roc_curve\n",
    "from sklearn.metrics import roc_auc_score\n",
    "\n",
    "rp_auc = roc_auc_score(y_scaled_test, y_pred1)\n",
    "rf_auc = roc_auc_score(y_scaled_test, y_proba)\n",
    "\n",
    "# Summarizing scores\n",
    "print('Random prediction: ROC AUC=%.3f' % (rp_auc))\n",
    "print('KNN model: ROC AUC=%.3f' % (rf_auc))\n",
    "\n",
    "# Calculating roc curves\n",
    "rp_fpr, rp_tpr, _ = roc_curve(y_scaled_test, y_pred1)\n",
    "rf_fpr, rf_tpr, _ = roc_curve(y_scaled_test, y_proba)\n",
    "\n",
    "# Ploting the roc curve for the model\n",
    "plt.figure(figsize=(12,8))\n",
    "plt.plot(rp_fpr, rp_tpr, linestyle='--', label='Random prediction')\n",
    "plt.plot(rf_fpr, rf_tpr, marker='.', label='KNN model')\n",
    "plt.xlabel('False Positive Rate')\n",
    "plt.ylabel('True Positive Rate')\n",
    "plt.legend()\n",
    "plt.show()"
   ]
  },
  {
   "cell_type": "markdown",
   "id": "1e7afb37",
   "metadata": {},
   "source": [
    "## Prediction using the K Nearest Neighbors (KNN)"
   ]
  },
  {
   "cell_type": "code",
   "execution_count": null,
   "id": "3c4cff62",
   "metadata": {},
   "outputs": [],
   "source": [
    "# Prediction of first 20 values\n",
    "\n",
    "print('Predicted values:', y_pred1[0:20])\n",
    "print('Real values: \\n', y_scaled_test[:20]) "
   ]
  },
  {
   "cell_type": "code",
   "execution_count": null,
   "id": "b204b13e",
   "metadata": {},
   "outputs": [],
   "source": [
    "print('Well-predicted values in testing:', (y_scaled_test == y_pred1).sum())\n",
    "print('All values in testing part:', y_scaled_test.shape[0])\n",
    "print()\n",
    "print('Accuracy = Well-predicted values in testing part/ All values in testing part:', ((y_scaled_test == y_pred1).sum() / y_scaled_test.shape[0]).round(4))\n",
    "print()\n",
    "print('Accuracy with sklearn:', knn_1.score(X_scaled_test, y_scaled_test).round(4))"
   ]
  },
  {
   "cell_type": "markdown",
   "id": "e9d6bb98",
   "metadata": {},
   "source": [
    "## Trying out the model on selected data"
   ]
  },
  {
   "cell_type": "code",
   "execution_count": null,
   "id": "ae7dbd09",
   "metadata": {},
   "outputs": [],
   "source": [
    "# Correlation between loan_status and other features\n",
    "\n",
    "df[df.columns[0:]].corr()['loan_status'][:].sort_values(key=abs, ascending=False)"
   ]
  },
  {
   "cell_type": "code",
   "execution_count": null,
   "id": "74cff9b3",
   "metadata": {},
   "outputs": [],
   "source": [
    "# Selection of variables to test the model (based not on the correlation with loan_status)\n",
    "\n",
    "new_X = df[['int_rate', 'sub_grade', 'term', 'fico_score', 'loan_amnt']].values\n",
    "new_y = y"
   ]
  },
  {
   "cell_type": "code",
   "execution_count": null,
   "id": "fd4124e9",
   "metadata": {},
   "outputs": [],
   "source": [
    "knn_1.fit(new_X, new_y)"
   ]
  },
  {
   "cell_type": "code",
   "execution_count": null,
   "id": "ed38af52",
   "metadata": {},
   "outputs": [],
   "source": [
    "y_pred_new = knn_1.predict(new_X)"
   ]
  },
  {
   "cell_type": "code",
   "execution_count": null,
   "id": "f5f30fea",
   "metadata": {},
   "outputs": [],
   "source": [
    "print(new_y[:20].values)\n",
    "print(y_pred_new[:20])"
   ]
  },
  {
   "cell_type": "code",
   "execution_count": null,
   "id": "31ffdb22",
   "metadata": {},
   "outputs": [],
   "source": [
    "knn_new_count = np.unique(y_pred_new, return_counts=True)\n",
    "knn_new_count"
   ]
  },
  {
   "cell_type": "code",
   "execution_count": null,
   "id": "61f0ba8a",
   "metadata": {},
   "outputs": [],
   "source": [
    "matrix_new = confusion_matrix(new_y, y_pred_new)\n",
    "matrix_new"
   ]
  },
  {
   "cell_type": "code",
   "execution_count": null,
   "id": "76afbc64",
   "metadata": {},
   "outputs": [],
   "source": [
    "print(classification_report(new_y, y_pred_new, zero_division=1))\n",
    "\n",
    "knn_new_pr = evaluate(y_pred_new, new_y)\n",
    "knn_new_pr"
   ]
  },
  {
   "cell_type": "code",
   "execution_count": null,
   "id": "1050ddce",
   "metadata": {},
   "outputs": [],
   "source": [
    "# Enter the appropriate values to predict the probability that the loan will be repaid:\n",
    "\n",
    "int_rate = float(input('Interest Rate on the loan: (5 - 25): '))\n",
    "sub_grade = int(input('LC assigned loan subgrade (1 - 7 / 1: best): '))\n",
    "term = int(input('The number of payments on the loan (36 or 60 months): '))\n",
    "fico_score = int(input('FICO score (500 - 850): '))\n",
    "loan_amnt = float(input('The listed amount of the loan applied for by the borrower (500 - 35000): '))"
   ]
  },
  {
   "cell_type": "code",
   "execution_count": null,
   "id": "c745b3d7",
   "metadata": {},
   "outputs": [],
   "source": [
    "# Predicting whether the customer will pay off the loan (0 - No or 1 - Yes)\n",
    "\n",
    "print(knn_1.predict([[int_rate, sub_grade, term, fico_score, loan_amnt]]))"
   ]
  },
  {
   "cell_type": "markdown",
   "id": "35afd1ff",
   "metadata": {},
   "source": [
    "# Conclusion"
   ]
  },
  {
   "cell_type": "markdown",
   "id": "0d1bb651",
   "metadata": {},
   "source": [
    "The project, which concerns predicting whether Lending Club clients will pay off their loans, has been divided into 4 parts: Data Processing, Exploratory Data Analysis, Feature Engineering, and Modeling. After a thorough cleaning of the data and the introduction of new ones, machine learning models were implemented. Six of them were tested: Decision Tree, Logistic Regression, Random Forest, Naive Bayes, Support Vector Machine (SVM), and K-Nearest Neighbors (KNN). The three models gave similar accuracy and f1-score results (Random Forest, Logistic Regression and Support Vector Machine). Based on the prepared data, the these 3 models predicted that the vast majority of the potential borrowers would repay their loan. Such a solution would be useless for the lending company. The three other models showed similar results. Finally, the K Nearest Neighbors model (the best model) was used to predict whether borrowers would be able to repay their loans. The dependent variables correlated with the target (loan_status) were selected and the K Nearest Neighbors model was built only with them. By manually entering the selected 5 variables mentioned above, the model predicts whether the new borrower will be able to repay the loan or not."
   ]
  }
 ],
 "metadata": {
  "kernelspec": {
   "display_name": "Python 3 (ipykernel)",
   "language": "python",
   "name": "python3"
  },
  "language_info": {
   "codemirror_mode": {
    "name": "ipython",
    "version": 3
   },
   "file_extension": ".py",
   "mimetype": "text/x-python",
   "name": "python",
   "nbconvert_exporter": "python",
   "pygments_lexer": "ipython3",
   "version": "3.9.13"
  }
 },
 "nbformat": 4,
 "nbformat_minor": 5
}
